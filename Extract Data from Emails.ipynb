{
 "cells": [
  {
   "cell_type": "markdown",
   "metadata": {},
   "source": [
    "## Extract Data from Emails\n",
    "Extract information from emails using regex or other applicable methods."
   ]
  },
  {
   "cell_type": "markdown",
   "metadata": {},
   "source": [
    "### A. Win32\n",
    "Extract directly from Outlook."
   ]
  },
  {
   "cell_type": "markdown",
   "metadata": {},
   "source": [
    "#### 1. Import Libraries"
   ]
  },
  {
   "cell_type": "code",
   "execution_count": 145,
   "metadata": {
    "collapsed": true
   },
   "outputs": [],
   "source": [
    "import pandas as pd\n",
    "import numpy as np\n",
    "import os\n",
    "import shutil\n",
    "import win32com.client\n",
    "import re\n",
    "import time\n",
    "import dateutil.parser\n",
    "from dateutil import parser\n",
    "from dateutil import relativedelta\n",
    "from datetime import datetime\n",
    "from pandas import ExcelWriter\n",
    "from pandas import ExcelFile"
   ]
  },
  {
   "cell_type": "markdown",
   "metadata": {},
   "source": [
    "#### 2. Initiate"
   ]
  },
  {
   "cell_type": "code",
   "execution_count": 2,
   "metadata": {},
   "outputs": [],
   "source": [
    "# Set Outlook settings to retrieve messages from main inbox.\n",
    "outlook = win32com.client.Dispatch(\"Outlook.Application\").GetNamespace(\"MAPI\")\n",
    "inbox = outlook.GetDefaultFolder(6) \n",
    "messages = inbox.Items\n",
    "\n",
    "# Set initial lists, dataframes and file path.\n",
    "submission = []\n",
    "df_preval = pd.DataFrame()\n",
    "df_error = pd.DataFrame()\n",
    "df_cert = pd.DataFrame()"
   ]
  },
  {
   "cell_type": "markdown",
   "metadata": {},
   "source": [
    "#### 3. Loop and Set\n",
    "Loop through and identify D2-related messages and set parameters and values for:\n",
    "- File submissions\n",
    "- Pre-validation errors\n",
    "- D2 error reports\n",
    "- D2 certifications"
   ]
  },
  {
   "cell_type": "code",
   "execution_count": 3,
   "metadata": {},
   "outputs": [],
   "source": [
    "# Loop through each message and filter accordingly.\n",
    "for m in messages: \n",
    "    #Extract date.\n",
    "    date = m.CreationTime.strftime('%Y-%m-%d %H:%M:%S')\n",
    "    date = dateutil.parser.parse(date)\n",
    "    \n",
    "    # Retrieve file submission messages.\n",
    "    if m.Subject == 'Data Act File Submission' and m.SenderName == 'OCFO - FMMI BI TEAM' or m.Subject == 'Data Act File Submission' and m.SenderName == 'FMMIBITEAM@cfo.usda.gov':\n",
    "        # Set file name, date received and agency.\n",
    "        date_submission = date\n",
    "        submission_file_name = re.search(r'file (.*?) has', m.Body).group(1)\n",
    "        agency = ''\n",
    "        \n",
    "        # Retrieve agency codes and set agency names.\n",
    "        if ('D2_' in submission_file_name) or ('AC_' in submission_file_name):\n",
    "            agency_code = re.search(r'_(.*?)_', m.Body).group(1)\n",
    "            if agency_code == 'AM00':\n",
    "                agency = 'Agricultural Marketing Service'\n",
    "            elif agency_code == 'AO00':\n",
    "                agency = 'Office of Advocacy and Outreach'\n",
    "            elif agency_code == 'AP00':\n",
    "                agency = 'Animal and Plant Health Inspection Service'\n",
    "            elif agency_code == 'AP02':\n",
    "                agency = 'Federal Shared Service Provider'\n",
    "            elif agency_code == 'AR00':\n",
    "                agency = 'Agricultural Research Service'\n",
    "            elif agency_code == 'EC00':\n",
    "                agency = 'Office of the Chief Economist'\n",
    "            elif agency_code == 'ER00':\n",
    "                agency = 'Economic Research Service'\n",
    "            elif agency_code == 'FA00':\n",
    "                agency = 'Farm Service Agency'\n",
    "            elif agency_code == 'FI00':\n",
    "                agency = 'Food Safety and Inspection Service'\n",
    "            elif agency_code == 'FN00':\n",
    "                agency = 'Food and Nutrition Service'\n",
    "            elif agency_code == 'FS00':\n",
    "                agency = 'Forest Service'\n",
    "            elif agency_code == 'FX00':\n",
    "                agency = 'Foreign Agricultural Service'\n",
    "            elif agency_code == 'NI00':\n",
    "                agency = 'National Institute of Food and Agriculture'\n",
    "            elif agency_code == 'NR00':\n",
    "                agency = 'Natural Resources Conservation Service '\n",
    "            elif agency_code == 'RD00':\n",
    "                agency = 'Rural Development'\n",
    "            elif agency_code == 'RM00':\n",
    "                agency = 'Risk Management Agency'\n",
    "        else:\n",
    "            agency_code = ''\n",
    "        \n",
    "        # Append all records to submission list.\n",
    "        submission.append({'File Submission Notification Date': date_submission,'File Name': submission_file_name, 'Agency Code': agency_code, 'Agency Name': agency})\n",
    "    \n",
    "    # Retrieve pre-validation error messages.\n",
    "    if m.Subject == 'DATA ACT D2 FILE SUBMISSION - PRE-VALIDATION ERROR' and  m.SenderName == 'BEREMOTE' or m.Subject == 'FW: DATA ACT D2 FILE SUBMISSION - PRE-VALIDATION ERROR' and m.SenderName == 'Doe, John - OCFO, Washington, DC':\n",
    "        # Set date based on email receipt, i.e., directly or forwarded.\n",
    "        if m.Subject == 'DATA ACT D2 FILE SUBMISSION - PRE-VALIDATION ERROR' and m.SenderName == 'BEREMOTE':\n",
    "            date_preval = date\n",
    "        else:\n",
    "            # Extract the sent date from the body of the forwarded email.\n",
    "            date_preval_text = re.search(r'day, (.*?)\\n', m.Body).group(1)\n",
    "            # Split at \"(\" for date formats containing (UTC)...\n",
    "            date_preval_text = date_preval_text.split(' (')[0]\n",
    "            # Convert date string to date-time.\n",
    "            date_preval = parser.parse(date_preval_text)\n",
    "        \n",
    "        # Set filename and filepath and save to current directory.\n",
    "        attachment = m.Attachments.Item(1)\n",
    "        preval_attachment = attachment.FileName\n",
    "        attachment.SaveAsFile(os.getcwd() + '\\\\' + preval_attachment)\n",
    "        preval_file_name = preval_attachment[:-10]\n",
    "        \n",
    "        # Open text file with utf8 to prevent encoding errors. \n",
    "        with open (preval_attachment, 'rt', encoding='utf8') as txt_file:\n",
    "            preval_content = txt_file.read()\n",
    "            # Count instances of 'Error on line' in the text file.\n",
    "            preval_count = len(re.findall(r'Error on line:', preval_content, re.IGNORECASE))\n",
    "        \n",
    "        #Convert to dataframe and set index=[0] to prevent scalar value error.\n",
    "        preval_report = pd.DataFrame({'File Name': preval_file_name, 'Pre-Validation Error Count': preval_count, 'Pre-Validation Notification Date': date_preval}, index=[0])\n",
    "        # Append all dataframes created by the for loop.\n",
    "        df_preval = df_preval.append(preval_report)\n",
    "        # Delete file from current directory.\n",
    "        os.remove(preval_attachment)\n",
    "    \n",
    "    # Retrieve D2 error report messages. Set additional condition 'and len(re.findall...)==1' to filter out replies to forwarded messages.\n",
    "    if 'Data Act D2 Error Report' in m.Subject and m.SenderName == 'OCFO - FMMI BI TEAM' or 'FW: Data Act D2 Error Report' in m.Subject and m.SenderName == 'Doe, John - OCFO, Washington, DC' and len(re.findall(r'From:', m.Body)) == 1:\n",
    "        # Extract the reporting period date from the email body and convert to date time format.\n",
    "        date_error_text = re.search(r'period (.*?)\\.', m.Body).group(1)\n",
    "        date_error_replace = date_error_text.replace('-','')\n",
    "        date_error = datetime.strptime(date_error_replace, '%Y%m%d%H%M%S')\n",
    "        \n",
    "        # Set filename and filepath and save to current directory.\n",
    "        attachment = m.Attachments.Item(1)\n",
    "        error_attachment = attachment.FileName\n",
    "        attachment.SaveAsFile(os.getcwd() + '\\\\' + error_attachment)\n",
    "        \n",
    "        # Read into dataframe, locate source file name column, and get value count. \n",
    "        error_file = pd.read_excel(error_attachment, sheetname='D2_Error_Records')\n",
    "        error_file_filter = error_file.loc[:,'Source File Name'].value_counts()\n",
    "        \n",
    "        # Convert index (i.e., filename) and value (i.e., count) to list.\n",
    "        error_file_names = error_file_filter.index.tolist()\n",
    "        error_count = error_file_filter.values.tolist()\n",
    "        \n",
    "        # List comprehension to assign reporting period date to each record.\n",
    "        error_report_period = [date_error for f in error_file_names]\n",
    "        # Convert to dataframe.\n",
    "        error_report = pd.DataFrame({'File Name': error_file_names, 'D2 Error Count': error_count,'D2 Error Reporting Period': error_report_period})\n",
    "        # Append all dataframes created by the for loop.\n",
    "        df_error = df_error.append(error_report)\n",
    "        # Delete file from current directory.\n",
    "        os.remove(error_attachment)\n",
    "        \n",
    "    # Retrieve D2 certification messages. Set additional condition 'and len(re.findall...)==1' to filter out replies to forwarded messages.\n",
    "    if 'DATA ACT D2 CERTIFICATION Report' in m.Subject and m.SenderName == 'OCFO - FMMI BI TEAM' or 'FW: DATA ACT D2 CERTIFICATION Report' in m.Subject and m.SenderName == 'Doe,  John - OCFO, Washington, DC' and len(re.findall(r'From:', m.Body)) == 1:        \n",
    "        # Extract the reporting period date from the email body and convert to date time format.\n",
    "        date_cert_text = re.search(r'period (.*?)\\.', m.Body).group(1)\n",
    "        date_cert_replace = date_cert_text.replace('-','')\n",
    "        date_cert = datetime.strptime(date_cert_replace, '%Y%m%d%H%M%S')\n",
    "        \n",
    "        # Set filename and filepath and save to current directory. \n",
    "        attachment = m.Attachments.Item(1)\n",
    "        cert_attachment = attachment.FileName\n",
    "        attachment.SaveAsFile(os.getcwd() + '\\\\' + cert_attachment)\n",
    "        \n",
    "        # Read into dataframe, locate source file name column, and get value count. \n",
    "        cert_file = pd.read_excel(cert_attachment, sheetname='DATA ACT D2 CERTIFICATION REPOR')\n",
    "        cert_file_filter = cert_file.loc[:,'Source File Name'].value_counts()\n",
    "        \n",
    "        # Convert index (i.e., filename) and value (i.e., count) to list.\n",
    "        cert_file_names = cert_file_filter.index.tolist()\n",
    "        cert_count = cert_file_filter.values.tolist()\n",
    "        \n",
    "        # List comprehension to assign reporting period date to each record.\n",
    "        cert_report_period = [date_cert for f in cert_file_names]\n",
    "        # Convert to dataframe.\n",
    "        cert_report = pd.DataFrame({'File Name': cert_file_names, 'D2 Certification Count': cert_count,'D2 Cert Reporting Period': cert_report_period})  \n",
    "        # Append all dataframes created by the for loop.\n",
    "        df_cert = df_cert.append(cert_report)\n",
    "        # Delete file from current directory.\n",
    "        os.remove(cert_attachment)"
   ]
  },
  {
   "cell_type": "markdown",
   "metadata": {},
   "source": [
    "#### 4. Dataframe"
   ]
  },
  {
   "cell_type": "code",
   "execution_count": 4,
   "metadata": {},
   "outputs": [],
   "source": [
    "# Convert submission list to dataframe.\n",
    "df_submission = pd.DataFrame(submission)\n",
    "\n",
    "# Rearrange columns.\n",
    "df_submission = df_submission[['File Submission Notification Date', 'Agency Code', 'Agency Name', 'File Name']]\n",
    "df_cert = df_cert[['File Name', 'D2 Certification Count', 'D2 Cert Reporting Period']]\n",
    "\n",
    "# Sort dataframes by descending date and reset indices as applicable.\n",
    "df_submission = df_submission.sort_values(by=['File Submission Notification Date'], ascending=False)\n",
    "df_preval = df_preval.sort_values(by=['Pre-Validation Notification Date'], ascending=False).reset_index(drop=True)\n",
    "df_error = df_error.sort_values(by=['D2 Error Reporting Period'], ascending=False).reset_index(drop=True)\n",
    "df_cert = df_cert.sort_values(by=['D2 Cert Reporting Period'], ascending=False).reset_index(drop=True)\n",
    "\n",
    "# Drop duplicates (based on filename) and keep first instance (i.e., most recent based on sort).\n",
    "df_submission = df_submission.drop_duplicates(subset=['File Name'], keep='first')\n",
    "df_preval = df_preval.drop_duplicates(subset=['File Name'], keep='first')\n",
    "df_error = df_error.drop_duplicates(subset=['File Name'], keep='first')\n",
    "df_cert = df_cert.drop_duplicates(subset=['File Name'], keep='first')\n",
    "\n",
    "# Merge dataframes on filename\n",
    "df_combined1 = pd.merge(df_submission, df_preval, how='outer', on='File Name').fillna('')\n",
    "df_combined2 = pd.merge(df_combined1, df_error, how='outer', on='File Name').fillna('')\n",
    "df_combined_final = pd.merge(df_combined2, df_cert, how='outer', on='File Name').fillna('')"
   ]
  },
  {
   "cell_type": "markdown",
   "metadata": {},
   "source": [
    "#### 5. CSV File"
   ]
  },
  {
   "cell_type": "code",
   "execution_count": 6,
   "metadata": {},
   "outputs": [],
   "source": [
    "# Create a csv file in the target directory.\n",
    "timestr = time.strftime('%m_%d_%Y')\n",
    "dest_path = r'\\\\wdcnetapp01\\\\CFOData$\\\\Data\\\\TARD\\\\DATA Act\\\\DATA Act D2 Error-Certs Files\\\\'\n",
    "# Set the filename with a time stamp.\n",
    "file_name = 'D2_Files_Tracking_Report_'+ timestr + '.csv'\n",
    "df_combined_final.to_csv(dest_path + file_name, index=False)"
   ]
  },
  {
   "cell_type": "markdown",
   "metadata": {},
   "source": [
    "#### 6. Folder Clean Up"
   ]
  },
  {
   "cell_type": "code",
   "execution_count": 159,
   "metadata": {},
   "outputs": [],
   "source": [
    "# Delete files in the destination folder older than three months.\n",
    "# Loop through each file.\n",
    "today = date.today()\n",
    "for file in os.listdir(dest_path):\n",
    "    # Set file path.\n",
    "    file_path = os.path.join(dest_path, file)\n",
    "    # Extract the date from the file's name.\n",
    "    date_file_text = re.search(r'Report_(.*?).csv', file)\n",
    "    \n",
    "    # Use conditonal to prevent errors from non-matching files. \n",
    "    if date_file_text != None:\n",
    "        # Extract the date string from the match object.\n",
    "        date_file = date_file_text.group(1)\n",
    "        # Convert string to date time.\n",
    "        date_file = datetime.strptime(date_file, '%m_%d_%Y')\n",
    "        \n",
    "        # Get difference between today and file's date.\n",
    "        date_diff = relativedelta.relativedelta(today, date_file)\n",
    "        months = date_diff.months\n",
    "        days = date_diff.days\n",
    "        \n",
    "        # Conditional to delete files older than three months.\n",
    "        if months == 3 and days > 0:\n",
    "            os.unlink(file_path)"
   ]
  },
  {
   "cell_type": "markdown",
   "metadata": {},
   "source": [
    "#### 7. Notes"
   ]
  },
  {
   "cell_type": "code",
   "execution_count": 7,
   "metadata": {
    "collapsed": true
   },
   "outputs": [],
   "source": [
    "'''\n",
    "# To create a copy of the file in a different directory:\n",
    "shutil.copyfile(source path + file name, destination path + file name)\n",
    "'''"
   ]
  },
  {
   "cell_type": "code",
   "execution_count": 8,
   "metadata": {
    "collapsed": true
   },
   "outputs": [],
   "source": [
    "'''\n",
    "# To create an Excel file:\n",
    "writer = pd.ExcelWriter('file name.xlsx', engine='xlsxwriter')\n",
    "df_combined_final.to_excel(writer, 'Sheet1', index=False)\n",
    "writer.save()\n",
    "'''"
   ]
  },
  {
   "cell_type": "markdown",
   "metadata": {},
   "source": [
    "To execute code on a schedule, convert to a py file and run through Windows Task Scheduler."
   ]
  },
  {
   "cell_type": "markdown",
   "metadata": {},
   "source": [
    "### B. ExtractMsg\n",
    "\n",
    "Extract information from emails saved to a drive/folder. See https://github.com/mattgwwalker/msg-extractor."
   ]
  },
  {
   "cell_type": "code",
   "execution_count": 9,
   "metadata": {
    "collapsed": true
   },
   "outputs": [],
   "source": [
    "'''\n",
    "import ExtractMsg\n",
    "msg = ExtractMsg.Message('message_subject.msg')\n",
    "print(msg.sender)\n",
    "print(msg.date)\n",
    "print(msg.body)\n",
    "'''"
   ]
  },
  {
   "cell_type": "code",
   "execution_count": null,
   "metadata": {
    "collapsed": true
   },
   "outputs": [],
   "source": []
  }
 ],
 "metadata": {
  "kernelspec": {
   "display_name": "Python 3",
   "language": "python",
   "name": "python3"
  },
  "language_info": {
   "codemirror_mode": {
    "name": "ipython",
    "version": 3
   },
   "file_extension": ".py",
   "mimetype": "text/x-python",
   "name": "python",
   "nbconvert_exporter": "python",
   "pygments_lexer": "ipython3",
   "version": "3.6.4"
  }
 },
 "nbformat": 4,
 "nbformat_minor": 2
}
