{
 "cells": [
  {
   "cell_type": "markdown",
   "metadata": {},
   "source": [
    "## Download and Analyze Data Extracts from Websites\n",
    "### Tasks:\n",
    "-  Extract and unzip files from websites.\n",
    "-  Open and read using applicable parameters.\n",
    "-  Convert to dataframes for analysis.\n",
    "-  Summarize with pivot tables.\n",
    "-  Save data to a spreadsheet.\n",
    "-  Create visualizations in Plotly.\n",
    "-  Upload resulting files to SharePoint."
   ]
  },
  {
   "cell_type": "markdown",
   "metadata": {},
   "source": [
    "### 1. Import Modules\n",
    "Import the required modules for processing and analysis."
   ]
  },
  {
   "cell_type": "code",
   "execution_count": 1,
   "metadata": {},
   "outputs": [],
   "source": [
    "import urllib.request\n",
    "import zipfile\n",
    "import os\n",
    "import re\n",
    "import numpy as np\n",
    "import pandas as pd\n",
    "import time\n",
    "from datetime import date, timedelta\n",
    "from pandas import ExcelWriter\n",
    "from pandas import ExcelFile\n",
    "from itertools import cycle\n",
    "from plotly import tools\n",
    "import plotly.offline as pyo\n",
    "import plotly.graph_objs as go\n",
    "from plotly.offline import init_notebook_mode, iplot\n",
    "from plotly.graph_objs import *"
   ]
  },
  {
   "cell_type": "markdown",
   "metadata": {},
   "source": [
    "### 2. Download and Extract\n",
    "\n",
    "Download and extract the files from the applicable websites."
   ]
  },
  {
   "cell_type": "markdown",
   "metadata": {},
   "source": [
    "#### a. Single Audit"
   ]
  },
  {
   "cell_type": "code",
   "execution_count": 2,
   "metadata": {},
   "outputs": [],
   "source": [
    "# Set the url from which the zip file will be downloaded from.\n",
    "url_sa = 'https://www2.census.gov/pub/outgoing/govs/singleaudit//allfac.zip'\n",
    "# Save the zip file to the current directory.\n",
    "urllib.request.urlretrieve(url_sa, 'allfac.zip')\n",
    "\n",
    "# Extract the txt files to the current directory.\n",
    "zip_ref = zipfile.ZipFile(os.getcwd() + '\\\\allfac.zip', 'r')\n",
    "zip_ref.extractall()\n",
    "zip_ref.close()"
   ]
  },
  {
   "cell_type": "markdown",
   "metadata": {},
   "source": [
    "#### b. Assistance Listings "
   ]
  },
  {
   "cell_type": "code",
   "execution_count": 3,
   "metadata": {},
   "outputs": [],
   "source": [
    "# Retrieve the latest assistance listings data and save to the current directory.\n",
    "url_al = 'https://s3.amazonaws.com/falextracts/Assistance%20Listings/datagov/AssistanceListings_DataGov_PUBLIC_CURRENT.csv'\n",
    "urllib.request.urlretrieve(url_al, 'assistance_listings.csv')\n",
    "\n",
    "# Read into a dataframe.\n",
    "# Specify the encoding parameter to avoid UnicodeDecodeError: 'utf-8' error.\n",
    "df_al = pd.read_csv('assistance_listings.csv', encoding='iso8859_2')"
   ]
  },
  {
   "cell_type": "markdown",
   "metadata": {},
   "source": [
    "### 3. Open and Read\n",
    "For comparison, two methods to open and read the files are shown: The first utilizes a dictionary and a for loop that searches through the files in the directory; the second creates a function and calls the function on each file. "
   ]
  },
  {
   "cell_type": "markdown",
   "metadata": {},
   "source": [
    "#### a. Dictionary"
   ]
  },
  {
   "cell_type": "code",
   "execution_count": 4,
   "metadata": {},
   "outputs": [],
   "source": [
    "# List comprehension to create a list of txt files.\n",
    "txt_files = [file for file in os.listdir() if '.txt' in file]\n",
    "# Sort the list to ensure correct variable assignemnt when called to function.\n",
    "# Sort creates a copy, therefore, reassigning is unncessary.\n",
    "txt_files.sort()\n",
    "# Set the dictionary.\n",
    "file_col={}\n",
    "# Loop through the files in the current directory.\n",
    "for file in txt_files:\n",
    "    # Determine the file's actual number of columns, which will be used as a parameter for reading the file.\n",
    "    # Open the txt file.\n",
    "    open_file = open(file, 'r')\n",
    "    # Read the first line (i.e., header).\n",
    "    first_line = open_file.readline()\n",
    "    # Split at the delimiter (i.e., comma) and count the number of elements, effectively the number of columns.\n",
    "    num_col = len(first_line.split(','))\n",
    "    # Set the key-value pair for each file and corresponding number of columns.\n",
    "    file_col[file] = num_col\n",
    "\n",
    "# Loop through the file_col dictionary.\n",
    "# Create another dictionary to store files when read.\n",
    "# To access the file, use the format: files['file_name.txt']\n",
    "files={}\n",
    "for file,col in file_col.items():\n",
    "    # Specify the names parameter to the actual number of columns to avoid tokenizing data error, i.e., when data is being read in columns beyond the actual.\n",
    "    # Specify the encoding parameter to avoid UnicodeDecodeError: 'utf-8' error.\n",
    "    # Specify the quoting parameter to avoid ParserError: Error tokenizing data.\n",
    "    # Specify the low_memory parameter to avoid DtypeWarning.\n",
    "    read_file = pd.read_csv(file, names=list(range(0,col)), encoding='iso8859_2', quoting=3, low_memory=False)\n",
    "    # The names parameter from the preceding step creates the specified range as the column names, and sets the actual column names as the first row.\n",
    "    # Reassign the first row as the column names.\n",
    "    read_file.columns = read_file.iloc[0]\n",
    "    # Drop the column names as the first row of data.\n",
    "    read_file = read_file.reindex(read_file.index.drop(0))\n",
    "    # Remove whitespace from object data type columns and assign final file to dictionary.\n",
    "    files[file] = read_file.apply(lambda x: x.str.strip() if x.dtype == \"object\" else x)"
   ]
  },
  {
   "cell_type": "markdown",
   "metadata": {},
   "source": [
    "#### b. Function"
   ]
  },
  {
   "cell_type": "code",
   "execution_count": 5,
   "metadata": {},
   "outputs": [],
   "source": [
    "# Define the function. Utilize the code from the preceding section.\n",
    "def open_file(file):\n",
    "    open_file = open(file, 'r')\n",
    "    first_line = open_file.readline()\n",
    "    num_col = len(first_line.split(','))\n",
    "    read_file = pd.read_csv(file, names=list(range(0,num_col)), encoding='iso8859_2', quoting=3, low_memory=False)\n",
    "    read_file.columns = read_file.iloc[0]\n",
    "    read_file.columns = read_file.columns.str.strip()\n",
    "    read_file = read_file.reindex(read_file.index.drop(0))\n",
    "    return read_file.apply(lambda x: x.str.strip() if x.dtype == \"object\" else x)\n",
    "\n",
    "# Call the function on all the files and assign to variables.\n",
    "# Variables are arranged alphabetically to match with the sorted txt_files list.\n",
    "agency,cfda,cpas,duns,eins,findings,general,passthrough = map(open_file, txt_files)"
   ]
  },
  {
   "cell_type": "markdown",
   "metadata": {},
   "source": [
    "### 4. Data Cleaning and Analysis \n",
    "Analyze the data and create the applicable dataframes."
   ]
  },
  {
   "cell_type": "markdown",
   "metadata": {},
   "source": [
    "#### a. Single Audit"
   ]
  },
  {
   "cell_type": "code",
   "execution_count": 6,
   "metadata": {},
   "outputs": [],
   "source": [
    "# General file\n",
    "# Convert applicable column to date format.\n",
    "general['FACACCEPTEDDATE'] = pd.to_datetime(general['FACACCEPTEDDATE'])\n",
    "# Set the date difference to two years from the current date.\n",
    "date_diff = date.today() - timedelta(730)\n",
    "# Filter the general file for subnmissions within two years.\n",
    "general = general[general['FACACCEPTEDDATE'].dt.date >= date_diff]\n",
    "# Keep only the relevant columns.\n",
    "general = general[['DBKEY','AUDITYEAR','EIN','AUDITEENAME','COGAGENCY','OVERSIGHTAGENCY','FACACCEPTEDDATE']]\n",
    "\n",
    "# Findings file\n",
    "# Set findings file to include only those that have findings (i.e., non-blank findings reference numbers).\n",
    "findings = findings[findings['FINDINGSREFNUMS'].isnull() == False]\n",
    "# Keep only the relevant columns.\n",
    "findings = findings.drop(['ELECAUDITFINDINGSID','REPEATFINDING','PRIORFINDINGREFNUMS'],axis=1)\n",
    "\n",
    "# Merge general with findings.\n",
    "# Merge on the primary key - i.e., concatenation of audityear and dbkey. The \"how\" parameter is not specified since\n",
    "# a general record may consist of multiple findings records; therefore, the general record should reflect or repeat\n",
    "# for each matching findings record.\n",
    "gen_fin = pd.merge(general,findings,on=['AUDITYEAR','DBKEY'])\n",
    "\n",
    "# Cfda file\n",
    "# Filter the cfda file for USDA programs.\n",
    "cfda = cfda[cfda['CFDA'].str.contains('10\\.', regex=True)]\n",
    "# Keep only the relevant columns.\n",
    "cfda = cfda[['CFDA','FEDERALPROGRAMNAME','AMOUNT','FINDINGSCOUNT','ELECAUDITSID']]\n",
    "\n",
    "# Merge with the gen_fin dataframe using elecauditsid, the key that links the cfda and findings files.\n",
    "# The objective is to filter for USDA programs that had findings in the last two years.\n",
    "gen_fin_cfda = pd.merge(gen_fin,cfda,on=['ELECAUDITSID'])"
   ]
  },
  {
   "cell_type": "code",
   "execution_count": 7,
   "metadata": {},
   "outputs": [],
   "source": [
    "# Create a function that extracts the column name of the findings columns (i.e., modified opinion, material weakness,\n",
    "# etc.) if the record is a \"Y\" for that particular column.\n",
    "def find_type(row):\n",
    "    # row.name gives the index.\n",
    "    x = gen_fin_cfda.columns[(gen_fin_cfda=='Y').iloc[row.name]]\n",
    "    return '-'.join(x).lower()\n",
    "\n",
    "# Set the findings columns.\n",
    "find_cols = ['MODIFIEDOPINION','OTHERNONCOMPLIANCE', 'MATERIALWEAKNESS', \n",
    "            'SIGNIFICANTDEFICIENCY','OTHERFINDINGS', 'QCOSTS']\n",
    "# Apply the function on the gen_fin_cfda dataframe and create one column that contains the results.\n",
    "# The objective is to combine the information from six columns into one.\n",
    "gen_fin_cfda['FINDINGSTYPE'] = gen_fin_cfda.loc[:,find_cols].apply(find_type,axis=1)\n",
    "# Show sample records.\n",
    "gen_fin_cfda.head()"
   ]
  },
  {
   "cell_type": "markdown",
   "metadata": {},
   "source": [
    "#### b. Assistance Listings"
   ]
  },
  {
   "cell_type": "code",
   "execution_count": 8,
   "metadata": {},
   "outputs": [],
   "source": [
    "# Round the program number to three decimal places to prevent redundant characters when converting from float to string.\n",
    "df_al['Program Number'] = df_al['Program Number'].map(lambda x: '{0:.3f}'.format(x))\n",
    "# Create a cfda column, which is a conversion of the program number column from float to string.\n",
    "# This will be used for merging with the gen_fin_cfda dataframe, therefore, it must have the same format (i.e., string).\n",
    "df_al['CFDA'] = df_al['Program Number'].astype(str)\n",
    "# Filter for USDA programs.\n",
    "df_al = df_al[df_al['CFDA'].str.contains('10\\.', regex=True)]\n",
    "\n",
    "# Create a function that extracts the agency name from the federal agency column and converts to an acronym.\n",
    "def agency(row):\n",
    "    x = row['Federal Agency (030)'].split(',')[0]\n",
    "    y = row['Federal Agency (030)'].split(', ')[1]\n",
    "    acp = ['AND', 'FOR', 'OF', 'THE']\n",
    "    if x != 'USDA':\n",
    "        agency = x\n",
    "    else:\n",
    "        agency = y\n",
    "    return ''.join(title[0] for title in agency.split() if title not in acp)\n",
    "\n",
    "# Apply on the df_al dataframe.\n",
    "# The syntax on a dataframe column, without applying a function:\n",
    "# df_al['AGENCY'] = df_al['Federal Agency (030)'].str.split(',').str[0]\n",
    "df_al['AGENCY'] = df_al.apply(agency,axis=1)\n",
    "\n",
    "# Rename program title.\n",
    "df_al.rename(columns = {'Program Title':'PROGRAMNAME'}, inplace=True)\n",
    "# Keep only the relevant columns.\n",
    "df_al = df_al[['PROGRAMNAME','CFDA','AGENCY']]\n",
    "# Show sample records.\n",
    "df_al.head()"
   ]
  },
  {
   "cell_type": "markdown",
   "metadata": {},
   "source": [
    "#### c. Final Dataframe"
   ]
  },
  {
   "cell_type": "code",
   "execution_count": 9,
   "metadata": {},
   "outputs": [
    {
     "data": {
      "text/html": [
       "<div>\n",
       "<style scoped>\n",
       "    .dataframe tbody tr th:only-of-type {\n",
       "        vertical-align: middle;\n",
       "    }\n",
       "\n",
       "    .dataframe tbody tr th {\n",
       "        vertical-align: top;\n",
       "    }\n",
       "\n",
       "    .dataframe thead th {\n",
       "        text-align: right;\n",
       "    }\n",
       "</style>\n",
       "<table border=\"1\" class=\"dataframe\">\n",
       "  <thead>\n",
       "    <tr style=\"text-align: right;\">\n",
       "      <th></th>\n",
       "      <th>DBKEY</th>\n",
       "      <th>AUDITYEAR</th>\n",
       "      <th>EIN</th>\n",
       "      <th>AUDITEENAME</th>\n",
       "      <th>COGAGENCY</th>\n",
       "      <th>OVERSIGHTAGENCY</th>\n",
       "      <th>FACACCEPTEDDATE</th>\n",
       "      <th>ELECAUDITSID</th>\n",
       "      <th>FINDINGSREFNUMS</th>\n",
       "      <th>TYPEREQUIREMENT</th>\n",
       "      <th>...</th>\n",
       "      <th>OTHERFINDINGS</th>\n",
       "      <th>QCOSTS</th>\n",
       "      <th>CFDA</th>\n",
       "      <th>FEDERALPROGRAMNAME</th>\n",
       "      <th>AMOUNT</th>\n",
       "      <th>FINDINGSCOUNT</th>\n",
       "      <th>FINDINGSTYPE</th>\n",
       "      <th>PROGRAMNAME</th>\n",
       "      <th>AGENCY</th>\n",
       "      <th>TRANSACTIONSCOUNT</th>\n",
       "    </tr>\n",
       "  </thead>\n",
       "  <tbody>\n",
       "    <tr>\n",
       "      <th>0</th>\n",
       "      <td>100242</td>\n",
       "      <td>2018</td>\n",
       "      <td>731100380</td>\n",
       "      <td>FOODLINK  INC. AND SUBSIDIARIES (DBA REGIONAL ...</td>\n",
       "      <td></td>\n",
       "      <td>10</td>\n",
       "      <td>2018-11-14</td>\n",
       "      <td>29374440</td>\n",
       "      <td>2018-001</td>\n",
       "      <td>E</td>\n",
       "      <td>...</td>\n",
       "      <td>Y</td>\n",
       "      <td>N</td>\n",
       "      <td>10.569</td>\n",
       "      <td>EMERGENCY FOOD ASSISTANCE PROGRAM (FOOD COMMOD...</td>\n",
       "      <td>4478803.0</td>\n",
       "      <td>1</td>\n",
       "      <td>otherfindings</td>\n",
       "      <td>Emergency Food Assistance Program (Food Commod...</td>\n",
       "      <td>FNS</td>\n",
       "      <td>20184478803.0</td>\n",
       "    </tr>\n",
       "    <tr>\n",
       "      <th>1</th>\n",
       "      <td>100242</td>\n",
       "      <td>2018</td>\n",
       "      <td>731100380</td>\n",
       "      <td>FOODLINK  INC. AND SUBSIDIARIES (DBA REGIONAL ...</td>\n",
       "      <td></td>\n",
       "      <td>10</td>\n",
       "      <td>2018-11-14</td>\n",
       "      <td>29374441</td>\n",
       "      <td>2018-001</td>\n",
       "      <td>E</td>\n",
       "      <td>...</td>\n",
       "      <td>Y</td>\n",
       "      <td>N</td>\n",
       "      <td>10.568</td>\n",
       "      <td>EMERGENCY FOOD ASSISTANCE PROGRAM (ADMINISTRAT...</td>\n",
       "      <td>464829.0</td>\n",
       "      <td>1</td>\n",
       "      <td>otherfindings</td>\n",
       "      <td>Emergency Food Assistance Program (Administrat...</td>\n",
       "      <td>FNS</td>\n",
       "      <td>2018464829.0</td>\n",
       "    </tr>\n",
       "    <tr>\n",
       "      <th>2</th>\n",
       "      <td>100242</td>\n",
       "      <td>2018</td>\n",
       "      <td>731100380</td>\n",
       "      <td>FOODLINK  INC. AND SUBSIDIARIES (DBA REGIONAL ...</td>\n",
       "      <td></td>\n",
       "      <td>10</td>\n",
       "      <td>2018-11-14</td>\n",
       "      <td>29374442</td>\n",
       "      <td>2018-001</td>\n",
       "      <td>E</td>\n",
       "      <td>...</td>\n",
       "      <td>Y</td>\n",
       "      <td>N</td>\n",
       "      <td>10.565</td>\n",
       "      <td>COMMODITY SUPPLEMENTAL FOOD PROGRAM</td>\n",
       "      <td>205926.0</td>\n",
       "      <td>1</td>\n",
       "      <td>otherfindings</td>\n",
       "      <td>Commodity Supplemental Food Program</td>\n",
       "      <td>FNS</td>\n",
       "      <td>2018205926.0</td>\n",
       "    </tr>\n",
       "    <tr>\n",
       "      <th>3</th>\n",
       "      <td>101351</td>\n",
       "      <td>2017</td>\n",
       "      <td>741238434</td>\n",
       "      <td>TEXAS A&amp;M RESEARCH FOUNDATION</td>\n",
       "      <td>93</td>\n",
       "      <td></td>\n",
       "      <td>2017-12-21</td>\n",
       "      <td>27977526</td>\n",
       "      <td>2017-002</td>\n",
       "      <td>M</td>\n",
       "      <td>...</td>\n",
       "      <td>N</td>\n",
       "      <td>N</td>\n",
       "      <td>10.310</td>\n",
       "      <td>AGRICULTURE AND FOOD RESEARCH INITIATIVE (AFRI)</td>\n",
       "      <td>2305744.0</td>\n",
       "      <td>1</td>\n",
       "      <td>significantdeficiency</td>\n",
       "      <td>Agriculture and Food Research Initiative (AFRI)</td>\n",
       "      <td>NIFA</td>\n",
       "      <td>20172305744.0</td>\n",
       "    </tr>\n",
       "    <tr>\n",
       "      <th>4</th>\n",
       "      <td>101654</td>\n",
       "      <td>2017</td>\n",
       "      <td>741549077</td>\n",
       "      <td>ECONOMIC OPPORTUNITIES ADVANCEMENT CORPORATION...</td>\n",
       "      <td></td>\n",
       "      <td>93</td>\n",
       "      <td>2018-02-21</td>\n",
       "      <td>28259297</td>\n",
       "      <td>2017-002</td>\n",
       "      <td>B</td>\n",
       "      <td>...</td>\n",
       "      <td>Y</td>\n",
       "      <td>Y</td>\n",
       "      <td>10.558</td>\n",
       "      <td>CHILD AND ADULT CARE FOOD PROGRAM</td>\n",
       "      <td>711206.0</td>\n",
       "      <td>1</td>\n",
       "      <td>otherfindings-qcosts</td>\n",
       "      <td>Child and Adult Care Food Program</td>\n",
       "      <td>FNS</td>\n",
       "      <td>2017711206.0</td>\n",
       "    </tr>\n",
       "  </tbody>\n",
       "</table>\n",
       "<p>5 rows × 24 columns</p>\n",
       "</div>"
      ],
      "text/plain": [
       "    DBKEY AUDITYEAR        EIN  \\\n",
       "0  100242      2018  731100380   \n",
       "1  100242      2018  731100380   \n",
       "2  100242      2018  731100380   \n",
       "3  101351      2017  741238434   \n",
       "4  101654      2017  741549077   \n",
       "\n",
       "                                         AUDITEENAME COGAGENCY  \\\n",
       "0  FOODLINK  INC. AND SUBSIDIARIES (DBA REGIONAL ...             \n",
       "1  FOODLINK  INC. AND SUBSIDIARIES (DBA REGIONAL ...             \n",
       "2  FOODLINK  INC. AND SUBSIDIARIES (DBA REGIONAL ...             \n",
       "3                      TEXAS A&M RESEARCH FOUNDATION        93   \n",
       "4  ECONOMIC OPPORTUNITIES ADVANCEMENT CORPORATION...             \n",
       "\n",
       "  OVERSIGHTAGENCY FACACCEPTEDDATE ELECAUDITSID FINDINGSREFNUMS  \\\n",
       "0              10      2018-11-14     29374440        2018-001   \n",
       "1              10      2018-11-14     29374441        2018-001   \n",
       "2              10      2018-11-14     29374442        2018-001   \n",
       "3                      2017-12-21     27977526        2017-002   \n",
       "4              93      2018-02-21     28259297        2017-002   \n",
       "\n",
       "  TYPEREQUIREMENT        ...         OTHERFINDINGS QCOSTS    CFDA  \\\n",
       "0               E        ...                     Y      N  10.569   \n",
       "1               E        ...                     Y      N  10.568   \n",
       "2               E        ...                     Y      N  10.565   \n",
       "3               M        ...                     N      N  10.310   \n",
       "4               B        ...                     Y      Y  10.558   \n",
       "\n",
       "                                  FEDERALPROGRAMNAME     AMOUNT FINDINGSCOUNT  \\\n",
       "0  EMERGENCY FOOD ASSISTANCE PROGRAM (FOOD COMMOD...  4478803.0             1   \n",
       "1  EMERGENCY FOOD ASSISTANCE PROGRAM (ADMINISTRAT...   464829.0             1   \n",
       "2                COMMODITY SUPPLEMENTAL FOOD PROGRAM   205926.0             1   \n",
       "3    AGRICULTURE AND FOOD RESEARCH INITIATIVE (AFRI)  2305744.0             1   \n",
       "4                  CHILD AND ADULT CARE FOOD PROGRAM   711206.0             1   \n",
       "\n",
       "            FINDINGSTYPE                                        PROGRAMNAME  \\\n",
       "0          otherfindings  Emergency Food Assistance Program (Food Commod...   \n",
       "1          otherfindings  Emergency Food Assistance Program (Administrat...   \n",
       "2          otherfindings                Commodity Supplemental Food Program   \n",
       "3  significantdeficiency   Agriculture and Food Research Initiative (AFRI)    \n",
       "4   otherfindings-qcosts                  Child and Adult Care Food Program   \n",
       "\n",
       "   AGENCY  TRANSACTIONSCOUNT  \n",
       "0     FNS      20184478803.0  \n",
       "1     FNS       2018464829.0  \n",
       "2     FNS       2018205926.0  \n",
       "3    NIFA      20172305744.0  \n",
       "4     FNS       2017711206.0  \n",
       "\n",
       "[5 rows x 24 columns]"
      ]
     },
     "execution_count": 9,
     "metadata": {},
     "output_type": "execute_result"
    }
   ],
   "source": [
    "# Merge to create the final dataframe that matches each record with the official program name and USDA agency.\n",
    "df_final = pd.merge(gen_fin_cfda,df_al,on='CFDA',how='left')\n",
    "# Replace null agency names with 'UNK' and null program names with form-filled (i.e., unofficial) names.\n",
    "df_final.fillna({'AGENCY':'UNK','PROGRAMNAME':df_final['FEDERALPROGRAMNAME']}, inplace=True)\n",
    "# Convert applicable columns to float and int for succeeding calculations.\n",
    "df_final['AMOUNT'] = df_final['AMOUNT'].astype(float)\n",
    "df_final['FINDINGSCOUNT'] = df_final['FINDINGSCOUNT'].astype(int)\n",
    "# Create a key column that identifies the number of unique transactions for each program in an audit year.\n",
    "df_final['TRANSACTIONSCOUNT'] = df_final['AUDITYEAR'] + df_final['AMOUNT'].astype(str)\n",
    "# Show sample records.\n",
    "df_final.head()"
   ]
  },
  {
   "cell_type": "markdown",
   "metadata": {},
   "source": [
    "#### d. Summarize\n",
    "Create the pivot tables."
   ]
  },
  {
   "cell_type": "markdown",
   "metadata": {},
   "source": [
    "##### 1. By Auditee "
   ]
  },
  {
   "cell_type": "code",
   "execution_count": 10,
   "metadata": {},
   "outputs": [
    {
     "data": {
      "text/html": [
       "<div>\n",
       "<style scoped>\n",
       "    .dataframe tbody tr th:only-of-type {\n",
       "        vertical-align: middle;\n",
       "    }\n",
       "\n",
       "    .dataframe tbody tr th {\n",
       "        vertical-align: top;\n",
       "    }\n",
       "\n",
       "    .dataframe thead th {\n",
       "        text-align: right;\n",
       "    }\n",
       "</style>\n",
       "<table border=\"1\" class=\"dataframe\">\n",
       "  <thead>\n",
       "    <tr style=\"text-align: right;\">\n",
       "      <th></th>\n",
       "      <th>EIN</th>\n",
       "      <th>AUDITYEAR</th>\n",
       "      <th>AGENCY</th>\n",
       "      <th>AMOUNT</th>\n",
       "    </tr>\n",
       "  </thead>\n",
       "  <tbody>\n",
       "    <tr>\n",
       "      <th>0</th>\n",
       "      <td>010282148</td>\n",
       "      <td>2017</td>\n",
       "      <td>FNS</td>\n",
       "      <td>257600.0</td>\n",
       "    </tr>\n",
       "    <tr>\n",
       "      <th>1</th>\n",
       "      <td>010284446</td>\n",
       "      <td>2016</td>\n",
       "      <td>FNS</td>\n",
       "      <td>501805.0</td>\n",
       "    </tr>\n",
       "    <tr>\n",
       "      <th>2</th>\n",
       "      <td>010288757</td>\n",
       "      <td>2016</td>\n",
       "      <td>FNS</td>\n",
       "      <td>515348.0</td>\n",
       "    </tr>\n",
       "    <tr>\n",
       "      <th>3</th>\n",
       "      <td>010351138</td>\n",
       "      <td>2017</td>\n",
       "      <td>RUS</td>\n",
       "      <td>1313761.0</td>\n",
       "    </tr>\n",
       "    <tr>\n",
       "      <th>4</th>\n",
       "      <td>010424969</td>\n",
       "      <td>2016</td>\n",
       "      <td>FNS</td>\n",
       "      <td>369903.0</td>\n",
       "    </tr>\n",
       "  </tbody>\n",
       "</table>\n",
       "</div>"
      ],
      "text/plain": [
       "         EIN AUDITYEAR AGENCY     AMOUNT\n",
       "0  010282148      2017    FNS   257600.0\n",
       "1  010284446      2016    FNS   501805.0\n",
       "2  010288757      2016    FNS   515348.0\n",
       "3  010351138      2017    RUS  1313761.0\n",
       "4  010424969      2016    FNS   369903.0"
      ]
     },
     "execution_count": 10,
     "metadata": {},
     "output_type": "execute_result"
    }
   ],
   "source": [
    "# Set aggfunc parameters. Utilize unique (or set()) to conduct operations only on the unique values (i.e., amount)\n",
    "# for each CFDA.\n",
    "len_uniq = lambda x: len(x.unique())\n",
    "sum_uniq = lambda x: x.unique().sum()\n",
    "join_uniq = lambda x: ', '.join(pd.unique(x))\n",
    "\n",
    "# Create a pivot table by auditee.\n",
    "df_piv_aud = pd.pivot_table(df_final,index=['AUDITEENAME','EIN','AUDITYEAR','COGAGENCY','OVERSIGHTAGENCY',\n",
    "                                           'CFDA','PROGRAMNAME','AGENCY',],\n",
    "                           values='AMOUNT',\n",
    "                           aggfunc=sum_uniq)\n",
    "\n",
    "# Sort each auditee record by descending amount - the resulting top USDA agency, i.e., the one that provided \n",
    "# the largest award, will be considered the oversight agency within USDA.\n",
    "# Subsequently, sort by auditee name and audit year.\n",
    "df_piv_aud = df_piv_aud.sort_values(['AMOUNT'], ascending=False).sort_values(['AUDITEENAME','AUDITYEAR'])\n",
    "# Reset index to convert indeces to columns and, consequently, to a regular dataframe.\n",
    "df_aud = df_piv_aud.reset_index()\n",
    "\n",
    "# Set another pivot to extract the top USDA agency.\n",
    "df_over = pd.pivot_table(df_aud,index=['EIN','AUDITYEAR'],\n",
    "                         aggfunc={'AMOUNT': max,'AGENCY':'first'}).reset_index()\n",
    "# Show sample records.\n",
    "df_over.head()"
   ]
  },
  {
   "cell_type": "markdown",
   "metadata": {},
   "source": [
    "##### 2. By Agency"
   ]
  },
  {
   "cell_type": "code",
   "execution_count": 11,
   "metadata": {},
   "outputs": [
    {
     "data": {
      "text/html": [
       "<div>\n",
       "<style scoped>\n",
       "    .dataframe tbody tr th:only-of-type {\n",
       "        vertical-align: middle;\n",
       "    }\n",
       "\n",
       "    .dataframe tbody tr th {\n",
       "        vertical-align: top;\n",
       "    }\n",
       "\n",
       "    .dataframe thead th {\n",
       "        text-align: right;\n",
       "    }\n",
       "</style>\n",
       "<table border=\"1\" class=\"dataframe\">\n",
       "  <thead>\n",
       "    <tr style=\"text-align: right;\">\n",
       "      <th></th>\n",
       "      <th>agency</th>\n",
       "      <th>fac_accepted_date</th>\n",
       "      <th>program_number</th>\n",
       "      <th>program_name</th>\n",
       "      <th>award_transactions</th>\n",
       "      <th>total_award</th>\n",
       "      <th>ein</th>\n",
       "      <th>auditee_name</th>\n",
       "      <th>audit_year</th>\n",
       "      <th>type_requirement</th>\n",
       "      <th>findings_count</th>\n",
       "      <th>findings_type</th>\n",
       "      <th>findings_ref_nums</th>\n",
       "      <th>federal_cognizant</th>\n",
       "      <th>federal_oversight</th>\n",
       "      <th>usda_oversight</th>\n",
       "      <th>usda_oversight_award</th>\n",
       "    </tr>\n",
       "  </thead>\n",
       "  <tbody>\n",
       "    <tr>\n",
       "      <th>0</th>\n",
       "      <td>AMS</td>\n",
       "      <td>2017-02-27</td>\n",
       "      <td>10.170</td>\n",
       "      <td>Specialty Crop Block Grant Program - Farm Bill</td>\n",
       "      <td>9</td>\n",
       "      <td>94519.0</td>\n",
       "      <td>376000511</td>\n",
       "      <td>UNIVERSITY OF ILLINOIS</td>\n",
       "      <td>2016</td>\n",
       "      <td>F, L, M, ABH, ABHL, C</td>\n",
       "      <td>6.0</td>\n",
       "      <td>othernoncompliance-significantdeficiency, sign...</td>\n",
       "      <td>2016-014, 2016-009, 2016-008, 2016-007, 2016-0...</td>\n",
       "      <td>84</td>\n",
       "      <td></td>\n",
       "      <td>NIFA</td>\n",
       "      <td>9.250180e+06</td>\n",
       "    </tr>\n",
       "    <tr>\n",
       "      <th>1</th>\n",
       "      <td>AMS</td>\n",
       "      <td>2017-03-07</td>\n",
       "      <td>10.170</td>\n",
       "      <td>Specialty Crop Block Grant Program - Farm Bill</td>\n",
       "      <td>79</td>\n",
       "      <td>4929947.0</td>\n",
       "      <td>943067788</td>\n",
       "      <td>UNIVERSITY OF CALIFORNIA</td>\n",
       "      <td>2016</td>\n",
       "      <td>P</td>\n",
       "      <td>1.0</td>\n",
       "      <td>othernoncompliance</td>\n",
       "      <td>2016-007</td>\n",
       "      <td>93</td>\n",
       "      <td></td>\n",
       "      <td>UNK</td>\n",
       "      <td>5.567898e+07</td>\n",
       "    </tr>\n",
       "    <tr>\n",
       "      <th>2</th>\n",
       "      <td>AMS</td>\n",
       "      <td>2017-03-17</td>\n",
       "      <td>10.156</td>\n",
       "      <td>Federal-State Marketing Improvement Program</td>\n",
       "      <td>1</td>\n",
       "      <td>22718.0</td>\n",
       "      <td>990252020</td>\n",
       "      <td>STATE OF HAWAII  DEPARTMENT OF ACCOUNTING AND ...</td>\n",
       "      <td>2016</td>\n",
       "      <td>C, L, I</td>\n",
       "      <td>5.0</td>\n",
       "      <td>othernoncompliance-significantdeficiency, modi...</td>\n",
       "      <td>2016-010, 2016-009, 2016-008, 2016-006, 2016-005</td>\n",
       "      <td>17</td>\n",
       "      <td></td>\n",
       "      <td>FS</td>\n",
       "      <td>2.453220e+05</td>\n",
       "    </tr>\n",
       "    <tr>\n",
       "      <th>3</th>\n",
       "      <td>AMS</td>\n",
       "      <td>2017-03-22</td>\n",
       "      <td>10.170</td>\n",
       "      <td>Specialty Crop Block Grant Program - Farm Bill</td>\n",
       "      <td>1</td>\n",
       "      <td>7230.0</td>\n",
       "      <td>726000720</td>\n",
       "      <td>STATE OF LOUISIANA</td>\n",
       "      <td>2016</td>\n",
       "      <td>F, M</td>\n",
       "      <td>3.0</td>\n",
       "      <td>modifiedopinion-materialweakness</td>\n",
       "      <td>2016-010, 2016-009, 2016-007</td>\n",
       "      <td>93</td>\n",
       "      <td></td>\n",
       "      <td>FNS</td>\n",
       "      <td>1.390155e+09</td>\n",
       "    </tr>\n",
       "    <tr>\n",
       "      <th>4</th>\n",
       "      <td>AMS</td>\n",
       "      <td>2017-03-24</td>\n",
       "      <td>10.170</td>\n",
       "      <td>Specialty Crop Block Grant Program - Farm Bill</td>\n",
       "      <td>8</td>\n",
       "      <td>111873.0</td>\n",
       "      <td>376005961</td>\n",
       "      <td>SOUTHERN ILLINOIS UNIVERSITY</td>\n",
       "      <td>2016</td>\n",
       "      <td>ABHL, M, G</td>\n",
       "      <td>3.0</td>\n",
       "      <td>othernoncompliance-significantdeficiency</td>\n",
       "      <td>2016-002, 2016-006, 2016-008</td>\n",
       "      <td>84</td>\n",
       "      <td></td>\n",
       "      <td>NIFA</td>\n",
       "      <td>3.900590e+05</td>\n",
       "    </tr>\n",
       "  </tbody>\n",
       "</table>\n",
       "</div>"
      ],
      "text/plain": [
       "  agency fac_accepted_date program_number  \\\n",
       "0    AMS        2017-02-27         10.170   \n",
       "1    AMS        2017-03-07         10.170   \n",
       "2    AMS        2017-03-17         10.156   \n",
       "3    AMS        2017-03-22         10.170   \n",
       "4    AMS        2017-03-24         10.170   \n",
       "\n",
       "                                     program_name  award_transactions  \\\n",
       "0  Specialty Crop Block Grant Program - Farm Bill                   9   \n",
       "1  Specialty Crop Block Grant Program - Farm Bill                  79   \n",
       "2     Federal-State Marketing Improvement Program                   1   \n",
       "3  Specialty Crop Block Grant Program - Farm Bill                   1   \n",
       "4  Specialty Crop Block Grant Program - Farm Bill                   8   \n",
       "\n",
       "   total_award        ein                                       auditee_name  \\\n",
       "0      94519.0  376000511                             UNIVERSITY OF ILLINOIS   \n",
       "1    4929947.0  943067788                           UNIVERSITY OF CALIFORNIA   \n",
       "2      22718.0  990252020  STATE OF HAWAII  DEPARTMENT OF ACCOUNTING AND ...   \n",
       "3       7230.0  726000720                                 STATE OF LOUISIANA   \n",
       "4     111873.0  376005961                       SOUTHERN ILLINOIS UNIVERSITY   \n",
       "\n",
       "  audit_year       type_requirement  findings_count  \\\n",
       "0       2016  F, L, M, ABH, ABHL, C             6.0   \n",
       "1       2016                      P             1.0   \n",
       "2       2016                C, L, I             5.0   \n",
       "3       2016                   F, M             3.0   \n",
       "4       2016             ABHL, M, G             3.0   \n",
       "\n",
       "                                       findings_type  \\\n",
       "0  othernoncompliance-significantdeficiency, sign...   \n",
       "1                                 othernoncompliance   \n",
       "2  othernoncompliance-significantdeficiency, modi...   \n",
       "3                   modifiedopinion-materialweakness   \n",
       "4           othernoncompliance-significantdeficiency   \n",
       "\n",
       "                                   findings_ref_nums federal_cognizant  \\\n",
       "0  2016-014, 2016-009, 2016-008, 2016-007, 2016-0...                84   \n",
       "1                                           2016-007                93   \n",
       "2   2016-010, 2016-009, 2016-008, 2016-006, 2016-005                17   \n",
       "3                       2016-010, 2016-009, 2016-007                93   \n",
       "4                       2016-002, 2016-006, 2016-008                84   \n",
       "\n",
       "  federal_oversight usda_oversight  usda_oversight_award  \n",
       "0                             NIFA          9.250180e+06  \n",
       "1                              UNK          5.567898e+07  \n",
       "2                               FS          2.453220e+05  \n",
       "3                              FNS          1.390155e+09  \n",
       "4                             NIFA          3.900590e+05  "
      ]
     },
     "execution_count": 11,
     "metadata": {},
     "output_type": "execute_result"
    }
   ],
   "source": [
    "# Create pivot table by agency.\n",
    "df_piv_agn = pd.pivot_table(df_final,index=['AGENCY','FACACCEPTEDDATE','CFDA','PROGRAMNAME','EIN','AUDITEENAME',\n",
    "                                           'AUDITYEAR','COGAGENCY','OVERSIGHTAGENCY'],\n",
    "                           aggfunc={'TRANSACTIONSCOUNT':len_uniq,'AMOUNT':sum_uniq,'FINDINGSCOUNT':'mean',\n",
    "                                    'TYPEREQUIREMENT':join_uniq,'FINDINGSTYPE':join_uniq,'FINDINGSREFNUMS':join_uniq})\n",
    "\n",
    "# Stack and unstack the resulting pivot table to show the records by corresponding audit years.  \n",
    "# Unstack at audit year (i.e., index 6) to convert to columns.\n",
    "# df_piv_agn = df_piv_agn.stack().unstack(level=6).fillna('') #.unstack() - Further unstacking will convert aggfunc variables to subcolumns within audit years.\n",
    "\n",
    "# Reset index to convert to a regular dataframe.\n",
    "df_agn = df_piv_agn.reset_index()\n",
    "\n",
    "# Merge df_over and df_agn to match the oversight USDA agency to each record.\n",
    "df_mer_agn = pd.merge(df_agn,df_over,on=['EIN','AUDITYEAR'], how='left')\n",
    "\n",
    "# Rename columns.\n",
    "df_mer_agn.rename(columns = {'AGENCY_x':'agency','FACACCEPTEDDATE':'fac_accepted_date','CFDA':'program_number',\n",
    "                             'PROGRAMNAME':'program_name','EIN':'ein','AUDITEENAME':'auditee_name',\n",
    "                             'AUDITYEAR':'audit_year','COGAGENCY':'federal_cognizant',\n",
    "                             'OVERSIGHTAGENCY':'federal_oversight','FINDINGSCOUNT':'findings_count',\n",
    "                             'FINDINGSREFNUMS':'findings_ref_nums','FINDINGSTYPE':'findings_type',\n",
    "                             'TRANSACTIONSCOUNT':'award_transactions','TYPEREQUIREMENT':'type_requirement',\n",
    "                             'AMOUNT_x':'total_award','AGENCY_y':'usda_oversight', 'AMOUNT_y': 'usda_oversight_award'},\n",
    "                  inplace=True)\n",
    "\n",
    "# Rearrange columns.\n",
    "df_mer_agn = df_mer_agn[['agency','fac_accepted_date','program_number','program_name','award_transactions',\n",
    "                         'total_award','ein','auditee_name','audit_year','type_requirement','findings_count',\n",
    "                         'findings_type','findings_ref_nums','federal_cognizant','federal_oversight','usda_oversight',\n",
    "                         'usda_oversight_award']]\n",
    "# Show sample records.\n",
    "df_mer_agn.head()"
   ]
  },
  {
   "cell_type": "markdown",
   "metadata": {},
   "source": [
    "### 5. Create Excel File\n",
    "Save to a spreadsheet in the current directory."
   ]
  },
  {
   "cell_type": "code",
   "execution_count": 12,
   "metadata": {},
   "outputs": [],
   "source": [
    "# Create an xlsx file.\n",
    "# Set timestamp. \n",
    "timestr = time.strftime('%m_%d_%Y')\n",
    "# Set file name and save to current directory.\n",
    "file_name = 'USDA Single Audit with Findings Report_'+ timestr + '.xlsx'\n",
    "writer = pd.ExcelWriter(file_name, engine='xlsxwriter', datetime_format='yyyy-mm-dd')\n",
    "\n",
    "# Set and sort agency list.\n",
    "agencies = list(set(df_final['AGENCY']))\n",
    "agencies.sort()\n",
    "\n",
    "# Initiate workbook.\n",
    "workbook = writer.book\n",
    "\n",
    "# Create one sheet for each agency.\n",
    "for agency in agencies:\n",
    "    df_mer_agn[df_mer_agn['agency']==agency].to_excel(writer, agency, index=False)\n",
    "    worksheet = writer.sheets[agency]\n",
    "    money_fmt = workbook.add_format({'num_format': '$#,##0'})\n",
    "    # Apply $ formatting on the applicable columns.\n",
    "    worksheet.set_column('F:F',None,money_fmt)\n",
    "    worksheet.set_column('Q:Q',None,money_fmt)\n",
    "\n",
    "# Save the Excel file to the current directory.\n",
    "writer.save()"
   ]
  },
  {
   "cell_type": "markdown",
   "metadata": {},
   "source": [
    "### 6. Plotly Visualizations\n",
    "Create line charts in Plotly to visualize the trend over time for award amounts and number of findings for each of the  agency's programs that had findings within the given period (i.e., two years)."
   ]
  },
  {
   "cell_type": "code",
   "execution_count": 13,
   "metadata": {},
   "outputs": [],
   "source": [
    "# Create a month-year column.\n",
    "df_mer_agn['month_year'] = df_mer_agn['fac_accepted_date'].dt.strftime('%B %Y')\n",
    "df_mer_agn['month_year'] = pd.to_datetime(df_mer_agn['month_year'],format='%B %Y')\n",
    "\n",
    "# Groupby month-year, agency and program number.\n",
    "df_group = df_mer_agn.groupby(['month_year','agency','program_number']).agg({'findings_count': 'sum', 'total_award': 'sum'}).reset_index()\n",
    "df_plot={}\n",
    "for agency in agencies:\n",
    "    df_plot[agency] = df_group[df_group['agency']==agency]\n",
    "\n",
    "# Set plot colors.\n",
    "colors=['mediumpurple','red','aqua','aquamarine','mediumturquoise','olive','bisque','black','rosybrown','blue',\n",
    "        'blueviolet','brown','burlywood','cadetblue','chartreuse', 'chocolate','coral','cornflowerblue','plum',\n",
    "        'crimson','cyan','darkblue','darkcyan','darkgoldenrod','darkgray','magenta','darkgreen','darkkhaki',\n",
    "        'darkmagenta','darkolivegreen','darkorange','darkorchid','darkred','darksalmon','darkseagreen','darkslateblue',\n",
    "        'darkslategray','darkslategrey','darkturquoise','darkviolet','deeppink','deepskyblue','dimgray','dimgrey',\n",
    "        'dodgerblue','firebrick','floralwhite','forestgreen','fuchsia','orchid','orangered','gold','goldenrod','gray',\n",
    "        'magenta','green','greenyellow','honeydew','hotpink','indianred','indigo','lime','khaki','sandybrown','purple',\n",
    "        'lawngreen','salmon','lightblue','lightcoral','mediumvioletred','lightgoldenrodyellow','paleturquoise',\n",
    "        'mediumaquamarine','lightgreen','lightpink','lightsalmon','lightseagreen','lightskyblue','lightslategray',\n",
    "        'midnightblue','lightsteelblue']\n",
    "\n",
    "# Assign a color to each program number to avoid auto-assigning a different color to the same number.\n",
    "# Set the unique program numbers from df_group.\n",
    "nums = df_group['program_number'].sort_values().unique()\n",
    "# Assign the color, repeating through the colors list after each pass.\n",
    "color_plot = dict(zip(nums,cycle(colors)))"
   ]
  },
  {
   "cell_type": "code",
   "execution_count": 15,
   "metadata": {},
   "outputs": [
    {
     "name": "stdout",
     "output_type": "stream",
     "text": [
      "This is the format of your plot grid:\n",
      "[ (1,1) x1,y1 ]     [ (1,2) x2,y2 ]   \n",
      "[ (2,1) x3,y3 ]     [ (2,2) x4,y4 ]   \n",
      "[ (3,1) x5,y5 ]     [ (3,2) x6,y6 ]   \n",
      "[ (4,1) x7,y7 ]     [ (4,2) x8,y8 ]   \n",
      "[ (5,1) x9,y9 ]     [ (5,2) x10,y10 ] \n",
      "[ (6,1) x11,y11 ]   [ (6,2) x12,y12 ] \n",
      "[ (7,1) x13,y13 ]   [ (7,2) x14,y14 ] \n",
      "[ (8,1) x15,y15 ]   [ (8,2) x16,y16 ] \n",
      "[ (9,1) x17,y17 ]   [ (9,2) x18,y18 ] \n",
      "[ (10,1) x19,y19 ]  [ (10,2) x20,y20 ]\n",
      "[ (11,1) x21,y21 ]  [ (11,2) x22,y22 ]\n",
      "[ (12,1) x23,y23 ]  [ (12,2) x24,y24 ]\n",
      "[ (13,1) x25,y25 ]  [ (13,2) x26,y26 ]\n",
      "[ (14,1) x27,y27 ]  [ (14,2) x28,y28 ]\n",
      "[ (15,1) x29,y29 ]  [ (15,2) x30,y30 ]\n",
      "[ (16,1) x31,y31 ]  [ (16,2) x32,y32 ]\n",
      "[ (17,1) x33,y33 ]  [ (17,2) x34,y34 ]\n",
      "[ (18,1) x35,y35 ]  [ (18,2) x36,y36 ]\n",
      "[ (19,1) x37,y37 ]  [ (19,2) x38,y38 ]\n",
      "\n"
     ]
    },
    {
     "data": {
      "text/html": [
       "<script>requirejs.config({paths: { 'plotly': ['https://cdn.plot.ly/plotly-latest.min']},});if(!window.Plotly) {{require(['plotly'],function(plotly) {window.Plotly=plotly;});}}</script>"
      ],
      "text/vnd.plotly.v1+html": [
       "<script>requirejs.config({paths: { 'plotly': ['https://cdn.plot.ly/plotly-latest.min']},});if(!window.Plotly) {{require(['plotly'],function(plotly) {window.Plotly=plotly;});}}</script>"
      ]
     },
     "metadata": {},
     "output_type": "display_data"
    },
    {
     "data": {
      "application/vnd.plotly.v1+json": {
       "data": [
        {
         "legendgroup": "10.170",
         "marker": {
          "color": "cornflowerblue"
         },
         "name": "10.170",
         "showlegend": false,
         "type": "scatter",
         "uid": "224109ec-fd67-11e8-81b7-b46bfca2d37e",
         "x": [
          "2017-02-01",
          "2017-03-01",
          "2017-07-01",
          "2017-11-01",
          "2018-02-01",
          "2018-03-01",
          "2018-09-01",
          "2018-10-01"
         ],
         "xaxis": "x",
         "y": [
          94519,
          5084894,
          78223,
          57117,
          1194048,
          5780554,
          46629,
          10486
         ],
         "yaxis": "y"
        },
        {
         "legendgroup": "10.170",
         "marker": {
          "color": "cornflowerblue"
         },
         "name": "10.170",
         "showlegend": false,
         "type": "scatter",
         "uid": "224420ee-fd67-11e8-a7f6-b46bfca2d37e",
         "x": [
          "2017-02-01",
          "2017-03-01",
          "2017-07-01",
          "2017-11-01",
          "2018-02-01",
          "2018-03-01",
          "2018-09-01",
          "2018-10-01"
         ],
         "xaxis": "x2",
         "y": [
          6,
          9,
          3,
          2,
          1,
          8,
          1,
          6
         ],
         "yaxis": "y2"
        },
        {
         "legendgroup": "10.156",
         "marker": {
          "color": "cadetblue"
         },
         "name": "10.156",
         "showlegend": false,
         "type": "scatter",
         "uid": "2244e44a-fd67-11e8-b506-b46bfca2d37e",
         "x": [
          "2017-03-01",
          "2018-03-01"
         ],
         "xaxis": "x",
         "y": [
          22718,
          67888
         ],
         "yaxis": "y"
        },
        {
         "legendgroup": "10.156",
         "marker": {
          "color": "cadetblue"
         },
         "name": "10.156",
         "showlegend": false,
         "type": "scatter",
         "uid": "22461cc8-fd67-11e8-9411-b46bfca2d37e",
         "x": [
          "2017-03-01",
          "2018-03-01"
         ],
         "xaxis": "x2",
         "y": [
          5,
          6
         ],
         "yaxis": "y2"
        },
        {
         "legendgroup": "10.162",
         "marker": {
          "color": "chartreuse"
         },
         "name": "10.162",
         "showlegend": false,
         "type": "scatter",
         "uid": "2246e158-fd67-11e8-9115-b46bfca2d37e",
         "x": [
          "2017-03-01",
          "2018-08-01"
         ],
         "xaxis": "x",
         "y": [
          432101,
          375577
         ],
         "yaxis": "y"
        },
        {
         "legendgroup": "10.162",
         "marker": {
          "color": "chartreuse"
         },
         "name": "10.162",
         "showlegend": false,
         "type": "scatter",
         "uid": "22477c48-fd67-11e8-8095-b46bfca2d37e",
         "x": [
          "2017-03-01",
          "2018-08-01"
         ],
         "xaxis": "x2",
         "y": [
          3,
          3
         ],
         "yaxis": "y2"
        },
        {
         "legendgroup": "10.168",
         "marker": {
          "color": "coral"
         },
         "name": "10.168",
         "showlegend": false,
         "type": "scatter",
         "uid": "2247f16e-fd67-11e8-8ce9-b46bfca2d37e",
         "x": [
          "2017-03-01",
          "2017-09-01"
         ],
         "xaxis": "x",
         "y": [
          13427,
          28115
         ],
         "yaxis": "y"
        },
        {
         "legendgroup": "10.168",
         "marker": {
          "color": "coral"
         },
         "name": "10.168",
         "showlegend": false,
         "type": "scatter",
         "uid": "22488da4-fd67-11e8-83ee-b46bfca2d37e",
         "x": [
          "2017-03-01",
          "2017-09-01"
         ],
         "xaxis": "x2",
         "y": [
          1,
          1
         ],
         "yaxis": "y2"
        },
        {
         "legendgroup": "10.172",
         "marker": {
          "color": "plum"
         },
         "name": "10.172",
         "showlegend": false,
         "type": "scatter",
         "uid": "224917e2-fd67-11e8-8280-b46bfca2d37e",
         "x": [
          "2017-03-01"
         ],
         "xaxis": "x",
         "y": [
          747
         ],
         "yaxis": "y"
        },
        {
         "legendgroup": "10.172",
         "marker": {
          "color": "plum"
         },
         "name": "10.172",
         "showlegend": false,
         "type": "scatter",
         "uid": "224917e3-fd67-11e8-b88d-b46bfca2d37e",
         "x": [
          "2017-03-01"
         ],
         "xaxis": "x2",
         "y": [
          3
         ],
         "yaxis": "y2"
        },
        {
         "legendgroup": "10.164",
         "marker": {
          "color": "chocolate"
         },
         "name": "10.164",
         "showlegend": false,
         "type": "scatter",
         "uid": "224917e4-fd67-11e8-b296-b46bfca2d37e",
         "x": [
          "2018-03-01"
         ],
         "xaxis": "x",
         "y": [
          32430
         ],
         "yaxis": "y"
        },
        {
         "legendgroup": "10.164",
         "marker": {
          "color": "chocolate"
         },
         "name": "10.164",
         "showlegend": false,
         "type": "scatter",
         "uid": "224917e5-fd67-11e8-9f84-b46bfca2d37e",
         "x": [
          "2018-03-01"
         ],
         "xaxis": "x2",
         "y": [
          4
         ],
         "yaxis": "y2"
        },
        {
         "legendgroup": "10.025",
         "marker": {
          "color": "aqua"
         },
         "name": "10.025",
         "showlegend": false,
         "type": "scatter",
         "uid": "224917e6-fd67-11e8-aa0c-b46bfca2d37e",
         "x": [
          "2017-01-01",
          "2017-02-01",
          "2017-03-01",
          "2017-07-01",
          "2017-11-01",
          "2017-12-01",
          "2018-01-01",
          "2018-02-01",
          "2018-03-01",
          "2018-09-01"
         ],
         "xaxis": "x3",
         "y": [
          194643,
          1744775,
          1517492,
          839107,
          255004,
          644193,
          201135,
          273060,
          3693867,
          1108364
         ],
         "yaxis": "y3"
        },
        {
         "legendgroup": "10.025",
         "marker": {
          "color": "aqua"
         },
         "name": "10.025",
         "showlegend": false,
         "type": "scatter",
         "uid": "224b7b9e-fd67-11e8-a30f-b46bfca2d37e",
         "x": [
          "2017-01-01",
          "2017-02-01",
          "2017-03-01",
          "2017-07-01",
          "2017-11-01",
          "2017-12-01",
          "2018-01-01",
          "2018-02-01",
          "2018-03-01",
          "2018-09-01"
         ],
         "xaxis": "x4",
         "y": [
          2,
          12,
          5,
          1,
          2,
          2,
          4,
          4,
          8,
          1
         ],
         "yaxis": "y4"
        },
        {
         "legendgroup": "10.028",
         "marker": {
          "color": "aquamarine"
         },
         "name": "10.028",
         "showlegend": false,
         "type": "scatter",
         "uid": "224b7b9f-fd67-11e8-a6f1-b46bfca2d37e",
         "x": [
          "2017-02-01",
          "2017-03-01",
          "2018-03-01"
         ],
         "xaxis": "x3",
         "y": [
          8616,
          21890,
          133970
         ],
         "yaxis": "y3"
        },
        {
         "legendgroup": "10.028",
         "marker": {
          "color": "aquamarine"
         },
         "name": "10.028",
         "showlegend": false,
         "type": "scatter",
         "uid": "224b7ba0-fd67-11e8-bc9a-b46bfca2d37e",
         "x": [
          "2017-02-01",
          "2017-03-01",
          "2018-03-01"
         ],
         "xaxis": "x4",
         "y": [
          6,
          3,
          7
         ],
         "yaxis": "y4"
        },
        {
         "legendgroup": "10.030",
         "marker": {
          "color": "mediumturquoise"
         },
         "name": "10.030",
         "showlegend": false,
         "type": "scatter",
         "uid": "224b7ba1-fd67-11e8-a631-b46bfca2d37e",
         "x": [
          "2017-02-01"
         ],
         "xaxis": "x3",
         "y": [
          55000
         ],
         "yaxis": "y3"
        },
        {
         "legendgroup": "10.030",
         "marker": {
          "color": "mediumturquoise"
         },
         "name": "10.030",
         "showlegend": false,
         "type": "scatter",
         "uid": "224dde1e-fd67-11e8-ac50-b46bfca2d37e",
         "x": [
          "2017-02-01"
         ],
         "xaxis": "x4",
         "y": [
          1
         ],
         "yaxis": "y4"
        },
        {
         "legendgroup": "10.001",
         "marker": {
          "color": "red"
         },
         "name": "10.001",
         "showlegend": false,
         "type": "scatter",
         "uid": "224dde1f-fd67-11e8-bf7a-b46bfca2d37e",
         "x": [
          "2017-01-01",
          "2017-02-01",
          "2017-03-01",
          "2017-05-01",
          "2017-11-01",
          "2018-01-01",
          "2018-02-01",
          "2018-03-01",
          "2018-05-01",
          "2018-09-01",
          "2018-11-01"
         ],
         "xaxis": "x5",
         "y": [
          6701,
          2119580,
          8543318,
          927068,
          189585,
          9841,
          19775,
          9074490,
          314025,
          40885,
          5956702
         ],
         "yaxis": "y5"
        },
        {
         "legendgroup": "10.001",
         "marker": {
          "color": "red"
         },
         "name": "10.001",
         "showlegend": false,
         "type": "scatter",
         "uid": "224dde20-fd67-11e8-bbf4-b46bfca2d37e",
         "x": [
          "2017-01-01",
          "2017-02-01",
          "2017-03-01",
          "2017-05-01",
          "2017-11-01",
          "2018-01-01",
          "2018-02-01",
          "2018-03-01",
          "2018-05-01",
          "2018-09-01",
          "2018-11-01"
         ],
         "xaxis": "x6",
         "y": [
          2,
          6,
          10,
          1,
          4,
          3,
          1,
          9,
          5,
          1,
          2
         ],
         "yaxis": "y6"
        },
        {
         "legendgroup": "10.443",
         "marker": {
          "color": "khaki"
         },
         "name": "10.443",
         "showlegend": false,
         "type": "scatter",
         "uid": "224dde21-fd67-11e8-ae55-b46bfca2d37e",
         "x": [
          "2017-03-01",
          "2017-11-01",
          "2018-03-01"
         ],
         "xaxis": "x7",
         "y": [
          399242,
          6250,
          222493
         ],
         "yaxis": "y7"
        },
        {
         "legendgroup": "10.443",
         "marker": {
          "color": "khaki"
         },
         "name": "10.443",
         "showlegend": false,
         "type": "scatter",
         "uid": "22503f4c-fd67-11e8-b2d8-b46bfca2d37e",
         "x": [
          "2017-03-01",
          "2017-11-01",
          "2018-03-01"
         ],
         "xaxis": "x8",
         "y": [
          5,
          1,
          5
         ],
         "yaxis": "y8"
        },
        {
         "legendgroup": "10.250",
         "marker": {
          "color": "darkslateblue"
         },
         "name": "10.250",
         "showlegend": false,
         "type": "scatter",
         "uid": "22503f4d-fd67-11e8-b9b7-b46bfca2d37e",
         "x": [
          "2017-02-01",
          "2017-03-01",
          "2018-02-01",
          "2018-03-01",
          "2018-05-01",
          "2018-11-01"
         ],
         "xaxis": "x9",
         "y": [
          247334,
          113857,
          2763,
          448126,
          4240,
          28306
         ],
         "yaxis": "y9"
        },
        {
         "legendgroup": "10.250",
         "marker": {
          "color": "darkslateblue"
         },
         "name": "10.250",
         "showlegend": false,
         "type": "scatter",
         "uid": "22503f4e-fd67-11e8-a789-b46bfca2d37e",
         "x": [
          "2017-02-01",
          "2017-03-01",
          "2018-02-01",
          "2018-03-01",
          "2018-05-01",
          "2018-11-01"
         ],
         "xaxis": "x10",
         "y": [
          7,
          4,
          1,
          3,
          5,
          1
         ],
         "yaxis": "y10"
        },
        {
         "legendgroup": "10.253",
         "marker": {
          "color": "darkslategray"
         },
         "name": "10.253",
         "showlegend": false,
         "type": "scatter",
         "uid": "22503f4f-fd67-11e8-bb91-b46bfca2d37e",
         "x": [
          "2017-02-01",
          "2017-03-01",
          "2017-11-01",
          "2018-03-01",
          "2018-11-01"
         ],
         "xaxis": "x9",
         "y": [
          40427,
          29435,
          14592,
          152533,
          263953
         ],
         "yaxis": "y9"
        },
        {
         "legendgroup": "10.253",
         "marker": {
          "color": "darkslategray"
         },
         "name": "10.253",
         "showlegend": false,
         "type": "scatter",
         "uid": "2252ae4c-fd67-11e8-b3ac-b46bfca2d37e",
         "x": [
          "2017-02-01",
          "2017-03-01",
          "2017-11-01",
          "2018-03-01",
          "2018-11-01"
         ],
         "xaxis": "x10",
         "y": [
          7,
          1,
          2,
          7,
          1
         ],
         "yaxis": "y10"
        },
        {
         "legendgroup": "10.601",
         "marker": {
          "color": "darkcyan"
         },
         "name": "10.601",
         "showlegend": false,
         "type": "scatter",
         "uid": "22534bc6-fd67-11e8-b65b-b46bfca2d37e",
         "x": [
          "2017-02-01",
          "2017-03-01",
          "2017-04-01",
          "2017-08-01",
          "2017-09-01",
          "2017-12-01",
          "2018-03-01",
          "2018-05-01",
          "2018-08-01",
          "2018-09-01"
         ],
         "xaxis": "x11",
         "y": [
          600895,
          849552,
          1217928,
          5230681,
          10088314,
          754315,
          362541,
          1084408,
          1183893,
          6285158
         ],
         "yaxis": "y11"
        },
        {
         "legendgroup": "10.601",
         "marker": {
          "color": "darkcyan"
         },
         "name": "10.601",
         "showlegend": false,
         "type": "scatter",
         "uid": "2253c0be-fd67-11e8-8184-b46bfca2d37e",
         "x": [
          "2017-02-01",
          "2017-03-01",
          "2017-04-01",
          "2017-08-01",
          "2017-09-01",
          "2017-12-01",
          "2018-03-01",
          "2018-05-01",
          "2018-08-01",
          "2018-09-01"
         ],
         "xaxis": "x12",
         "y": [
          3,
          3,
          1,
          1,
          2,
          4,
          3,
          1,
          2,
          5
         ],
         "yaxis": "y12"
        },
        {
         "legendgroup": "10.608",
         "marker": {
          "color": "darkkhaki"
         },
         "name": "10.608",
         "showlegend": false,
         "type": "scatter",
         "uid": "22545d34-fd67-11e8-8217-b46bfca2d37e",
         "x": [
          "2017-02-01",
          "2017-04-01",
          "2018-03-01"
         ],
         "xaxis": "x11",
         "y": [
          13232446,
          32292192,
          37297901
         ],
         "yaxis": "y11"
        },
        {
         "legendgroup": "10.608",
         "marker": {
          "color": "darkkhaki"
         },
         "name": "10.608",
         "showlegend": false,
         "type": "scatter",
         "uid": "22552080-fd67-11e8-b543-b46bfca2d37e",
         "x": [
          "2017-02-01",
          "2017-04-01",
          "2018-03-01"
         ],
         "xaxis": "x12",
         "y": [
          1,
          2,
          2
         ],
         "yaxis": "y12"
        },
        {
         "legendgroup": "10.777",
         "marker": {
          "color": "indianred"
         },
         "name": "10.777",
         "showlegend": false,
         "type": "scatter",
         "uid": "2255bb9c-fd67-11e8-b065-b46bfca2d37e",
         "x": [
          "2017-02-01",
          "2017-03-01",
          "2017-11-01",
          "2018-02-01",
          "2018-03-01"
         ],
         "xaxis": "x11",
         "y": [
          23781,
          53400,
          5775,
          36235,
          79842
         ],
         "yaxis": "y11"
        },
        {
         "legendgroup": "10.777",
         "marker": {
          "color": "indianred"
         },
         "name": "10.777",
         "showlegend": false,
         "type": "scatter",
         "uid": "225657de-fd67-11e8-b875-b46bfca2d37e",
         "x": [
          "2017-02-01",
          "2017-03-01",
          "2017-11-01",
          "2018-02-01",
          "2018-03-01"
         ],
         "xaxis": "x12",
         "y": [
          4,
          1,
          1,
          3,
          2
         ],
         "yaxis": "y12"
        },
        {
         "legendgroup": "10.960",
         "marker": {
          "color": "blue"
         },
         "name": "10.960",
         "showlegend": false,
         "type": "scatter",
         "uid": "2256f418-fd67-11e8-966f-b46bfca2d37e",
         "x": [
          "2017-02-01",
          "2017-03-01",
          "2018-02-01",
          "2018-03-01",
          "2018-11-01"
         ],
         "xaxis": "x11",
         "y": [
          9578,
          466857,
          19465,
          6355,
          68422
         ],
         "yaxis": "y11"
        },
        {
         "legendgroup": "10.960",
         "marker": {
          "color": "blue"
         },
         "name": "10.960",
         "showlegend": false,
         "type": "scatter",
         "uid": "22579030-fd67-11e8-80f1-b46bfca2d37e",
         "x": [
          "2017-02-01",
          "2017-03-01",
          "2018-02-01",
          "2018-03-01",
          "2018-11-01"
         ],
         "xaxis": "x12",
         "y": [
          6,
          1,
          3,
          2,
          1
         ],
         "yaxis": "y12"
        },
        {
         "legendgroup": "10.962",
         "marker": {
          "color": "brown"
         },
         "name": "10.962",
         "showlegend": false,
         "type": "scatter",
         "uid": "22580562-fd67-11e8-9b0b-b46bfca2d37e",
         "x": [
          "2017-02-01",
          "2017-03-01",
          "2018-03-01",
          "2018-08-01"
         ],
         "xaxis": "x11",
         "y": [
          33038,
          203950,
          158822,
          71120
         ],
         "yaxis": "y11"
        },
        {
         "legendgroup": "10.962",
         "marker": {
          "color": "brown"
         },
         "name": "10.962",
         "showlegend": false,
         "type": "scatter",
         "uid": "2258ab24-fd67-11e8-b04f-b46bfca2d37e",
         "x": [
          "2017-02-01",
          "2017-03-01",
          "2018-03-01",
          "2018-08-01"
         ],
         "xaxis": "x12",
         "y": [
          4,
          1,
          1,
          1
         ],
         "yaxis": "y12"
        },
        {
         "legendgroup": "10.604",
         "marker": {
          "color": "darkgray"
         },
         "name": "10.604",
         "showlegend": false,
         "type": "scatter",
         "uid": "2258ab25-fd67-11e8-931f-b46bfca2d37e",
         "x": [
          "2017-03-01",
          "2017-05-01",
          "2018-03-01"
         ],
         "xaxis": "x11",
         "y": [
          388170,
          526213,
          540940
         ],
         "yaxis": "y11"
        },
        {
         "legendgroup": "10.604",
         "marker": {
          "color": "darkgray"
         },
         "name": "10.604",
         "showlegend": false,
         "type": "scatter",
         "uid": "2258ab26-fd67-11e8-b7c1-b46bfca2d37e",
         "x": [
          "2017-03-01",
          "2017-05-01",
          "2018-03-01"
         ],
         "xaxis": "x12",
         "y": [
          1,
          2,
          1
         ],
         "yaxis": "y12"
        },
        {
         "legendgroup": "10.612",
         "marker": {
          "color": "darkmagenta"
         },
         "name": "10.612",
         "showlegend": false,
         "type": "scatter",
         "uid": "2258ab27-fd67-11e8-8e2c-b46bfca2d37e",
         "x": [
          "2017-03-01",
          "2018-03-01"
         ],
         "xaxis": "x11",
         "y": [
          160442,
          138449
         ],
         "yaxis": "y11"
        },
        {
         "legendgroup": "10.612",
         "marker": {
          "color": "darkmagenta"
         },
         "name": "10.612",
         "showlegend": false,
         "type": "scatter",
         "uid": "2258ab28-fd67-11e8-a8f3-b46bfca2d37e",
         "x": [
          "2017-03-01",
          "2018-03-01"
         ],
         "xaxis": "x12",
         "y": [
          1,
          1
         ],
         "yaxis": "y12"
        },
        {
         "legendgroup": "10.606",
         "marker": {
          "color": "darkgreen"
         },
         "name": "10.606",
         "showlegend": false,
         "type": "scatter",
         "uid": "225b0dc0-fd67-11e8-9e10-b46bfca2d37e",
         "x": [
          "2017-04-01",
          "2017-07-01",
          "2017-09-01",
          "2018-01-01",
          "2018-03-01",
          "2018-09-01"
         ],
         "xaxis": "x11",
         "y": [
          10592897,
          786409,
          2256191,
          12118804,
          13493763,
          19895826
         ],
         "yaxis": "y11"
        },
        {
         "legendgroup": "10.606",
         "marker": {
          "color": "darkgreen"
         },
         "name": "10.606",
         "showlegend": false,
         "type": "scatter",
         "uid": "225b0dc1-fd67-11e8-ad22-b46bfca2d37e",
         "x": [
          "2017-04-01",
          "2017-07-01",
          "2017-09-01",
          "2018-01-01",
          "2018-03-01",
          "2018-09-01"
         ],
         "xaxis": "x12",
         "y": [
          2,
          1,
          3,
          4,
          2,
          2
         ],
         "yaxis": "y12"
        },
        {
         "legendgroup": "10.600",
         "marker": {
          "color": "darkblue"
         },
         "name": "10.600",
         "showlegend": false,
         "type": "scatter",
         "uid": "225b0dc2-fd67-11e8-ab98-b46bfca2d37e",
         "x": [
          "2017-09-01",
          "2018-03-01",
          "2018-08-01"
         ],
         "xaxis": "x11",
         "y": [
          118890,
          2348,
          547169
         ],
         "yaxis": "y11"
        },
        {
         "legendgroup": "10.600",
         "marker": {
          "color": "darkblue"
         },
         "name": "10.600",
         "showlegend": false,
         "type": "scatter",
         "uid": "225b0dc3-fd67-11e8-8a81-b46bfca2d37e",
         "x": [
          "2017-09-01",
          "2018-03-01",
          "2018-08-01"
         ],
         "xaxis": "x12",
         "y": [
          1,
          1,
          2
         ],
         "yaxis": "y12"
        },
        {
         "legendgroup": "10.603",
         "marker": {
          "color": "darkgoldenrod"
         },
         "name": "10.603",
         "showlegend": false,
         "type": "scatter",
         "uid": "225dc502-fd67-11e8-bf60-b46bfca2d37e",
         "x": [
          "2017-09-01",
          "2018-09-01"
         ],
         "xaxis": "x11",
         "y": [
          542509,
          189533
         ],
         "yaxis": "y11"
        },
        {
         "legendgroup": "10.603",
         "marker": {
          "color": "darkgoldenrod"
         },
         "name": "10.603",
         "showlegend": false,
         "type": "scatter",
         "uid": "225e6146-fd67-11e8-b26b-b46bfca2d37e",
         "x": [
          "2017-09-01",
          "2018-09-01"
         ],
         "xaxis": "x12",
         "y": [
          1,
          3
         ],
         "yaxis": "y12"
        },
        {
         "legendgroup": "10.961",
         "marker": {
          "color": "blueviolet"
         },
         "name": "10.961",
         "showlegend": false,
         "type": "scatter",
         "uid": "225ed670-fd67-11e8-81b1-b46bfca2d37e",
         "x": [
          "2018-03-01"
         ],
         "xaxis": "x11",
         "y": [
          22073
         ],
         "yaxis": "y11"
        },
        {
         "legendgroup": "10.961",
         "marker": {
          "color": "blueviolet"
         },
         "name": "10.961",
         "showlegend": false,
         "type": "scatter",
         "uid": "225f73e4-fd67-11e8-a000-b46bfca2d37e",
         "x": [
          "2018-03-01"
         ],
         "xaxis": "x12",
         "y": [
          2
         ],
         "yaxis": "y12"
        },
        {
         "legendgroup": "10.605",
         "marker": {
          "color": "magenta"
         },
         "name": "10.605",
         "showlegend": false,
         "type": "scatter",
         "uid": "2260101e-fd67-11e8-9b6b-b46bfca2d37e",
         "x": [
          "2018-08-01",
          "2018-09-01"
         ],
         "xaxis": "x11",
         "y": [
          74952,
          1310000
         ],
         "yaxis": "y11"
        },
        {
         "legendgroup": "10.605",
         "marker": {
          "color": "magenta"
         },
         "name": "10.605",
         "showlegend": false,
         "type": "scatter",
         "uid": "22608552-fd67-11e8-871e-b46bfca2d37e",
         "x": [
          "2018-08-01",
          "2018-09-01"
         ],
         "xaxis": "x12",
         "y": [
          2,
          3
         ],
         "yaxis": "y12"
        },
        {
         "legendgroup": "10.543",
         "marker": {
          "color": "lightgoldenrodyellow"
         },
         "name": "10.543",
         "showlegend": false,
         "type": "scatter",
         "uid": "2261219a-fd67-11e8-8f9b-b46bfca2d37e",
         "x": [
          "2016-12-01",
          "2017-01-01",
          "2017-11-01",
          "2018-03-01"
         ],
         "xaxis": "x13",
         "y": [
          1500,
          485,
          36,
          500
         ],
         "yaxis": "y13"
        },
        {
         "legendgroup": "10.543",
         "marker": {
          "color": "lightgoldenrodyellow"
         },
         "name": "10.543",
         "showlegend": false,
         "type": "scatter",
         "uid": "2261e3b4-fd67-11e8-b0b6-b46bfca2d37e",
         "x": [
          "2016-12-01",
          "2017-01-01",
          "2017-11-01",
          "2018-03-01"
         ],
         "xaxis": "x14",
         "y": [
          1,
          2,
          1,
          2
         ],
         "yaxis": "y14"
        },
        {
         "legendgroup": "10.551",
         "marker": {
          "color": "mediumaquamarine"
         },
         "name": "10.551",
         "showlegend": false,
         "type": "scatter",
         "uid": "2262a708-fd67-11e8-a10f-b46bfca2d37e",
         "x": [
          "2016-12-01",
          "2017-01-01",
          "2017-02-01",
          "2017-03-01",
          "2017-04-01",
          "2017-05-01",
          "2017-06-01",
          "2017-07-01",
          "2017-09-01",
          "2017-12-01",
          "2018-02-01",
          "2018-03-01",
          "2018-04-01",
          "2018-06-01",
          "2018-09-01",
          "2018-11-01"
         ],
         "xaxis": "x13",
         "y": [
          4964314000,
          1797516,
          3128518618,
          21753163999,
          848403954,
          1833281412,
          3899505872,
          11479269,
          172365015,
          14970550,
          2270618578,
          22776727553,
          1019934794,
          5280583536,
          15273334,
          648861
         ],
         "yaxis": "y13"
        },
        {
         "legendgroup": "10.551",
         "marker": {
          "color": "mediumaquamarine"
         },
         "name": "10.551",
         "showlegend": false,
         "type": "scatter",
         "uid": "22636a54-fd67-11e8-8bf6-b46bfca2d37e",
         "x": [
          "2016-12-01",
          "2017-01-01",
          "2017-02-01",
          "2017-03-01",
          "2017-04-01",
          "2017-05-01",
          "2017-06-01",
          "2017-07-01",
          "2017-09-01",
          "2017-12-01",
          "2018-02-01",
          "2018-03-01",
          "2018-04-01",
          "2018-06-01",
          "2018-09-01",
          "2018-11-01"
         ],
         "xaxis": "x14",
         "y": [
          1,
          1,
          8,
          46,
          1,
          2,
          15,
          3,
          4,
          3,
          2,
          37,
          8,
          28,
          1,
          1
         ],
         "yaxis": "y14"
        },
        {
         "legendgroup": "10.553",
         "marker": {
          "color": "lightgreen"
         },
         "name": "10.553",
         "showlegend": false,
         "type": "scatter",
         "uid": "22642ed4-fd67-11e8-86db-b46bfca2d37e",
         "x": [
          "2016-12-01",
          "2017-01-01",
          "2017-02-01",
          "2017-03-01",
          "2017-04-01",
          "2017-05-01",
          "2017-06-01",
          "2017-07-01",
          "2017-08-01",
          "2017-09-01",
          "2017-10-01",
          "2017-11-01",
          "2017-12-01",
          "2018-01-01",
          "2018-02-01",
          "2018-03-01",
          "2018-04-01",
          "2018-05-01",
          "2018-06-01",
          "2018-07-01",
          "2018-08-01",
          "2018-09-01",
          "2018-10-01",
          "2018-11-01",
          "2018-12-01"
         ],
         "xaxis": "x13",
         "y": [
          45393594,
          61535970,
          141633658,
          1164425378,
          7742285,
          5042628,
          216021972,
          5098322,
          25978900,
          17910361,
          7714098,
          33094364,
          80086563,
          179744963,
          166464559,
          1022871976,
          79401967,
          17955733,
          285093308,
          11661840,
          4467041,
          4144036,
          15129484,
          17270222,
          16831008
         ],
         "yaxis": "y13"
        },
        {
         "legendgroup": "10.553",
         "marker": {
          "color": "lightgreen"
         },
         "name": "10.553",
         "showlegend": false,
         "type": "scatter",
         "uid": "2264f0f4-fd67-11e8-a7a1-b46bfca2d37e",
         "x": [
          "2016-12-01",
          "2017-01-01",
          "2017-02-01",
          "2017-03-01",
          "2017-04-01",
          "2017-05-01",
          "2017-06-01",
          "2017-07-01",
          "2017-08-01",
          "2017-09-01",
          "2017-10-01",
          "2017-11-01",
          "2017-12-01",
          "2018-01-01",
          "2018-02-01",
          "2018-03-01",
          "2018-04-01",
          "2018-05-01",
          "2018-06-01",
          "2018-07-01",
          "2018-08-01",
          "2018-09-01",
          "2018-10-01",
          "2018-11-01",
          "2018-12-01"
         ],
         "xaxis": "x14",
         "y": [
          68,
          168.66666666666666,
          80,
          154,
          23,
          26,
          23,
          30,
          53,
          115,
          65,
          86,
          139,
          148,
          63,
          173,
          55,
          96,
          70.12698412698413,
          59.6,
          51,
          32,
          103.7936507936508,
          111,
          29
         ],
         "yaxis": "y14"
        },
        {
         "legendgroup": "10.555",
         "marker": {
          "color": "lightsalmon"
         },
         "name": "10.555",
         "showlegend": false,
         "type": "scatter",
         "uid": "2265729c-fd67-11e8-ad43-b46bfca2d37e",
         "x": [
          "2016-12-01",
          "2017-01-01",
          "2017-02-01",
          "2017-03-01",
          "2017-04-01",
          "2017-05-01",
          "2017-06-01",
          "2017-07-01",
          "2017-08-01",
          "2017-09-01",
          "2017-10-01",
          "2017-11-01",
          "2017-12-01",
          "2018-01-01",
          "2018-02-01",
          "2018-03-01",
          "2018-04-01",
          "2018-05-01",
          "2018-06-01",
          "2018-07-01",
          "2018-08-01",
          "2018-09-01",
          "2018-10-01",
          "2018-11-01",
          "2018-12-01"
         ],
         "xaxis": "x13",
         "y": [
          133574728,
          253587014,
          498410598,
          3836383884,
          19879128,
          17819934,
          697498654,
          23135708,
          84329757,
          71985361,
          25714226,
          116207995,
          1263516956,
          459607779,
          570664728,
          3212558912,
          231375101,
          83287702,
          973754982,
          41599536,
          15493424,
          11770109,
          54861663,
          67521822,
          55991205
         ],
         "yaxis": "y13"
        },
        {
         "legendgroup": "10.555",
         "marker": {
          "color": "lightsalmon"
         },
         "name": "10.555",
         "showlegend": false,
         "type": "scatter",
         "uid": "2265729d-fd67-11e8-8520-b46bfca2d37e",
         "x": [
          "2016-12-01",
          "2017-01-01",
          "2017-02-01",
          "2017-03-01",
          "2017-04-01",
          "2017-05-01",
          "2017-06-01",
          "2017-07-01",
          "2017-08-01",
          "2017-09-01",
          "2017-10-01",
          "2017-11-01",
          "2017-12-01",
          "2018-01-01",
          "2018-02-01",
          "2018-03-01",
          "2018-04-01",
          "2018-05-01",
          "2018-06-01",
          "2018-07-01",
          "2018-08-01",
          "2018-09-01",
          "2018-10-01",
          "2018-11-01",
          "2018-12-01"
         ],
         "xaxis": "x14",
         "y": [
          80.8,
          184.66666666666666,
          88,
          175,
          26,
          29,
          34,
          33,
          61.66666666666667,
          130.54545454545456,
          70.33333333333333,
          95,
          158,
          165.66666666666666,
          79.57142857142857,
          190,
          59,
          104.9047619047619,
          75.12698412698413,
          62.6,
          55,
          33,
          112.72698412698414,
          117,
          33
         ],
         "yaxis": "y14"
        },
        {
         "legendgroup": "10.556",
         "marker": {
          "color": "lightseagreen"
         },
         "name": "10.556",
         "showlegend": false,
         "type": "scatter",
         "uid": "2265729e-fd67-11e8-b152-b46bfca2d37e",
         "x": [
          "2016-12-01",
          "2017-01-01",
          "2017-02-01",
          "2017-03-01",
          "2017-06-01",
          "2017-07-01",
          "2017-09-01",
          "2017-10-01",
          "2017-11-01",
          "2017-12-01",
          "2018-01-01",
          "2018-02-01",
          "2018-03-01",
          "2018-04-01",
          "2018-06-01",
          "2018-07-01",
          "2018-08-01",
          "2018-10-01",
          "2018-11-01",
          "2018-12-01"
         ],
         "xaxis": "x13",
         "y": [
          3127,
          725667,
          349740,
          3773557,
          327857,
          3146,
          5406,
          22043,
          1265,
          452738,
          60361,
          459319,
          700726,
          3200,
          2205337,
          143,
          55,
          18631,
          11891,
          11447
         ],
         "yaxis": "y13"
        },
        {
         "legendgroup": "10.556",
         "marker": {
          "color": "lightseagreen"
         },
         "name": "10.556",
         "showlegend": false,
         "type": "scatter",
         "uid": "2265729f-fd67-11e8-8d18-b46bfca2d37e",
         "x": [
          "2016-12-01",
          "2017-01-01",
          "2017-02-01",
          "2017-03-01",
          "2017-06-01",
          "2017-07-01",
          "2017-09-01",
          "2017-10-01",
          "2017-11-01",
          "2017-12-01",
          "2018-01-01",
          "2018-02-01",
          "2018-03-01",
          "2018-04-01",
          "2018-06-01",
          "2018-07-01",
          "2018-08-01",
          "2018-10-01",
          "2018-11-01",
          "2018-12-01"
         ],
         "xaxis": "x14",
         "y": [
          3,
          15,
          6,
          30,
          9,
          1,
          8,
          11,
          1,
          21,
          9,
          3,
          23,
          1,
          9,
          4,
          2,
          7,
          6,
          2
         ],
         "yaxis": "y14"
        },
        {
         "legendgroup": "10.557",
         "marker": {
          "color": "lightskyblue"
         },
         "name": "10.557",
         "showlegend": false,
         "type": "scatter",
         "uid": "2267d518-fd67-11e8-86c2-b46bfca2d37e",
         "x": [
          "2016-12-01",
          "2017-01-01",
          "2017-02-01",
          "2017-03-01",
          "2017-04-01",
          "2017-05-01",
          "2017-06-01",
          "2017-07-01",
          "2017-08-01",
          "2017-09-01",
          "2017-11-01",
          "2017-12-01",
          "2018-01-01",
          "2018-02-01",
          "2018-03-01",
          "2018-04-01",
          "2018-05-01",
          "2018-06-01",
          "2018-07-01",
          "2018-08-01",
          "2018-09-01",
          "2018-10-01",
          "2018-11-01"
         ],
         "xaxis": "x13",
         "y": [
          560909,
          4766694,
          39211599,
          2728136335,
          88273463,
          5326283,
          169543028,
          2669344,
          24972065,
          9070784,
          3358034,
          14643710,
          12040889,
          49202652,
          1020835011,
          458682582,
          611697,
          352751162,
          32692227,
          8111890,
          8097740,
          1645106,
          12261883
         ],
         "yaxis": "y13"
        },
        {
         "legendgroup": "10.557",
         "marker": {
          "color": "lightskyblue"
         },
         "name": "10.557",
         "showlegend": false,
         "type": "scatter",
         "uid": "2267d519-fd67-11e8-b7bc-b46bfca2d37e",
         "x": [
          "2016-12-01",
          "2017-01-01",
          "2017-02-01",
          "2017-03-01",
          "2017-04-01",
          "2017-05-01",
          "2017-06-01",
          "2017-07-01",
          "2017-08-01",
          "2017-09-01",
          "2017-11-01",
          "2017-12-01",
          "2018-01-01",
          "2018-02-01",
          "2018-03-01",
          "2018-04-01",
          "2018-05-01",
          "2018-06-01",
          "2018-07-01",
          "2018-08-01",
          "2018-09-01",
          "2018-10-01",
          "2018-11-01"
         ],
         "xaxis": "x14",
         "y": [
          2,
          11,
          14,
          49,
          20,
          5.6,
          23.666666666666668,
          2,
          13,
          25.846153846153847,
          7,
          3,
          5,
          3,
          26.666666666666668,
          13,
          2,
          24,
          13,
          5,
          20,
          3,
          4
         ],
         "yaxis": "y14"
        },
        {
         "legendgroup": "10.558",
         "marker": {
          "color": "lightslategray"
         },
         "name": "10.558",
         "showlegend": false,
         "type": "scatter",
         "uid": "2267d51a-fd67-11e8-b0b6-b46bfca2d37e",
         "x": [
          "2016-12-01",
          "2017-01-01",
          "2017-02-01",
          "2017-03-01",
          "2017-04-01",
          "2017-05-01",
          "2017-06-01",
          "2017-07-01",
          "2017-08-01",
          "2017-09-01",
          "2017-10-01",
          "2017-11-01",
          "2017-12-01",
          "2018-01-01",
          "2018-02-01",
          "2018-03-01",
          "2018-04-01",
          "2018-05-01",
          "2018-06-01",
          "2018-07-01",
          "2018-08-01",
          "2018-09-01",
          "2018-10-01",
          "2018-11-01",
          "2018-12-01"
         ],
         "xaxis": "x13",
         "y": [
          4743406,
          20059341,
          132052251,
          913846505,
          14130795,
          16108040,
          114829595,
          17011165,
          3734743,
          19312104,
          8982815,
          8554089,
          8033490,
          34121403,
          109809191,
          853188582,
          56719142,
          2759729,
          190889550,
          14178595,
          7592458,
          22756534,
          16289989,
          5445571,
          3559192
         ],
         "yaxis": "y13"
        },
        {
         "legendgroup": "10.558",
         "marker": {
          "color": "lightslategray"
         },
         "name": "10.558",
         "showlegend": false,
         "type": "scatter",
         "uid": "226a389c-fd67-11e8-bc22-b46bfca2d37e",
         "x": [
          "2016-12-01",
          "2017-01-01",
          "2017-02-01",
          "2017-03-01",
          "2017-04-01",
          "2017-05-01",
          "2017-06-01",
          "2017-07-01",
          "2017-08-01",
          "2017-09-01",
          "2017-10-01",
          "2017-11-01",
          "2017-12-01",
          "2018-01-01",
          "2018-02-01",
          "2018-03-01",
          "2018-04-01",
          "2018-05-01",
          "2018-06-01",
          "2018-07-01",
          "2018-08-01",
          "2018-09-01",
          "2018-10-01",
          "2018-11-01",
          "2018-12-01"
         ],
         "xaxis": "x14",
         "y": [
          4,
          21,
          13,
          59,
          8,
          13,
          35,
          21,
          16,
          15,
          2.666666666666667,
          8,
          12,
          15,
          13.6,
          53,
          7,
          10,
          29,
          14,
          12,
          29,
          16,
          8,
          4
         ],
         "yaxis": "y14"
        },
        {
         "legendgroup": "10.559",
         "marker": {
          "color": "midnightblue"
         },
         "name": "10.559",
         "showlegend": false,
         "type": "scatter",
         "uid": "226a389d-fd67-11e8-b19c-b46bfca2d37e",
         "x": [
          "2016-12-01",
          "2017-01-01",
          "2017-02-01",
          "2017-03-01",
          "2017-04-01",
          "2017-05-01",
          "2017-06-01",
          "2017-07-01",
          "2017-08-01",
          "2017-09-01",
          "2017-10-01",
          "2017-11-01",
          "2017-12-01",
          "2018-01-01",
          "2018-02-01",
          "2018-03-01",
          "2018-04-01",
          "2018-05-01",
          "2018-06-01",
          "2018-07-01",
          "2018-08-01",
          "2018-09-01",
          "2018-10-01",
          "2018-11-01",
          "2018-12-01"
         ],
         "xaxis": "x13",
         "y": [
          3586869,
          4998614,
          13586343,
          151125700,
          960875,
          1825951,
          20082456,
          556945,
          3918688,
          1164046,
          320439,
          1276722,
          70412832,
          5459099,
          12919049,
          110947561,
          25706430,
          2706927,
          26072201,
          3586606,
          594538,
          318268,
          1265688,
          1426790,
          904790
         ],
         "yaxis": "y13"
        },
        {
         "legendgroup": "10.559",
         "marker": {
          "color": "midnightblue"
         },
         "name": "10.559",
         "showlegend": false,
         "type": "scatter",
         "uid": "226a389e-fd67-11e8-8d0e-b46bfca2d37e",
         "x": [
          "2016-12-01",
          "2017-01-01",
          "2017-02-01",
          "2017-03-01",
          "2017-04-01",
          "2017-05-01",
          "2017-06-01",
          "2017-07-01",
          "2017-08-01",
          "2017-09-01",
          "2017-10-01",
          "2017-11-01",
          "2017-12-01",
          "2018-01-01",
          "2018-02-01",
          "2018-03-01",
          "2018-04-01",
          "2018-05-01",
          "2018-06-01",
          "2018-07-01",
          "2018-08-01",
          "2018-09-01",
          "2018-10-01",
          "2018-11-01",
          "2018-12-01"
         ],
         "xaxis": "x14",
         "y": [
          33,
          61,
          34,
          114,
          9,
          23,
          13,
          10,
          25,
          38,
          23,
          39,
          63,
          65,
          25,
          105,
          17,
          42.666666666666664,
          33.6,
          24,
          16,
          15,
          55.55555555555556,
          52,
          11
         ],
         "yaxis": "y14"
        },
        {
         "legendgroup": "10.561",
         "marker": {
          "color": "mediumpurple"
         },
         "name": "10.561",
         "showlegend": false,
         "type": "scatter",
         "uid": "226a389f-fd67-11e8-ad21-b46bfca2d37e",
         "x": [
          "2016-12-01",
          "2017-01-01",
          "2017-02-01",
          "2017-03-01",
          "2017-04-01",
          "2017-05-01",
          "2017-06-01",
          "2017-07-01",
          "2017-08-01",
          "2017-09-01",
          "2017-11-01",
          "2017-12-01",
          "2018-01-01",
          "2018-02-01",
          "2018-03-01",
          "2018-04-01",
          "2018-05-01",
          "2018-06-01",
          "2018-07-01",
          "2018-08-01",
          "2018-09-01",
          "2018-10-01",
          "2018-11-01",
          "2018-12-01"
         ],
         "xaxis": "x13",
         "y": [
          406617314,
          10216793,
          135749213,
          1472113918,
          27753399,
          66864818,
          330692167,
          9455870,
          847110,
          15813175,
          25290596,
          18213104,
          6354728,
          110773965,
          1891917636,
          55975401,
          599377,
          303245215,
          1759523,
          883105,
          7662369,
          359734,
          11115141,
          871038
         ],
         "yaxis": "y13"
        },
        {
         "legendgroup": "10.561",
         "marker": {
          "color": "mediumpurple"
         },
         "name": "10.561",
         "showlegend": false,
         "type": "scatter",
         "uid": "226c99a2-fd67-11e8-a09d-b46bfca2d37e",
         "x": [
          "2016-12-01",
          "2017-01-01",
          "2017-02-01",
          "2017-03-01",
          "2017-04-01",
          "2017-05-01",
          "2017-06-01",
          "2017-07-01",
          "2017-08-01",
          "2017-09-01",
          "2017-11-01",
          "2017-12-01",
          "2018-01-01",
          "2018-02-01",
          "2018-03-01",
          "2018-04-01",
          "2018-05-01",
          "2018-06-01",
          "2018-07-01",
          "2018-08-01",
          "2018-09-01",
          "2018-10-01",
          "2018-11-01",
          "2018-12-01"
         ],
         "xaxis": "x14",
         "y": [
          2,
          7,
          8,
          66,
          3,
          2,
          20,
          5,
          8,
          32.333333333333336,
          6,
          4,
          4,
          4,
          48,
          9,
          4,
          30.6,
          4,
          5,
          28.266666666666666,
          2,
          4,
          1
         ],
         "yaxis": "y14"
        },
        {
         "legendgroup": "10.565",
         "marker": {
          "color": "red"
         },
         "name": "10.565",
         "showlegend": false,
         "type": "scatter",
         "uid": "226c99a3-fd67-11e8-a94e-b46bfca2d37e",
         "x": [
          "2016-12-01",
          "2017-01-01",
          "2017-02-01",
          "2017-03-01",
          "2017-05-01",
          "2017-06-01",
          "2017-08-01",
          "2017-09-01",
          "2017-10-01",
          "2017-11-01",
          "2017-12-01",
          "2018-01-01",
          "2018-02-01",
          "2018-03-01",
          "2018-06-01",
          "2018-07-01",
          "2018-09-01",
          "2018-10-01",
          "2018-11-01",
          "2018-12-01"
         ],
         "xaxis": "x13",
         "y": [
          8073916,
          570752,
          2197564,
          1980643,
          682134,
          1568539,
          422711,
          160588,
          5019005,
          1264692,
          1645955,
          3440441,
          1053710,
          4547290,
          20861336,
          507427,
          534874,
          3159871,
          268127,
          190398
         ],
         "yaxis": "y13"
        },
        {
         "legendgroup": "10.565",
         "marker": {
          "color": "red"
         },
         "name": "10.565",
         "showlegend": false,
         "type": "scatter",
         "uid": "226c99a4-fd67-11e8-b7ef-b46bfca2d37e",
         "x": [
          "2016-12-01",
          "2017-01-01",
          "2017-02-01",
          "2017-03-01",
          "2017-05-01",
          "2017-06-01",
          "2017-08-01",
          "2017-09-01",
          "2017-10-01",
          "2017-11-01",
          "2017-12-01",
          "2018-01-01",
          "2018-02-01",
          "2018-03-01",
          "2018-06-01",
          "2018-07-01",
          "2018-09-01",
          "2018-10-01",
          "2018-11-01",
          "2018-12-01"
         ],
         "xaxis": "x14",
         "y": [
          6,
          2,
          8,
          7,
          2,
          2,
          1,
          1,
          3,
          2,
          5,
          4,
          5,
          9,
          5,
          2,
          1,
          5,
          2,
          1
         ],
         "yaxis": "y14"
        },
        {
         "legendgroup": "10.568",
         "marker": {
          "color": "mediumturquoise"
         },
         "name": "10.568",
         "showlegend": false,
         "type": "scatter",
         "uid": "226efc34-fd67-11e8-928f-b46bfca2d37e",
         "x": [
          "2016-12-01",
          "2017-01-01",
          "2017-02-01",
          "2017-03-01",
          "2017-05-01",
          "2017-06-01",
          "2017-07-01",
          "2017-09-01",
          "2017-10-01",
          "2017-11-01",
          "2017-12-01",
          "2018-01-01",
          "2018-02-01",
          "2018-03-01",
          "2018-05-01",
          "2018-06-01",
          "2018-07-01",
          "2018-08-01",
          "2018-09-01",
          "2018-10-01",
          "2018-11-01",
          "2018-12-01"
         ],
         "xaxis": "x13",
         "y": [
          2200520,
          550339,
          452691,
          729461,
          1886743,
          313123,
          699867,
          1033893,
          299057,
          1022362,
          2983512,
          1123460,
          678639,
          1603662,
          343027,
          5664738,
          74271,
          116196,
          668907,
          805782,
          1806632,
          112622
         ],
         "yaxis": "y13"
        },
        {
         "legendgroup": "10.568",
         "marker": {
          "color": "mediumturquoise"
         },
         "name": "10.568",
         "showlegend": false,
         "type": "scatter",
         "uid": "226efc35-fd67-11e8-a035-b46bfca2d37e",
         "x": [
          "2016-12-01",
          "2017-01-01",
          "2017-02-01",
          "2017-03-01",
          "2017-05-01",
          "2017-06-01",
          "2017-07-01",
          "2017-09-01",
          "2017-10-01",
          "2017-11-01",
          "2017-12-01",
          "2018-01-01",
          "2018-02-01",
          "2018-03-01",
          "2018-05-01",
          "2018-06-01",
          "2018-07-01",
          "2018-08-01",
          "2018-09-01",
          "2018-10-01",
          "2018-11-01",
          "2018-12-01"
         ],
         "xaxis": "x14",
         "y": [
          4,
          4,
          5,
          8,
          6,
          2,
          4,
          4,
          1,
          7,
          4,
          6,
          2,
          9,
          2,
          5,
          3,
          2,
          6,
          5,
          3,
          1
         ],
         "yaxis": "y14"
        },
        {
         "legendgroup": "10.569",
         "marker": {
          "color": "olive"
         },
         "name": "10.569",
         "showlegend": false,
         "type": "scatter",
         "uid": "226efc36-fd67-11e8-bc6a-b46bfca2d37e",
         "x": [
          "2016-12-01",
          "2017-01-01",
          "2017-02-01",
          "2017-03-01",
          "2017-04-01",
          "2017-05-01",
          "2017-07-01",
          "2017-08-01",
          "2017-09-01",
          "2017-10-01",
          "2017-11-01",
          "2017-12-01",
          "2018-01-01",
          "2018-02-01",
          "2018-03-01",
          "2018-04-01",
          "2018-05-01",
          "2018-06-01",
          "2018-07-01",
          "2018-08-01",
          "2018-09-01",
          "2018-10-01",
          "2018-11-01",
          "2018-12-01"
         ],
         "xaxis": "x13",
         "y": [
          22740893,
          8837071,
          5583108,
          8213048,
          968334,
          10662112,
          19876642,
          47154,
          12000509,
          863491,
          14107854,
          54342984,
          18542272,
          14624967,
          35957174,
          7612194,
          6707513,
          18247132,
          4990846,
          1616946,
          9549447,
          12763746,
          24589094,
          945592
         ],
         "yaxis": "y13"
        },
        {
         "legendgroup": "10.569",
         "marker": {
          "color": "olive"
         },
         "name": "10.569",
         "showlegend": false,
         "type": "scatter",
         "uid": "226efc37-fd67-11e8-b1ba-b46bfca2d37e",
         "x": [
          "2016-12-01",
          "2017-01-01",
          "2017-02-01",
          "2017-03-01",
          "2017-04-01",
          "2017-05-01",
          "2017-07-01",
          "2017-08-01",
          "2017-09-01",
          "2017-10-01",
          "2017-11-01",
          "2017-12-01",
          "2018-01-01",
          "2018-02-01",
          "2018-03-01",
          "2018-04-01",
          "2018-05-01",
          "2018-06-01",
          "2018-07-01",
          "2018-08-01",
          "2018-09-01",
          "2018-10-01",
          "2018-11-01",
          "2018-12-01"
         ],
         "xaxis": "x14",
         "y": [
          4,
          8,
          6,
          7,
          2,
          8,
          7,
          1,
          6,
          1,
          12,
          5,
          8,
          6,
          13,
          5,
          1,
          5,
          6,
          4,
          10,
          9,
          6,
          1
         ],
         "yaxis": "y14"
        },
        {
         "legendgroup": "10.582",
         "marker": {
          "color": "burlywood"
         },
         "name": "10.582",
         "showlegend": false,
         "type": "scatter",
         "uid": "22722a66-fd67-11e8-9fb9-b46bfca2d37e",
         "x": [
          "2016-12-01",
          "2017-01-01",
          "2017-02-01",
          "2017-03-01",
          "2017-06-01",
          "2017-07-01",
          "2017-08-01",
          "2017-11-01",
          "2017-12-01",
          "2018-01-01",
          "2018-02-01",
          "2018-03-01",
          "2018-04-01",
          "2018-07-01",
          "2018-08-01",
          "2018-10-01",
          "2018-11-01"
         ],
         "xaxis": "x13",
         "y": [
          28806,
          167207,
          79407,
          325167,
          61555,
          10389,
          42191,
          192353,
          201336,
          21477,
          58884,
          57282,
          23779,
          20744,
          39272,
          55992,
          22256
         ],
         "yaxis": "y13"
        },
        {
         "legendgroup": "10.582",
         "marker": {
          "color": "burlywood"
         },
         "name": "10.582",
         "showlegend": false,
         "type": "scatter",
         "uid": "227314ec-fd67-11e8-8bd3-b46bfca2d37e",
         "x": [
          "2016-12-01",
          "2017-01-01",
          "2017-02-01",
          "2017-03-01",
          "2017-06-01",
          "2017-07-01",
          "2017-08-01",
          "2017-11-01",
          "2017-12-01",
          "2018-01-01",
          "2018-02-01",
          "2018-03-01",
          "2018-04-01",
          "2018-07-01",
          "2018-08-01",
          "2018-10-01",
          "2018-11-01"
         ],
         "xaxis": "x14",
         "y": [
          3,
          6,
          4,
          6,
          1,
          1,
          4,
          3,
          6,
          4,
          1,
          10,
          1,
          11,
          9,
          4,
          2
         ],
         "yaxis": "y14"
        },
        {
         "legendgroup": "10.574",
         "marker": {
          "color": "black"
         },
         "name": "10.574",
         "showlegend": false,
         "type": "scatter",
         "uid": "2273ff64-fd67-11e8-9f32-b46bfca2d37e",
         "x": [
          "2017-01-01",
          "2017-03-01",
          "2017-10-01",
          "2018-03-01",
          "2018-08-01",
          "2018-11-01"
         ],
         "xaxis": "x13",
         "y": [
          100,
          647,
          4424,
          750,
          950,
          176676
         ],
         "yaxis": "y13"
        },
        {
         "legendgroup": "10.574",
         "marker": {
          "color": "black"
         },
         "name": "10.574",
         "showlegend": false,
         "type": "scatter",
         "uid": "2274844a-fd67-11e8-a633-b46bfca2d37e",
         "x": [
          "2017-01-01",
          "2017-03-01",
          "2017-10-01",
          "2018-03-01",
          "2018-08-01",
          "2018-11-01"
         ],
         "xaxis": "x14",
         "y": [
          1,
          1,
          1,
          1,
          2,
          1
         ],
         "yaxis": "y14"
        },
        {
         "legendgroup": "10.579",
         "marker": {
          "color": "blueviolet"
         },
         "name": "10.579",
         "showlegend": false,
         "type": "scatter",
         "uid": "2274844b-fd67-11e8-b715-b46bfca2d37e",
         "x": [
          "2017-01-01",
          "2017-02-01",
          "2017-03-01",
          "2017-04-01",
          "2017-11-01",
          "2017-12-01",
          "2018-01-01",
          "2018-02-01",
          "2018-11-01",
          "2018-12-01"
         ],
         "xaxis": "x13",
         "y": [
          32360,
          25330,
          36538,
          6472,
          21805,
          49532,
          9431,
          18498,
          20604,
          55000
         ],
         "yaxis": "y13"
        },
        {
         "legendgroup": "10.579",
         "marker": {
          "color": "blueviolet"
         },
         "name": "10.579",
         "showlegend": false,
         "type": "scatter",
         "uid": "2274844c-fd67-11e8-adc2-b46bfca2d37e",
         "x": [
          "2017-01-01",
          "2017-02-01",
          "2017-03-01",
          "2017-04-01",
          "2017-11-01",
          "2017-12-01",
          "2018-01-01",
          "2018-02-01",
          "2018-11-01",
          "2018-12-01"
         ],
         "xaxis": "x14",
         "y": [
          4,
          1,
          1,
          2,
          3,
          4,
          1,
          1,
          1,
          4
         ],
         "yaxis": "y14"
        },
        {
         "legendgroup": "10.597",
         "marker": {
          "color": "crimson"
         },
         "name": "10.597",
         "showlegend": false,
         "type": "scatter",
         "uid": "22779c66-fd67-11e8-9626-b46bfca2d37e",
         "x": [
          "2017-02-01",
          "2017-11-01",
          "2018-03-01"
         ],
         "xaxis": "x13",
         "y": [
          356347,
          13562,
          656385
         ],
         "yaxis": "y13"
        },
        {
         "legendgroup": "10.597",
         "marker": {
          "color": "crimson"
         },
         "name": "10.597",
         "showlegend": false,
         "type": "scatter",
         "uid": "227838ae-fd67-11e8-bee6-b46bfca2d37e",
         "x": [
          "2017-02-01",
          "2017-11-01",
          "2018-03-01"
         ],
         "xaxis": "x14",
         "y": [
          6,
          2,
          1
         ],
         "yaxis": "y14"
        },
        {
         "legendgroup": "10.560",
         "marker": {
          "color": "lightsteelblue"
         },
         "name": "10.560",
         "showlegend": false,
         "type": "scatter",
         "uid": "22794a2e-fd67-11e8-a368-b46bfca2d37e",
         "x": [
          "2017-03-01",
          "2018-03-01"
         ],
         "xaxis": "x13",
         "y": [
          43917485,
          38198961
         ],
         "yaxis": "y13"
        },
        {
         "legendgroup": "10.560",
         "marker": {
          "color": "lightsteelblue"
         },
         "name": "10.560",
         "showlegend": false,
         "type": "scatter",
         "uid": "2279e662-fd67-11e8-b25b-b46bfca2d37e",
         "x": [
          "2017-03-01",
          "2018-03-01"
         ],
         "xaxis": "x14",
         "y": [
          5,
          6
         ],
         "yaxis": "y14"
        },
        {
         "legendgroup": "10.572",
         "marker": {
          "color": "bisque"
         },
         "name": "10.572",
         "showlegend": false,
         "type": "scatter",
         "uid": "227a82a2-fd67-11e8-94a3-b46bfca2d37e",
         "x": [
          "2017-03-01"
         ],
         "xaxis": "x13",
         "y": [
          667328
         ],
         "yaxis": "y13"
        },
        {
         "legendgroup": "10.572",
         "marker": {
          "color": "bisque"
         },
         "name": "10.572",
         "showlegend": false,
         "type": "scatter",
         "uid": "227b1efa-fd67-11e8-a8ca-b46bfca2d37e",
         "x": [
          "2017-03-01"
         ],
         "xaxis": "x14",
         "y": [
          2
         ],
         "yaxis": "y14"
        },
        {
         "legendgroup": "10.575",
         "marker": {
          "color": "rosybrown"
         },
         "name": "10.575",
         "showlegend": false,
         "type": "scatter",
         "uid": "227bcec0-fd67-11e8-acfb-b46bfca2d37e",
         "x": [
          "2017-03-01",
          "2018-03-01",
          "2018-08-01"
         ],
         "xaxis": "x13",
         "y": [
          8598,
          11671,
          7444
         ],
         "yaxis": "y13"
        },
        {
         "legendgroup": "10.575",
         "marker": {
          "color": "rosybrown"
         },
         "name": "10.575",
         "showlegend": false,
         "type": "scatter",
         "uid": "227c3086-fd67-11e8-b8fc-b46bfca2d37e",
         "x": [
          "2017-03-01",
          "2018-03-01",
          "2018-08-01"
         ],
         "xaxis": "x14",
         "y": [
          4,
          1,
          2
         ],
         "yaxis": "y14"
        },
        {
         "legendgroup": "10.576",
         "marker": {
          "color": "blue"
         },
         "name": "10.576",
         "showlegend": false,
         "type": "scatter",
         "uid": "227c3087-fd67-11e8-91ac-b46bfca2d37e",
         "x": [
          "2017-03-01"
         ],
         "xaxis": "x13",
         "y": [
          904966
         ],
         "yaxis": "y13"
        },
        {
         "legendgroup": "10.576",
         "marker": {
          "color": "blue"
         },
         "name": "10.576",
         "showlegend": false,
         "type": "scatter",
         "uid": "227c3088-fd67-11e8-9414-b46bfca2d37e",
         "x": [
          "2017-03-01"
         ],
         "xaxis": "x14",
         "y": [
          1
         ],
         "yaxis": "y14"
        },
        {
         "legendgroup": "10.580",
         "marker": {
          "color": "brown"
         },
         "name": "10.580",
         "showlegend": false,
         "type": "scatter",
         "uid": "227ee97e-fd67-11e8-aa9a-b46bfca2d37e",
         "x": [
          "2017-03-01",
          "2017-07-01",
          "2018-03-01"
         ],
         "xaxis": "x13",
         "y": [
          5814,
          87,
          56467
         ],
         "yaxis": "y13"
        },
        {
         "legendgroup": "10.580",
         "marker": {
          "color": "brown"
         },
         "name": "10.580",
         "showlegend": false,
         "type": "scatter",
         "uid": "227f85ca-fd67-11e8-9ea7-b46bfca2d37e",
         "x": [
          "2017-03-01",
          "2017-07-01",
          "2018-03-01"
         ],
         "xaxis": "x14",
         "y": [
          2,
          1,
          1
         ],
         "yaxis": "y14"
        },
        {
         "legendgroup": "10.585",
         "marker": {
          "color": "cadetblue"
         },
         "name": "10.585",
         "showlegend": false,
         "type": "scatter",
         "uid": "22804934-fd67-11e8-bf1f-b46bfca2d37e",
         "x": [
          "2017-03-01",
          "2018-03-01"
         ],
         "xaxis": "x13",
         "y": [
          43926,
          31993
         ],
         "yaxis": "y13"
        },
        {
         "legendgroup": "10.585",
         "marker": {
          "color": "cadetblue"
         },
         "name": "10.585",
         "showlegend": false,
         "type": "scatter",
         "uid": "2280e57a-fd67-11e8-9355-b46bfca2d37e",
         "x": [
          "2017-03-01",
          "2018-03-01"
         ],
         "xaxis": "x14",
         "y": [
          1,
          1
         ],
         "yaxis": "y14"
        },
        {
         "legendgroup": "10.596",
         "marker": {
          "color": "plum"
         },
         "name": "10.596",
         "showlegend": false,
         "type": "scatter",
         "uid": "2281a8b6-fd67-11e8-83ce-b46bfca2d37e",
         "x": [
          "2017-03-01",
          "2017-11-01",
          "2018-03-01",
          "2018-08-01",
          "2018-11-01"
         ],
         "xaxis": "x13",
         "y": [
          3246159,
          48624,
          6179402,
          233579,
          64205
         ],
         "yaxis": "y13"
        },
        {
         "legendgroup": "10.596",
         "marker": {
          "color": "plum"
         },
         "name": "10.596",
         "showlegend": false,
         "type": "scatter",
         "uid": "228244f4-fd67-11e8-b2ce-b46bfca2d37e",
         "x": [
          "2017-03-01",
          "2017-11-01",
          "2018-03-01",
          "2018-08-01",
          "2018-11-01"
         ],
         "xaxis": "x14",
         "y": [
          1,
          2,
          1,
          2,
          1
         ],
         "yaxis": "y14"
        },
        {
         "legendgroup": "10.566",
         "marker": {
          "color": "aqua"
         },
         "name": "10.566",
         "showlegend": false,
         "type": "scatter",
         "uid": "22830824-fd67-11e8-9db4-b46bfca2d37e",
         "x": [
          "2017-05-01"
         ],
         "xaxis": "x13",
         "y": [
          1974029526
         ],
         "yaxis": "y13"
        },
        {
         "legendgroup": "10.566",
         "marker": {
          "color": "aqua"
         },
         "name": "10.566",
         "showlegend": false,
         "type": "scatter",
         "uid": "2283a930-fd67-11e8-abff-b46bfca2d37e",
         "x": [
          "2017-05-01"
         ],
         "xaxis": "x14",
         "y": [
          5
         ],
         "yaxis": "y14"
        },
        {
         "legendgroup": "10.567",
         "marker": {
          "color": "aquamarine"
         },
         "name": "10.567",
         "showlegend": false,
         "type": "scatter",
         "uid": "2283a931-fd67-11e8-b0db-b46bfca2d37e",
         "x": [
          "2017-06-01",
          "2017-09-01",
          "2017-12-01",
          "2018-02-01",
          "2018-04-01",
          "2018-06-01",
          "2018-07-01",
          "2018-10-01",
          "2018-11-01"
         ],
         "xaxis": "x13",
         "y": [
          9680759,
          855140,
          1604933,
          198767,
          327248,
          9553796,
          371808,
          1043843,
          867060
         ],
         "yaxis": "y13"
        },
        {
         "legendgroup": "10.567",
         "marker": {
          "color": "aquamarine"
         },
         "name": "10.567",
         "showlegend": false,
         "type": "scatter",
         "uid": "2283a932-fd67-11e8-beec-b46bfca2d37e",
         "x": [
          "2017-06-01",
          "2017-09-01",
          "2017-12-01",
          "2018-02-01",
          "2018-04-01",
          "2018-06-01",
          "2018-07-01",
          "2018-10-01",
          "2018-11-01"
         ],
         "xaxis": "x14",
         "y": [
          4,
          3,
          1,
          10,
          10,
          15,
          11,
          8,
          4
         ],
         "yaxis": "y14"
        },
        {
         "legendgroup": "10.593",
         "marker": {
          "color": "cornflowerblue"
         },
         "name": "10.593",
         "showlegend": false,
         "type": "scatter",
         "uid": "2283a933-fd67-11e8-b895-b46bfca2d37e",
         "x": [
          "2017-06-01",
          "2018-03-01"
         ],
         "xaxis": "x13",
         "y": [
          2255083,
          1733922
         ],
         "yaxis": "y13"
        },
        {
         "legendgroup": "10.593",
         "marker": {
          "color": "cornflowerblue"
         },
         "name": "10.593",
         "showlegend": false,
         "type": "scatter",
         "uid": "22860bf6-fd67-11e8-b5d4-b46bfca2d37e",
         "x": [
          "2017-06-01",
          "2018-03-01"
         ],
         "xaxis": "x14",
         "y": [
          5,
          2
         ],
         "yaxis": "y14"
        },
        {
         "legendgroup": "10.533",
         "marker": {
          "color": "mediumvioletred"
         },
         "name": "10.533",
         "showlegend": false,
         "type": "scatter",
         "uid": "22860bf7-fd67-11e8-a781-b46bfca2d37e",
         "x": [
          "2017-10-01",
          "2018-07-01"
         ],
         "xaxis": "x13",
         "y": [
          231872,
          48723
         ],
         "yaxis": "y13"
        },
        {
         "legendgroup": "10.533",
         "marker": {
          "color": "mediumvioletred"
         },
         "name": "10.533",
         "showlegend": false,
         "type": "scatter",
         "uid": "22886e06-fd67-11e8-9d85-b46bfca2d37e",
         "x": [
          "2017-10-01",
          "2018-07-01"
         ],
         "xaxis": "x14",
         "y": [
          2,
          3
         ],
         "yaxis": "y14"
        },
        {
         "legendgroup": "10.592",
         "marker": {
          "color": "coral"
         },
         "name": "10.592",
         "showlegend": false,
         "type": "scatter",
         "uid": "22886e07-fd67-11e8-aeae-b46bfca2d37e",
         "x": [
          "2018-03-01"
         ],
         "xaxis": "x13",
         "y": [
          234
         ],
         "yaxis": "y13"
        },
        {
         "legendgroup": "10.592",
         "marker": {
          "color": "coral"
         },
         "name": "10.592",
         "showlegend": false,
         "type": "scatter",
         "uid": "22886e08-fd67-11e8-9e7d-b46bfca2d37e",
         "x": [
          "2018-03-01"
         ],
         "xaxis": "x14",
         "y": [
          1
         ],
         "yaxis": "y14"
        },
        {
         "legendgroup": "10.664",
         "marker": {
          "color": "darkorange"
         },
         "name": "10.664",
         "showlegend": false,
         "type": "scatter",
         "uid": "22886e09-fd67-11e8-8617-b46bfca2d37e",
         "x": [
          "2017-01-01",
          "2017-03-01",
          "2017-11-01",
          "2018-01-01",
          "2018-02-01",
          "2018-03-01",
          "2018-04-01",
          "2018-09-01"
         ],
         "xaxis": "x15",
         "y": [
          4266109,
          2401656,
          657287,
          4140867,
          1481,
          203816,
          786207,
          1974
         ],
         "yaxis": "y15"
        },
        {
         "legendgroup": "10.664",
         "marker": {
          "color": "darkorange"
         },
         "name": "10.664",
         "showlegend": false,
         "type": "scatter",
         "uid": "228ad0ee-fd67-11e8-8563-b46bfca2d37e",
         "x": [
          "2017-01-01",
          "2017-03-01",
          "2017-11-01",
          "2018-01-01",
          "2018-02-01",
          "2018-03-01",
          "2018-04-01",
          "2018-09-01"
         ],
         "xaxis": "x16",
         "y": [
          3,
          6,
          3,
          3,
          2,
          6,
          1,
          3
         ],
         "yaxis": "y16"
        },
        {
         "legendgroup": "10.665",
         "marker": {
          "color": "darkorchid"
         },
         "name": "10.665",
         "showlegend": false,
         "type": "scatter",
         "uid": "228ad0ef-fd67-11e8-8beb-b46bfca2d37e",
         "x": [
          "2017-01-01",
          "2017-02-01",
          "2017-03-01",
          "2017-04-01",
          "2017-06-01",
          "2017-07-01",
          "2017-08-01",
          "2017-09-01",
          "2017-12-01",
          "2018-01-01",
          "2018-02-01",
          "2018-03-01",
          "2018-04-01",
          "2018-07-01",
          "2018-08-01",
          "2018-09-01",
          "2018-10-01"
         ],
         "xaxis": "x15",
         "y": [
          1320905,
          787451,
          4366559,
          2588229,
          1871980,
          1080002,
          7725,
          1398178,
          2453973,
          20262,
          232,
          20476252,
          749268,
          535063,
          2071260,
          1600406,
          2612859
         ],
         "yaxis": "y15"
        },
        {
         "legendgroup": "10.665",
         "marker": {
          "color": "darkorchid"
         },
         "name": "10.665",
         "showlegend": false,
         "type": "scatter",
         "uid": "228ad0f0-fd67-11e8-96e6-b46bfca2d37e",
         "x": [
          "2017-01-01",
          "2017-02-01",
          "2017-03-01",
          "2017-04-01",
          "2017-06-01",
          "2017-07-01",
          "2017-08-01",
          "2017-09-01",
          "2017-12-01",
          "2018-01-01",
          "2018-02-01",
          "2018-03-01",
          "2018-04-01",
          "2018-07-01",
          "2018-08-01",
          "2018-09-01",
          "2018-10-01"
         ],
         "xaxis": "x16",
         "y": [
          9,
          4,
          3,
          1,
          1,
          8,
          2,
          7,
          9,
          3,
          2,
          4,
          2,
          1,
          9,
          7,
          3
         ],
         "yaxis": "y16"
        },
        {
         "legendgroup": "10.678",
         "marker": {
          "color": "darkslategray"
         },
         "name": "10.678",
         "showlegend": false,
         "type": "scatter",
         "uid": "228d32b0-fd67-11e8-a6e7-b46bfca2d37e",
         "x": [
          "2017-01-01",
          "2017-03-01",
          "2018-01-01",
          "2018-02-01",
          "2018-03-01"
         ],
         "xaxis": "x15",
         "y": [
          50772,
          213157,
          24022,
          6719,
          209170
         ],
         "yaxis": "y15"
        },
        {
         "legendgroup": "10.678",
         "marker": {
          "color": "darkslategray"
         },
         "name": "10.678",
         "showlegend": false,
         "type": "scatter",
         "uid": "228d32b1-fd67-11e8-949f-b46bfca2d37e",
         "x": [
          "2017-01-01",
          "2017-03-01",
          "2018-01-01",
          "2018-02-01",
          "2018-03-01"
         ],
         "xaxis": "x16",
         "y": [
          2,
          5,
          3,
          2,
          5
         ],
         "yaxis": "y16"
        },
        {
         "legendgroup": "10.679",
         "marker": {
          "color": "darkslategrey"
         },
         "name": "10.679",
         "showlegend": false,
         "type": "scatter",
         "uid": "228d32b2-fd67-11e8-898e-b46bfca2d37e",
         "x": [
          "2017-01-01",
          "2017-02-01",
          "2018-01-01",
          "2018-02-01"
         ],
         "xaxis": "x15",
         "y": [
          21935,
          59907,
          40329,
          30616
         ],
         "yaxis": "y15"
        },
        {
         "legendgroup": "10.679",
         "marker": {
          "color": "darkslategrey"
         },
         "name": "10.679",
         "showlegend": false,
         "type": "scatter",
         "uid": "228d32b3-fd67-11e8-843b-b46bfca2d37e",
         "x": [
          "2017-01-01",
          "2017-02-01",
          "2018-01-01",
          "2018-02-01"
         ],
         "xaxis": "x16",
         "y": [
          2,
          1,
          3,
          1
         ],
         "yaxis": "y16"
        },
        {
         "legendgroup": "10.680",
         "marker": {
          "color": "darkturquoise"
         },
         "name": "10.680",
         "showlegend": false,
         "type": "scatter",
         "uid": "228fc3a8-fd67-11e8-b106-b46bfca2d37e",
         "x": [
          "2017-01-01",
          "2017-02-01",
          "2017-03-01",
          "2018-01-01",
          "2018-03-01",
          "2018-04-01"
         ],
         "xaxis": "x15",
         "y": [
          95708,
          44787,
          5414237,
          39118,
          988844,
          5816218
         ],
         "yaxis": "y15"
        },
        {
         "legendgroup": "10.680",
         "marker": {
          "color": "darkturquoise"
         },
         "name": "10.680",
         "showlegend": false,
         "type": "scatter",
         "uid": "22905fe2-fd67-11e8-81e8-b46bfca2d37e",
         "x": [
          "2017-01-01",
          "2017-02-01",
          "2017-03-01",
          "2018-01-01",
          "2018-03-01",
          "2018-04-01"
         ],
         "xaxis": "x16",
         "y": [
          2,
          6,
          6,
          3,
          7,
          4
         ],
         "yaxis": "y16"
        },
        {
         "legendgroup": "10.682",
         "marker": {
          "color": "darkviolet"
         },
         "name": "10.682",
         "showlegend": false,
         "type": "scatter",
         "uid": "2290d512-fd67-11e8-9af4-b46bfca2d37e",
         "x": [
          "2017-01-01",
          "2017-03-01",
          "2018-02-01",
          "2018-03-01"
         ],
         "xaxis": "x15",
         "y": [
          8277,
          181729,
          11736,
          448059
         ],
         "yaxis": "y15"
        },
        {
         "legendgroup": "10.682",
         "marker": {
          "color": "darkviolet"
         },
         "name": "10.682",
         "showlegend": false,
         "type": "scatter",
         "uid": "2291715a-fd67-11e8-84ec-b46bfca2d37e",
         "x": [
          "2017-01-01",
          "2017-03-01",
          "2018-02-01",
          "2018-03-01"
         ],
         "xaxis": "x16",
         "y": [
          2,
          1,
          2,
          1
         ],
         "yaxis": "y16"
        },
        {
         "legendgroup": "10.683",
         "marker": {
          "color": "deeppink"
         },
         "name": "10.683",
         "showlegend": false,
         "type": "scatter",
         "uid": "22920d98-fd67-11e8-8b0c-b46bfca2d37e",
         "x": [
          "2017-01-01",
          "2018-01-01",
          "2018-02-01"
         ],
         "xaxis": "x15",
         "y": [
          329149,
          212547,
          474093
         ],
         "yaxis": "y15"
        },
        {
         "legendgroup": "10.683",
         "marker": {
          "color": "deeppink"
         },
         "name": "10.683",
         "showlegend": false,
         "type": "scatter",
         "uid": "229282cc-fd67-11e8-9114-b46bfca2d37e",
         "x": [
          "2017-01-01",
          "2018-01-01",
          "2018-02-01"
         ],
         "xaxis": "x16",
         "y": [
          2,
          3,
          2
         ],
         "yaxis": "y16"
        },
        {
         "legendgroup": "10.684",
         "marker": {
          "color": "deepskyblue"
         },
         "name": "10.684",
         "showlegend": false,
         "type": "scatter",
         "uid": "2293230a-fd67-11e8-82ee-b46bfca2d37e",
         "x": [
          "2017-01-01",
          "2018-01-01"
         ],
         "xaxis": "x15",
         "y": [
          107161,
          88148
         ],
         "yaxis": "y15"
        },
        {
         "legendgroup": "10.684",
         "marker": {
          "color": "deepskyblue"
         },
         "name": "10.684",
         "showlegend": false,
         "type": "scatter",
         "uid": "2293230b-fd67-11e8-942a-b46bfca2d37e",
         "x": [
          "2017-01-01",
          "2018-01-01"
         ],
         "xaxis": "x16",
         "y": [
          2,
          3
         ],
         "yaxis": "y16"
        },
        {
         "legendgroup": "10.693",
         "marker": {
          "color": "firebrick"
         },
         "name": "10.693",
         "showlegend": false,
         "type": "scatter",
         "uid": "2293230c-fd67-11e8-a665-b46bfca2d37e",
         "x": [
          "2017-01-01"
         ],
         "xaxis": "x15",
         "y": [
          49158
         ],
         "yaxis": "y15"
        },
        {
         "legendgroup": "10.693",
         "marker": {
          "color": "firebrick"
         },
         "name": "10.693",
         "showlegend": false,
         "type": "scatter",
         "uid": "2293230d-fd67-11e8-86be-b46bfca2d37e",
         "x": [
          "2017-01-01"
         ],
         "xaxis": "x16",
         "y": [
          2
         ],
         "yaxis": "y16"
        },
        {
         "legendgroup": "10.652",
         "marker": {
          "color": "darkolivegreen"
         },
         "name": "10.652",
         "showlegend": false,
         "type": "scatter",
         "uid": "229585b8-fd67-11e8-b92e-b46bfca2d37e",
         "x": [
          "2017-02-01",
          "2017-03-01",
          "2017-12-01",
          "2018-02-01",
          "2018-03-01",
          "2018-05-01"
         ],
         "xaxis": "x15",
         "y": [
          1292,
          249839,
          27046,
          583,
          770941,
          5492
         ],
         "yaxis": "y15"
        },
        {
         "legendgroup": "10.652",
         "marker": {
          "color": "darkolivegreen"
         },
         "name": "10.652",
         "showlegend": false,
         "type": "scatter",
         "uid": "229585b9-fd67-11e8-b346-b46bfca2d37e",
         "x": [
          "2017-02-01",
          "2017-03-01",
          "2017-12-01",
          "2018-02-01",
          "2018-03-01",
          "2018-05-01"
         ],
         "xaxis": "x16",
         "y": [
          10,
          7,
          1,
          3,
          6,
          5
         ],
         "yaxis": "y16"
        },
        {
         "legendgroup": "10.674",
         "marker": {
          "color": "darkseagreen"
         },
         "name": "10.674",
         "showlegend": false,
         "type": "scatter",
         "uid": "229585ba-fd67-11e8-93fb-b46bfca2d37e",
         "x": [
          "2017-02-01",
          "2017-03-01",
          "2018-03-01",
          "2018-05-01"
         ],
         "xaxis": "x15",
         "y": [
          43606,
          107928,
          332622,
          64953
         ],
         "yaxis": "y15"
        },
        {
         "legendgroup": "10.674",
         "marker": {
          "color": "darkseagreen"
         },
         "name": "10.674",
         "showlegend": false,
         "type": "scatter",
         "uid": "229585bb-fd67-11e8-8b8e-b46bfca2d37e",
         "x": [
          "2017-02-01",
          "2017-03-01",
          "2018-03-01",
          "2018-05-01"
         ],
         "xaxis": "x16",
         "y": [
          6,
          3,
          6,
          5
         ],
         "yaxis": "y16"
        },
        {
         "legendgroup": "10.675",
         "marker": {
          "color": "darkslateblue"
         },
         "name": "10.675",
         "showlegend": false,
         "type": "scatter",
         "uid": "2297e7f6-fd67-11e8-82ee-b46bfca2d37e",
         "x": [
          "2017-02-01",
          "2017-03-01",
          "2017-04-01",
          "2017-11-01",
          "2018-03-01",
          "2018-05-01",
          "2018-09-01"
         ],
         "xaxis": "x15",
         "y": [
          631092,
          465599,
          9649,
          14637,
          558777,
          284218,
          201425
         ],
         "yaxis": "y15"
        },
        {
         "legendgroup": "10.675",
         "marker": {
          "color": "darkslateblue"
         },
         "name": "10.675",
         "showlegend": false,
         "type": "scatter",
         "uid": "2297e7f7-fd67-11e8-8803-b46bfca2d37e",
         "x": [
          "2017-02-01",
          "2017-03-01",
          "2017-04-01",
          "2017-11-01",
          "2018-03-01",
          "2018-05-01",
          "2018-09-01"
         ],
         "xaxis": "x16",
         "y": [
          8,
          9,
          1,
          2,
          8,
          1,
          1
         ],
         "yaxis": "y16"
        },
        {
         "legendgroup": "10.672",
         "marker": {
          "color": "darkred"
         },
         "name": "10.672",
         "showlegend": false,
         "type": "scatter",
         "uid": "2297e7f8-fd67-11e8-8749-b46bfca2d37e",
         "x": [
          "2017-03-01"
         ],
         "xaxis": "x15",
         "y": [
          151642
         ],
         "yaxis": "y15"
        },
        {
         "legendgroup": "10.672",
         "marker": {
          "color": "darkred"
         },
         "name": "10.672",
         "showlegend": false,
         "type": "scatter",
         "uid": "2297e7f9-fd67-11e8-9db7-b46bfca2d37e",
         "x": [
          "2017-03-01"
         ],
         "xaxis": "x16",
         "y": [
          1
         ],
         "yaxis": "y16"
        },
        {
         "legendgroup": "10.690",
         "marker": {
          "color": "dimgrey"
         },
         "name": "10.690",
         "showlegend": false,
         "type": "scatter",
         "uid": "229a4a76-fd67-11e8-9ec8-b46bfca2d37e",
         "x": [
          "2017-03-01",
          "2018-03-01"
         ],
         "xaxis": "x15",
         "y": [
          35528,
          27735
         ],
         "yaxis": "y15"
        },
        {
         "legendgroup": "10.690",
         "marker": {
          "color": "dimgrey"
         },
         "name": "10.690",
         "showlegend": false,
         "type": "scatter",
         "uid": "229a4a77-fd67-11e8-9b74-b46bfca2d37e",
         "x": [
          "2017-03-01",
          "2018-03-01"
         ],
         "xaxis": "x16",
         "y": [
          1,
          1
         ],
         "yaxis": "y16"
        },
        {
         "legendgroup": "10.691",
         "marker": {
          "color": "dodgerblue"
         },
         "name": "10.691",
         "showlegend": false,
         "type": "scatter",
         "uid": "229a4a78-fd67-11e8-8926-b46bfca2d37e",
         "x": [
          "2017-08-01",
          "2018-08-01"
         ],
         "xaxis": "x15",
         "y": [
          23619,
          8011
         ],
         "yaxis": "y15"
        },
        {
         "legendgroup": "10.691",
         "marker": {
          "color": "dodgerblue"
         },
         "name": "10.691",
         "showlegend": false,
         "type": "scatter",
         "uid": "229a4a79-fd67-11e8-b12b-b46bfca2d37e",
         "x": [
          "2017-08-01",
          "2018-08-01"
         ],
         "xaxis": "x16",
         "y": [
          2,
          1
         ],
         "yaxis": "y16"
        },
        {
         "legendgroup": "10.699",
         "marker": {
          "color": "floralwhite"
         },
         "name": "10.699",
         "showlegend": false,
         "type": "scatter",
         "uid": "229cadf8-fd67-11e8-8d4a-b46bfca2d37e",
         "x": [
          "2018-01-01",
          "2018-03-01"
         ],
         "xaxis": "x15",
         "y": [
          5315,
          3638
         ],
         "yaxis": "y15"
        },
        {
         "legendgroup": "10.699",
         "marker": {
          "color": "floralwhite"
         },
         "name": "10.699",
         "showlegend": false,
         "type": "scatter",
         "uid": "229cadf9-fd67-11e8-8637-b46bfca2d37e",
         "x": [
          "2018-01-01",
          "2018-03-01"
         ],
         "xaxis": "x16",
         "y": [
          3,
          4
         ],
         "yaxis": "y16"
        },
        {
         "legendgroup": "10.406",
         "marker": {
          "color": "greenyellow"
         },
         "name": "10.406",
         "showlegend": false,
         "type": "scatter",
         "uid": "229cadfa-fd67-11e8-8d09-b46bfca2d37e",
         "x": [
          "2017-03-01",
          "2018-03-01"
         ],
         "xaxis": "x17",
         "y": [
          20242680,
          30598
         ],
         "yaxis": "y17"
        },
        {
         "legendgroup": "10.406",
         "marker": {
          "color": "greenyellow"
         },
         "name": "10.406",
         "showlegend": false,
         "type": "scatter",
         "uid": "229cadfb-fd67-11e8-998f-b46bfca2d37e",
         "x": [
          "2017-03-01",
          "2018-03-01"
         ],
         "xaxis": "x18",
         "y": [
          2,
          1
         ],
         "yaxis": "y18"
        },
        {
         "legendgroup": "10.113",
         "marker": {
          "color": "burlywood"
         },
         "name": "10.113",
         "showlegend": false,
         "type": "scatter",
         "uid": "229f1752-fd67-11e8-8df9-b46bfca2d37e",
         "x": [
          "2017-12-01"
         ],
         "xaxis": "x17",
         "y": [
          842
         ],
         "yaxis": "y17"
        },
        {
         "legendgroup": "10.113",
         "marker": {
          "color": "burlywood"
         },
         "name": "10.113",
         "showlegend": false,
         "type": "scatter",
         "uid": "229fb4b6-fd67-11e8-9f5e-b46bfca2d37e",
         "x": [
          "2017-12-01"
         ],
         "xaxis": "x18",
         "y": [
          1
         ],
         "yaxis": "y18"
        },
        {
         "legendgroup": "10.069",
         "marker": {
          "color": "bisque"
         },
         "name": "10.069",
         "showlegend": false,
         "type": "scatter",
         "uid": "22a076dc-fd67-11e8-8f1e-b46bfca2d37e",
         "x": [
          "2018-12-01"
         ],
         "xaxis": "x17",
         "y": [
          272597
         ],
         "yaxis": "y17"
        },
        {
         "legendgroup": "10.069",
         "marker": {
          "color": "bisque"
         },
         "name": "10.069",
         "showlegend": false,
         "type": "scatter",
         "uid": "22a1131c-fd67-11e8-b7b4-b46bfca2d37e",
         "x": [
          "2018-12-01"
         ],
         "xaxis": "x18",
         "y": [
          1
         ],
         "yaxis": "y18"
        },
        {
         "legendgroup": "10.475",
         "marker": {
          "color": "salmon"
         },
         "name": "10.475",
         "showlegend": false,
         "type": "scatter",
         "uid": "22a1b0b6-fd67-11e8-8e5a-b46bfca2d37e",
         "x": [
          "2017-03-01",
          "2018-03-01"
         ],
         "xaxis": "x19",
         "y": [
          4804520,
          5100992
         ],
         "yaxis": "y19"
        },
        {
         "legendgroup": "10.475",
         "marker": {
          "color": "salmon"
         },
         "name": "10.475",
         "showlegend": false,
         "type": "scatter",
         "uid": "22a24cdc-fd67-11e8-b745-b46bfca2d37e",
         "x": [
          "2017-03-01",
          "2018-03-01"
         ],
         "xaxis": "x20",
         "y": [
          1,
          1
         ],
         "yaxis": "y20"
        },
        {
         "legendgroup": "10.479",
         "marker": {
          "color": "lightblue"
         },
         "name": "10.479",
         "showlegend": false,
         "type": "scatter",
         "uid": "22a2e7dc-fd67-11e8-9fb7-b46bfca2d37e",
         "x": [
          "2017-03-01",
          "2018-03-01"
         ],
         "xaxis": "x19",
         "y": [
          103443,
          77569
         ],
         "yaxis": "y19"
        },
        {
         "legendgroup": "10.479",
         "marker": {
          "color": "lightblue"
         },
         "name": "10.479",
         "showlegend": false,
         "type": "scatter",
         "uid": "22a3844a-fd67-11e8-8b66-b46bfca2d37e",
         "x": [
          "2017-03-01",
          "2018-03-01"
         ],
         "xaxis": "x20",
         "y": [
          3,
          4
         ],
         "yaxis": "y20"
        },
        {
         "legendgroup": "10.950",
         "marker": {
          "color": "rosybrown"
         },
         "name": "10.950",
         "showlegend": false,
         "type": "scatter",
         "uid": "22a4478a-fd67-11e8-b23d-b46bfca2d37e",
         "x": [
          "2018-03-01"
         ],
         "xaxis": "x21",
         "y": [
          529820
         ],
         "yaxis": "y21"
        },
        {
         "legendgroup": "10.950",
         "marker": {
          "color": "rosybrown"
         },
         "name": "10.950",
         "showlegend": false,
         "type": "scatter",
         "uid": "22a4bcbe-fd67-11e8-81b0-b46bfca2d37e",
         "x": [
          "2018-03-01"
         ],
         "xaxis": "x22",
         "y": [
          1
         ],
         "yaxis": "y22"
        },
        {
         "legendgroup": "10.309",
         "marker": {
          "color": "dimgrey"
         },
         "name": "10.309",
         "showlegend": false,
         "type": "scatter",
         "uid": "22a515da-fd67-11e8-b37f-b46bfca2d37e",
         "x": [
          "2016-12-01",
          "2017-02-01",
          "2017-03-01",
          "2017-12-01",
          "2018-03-01",
          "2018-05-01"
         ],
         "xaxis": "x23",
         "y": [
          208700,
          332666,
          1977506,
          1176061,
          2697224,
          3600
         ],
         "yaxis": "y23"
        },
        {
         "legendgroup": "10.309",
         "marker": {
          "color": "dimgrey"
         },
         "name": "10.309",
         "showlegend": false,
         "type": "scatter",
         "uid": "22a515db-fd67-11e8-a943-b46bfca2d37e",
         "x": [
          "2016-12-01",
          "2017-02-01",
          "2017-03-01",
          "2017-12-01",
          "2018-03-01",
          "2018-05-01"
         ],
         "xaxis": "x24",
         "y": [
          1,
          7,
          1,
          1,
          2,
          5
         ],
         "yaxis": "y24"
        },
        {
         "legendgroup": "10.310",
         "marker": {
          "color": "dodgerblue"
         },
         "name": "10.310",
         "showlegend": false,
         "type": "scatter",
         "uid": "22a515dc-fd67-11e8-8670-b46bfca2d37e",
         "x": [
          "2016-12-01",
          "2017-02-01",
          "2017-03-01",
          "2017-09-01",
          "2017-11-01",
          "2017-12-01",
          "2018-02-01",
          "2018-03-01",
          "2018-05-01",
          "2018-06-01",
          "2018-11-01"
         ],
         "xaxis": "x23",
         "y": [
          304646,
          7059211,
          18606130,
          227952,
          972191,
          2476229,
          652539,
          18913592,
          55418,
          9670,
          2732260
         ],
         "yaxis": "y23"
        },
        {
         "legendgroup": "10.310",
         "marker": {
          "color": "dodgerblue"
         },
         "name": "10.310",
         "showlegend": false,
         "type": "scatter",
         "uid": "22a515dd-fd67-11e8-a27a-b46bfca2d37e",
         "x": [
          "2016-12-01",
          "2017-02-01",
          "2017-03-01",
          "2017-09-01",
          "2017-11-01",
          "2017-12-01",
          "2018-02-01",
          "2018-03-01",
          "2018-05-01",
          "2018-06-01",
          "2018-11-01"
         ],
         "xaxis": "x24",
         "y": [
          1,
          12,
          15,
          8,
          5,
          3,
          4,
          9,
          5,
          4,
          5.666666666666667
         ],
         "yaxis": "y24"
        },
        {
         "legendgroup": "10.212",
         "marker": {
          "color": "darkkhaki"
         },
         "name": "10.212",
         "showlegend": false,
         "type": "scatter",
         "uid": "22a779de-fd67-11e8-b2c9-b46bfca2d37e",
         "x": [
          "2017-01-01",
          "2017-03-01",
          "2018-03-01"
         ],
         "xaxis": "x23",
         "y": [
          20000,
          145005,
          81950
         ],
         "yaxis": "y23"
        },
        {
         "legendgroup": "10.212",
         "marker": {
          "color": "darkkhaki"
         },
         "name": "10.212",
         "showlegend": false,
         "type": "scatter",
         "uid": "22a779df-fd67-11e8-b2ae-b46bfca2d37e",
         "x": [
          "2017-01-01",
          "2017-03-01",
          "2018-03-01"
         ],
         "xaxis": "x24",
         "y": [
          1,
          1,
          1
         ],
         "yaxis": "y24"
        },
        {
         "legendgroup": "10.223",
         "marker": {
          "color": "darkred"
         },
         "name": "10.223",
         "showlegend": false,
         "type": "scatter",
         "uid": "22a779e0-fd67-11e8-9837-b46bfca2d37e",
         "x": [
          "2017-01-01",
          "2018-03-01",
          "2018-05-01"
         ],
         "xaxis": "x23",
         "y": [
          225290,
          3020,
          1028911
         ],
         "yaxis": "y23"
        },
        {
         "legendgroup": "10.223",
         "marker": {
          "color": "darkred"
         },
         "name": "10.223",
         "showlegend": false,
         "type": "scatter",
         "uid": "22a779e1-fd67-11e8-b007-b46bfca2d37e",
         "x": [
          "2017-01-01",
          "2018-03-01",
          "2018-05-01"
         ],
         "xaxis": "x24",
         "y": [
          1,
          1,
          5
         ],
         "yaxis": "y24"
        },
        {
         "legendgroup": "10.303",
         "marker": {
          "color": "darkturquoise"
         },
         "name": "10.303",
         "showlegend": false,
         "type": "scatter",
         "uid": "22aa09a4-fd67-11e8-91fc-b46bfca2d37e",
         "x": [
          "2017-01-01",
          "2017-02-01",
          "2017-03-01",
          "2018-03-01",
          "2018-05-01"
         ],
         "xaxis": "x23",
         "y": [
          1679,
          17748,
          148397,
          172759,
          1510
         ],
         "yaxis": "y23"
        },
        {
         "legendgroup": "10.303",
         "marker": {
          "color": "darkturquoise"
         },
         "name": "10.303",
         "showlegend": false,
         "type": "scatter",
         "uid": "22aa7ec6-fd67-11e8-81a2-b46bfca2d37e",
         "x": [
          "2017-01-01",
          "2017-02-01",
          "2017-03-01",
          "2018-03-01",
          "2018-05-01"
         ],
         "xaxis": "x24",
         "y": [
          2,
          6,
          5,
          3,
          5
         ],
         "yaxis": "y24"
        },
        {
         "legendgroup": "10.200",
         "marker": {
          "color": "cyan"
         },
         "name": "10.200",
         "showlegend": false,
         "type": "scatter",
         "uid": "22ab1b02-fd67-11e8-a538-b46bfca2d37e",
         "x": [
          "2017-02-01",
          "2017-03-01",
          "2018-03-01",
          "2018-04-01",
          "2018-05-01"
         ],
         "xaxis": "x23",
         "y": [
          1637896,
          3787060,
          3082651,
          3760379,
          19172
         ],
         "yaxis": "y23"
        },
        {
         "legendgroup": "10.200",
         "marker": {
          "color": "cyan"
         },
         "name": "10.200",
         "showlegend": false,
         "type": "scatter",
         "uid": "22abde3e-fd67-11e8-904c-b46bfca2d37e",
         "x": [
          "2017-02-01",
          "2017-03-01",
          "2018-03-01",
          "2018-04-01",
          "2018-05-01"
         ],
         "xaxis": "x24",
         "y": [
          6,
          9,
          8,
          1,
          5
         ],
         "yaxis": "y24"
        },
        {
         "legendgroup": "10.202",
         "marker": {
          "color": "darkblue"
         },
         "name": "10.202",
         "showlegend": false,
         "type": "scatter",
         "uid": "22ac7a7a-fd67-11e8-aa22-b46bfca2d37e",
         "x": [
          "2017-02-01",
          "2017-03-01",
          "2018-01-01",
          "2018-02-01",
          "2018-03-01",
          "2018-05-01"
         ],
         "xaxis": "x23",
         "y": [
          505352,
          998811,
          405430,
          223079,
          1906832,
          57906
         ],
         "yaxis": "y23"
        },
        {
         "legendgroup": "10.202",
         "marker": {
          "color": "darkblue"
         },
         "name": "10.202",
         "showlegend": false,
         "type": "scatter",
         "uid": "22acefa4-fd67-11e8-b4a8-b46bfca2d37e",
         "x": [
          "2017-02-01",
          "2017-03-01",
          "2018-01-01",
          "2018-02-01",
          "2018-03-01",
          "2018-05-01"
         ],
         "xaxis": "x24",
         "y": [
          10,
          8,
          1,
          3,
          8,
          5
         ],
         "yaxis": "y24"
        },
        {
         "legendgroup": "10.203",
         "marker": {
          "color": "darkcyan"
         },
         "name": "10.203",
         "showlegend": false,
         "type": "scatter",
         "uid": "22ad8be4-fd67-11e8-895d-b46bfca2d37e",
         "x": [
          "2017-02-01",
          "2017-03-01",
          "2018-01-01",
          "2018-03-01",
          "2018-05-01",
          "2018-11-01"
         ],
         "xaxis": "x23",
         "y": [
          7976447,
          4457964,
          2419210,
          17133828,
          4702436,
          2809
         ],
         "yaxis": "y23"
        },
        {
         "legendgroup": "10.203",
         "marker": {
          "color": "darkcyan"
         },
         "name": "10.203",
         "showlegend": false,
         "type": "scatter",
         "uid": "22ae4f3a-fd67-11e8-952b-b46bfca2d37e",
         "x": [
          "2017-02-01",
          "2017-03-01",
          "2018-01-01",
          "2018-03-01",
          "2018-05-01",
          "2018-11-01"
         ],
         "xaxis": "x24",
         "y": [
          6,
          6,
          1,
          7,
          5,
          1
         ],
         "yaxis": "y24"
        },
        {
         "legendgroup": "10.205",
         "marker": {
          "color": "darkgoldenrod"
         },
         "name": "10.205",
         "showlegend": false,
         "type": "scatter",
         "uid": "22aeeb7a-fd67-11e8-bc21-b46bfca2d37e",
         "x": [
          "2017-02-01",
          "2017-03-01",
          "2017-11-01",
          "2018-02-01",
          "2018-03-01"
         ],
         "xaxis": "x23",
         "y": [
          3105102,
          4969378,
          2295262,
          2902711,
          6375513
         ],
         "yaxis": "y23"
        },
        {
         "legendgroup": "10.205",
         "marker": {
          "color": "darkgoldenrod"
         },
         "name": "10.205",
         "showlegend": false,
         "type": "scatter",
         "uid": "22af87b6-fd67-11e8-8e27-b46bfca2d37e",
         "x": [
          "2017-02-01",
          "2017-03-01",
          "2017-11-01",
          "2018-02-01",
          "2018-03-01"
         ],
         "xaxis": "x24",
         "y": [
          4,
          2,
          1,
          3,
          6
         ],
         "yaxis": "y24"
        },
        {
         "legendgroup": "10.206",
         "marker": {
          "color": "darkgray"
         },
         "name": "10.206",
         "showlegend": false,
         "type": "scatter",
         "uid": "22b023f8-fd67-11e8-b462-b46bfca2d37e",
         "x": [
          "2017-02-01",
          "2017-03-01"
         ],
         "xaxis": "x23",
         "y": [
          -3925,
          320417
         ],
         "yaxis": "y23"
        },
        {
         "legendgroup": "10.206",
         "marker": {
          "color": "darkgray"
         },
         "name": "10.206",
         "showlegend": false,
         "type": "scatter",
         "uid": "22b0e75e-fd67-11e8-9f12-b46bfca2d37e",
         "x": [
          "2017-02-01",
          "2017-03-01"
         ],
         "xaxis": "x24",
         "y": [
          6,
          5
         ],
         "yaxis": "y24"
        },
        {
         "legendgroup": "10.207",
         "marker": {
          "color": "magenta"
         },
         "name": "10.207",
         "showlegend": false,
         "type": "scatter",
         "uid": "22b184a6-fd67-11e8-87b7-b46bfca2d37e",
         "x": [
          "2017-02-01",
          "2017-03-01",
          "2018-02-01",
          "2018-03-01",
          "2018-05-01",
          "2018-11-01"
         ],
         "xaxis": "x23",
         "y": [
          38859,
          41397,
          35939,
          103497,
          7070,
          38234
         ],
         "yaxis": "y23"
        },
        {
         "legendgroup": "10.207",
         "marker": {
          "color": "magenta"
         },
         "name": "10.207",
         "showlegend": false,
         "type": "scatter",
         "uid": "22b1da74-fd67-11e8-8177-b46bfca2d37e",
         "x": [
          "2017-02-01",
          "2017-03-01",
          "2018-02-01",
          "2018-03-01",
          "2018-05-01",
          "2018-11-01"
         ],
         "xaxis": "x24",
         "y": [
          7,
          3,
          4,
          6,
          5,
          1
         ],
         "yaxis": "y24"
        },
        {
         "legendgroup": "10.215",
         "marker": {
          "color": "darkmagenta"
         },
         "name": "10.215",
         "showlegend": false,
         "type": "scatter",
         "uid": "22b1da75-fd67-11e8-819c-b46bfca2d37e",
         "x": [
          "2017-02-01",
          "2017-03-01",
          "2017-10-01",
          "2018-02-01",
          "2018-03-01",
          "2018-05-01",
          "2018-09-01",
          "2018-11-01"
         ],
         "xaxis": "x23",
         "y": [
          26101,
          273946,
          70799,
          9491,
          397191,
          3415,
          2983,
          15980
         ],
         "yaxis": "y23"
        },
        {
         "legendgroup": "10.215",
         "marker": {
          "color": "darkmagenta"
         },
         "name": "10.215",
         "showlegend": false,
         "type": "scatter",
         "uid": "22b1da76-fd67-11e8-9fdc-b46bfca2d37e",
         "x": [
          "2017-02-01",
          "2017-03-01",
          "2017-10-01",
          "2018-02-01",
          "2018-03-01",
          "2018-05-01",
          "2018-09-01",
          "2018-11-01"
         ],
         "xaxis": "x24",
         "y": [
          10,
          5,
          1,
          3,
          7,
          5,
          1,
          1
         ],
         "yaxis": "y24"
        },
        {
         "legendgroup": "10.216",
         "marker": {
          "color": "darkolivegreen"
         },
         "name": "10.216",
         "showlegend": false,
         "type": "scatter",
         "uid": "22b1da77-fd67-11e8-bfd0-b46bfca2d37e",
         "x": [
          "2017-02-01",
          "2017-03-01",
          "2017-11-01",
          "2018-02-01",
          "2018-03-01",
          "2018-11-01"
         ],
         "xaxis": "x23",
         "y": [
          604746,
          2541862,
          770984,
          863371,
          830863,
          20634
         ],
         "yaxis": "y23"
        },
        {
         "legendgroup": "10.216",
         "marker": {
          "color": "darkolivegreen"
         },
         "name": "10.216",
         "showlegend": false,
         "type": "scatter",
         "uid": "22b43d7a-fd67-11e8-a0a5-b46bfca2d37e",
         "x": [
          "2017-02-01",
          "2017-03-01",
          "2017-11-01",
          "2018-02-01",
          "2018-03-01",
          "2018-11-01"
         ],
         "xaxis": "x24",
         "y": [
          4,
          5,
          1,
          3,
          7,
          1
         ],
         "yaxis": "y24"
        },
        {
         "legendgroup": "10.217",
         "marker": {
          "color": "darkorange"
         },
         "name": "10.217",
         "showlegend": false,
         "type": "scatter",
         "uid": "22b43d7b-fd67-11e8-a9ee-b46bfca2d37e",
         "x": [
          "2017-02-01",
          "2017-03-01",
          "2018-03-01"
         ],
         "xaxis": "x23",
         "y": [
          305044,
          10801,
          173807
         ],
         "yaxis": "y23"
        },
        {
         "legendgroup": "10.217",
         "marker": {
          "color": "darkorange"
         },
         "name": "10.217",
         "showlegend": false,
         "type": "scatter",
         "uid": "22b43d7c-fd67-11e8-823a-b46bfca2d37e",
         "x": [
          "2017-02-01",
          "2017-03-01",
          "2018-03-01"
         ],
         "xaxis": "x24",
         "y": [
          6,
          1,
          2
         ],
         "yaxis": "y24"
        },
        {
         "legendgroup": "10.219",
         "marker": {
          "color": "darkorchid"
         },
         "name": "10.219",
         "showlegend": false,
         "type": "scatter",
         "uid": "22b43d7d-fd67-11e8-9990-b46bfca2d37e",
         "x": [
          "2017-02-01",
          "2017-03-01",
          "2018-03-01"
         ],
         "xaxis": "x23",
         "y": [
          7416,
          95126,
          6870
         ],
         "yaxis": "y23"
        },
        {
         "legendgroup": "10.219",
         "marker": {
          "color": "darkorchid"
         },
         "name": "10.219",
         "showlegend": false,
         "type": "scatter",
         "uid": "22b69f88-fd67-11e8-8126-b46bfca2d37e",
         "x": [
          "2017-02-01",
          "2017-03-01",
          "2018-03-01"
         ],
         "xaxis": "x24",
         "y": [
          6,
          4,
          1
         ],
         "yaxis": "y24"
        },
        {
         "legendgroup": "10.304",
         "marker": {
          "color": "darkviolet"
         },
         "name": "10.304",
         "showlegend": false,
         "type": "scatter",
         "uid": "22b69f89-fd67-11e8-880a-b46bfca2d37e",
         "x": [
          "2017-02-01",
          "2017-03-01",
          "2018-03-01"
         ],
         "xaxis": "x23",
         "y": [
          194421,
          211477,
          374140
         ],
         "yaxis": "y23"
        },
        {
         "legendgroup": "10.304",
         "marker": {
          "color": "darkviolet"
         },
         "name": "10.304",
         "showlegend": false,
         "type": "scatter",
         "uid": "22b69f8a-fd67-11e8-a1cd-b46bfca2d37e",
         "x": [
          "2017-02-01",
          "2017-03-01",
          "2018-03-01"
         ],
         "xaxis": "x24",
         "y": [
          7,
          1,
          2
         ],
         "yaxis": "y24"
        },
        {
         "legendgroup": "10.307",
         "marker": {
          "color": "deepskyblue"
         },
         "name": "10.307",
         "showlegend": false,
         "type": "scatter",
         "uid": "22b69f8b-fd67-11e8-b56f-b46bfca2d37e",
         "x": [
          "2017-02-01",
          "2017-03-01",
          "2018-01-01",
          "2018-02-01",
          "2018-03-01"
         ],
         "xaxis": "x23",
         "y": [
          215691,
          103142,
          12510,
          39893,
          320900
         ],
         "yaxis": "y23"
        },
        {
         "legendgroup": "10.307",
         "marker": {
          "color": "deepskyblue"
         },
         "name": "10.307",
         "showlegend": false,
         "type": "scatter",
         "uid": "22b90194-fd67-11e8-bedd-b46bfca2d37e",
         "x": [
          "2017-02-01",
          "2017-03-01",
          "2018-01-01",
          "2018-02-01",
          "2018-03-01"
         ],
         "xaxis": "x24",
         "y": [
          6,
          1,
          3,
          3,
          3
         ],
         "yaxis": "y24"
        },
        {
         "legendgroup": "10.311",
         "marker": {
          "color": "firebrick"
         },
         "name": "10.311",
         "showlegend": false,
         "type": "scatter",
         "uid": "22b90195-fd67-11e8-9154-b46bfca2d37e",
         "x": [
          "2017-02-01",
          "2017-03-01",
          "2017-09-01",
          "2018-02-01",
          "2018-03-01",
          "2018-10-01",
          "2018-11-01"
         ],
         "xaxis": "x23",
         "y": [
          29869,
          -917,
          142575,
          34196,
          15587,
          26500,
          198654
         ],
         "yaxis": "y23"
        },
        {
         "legendgroup": "10.311",
         "marker": {
          "color": "firebrick"
         },
         "name": "10.311",
         "showlegend": false,
         "type": "scatter",
         "uid": "22b90196-fd67-11e8-9334-b46bfca2d37e",
         "x": [
          "2017-02-01",
          "2017-03-01",
          "2017-09-01",
          "2018-02-01",
          "2018-03-01",
          "2018-10-01",
          "2018-11-01"
         ],
         "xaxis": "x24",
         "y": [
          4,
          1,
          8,
          3,
          1,
          6,
          1
         ],
         "yaxis": "y24"
        },
        {
         "legendgroup": "10.320",
         "marker": {
          "color": "fuchsia"
         },
         "name": "10.320",
         "showlegend": false,
         "type": "scatter",
         "uid": "22b90197-fd67-11e8-aa0c-b46bfca2d37e",
         "x": [
          "2017-02-01",
          "2017-11-01",
          "2018-03-01",
          "2018-11-01"
         ],
         "xaxis": "x23",
         "y": [
          321,
          20488,
          14889,
          32272
         ],
         "yaxis": "y23"
        },
        {
         "legendgroup": "10.320",
         "marker": {
          "color": "fuchsia"
         },
         "name": "10.320",
         "showlegend": false,
         "type": "scatter",
         "uid": "22bb6418-fd67-11e8-b2db-b46bfca2d37e",
         "x": [
          "2017-02-01",
          "2017-11-01",
          "2018-03-01",
          "2018-11-01"
         ],
         "xaxis": "x24",
         "y": [
          6,
          2,
          3,
          1
         ],
         "yaxis": "y24"
        },
        {
         "legendgroup": "10.326",
         "marker": {
          "color": "orchid"
         },
         "name": "10.326",
         "showlegend": false,
         "type": "scatter",
         "uid": "22bb6419-fd67-11e8-b994-b46bfca2d37e",
         "x": [
          "2017-02-01",
          "2017-03-01",
          "2018-02-01",
          "2018-03-01",
          "2018-11-01"
         ],
         "xaxis": "x23",
         "y": [
          29874,
          59849,
          14130,
          19239,
          18323
         ],
         "yaxis": "y23"
        },
        {
         "legendgroup": "10.326",
         "marker": {
          "color": "orchid"
         },
         "name": "10.326",
         "showlegend": false,
         "type": "scatter",
         "uid": "22bb641a-fd67-11e8-ac02-b46bfca2d37e",
         "x": [
          "2017-02-01",
          "2017-03-01",
          "2018-02-01",
          "2018-03-01",
          "2018-11-01"
         ],
         "xaxis": "x24",
         "y": [
          4,
          3,
          3,
          5,
          1
         ],
         "yaxis": "y24"
        },
        {
         "legendgroup": "10.500",
         "marker": {
          "color": "lightcoral"
         },
         "name": "10.500",
         "showlegend": false,
         "type": "scatter",
         "uid": "22bb641b-fd67-11e8-9174-b46bfca2d37e",
         "x": [
          "2017-02-01",
          "2017-03-01",
          "2017-11-01",
          "2018-01-01",
          "2018-03-01",
          "2018-05-01",
          "2018-11-01",
          "2018-12-01"
         ],
         "xaxis": "x23",
         "y": [
          12177102,
          16126364,
          2108273,
          2488771,
          28806431,
          8373763,
          2019554,
          3128363
         ],
         "yaxis": "y23"
        },
        {
         "legendgroup": "10.500",
         "marker": {
          "color": "lightcoral"
         },
         "name": "10.500",
         "showlegend": false,
         "type": "scatter",
         "uid": "22be0322-fd67-11e8-869e-b46bfca2d37e",
         "x": [
          "2017-02-01",
          "2017-03-01",
          "2017-11-01",
          "2018-01-01",
          "2018-03-01",
          "2018-05-01",
          "2018-11-01",
          "2018-12-01"
         ],
         "xaxis": "x24",
         "y": [
          4,
          5,
          1,
          1,
          8.8,
          2,
          3,
          1
         ],
         "yaxis": "y24"
        },
        {
         "legendgroup": "10.210",
         "marker": {
          "color": "darkgreen"
         },
         "name": "10.210",
         "showlegend": false,
         "type": "scatter",
         "uid": "22be9f4c-fd67-11e8-8e8a-b46bfca2d37e",
         "x": [
          "2017-03-01",
          "2018-03-01"
         ],
         "xaxis": "x23",
         "y": [
          4987,
          742
         ],
         "yaxis": "y23"
        },
        {
         "legendgroup": "10.210",
         "marker": {
          "color": "darkgreen"
         },
         "name": "10.210",
         "showlegend": false,
         "type": "scatter",
         "uid": "22bf3b9a-fd67-11e8-afe7-b46bfca2d37e",
         "x": [
          "2017-03-01",
          "2018-03-01"
         ],
         "xaxis": "x24",
         "y": [
          4,
          4
         ],
         "yaxis": "y24"
        },
        {
         "legendgroup": "10.308",
         "marker": {
          "color": "dimgray"
         },
         "name": "10.308",
         "showlegend": false,
         "type": "scatter",
         "uid": "22bfd7be-fd67-11e8-9df1-b46bfca2d37e",
         "x": [
          "2017-03-01",
          "2018-03-01",
          "2018-05-01"
         ],
         "xaxis": "x23",
         "y": [
          816,
          37661,
          595843
         ],
         "yaxis": "y23"
        },
        {
         "legendgroup": "10.308",
         "marker": {
          "color": "dimgray"
         },
         "name": "10.308",
         "showlegend": false,
         "type": "scatter",
         "uid": "22c07408-fd67-11e8-96c7-b46bfca2d37e",
         "x": [
          "2017-03-01",
          "2018-03-01",
          "2018-05-01"
         ],
         "xaxis": "x24",
         "y": [
          1,
          1,
          5
         ],
         "yaxis": "y24"
        },
        {
         "legendgroup": "10.312",
         "marker": {
          "color": "floralwhite"
         },
         "name": "10.312",
         "showlegend": false,
         "type": "scatter",
         "uid": "22c0c734-fd67-11e8-bc5f-b46bfca2d37e",
         "x": [
          "2017-03-01",
          "2018-03-01"
         ],
         "xaxis": "x23",
         "y": [
          38687,
          279602
         ],
         "yaxis": "y23"
        },
        {
         "legendgroup": "10.312",
         "marker": {
          "color": "floralwhite"
         },
         "name": "10.312",
         "showlegend": false,
         "type": "scatter",
         "uid": "22c0c735-fd67-11e8-a5e1-b46bfca2d37e",
         "x": [
          "2017-03-01",
          "2018-03-01"
         ],
         "xaxis": "x24",
         "y": [
          3,
          6
         ],
         "yaxis": "y24"
        },
        {
         "legendgroup": "10.328",
         "marker": {
          "color": "orangered"
         },
         "name": "10.328",
         "showlegend": false,
         "type": "scatter",
         "uid": "22c0c736-fd67-11e8-9049-b46bfca2d37e",
         "x": [
          "2017-03-01",
          "2018-03-01"
         ],
         "xaxis": "x23",
         "y": [
          8045,
          102132
         ],
         "yaxis": "y23"
        },
        {
         "legendgroup": "10.328",
         "marker": {
          "color": "orangered"
         },
         "name": "10.328",
         "showlegend": false,
         "type": "scatter",
         "uid": "22c0c737-fd67-11e8-8de9-b46bfca2d37e",
         "x": [
          "2017-03-01",
          "2018-03-01"
         ],
         "xaxis": "x24",
         "y": [
          1,
          2
         ],
         "yaxis": "y24"
        },
        {
         "legendgroup": "10.329",
         "marker": {
          "color": "gold"
         },
         "name": "10.329",
         "showlegend": false,
         "type": "scatter",
         "uid": "22c329d8-fd67-11e8-83cd-b46bfca2d37e",
         "x": [
          "2017-03-01",
          "2018-03-01",
          "2018-11-01"
         ],
         "xaxis": "x23",
         "y": [
          350305,
          570131,
          7109
         ],
         "yaxis": "y23"
        },
        {
         "legendgroup": "10.329",
         "marker": {
          "color": "gold"
         },
         "name": "10.329",
         "showlegend": false,
         "type": "scatter",
         "uid": "22c329d9-fd67-11e8-95fe-b46bfca2d37e",
         "x": [
          "2017-03-01",
          "2018-03-01",
          "2018-11-01"
         ],
         "xaxis": "x24",
         "y": [
          5,
          6,
          1
         ],
         "yaxis": "y24"
        },
        {
         "legendgroup": "10.330",
         "marker": {
          "color": "goldenrod"
         },
         "name": "10.330",
         "showlegend": false,
         "type": "scatter",
         "uid": "22c329da-fd67-11e8-a67b-b46bfca2d37e",
         "x": [
          "2017-03-01",
          "2018-03-01"
         ],
         "xaxis": "x23",
         "y": [
          144,
          85973
         ],
         "yaxis": "y23"
        },
        {
         "legendgroup": "10.330",
         "marker": {
          "color": "goldenrod"
         },
         "name": "10.330",
         "showlegend": false,
         "type": "scatter",
         "uid": "22c329db-fd67-11e8-bfe7-b46bfca2d37e",
         "x": [
          "2017-03-01",
          "2018-03-01"
         ],
         "xaxis": "x24",
         "y": [
          1,
          6
         ],
         "yaxis": "y24"
        },
        {
         "legendgroup": "10.225",
         "marker": {
          "color": "darksalmon"
         },
         "name": "10.225",
         "showlegend": false,
         "type": "scatter",
         "uid": "22c58c40-fd67-11e8-a9ff-b46bfca2d37e",
         "x": [
          "2017-09-01",
          "2018-03-01",
          "2018-04-01",
          "2018-10-01",
          "2018-11-01"
         ],
         "xaxis": "x23",
         "y": [
          64595,
          10014,
          177659,
          68727,
          37165
         ],
         "yaxis": "y23"
        },
        {
         "legendgroup": "10.225",
         "marker": {
          "color": "darksalmon"
         },
         "name": "10.225",
         "showlegend": false,
         "type": "scatter",
         "uid": "22c58c41-fd67-11e8-bef1-b46bfca2d37e",
         "x": [
          "2017-09-01",
          "2018-03-01",
          "2018-04-01",
          "2018-10-01",
          "2018-11-01"
         ],
         "xaxis": "x24",
         "y": [
          4,
          1,
          1,
          6,
          1
         ],
         "yaxis": "y24"
        },
        {
         "legendgroup": "10.331",
         "marker": {
          "color": "gray"
         },
         "name": "10.331",
         "showlegend": false,
         "type": "scatter",
         "uid": "22c58c42-fd67-11e8-a37e-b46bfca2d37e",
         "x": [
          "2017-09-01",
          "2017-11-01",
          "2018-11-01"
         ],
         "xaxis": "x23",
         "y": [
          2621133,
          31867,
          16110
         ],
         "yaxis": "y23"
        },
        {
         "legendgroup": "10.331",
         "marker": {
          "color": "gray"
         },
         "name": "10.331",
         "showlegend": false,
         "type": "scatter",
         "uid": "22c58c43-fd67-11e8-8d49-b46bfca2d37e",
         "x": [
          "2017-09-01",
          "2017-11-01",
          "2018-11-01"
         ],
         "xaxis": "x24",
         "y": [
          3,
          2,
          1
         ],
         "yaxis": "y24"
        },
        {
         "legendgroup": "10.226",
         "marker": {
          "color": "darkseagreen"
         },
         "name": "10.226",
         "showlegend": false,
         "type": "scatter",
         "uid": "22c7ee8c-fd67-11e8-9667-b46bfca2d37e",
         "x": [
          "2018-03-01"
         ],
         "xaxis": "x23",
         "y": [
          16495
         ],
         "yaxis": "y23"
        },
        {
         "legendgroup": "10.226",
         "marker": {
          "color": "darkseagreen"
         },
         "name": "10.226",
         "showlegend": false,
         "type": "scatter",
         "uid": "22c7ee8d-fd67-11e8-9ec7-b46bfca2d37e",
         "x": [
          "2018-03-01"
         ],
         "xaxis": "x24",
         "y": [
          1
         ],
         "yaxis": "y24"
        },
        {
         "legendgroup": "10.072",
         "marker": {
          "color": "black"
         },
         "name": "10.072",
         "showlegend": false,
         "type": "scatter",
         "uid": "22c7ee8e-fd67-11e8-be8b-b46bfca2d37e",
         "x": [
          "2017-01-01",
          "2017-03-01",
          "2018-01-01",
          "2018-04-01"
         ],
         "xaxis": "x25",
         "y": [
          1002348,
          1492033,
          417497,
          724038
         ],
         "yaxis": "y25"
        },
        {
         "legendgroup": "10.072",
         "marker": {
          "color": "black"
         },
         "name": "10.072",
         "showlegend": false,
         "type": "scatter",
         "uid": "22e90d64-fd67-11e8-8687-b46bfca2d37e",
         "x": [
          "2017-01-01",
          "2017-03-01",
          "2018-01-01",
          "2018-04-01"
         ],
         "xaxis": "x26",
         "y": [
          2,
          2,
          3,
          2
         ],
         "yaxis": "y26"
        },
        {
         "legendgroup": "10.902",
         "marker": {
          "color": "lightsalmon"
         },
         "name": "10.902",
         "showlegend": false,
         "type": "scatter",
         "uid": "22e90d65-fd67-11e8-9f23-b46bfca2d37e",
         "x": [
          "2017-01-01",
          "2017-02-01",
          "2017-03-01",
          "2017-04-01",
          "2017-05-01",
          "2017-07-01",
          "2017-09-01",
          "2018-01-01",
          "2018-02-01",
          "2018-03-01",
          "2018-05-01",
          "2018-09-01",
          "2018-12-01"
         ],
         "xaxis": "x25",
         "y": [
          558342,
          47479,
          44205,
          75000,
          313304,
          1466503,
          6457,
          343308,
          127581,
          189219,
          1060,
          2400,
          908654
         ],
         "yaxis": "y25"
        },
        {
         "legendgroup": "10.902",
         "marker": {
          "color": "lightsalmon"
         },
         "name": "10.902",
         "showlegend": false,
         "type": "scatter",
         "uid": "22e90d66-fd67-11e8-bb68-b46bfca2d37e",
         "x": [
          "2017-01-01",
          "2017-02-01",
          "2017-03-01",
          "2017-04-01",
          "2017-05-01",
          "2017-07-01",
          "2017-09-01",
          "2018-01-01",
          "2018-02-01",
          "2018-03-01",
          "2018-05-01",
          "2018-09-01",
          "2018-12-01"
         ],
         "xaxis": "x26",
         "y": [
          2,
          6,
          2,
          1,
          6,
          2,
          2,
          3,
          2,
          3,
          5,
          1,
          1
         ],
         "yaxis": "y26"
        },
        {
         "legendgroup": "10.912",
         "marker": {
          "color": "lightsteelblue"
         },
         "name": "10.912",
         "showlegend": false,
         "type": "scatter",
         "uid": "22ebeb50-fd67-11e8-a6d6-b46bfca2d37e",
         "x": [
          "2017-01-01",
          "2017-02-01",
          "2017-03-01",
          "2017-08-01",
          "2017-09-01",
          "2018-01-01",
          "2018-02-01",
          "2018-03-01",
          "2018-05-01"
         ],
         "xaxis": "x25",
         "y": [
          429633,
          94007,
          342052,
          8756,
          61,
          505316,
          165060,
          898366,
          15504
         ],
         "yaxis": "y25"
        },
        {
         "legendgroup": "10.912",
         "marker": {
          "color": "lightsteelblue"
         },
         "name": "10.912",
         "showlegend": false,
         "type": "scatter",
         "uid": "22ec87a4-fd67-11e8-87b3-b46bfca2d37e",
         "x": [
          "2017-01-01",
          "2017-02-01",
          "2017-03-01",
          "2017-08-01",
          "2017-09-01",
          "2018-01-01",
          "2018-02-01",
          "2018-03-01",
          "2018-05-01"
         ],
         "xaxis": "x26",
         "y": [
          2,
          6,
          4,
          2,
          1,
          3,
          2,
          8,
          5
         ],
         "yaxis": "y26"
        },
        {
         "legendgroup": "10.913",
         "marker": {
          "color": "mediumpurple"
         },
         "name": "10.913",
         "showlegend": false,
         "type": "scatter",
         "uid": "22ed23ba-fd67-11e8-b4cc-b46bfca2d37e",
         "x": [
          "2017-01-01"
         ],
         "xaxis": "x25",
         "y": [
          2460134
         ],
         "yaxis": "y25"
        },
        {
         "legendgroup": "10.913",
         "marker": {
          "color": "mediumpurple"
         },
         "name": "10.913",
         "showlegend": false,
         "type": "scatter",
         "uid": "22edc008-fd67-11e8-a231-b46bfca2d37e",
         "x": [
          "2017-01-01"
         ],
         "xaxis": "x26",
         "y": [
          2
         ],
         "yaxis": "y26"
        },
        {
         "legendgroup": "10.914",
         "marker": {
          "color": "red"
         },
         "name": "10.914",
         "showlegend": false,
         "type": "scatter",
         "uid": "22ee5d68-fd67-11e8-a246-b46bfca2d37e",
         "x": [
          "2017-01-01",
          "2018-02-01"
         ],
         "xaxis": "x25",
         "y": [
          63237,
          66878
         ],
         "yaxis": "y25"
        },
        {
         "legendgroup": "10.914",
         "marker": {
          "color": "red"
         },
         "name": "10.914",
         "showlegend": false,
         "type": "scatter",
         "uid": "22ef6e02-fd67-11e8-8a9a-b46bfca2d37e",
         "x": [
          "2017-01-01",
          "2018-02-01"
         ],
         "xaxis": "x26",
         "y": [
          2,
          2
         ],
         "yaxis": "y26"
        },
        {
         "legendgroup": "10.916",
         "marker": {
          "color": "aqua"
         },
         "name": "10.916",
         "showlegend": false,
         "type": "scatter",
         "uid": "22f0a624-fd67-11e8-8262-b46bfca2d37e",
         "x": [
          "2017-01-01",
          "2017-03-01"
         ],
         "xaxis": "x25",
         "y": [
          856567,
          10306249
         ],
         "yaxis": "y25"
        },
        {
         "legendgroup": "10.916",
         "marker": {
          "color": "aqua"
         },
         "name": "10.916",
         "showlegend": false,
         "type": "scatter",
         "uid": "22f171ae-fd67-11e8-bd15-b46bfca2d37e",
         "x": [
          "2017-01-01",
          "2017-03-01"
         ],
         "xaxis": "x26",
         "y": [
          2,
          1
         ],
         "yaxis": "y26"
        },
        {
         "legendgroup": "10.931",
         "marker": {
          "color": "bisque"
         },
         "name": "10.931",
         "showlegend": false,
         "type": "scatter",
         "uid": "22f171af-fd67-11e8-877f-b46bfca2d37e",
         "x": [
          "2017-01-01",
          "2017-04-01",
          "2018-01-01"
         ],
         "xaxis": "x25",
         "y": [
          1142978,
          446036,
          5993212
         ],
         "yaxis": "y25"
        },
        {
         "legendgroup": "10.931",
         "marker": {
          "color": "bisque"
         },
         "name": "10.931",
         "showlegend": false,
         "type": "scatter",
         "uid": "22f171b0-fd67-11e8-8c14-b46bfca2d37e",
         "x": [
          "2017-01-01",
          "2017-04-01",
          "2018-01-01"
         ],
         "xaxis": "x26",
         "y": [
          2,
          1,
          3
         ],
         "yaxis": "y26"
        },
        {
         "legendgroup": "10.932",
         "marker": {
          "color": "black"
         },
         "name": "10.932",
         "showlegend": false,
         "type": "scatter",
         "uid": "22f171b1-fd67-11e8-aa58-b46bfca2d37e",
         "x": [
          "2017-01-01",
          "2017-02-01",
          "2017-08-01",
          "2018-01-01",
          "2018-02-01",
          "2018-03-01",
          "2018-06-01"
         ],
         "xaxis": "x25",
         "y": [
          34958,
          47530,
          547448,
          196445,
          291608,
          28599,
          109013
         ],
         "yaxis": "y25"
        },
        {
         "legendgroup": "10.932",
         "marker": {
          "color": "black"
         },
         "name": "10.932",
         "showlegend": false,
         "type": "scatter",
         "uid": "22f3d582-fd67-11e8-b562-b46bfca2d37e",
         "x": [
          "2017-01-01",
          "2017-02-01",
          "2017-08-01",
          "2018-01-01",
          "2018-02-01",
          "2018-03-01",
          "2018-06-01"
         ],
         "xaxis": "x26",
         "y": [
          2,
          6,
          2,
          3,
          2,
          6,
          1
         ],
         "yaxis": "y26"
        },
        {
         "legendgroup": "10.904",
         "marker": {
          "color": "lightskyblue"
         },
         "name": "10.904",
         "showlegend": false,
         "type": "scatter",
         "uid": "22f3d583-fd67-11e8-a23b-b46bfca2d37e",
         "x": [
          "2017-03-01",
          "2018-02-01",
          "2018-03-01"
         ],
         "xaxis": "x25",
         "y": [
          16602311,
          2761,
          17935723
         ],
         "yaxis": "y25"
        },
        {
         "legendgroup": "10.904",
         "marker": {
          "color": "lightskyblue"
         },
         "name": "10.904",
         "showlegend": false,
         "type": "scatter",
         "uid": "22f3d584-fd67-11e8-a5aa-b46bfca2d37e",
         "x": [
          "2017-03-01",
          "2018-02-01",
          "2018-03-01"
         ],
         "xaxis": "x26",
         "y": [
          2,
          2,
          1
         ],
         "yaxis": "y26"
        },
        {
         "legendgroup": "10.923",
         "marker": {
          "color": "aquamarine"
         },
         "name": "10.923",
         "showlegend": false,
         "type": "scatter",
         "uid": "22f3d585-fd67-11e8-a428-b46bfca2d37e",
         "x": [
          "2017-06-01",
          "2017-10-01",
          "2017-11-01",
          "2018-02-01",
          "2018-03-01",
          "2018-04-01",
          "2018-09-01",
          "2018-10-01"
         ],
         "xaxis": "x25",
         "y": [
          1457120,
          294733,
          1724716,
          885700,
          963988,
          3545246,
          2246800,
          2246800
         ],
         "yaxis": "y25"
        },
        {
         "legendgroup": "10.923",
         "marker": {
          "color": "aquamarine"
         },
         "name": "10.923",
         "showlegend": false,
         "type": "scatter",
         "uid": "22f6b434-fd67-11e8-b7d1-b46bfca2d37e",
         "x": [
          "2017-06-01",
          "2017-10-01",
          "2017-11-01",
          "2018-02-01",
          "2018-03-01",
          "2018-04-01",
          "2018-09-01",
          "2018-10-01"
         ],
         "xaxis": "x26",
         "y": [
          2,
          1,
          6,
          1,
          1,
          2,
          1,
          2
         ],
         "yaxis": "y26"
        },
        {
         "legendgroup": "10.924",
         "marker": {
          "color": "mediumturquoise"
         },
         "name": "10.924",
         "showlegend": false,
         "type": "scatter",
         "uid": "22f75188-fd67-11e8-8ca4-b46bfca2d37e",
         "x": [
          "2017-06-01",
          "2017-09-01",
          "2018-01-01",
          "2018-02-01"
         ],
         "xaxis": "x25",
         "y": [
          1822918,
          60863,
          1921291,
          66878
         ],
         "yaxis": "y25"
        },
        {
         "legendgroup": "10.924",
         "marker": {
          "color": "mediumturquoise"
         },
         "name": "10.924",
         "showlegend": false,
         "type": "scatter",
         "uid": "22f7edd8-fd67-11e8-8767-b46bfca2d37e",
         "x": [
          "2017-06-01",
          "2017-09-01",
          "2018-01-01",
          "2018-02-01"
         ],
         "xaxis": "x26",
         "y": [
          2,
          1,
          1,
          2
         ],
         "yaxis": "y26"
        },
        {
         "legendgroup": "10.925",
         "marker": {
          "color": "olive"
         },
         "name": "10.925",
         "showlegend": false,
         "type": "scatter",
         "uid": "22f8b11e-fd67-11e8-9fbb-b46bfca2d37e",
         "x": [
          "2017-09-01"
         ],
         "xaxis": "x25",
         "y": [
          55307
         ],
         "yaxis": "y25"
        },
        {
         "legendgroup": "10.925",
         "marker": {
          "color": "olive"
         },
         "name": "10.925",
         "showlegend": false,
         "type": "scatter",
         "uid": "22f92658-fd67-11e8-b4b3-b46bfca2d37e",
         "x": [
          "2017-09-01"
         ],
         "xaxis": "x26",
         "y": [
          1
         ],
         "yaxis": "y26"
        },
        {
         "legendgroup": "10.907",
         "marker": {
          "color": "midnightblue"
         },
         "name": "10.907",
         "showlegend": false,
         "type": "scatter",
         "uid": "22f9c2a4-fd67-11e8-8853-b46bfca2d37e",
         "x": [
          "2017-11-01"
         ],
         "xaxis": "x25",
         "y": [
          30788
         ],
         "yaxis": "y25"
        },
        {
         "legendgroup": "10.907",
         "marker": {
          "color": "midnightblue"
         },
         "name": "10.907",
         "showlegend": false,
         "type": "scatter",
         "uid": "22fa5ee8-fd67-11e8-a520-b46bfca2d37e",
         "x": [
          "2017-11-01"
         ],
         "xaxis": "x26",
         "y": [
          2
         ],
         "yaxis": "y26"
        },
        {
         "legendgroup": "10.903",
         "marker": {
          "color": "lightseagreen"
         },
         "name": "10.903",
         "showlegend": false,
         "type": "scatter",
         "uid": "22fb2106-fd67-11e8-8a97-b46bfca2d37e",
         "x": [
          "2018-02-01",
          "2018-05-01"
         ],
         "xaxis": "x25",
         "y": [
          63372,
          17373
         ],
         "yaxis": "y25"
        },
        {
         "legendgroup": "10.903",
         "marker": {
          "color": "lightseagreen"
         },
         "name": "10.903",
         "showlegend": false,
         "type": "scatter",
         "uid": "22fbbd22-fd67-11e8-a24a-b46bfca2d37e",
         "x": [
          "2018-02-01",
          "2018-05-01"
         ],
         "xaxis": "x26",
         "y": [
          3,
          5
         ],
         "yaxis": "y26"
        },
        {
         "legendgroup": "10.905",
         "marker": {
          "color": "lightslategray"
         },
         "name": "10.905",
         "showlegend": false,
         "type": "scatter",
         "uid": "22fc596e-fd67-11e8-80ca-b46bfca2d37e",
         "x": [
          "2018-05-01"
         ],
         "xaxis": "x25",
         "y": [
          9709
         ],
         "yaxis": "y25"
        },
        {
         "legendgroup": "10.905",
         "marker": {
          "color": "lightslategray"
         },
         "name": "10.905",
         "showlegend": false,
         "type": "scatter",
         "uid": "22fccfb6-fd67-11e8-aebe-b46bfca2d37e",
         "x": [
          "2018-05-01"
         ],
         "xaxis": "x26",
         "y": [
          5
         ],
         "yaxis": "y26"
        },
        {
         "legendgroup": "10.290",
         "marker": {
          "color": "darkslategrey"
         },
         "name": "10.290",
         "showlegend": false,
         "type": "scatter",
         "uid": "22fd9328-fd67-11e8-a3f5-b46bfca2d37e",
         "x": [
          "2017-02-01",
          "2017-03-01",
          "2018-03-01"
         ],
         "xaxis": "x27",
         "y": [
          27986,
          185,
          137710
         ],
         "yaxis": "y27"
        },
        {
         "legendgroup": "10.290",
         "marker": {
          "color": "darkslategrey"
         },
         "name": "10.290",
         "showlegend": false,
         "type": "scatter",
         "uid": "22fe0864-fd67-11e8-bc2a-b46bfca2d37e",
         "x": [
          "2017-02-01",
          "2017-03-01",
          "2018-03-01"
         ],
         "xaxis": "x28",
         "y": [
          6,
          3,
          6
         ],
         "yaxis": "y28"
        },
        {
         "legendgroup": "10.767",
         "marker": {
          "color": "goldenrod"
         },
         "name": "10.767",
         "showlegend": false,
         "type": "scatter",
         "uid": "22fe5c66-fd67-11e8-b0de-b46bfca2d37e",
         "x": [
          "2016-12-01",
          "2017-02-01",
          "2017-03-01",
          "2017-04-01",
          "2017-05-01",
          "2017-07-01",
          "2017-08-01",
          "2017-09-01",
          "2017-10-01",
          "2017-12-01",
          "2018-02-01",
          "2018-03-01",
          "2018-05-01",
          "2018-06-01",
          "2018-07-01",
          "2018-09-01",
          "2018-10-01",
          "2018-11-01"
         ],
         "xaxis": "x29",
         "y": [
          1682562,
          458240,
          1096139,
          843564,
          865321,
          2241914,
          965343,
          1171243,
          833927,
          909736,
          523529,
          1398885,
          2800634,
          2058047,
          802586,
          6759015,
          3599843,
          1307227
         ],
         "yaxis": "y29"
        },
        {
         "legendgroup": "10.767",
         "marker": {
          "color": "goldenrod"
         },
         "name": "10.767",
         "showlegend": false,
         "type": "scatter",
         "uid": "22fe5c67-fd67-11e8-9298-b46bfca2d37e",
         "x": [
          "2016-12-01",
          "2017-02-01",
          "2017-03-01",
          "2017-04-01",
          "2017-05-01",
          "2017-07-01",
          "2017-08-01",
          "2017-09-01",
          "2017-10-01",
          "2017-12-01",
          "2018-02-01",
          "2018-03-01",
          "2018-05-01",
          "2018-06-01",
          "2018-07-01",
          "2018-09-01",
          "2018-10-01",
          "2018-11-01"
         ],
         "xaxis": "x30",
         "y": [
          2,
          1,
          4,
          1,
          1,
          1,
          3,
          2,
          1,
          1,
          1,
          2,
          4,
          1,
          2,
          2,
          2,
          1
         ],
         "yaxis": "y30"
        },
        {
         "legendgroup": "10.854",
         "marker": {
          "color": "lawngreen"
         },
         "name": "10.854",
         "showlegend": false,
         "type": "scatter",
         "uid": "22fe5c68-fd67-11e8-b9df-b46bfca2d37e",
         "x": [
          "2016-12-01",
          "2018-06-01",
          "2018-09-01"
         ],
         "xaxis": "x29",
         "y": [
          2000000,
          495961,
          1000000
         ],
         "yaxis": "y29"
        },
        {
         "legendgroup": "10.854",
         "marker": {
          "color": "lawngreen"
         },
         "name": "10.854",
         "showlegend": false,
         "type": "scatter",
         "uid": "22fe5c69-fd67-11e8-86cf-b46bfca2d37e",
         "x": [
          "2016-12-01",
          "2018-06-01",
          "2018-09-01"
         ],
         "xaxis": "x30",
         "y": [
          4,
          2,
          2
         ],
         "yaxis": "y30"
        },
        {
         "legendgroup": "10.773",
         "marker": {
          "color": "honeydew"
         },
         "name": "10.773",
         "showlegend": false,
         "type": "scatter",
         "uid": "2300bf7a-fd67-11e8-82c7-b46bfca2d37e",
         "x": [
          "2017-01-01"
         ],
         "xaxis": "x29",
         "y": [
          42112
         ],
         "yaxis": "y29"
        },
        {
         "legendgroup": "10.773",
         "marker": {
          "color": "honeydew"
         },
         "name": "10.773",
         "showlegend": false,
         "type": "scatter",
         "uid": "2300bf7b-fd67-11e8-8dec-b46bfca2d37e",
         "x": [
          "2017-01-01"
         ],
         "xaxis": "x30",
         "y": [
          2
         ],
         "yaxis": "y30"
        },
        {
         "legendgroup": "10.870",
         "marker": {
          "color": "lightgoldenrodyellow"
         },
         "name": "10.870",
         "showlegend": false,
         "type": "scatter",
         "uid": "2300bf7c-fd67-11e8-80cf-b46bfca2d37e",
         "x": [
          "2017-01-01",
          "2017-02-01",
          "2017-03-01",
          "2017-05-01",
          "2017-09-01",
          "2018-02-01",
          "2018-05-01",
          "2018-10-01",
          "2018-11-01"
         ],
         "xaxis": "x29",
         "y": [
          146754,
          408256,
          0,
          684845,
          688097,
          878742,
          644021,
          372370,
          372370
         ],
         "yaxis": "y29"
        },
        {
         "legendgroup": "10.870",
         "marker": {
          "color": "lightgoldenrodyellow"
         },
         "name": "10.870",
         "showlegend": false,
         "type": "scatter",
         "uid": "2300bf7d-fd67-11e8-9f7d-b46bfca2d37e",
         "x": [
          "2017-01-01",
          "2017-02-01",
          "2017-03-01",
          "2017-05-01",
          "2017-09-01",
          "2018-02-01",
          "2018-05-01",
          "2018-10-01",
          "2018-11-01"
         ],
         "xaxis": "x30",
         "y": [
          1,
          1,
          2,
          1,
          4,
          2,
          2,
          1,
          1
         ],
         "yaxis": "y30"
        },
        {
         "legendgroup": "10.768",
         "marker": {
          "color": "gray"
         },
         "name": "10.768",
         "showlegend": false,
         "type": "scatter",
         "uid": "2300bf7e-fd67-11e8-8a3c-b46bfca2d37e",
         "x": [
          "2017-03-01",
          "2017-06-01",
          "2018-02-01",
          "2018-07-01"
         ],
         "xaxis": "x29",
         "y": [
          3270493,
          5317411,
          3857792,
          7998715
         ],
         "yaxis": "y29"
        },
        {
         "legendgroup": "10.768",
         "marker": {
          "color": "gray"
         },
         "name": "10.768",
         "showlegend": false,
         "type": "scatter",
         "uid": "23032276-fd67-11e8-b523-b46bfca2d37e",
         "x": [
          "2017-03-01",
          "2017-06-01",
          "2018-02-01",
          "2018-07-01"
         ],
         "xaxis": "x30",
         "y": [
          1,
          1,
          1,
          2
         ],
         "yaxis": "y30"
        },
        {
         "legendgroup": "10.868",
         "marker": {
          "color": "mediumvioletred"
         },
         "name": "10.868",
         "showlegend": false,
         "type": "scatter",
         "uid": "23032277-fd67-11e8-8275-b46bfca2d37e",
         "x": [
          "2017-03-01"
         ],
         "xaxis": "x29",
         "y": [
          17380
         ],
         "yaxis": "y29"
        },
        {
         "legendgroup": "10.868",
         "marker": {
          "color": "mediumvioletred"
         },
         "name": "10.868",
         "showlegend": false,
         "type": "scatter",
         "uid": "23032278-fd67-11e8-a366-b46bfca2d37e",
         "x": [
          "2017-03-01"
         ],
         "xaxis": "x30",
         "y": [
          1
         ],
         "yaxis": "y30"
        },
        {
         "legendgroup": "10.874",
         "marker": {
          "color": "mediumaquamarine"
         },
         "name": "10.874",
         "showlegend": false,
         "type": "scatter",
         "uid": "2305837e-fd67-11e8-b0a5-b46bfca2d37e",
         "x": [
          "2017-03-01",
          "2018-03-01"
         ],
         "xaxis": "x29",
         "y": [
          65830,
          301168
         ],
         "yaxis": "y29"
        },
        {
         "legendgroup": "10.874",
         "marker": {
          "color": "mediumaquamarine"
         },
         "name": "10.874",
         "showlegend": false,
         "type": "scatter",
         "uid": "2305837f-fd67-11e8-8420-b46bfca2d37e",
         "x": [
          "2017-03-01",
          "2018-03-01"
         ],
         "xaxis": "x30",
         "y": [
          3,
          4
         ],
         "yaxis": "y30"
        },
        {
         "legendgroup": "10.351",
         "marker": {
          "color": "magenta"
         },
         "name": "10.351",
         "showlegend": false,
         "type": "scatter",
         "uid": "23058380-fd67-11e8-a384-b46bfca2d37e",
         "x": [
          "2017-07-01",
          "2018-03-01",
          "2018-11-01"
         ],
         "xaxis": "x29",
         "y": [
          37774,
          5299,
          52004
         ],
         "yaxis": "y29"
        },
        {
         "legendgroup": "10.351",
         "marker": {
          "color": "magenta"
         },
         "name": "10.351",
         "showlegend": false,
         "type": "scatter",
         "uid": "23058381-fd67-11e8-9f07-b46bfca2d37e",
         "x": [
          "2017-07-01",
          "2018-03-01",
          "2018-11-01"
         ],
         "xaxis": "x30",
         "y": [
          3,
          4,
          1
         ],
         "yaxis": "y30"
        },
        {
         "legendgroup": "10.771",
         "marker": {
          "color": "greenyellow"
         },
         "name": "10.771",
         "showlegend": false,
         "type": "scatter",
         "uid": "23058382-fd67-11e8-aeb7-b46bfca2d37e",
         "x": [
          "2018-10-01"
         ],
         "xaxis": "x29",
         "y": [
          196303
         ],
         "yaxis": "y29"
        },
        {
         "legendgroup": "10.771",
         "marker": {
          "color": "greenyellow"
         },
         "name": "10.771",
         "showlegend": false,
         "type": "scatter",
         "uid": "23084212-fd67-11e8-945e-b46bfca2d37e",
         "x": [
          "2018-10-01"
         ],
         "xaxis": "x30",
         "y": [
          11
         ],
         "yaxis": "y30"
        },
        {
         "legendgroup": "10.871",
         "marker": {
          "color": "paleturquoise"
         },
         "name": "10.871",
         "showlegend": false,
         "type": "scatter",
         "uid": "2309054a-fd67-11e8-88e8-b46bfca2d37e",
         "x": [
          "2018-10-01"
         ],
         "xaxis": "x29",
         "y": [
          175000
         ],
         "yaxis": "y29"
        },
        {
         "legendgroup": "10.871",
         "marker": {
          "color": "paleturquoise"
         },
         "name": "10.871",
         "showlegend": false,
         "type": "scatter",
         "uid": "23097a8a-fd67-11e8-96e9-b46bfca2d37e",
         "x": [
          "2018-10-01"
         ],
         "xaxis": "x30",
         "y": [
          7
         ],
         "yaxis": "y30"
        },
        {
         "legendgroup": "10.890",
         "marker": {
          "color": "lightgreen"
         },
         "name": "10.890",
         "showlegend": false,
         "type": "scatter",
         "uid": "230a158c-fd67-11e8-b659-b46bfca2d37e",
         "x": [
          "2018-11-01"
         ],
         "xaxis": "x29",
         "y": [
          112509
         ],
         "yaxis": "y29"
        },
        {
         "legendgroup": "10.890",
         "marker": {
          "color": "lightgreen"
         },
         "name": "10.890",
         "showlegend": false,
         "type": "scatter",
         "uid": "230a8ac8-fd67-11e8-8c51-b46bfca2d37e",
         "x": [
          "2018-11-01"
         ],
         "xaxis": "x30",
         "y": [
          1
         ],
         "yaxis": "y30"
        },
        {
         "legendgroup": "10.427",
         "marker": {
          "color": "indianred"
         },
         "name": "10.427",
         "showlegend": false,
         "type": "scatter",
         "uid": "230b26e4-fd67-11e8-bf5b-b46bfca2d37e",
         "x": [
          "2016-12-01",
          "2017-01-01",
          "2017-02-01",
          "2017-03-01",
          "2017-04-01",
          "2017-05-01",
          "2017-07-01",
          "2017-09-01",
          "2017-11-01",
          "2017-12-01",
          "2018-01-01",
          "2018-03-01",
          "2018-04-01",
          "2018-05-01",
          "2018-06-01",
          "2018-07-01",
          "2018-08-01",
          "2018-09-01"
         ],
         "xaxis": "x31",
         "y": [
          227941,
          347864,
          607642,
          337264,
          204963,
          306045,
          155479,
          187800,
          92458,
          378469,
          50224,
          555938,
          127696,
          360847,
          107115,
          431834,
          31674,
          85762
         ],
         "yaxis": "y31"
        },
        {
         "legendgroup": "10.427",
         "marker": {
          "color": "indianred"
         },
         "name": "10.427",
         "showlegend": false,
         "type": "scatter",
         "uid": "230bc474-fd67-11e8-b9c8-b46bfca2d37e",
         "x": [
          "2016-12-01",
          "2017-01-01",
          "2017-02-01",
          "2017-03-01",
          "2017-04-01",
          "2017-05-01",
          "2017-07-01",
          "2017-09-01",
          "2017-11-01",
          "2017-12-01",
          "2018-01-01",
          "2018-03-01",
          "2018-04-01",
          "2018-05-01",
          "2018-06-01",
          "2018-07-01",
          "2018-08-01",
          "2018-09-01"
         ],
         "xaxis": "x32",
         "y": [
          1,
          3,
          1,
          6,
          2,
          1,
          3,
          3,
          4,
          4,
          2,
          5,
          2,
          3,
          1,
          4,
          2,
          5
         ],
         "yaxis": "y32"
        },
        {
         "legendgroup": "10.405",
         "marker": {
          "color": "green"
         },
         "name": "10.405",
         "showlegend": false,
         "type": "scatter",
         "uid": "230c8686-fd67-11e8-a2af-b46bfca2d37e",
         "x": [
          "2017-01-01",
          "2017-05-01",
          "2017-09-01",
          "2018-02-01",
          "2018-07-01",
          "2018-10-01"
         ],
         "xaxis": "x31",
         "y": [
          1082000,
          559179,
          1305063,
          1007845,
          2059811,
          2344735
         ],
         "yaxis": "y31"
        },
        {
         "legendgroup": "10.405",
         "marker": {
          "color": "green"
         },
         "name": "10.405",
         "showlegend": false,
         "type": "scatter",
         "uid": "230cfffe-fd67-11e8-9efe-b46bfca2d37e",
         "x": [
          "2017-01-01",
          "2017-05-01",
          "2017-09-01",
          "2018-02-01",
          "2018-07-01",
          "2018-10-01"
         ],
         "xaxis": "x32",
         "y": [
          2,
          1,
          1,
          1,
          1,
          3
         ],
         "yaxis": "y32"
        },
        {
         "legendgroup": "10.415",
         "marker": {
          "color": "honeydew"
         },
         "name": "10.415",
         "showlegend": false,
         "type": "scatter",
         "uid": "230cffff-fd67-11e8-87b7-b46bfca2d37e",
         "x": [
          "2017-01-01",
          "2017-02-01",
          "2017-03-01",
          "2017-04-01",
          "2017-05-01",
          "2017-06-01",
          "2017-07-01",
          "2017-08-01",
          "2017-09-01",
          "2017-10-01",
          "2017-11-01",
          "2017-12-01",
          "2018-01-01",
          "2018-02-01",
          "2018-03-01",
          "2018-04-01",
          "2018-05-01",
          "2018-06-01",
          "2018-07-01",
          "2018-08-01",
          "2018-09-01",
          "2018-10-01",
          "2018-11-01"
         ],
         "xaxis": "x31",
         "y": [
          8471204,
          5985847,
          6020744,
          17379319,
          3916696,
          750439,
          8148993,
          4413877,
          28349156,
          1589881,
          877730,
          8567833,
          7376311,
          6763236,
          19841944,
          5003565,
          6076436,
          4654747,
          1759147,
          4248452,
          15573823,
          3571403,
          1789748
         ],
         "yaxis": "y31"
        },
        {
         "legendgroup": "10.415",
         "marker": {
          "color": "honeydew"
         },
         "name": "10.415",
         "showlegend": false,
         "type": "scatter",
         "uid": "230d0000-fd67-11e8-980b-b46bfca2d37e",
         "x": [
          "2017-01-01",
          "2017-02-01",
          "2017-03-01",
          "2017-04-01",
          "2017-05-01",
          "2017-06-01",
          "2017-07-01",
          "2017-08-01",
          "2017-09-01",
          "2017-10-01",
          "2017-11-01",
          "2017-12-01",
          "2018-01-01",
          "2018-02-01",
          "2018-03-01",
          "2018-04-01",
          "2018-05-01",
          "2018-06-01",
          "2018-07-01",
          "2018-08-01",
          "2018-09-01",
          "2018-10-01",
          "2018-11-01"
         ],
         "xaxis": "x32",
         "y": [
          5,
          6,
          6,
          5,
          6,
          1,
          8,
          7,
          20,
          3,
          4,
          13,
          7,
          7,
          16,
          5,
          7,
          5,
          2,
          4,
          13,
          3,
          1
         ],
         "yaxis": "y32"
        },
        {
         "legendgroup": "10.766",
         "marker": {
          "color": "gold"
         },
         "name": "10.766",
         "showlegend": false,
         "type": "scatter",
         "uid": "230d0001-fd67-11e8-9af6-b46bfca2d37e",
         "x": [
          "2017-01-01",
          "2017-02-01",
          "2017-03-01",
          "2017-04-01",
          "2017-05-01",
          "2017-06-01",
          "2017-07-01",
          "2017-08-01",
          "2017-09-01",
          "2017-10-01",
          "2017-11-01",
          "2017-12-01",
          "2018-01-01",
          "2018-02-01",
          "2018-03-01",
          "2018-05-01",
          "2018-06-01",
          "2018-07-01",
          "2018-08-01",
          "2018-09-01",
          "2018-10-01",
          "2018-11-01"
         ],
         "xaxis": "x31",
         "y": [
          34905575,
          14425500,
          14019802,
          20676823,
          25880920,
          9684969,
          23746,
          53510172,
          12572312,
          11629715,
          29147292,
          27537779,
          31088061,
          3927747,
          36279846,
          27355113,
          1893783,
          1667241,
          42458000,
          37235447,
          21668738,
          21270736
         ],
         "yaxis": "y31"
        },
        {
         "legendgroup": "10.766",
         "marker": {
          "color": "gold"
         },
         "name": "10.766",
         "showlegend": false,
         "type": "scatter",
         "uid": "230d0002-fd67-11e8-808d-b46bfca2d37e",
         "x": [
          "2017-01-01",
          "2017-02-01",
          "2017-03-01",
          "2017-04-01",
          "2017-05-01",
          "2017-06-01",
          "2017-07-01",
          "2017-08-01",
          "2017-09-01",
          "2017-10-01",
          "2017-11-01",
          "2017-12-01",
          "2018-01-01",
          "2018-02-01",
          "2018-03-01",
          "2018-05-01",
          "2018-06-01",
          "2018-07-01",
          "2018-08-01",
          "2018-09-01",
          "2018-10-01",
          "2018-11-01"
         ],
         "xaxis": "x32",
         "y": [
          5,
          10,
          6,
          3,
          4,
          3,
          2,
          7,
          14,
          1,
          4,
          8,
          7,
          3,
          15,
          13,
          1,
          2,
          16,
          11,
          5,
          15
         ],
         "yaxis": "y32"
        },
        {
         "legendgroup": "10.446",
         "marker": {
          "color": "sandybrown"
         },
         "name": "10.446",
         "showlegend": false,
         "type": "scatter",
         "uid": "230f62c6-fd67-11e8-9579-b46bfca2d37e",
         "x": [
          "2017-02-01",
          "2017-06-01",
          "2018-02-01"
         ],
         "xaxis": "x31",
         "y": [
          145040,
          808938,
          143006
         ],
         "yaxis": "y31"
        },
        {
         "legendgroup": "10.446",
         "marker": {
          "color": "sandybrown"
         },
         "name": "10.446",
         "showlegend": false,
         "type": "scatter",
         "uid": "230f62c7-fd67-11e8-b8e1-b46bfca2d37e",
         "x": [
          "2017-02-01",
          "2017-06-01",
          "2018-02-01"
         ],
         "xaxis": "x32",
         "y": [
          1,
          1,
          1
         ],
         "yaxis": "y32"
        },
        {
         "legendgroup": "10.438",
         "marker": {
          "color": "lime"
         },
         "name": "10.438",
         "showlegend": false,
         "type": "scatter",
         "uid": "230f62c8-fd67-11e8-bd11-b46bfca2d37e",
         "x": [
          "2017-09-01",
          "2018-09-01"
         ],
         "xaxis": "x31",
         "y": [
          489313,
          480033
         ],
         "yaxis": "y31"
        },
        {
         "legendgroup": "10.438",
         "marker": {
          "color": "lime"
         },
         "name": "10.438",
         "showlegend": false,
         "type": "scatter",
         "uid": "2311c634-fd67-11e8-9050-b46bfca2d37e",
         "x": [
          "2017-09-01",
          "2018-09-01"
         ],
         "xaxis": "x32",
         "y": [
          2,
          1
         ],
         "yaxis": "y32"
        },
        {
         "legendgroup": "10.447",
         "marker": {
          "color": "purple"
         },
         "name": "10.447",
         "showlegend": false,
         "type": "scatter",
         "uid": "2311c635-fd67-11e8-ad14-b46bfca2d37e",
         "x": [
          "2017-09-01",
          "2017-12-01",
          "2018-01-01",
          "2018-04-01",
          "2018-06-01",
          "2018-11-01"
         ],
         "xaxis": "x31",
         "y": [
          1460045,
          3169120,
          4034155,
          856782,
          1460249,
          1059252
         ],
         "yaxis": "y31"
        },
        {
         "legendgroup": "10.447",
         "marker": {
          "color": "purple"
         },
         "name": "10.447",
         "showlegend": false,
         "type": "scatter",
         "uid": "2311c636-fd67-11e8-ae99-b46bfca2d37e",
         "x": [
          "2017-09-01",
          "2017-12-01",
          "2018-01-01",
          "2018-04-01",
          "2018-06-01",
          "2018-11-01"
         ],
         "xaxis": "x32",
         "y": [
          1,
          3,
          6,
          1,
          1,
          2
         ],
         "yaxis": "y32"
        },
        {
         "legendgroup": "10.420",
         "marker": {
          "color": "hotpink"
         },
         "name": "10.420",
         "showlegend": false,
         "type": "scatter",
         "uid": "2311c637-fd67-11e8-8782-b46bfca2d37e",
         "x": [
          "2017-10-01",
          "2018-03-01"
         ],
         "xaxis": "x31",
         "y": [
          530638,
          1204013
         ],
         "yaxis": "y31"
        },
        {
         "legendgroup": "10.420",
         "marker": {
          "color": "hotpink"
         },
         "name": "10.420",
         "showlegend": false,
         "type": "scatter",
         "uid": "2311c638-fd67-11e8-aa2a-b46bfca2d37e",
         "x": [
          "2017-10-01",
          "2018-03-01"
         ],
         "xaxis": "x32",
         "y": [
          3,
          1
         ],
         "yaxis": "y32"
        },
        {
         "legendgroup": "10.433",
         "marker": {
          "color": "indigo"
         },
         "name": "10.433",
         "showlegend": false,
         "type": "scatter",
         "uid": "2314274a-fd67-11e8-a8e2-b46bfca2d37e",
         "x": [
          "2017-11-01",
          "2018-06-01"
         ],
         "xaxis": "x31",
         "y": [
          6768,
          9539
         ],
         "yaxis": "y31"
        },
        {
         "legendgroup": "10.433",
         "marker": {
          "color": "indigo"
         },
         "name": "10.433",
         "showlegend": false,
         "type": "scatter",
         "uid": "2314274b-fd67-11e8-9e84-b46bfca2d37e",
         "x": [
          "2017-11-01",
          "2018-06-01"
         ],
         "xaxis": "x32",
         "y": [
          2,
          4
         ],
         "yaxis": "y32"
        },
        {
         "legendgroup": "10.460",
         "marker": {
          "color": "lawngreen"
         },
         "name": "10.460",
         "showlegend": false,
         "type": "scatter",
         "uid": "2314274c-fd67-11e8-a573-b46bfca2d37e",
         "x": [
          "2017-03-01",
          "2018-03-01"
         ],
         "xaxis": "x33",
         "y": [
          26085,
          20607
         ],
         "yaxis": "y33"
        },
        {
         "legendgroup": "10.460",
         "marker": {
          "color": "lawngreen"
         },
         "name": "10.460",
         "showlegend": false,
         "type": "scatter",
         "uid": "2314274d-fd67-11e8-ab49-b46bfca2d37e",
         "x": [
          "2017-03-01",
          "2018-03-01"
         ],
         "xaxis": "x34",
         "y": [
          1,
          1
         ],
         "yaxis": "y34"
        },
        {
         "legendgroup": "10.760",
         "marker": {
          "color": "fuchsia"
         },
         "name": "10.760",
         "showlegend": false,
         "type": "scatter",
         "uid": "231689f4-fd67-11e8-a721-b46bfca2d37e",
         "x": [
          "2016-12-01",
          "2017-01-01",
          "2017-02-01",
          "2017-03-01",
          "2017-04-01",
          "2017-05-01",
          "2017-06-01",
          "2017-07-01",
          "2017-08-01",
          "2017-09-01",
          "2017-10-01",
          "2017-11-01",
          "2017-12-01",
          "2018-01-01",
          "2018-02-01",
          "2018-03-01",
          "2018-04-01",
          "2018-05-01",
          "2018-06-01",
          "2018-07-01",
          "2018-08-01",
          "2018-09-01",
          "2018-10-01",
          "2018-11-01"
         ],
         "xaxis": "x35",
         "y": [
          8826752,
          5547464,
          1814157,
          11193920,
          22397879,
          20909874,
          13626701,
          15190152,
          10794395,
          22452674,
          11912063,
          4674634,
          10963150,
          5680505,
          12620580,
          12424997,
          6882540,
          7754603,
          22747630,
          9853283,
          19656567,
          47615778,
          16383230,
          24603328
         ],
         "yaxis": "y35"
        },
        {
         "legendgroup": "10.760",
         "marker": {
          "color": "fuchsia"
         },
         "name": "10.760",
         "showlegend": false,
         "type": "scatter",
         "uid": "231689f5-fd67-11e8-92e4-b46bfca2d37e",
         "x": [
          "2016-12-01",
          "2017-01-01",
          "2017-02-01",
          "2017-03-01",
          "2017-04-01",
          "2017-05-01",
          "2017-06-01",
          "2017-07-01",
          "2017-08-01",
          "2017-09-01",
          "2017-10-01",
          "2017-11-01",
          "2017-12-01",
          "2018-01-01",
          "2018-02-01",
          "2018-03-01",
          "2018-04-01",
          "2018-05-01",
          "2018-06-01",
          "2018-07-01",
          "2018-08-01",
          "2018-09-01",
          "2018-10-01",
          "2018-11-01"
         ],
         "xaxis": "x36",
         "y": [
          8,
          4,
          3,
          11,
          10,
          20,
          13,
          12,
          10,
          20,
          4,
          12,
          12,
          9,
          8,
          9,
          2,
          11,
          12,
          10,
          21,
          29,
          15,
          10
         ],
         "yaxis": "y36"
        },
        {
         "legendgroup": "10.851",
         "marker": {
          "color": "purple"
         },
         "name": "10.851",
         "showlegend": false,
         "type": "scatter",
         "uid": "231689f6-fd67-11e8-83ad-b46bfca2d37e",
         "x": [
          "2017-01-01"
         ],
         "xaxis": "x35",
         "y": [
          29941772
         ],
         "yaxis": "y35"
        },
        {
         "legendgroup": "10.851",
         "marker": {
          "color": "purple"
         },
         "name": "10.851",
         "showlegend": false,
         "type": "scatter",
         "uid": "231689f7-fd67-11e8-ad53-b46bfca2d37e",
         "x": [
          "2017-01-01"
         ],
         "xaxis": "x36",
         "y": [
          2
         ],
         "yaxis": "y36"
        },
        {
         "legendgroup": "10.855",
         "marker": {
          "color": "salmon"
         },
         "name": "10.855",
         "showlegend": false,
         "type": "scatter",
         "uid": "2318f4a4-fd67-11e8-9187-b46bfca2d37e",
         "x": [
          "2017-01-01",
          "2017-12-01",
          "2018-03-01"
         ],
         "xaxis": "x35",
         "y": [
          94010,
          441052,
          153082
         ],
         "yaxis": "y35"
        },
        {
         "legendgroup": "10.855",
         "marker": {
          "color": "salmon"
         },
         "name": "10.855",
         "showlegend": false,
         "type": "scatter",
         "uid": "231990d4-fd67-11e8-82c0-b46bfca2d37e",
         "x": [
          "2017-01-01",
          "2017-12-01",
          "2018-03-01"
         ],
         "xaxis": "x36",
         "y": [
          1,
          2,
          1
         ],
         "yaxis": "y36"
        },
        {
         "legendgroup": "10.763",
         "marker": {
          "color": "orangered"
         },
         "name": "10.763",
         "showlegend": false,
         "type": "scatter",
         "uid": "231a05fa-fd67-11e8-a429-b46bfca2d37e",
         "x": [
          "2017-03-01",
          "2018-02-01"
         ],
         "xaxis": "x35",
         "y": [
          876940,
          297292
         ],
         "yaxis": "y35"
        },
        {
         "legendgroup": "10.763",
         "marker": {
          "color": "orangered"
         },
         "name": "10.763",
         "showlegend": false,
         "type": "scatter",
         "uid": "231aa236-fd67-11e8-a1db-b46bfca2d37e",
         "x": [
          "2017-03-01",
          "2018-02-01"
         ],
         "xaxis": "x36",
         "y": [
          1,
          1
         ],
         "yaxis": "y36"
        },
        {
         "legendgroup": "10.770",
         "marker": {
          "color": "green"
         },
         "name": "10.770",
         "showlegend": false,
         "type": "scatter",
         "uid": "231b3e6e-fd67-11e8-8f8e-b46bfca2d37e",
         "x": [
          "2017-05-01",
          "2017-08-01",
          "2017-12-01"
         ],
         "xaxis": "x35",
         "y": [
          445409,
          1689000,
          100000
         ],
         "yaxis": "y35"
        },
        {
         "legendgroup": "10.770",
         "marker": {
          "color": "green"
         },
         "name": "10.770",
         "showlegend": false,
         "type": "scatter",
         "uid": "231c0306-fd67-11e8-bca3-b46bfca2d37e",
         "x": [
          "2017-05-01",
          "2017-08-01",
          "2017-12-01"
         ],
         "xaxis": "x36",
         "y": [
          1,
          3,
          1
         ],
         "yaxis": "y36"
        },
        {
         "legendgroup": "10.859",
         "marker": {
          "color": "lightblue"
         },
         "name": "10.859",
         "showlegend": false,
         "type": "scatter",
         "uid": "231c54e4-fd67-11e8-bd8e-b46bfca2d37e",
         "x": [
          "2017-05-01",
          "2018-03-01"
         ],
         "xaxis": "x35",
         "y": [
          93500,
          77119
         ],
         "yaxis": "y35"
        },
        {
         "legendgroup": "10.859",
         "marker": {
          "color": "lightblue"
         },
         "name": "10.859",
         "showlegend": false,
         "type": "scatter",
         "uid": "231c54e5-fd67-11e8-8568-b46bfca2d37e",
         "x": [
          "2017-05-01",
          "2018-03-01"
         ],
         "xaxis": "x36",
         "y": [
          1,
          1
         ],
         "yaxis": "y36"
        },
        {
         "legendgroup": "10.759",
         "marker": {
          "color": "forestgreen"
         },
         "name": "10.759",
         "showlegend": false,
         "type": "scatter",
         "uid": "231c54e6-fd67-11e8-a6a2-b46bfca2d37e",
         "x": [
          "2017-06-01"
         ],
         "xaxis": "x35",
         "y": [
          29400
         ],
         "yaxis": "y35"
        },
        {
         "legendgroup": "10.759",
         "marker": {
          "color": "forestgreen"
         },
         "name": "10.759",
         "showlegend": false,
         "type": "scatter",
         "uid": "231c54e7-fd67-11e8-837f-b46bfca2d37e",
         "x": [
          "2017-06-01"
         ],
         "xaxis": "x36",
         "y": [
          2
         ],
         "yaxis": "y36"
        },
        {
         "legendgroup": "10.864",
         "marker": {
          "color": "lightcoral"
         },
         "name": "10.864",
         "showlegend": false,
         "type": "scatter",
         "uid": "231eb79c-fd67-11e8-abfa-b46bfca2d37e",
         "x": [
          "2017-12-01",
          "2018-09-01"
         ],
         "xaxis": "x35",
         "y": [
          2664343,
          1027924
         ],
         "yaxis": "y35"
        },
        {
         "legendgroup": "10.864",
         "marker": {
          "color": "lightcoral"
         },
         "name": "10.864",
         "showlegend": false,
         "type": "scatter",
         "uid": "231eb79d-fd67-11e8-8f64-b46bfca2d37e",
         "x": [
          "2017-12-01",
          "2018-09-01"
         ],
         "xaxis": "x36",
         "y": [
          1,
          1
         ],
         "yaxis": "y36"
        },
        {
         "legendgroup": "10.761",
         "marker": {
          "color": "orchid"
         },
         "name": "10.761",
         "showlegend": false,
         "type": "scatter",
         "uid": "231eb79e-fd67-11e8-8ec8-b46bfca2d37e",
         "x": [
          "2018-07-01"
         ],
         "xaxis": "x35",
         "y": [
          115750
         ],
         "yaxis": "y35"
        },
        {
         "legendgroup": "10.761",
         "marker": {
          "color": "orchid"
         },
         "name": "10.761",
         "showlegend": false,
         "type": "scatter",
         "uid": "231eb79f-fd67-11e8-ac5b-b46bfca2d37e",
         "x": [
          "2018-07-01"
         ],
         "xaxis": "x36",
         "y": [
          1
         ],
         "yaxis": "y36"
        },
        {
         "legendgroup": "10.EQIP200874611412216",
         "marker": {
          "color": "burlywood"
         },
         "name": "10.EQIP200874611412216",
         "showlegend": false,
         "type": "scatter",
         "uid": "231eb7a0-fd67-11e8-adc4-b46bfca2d37e",
         "x": [
          "2016-12-01"
         ],
         "xaxis": "x37",
         "y": [
          8568
         ],
         "yaxis": "y37"
        },
        {
         "legendgroup": "10.EQIP200874611412216",
         "marker": {
          "color": "burlywood"
         },
         "name": "10.EQIP200874611412216",
         "showlegend": false,
         "type": "scatter",
         "uid": "23211af6-fd67-11e8-9132-b46bfca2d37e",
         "x": [
          "2016-12-01"
         ],
         "xaxis": "x38",
         "y": [
          1
         ],
         "yaxis": "y38"
        },
        {
         "legendgroup": "10.076",
         "marker": {
          "color": "rosybrown"
         },
         "name": "10.076",
         "showlegend": false,
         "type": "scatter",
         "uid": "23211af7-fd67-11e8-b5a1-b46bfca2d37e",
         "x": [
          "2017-01-01",
          "2017-11-01"
         ],
         "xaxis": "x37",
         "y": [
          2500000,
          2601000
         ],
         "yaxis": "y37"
        },
        {
         "legendgroup": "10.076",
         "marker": {
          "color": "rosybrown"
         },
         "name": "10.076",
         "showlegend": false,
         "type": "scatter",
         "uid": "23211af8-fd67-11e8-9ebc-b46bfca2d37e",
         "x": [
          "2017-01-01",
          "2017-11-01"
         ],
         "xaxis": "x38",
         "y": [
          1,
          2
         ],
         "yaxis": "y38"
        },
        {
         "legendgroup": "10.U00",
         "marker": {
          "color": "chocolate"
         },
         "name": "10.U00",
         "showlegend": false,
         "type": "scatter",
         "uid": "23237c24-fd67-11e8-8148-b46bfca2d37e",
         "x": [
          "2017-01-01",
          "2017-03-01",
          "2018-01-01",
          "2018-03-01"
         ],
         "xaxis": "x37",
         "y": [
          3579,
          16957771,
          1246,
          939907
         ],
         "yaxis": "y37"
        },
        {
         "legendgroup": "10.U00",
         "marker": {
          "color": "chocolate"
         },
         "name": "10.U00",
         "showlegend": false,
         "type": "scatter",
         "uid": "23237c25-fd67-11e8-b8b7-b46bfca2d37e",
         "x": [
          "2017-01-01",
          "2017-03-01",
          "2018-01-01",
          "2018-03-01"
         ],
         "xaxis": "x38",
         "y": [
          2,
          4,
          3,
          8
         ],
         "yaxis": "y38"
        },
        {
         "legendgroup": "10.U01",
         "marker": {
          "color": "coral"
         },
         "name": "10.U01",
         "showlegend": false,
         "type": "scatter",
         "uid": "23237c26-fd67-11e8-9e06-b46bfca2d37e",
         "x": [
          "2017-01-01",
          "2017-02-01",
          "2017-03-01",
          "2017-12-01",
          "2018-01-01",
          "2018-02-01",
          "2018-07-01",
          "2018-08-01",
          "2018-11-01"
         ],
         "xaxis": "x37",
         "y": [
          1284186,
          10453,
          28876,
          803593,
          1844555,
          2590921,
          1401493,
          3750,
          4536
         ],
         "yaxis": "y37"
        },
        {
         "legendgroup": "10.U01",
         "marker": {
          "color": "coral"
         },
         "name": "10.U01",
         "showlegend": false,
         "type": "scatter",
         "uid": "23237c27-fd67-11e8-b2f1-b46bfca2d37e",
         "x": [
          "2017-01-01",
          "2017-02-01",
          "2017-03-01",
          "2017-12-01",
          "2018-01-01",
          "2018-02-01",
          "2018-07-01",
          "2018-08-01",
          "2018-11-01"
         ],
         "xaxis": "x38",
         "y": [
          2,
          4,
          1,
          4,
          3,
          3,
          2,
          1,
          1
         ],
         "yaxis": "y38"
        },
        {
         "legendgroup": "10.U02",
         "marker": {
          "color": "cornflowerblue"
         },
         "name": "10.U02",
         "showlegend": false,
         "type": "scatter",
         "uid": "2325de74-fd67-11e8-b8ad-b46bfca2d37e",
         "x": [
          "2017-01-01",
          "2018-01-01"
         ],
         "xaxis": "x37",
         "y": [
          68219,
          10882
         ],
         "yaxis": "y37"
        },
        {
         "legendgroup": "10.U02",
         "marker": {
          "color": "cornflowerblue"
         },
         "name": "10.U02",
         "showlegend": false,
         "type": "scatter",
         "uid": "2325de75-fd67-11e8-949d-b46bfca2d37e",
         "x": [
          "2017-01-01",
          "2018-01-01"
         ],
         "xaxis": "x38",
         "y": [
          2,
          3
         ],
         "yaxis": "y38"
        },
        {
         "legendgroup": "10.U03",
         "marker": {
          "color": "plum"
         },
         "name": "10.U03",
         "showlegend": false,
         "type": "scatter",
         "uid": "2325de76-fd67-11e8-bfb6-b46bfca2d37e",
         "x": [
          "2017-01-01",
          "2018-01-01"
         ],
         "xaxis": "x37",
         "y": [
          15528,
          -628
         ],
         "yaxis": "y37"
        },
        {
         "legendgroup": "10.U03",
         "marker": {
          "color": "plum"
         },
         "name": "10.U03",
         "showlegend": false,
         "type": "scatter",
         "uid": "2325de77-fd67-11e8-937a-b46bfca2d37e",
         "x": [
          "2017-01-01",
          "2018-01-01"
         ],
         "xaxis": "x38",
         "y": [
          2,
          3
         ],
         "yaxis": "y38"
        },
        {
         "legendgroup": "10.U04",
         "marker": {
          "color": "crimson"
         },
         "name": "10.U04",
         "showlegend": false,
         "type": "scatter",
         "uid": "23295ba8-fd67-11e8-a953-b46bfca2d37e",
         "x": [
          "2017-01-01",
          "2018-01-01"
         ],
         "xaxis": "x37",
         "y": [
          11782,
          58000
         ],
         "yaxis": "y37"
        },
        {
         "legendgroup": "10.U04",
         "marker": {
          "color": "crimson"
         },
         "name": "10.U04",
         "showlegend": false,
         "type": "scatter",
         "uid": "2329f8f4-fd67-11e8-91ce-b46bfca2d37e",
         "x": [
          "2017-01-01",
          "2018-01-01"
         ],
         "xaxis": "x38",
         "y": [
          2,
          3
         ],
         "yaxis": "y38"
        },
        {
         "legendgroup": "10.U05",
         "marker": {
          "color": "cyan"
         },
         "name": "10.U05",
         "showlegend": false,
         "type": "scatter",
         "uid": "232a9536-fd67-11e8-ac84-b46bfca2d37e",
         "x": [
          "2017-01-01",
          "2018-01-01"
         ],
         "xaxis": "x37",
         "y": [
          10028,
          21806
         ],
         "yaxis": "y37"
        },
        {
         "legendgroup": "10.U05",
         "marker": {
          "color": "cyan"
         },
         "name": "10.U05",
         "showlegend": false,
         "type": "scatter",
         "uid": "232b317e-fd67-11e8-b25b-b46bfca2d37e",
         "x": [
          "2017-01-01",
          "2018-01-01"
         ],
         "xaxis": "x38",
         "y": [
          2,
          3
         ],
         "yaxis": "y38"
        },
        {
         "legendgroup": "10.U06",
         "marker": {
          "color": "darkblue"
         },
         "name": "10.U06",
         "showlegend": false,
         "type": "scatter",
         "uid": "232bad92-fd67-11e8-8235-b46bfca2d37e",
         "x": [
          "2017-01-01",
          "2018-01-01"
         ],
         "xaxis": "x37",
         "y": [
          7861,
          5865
         ],
         "yaxis": "y37"
        },
        {
         "legendgroup": "10.U06",
         "marker": {
          "color": "darkblue"
         },
         "name": "10.U06",
         "showlegend": false,
         "type": "scatter",
         "uid": "232bad93-fd67-11e8-a52c-b46bfca2d37e",
         "x": [
          "2017-01-01",
          "2018-01-01"
         ],
         "xaxis": "x38",
         "y": [
          2,
          3
         ],
         "yaxis": "y38"
        },
        {
         "legendgroup": "10.U07",
         "marker": {
          "color": "darkcyan"
         },
         "name": "10.U07",
         "showlegend": false,
         "type": "scatter",
         "uid": "232bad94-fd67-11e8-9ce6-b46bfca2d37e",
         "x": [
          "2017-01-01",
          "2018-01-01"
         ],
         "xaxis": "x37",
         "y": [
          30153,
          16672
         ],
         "yaxis": "y37"
        },
        {
         "legendgroup": "10.U07",
         "marker": {
          "color": "darkcyan"
         },
         "name": "10.U07",
         "showlegend": false,
         "type": "scatter",
         "uid": "232bad95-fd67-11e8-8c71-b46bfca2d37e",
         "x": [
          "2017-01-01",
          "2018-01-01"
         ],
         "xaxis": "x38",
         "y": [
          2,
          3
         ],
         "yaxis": "y38"
        },
        {
         "legendgroup": "10.U08",
         "marker": {
          "color": "darkgoldenrod"
         },
         "name": "10.U08",
         "showlegend": false,
         "type": "scatter",
         "uid": "232e1034-fd67-11e8-ac3e-b46bfca2d37e",
         "x": [
          "2017-01-01",
          "2018-01-01",
          "2018-07-01"
         ],
         "xaxis": "x37",
         "y": [
          20493,
          18850,
          9564687
         ],
         "yaxis": "y37"
        },
        {
         "legendgroup": "10.U08",
         "marker": {
          "color": "darkgoldenrod"
         },
         "name": "10.U08",
         "showlegend": false,
         "type": "scatter",
         "uid": "232e1035-fd67-11e8-94d9-b46bfca2d37e",
         "x": [
          "2017-01-01",
          "2018-01-01",
          "2018-07-01"
         ],
         "xaxis": "x38",
         "y": [
          2,
          3,
          7
         ],
         "yaxis": "y38"
        },
        {
         "legendgroup": "10.U09",
         "marker": {
          "color": "darkgray"
         },
         "name": "10.U09",
         "showlegend": false,
         "type": "scatter",
         "uid": "232e1036-fd67-11e8-9388-b46bfca2d37e",
         "x": [
          "2017-01-01",
          "2018-01-01",
          "2018-07-01"
         ],
         "xaxis": "x37",
         "y": [
          95141,
          23919,
          131754
         ],
         "yaxis": "y37"
        },
        {
         "legendgroup": "10.U09",
         "marker": {
          "color": "darkgray"
         },
         "name": "10.U09",
         "showlegend": false,
         "type": "scatter",
         "uid": "232e1037-fd67-11e8-bf5f-b46bfca2d37e",
         "x": [
          "2017-01-01",
          "2018-01-01",
          "2018-07-01"
         ],
         "xaxis": "x38",
         "y": [
          2,
          3,
          7
         ],
         "yaxis": "y38"
        },
        {
         "legendgroup": "10.U10",
         "marker": {
          "color": "magenta"
         },
         "name": "10.U10",
         "showlegend": false,
         "type": "scatter",
         "uid": "233073ae-fd67-11e8-899d-b46bfca2d37e",
         "x": [
          "2017-01-01",
          "2018-01-01",
          "2018-07-01"
         ],
         "xaxis": "x37",
         "y": [
          13595,
          4397,
          514896
         ],
         "yaxis": "y37"
        },
        {
         "legendgroup": "10.U10",
         "marker": {
          "color": "magenta"
         },
         "name": "10.U10",
         "showlegend": false,
         "type": "scatter",
         "uid": "233073af-fd67-11e8-9987-b46bfca2d37e",
         "x": [
          "2017-01-01",
          "2018-01-01",
          "2018-07-01"
         ],
         "xaxis": "x38",
         "y": [
          2,
          3,
          4
         ],
         "yaxis": "y38"
        },
        {
         "legendgroup": "10.U11",
         "marker": {
          "color": "darkgreen"
         },
         "name": "10.U11",
         "showlegend": false,
         "type": "scatter",
         "uid": "233073b0-fd67-11e8-9c32-b46bfca2d37e",
         "x": [
          "2017-01-01",
          "2018-01-01"
         ],
         "xaxis": "x37",
         "y": [
          26344,
          2476
         ],
         "yaxis": "y37"
        },
        {
         "legendgroup": "10.U11",
         "marker": {
          "color": "darkgreen"
         },
         "name": "10.U11",
         "showlegend": false,
         "type": "scatter",
         "uid": "2332d4c2-fd67-11e8-bedf-b46bfca2d37e",
         "x": [
          "2017-01-01",
          "2018-01-01"
         ],
         "xaxis": "x38",
         "y": [
          2,
          3
         ],
         "yaxis": "y38"
        },
        {
         "legendgroup": "10.U12",
         "marker": {
          "color": "darkkhaki"
         },
         "name": "10.U12",
         "showlegend": false,
         "type": "scatter",
         "uid": "2332d4c3-fd67-11e8-b453-b46bfca2d37e",
         "x": [
          "2017-01-01",
          "2018-01-01"
         ],
         "xaxis": "x37",
         "y": [
          7502,
          13619
         ],
         "yaxis": "y37"
        },
        {
         "legendgroup": "10.U12",
         "marker": {
          "color": "darkkhaki"
         },
         "name": "10.U12",
         "showlegend": false,
         "type": "scatter",
         "uid": "2332d4c4-fd67-11e8-848b-b46bfca2d37e",
         "x": [
          "2017-01-01",
          "2018-01-01"
         ],
         "xaxis": "x38",
         "y": [
          2,
          3
         ],
         "yaxis": "y38"
        },
        {
         "legendgroup": "10.U13",
         "marker": {
          "color": "darkmagenta"
         },
         "name": "10.U13",
         "showlegend": false,
         "type": "scatter",
         "uid": "2332d4c5-fd67-11e8-8596-b46bfca2d37e",
         "x": [
          "2017-01-01",
          "2018-01-01"
         ],
         "xaxis": "x37",
         "y": [
          3205,
          104924
         ],
         "yaxis": "y37"
        },
        {
         "legendgroup": "10.U13",
         "marker": {
          "color": "darkmagenta"
         },
         "name": "10.U13",
         "showlegend": false,
         "type": "scatter",
         "uid": "2332d4c6-fd67-11e8-90c8-b46bfca2d37e",
         "x": [
          "2017-01-01",
          "2018-01-01"
         ],
         "xaxis": "x38",
         "y": [
          2,
          3
         ],
         "yaxis": "y38"
        },
        {
         "legendgroup": "10.U14",
         "marker": {
          "color": "darkolivegreen"
         },
         "name": "10.U14",
         "showlegend": false,
         "type": "scatter",
         "uid": "233536f6-fd67-11e8-a2ac-b46bfca2d37e",
         "x": [
          "2017-01-01",
          "2018-01-01"
         ],
         "xaxis": "x37",
         "y": [
          64481,
          8092
         ],
         "yaxis": "y37"
        },
        {
         "legendgroup": "10.U14",
         "marker": {
          "color": "darkolivegreen"
         },
         "name": "10.U14",
         "showlegend": false,
         "type": "scatter",
         "uid": "233536f7-fd67-11e8-921f-b46bfca2d37e",
         "x": [
          "2017-01-01",
          "2018-01-01"
         ],
         "xaxis": "x38",
         "y": [
          2,
          3
         ],
         "yaxis": "y38"
        },
        {
         "legendgroup": "10.U15",
         "marker": {
          "color": "darkorange"
         },
         "name": "10.U15",
         "showlegend": false,
         "type": "scatter",
         "uid": "233536f8-fd67-11e8-9186-b46bfca2d37e",
         "x": [
          "2017-01-01",
          "2018-01-01"
         ],
         "xaxis": "x37",
         "y": [
          3617,
          7883
         ],
         "yaxis": "y37"
        },
        {
         "legendgroup": "10.U15",
         "marker": {
          "color": "darkorange"
         },
         "name": "10.U15",
         "showlegend": false,
         "type": "scatter",
         "uid": "233536f9-fd67-11e8-a458-b46bfca2d37e",
         "x": [
          "2017-01-01",
          "2018-01-01"
         ],
         "xaxis": "x38",
         "y": [
          2,
          3
         ],
         "yaxis": "y38"
        },
        {
         "legendgroup": "10.U16",
         "marker": {
          "color": "darkorchid"
         },
         "name": "10.U16",
         "showlegend": false,
         "type": "scatter",
         "uid": "23386602-fd67-11e8-886b-b46bfca2d37e",
         "x": [
          "2017-01-01",
          "2018-01-01"
         ],
         "xaxis": "x37",
         "y": [
          25182,
          102063
         ],
         "yaxis": "y37"
        },
        {
         "legendgroup": "10.U16",
         "marker": {
          "color": "darkorchid"
         },
         "name": "10.U16",
         "showlegend": false,
         "type": "scatter",
         "uid": "23390254-fd67-11e8-92c3-b46bfca2d37e",
         "x": [
          "2017-01-01",
          "2018-01-01"
         ],
         "xaxis": "x38",
         "y": [
          2,
          3
         ],
         "yaxis": "y38"
        },
        {
         "legendgroup": "10.U17",
         "marker": {
          "color": "darkred"
         },
         "name": "10.U17",
         "showlegend": false,
         "type": "scatter",
         "uid": "23399e9c-fd67-11e8-8c2e-b46bfca2d37e",
         "x": [
          "2017-01-01",
          "2018-01-01"
         ],
         "xaxis": "x37",
         "y": [
          83685,
          13476
         ],
         "yaxis": "y37"
        },
        {
         "legendgroup": "10.U17",
         "marker": {
          "color": "darkred"
         },
         "name": "10.U17",
         "showlegend": false,
         "type": "scatter",
         "uid": "233a3adc-fd67-11e8-845c-b46bfca2d37e",
         "x": [
          "2017-01-01",
          "2018-01-01"
         ],
         "xaxis": "x38",
         "y": [
          2,
          3
         ],
         "yaxis": "y38"
        },
        {
         "legendgroup": "10.U18",
         "marker": {
          "color": "darksalmon"
         },
         "name": "10.U18",
         "showlegend": false,
         "type": "scatter",
         "uid": "233b0a1c-fd67-11e8-be55-b46bfca2d37e",
         "x": [
          "2017-01-01",
          "2018-01-01"
         ],
         "xaxis": "x37",
         "y": [
          15862,
          18257
         ],
         "yaxis": "y37"
        },
        {
         "legendgroup": "10.U18",
         "marker": {
          "color": "darksalmon"
         },
         "name": "10.U18",
         "showlegend": false,
         "type": "scatter",
         "uid": "233ba64a-fd67-11e8-9612-b46bfca2d37e",
         "x": [
          "2017-01-01",
          "2018-01-01"
         ],
         "xaxis": "x38",
         "y": [
          2,
          3
         ],
         "yaxis": "y38"
        },
        {
         "legendgroup": "10.U19",
         "marker": {
          "color": "darkseagreen"
         },
         "name": "10.U19",
         "showlegend": false,
         "type": "scatter",
         "uid": "233d541e-fd67-11e8-a8e1-b46bfca2d37e",
         "x": [
          "2017-01-01",
          "2018-01-01"
         ],
         "xaxis": "x37",
         "y": [
          10278,
          104193
         ],
         "yaxis": "y37"
        },
        {
         "legendgroup": "10.U19",
         "marker": {
          "color": "darkseagreen"
         },
         "name": "10.U19",
         "showlegend": false,
         "type": "scatter",
         "uid": "233df61e-fd67-11e8-94d5-b46bfca2d37e",
         "x": [
          "2017-01-01",
          "2018-01-01"
         ],
         "xaxis": "x38",
         "y": [
          2,
          3
         ],
         "yaxis": "y38"
        },
        {
         "legendgroup": "10.U20",
         "marker": {
          "color": "darkslateblue"
         },
         "name": "10.U20",
         "showlegend": false,
         "type": "scatter",
         "uid": "233df61f-fd67-11e8-a385-b46bfca2d37e",
         "x": [
          "2017-01-01",
          "2018-01-01"
         ],
         "xaxis": "x37",
         "y": [
          38641,
          14817
         ],
         "yaxis": "y37"
        },
        {
         "legendgroup": "10.U20",
         "marker": {
          "color": "darkslateblue"
         },
         "name": "10.U20",
         "showlegend": false,
         "type": "scatter",
         "uid": "233df620-fd67-11e8-b336-b46bfca2d37e",
         "x": [
          "2017-01-01",
          "2018-01-01"
         ],
         "xaxis": "x38",
         "y": [
          2,
          3
         ],
         "yaxis": "y38"
        },
        {
         "legendgroup": "10.U21",
         "marker": {
          "color": "darkslategray"
         },
         "name": "10.U21",
         "showlegend": false,
         "type": "scatter",
         "uid": "233df621-fd67-11e8-a37d-b46bfca2d37e",
         "x": [
          "2017-01-01",
          "2018-01-01"
         ],
         "xaxis": "x37",
         "y": [
          26698,
          76835
         ],
         "yaxis": "y37"
        },
        {
         "legendgroup": "10.U21",
         "marker": {
          "color": "darkslategray"
         },
         "name": "10.U21",
         "showlegend": false,
         "type": "scatter",
         "uid": "23405a18-fd67-11e8-9e6a-b46bfca2d37e",
         "x": [
          "2017-01-01",
          "2018-01-01"
         ],
         "xaxis": "x38",
         "y": [
          2,
          3
         ],
         "yaxis": "y38"
        },
        {
         "legendgroup": "10.U22",
         "marker": {
          "color": "darkslategrey"
         },
         "name": "10.U22",
         "showlegend": false,
         "type": "scatter",
         "uid": "23405a19-fd67-11e8-91d2-b46bfca2d37e",
         "x": [
          "2017-01-01",
          "2018-01-01"
         ],
         "xaxis": "x37",
         "y": [
          1921,
          16457
         ],
         "yaxis": "y37"
        },
        {
         "legendgroup": "10.U22",
         "marker": {
          "color": "darkslategrey"
         },
         "name": "10.U22",
         "showlegend": false,
         "type": "scatter",
         "uid": "23405a1a-fd67-11e8-9bb2-b46bfca2d37e",
         "x": [
          "2017-01-01",
          "2018-01-01"
         ],
         "xaxis": "x38",
         "y": [
          2,
          3
         ],
         "yaxis": "y38"
        },
        {
         "legendgroup": "10.U23",
         "marker": {
          "color": "darkturquoise"
         },
         "name": "10.U23",
         "showlegend": false,
         "type": "scatter",
         "uid": "23405a1b-fd67-11e8-86b5-b46bfca2d37e",
         "x": [
          "2017-01-01",
          "2018-01-01"
         ],
         "xaxis": "x37",
         "y": [
          36324,
          538071
         ],
         "yaxis": "y37"
        },
        {
         "legendgroup": "10.U23",
         "marker": {
          "color": "darkturquoise"
         },
         "name": "10.U23",
         "showlegend": false,
         "type": "scatter",
         "uid": "23431314-fd67-11e8-9bf1-b46bfca2d37e",
         "x": [
          "2017-01-01",
          "2018-01-01"
         ],
         "xaxis": "x38",
         "y": [
          2,
          3
         ],
         "yaxis": "y38"
        },
        {
         "legendgroup": "10.U24",
         "marker": {
          "color": "darkviolet"
         },
         "name": "10.U24",
         "showlegend": false,
         "type": "scatter",
         "uid": "2343d630-fd67-11e8-94c7-b46bfca2d37e",
         "x": [
          "2017-01-01",
          "2018-01-01"
         ],
         "xaxis": "x37",
         "y": [
          13669,
          47549
         ],
         "yaxis": "y37"
        },
        {
         "legendgroup": "10.U24",
         "marker": {
          "color": "darkviolet"
         },
         "name": "10.U24",
         "showlegend": false,
         "type": "scatter",
         "uid": "234472a6-fd67-11e8-8dce-b46bfca2d37e",
         "x": [
          "2017-01-01",
          "2018-01-01"
         ],
         "xaxis": "x38",
         "y": [
          2,
          3
         ],
         "yaxis": "y38"
        },
        {
         "legendgroup": "10.U25",
         "marker": {
          "color": "deeppink"
         },
         "name": "10.U25",
         "showlegend": false,
         "type": "scatter",
         "uid": "23450ecc-fd67-11e8-86d4-b46bfca2d37e",
         "x": [
          "2017-01-01",
          "2018-01-01"
         ],
         "xaxis": "x37",
         "y": [
          51328,
          4191
         ],
         "yaxis": "y37"
        },
        {
         "legendgroup": "10.U25",
         "marker": {
          "color": "deeppink"
         },
         "name": "10.U25",
         "showlegend": false,
         "type": "scatter",
         "uid": "2345aaee-fd67-11e8-a3ba-b46bfca2d37e",
         "x": [
          "2017-01-01",
          "2018-01-01"
         ],
         "xaxis": "x38",
         "y": [
          2,
          3
         ],
         "yaxis": "y38"
        },
        {
         "legendgroup": "10.U26",
         "marker": {
          "color": "deepskyblue"
         },
         "name": "10.U26",
         "showlegend": false,
         "type": "scatter",
         "uid": "23464776-fd67-11e8-a9fa-b46bfca2d37e",
         "x": [
          "2017-01-01",
          "2018-01-01"
         ],
         "xaxis": "x37",
         "y": [
          16864,
          46283
         ],
         "yaxis": "y37"
        },
        {
         "legendgroup": "10.U26",
         "marker": {
          "color": "deepskyblue"
         },
         "name": "10.U26",
         "showlegend": false,
         "type": "scatter",
         "uid": "2347309c-fd67-11e8-969f-b46bfca2d37e",
         "x": [
          "2017-01-01",
          "2018-01-01"
         ],
         "xaxis": "x38",
         "y": [
          2,
          3
         ],
         "yaxis": "y38"
        },
        {
         "legendgroup": "10.U27",
         "marker": {
          "color": "dimgray"
         },
         "name": "10.U27",
         "showlegend": false,
         "type": "scatter",
         "uid": "23489006-fd67-11e8-b8c7-b46bfca2d37e",
         "x": [
          "2017-01-01",
          "2018-01-01"
         ],
         "xaxis": "x37",
         "y": [
          71581,
          107405
         ],
         "yaxis": "y37"
        },
        {
         "legendgroup": "10.U27",
         "marker": {
          "color": "dimgray"
         },
         "name": "10.U27",
         "showlegend": false,
         "type": "scatter",
         "uid": "23497a70-fd67-11e8-8fcd-b46bfca2d37e",
         "x": [
          "2017-01-01",
          "2018-01-01"
         ],
         "xaxis": "x38",
         "y": [
          2,
          3
         ],
         "yaxis": "y38"
        },
        {
         "legendgroup": "10.U28",
         "marker": {
          "color": "dimgrey"
         },
         "name": "10.U28",
         "showlegend": false,
         "type": "scatter",
         "uid": "234a92c6-fd67-11e8-9be8-b46bfca2d37e",
         "x": [
          "2017-01-01",
          "2018-01-01"
         ],
         "xaxis": "x37",
         "y": [
          285115,
          16313
         ],
         "yaxis": "y37"
        },
        {
         "legendgroup": "10.U28",
         "marker": {
          "color": "dimgrey"
         },
         "name": "10.U28",
         "showlegend": false,
         "type": "scatter",
         "uid": "234a92c7-fd67-11e8-89b7-b46bfca2d37e",
         "x": [
          "2017-01-01",
          "2018-01-01"
         ],
         "xaxis": "x38",
         "y": [
          2,
          3
         ],
         "yaxis": "y38"
        },
        {
         "legendgroup": "10.U29",
         "marker": {
          "color": "dodgerblue"
         },
         "name": "10.U29",
         "showlegend": false,
         "type": "scatter",
         "uid": "234a92c8-fd67-11e8-89b4-b46bfca2d37e",
         "x": [
          "2017-01-01",
          "2018-01-01"
         ],
         "xaxis": "x37",
         "y": [
          8398,
          26150
         ],
         "yaxis": "y37"
        },
        {
         "legendgroup": "10.U29",
         "marker": {
          "color": "dodgerblue"
         },
         "name": "10.U29",
         "showlegend": false,
         "type": "scatter",
         "uid": "234a92c9-fd67-11e8-aa48-b46bfca2d37e",
         "x": [
          "2017-01-01",
          "2018-01-01"
         ],
         "xaxis": "x38",
         "y": [
          2,
          3
         ],
         "yaxis": "y38"
        },
        {
         "legendgroup": "10.U30",
         "marker": {
          "color": "firebrick"
         },
         "name": "10.U30",
         "showlegend": false,
         "type": "scatter",
         "uid": "234cf528-fd67-11e8-876e-b46bfca2d37e",
         "x": [
          "2017-01-01",
          "2018-01-01"
         ],
         "xaxis": "x37",
         "y": [
          30616,
          34824
         ],
         "yaxis": "y37"
        },
        {
         "legendgroup": "10.U30",
         "marker": {
          "color": "firebrick"
         },
         "name": "10.U30",
         "showlegend": false,
         "type": "scatter",
         "uid": "234cf529-fd67-11e8-9cc7-b46bfca2d37e",
         "x": [
          "2017-01-01",
          "2018-01-01"
         ],
         "xaxis": "x38",
         "y": [
          2,
          3
         ],
         "yaxis": "y38"
        },
        {
         "legendgroup": "10.U31",
         "marker": {
          "color": "floralwhite"
         },
         "name": "10.U31",
         "showlegend": false,
         "type": "scatter",
         "uid": "234cf52a-fd67-11e8-ad16-b46bfca2d37e",
         "x": [
          "2017-01-01",
          "2018-01-01"
         ],
         "xaxis": "x37",
         "y": [
          4399,
          15500
         ],
         "yaxis": "y37"
        },
        {
         "legendgroup": "10.U31",
         "marker": {
          "color": "floralwhite"
         },
         "name": "10.U31",
         "showlegend": false,
         "type": "scatter",
         "uid": "234f578a-fd67-11e8-954f-b46bfca2d37e",
         "x": [
          "2017-01-01",
          "2018-01-01"
         ],
         "xaxis": "x38",
         "y": [
          2,
          3
         ],
         "yaxis": "y38"
        },
        {
         "legendgroup": "10.U32",
         "marker": {
          "color": "forestgreen"
         },
         "name": "10.U32",
         "showlegend": false,
         "type": "scatter",
         "uid": "234f578b-fd67-11e8-93a3-b46bfca2d37e",
         "x": [
          "2017-01-01",
          "2018-01-01"
         ],
         "xaxis": "x37",
         "y": [
          35072,
          88699
         ],
         "yaxis": "y37"
        },
        {
         "legendgroup": "10.U32",
         "marker": {
          "color": "forestgreen"
         },
         "name": "10.U32",
         "showlegend": false,
         "type": "scatter",
         "uid": "234f578c-fd67-11e8-b846-b46bfca2d37e",
         "x": [
          "2017-01-01",
          "2018-01-01"
         ],
         "xaxis": "x38",
         "y": [
          2,
          3
         ],
         "yaxis": "y38"
        },
        {
         "legendgroup": "10.U33",
         "marker": {
          "color": "fuchsia"
         },
         "name": "10.U33",
         "showlegend": false,
         "type": "scatter",
         "uid": "2351b9dc-fd67-11e8-8d31-b46bfca2d37e",
         "x": [
          "2017-01-01",
          "2018-01-01"
         ],
         "xaxis": "x37",
         "y": [
          44121,
          101478
         ],
         "yaxis": "y37"
        },
        {
         "legendgroup": "10.U33",
         "marker": {
          "color": "fuchsia"
         },
         "name": "10.U33",
         "showlegend": false,
         "type": "scatter",
         "uid": "2351b9dd-fd67-11e8-b6a8-b46bfca2d37e",
         "x": [
          "2017-01-01",
          "2018-01-01"
         ],
         "xaxis": "x38",
         "y": [
          2,
          3
         ],
         "yaxis": "y38"
        },
        {
         "legendgroup": "10.U34",
         "marker": {
          "color": "orchid"
         },
         "name": "10.U34",
         "showlegend": false,
         "type": "scatter",
         "uid": "2351b9de-fd67-11e8-a584-b46bfca2d37e",
         "x": [
          "2017-01-01",
          "2018-01-01"
         ],
         "xaxis": "x37",
         "y": [
          24160,
          96686
         ],
         "yaxis": "y37"
        },
        {
         "legendgroup": "10.U34",
         "marker": {
          "color": "orchid"
         },
         "name": "10.U34",
         "showlegend": false,
         "type": "scatter",
         "uid": "2351b9df-fd67-11e8-8518-b46bfca2d37e",
         "x": [
          "2017-01-01",
          "2018-01-01"
         ],
         "xaxis": "x38",
         "y": [
          2,
          3
         ],
         "yaxis": "y38"
        },
        {
         "legendgroup": "10.U35",
         "marker": {
          "color": "orangered"
         },
         "name": "10.U35",
         "showlegend": false,
         "type": "scatter",
         "uid": "23541c9e-fd67-11e8-9efd-b46bfca2d37e",
         "x": [
          "2017-01-01",
          "2018-01-01"
         ],
         "xaxis": "x37",
         "y": [
          50888,
          7509
         ],
         "yaxis": "y37"
        },
        {
         "legendgroup": "10.U35",
         "marker": {
          "color": "orangered"
         },
         "name": "10.U35",
         "showlegend": false,
         "type": "scatter",
         "uid": "23541c9f-fd67-11e8-bcad-b46bfca2d37e",
         "x": [
          "2017-01-01",
          "2018-01-01"
         ],
         "xaxis": "x38",
         "y": [
          2,
          3
         ],
         "yaxis": "y38"
        },
        {
         "legendgroup": "10.U36",
         "marker": {
          "color": "gold"
         },
         "name": "10.U36",
         "showlegend": false,
         "type": "scatter",
         "uid": "23541ca0-fd67-11e8-a96b-b46bfca2d37e",
         "x": [
          "2017-01-01",
          "2018-01-01"
         ],
         "xaxis": "x37",
         "y": [
          27008,
          21479
         ],
         "yaxis": "y37"
        },
        {
         "legendgroup": "10.U36",
         "marker": {
          "color": "gold"
         },
         "name": "10.U36",
         "showlegend": false,
         "type": "scatter",
         "uid": "23567ea4-fd67-11e8-a704-b46bfca2d37e",
         "x": [
          "2017-01-01",
          "2018-01-01"
         ],
         "xaxis": "x38",
         "y": [
          2,
          3
         ],
         "yaxis": "y38"
        },
        {
         "legendgroup": "10.U37",
         "marker": {
          "color": "goldenrod"
         },
         "name": "10.U37",
         "showlegend": false,
         "type": "scatter",
         "uid": "2357e0e4-fd67-11e8-9f3e-b46bfca2d37e",
         "x": [
          "2017-01-01",
          "2018-01-01"
         ],
         "xaxis": "x37",
         "y": [
          27651,
          91802
         ],
         "yaxis": "y37"
        },
        {
         "legendgroup": "10.U37",
         "marker": {
          "color": "goldenrod"
         },
         "name": "10.U37",
         "showlegend": false,
         "type": "scatter",
         "uid": "2358a442-fd67-11e8-ae83-b46bfca2d37e",
         "x": [
          "2017-01-01",
          "2018-01-01"
         ],
         "xaxis": "x38",
         "y": [
          2,
          3
         ],
         "yaxis": "y38"
        },
        {
         "legendgroup": "10.U38",
         "marker": {
          "color": "gray"
         },
         "name": "10.U38",
         "showlegend": false,
         "type": "scatter",
         "uid": "23596b9a-fd67-11e8-a5c3-b46bfca2d37e",
         "x": [
          "2017-01-01",
          "2018-01-01"
         ],
         "xaxis": "x37",
         "y": [
          36931,
          19423
         ],
         "yaxis": "y37"
        },
        {
         "legendgroup": "10.U38",
         "marker": {
          "color": "gray"
         },
         "name": "10.U38",
         "showlegend": false,
         "type": "scatter",
         "uid": "23596b9b-fd67-11e8-9844-b46bfca2d37e",
         "x": [
          "2017-01-01",
          "2018-01-01"
         ],
         "xaxis": "x38",
         "y": [
          2,
          3
         ],
         "yaxis": "y38"
        },
        {
         "legendgroup": "10.U39",
         "marker": {
          "color": "magenta"
         },
         "name": "10.U39",
         "showlegend": false,
         "type": "scatter",
         "uid": "23596b9c-fd67-11e8-8e25-b46bfca2d37e",
         "x": [
          "2017-01-01",
          "2018-01-01"
         ],
         "xaxis": "x37",
         "y": [
          300000,
          12970
         ],
         "yaxis": "y37"
        },
        {
         "legendgroup": "10.U39",
         "marker": {
          "color": "magenta"
         },
         "name": "10.U39",
         "showlegend": false,
         "type": "scatter",
         "uid": "23596b9d-fd67-11e8-ab1f-b46bfca2d37e",
         "x": [
          "2017-01-01",
          "2018-01-01"
         ],
         "xaxis": "x38",
         "y": [
          2,
          3
         ],
         "yaxis": "y38"
        },
        {
         "legendgroup": "10.U40",
         "marker": {
          "color": "green"
         },
         "name": "10.U40",
         "showlegend": false,
         "type": "scatter",
         "uid": "235bce6e-fd67-11e8-81fa-b46bfca2d37e",
         "x": [
          "2017-01-01",
          "2018-01-01"
         ],
         "xaxis": "x37",
         "y": [
          21955,
          27634
         ],
         "yaxis": "y37"
        },
        {
         "legendgroup": "10.U40",
         "marker": {
          "color": "green"
         },
         "name": "10.U40",
         "showlegend": false,
         "type": "scatter",
         "uid": "235bce6f-fd67-11e8-8e48-b46bfca2d37e",
         "x": [
          "2017-01-01",
          "2018-01-01"
         ],
         "xaxis": "x38",
         "y": [
          2,
          3
         ],
         "yaxis": "y38"
        },
        {
         "legendgroup": "10.U41",
         "marker": {
          "color": "greenyellow"
         },
         "name": "10.U41",
         "showlegend": false,
         "type": "scatter",
         "uid": "235e308a-fd67-11e8-a905-b46bfca2d37e",
         "x": [
          "2017-01-01",
          "2018-01-01"
         ],
         "xaxis": "x37",
         "y": [
          250,
          19831
         ],
         "yaxis": "y37"
        },
        {
         "legendgroup": "10.U41",
         "marker": {
          "color": "greenyellow"
         },
         "name": "10.U41",
         "showlegend": false,
         "type": "scatter",
         "uid": "235e308b-fd67-11e8-b8dd-b46bfca2d37e",
         "x": [
          "2017-01-01",
          "2018-01-01"
         ],
         "xaxis": "x38",
         "y": [
          2,
          3
         ],
         "yaxis": "y38"
        },
        {
         "legendgroup": "10.U42",
         "marker": {
          "color": "honeydew"
         },
         "name": "10.U42",
         "showlegend": false,
         "type": "scatter",
         "uid": "235e308c-fd67-11e8-91b9-b46bfca2d37e",
         "x": [
          "2017-01-01",
          "2018-01-01"
         ],
         "xaxis": "x37",
         "y": [
          45566,
          8900
         ],
         "yaxis": "y37"
        },
        {
         "legendgroup": "10.U42",
         "marker": {
          "color": "honeydew"
         },
         "name": "10.U42",
         "showlegend": false,
         "type": "scatter",
         "uid": "235e308d-fd67-11e8-8443-b46bfca2d37e",
         "x": [
          "2017-01-01",
          "2018-01-01"
         ],
         "xaxis": "x38",
         "y": [
          2,
          3
         ],
         "yaxis": "y38"
        },
        {
         "legendgroup": "10.U43",
         "marker": {
          "color": "hotpink"
         },
         "name": "10.U43",
         "showlegend": false,
         "type": "scatter",
         "uid": "236092c6-fd67-11e8-8636-b46bfca2d37e",
         "x": [
          "2017-01-01",
          "2018-01-01"
         ],
         "xaxis": "x37",
         "y": [
          107751,
          26737
         ],
         "yaxis": "y37"
        },
        {
         "legendgroup": "10.U43",
         "marker": {
          "color": "hotpink"
         },
         "name": "10.U43",
         "showlegend": false,
         "type": "scatter",
         "uid": "236092c7-fd67-11e8-9277-b46bfca2d37e",
         "x": [
          "2017-01-01",
          "2018-01-01"
         ],
         "xaxis": "x38",
         "y": [
          2,
          3
         ],
         "yaxis": "y38"
        },
        {
         "legendgroup": "10.U44",
         "marker": {
          "color": "indianred"
         },
         "name": "10.U44",
         "showlegend": false,
         "type": "scatter",
         "uid": "236092c8-fd67-11e8-a3bc-b46bfca2d37e",
         "x": [
          "2017-01-01",
          "2018-01-01"
         ],
         "xaxis": "x37",
         "y": [
          6780,
          4963
         ],
         "yaxis": "y37"
        },
        {
         "legendgroup": "10.U44",
         "marker": {
          "color": "indianred"
         },
         "name": "10.U44",
         "showlegend": false,
         "type": "scatter",
         "uid": "2362f69c-fd67-11e8-84cd-b46bfca2d37e",
         "x": [
          "2017-01-01",
          "2018-01-01"
         ],
         "xaxis": "x38",
         "y": [
          2,
          3
         ],
         "yaxis": "y38"
        },
        {
         "legendgroup": "10.U45",
         "marker": {
          "color": "indigo"
         },
         "name": "10.U45",
         "showlegend": false,
         "type": "scatter",
         "uid": "2362f69d-fd67-11e8-b08f-b46bfca2d37e",
         "x": [
          "2017-01-01",
          "2018-01-01"
         ],
         "xaxis": "x37",
         "y": [
          48093,
          100898
         ],
         "yaxis": "y37"
        },
        {
         "legendgroup": "10.U45",
         "marker": {
          "color": "indigo"
         },
         "name": "10.U45",
         "showlegend": false,
         "type": "scatter",
         "uid": "2362f69e-fd67-11e8-a8c3-b46bfca2d37e",
         "x": [
          "2017-01-01",
          "2018-01-01"
         ],
         "xaxis": "x38",
         "y": [
          2,
          3
         ],
         "yaxis": "y38"
        },
        {
         "legendgroup": "10.U46",
         "marker": {
          "color": "lime"
         },
         "name": "10.U46",
         "showlegend": false,
         "type": "scatter",
         "uid": "23658c70-fd67-11e8-9b33-b46bfca2d37e",
         "x": [
          "2017-01-01",
          "2018-01-01"
         ],
         "xaxis": "x37",
         "y": [
          8007,
          10812
         ],
         "yaxis": "y37"
        },
        {
         "legendgroup": "10.U46",
         "marker": {
          "color": "lime"
         },
         "name": "10.U46",
         "showlegend": false,
         "type": "scatter",
         "uid": "236675a8-fd67-11e8-8038-b46bfca2d37e",
         "x": [
          "2017-01-01",
          "2018-01-01"
         ],
         "xaxis": "x38",
         "y": [
          2,
          3
         ],
         "yaxis": "y38"
        },
        {
         "legendgroup": "10.U47",
         "marker": {
          "color": "khaki"
         },
         "name": "10.U47",
         "showlegend": false,
         "type": "scatter",
         "uid": "236738f0-fd67-11e8-9c3d-b46bfca2d37e",
         "x": [
          "2017-01-01",
          "2018-01-01"
         ],
         "xaxis": "x37",
         "y": [
          20738,
          16428
         ],
         "yaxis": "y37"
        },
        {
         "legendgroup": "10.U47",
         "marker": {
          "color": "khaki"
         },
         "name": "10.U47",
         "showlegend": false,
         "type": "scatter",
         "uid": "2367d528-fd67-11e8-9137-b46bfca2d37e",
         "x": [
          "2017-01-01",
          "2018-01-01"
         ],
         "xaxis": "x38",
         "y": [
          2,
          3
         ],
         "yaxis": "y38"
        },
        {
         "legendgroup": "10.U48",
         "marker": {
          "color": "sandybrown"
         },
         "name": "10.U48",
         "showlegend": false,
         "type": "scatter",
         "uid": "2368a3f6-fd67-11e8-ae7f-b46bfca2d37e",
         "x": [
          "2017-01-01",
          "2018-01-01"
         ],
         "xaxis": "x37",
         "y": [
          8163,
          16148
         ],
         "yaxis": "y37"
        },
        {
         "legendgroup": "10.U48",
         "marker": {
          "color": "sandybrown"
         },
         "name": "10.U48",
         "showlegend": false,
         "type": "scatter",
         "uid": "2368a3f7-fd67-11e8-9b39-b46bfca2d37e",
         "x": [
          "2017-01-01",
          "2018-01-01"
         ],
         "xaxis": "x38",
         "y": [
          2,
          3
         ],
         "yaxis": "y38"
        },
        {
         "legendgroup": "10.U90",
         "marker": {
          "color": "lightskyblue"
         },
         "name": "10.U90",
         "showlegend": false,
         "type": "scatter",
         "uid": "2368a3f8-fd67-11e8-93b6-b46bfca2d37e",
         "x": [
          "2017-01-01"
         ],
         "xaxis": "x37",
         "y": [
          0
         ],
         "yaxis": "y37"
        },
        {
         "legendgroup": "10.U90",
         "marker": {
          "color": "lightskyblue"
         },
         "name": "10.U90",
         "showlegend": false,
         "type": "scatter",
         "uid": "2368a3f9-fd67-11e8-a4b2-b46bfca2d37e",
         "x": [
          "2017-01-01"
         ],
         "xaxis": "x38",
         "y": [
          1
         ],
         "yaxis": "y38"
        },
        {
         "legendgroup": "10.10.025",
         "marker": {
          "color": "blue"
         },
         "name": "10.10.025",
         "showlegend": false,
         "type": "scatter",
         "uid": "236b06ae-fd67-11e8-b1c5-b46bfca2d37e",
         "x": [
          "2017-02-01"
         ],
         "xaxis": "x37",
         "y": [
          388185
         ],
         "yaxis": "y37"
        },
        {
         "legendgroup": "10.10.025",
         "marker": {
          "color": "blue"
         },
         "name": "10.10.025",
         "showlegend": false,
         "type": "scatter",
         "uid": "236b06af-fd67-11e8-8098-b46bfca2d37e",
         "x": [
          "2017-02-01"
         ],
         "xaxis": "x38",
         "y": [
          8
         ],
         "yaxis": "y38"
        },
        {
         "legendgroup": "10.10.162",
         "marker": {
          "color": "blueviolet"
         },
         "name": "10.10.162",
         "showlegend": false,
         "type": "scatter",
         "uid": "236b06b0-fd67-11e8-a5be-b46bfca2d37e",
         "x": [
          "2017-02-01"
         ],
         "xaxis": "x37",
         "y": [
          525054
         ],
         "yaxis": "y37"
        },
        {
         "legendgroup": "10.10.162",
         "marker": {
          "color": "blueviolet"
         },
         "name": "10.10.162",
         "showlegend": false,
         "type": "scatter",
         "uid": "236b06b1-fd67-11e8-9e09-b46bfca2d37e",
         "x": [
          "2017-02-01"
         ],
         "xaxis": "x38",
         "y": [
          4
         ],
         "yaxis": "y38"
        },
        {
         "legendgroup": "10.315",
         "marker": {
          "color": "forestgreen"
         },
         "name": "10.315",
         "showlegend": false,
         "type": "scatter",
         "uid": "236d689e-fd67-11e8-9775-b46bfca2d37e",
         "x": [
          "2017-02-01",
          "2018-02-01"
         ],
         "xaxis": "x37",
         "y": [
          30247,
          168435
         ],
         "yaxis": "y37"
        },
        {
         "legendgroup": "10.315",
         "marker": {
          "color": "forestgreen"
         },
         "name": "10.315",
         "showlegend": false,
         "type": "scatter",
         "uid": "236d689f-fd67-11e8-b0b2-b46bfca2d37e",
         "x": [
          "2017-02-01",
          "2018-02-01"
         ],
         "xaxis": "x38",
         "y": [
          4,
          3
         ],
         "yaxis": "y38"
        },
        {
         "legendgroup": "10.550",
         "marker": {
          "color": "paleturquoise"
         },
         "name": "10.550",
         "showlegend": false,
         "type": "scatter",
         "uid": "236d68a0-fd67-11e8-8a19-b46bfca2d37e",
         "x": [
          "2017-02-01",
          "2017-06-01",
          "2017-09-01",
          "2017-10-01",
          "2017-12-01",
          "2018-06-01"
         ],
         "xaxis": "x37",
         "y": [
          99086,
          502364,
          34570,
          48570,
          165783,
          466586
         ],
         "yaxis": "y37"
        },
        {
         "legendgroup": "10.550",
         "marker": {
          "color": "paleturquoise"
         },
         "name": "10.550",
         "showlegend": false,
         "type": "scatter",
         "uid": "236fcc5a-fd67-11e8-b2bb-b46bfca2d37e",
         "x": [
          "2017-02-01",
          "2017-06-01",
          "2017-09-01",
          "2017-10-01",
          "2017-12-01",
          "2018-06-01"
         ],
         "xaxis": "x38",
         "y": [
          1,
          2,
          3,
          2,
          2,
          1
         ],
         "yaxis": "y38"
        },
        {
         "legendgroup": "10.RD",
         "marker": {
          "color": "cadetblue"
         },
         "name": "10.RD",
         "showlegend": false,
         "type": "scatter",
         "uid": "236fcc5b-fd67-11e8-8633-b46bfca2d37e",
         "x": [
          "2017-02-01",
          "2017-03-01",
          "2017-11-01",
          "2018-02-01",
          "2018-03-01",
          "2018-11-01"
         ],
         "xaxis": "x37",
         "y": [
          161295,
          55991266,
          500237,
          95949,
          54746512,
          1181724
         ],
         "yaxis": "y37"
        },
        {
         "legendgroup": "10.RD",
         "marker": {
          "color": "cadetblue"
         },
         "name": "10.RD",
         "showlegend": false,
         "type": "scatter",
         "uid": "236fcc5c-fd67-11e8-87bc-b46bfca2d37e",
         "x": [
          "2017-02-01",
          "2017-03-01",
          "2017-11-01",
          "2018-02-01",
          "2018-03-01",
          "2018-11-01"
         ],
         "xaxis": "x38",
         "y": [
          65,
          91,
          4,
          5,
          117,
          1
         ],
         "yaxis": "y38"
        },
        {
         "legendgroup": "10.000",
         "marker": {
          "color": "mediumpurple"
         },
         "name": "10.000",
         "showlegend": false,
         "type": "scatter",
         "uid": "236fcc5d-fd67-11e8-b03f-b46bfca2d37e",
         "x": [
          "2017-03-01",
          "2018-02-01"
         ],
         "xaxis": "x37",
         "y": [
          49397,
          2867268
         ],
         "yaxis": "y37"
        },
        {
         "legendgroup": "10.000",
         "marker": {
          "color": "mediumpurple"
         },
         "name": "10.000",
         "showlegend": false,
         "type": "scatter",
         "uid": "23722ee6-fd67-11e8-a4e6-b46bfca2d37e",
         "x": [
          "2017-03-01",
          "2018-02-01"
         ],
         "xaxis": "x38",
         "y": [
          9,
          140
         ],
         "yaxis": "y38"
        },
        {
         "legendgroup": "10.10.760",
         "marker": {
          "color": "brown"
         },
         "name": "10.10.760",
         "showlegend": false,
         "type": "scatter",
         "uid": "23722ee7-fd67-11e8-93a3-b46bfca2d37e",
         "x": [
          "2017-03-01",
          "2017-10-01"
         ],
         "xaxis": "x37",
         "y": [
          1350000,
          2808890
         ],
         "yaxis": "y37"
        },
        {
         "legendgroup": "10.10.760",
         "marker": {
          "color": "brown"
         },
         "name": "10.10.760",
         "showlegend": false,
         "type": "scatter",
         "uid": "23722ee8-fd67-11e8-b78c-b46bfca2d37e",
         "x": [
          "2017-03-01",
          "2017-10-01"
         ],
         "xaxis": "x38",
         "y": [
          6,
          1
         ],
         "yaxis": "y38"
        },
        {
         "legendgroup": "10.173",
         "marker": {
          "color": "crimson"
         },
         "name": "10.173",
         "showlegend": false,
         "type": "scatter",
         "uid": "2375629e-fd67-11e8-a387-b46bfca2d37e",
         "x": [
          "2017-03-01"
         ],
         "xaxis": "x37",
         "y": [
          0
         ],
         "yaxis": "y37"
        },
        {
         "legendgroup": "10.173",
         "marker": {
          "color": "crimson"
         },
         "name": "10.173",
         "showlegend": false,
         "type": "scatter",
         "uid": "2375fe10-fd67-11e8-89c5-b46bfca2d37e",
         "x": [
          "2017-03-01"
         ],
         "xaxis": "x38",
         "y": [
          1
         ],
         "yaxis": "y38"
        },
        {
         "legendgroup": "10.305",
         "marker": {
          "color": "deeppink"
         },
         "name": "10.305",
         "showlegend": false,
         "type": "scatter",
         "uid": "23769a7a-fd67-11e8-914b-b46bfca2d37e",
         "x": [
          "2017-03-01",
          "2018-03-01"
         ],
         "xaxis": "x37",
         "y": [
          14552,
          674
         ],
         "yaxis": "y37"
        },
        {
         "legendgroup": "10.305",
         "marker": {
          "color": "deeppink"
         },
         "name": "10.305",
         "showlegend": false,
         "type": "scatter",
         "uid": "23773674-fd67-11e8-bedd-b46bfca2d37e",
         "x": [
          "2017-03-01",
          "2018-03-01"
         ],
         "xaxis": "x38",
         "y": [
          3,
          4
         ],
         "yaxis": "y38"
        },
        {
         "legendgroup": "10.553 / 555",
         "marker": {
          "color": "lightpink"
         },
         "name": "10.553 / 555",
         "showlegend": false,
         "type": "scatter",
         "uid": "23781fba-fd67-11e8-aaf4-b46bfca2d37e",
         "x": [
          "2017-03-01"
         ],
         "xaxis": "x37",
         "y": [
          1040924
         ],
         "yaxis": "y37"
        },
        {
         "legendgroup": "10.553 / 555",
         "marker": {
          "color": "lightpink"
         },
         "name": "10.553 / 555",
         "showlegend": false,
         "type": "scatter",
         "uid": "23793110-fd67-11e8-9800-b46bfca2d37e",
         "x": [
          "2017-03-01"
         ],
         "xaxis": "x38",
         "y": [
          1
         ],
         "yaxis": "y38"
        },
        {
         "legendgroup": "10.586",
         "marker": {
          "color": "chartreuse"
         },
         "name": "10.586",
         "showlegend": false,
         "type": "scatter",
         "uid": "2379a640-fd67-11e8-9199-b46bfca2d37e",
         "x": [
          "2017-03-01",
          "2018-03-01"
         ],
         "xaxis": "x37",
         "y": [
          153100,
          126729
         ],
         "yaxis": "y37"
        },
        {
         "legendgroup": "10.586",
         "marker": {
          "color": "chartreuse"
         },
         "name": "10.586",
         "showlegend": false,
         "type": "scatter",
         "uid": "237a6ada-fd67-11e8-8f86-b46bfca2d37e",
         "x": [
          "2017-03-01",
          "2018-03-01"
         ],
         "xaxis": "x38",
         "y": [
          4,
          1
         ],
         "yaxis": "y38"
        },
        {
         "legendgroup": "10.598",
         "marker": {
          "color": "cyan"
         },
         "name": "10.598",
         "showlegend": false,
         "type": "scatter",
         "uid": "237aa60c-fd67-11e8-8e1e-b46bfca2d37e",
         "x": [
          "2017-03-01",
          "2018-03-01"
         ],
         "xaxis": "x37",
         "y": [
          842483,
          532434
         ],
         "yaxis": "y37"
        },
        {
         "legendgroup": "10.598",
         "marker": {
          "color": "cyan"
         },
         "name": "10.598",
         "showlegend": false,
         "type": "scatter",
         "uid": "237aa60d-fd67-11e8-97bc-b46bfca2d37e",
         "x": [
          "2017-03-01",
          "2018-03-01"
         ],
         "xaxis": "x38",
         "y": [
          1,
          1
         ],
         "yaxis": "y38"
        },
        {
         "legendgroup": "10.673",
         "marker": {
          "color": "darksalmon"
         },
         "name": "10.673",
         "showlegend": false,
         "type": "scatter",
         "uid": "237aa60e-fd67-11e8-a1de-b46bfca2d37e",
         "x": [
          "2017-03-01"
         ],
         "xaxis": "x37",
         "y": [
          9199
         ],
         "yaxis": "y37"
        },
        {
         "legendgroup": "10.673",
         "marker": {
          "color": "darksalmon"
         },
         "name": "10.673",
         "showlegend": false,
         "type": "scatter",
         "uid": "237aa60f-fd67-11e8-b9f3-b46bfca2d37e",
         "x": [
          "2017-03-01"
         ],
         "xaxis": "x38",
         "y": [
          1
         ],
         "yaxis": "y38"
        },
        {
         "legendgroup": "10.688",
         "marker": {
          "color": "dimgray"
         },
         "name": "10.688",
         "showlegend": false,
         "type": "scatter",
         "uid": "238c9ffa-fd67-11e8-b087-b46bfca2d37e",
         "x": [
          "2017-03-01",
          "2017-08-01",
          "2018-02-01"
         ],
         "xaxis": "x37",
         "y": [
          21468,
          507756,
          3084976
         ],
         "yaxis": "y37"
        },
        {
         "legendgroup": "10.688",
         "marker": {
          "color": "dimgray"
         },
         "name": "10.688",
         "showlegend": false,
         "type": "scatter",
         "uid": "238c9ffb-fd67-11e8-acfc-b46bfca2d37e",
         "x": [
          "2017-03-01",
          "2017-08-01",
          "2018-02-01"
         ],
         "xaxis": "x38",
         "y": [
          1,
          1,
          1
         ],
         "yaxis": "y38"
        },
        {
         "legendgroup": "10.769",
         "marker": {
          "color": "magenta"
         },
         "name": "10.769",
         "showlegend": false,
         "type": "scatter",
         "uid": "238f3086-fd67-11e8-a86c-b46bfca2d37e",
         "x": [
          "2017-03-01",
          "2017-04-01",
          "2018-10-01"
         ],
         "xaxis": "x37",
         "y": [
          547307,
          49224,
          113534
         ],
         "yaxis": "y37"
        },
        {
         "legendgroup": "10.769",
         "marker": {
          "color": "magenta"
         },
         "name": "10.769",
         "showlegend": false,
         "type": "scatter",
         "uid": "238fccbe-fd67-11e8-8475-b46bfca2d37e",
         "x": [
          "2017-03-01",
          "2017-04-01",
          "2018-10-01"
         ],
         "xaxis": "x38",
         "y": [
          5,
          1,
          1
         ],
         "yaxis": "y38"
        },
        {
         "legendgroup": "10.Rural Development",
         "marker": {
          "color": "chartreuse"
         },
         "name": "10.Rural Development",
         "showlegend": false,
         "type": "scatter",
         "uid": "239068e6-fd67-11e8-a30f-b46bfca2d37e",
         "x": [
          "2017-03-01"
         ],
         "xaxis": "x37",
         "y": [
          3993000
         ],
         "yaxis": "y37"
        },
        {
         "legendgroup": "10.Rural Development",
         "marker": {
          "color": "chartreuse"
         },
         "name": "10.Rural Development",
         "showlegend": false,
         "type": "scatter",
         "uid": "23917a7a-fd67-11e8-9f01-b46bfca2d37e",
         "x": [
          "2017-03-01"
         ],
         "xaxis": "x38",
         "y": [
          4
         ],
         "yaxis": "y38"
        },
        {
         "legendgroup": "10.787",
         "marker": {
          "color": "khaki"
         },
         "name": "10.787",
         "showlegend": false,
         "type": "scatter",
         "uid": "23923e12-fd67-11e8-8487-b46bfca2d37e",
         "x": [
          "2017-04-01",
          "2017-06-01",
          "2018-01-01",
          "2018-07-01",
          "2018-08-01"
         ],
         "xaxis": "x37",
         "y": [
          5139351,
          4806067,
          300288,
          4839166,
          4805585
         ],
         "yaxis": "y37"
        },
        {
         "legendgroup": "10.787",
         "marker": {
          "color": "khaki"
         },
         "name": "10.787",
         "showlegend": false,
         "type": "scatter",
         "uid": "2393011e-fd67-11e8-ab58-b46bfca2d37e",
         "x": [
          "2017-04-01",
          "2017-06-01",
          "2018-01-01",
          "2018-07-01",
          "2018-08-01"
         ],
         "xaxis": "x38",
         "y": [
          4,
          3,
          8,
          4,
          8
         ],
         "yaxis": "y38"
        },
        {
         "legendgroup": "10.7CFR 225",
         "marker": {
          "color": "sandybrown"
         },
         "name": "10.7CFR 225",
         "showlegend": false,
         "type": "scatter",
         "uid": "2393c452-fd67-11e8-939f-b46bfca2d37e",
         "x": [
          "2017-04-01"
         ],
         "xaxis": "x37",
         "y": [
          919382
         ],
         "yaxis": "y37"
        },
        {
         "legendgroup": "10.7CFR 225",
         "marker": {
          "color": "sandybrown"
         },
         "name": "10.7CFR 225",
         "showlegend": false,
         "type": "scatter",
         "uid": "23946082-fd67-11e8-9e4f-b46bfca2d37e",
         "x": [
          "2017-04-01"
         ],
         "xaxis": "x38",
         "y": [
          4
         ],
         "yaxis": "y38"
        },
        {
         "legendgroup": "10.901",
         "marker": {
          "color": "lightpink"
         },
         "name": "10.901",
         "showlegend": false,
         "type": "scatter",
         "uid": "2394fe36-fd67-11e8-97a3-b46bfca2d37e",
         "x": [
          "2017-07-01",
          "2018-05-01"
         ],
         "xaxis": "x37",
         "y": [
          3473,
          801
         ],
         "yaxis": "y37"
        },
        {
         "legendgroup": "10.901",
         "marker": {
          "color": "lightpink"
         },
         "name": "10.901",
         "showlegend": false,
         "type": "scatter",
         "uid": "23959a62-fd67-11e8-af10-b46bfca2d37e",
         "x": [
          "2017-07-01",
          "2018-05-01"
         ],
         "xaxis": "x38",
         "y": [
          2,
          1
         ],
         "yaxis": "y38"
        },
        {
         "legendgroup": "10.052",
         "marker": {
          "color": "olive"
         },
         "name": "10.052",
         "showlegend": false,
         "type": "scatter",
         "uid": "239684ba-fd67-11e8-8c67-b46bfca2d37e",
         "x": [
          "2017-09-01",
          "2018-10-01"
         ],
         "xaxis": "x37",
         "y": [
          3421083,
          3310208
         ],
         "yaxis": "y37"
        },
        {
         "legendgroup": "10.052",
         "marker": {
          "color": "olive"
         },
         "name": "10.052",
         "showlegend": false,
         "type": "scatter",
         "uid": "2396de0a-fd67-11e8-9ef1-b46bfca2d37e",
         "x": [
          "2017-09-01",
          "2018-10-01"
         ],
         "xaxis": "x38",
         "y": [
          2,
          2
         ],
         "yaxis": "y38"
        },
        {
         "legendgroup": "10.588",
         "marker": {
          "color": "chocolate"
         },
         "name": "10.588",
         "showlegend": false,
         "type": "scatter",
         "uid": "2396de0b-fd67-11e8-ad6d-b46bfca2d37e",
         "x": [
          "2017-09-01",
          "2017-11-01",
          "2018-09-01"
         ],
         "xaxis": "x37",
         "y": [
          1088956,
          42501,
          1330520
         ],
         "yaxis": "y37"
        },
        {
         "legendgroup": "10.588",
         "marker": {
          "color": "chocolate"
         },
         "name": "10.588",
         "showlegend": false,
         "type": "scatter",
         "uid": "2396de0c-fd67-11e8-88c5-b46bfca2d37e",
         "x": [
          "2017-09-01",
          "2017-11-01",
          "2018-09-01"
         ],
         "xaxis": "x38",
         "y": [
          1,
          1,
          1
         ],
         "yaxis": "y38"
        },
        {
         "legendgroup": "10.781",
         "marker": {
          "color": "lime"
         },
         "name": "10.781",
         "showlegend": false,
         "type": "scatter",
         "uid": "2396de0d-fd67-11e8-8542-b46bfca2d37e",
         "x": [
          "2018-01-01",
          "2018-07-01"
         ],
         "xaxis": "x37",
         "y": [
          3492019,
          544878
         ],
         "yaxis": "y37"
        },
        {
         "legendgroup": "10.781",
         "marker": {
          "color": "lime"
         },
         "name": "10.781",
         "showlegend": false,
         "type": "scatter",
         "uid": "2399411a-fd67-11e8-ab0c-b46bfca2d37e",
         "x": [
          "2018-01-01",
          "2018-07-01"
         ],
         "xaxis": "x38",
         "y": [
          5,
          3
         ],
         "yaxis": "y38"
        },
        {
         "legendgroup": "10.U50",
         "marker": {
          "color": "purple"
         },
         "name": "10.U50",
         "showlegend": false,
         "type": "scatter",
         "uid": "2399411b-fd67-11e8-8b27-b46bfca2d37e",
         "x": [
          "2018-01-01"
         ],
         "xaxis": "x37",
         "y": [
          56254
         ],
         "yaxis": "y37"
        },
        {
         "legendgroup": "10.U50",
         "marker": {
          "color": "purple"
         },
         "name": "10.U50",
         "showlegend": false,
         "type": "scatter",
         "uid": "2399411c-fd67-11e8-a74a-b46bfca2d37e",
         "x": [
          "2018-01-01"
         ],
         "xaxis": "x38",
         "y": [
          3
         ],
         "yaxis": "y38"
        },
        {
         "legendgroup": "10.U51",
         "marker": {
          "color": "lawngreen"
         },
         "name": "10.U51",
         "showlegend": false,
         "type": "scatter",
         "uid": "2399411d-fd67-11e8-9e6f-b46bfca2d37e",
         "x": [
          "2018-01-01"
         ],
         "xaxis": "x37",
         "y": [
          9488
         ],
         "yaxis": "y37"
        },
        {
         "legendgroup": "10.U51",
         "marker": {
          "color": "lawngreen"
         },
         "name": "10.U51",
         "showlegend": false,
         "type": "scatter",
         "uid": "239ba428-fd67-11e8-b2ea-b46bfca2d37e",
         "x": [
          "2018-01-01"
         ],
         "xaxis": "x38",
         "y": [
          3
         ],
         "yaxis": "y38"
        },
        {
         "legendgroup": "10.U52",
         "marker": {
          "color": "salmon"
         },
         "name": "10.U52",
         "showlegend": false,
         "type": "scatter",
         "uid": "239ba429-fd67-11e8-a76e-b46bfca2d37e",
         "x": [
          "2018-01-01"
         ],
         "xaxis": "x37",
         "y": [
          554
         ],
         "yaxis": "y37"
        },
        {
         "legendgroup": "10.U52",
         "marker": {
          "color": "salmon"
         },
         "name": "10.U52",
         "showlegend": false,
         "type": "scatter",
         "uid": "239ba42a-fd67-11e8-b63c-b46bfca2d37e",
         "x": [
          "2018-01-01"
         ],
         "xaxis": "x38",
         "y": [
          3
         ],
         "yaxis": "y38"
        },
        {
         "legendgroup": "10.U53",
         "marker": {
          "color": "lightblue"
         },
         "name": "10.U53",
         "showlegend": false,
         "type": "scatter",
         "uid": "239ba42b-fd67-11e8-a37a-b46bfca2d37e",
         "x": [
          "2018-01-01"
         ],
         "xaxis": "x37",
         "y": [
          52017
         ],
         "yaxis": "y37"
        },
        {
         "legendgroup": "10.U53",
         "marker": {
          "color": "lightblue"
         },
         "name": "10.U53",
         "showlegend": false,
         "type": "scatter",
         "uid": "239e0652-fd67-11e8-b304-b46bfca2d37e",
         "x": [
          "2018-01-01"
         ],
         "xaxis": "x38",
         "y": [
          3
         ],
         "yaxis": "y38"
        },
        {
         "legendgroup": "10.U54",
         "marker": {
          "color": "lightcoral"
         },
         "name": "10.U54",
         "showlegend": false,
         "type": "scatter",
         "uid": "239e0653-fd67-11e8-97a9-b46bfca2d37e",
         "x": [
          "2018-01-01"
         ],
         "xaxis": "x37",
         "y": [
          13221
         ],
         "yaxis": "y37"
        },
        {
         "legendgroup": "10.U54",
         "marker": {
          "color": "lightcoral"
         },
         "name": "10.U54",
         "showlegend": false,
         "type": "scatter",
         "uid": "239e0654-fd67-11e8-a8d4-b46bfca2d37e",
         "x": [
          "2018-01-01"
         ],
         "xaxis": "x38",
         "y": [
          3
         ],
         "yaxis": "y38"
        },
        {
         "legendgroup": "10.U55",
         "marker": {
          "color": "mediumvioletred"
         },
         "name": "10.U55",
         "showlegend": false,
         "type": "scatter",
         "uid": "239e0655-fd67-11e8-85cb-b46bfca2d37e",
         "x": [
          "2018-01-01"
         ],
         "xaxis": "x37",
         "y": [
          5290
         ],
         "yaxis": "y37"
        },
        {
         "legendgroup": "10.U55",
         "marker": {
          "color": "mediumvioletred"
         },
         "name": "10.U55",
         "showlegend": false,
         "type": "scatter",
         "uid": "23a0677a-fd67-11e8-ab0d-b46bfca2d37e",
         "x": [
          "2018-01-01"
         ],
         "xaxis": "x38",
         "y": [
          3
         ],
         "yaxis": "y38"
        },
        {
         "legendgroup": "10.U56",
         "marker": {
          "color": "lightgoldenrodyellow"
         },
         "name": "10.U56",
         "showlegend": false,
         "type": "scatter",
         "uid": "23a0677b-fd67-11e8-be8f-b46bfca2d37e",
         "x": [
          "2018-01-01"
         ],
         "xaxis": "x37",
         "y": [
          29626
         ],
         "yaxis": "y37"
        },
        {
         "legendgroup": "10.U56",
         "marker": {
          "color": "lightgoldenrodyellow"
         },
         "name": "10.U56",
         "showlegend": false,
         "type": "scatter",
         "uid": "23a0677c-fd67-11e8-9ca5-b46bfca2d37e",
         "x": [
          "2018-01-01"
         ],
         "xaxis": "x38",
         "y": [
          3
         ],
         "yaxis": "y38"
        },
        {
         "legendgroup": "10.U57",
         "marker": {
          "color": "paleturquoise"
         },
         "name": "10.U57",
         "showlegend": false,
         "type": "scatter",
         "uid": "23a0677d-fd67-11e8-bc97-b46bfca2d37e",
         "x": [
          "2018-01-01"
         ],
         "xaxis": "x37",
         "y": [
          26086
         ],
         "yaxis": "y37"
        },
        {
         "legendgroup": "10.U57",
         "marker": {
          "color": "paleturquoise"
         },
         "name": "10.U57",
         "showlegend": false,
         "type": "scatter",
         "uid": "23a31eb0-fd67-11e8-8d84-b46bfca2d37e",
         "x": [
          "2018-01-01"
         ],
         "xaxis": "x38",
         "y": [
          3
         ],
         "yaxis": "y38"
        },
        {
         "legendgroup": "10.U58",
         "marker": {
          "color": "mediumaquamarine"
         },
         "name": "10.U58",
         "showlegend": false,
         "type": "scatter",
         "uid": "23a3bae2-fd67-11e8-8c45-b46bfca2d37e",
         "x": [
          "2018-01-01"
         ],
         "xaxis": "x37",
         "y": [
          43789
         ],
         "yaxis": "y37"
        },
        {
         "legendgroup": "10.U58",
         "marker": {
          "color": "mediumaquamarine"
         },
         "name": "10.U58",
         "showlegend": false,
         "type": "scatter",
         "uid": "23a47e0c-fd67-11e8-bcc8-b46bfca2d37e",
         "x": [
          "2018-01-01"
         ],
         "xaxis": "x38",
         "y": [
          3
         ],
         "yaxis": "y38"
        },
        {
         "legendgroup": "10.U59",
         "marker": {
          "color": "lightgreen"
         },
         "name": "10.U59",
         "showlegend": false,
         "type": "scatter",
         "uid": "23a51ba4-fd67-11e8-bb2d-b46bfca2d37e",
         "x": [
          "2018-01-01"
         ],
         "xaxis": "x37",
         "y": [
          4857
         ],
         "yaxis": "y37"
        },
        {
         "legendgroup": "10.U59",
         "marker": {
          "color": "lightgreen"
         },
         "name": "10.U59",
         "showlegend": false,
         "type": "scatter",
         "uid": "23a5be64-fd67-11e8-b4dd-b46bfca2d37e",
         "x": [
          "2018-01-01"
         ],
         "xaxis": "x38",
         "y": [
          3
         ],
         "yaxis": "y38"
        },
        {
         "legendgroup": "10.U60",
         "marker": {
          "color": "lightpink"
         },
         "name": "10.U60",
         "showlegend": false,
         "type": "scatter",
         "uid": "23a5be65-fd67-11e8-b5e0-b46bfca2d37e",
         "x": [
          "2018-01-01"
         ],
         "xaxis": "x37",
         "y": [
          24000
         ],
         "yaxis": "y37"
        },
        {
         "legendgroup": "10.U60",
         "marker": {
          "color": "lightpink"
         },
         "name": "10.U60",
         "showlegend": false,
         "type": "scatter",
         "uid": "23a5be66-fd67-11e8-91af-b46bfca2d37e",
         "x": [
          "2018-01-01"
         ],
         "xaxis": "x38",
         "y": [
          3
         ],
         "yaxis": "y38"
        },
        {
         "legendgroup": "10.U61",
         "marker": {
          "color": "lightsalmon"
         },
         "name": "10.U61",
         "showlegend": false,
         "type": "scatter",
         "uid": "23a5be67-fd67-11e8-bb1e-b46bfca2d37e",
         "x": [
          "2018-01-01"
         ],
         "xaxis": "x37",
         "y": [
          24913
         ],
         "yaxis": "y37"
        },
        {
         "legendgroup": "10.U61",
         "marker": {
          "color": "lightsalmon"
         },
         "name": "10.U61",
         "showlegend": false,
         "type": "scatter",
         "uid": "23a82218-fd67-11e8-a373-b46bfca2d37e",
         "x": [
          "2018-01-01"
         ],
         "xaxis": "x38",
         "y": [
          3
         ],
         "yaxis": "y38"
        },
        {
         "legendgroup": "10.U62",
         "marker": {
          "color": "lightseagreen"
         },
         "name": "10.U62",
         "showlegend": false,
         "type": "scatter",
         "uid": "23a82219-fd67-11e8-a164-b46bfca2d37e",
         "x": [
          "2018-01-01"
         ],
         "xaxis": "x37",
         "y": [
          29013
         ],
         "yaxis": "y37"
        },
        {
         "legendgroup": "10.U62",
         "marker": {
          "color": "lightseagreen"
         },
         "name": "10.U62",
         "showlegend": false,
         "type": "scatter",
         "uid": "23a8221a-fd67-11e8-a12c-b46bfca2d37e",
         "x": [
          "2018-01-01"
         ],
         "xaxis": "x38",
         "y": [
          3
         ],
         "yaxis": "y38"
        },
        {
         "legendgroup": "10.776",
         "marker": {
          "color": "hotpink"
         },
         "name": "10.776",
         "showlegend": false,
         "type": "scatter",
         "uid": "23aa8476-fd67-11e8-bf08-b46bfca2d37e",
         "x": [
          "2018-06-01"
         ],
         "xaxis": "x37",
         "y": [
          1095000
         ],
         "yaxis": "y37"
        },
        {
         "legendgroup": "10.776",
         "marker": {
          "color": "hotpink"
         },
         "name": "10.776",
         "showlegend": false,
         "type": "scatter",
         "uid": "23aa8477-fd67-11e8-874a-b46bfca2d37e",
         "x": [
          "2018-06-01"
         ],
         "xaxis": "x38",
         "y": [
          1
         ],
         "yaxis": "y38"
        },
        {
         "legendgroup": "10.u00",
         "marker": {
          "color": "midnightblue"
         },
         "name": "10.u00",
         "showlegend": false,
         "type": "scatter",
         "uid": "23aa8478-fd67-11e8-80d8-b46bfca2d37e",
         "x": [
          "2018-07-01"
         ],
         "xaxis": "x37",
         "y": [
          345202
         ],
         "yaxis": "y37"
        },
        {
         "legendgroup": "10.u00",
         "marker": {
          "color": "midnightblue"
         },
         "name": "10.u00",
         "showlegend": false,
         "type": "scatter",
         "uid": "23aa8479-fd67-11e8-85ee-b46bfca2d37e",
         "x": [
          "2018-07-01"
         ],
         "xaxis": "x38",
         "y": [
          1
         ],
         "yaxis": "y38"
        },
        {
         "legendgroup": "10.u01",
         "marker": {
          "color": "lightsteelblue"
         },
         "name": "10.u01",
         "showlegend": false,
         "type": "scatter",
         "uid": "23ace71a-fd67-11e8-b7bf-b46bfca2d37e",
         "x": [
          "2018-08-01"
         ],
         "xaxis": "x37",
         "y": [
          920620
         ],
         "yaxis": "y37"
        },
        {
         "legendgroup": "10.u01",
         "marker": {
          "color": "lightsteelblue"
         },
         "name": "10.u01",
         "showlegend": false,
         "type": "scatter",
         "uid": "23ace71b-fd67-11e8-a32c-b46bfca2d37e",
         "x": [
          "2018-08-01"
         ],
         "xaxis": "x38",
         "y": [
          1
         ],
         "yaxis": "y38"
        },
        {
         "legendgroup": "10.780",
         "marker": {
          "color": "indigo"
         },
         "name": "10.780",
         "showlegend": false,
         "type": "scatter",
         "uid": "23ace71c-fd67-11e8-a533-b46bfca2d37e",
         "x": [
          "2018-09-01"
         ],
         "xaxis": "x37",
         "y": [
          4593630
         ],
         "yaxis": "y37"
        },
        {
         "legendgroup": "10.780",
         "marker": {
          "color": "indigo"
         },
         "name": "10.780",
         "showlegend": false,
         "type": "scatter",
         "uid": "23ace71d-fd67-11e8-b452-b46bfca2d37e",
         "x": [
          "2018-09-01"
         ],
         "xaxis": "x38",
         "y": [
          3
         ],
         "yaxis": "y38"
        },
        {
         "legendgroup": "10.U99",
         "marker": {
          "color": "lightslategray"
         },
         "name": "10.U99",
         "showlegend": false,
         "type": "scatter",
         "uid": "23af4840-fd67-11e8-ac86-b46bfca2d37e",
         "x": [
          "2018-09-01"
         ],
         "xaxis": "x37",
         "y": [
          604
         ],
         "yaxis": "y37"
        },
        {
         "legendgroup": "10.U99",
         "marker": {
          "color": "lightslategray"
         },
         "name": "10.U99",
         "showlegend": false,
         "type": "scatter",
         "uid": "23af4841-fd67-11e8-85c7-b46bfca2d37e",
         "x": [
          "2018-09-01"
         ],
         "xaxis": "x38",
         "y": [
          1
         ],
         "yaxis": "y38"
        }
       ],
       "layout": {
        "annotations": [
         {
          "font": {
           "size": 16
          },
          "showarrow": false,
          "text": "AMS",
          "x": 0.225,
          "xanchor": "center",
          "xref": "paper",
          "y": 1.0000000000000002,
          "yanchor": "bottom",
          "yref": "paper"
         },
         {
          "font": {
           "size": 16
          },
          "showarrow": false,
          "text": "AMS",
          "x": 0.775,
          "xanchor": "center",
          "xref": "paper",
          "y": 1.0000000000000002,
          "yanchor": "bottom",
          "yref": "paper"
         },
         {
          "font": {
           "size": 16
          },
          "showarrow": false,
          "text": "APHIS",
          "x": 0.225,
          "xanchor": "center",
          "xref": "paper",
          "y": 0.9459833795013851,
          "yanchor": "bottom",
          "yref": "paper"
         },
         {
          "font": {
           "size": 16
          },
          "showarrow": false,
          "text": "APHIS",
          "x": 0.775,
          "xanchor": "center",
          "xref": "paper",
          "y": 0.9459833795013851,
          "yanchor": "bottom",
          "yref": "paper"
         },
         {
          "font": {
           "size": 16
          },
          "showarrow": false,
          "text": "ARS",
          "x": 0.225,
          "xanchor": "center",
          "xref": "paper",
          "y": 0.8919667590027702,
          "yanchor": "bottom",
          "yref": "paper"
         },
         {
          "font": {
           "size": 16
          },
          "showarrow": false,
          "text": "ARS",
          "x": 0.775,
          "xanchor": "center",
          "xref": "paper",
          "y": 0.8919667590027702,
          "yanchor": "bottom",
          "yref": "paper"
         },
         {
          "font": {
           "size": 16
          },
          "showarrow": false,
          "text": "ASDM",
          "x": 0.225,
          "xanchor": "center",
          "xref": "paper",
          "y": 0.8379501385041552,
          "yanchor": "bottom",
          "yref": "paper"
         },
         {
          "font": {
           "size": 16
          },
          "showarrow": false,
          "text": "ASDM",
          "x": 0.775,
          "xanchor": "center",
          "xref": "paper",
          "y": 0.8379501385041552,
          "yanchor": "bottom",
          "yref": "paper"
         },
         {
          "font": {
           "size": 16
          },
          "showarrow": false,
          "text": "ERS",
          "x": 0.225,
          "xanchor": "center",
          "xref": "paper",
          "y": 0.7839335180055402,
          "yanchor": "bottom",
          "yref": "paper"
         },
         {
          "font": {
           "size": 16
          },
          "showarrow": false,
          "text": "ERS",
          "x": 0.775,
          "xanchor": "center",
          "xref": "paper",
          "y": 0.7839335180055402,
          "yanchor": "bottom",
          "yref": "paper"
         },
         {
          "font": {
           "size": 16
          },
          "showarrow": false,
          "text": "FAS",
          "x": 0.225,
          "xanchor": "center",
          "xref": "paper",
          "y": 0.7299168975069252,
          "yanchor": "bottom",
          "yref": "paper"
         },
         {
          "font": {
           "size": 16
          },
          "showarrow": false,
          "text": "FAS",
          "x": 0.775,
          "xanchor": "center",
          "xref": "paper",
          "y": 0.7299168975069252,
          "yanchor": "bottom",
          "yref": "paper"
         },
         {
          "font": {
           "size": 16
          },
          "showarrow": false,
          "text": "FNS",
          "x": 0.225,
          "xanchor": "center",
          "xref": "paper",
          "y": 0.6759002770083102,
          "yanchor": "bottom",
          "yref": "paper"
         },
         {
          "font": {
           "size": 16
          },
          "showarrow": false,
          "text": "FNS",
          "x": 0.775,
          "xanchor": "center",
          "xref": "paper",
          "y": 0.6759002770083102,
          "yanchor": "bottom",
          "yref": "paper"
         },
         {
          "font": {
           "size": 16
          },
          "showarrow": false,
          "text": "FS",
          "x": 0.225,
          "xanchor": "center",
          "xref": "paper",
          "y": 0.6218836565096953,
          "yanchor": "bottom",
          "yref": "paper"
         },
         {
          "font": {
           "size": 16
          },
          "showarrow": false,
          "text": "FS",
          "x": 0.775,
          "xanchor": "center",
          "xref": "paper",
          "y": 0.6218836565096953,
          "yanchor": "bottom",
          "yref": "paper"
         },
         {
          "font": {
           "size": 16
          },
          "showarrow": false,
          "text": "FSA",
          "x": 0.225,
          "xanchor": "center",
          "xref": "paper",
          "y": 0.5678670360110804,
          "yanchor": "bottom",
          "yref": "paper"
         },
         {
          "font": {
           "size": 16
          },
          "showarrow": false,
          "text": "FSA",
          "x": 0.775,
          "xanchor": "center",
          "xref": "paper",
          "y": 0.5678670360110804,
          "yanchor": "bottom",
          "yref": "paper"
         },
         {
          "font": {
           "size": 16
          },
          "showarrow": false,
          "text": "FSIS",
          "x": 0.225,
          "xanchor": "center",
          "xref": "paper",
          "y": 0.5138504155124654,
          "yanchor": "bottom",
          "yref": "paper"
         },
         {
          "font": {
           "size": 16
          },
          "showarrow": false,
          "text": "FSIS",
          "x": 0.775,
          "xanchor": "center",
          "xref": "paper",
          "y": 0.5138504155124654,
          "yanchor": "bottom",
          "yref": "paper"
         },
         {
          "font": {
           "size": 16
          },
          "showarrow": false,
          "text": "NASS",
          "x": 0.225,
          "xanchor": "center",
          "xref": "paper",
          "y": 0.45983379501385047,
          "yanchor": "bottom",
          "yref": "paper"
         },
         {
          "font": {
           "size": 16
          },
          "showarrow": false,
          "text": "NASS",
          "x": 0.775,
          "xanchor": "center",
          "xref": "paper",
          "y": 0.45983379501385047,
          "yanchor": "bottom",
          "yref": "paper"
         },
         {
          "font": {
           "size": 16
          },
          "showarrow": false,
          "text": "NIFA",
          "x": 0.225,
          "xanchor": "center",
          "xref": "paper",
          "y": 0.4058171745152355,
          "yanchor": "bottom",
          "yref": "paper"
         },
         {
          "font": {
           "size": 16
          },
          "showarrow": false,
          "text": "NIFA",
          "x": 0.775,
          "xanchor": "center",
          "xref": "paper",
          "y": 0.4058171745152355,
          "yanchor": "bottom",
          "yref": "paper"
         },
         {
          "font": {
           "size": 16
          },
          "showarrow": false,
          "text": "NRCS",
          "x": 0.225,
          "xanchor": "center",
          "xref": "paper",
          "y": 0.3518005540166205,
          "yanchor": "bottom",
          "yref": "paper"
         },
         {
          "font": {
           "size": 16
          },
          "showarrow": false,
          "text": "NRCS",
          "x": 0.775,
          "xanchor": "center",
          "xref": "paper",
          "y": 0.3518005540166205,
          "yanchor": "bottom",
          "yref": "paper"
         },
         {
          "font": {
           "size": 16
          },
          "showarrow": false,
          "text": "OCE",
          "x": 0.225,
          "xanchor": "center",
          "xref": "paper",
          "y": 0.29778393351800553,
          "yanchor": "bottom",
          "yref": "paper"
         },
         {
          "font": {
           "size": 16
          },
          "showarrow": false,
          "text": "OCE",
          "x": 0.775,
          "xanchor": "center",
          "xref": "paper",
          "y": 0.29778393351800553,
          "yanchor": "bottom",
          "yref": "paper"
         },
         {
          "font": {
           "size": 16
          },
          "showarrow": false,
          "text": "RBCS",
          "x": 0.225,
          "xanchor": "center",
          "xref": "paper",
          "y": 0.24376731301939059,
          "yanchor": "bottom",
          "yref": "paper"
         },
         {
          "font": {
           "size": 16
          },
          "showarrow": false,
          "text": "RBCS",
          "x": 0.775,
          "xanchor": "center",
          "xref": "paper",
          "y": 0.24376731301939059,
          "yanchor": "bottom",
          "yref": "paper"
         },
         {
          "font": {
           "size": 16
          },
          "showarrow": false,
          "text": "RHS",
          "x": 0.225,
          "xanchor": "center",
          "xref": "paper",
          "y": 0.18975069252077564,
          "yanchor": "bottom",
          "yref": "paper"
         },
         {
          "font": {
           "size": 16
          },
          "showarrow": false,
          "text": "RHS",
          "x": 0.775,
          "xanchor": "center",
          "xref": "paper",
          "y": 0.18975069252077564,
          "yanchor": "bottom",
          "yref": "paper"
         },
         {
          "font": {
           "size": 16
          },
          "showarrow": false,
          "text": "RMA",
          "x": 0.225,
          "xanchor": "center",
          "xref": "paper",
          "y": 0.13573407202216067,
          "yanchor": "bottom",
          "yref": "paper"
         },
         {
          "font": {
           "size": 16
          },
          "showarrow": false,
          "text": "RMA",
          "x": 0.775,
          "xanchor": "center",
          "xref": "paper",
          "y": 0.13573407202216067,
          "yanchor": "bottom",
          "yref": "paper"
         },
         {
          "font": {
           "size": 16
          },
          "showarrow": false,
          "text": "RUS",
          "x": 0.225,
          "xanchor": "center",
          "xref": "paper",
          "y": 0.0817174515235457,
          "yanchor": "bottom",
          "yref": "paper"
         },
         {
          "font": {
           "size": 16
          },
          "showarrow": false,
          "text": "RUS",
          "x": 0.775,
          "xanchor": "center",
          "xref": "paper",
          "y": 0.0817174515235457,
          "yanchor": "bottom",
          "yref": "paper"
         },
         {
          "font": {
           "size": 16
          },
          "showarrow": false,
          "text": "UNK",
          "x": 0.225,
          "xanchor": "center",
          "xref": "paper",
          "y": 0.02770083102493075,
          "yanchor": "bottom",
          "yref": "paper"
         },
         {
          "font": {
           "size": 16
          },
          "showarrow": false,
          "text": "UNK",
          "x": 0.775,
          "xanchor": "center",
          "xref": "paper",
          "y": 0.02770083102493075,
          "yanchor": "bottom",
          "yref": "paper"
         }
        ],
        "height": 8000,
        "title": "<b>USDA Single Audit with Findings</b> <b>12_11_2018</b>",
        "xaxis": {
         "anchor": "y",
         "domain": [
          0,
          0.45
         ]
        },
        "xaxis10": {
         "anchor": "y10",
         "domain": [
          0.55,
          1
         ]
        },
        "xaxis11": {
         "anchor": "y11",
         "domain": [
          0,
          0.45
         ]
        },
        "xaxis12": {
         "anchor": "y12",
         "domain": [
          0.55,
          1
         ]
        },
        "xaxis13": {
         "anchor": "y13",
         "domain": [
          0,
          0.45
         ]
        },
        "xaxis14": {
         "anchor": "y14",
         "domain": [
          0.55,
          1
         ]
        },
        "xaxis15": {
         "anchor": "y15",
         "domain": [
          0,
          0.45
         ]
        },
        "xaxis16": {
         "anchor": "y16",
         "domain": [
          0.55,
          1
         ]
        },
        "xaxis17": {
         "anchor": "y17",
         "domain": [
          0,
          0.45
         ]
        },
        "xaxis18": {
         "anchor": "y18",
         "domain": [
          0.55,
          1
         ]
        },
        "xaxis19": {
         "anchor": "y19",
         "domain": [
          0,
          0.45
         ]
        },
        "xaxis2": {
         "anchor": "y2",
         "domain": [
          0.55,
          1
         ]
        },
        "xaxis20": {
         "anchor": "y20",
         "domain": [
          0.55,
          1
         ]
        },
        "xaxis21": {
         "anchor": "y21",
         "domain": [
          0,
          0.45
         ]
        },
        "xaxis22": {
         "anchor": "y22",
         "domain": [
          0.55,
          1
         ]
        },
        "xaxis23": {
         "anchor": "y23",
         "domain": [
          0,
          0.45
         ]
        },
        "xaxis24": {
         "anchor": "y24",
         "domain": [
          0.55,
          1
         ]
        },
        "xaxis25": {
         "anchor": "y25",
         "domain": [
          0,
          0.45
         ]
        },
        "xaxis26": {
         "anchor": "y26",
         "domain": [
          0.55,
          1
         ]
        },
        "xaxis27": {
         "anchor": "y27",
         "domain": [
          0,
          0.45
         ]
        },
        "xaxis28": {
         "anchor": "y28",
         "domain": [
          0.55,
          1
         ]
        },
        "xaxis29": {
         "anchor": "y29",
         "domain": [
          0,
          0.45
         ]
        },
        "xaxis3": {
         "anchor": "y3",
         "domain": [
          0,
          0.45
         ]
        },
        "xaxis30": {
         "anchor": "y30",
         "domain": [
          0.55,
          1
         ]
        },
        "xaxis31": {
         "anchor": "y31",
         "domain": [
          0,
          0.45
         ]
        },
        "xaxis32": {
         "anchor": "y32",
         "domain": [
          0.55,
          1
         ]
        },
        "xaxis33": {
         "anchor": "y33",
         "domain": [
          0,
          0.45
         ]
        },
        "xaxis34": {
         "anchor": "y34",
         "domain": [
          0.55,
          1
         ]
        },
        "xaxis35": {
         "anchor": "y35",
         "domain": [
          0,
          0.45
         ]
        },
        "xaxis36": {
         "anchor": "y36",
         "domain": [
          0.55,
          1
         ]
        },
        "xaxis37": {
         "anchor": "y37",
         "domain": [
          0,
          0.45
         ]
        },
        "xaxis38": {
         "anchor": "y38",
         "domain": [
          0.55,
          1
         ]
        },
        "xaxis4": {
         "anchor": "y4",
         "domain": [
          0.55,
          1
         ]
        },
        "xaxis5": {
         "anchor": "y5",
         "domain": [
          0,
          0.45
         ]
        },
        "xaxis6": {
         "anchor": "y6",
         "domain": [
          0.55,
          1
         ]
        },
        "xaxis7": {
         "anchor": "y7",
         "domain": [
          0,
          0.45
         ]
        },
        "xaxis8": {
         "anchor": "y8",
         "domain": [
          0.55,
          1
         ]
        },
        "xaxis9": {
         "anchor": "y9",
         "domain": [
          0,
          0.45
         ]
        },
        "yaxis": {
         "anchor": "x",
         "domain": [
          0.9722991689750694,
          1
         ],
         "title": "Total Award ($)"
        },
        "yaxis10": {
         "anchor": "x10",
         "domain": [
          0.7562326869806095,
          0.7839335180055402
         ],
         "title": "Number of Findings"
        },
        "yaxis11": {
         "anchor": "x11",
         "domain": [
          0.7022160664819945,
          0.7299168975069252
         ],
         "title": "Total Award ($)"
        },
        "yaxis12": {
         "anchor": "x12",
         "domain": [
          0.7022160664819945,
          0.7299168975069252
         ],
         "title": "Number of Findings"
        },
        "yaxis13": {
         "anchor": "x13",
         "domain": [
          0.6481994459833795,
          0.6759002770083102
         ],
         "title": "Total Award ($)"
        },
        "yaxis14": {
         "anchor": "x14",
         "domain": [
          0.6481994459833795,
          0.6759002770083102
         ],
         "title": "Number of Findings"
        },
        "yaxis15": {
         "anchor": "x15",
         "domain": [
          0.5941828254847646,
          0.6218836565096953
         ],
         "title": "Total Award ($)"
        },
        "yaxis16": {
         "anchor": "x16",
         "domain": [
          0.5941828254847646,
          0.6218836565096953
         ],
         "title": "Number of Findings"
        },
        "yaxis17": {
         "anchor": "x17",
         "domain": [
          0.5401662049861496,
          0.5678670360110804
         ],
         "title": "Total Award ($)"
        },
        "yaxis18": {
         "anchor": "x18",
         "domain": [
          0.5401662049861496,
          0.5678670360110804
         ],
         "title": "Number of Findings"
        },
        "yaxis19": {
         "anchor": "x19",
         "domain": [
          0.48614958448753465,
          0.5138504155124654
         ],
         "title": "Total Award ($)"
        },
        "yaxis2": {
         "anchor": "x2",
         "domain": [
          0.9722991689750694,
          1
         ],
         "title": "Number of Findings"
        },
        "yaxis20": {
         "anchor": "x20",
         "domain": [
          0.48614958448753465,
          0.5138504155124654
         ],
         "title": "Number of Findings"
        },
        "yaxis21": {
         "anchor": "x21",
         "domain": [
          0.4321329639889197,
          0.45983379501385047
         ],
         "title": "Total Award ($)"
        },
        "yaxis22": {
         "anchor": "x22",
         "domain": [
          0.4321329639889197,
          0.45983379501385047
         ],
         "title": "Number of Findings"
        },
        "yaxis23": {
         "anchor": "x23",
         "domain": [
          0.37811634349030476,
          0.4058171745152355
         ],
         "title": "Total Award ($)"
        },
        "yaxis24": {
         "anchor": "x24",
         "domain": [
          0.37811634349030476,
          0.4058171745152355
         ],
         "title": "Number of Findings"
        },
        "yaxis25": {
         "anchor": "x25",
         "domain": [
          0.32409972299168976,
          0.3518005540166205
         ],
         "title": "Total Award ($)"
        },
        "yaxis26": {
         "anchor": "x26",
         "domain": [
          0.32409972299168976,
          0.3518005540166205
         ],
         "title": "Number of Findings"
        },
        "yaxis27": {
         "anchor": "x27",
         "domain": [
          0.27008310249307477,
          0.29778393351800553
         ],
         "title": "Total Award ($)"
        },
        "yaxis28": {
         "anchor": "x28",
         "domain": [
          0.27008310249307477,
          0.29778393351800553
         ],
         "title": "Number of Findings"
        },
        "yaxis29": {
         "anchor": "x29",
         "domain": [
          0.21606648199445982,
          0.24376731301939059
         ],
         "title": "Total Award ($)"
        },
        "yaxis3": {
         "anchor": "x3",
         "domain": [
          0.9182825484764544,
          0.9459833795013851
         ],
         "title": "Total Award ($)"
        },
        "yaxis30": {
         "anchor": "x30",
         "domain": [
          0.21606648199445982,
          0.24376731301939059
         ],
         "title": "Number of Findings"
        },
        "yaxis31": {
         "anchor": "x31",
         "domain": [
          0.16204986149584488,
          0.18975069252077564
         ],
         "title": "Total Award ($)"
        },
        "yaxis32": {
         "anchor": "x32",
         "domain": [
          0.16204986149584488,
          0.18975069252077564
         ],
         "title": "Number of Findings"
        },
        "yaxis33": {
         "anchor": "x33",
         "domain": [
          0.10803324099722991,
          0.13573407202216067
         ],
         "title": "Total Award ($)"
        },
        "yaxis34": {
         "anchor": "x34",
         "domain": [
          0.10803324099722991,
          0.13573407202216067
         ],
         "title": "Number of Findings"
        },
        "yaxis35": {
         "anchor": "x35",
         "domain": [
          0.054016620498614956,
          0.0817174515235457
         ],
         "title": "Total Award ($)"
        },
        "yaxis36": {
         "anchor": "x36",
         "domain": [
          0.054016620498614956,
          0.0817174515235457
         ],
         "title": "Number of Findings"
        },
        "yaxis37": {
         "anchor": "x37",
         "domain": [
          0,
          0.02770083102493075
         ],
         "title": "Total Award ($)"
        },
        "yaxis38": {
         "anchor": "x38",
         "domain": [
          0,
          0.02770083102493075
         ],
         "title": "Number of Findings"
        },
        "yaxis4": {
         "anchor": "x4",
         "domain": [
          0.9182825484764544,
          0.9459833795013851
         ],
         "title": "Number of Findings"
        },
        "yaxis5": {
         "anchor": "x5",
         "domain": [
          0.8642659279778395,
          0.8919667590027702
         ],
         "title": "Total Award ($)"
        },
        "yaxis6": {
         "anchor": "x6",
         "domain": [
          0.8642659279778395,
          0.8919667590027702
         ],
         "title": "Number of Findings"
        },
        "yaxis7": {
         "anchor": "x7",
         "domain": [
          0.8102493074792245,
          0.8379501385041552
         ],
         "title": "Total Award ($)"
        },
        "yaxis8": {
         "anchor": "x8",
         "domain": [
          0.8102493074792245,
          0.8379501385041552
         ],
         "title": "Number of Findings"
        },
        "yaxis9": {
         "anchor": "x9",
         "domain": [
          0.7562326869806095,
          0.7839335180055402
         ],
         "title": "Total Award ($)"
        }
       }
      },
      "text/html": [
       "<div id=\"aaa2ccfb-1fbc-4d06-88e6-6bdd56cacba3\" style=\"height: 8000px; width: 100%;\" class=\"plotly-graph-div\"></div><script type=\"text/javascript\">require([\"plotly\"], function(Plotly) { window.PLOTLYENV=window.PLOTLYENV || {};window.PLOTLYENV.BASE_URL=\"https://plot.ly\";Plotly.newPlot(\"aaa2ccfb-1fbc-4d06-88e6-6bdd56cacba3\", [{\"legendgroup\": \"10.170\", \"marker\": {\"color\": \"cornflowerblue\"}, \"name\": \"10.170\", \"showlegend\": false, \"x\": [\"2017-02-01\", \"2017-03-01\", \"2017-07-01\", \"2017-11-01\", \"2018-02-01\", \"2018-03-01\", \"2018-09-01\", \"2018-10-01\"], \"y\": [94519.0, 5084894.0, 78223.0, 57117.0, 1194048.0, 5780554.0, 46629.0, 10486.0], \"type\": \"scatter\", \"uid\": \"224109ec-fd67-11e8-81b7-b46bfca2d37e\", \"xaxis\": \"x\", \"yaxis\": \"y\"}, {\"legendgroup\": \"10.170\", \"marker\": {\"color\": \"cornflowerblue\"}, \"name\": \"10.170\", \"showlegend\": false, \"x\": [\"2017-02-01\", \"2017-03-01\", \"2017-07-01\", \"2017-11-01\", \"2018-02-01\", \"2018-03-01\", \"2018-09-01\", \"2018-10-01\"], \"y\": [6.0, 9.0, 3.0, 2.0, 1.0, 8.0, 1.0, 6.0], \"type\": \"scatter\", \"uid\": \"224420ee-fd67-11e8-a7f6-b46bfca2d37e\", \"xaxis\": \"x2\", \"yaxis\": \"y2\"}, {\"legendgroup\": \"10.156\", \"marker\": {\"color\": \"cadetblue\"}, \"name\": \"10.156\", \"showlegend\": false, \"x\": [\"2017-03-01\", \"2018-03-01\"], \"y\": [22718.0, 67888.0], \"type\": \"scatter\", \"uid\": \"2244e44a-fd67-11e8-b506-b46bfca2d37e\", \"xaxis\": \"x\", \"yaxis\": \"y\"}, {\"legendgroup\": \"10.156\", \"marker\": {\"color\": \"cadetblue\"}, \"name\": \"10.156\", \"showlegend\": false, \"x\": [\"2017-03-01\", \"2018-03-01\"], \"y\": [5.0, 6.0], \"type\": \"scatter\", \"uid\": \"22461cc8-fd67-11e8-9411-b46bfca2d37e\", \"xaxis\": \"x2\", \"yaxis\": \"y2\"}, {\"legendgroup\": \"10.162\", \"marker\": {\"color\": \"chartreuse\"}, \"name\": \"10.162\", \"showlegend\": false, \"x\": [\"2017-03-01\", \"2018-08-01\"], \"y\": [432101.0, 375577.0], \"type\": \"scatter\", \"uid\": \"2246e158-fd67-11e8-9115-b46bfca2d37e\", \"xaxis\": \"x\", \"yaxis\": \"y\"}, {\"legendgroup\": \"10.162\", \"marker\": {\"color\": \"chartreuse\"}, \"name\": \"10.162\", \"showlegend\": false, \"x\": [\"2017-03-01\", \"2018-08-01\"], \"y\": [3.0, 3.0], \"type\": \"scatter\", \"uid\": \"22477c48-fd67-11e8-8095-b46bfca2d37e\", \"xaxis\": \"x2\", \"yaxis\": \"y2\"}, {\"legendgroup\": \"10.168\", \"marker\": {\"color\": \"coral\"}, \"name\": \"10.168\", \"showlegend\": false, \"x\": [\"2017-03-01\", \"2017-09-01\"], \"y\": [13427.0, 28115.0], \"type\": \"scatter\", \"uid\": \"2247f16e-fd67-11e8-8ce9-b46bfca2d37e\", \"xaxis\": \"x\", \"yaxis\": \"y\"}, {\"legendgroup\": \"10.168\", \"marker\": {\"color\": \"coral\"}, \"name\": \"10.168\", \"showlegend\": false, \"x\": [\"2017-03-01\", \"2017-09-01\"], \"y\": [1.0, 1.0], \"type\": \"scatter\", \"uid\": \"22488da4-fd67-11e8-83ee-b46bfca2d37e\", \"xaxis\": \"x2\", \"yaxis\": \"y2\"}, {\"legendgroup\": \"10.172\", \"marker\": {\"color\": \"plum\"}, \"name\": \"10.172\", \"showlegend\": false, \"x\": [\"2017-03-01\"], \"y\": [747.0], \"type\": \"scatter\", \"uid\": \"224917e2-fd67-11e8-8280-b46bfca2d37e\", \"xaxis\": \"x\", \"yaxis\": \"y\"}, {\"legendgroup\": \"10.172\", \"marker\": {\"color\": \"plum\"}, \"name\": \"10.172\", \"showlegend\": false, \"x\": [\"2017-03-01\"], \"y\": [3.0], \"type\": \"scatter\", \"uid\": \"224917e3-fd67-11e8-b88d-b46bfca2d37e\", \"xaxis\": \"x2\", \"yaxis\": \"y2\"}, {\"legendgroup\": \"10.164\", \"marker\": {\"color\": \"chocolate\"}, \"name\": \"10.164\", \"showlegend\": false, \"x\": [\"2018-03-01\"], \"y\": [32430.0], \"type\": \"scatter\", \"uid\": \"224917e4-fd67-11e8-b296-b46bfca2d37e\", \"xaxis\": \"x\", \"yaxis\": \"y\"}, {\"legendgroup\": \"10.164\", \"marker\": {\"color\": \"chocolate\"}, \"name\": \"10.164\", \"showlegend\": false, \"x\": [\"2018-03-01\"], \"y\": [4.0], \"type\": \"scatter\", \"uid\": \"224917e5-fd67-11e8-9f84-b46bfca2d37e\", \"xaxis\": \"x2\", \"yaxis\": \"y2\"}, {\"legendgroup\": \"10.025\", \"marker\": {\"color\": \"aqua\"}, \"name\": \"10.025\", \"showlegend\": false, \"x\": [\"2017-01-01\", \"2017-02-01\", \"2017-03-01\", \"2017-07-01\", \"2017-11-01\", \"2017-12-01\", \"2018-01-01\", \"2018-02-01\", \"2018-03-01\", \"2018-09-01\"], \"y\": [194643.0, 1744775.0, 1517492.0, 839107.0, 255004.0, 644193.0, 201135.0, 273060.0, 3693867.0, 1108364.0], \"type\": \"scatter\", \"uid\": \"224917e6-fd67-11e8-aa0c-b46bfca2d37e\", \"xaxis\": \"x3\", \"yaxis\": \"y3\"}, {\"legendgroup\": \"10.025\", \"marker\": {\"color\": \"aqua\"}, \"name\": \"10.025\", \"showlegend\": false, \"x\": [\"2017-01-01\", \"2017-02-01\", \"2017-03-01\", \"2017-07-01\", \"2017-11-01\", \"2017-12-01\", \"2018-01-01\", \"2018-02-01\", \"2018-03-01\", \"2018-09-01\"], \"y\": [2.0, 12.0, 5.0, 1.0, 2.0, 2.0, 4.0, 4.0, 8.0, 1.0], \"type\": \"scatter\", \"uid\": \"224b7b9e-fd67-11e8-a30f-b46bfca2d37e\", \"xaxis\": \"x4\", \"yaxis\": \"y4\"}, {\"legendgroup\": \"10.028\", \"marker\": {\"color\": \"aquamarine\"}, \"name\": \"10.028\", \"showlegend\": false, \"x\": [\"2017-02-01\", \"2017-03-01\", \"2018-03-01\"], \"y\": [8616.0, 21890.0, 133970.0], \"type\": \"scatter\", \"uid\": \"224b7b9f-fd67-11e8-a6f1-b46bfca2d37e\", \"xaxis\": \"x3\", \"yaxis\": \"y3\"}, {\"legendgroup\": \"10.028\", \"marker\": {\"color\": \"aquamarine\"}, \"name\": \"10.028\", \"showlegend\": false, \"x\": [\"2017-02-01\", \"2017-03-01\", \"2018-03-01\"], \"y\": [6.0, 3.0, 7.0], \"type\": \"scatter\", \"uid\": \"224b7ba0-fd67-11e8-bc9a-b46bfca2d37e\", \"xaxis\": \"x4\", \"yaxis\": \"y4\"}, {\"legendgroup\": \"10.030\", \"marker\": {\"color\": \"mediumturquoise\"}, \"name\": \"10.030\", \"showlegend\": false, \"x\": [\"2017-02-01\"], \"y\": [55000.0], \"type\": \"scatter\", \"uid\": \"224b7ba1-fd67-11e8-a631-b46bfca2d37e\", \"xaxis\": \"x3\", \"yaxis\": \"y3\"}, {\"legendgroup\": \"10.030\", \"marker\": {\"color\": \"mediumturquoise\"}, \"name\": \"10.030\", \"showlegend\": false, \"x\": [\"2017-02-01\"], \"y\": [1.0], \"type\": \"scatter\", \"uid\": \"224dde1e-fd67-11e8-ac50-b46bfca2d37e\", \"xaxis\": \"x4\", \"yaxis\": \"y4\"}, {\"legendgroup\": \"10.001\", \"marker\": {\"color\": \"red\"}, \"name\": \"10.001\", \"showlegend\": false, \"x\": [\"2017-01-01\", \"2017-02-01\", \"2017-03-01\", \"2017-05-01\", \"2017-11-01\", \"2018-01-01\", \"2018-02-01\", \"2018-03-01\", \"2018-05-01\", \"2018-09-01\", \"2018-11-01\"], \"y\": [6701.0, 2119580.0, 8543318.0, 927068.0, 189585.0, 9841.0, 19775.0, 9074490.0, 314025.0, 40885.0, 5956702.0], \"type\": \"scatter\", \"uid\": \"224dde1f-fd67-11e8-bf7a-b46bfca2d37e\", \"xaxis\": \"x5\", \"yaxis\": \"y5\"}, {\"legendgroup\": \"10.001\", \"marker\": {\"color\": \"red\"}, \"name\": \"10.001\", \"showlegend\": false, \"x\": [\"2017-01-01\", \"2017-02-01\", \"2017-03-01\", \"2017-05-01\", \"2017-11-01\", \"2018-01-01\", \"2018-02-01\", \"2018-03-01\", \"2018-05-01\", \"2018-09-01\", \"2018-11-01\"], \"y\": [2.0, 6.0, 10.0, 1.0, 4.0, 3.0, 1.0, 9.0, 5.0, 1.0, 2.0], \"type\": \"scatter\", \"uid\": \"224dde20-fd67-11e8-bbf4-b46bfca2d37e\", \"xaxis\": \"x6\", \"yaxis\": \"y6\"}, {\"legendgroup\": \"10.443\", \"marker\": {\"color\": \"khaki\"}, \"name\": \"10.443\", \"showlegend\": false, \"x\": [\"2017-03-01\", \"2017-11-01\", \"2018-03-01\"], \"y\": [399242.0, 6250.0, 222493.0], \"type\": \"scatter\", \"uid\": \"224dde21-fd67-11e8-ae55-b46bfca2d37e\", \"xaxis\": \"x7\", \"yaxis\": \"y7\"}, {\"legendgroup\": \"10.443\", \"marker\": {\"color\": \"khaki\"}, \"name\": \"10.443\", \"showlegend\": false, \"x\": [\"2017-03-01\", \"2017-11-01\", \"2018-03-01\"], \"y\": [5.0, 1.0, 5.0], \"type\": \"scatter\", \"uid\": \"22503f4c-fd67-11e8-b2d8-b46bfca2d37e\", \"xaxis\": \"x8\", \"yaxis\": \"y8\"}, {\"legendgroup\": \"10.250\", \"marker\": {\"color\": \"darkslateblue\"}, \"name\": \"10.250\", \"showlegend\": false, \"x\": [\"2017-02-01\", \"2017-03-01\", \"2018-02-01\", \"2018-03-01\", \"2018-05-01\", \"2018-11-01\"], \"y\": [247334.0, 113857.0, 2763.0, 448126.0, 4240.0, 28306.0], \"type\": \"scatter\", \"uid\": \"22503f4d-fd67-11e8-b9b7-b46bfca2d37e\", \"xaxis\": \"x9\", \"yaxis\": \"y9\"}, {\"legendgroup\": \"10.250\", \"marker\": {\"color\": \"darkslateblue\"}, \"name\": \"10.250\", \"showlegend\": false, \"x\": [\"2017-02-01\", \"2017-03-01\", \"2018-02-01\", \"2018-03-01\", \"2018-05-01\", \"2018-11-01\"], \"y\": [7.0, 4.0, 1.0, 3.0, 5.0, 1.0], \"type\": \"scatter\", \"uid\": \"22503f4e-fd67-11e8-a789-b46bfca2d37e\", \"xaxis\": \"x10\", \"yaxis\": \"y10\"}, {\"legendgroup\": \"10.253\", \"marker\": {\"color\": \"darkslategray\"}, \"name\": \"10.253\", \"showlegend\": false, \"x\": [\"2017-02-01\", \"2017-03-01\", \"2017-11-01\", \"2018-03-01\", \"2018-11-01\"], \"y\": [40427.0, 29435.0, 14592.0, 152533.0, 263953.0], \"type\": \"scatter\", \"uid\": \"22503f4f-fd67-11e8-bb91-b46bfca2d37e\", \"xaxis\": \"x9\", \"yaxis\": \"y9\"}, {\"legendgroup\": \"10.253\", \"marker\": {\"color\": \"darkslategray\"}, \"name\": \"10.253\", \"showlegend\": false, \"x\": [\"2017-02-01\", \"2017-03-01\", \"2017-11-01\", \"2018-03-01\", \"2018-11-01\"], \"y\": [7.0, 1.0, 2.0, 7.0, 1.0], \"type\": \"scatter\", \"uid\": \"2252ae4c-fd67-11e8-b3ac-b46bfca2d37e\", \"xaxis\": \"x10\", \"yaxis\": \"y10\"}, {\"legendgroup\": \"10.601\", \"marker\": {\"color\": \"darkcyan\"}, \"name\": \"10.601\", \"showlegend\": false, \"x\": [\"2017-02-01\", \"2017-03-01\", \"2017-04-01\", \"2017-08-01\", \"2017-09-01\", \"2017-12-01\", \"2018-03-01\", \"2018-05-01\", \"2018-08-01\", \"2018-09-01\"], \"y\": [600895.0, 849552.0, 1217928.0, 5230681.0, 10088314.0, 754315.0, 362541.0, 1084408.0, 1183893.0, 6285158.0], \"type\": \"scatter\", \"uid\": \"22534bc6-fd67-11e8-b65b-b46bfca2d37e\", \"xaxis\": \"x11\", \"yaxis\": \"y11\"}, {\"legendgroup\": \"10.601\", \"marker\": {\"color\": \"darkcyan\"}, \"name\": \"10.601\", \"showlegend\": false, \"x\": [\"2017-02-01\", \"2017-03-01\", \"2017-04-01\", \"2017-08-01\", \"2017-09-01\", \"2017-12-01\", \"2018-03-01\", \"2018-05-01\", \"2018-08-01\", \"2018-09-01\"], \"y\": [3.0, 3.0, 1.0, 1.0, 2.0, 4.0, 3.0, 1.0, 2.0, 5.0], \"type\": \"scatter\", \"uid\": \"2253c0be-fd67-11e8-8184-b46bfca2d37e\", \"xaxis\": \"x12\", \"yaxis\": \"y12\"}, {\"legendgroup\": \"10.608\", \"marker\": {\"color\": \"darkkhaki\"}, \"name\": \"10.608\", \"showlegend\": false, \"x\": [\"2017-02-01\", \"2017-04-01\", \"2018-03-01\"], \"y\": [13232446.0, 32292192.0, 37297901.0], \"type\": \"scatter\", \"uid\": \"22545d34-fd67-11e8-8217-b46bfca2d37e\", \"xaxis\": \"x11\", \"yaxis\": \"y11\"}, {\"legendgroup\": \"10.608\", \"marker\": {\"color\": \"darkkhaki\"}, \"name\": \"10.608\", \"showlegend\": false, \"x\": [\"2017-02-01\", \"2017-04-01\", \"2018-03-01\"], \"y\": [1.0, 2.0, 2.0], \"type\": \"scatter\", \"uid\": \"22552080-fd67-11e8-b543-b46bfca2d37e\", \"xaxis\": \"x12\", \"yaxis\": \"y12\"}, {\"legendgroup\": \"10.777\", \"marker\": {\"color\": \"indianred\"}, \"name\": \"10.777\", \"showlegend\": false, \"x\": [\"2017-02-01\", \"2017-03-01\", \"2017-11-01\", \"2018-02-01\", \"2018-03-01\"], \"y\": [23781.0, 53400.0, 5775.0, 36235.0, 79842.0], \"type\": \"scatter\", \"uid\": \"2255bb9c-fd67-11e8-b065-b46bfca2d37e\", \"xaxis\": \"x11\", \"yaxis\": \"y11\"}, {\"legendgroup\": \"10.777\", \"marker\": {\"color\": \"indianred\"}, \"name\": \"10.777\", \"showlegend\": false, \"x\": [\"2017-02-01\", \"2017-03-01\", \"2017-11-01\", \"2018-02-01\", \"2018-03-01\"], \"y\": [4.0, 1.0, 1.0, 3.0, 2.0], \"type\": \"scatter\", \"uid\": \"225657de-fd67-11e8-b875-b46bfca2d37e\", \"xaxis\": \"x12\", \"yaxis\": \"y12\"}, {\"legendgroup\": \"10.960\", \"marker\": {\"color\": \"blue\"}, \"name\": \"10.960\", \"showlegend\": false, \"x\": [\"2017-02-01\", \"2017-03-01\", \"2018-02-01\", \"2018-03-01\", \"2018-11-01\"], \"y\": [9578.0, 466857.0, 19465.0, 6355.0, 68422.0], \"type\": \"scatter\", \"uid\": \"2256f418-fd67-11e8-966f-b46bfca2d37e\", \"xaxis\": \"x11\", \"yaxis\": \"y11\"}, {\"legendgroup\": \"10.960\", \"marker\": {\"color\": \"blue\"}, \"name\": \"10.960\", \"showlegend\": false, \"x\": [\"2017-02-01\", \"2017-03-01\", \"2018-02-01\", \"2018-03-01\", \"2018-11-01\"], \"y\": [6.0, 1.0, 3.0, 2.0, 1.0], \"type\": \"scatter\", \"uid\": \"22579030-fd67-11e8-80f1-b46bfca2d37e\", \"xaxis\": \"x12\", \"yaxis\": \"y12\"}, {\"legendgroup\": \"10.962\", \"marker\": {\"color\": \"brown\"}, \"name\": \"10.962\", \"showlegend\": false, \"x\": [\"2017-02-01\", \"2017-03-01\", \"2018-03-01\", \"2018-08-01\"], \"y\": [33038.0, 203950.0, 158822.0, 71120.0], \"type\": \"scatter\", \"uid\": \"22580562-fd67-11e8-9b0b-b46bfca2d37e\", \"xaxis\": \"x11\", \"yaxis\": \"y11\"}, {\"legendgroup\": \"10.962\", \"marker\": {\"color\": \"brown\"}, \"name\": \"10.962\", \"showlegend\": false, \"x\": [\"2017-02-01\", \"2017-03-01\", \"2018-03-01\", \"2018-08-01\"], \"y\": [4.0, 1.0, 1.0, 1.0], \"type\": \"scatter\", \"uid\": \"2258ab24-fd67-11e8-b04f-b46bfca2d37e\", \"xaxis\": \"x12\", \"yaxis\": \"y12\"}, {\"legendgroup\": \"10.604\", \"marker\": {\"color\": \"darkgray\"}, \"name\": \"10.604\", \"showlegend\": false, \"x\": [\"2017-03-01\", \"2017-05-01\", \"2018-03-01\"], \"y\": [388170.0, 526213.0, 540940.0], \"type\": \"scatter\", \"uid\": \"2258ab25-fd67-11e8-931f-b46bfca2d37e\", \"xaxis\": \"x11\", \"yaxis\": \"y11\"}, {\"legendgroup\": \"10.604\", \"marker\": {\"color\": \"darkgray\"}, \"name\": \"10.604\", \"showlegend\": false, \"x\": [\"2017-03-01\", \"2017-05-01\", \"2018-03-01\"], \"y\": [1.0, 2.0, 1.0], \"type\": \"scatter\", \"uid\": \"2258ab26-fd67-11e8-b7c1-b46bfca2d37e\", \"xaxis\": \"x12\", \"yaxis\": \"y12\"}, {\"legendgroup\": \"10.612\", \"marker\": {\"color\": \"darkmagenta\"}, \"name\": \"10.612\", \"showlegend\": false, \"x\": [\"2017-03-01\", \"2018-03-01\"], \"y\": [160442.0, 138449.0], \"type\": \"scatter\", \"uid\": \"2258ab27-fd67-11e8-8e2c-b46bfca2d37e\", \"xaxis\": \"x11\", \"yaxis\": \"y11\"}, {\"legendgroup\": \"10.612\", \"marker\": {\"color\": \"darkmagenta\"}, \"name\": \"10.612\", \"showlegend\": false, \"x\": [\"2017-03-01\", \"2018-03-01\"], \"y\": [1.0, 1.0], \"type\": \"scatter\", \"uid\": \"2258ab28-fd67-11e8-a8f3-b46bfca2d37e\", \"xaxis\": \"x12\", \"yaxis\": \"y12\"}, {\"legendgroup\": \"10.606\", \"marker\": {\"color\": \"darkgreen\"}, \"name\": \"10.606\", \"showlegend\": false, \"x\": [\"2017-04-01\", \"2017-07-01\", \"2017-09-01\", \"2018-01-01\", \"2018-03-01\", \"2018-09-01\"], \"y\": [10592897.0, 786409.0, 2256191.0, 12118804.0, 13493763.0, 19895826.0], \"type\": \"scatter\", \"uid\": \"225b0dc0-fd67-11e8-9e10-b46bfca2d37e\", \"xaxis\": \"x11\", \"yaxis\": \"y11\"}, {\"legendgroup\": \"10.606\", \"marker\": {\"color\": \"darkgreen\"}, \"name\": \"10.606\", \"showlegend\": false, \"x\": [\"2017-04-01\", \"2017-07-01\", \"2017-09-01\", \"2018-01-01\", \"2018-03-01\", \"2018-09-01\"], \"y\": [2.0, 1.0, 3.0, 4.0, 2.0, 2.0], \"type\": \"scatter\", \"uid\": \"225b0dc1-fd67-11e8-ad22-b46bfca2d37e\", \"xaxis\": \"x12\", \"yaxis\": \"y12\"}, {\"legendgroup\": \"10.600\", \"marker\": {\"color\": \"darkblue\"}, \"name\": \"10.600\", \"showlegend\": false, \"x\": [\"2017-09-01\", \"2018-03-01\", \"2018-08-01\"], \"y\": [118890.0, 2348.0, 547169.0], \"type\": \"scatter\", \"uid\": \"225b0dc2-fd67-11e8-ab98-b46bfca2d37e\", \"xaxis\": \"x11\", \"yaxis\": \"y11\"}, {\"legendgroup\": \"10.600\", \"marker\": {\"color\": \"darkblue\"}, \"name\": \"10.600\", \"showlegend\": false, \"x\": [\"2017-09-01\", \"2018-03-01\", \"2018-08-01\"], \"y\": [1.0, 1.0, 2.0], \"type\": \"scatter\", \"uid\": \"225b0dc3-fd67-11e8-8a81-b46bfca2d37e\", \"xaxis\": \"x12\", \"yaxis\": \"y12\"}, {\"legendgroup\": \"10.603\", \"marker\": {\"color\": \"darkgoldenrod\"}, \"name\": \"10.603\", \"showlegend\": false, \"x\": [\"2017-09-01\", \"2018-09-01\"], \"y\": [542509.0, 189533.0], \"type\": \"scatter\", \"uid\": \"225dc502-fd67-11e8-bf60-b46bfca2d37e\", \"xaxis\": \"x11\", \"yaxis\": \"y11\"}, {\"legendgroup\": \"10.603\", \"marker\": {\"color\": \"darkgoldenrod\"}, \"name\": \"10.603\", \"showlegend\": false, \"x\": [\"2017-09-01\", \"2018-09-01\"], \"y\": [1.0, 3.0], \"type\": \"scatter\", \"uid\": \"225e6146-fd67-11e8-b26b-b46bfca2d37e\", \"xaxis\": \"x12\", \"yaxis\": \"y12\"}, {\"legendgroup\": \"10.961\", \"marker\": {\"color\": \"blueviolet\"}, \"name\": \"10.961\", \"showlegend\": false, \"x\": [\"2018-03-01\"], \"y\": [22073.0], \"type\": \"scatter\", \"uid\": \"225ed670-fd67-11e8-81b1-b46bfca2d37e\", \"xaxis\": \"x11\", \"yaxis\": \"y11\"}, {\"legendgroup\": \"10.961\", \"marker\": {\"color\": \"blueviolet\"}, \"name\": \"10.961\", \"showlegend\": false, \"x\": [\"2018-03-01\"], \"y\": [2.0], \"type\": \"scatter\", \"uid\": \"225f73e4-fd67-11e8-a000-b46bfca2d37e\", \"xaxis\": \"x12\", \"yaxis\": \"y12\"}, {\"legendgroup\": \"10.605\", \"marker\": {\"color\": \"magenta\"}, \"name\": \"10.605\", \"showlegend\": false, \"x\": [\"2018-08-01\", \"2018-09-01\"], \"y\": [74952.0, 1310000.0], \"type\": \"scatter\", \"uid\": \"2260101e-fd67-11e8-9b6b-b46bfca2d37e\", \"xaxis\": \"x11\", \"yaxis\": \"y11\"}, {\"legendgroup\": \"10.605\", \"marker\": {\"color\": \"magenta\"}, \"name\": \"10.605\", \"showlegend\": false, \"x\": [\"2018-08-01\", \"2018-09-01\"], \"y\": [2.0, 3.0], \"type\": \"scatter\", \"uid\": \"22608552-fd67-11e8-871e-b46bfca2d37e\", \"xaxis\": \"x12\", \"yaxis\": \"y12\"}, {\"legendgroup\": \"10.543\", \"marker\": {\"color\": \"lightgoldenrodyellow\"}, \"name\": \"10.543\", \"showlegend\": false, \"x\": [\"2016-12-01\", \"2017-01-01\", \"2017-11-01\", \"2018-03-01\"], \"y\": [1500.0, 485.0, 36.0, 500.0], \"type\": \"scatter\", \"uid\": \"2261219a-fd67-11e8-8f9b-b46bfca2d37e\", \"xaxis\": \"x13\", \"yaxis\": \"y13\"}, {\"legendgroup\": \"10.543\", \"marker\": {\"color\": \"lightgoldenrodyellow\"}, \"name\": \"10.543\", \"showlegend\": false, \"x\": [\"2016-12-01\", \"2017-01-01\", \"2017-11-01\", \"2018-03-01\"], \"y\": [1.0, 2.0, 1.0, 2.0], \"type\": \"scatter\", \"uid\": \"2261e3b4-fd67-11e8-b0b6-b46bfca2d37e\", \"xaxis\": \"x14\", \"yaxis\": \"y14\"}, {\"legendgroup\": \"10.551\", \"marker\": {\"color\": \"mediumaquamarine\"}, \"name\": \"10.551\", \"showlegend\": false, \"x\": [\"2016-12-01\", \"2017-01-01\", \"2017-02-01\", \"2017-03-01\", \"2017-04-01\", \"2017-05-01\", \"2017-06-01\", \"2017-07-01\", \"2017-09-01\", \"2017-12-01\", \"2018-02-01\", \"2018-03-01\", \"2018-04-01\", \"2018-06-01\", \"2018-09-01\", \"2018-11-01\"], \"y\": [4964314000.0, 1797516.0, 3128518618.0, 21753163999.0, 848403954.0, 1833281412.0, 3899505872.0, 11479269.0, 172365015.0, 14970550.0, 2270618578.0, 22776727553.0, 1019934794.0, 5280583536.0, 15273334.0, 648861.0], \"type\": \"scatter\", \"uid\": \"2262a708-fd67-11e8-a10f-b46bfca2d37e\", \"xaxis\": \"x13\", \"yaxis\": \"y13\"}, {\"legendgroup\": \"10.551\", \"marker\": {\"color\": \"mediumaquamarine\"}, \"name\": \"10.551\", \"showlegend\": false, \"x\": [\"2016-12-01\", \"2017-01-01\", \"2017-02-01\", \"2017-03-01\", \"2017-04-01\", \"2017-05-01\", \"2017-06-01\", \"2017-07-01\", \"2017-09-01\", \"2017-12-01\", \"2018-02-01\", \"2018-03-01\", \"2018-04-01\", \"2018-06-01\", \"2018-09-01\", \"2018-11-01\"], \"y\": [1.0, 1.0, 8.0, 46.0, 1.0, 2.0, 15.0, 3.0, 4.0, 3.0, 2.0, 37.0, 8.0, 28.0, 1.0, 1.0], \"type\": \"scatter\", \"uid\": \"22636a54-fd67-11e8-8bf6-b46bfca2d37e\", \"xaxis\": \"x14\", \"yaxis\": \"y14\"}, {\"legendgroup\": \"10.553\", \"marker\": {\"color\": \"lightgreen\"}, \"name\": \"10.553\", \"showlegend\": false, \"x\": [\"2016-12-01\", \"2017-01-01\", \"2017-02-01\", \"2017-03-01\", \"2017-04-01\", \"2017-05-01\", \"2017-06-01\", \"2017-07-01\", \"2017-08-01\", \"2017-09-01\", \"2017-10-01\", \"2017-11-01\", \"2017-12-01\", \"2018-01-01\", \"2018-02-01\", \"2018-03-01\", \"2018-04-01\", \"2018-05-01\", \"2018-06-01\", \"2018-07-01\", \"2018-08-01\", \"2018-09-01\", \"2018-10-01\", \"2018-11-01\", \"2018-12-01\"], \"y\": [45393594.0, 61535970.0, 141633658.0, 1164425378.0, 7742285.0, 5042628.0, 216021972.0, 5098322.0, 25978900.0, 17910361.0, 7714098.0, 33094364.0, 80086563.0, 179744963.0, 166464559.0, 1022871976.0, 79401967.0, 17955733.0, 285093308.0, 11661840.0, 4467041.0, 4144036.0, 15129484.0, 17270222.0, 16831008.0], \"type\": \"scatter\", \"uid\": \"22642ed4-fd67-11e8-86db-b46bfca2d37e\", \"xaxis\": \"x13\", \"yaxis\": \"y13\"}, {\"legendgroup\": \"10.553\", \"marker\": {\"color\": \"lightgreen\"}, \"name\": \"10.553\", \"showlegend\": false, \"x\": [\"2016-12-01\", \"2017-01-01\", \"2017-02-01\", \"2017-03-01\", \"2017-04-01\", \"2017-05-01\", \"2017-06-01\", \"2017-07-01\", \"2017-08-01\", \"2017-09-01\", \"2017-10-01\", \"2017-11-01\", \"2017-12-01\", \"2018-01-01\", \"2018-02-01\", \"2018-03-01\", \"2018-04-01\", \"2018-05-01\", \"2018-06-01\", \"2018-07-01\", \"2018-08-01\", \"2018-09-01\", \"2018-10-01\", \"2018-11-01\", \"2018-12-01\"], \"y\": [68.0, 168.66666666666666, 80.0, 154.0, 23.0, 26.0, 23.0, 30.0, 53.0, 115.0, 65.0, 86.0, 139.0, 148.0, 63.0, 173.0, 55.0, 96.0, 70.12698412698413, 59.6, 51.0, 32.0, 103.7936507936508, 111.0, 29.0], \"type\": \"scatter\", \"uid\": \"2264f0f4-fd67-11e8-a7a1-b46bfca2d37e\", \"xaxis\": \"x14\", \"yaxis\": \"y14\"}, {\"legendgroup\": \"10.555\", \"marker\": {\"color\": \"lightsalmon\"}, \"name\": \"10.555\", \"showlegend\": false, \"x\": [\"2016-12-01\", \"2017-01-01\", \"2017-02-01\", \"2017-03-01\", \"2017-04-01\", \"2017-05-01\", \"2017-06-01\", \"2017-07-01\", \"2017-08-01\", \"2017-09-01\", \"2017-10-01\", \"2017-11-01\", \"2017-12-01\", \"2018-01-01\", \"2018-02-01\", \"2018-03-01\", \"2018-04-01\", \"2018-05-01\", \"2018-06-01\", \"2018-07-01\", \"2018-08-01\", \"2018-09-01\", \"2018-10-01\", \"2018-11-01\", \"2018-12-01\"], \"y\": [133574728.0, 253587014.0, 498410598.0, 3836383884.0, 19879128.0, 17819934.0, 697498654.0, 23135708.0, 84329757.0, 71985361.0, 25714226.0, 116207995.0, 1263516956.0, 459607779.0, 570664728.0, 3212558912.0, 231375101.0, 83287702.0, 973754982.0, 41599536.0, 15493424.0, 11770109.0, 54861663.0, 67521822.0, 55991205.0], \"type\": \"scatter\", \"uid\": \"2265729c-fd67-11e8-ad43-b46bfca2d37e\", \"xaxis\": \"x13\", \"yaxis\": \"y13\"}, {\"legendgroup\": \"10.555\", \"marker\": {\"color\": \"lightsalmon\"}, \"name\": \"10.555\", \"showlegend\": false, \"x\": [\"2016-12-01\", \"2017-01-01\", \"2017-02-01\", \"2017-03-01\", \"2017-04-01\", \"2017-05-01\", \"2017-06-01\", \"2017-07-01\", \"2017-08-01\", \"2017-09-01\", \"2017-10-01\", \"2017-11-01\", \"2017-12-01\", \"2018-01-01\", \"2018-02-01\", \"2018-03-01\", \"2018-04-01\", \"2018-05-01\", \"2018-06-01\", \"2018-07-01\", \"2018-08-01\", \"2018-09-01\", \"2018-10-01\", \"2018-11-01\", \"2018-12-01\"], \"y\": [80.8, 184.66666666666666, 88.0, 175.0, 26.0, 29.0, 34.0, 33.0, 61.66666666666667, 130.54545454545456, 70.33333333333333, 95.0, 158.0, 165.66666666666666, 79.57142857142857, 190.0, 59.0, 104.9047619047619, 75.12698412698413, 62.6, 55.0, 33.0, 112.72698412698414, 117.0, 33.0], \"type\": \"scatter\", \"uid\": \"2265729d-fd67-11e8-8520-b46bfca2d37e\", \"xaxis\": \"x14\", \"yaxis\": \"y14\"}, {\"legendgroup\": \"10.556\", \"marker\": {\"color\": \"lightseagreen\"}, \"name\": \"10.556\", \"showlegend\": false, \"x\": [\"2016-12-01\", \"2017-01-01\", \"2017-02-01\", \"2017-03-01\", \"2017-06-01\", \"2017-07-01\", \"2017-09-01\", \"2017-10-01\", \"2017-11-01\", \"2017-12-01\", \"2018-01-01\", \"2018-02-01\", \"2018-03-01\", \"2018-04-01\", \"2018-06-01\", \"2018-07-01\", \"2018-08-01\", \"2018-10-01\", \"2018-11-01\", \"2018-12-01\"], \"y\": [3127.0, 725667.0, 349740.0, 3773557.0, 327857.0, 3146.0, 5406.0, 22043.0, 1265.0, 452738.0, 60361.0, 459319.0, 700726.0, 3200.0, 2205337.0, 143.0, 55.0, 18631.0, 11891.0, 11447.0], \"type\": \"scatter\", \"uid\": \"2265729e-fd67-11e8-b152-b46bfca2d37e\", \"xaxis\": \"x13\", \"yaxis\": \"y13\"}, {\"legendgroup\": \"10.556\", \"marker\": {\"color\": \"lightseagreen\"}, \"name\": \"10.556\", \"showlegend\": false, \"x\": [\"2016-12-01\", \"2017-01-01\", \"2017-02-01\", \"2017-03-01\", \"2017-06-01\", \"2017-07-01\", \"2017-09-01\", \"2017-10-01\", \"2017-11-01\", \"2017-12-01\", \"2018-01-01\", \"2018-02-01\", \"2018-03-01\", \"2018-04-01\", \"2018-06-01\", \"2018-07-01\", \"2018-08-01\", \"2018-10-01\", \"2018-11-01\", \"2018-12-01\"], \"y\": [3.0, 15.0, 6.0, 30.0, 9.0, 1.0, 8.0, 11.0, 1.0, 21.0, 9.0, 3.0, 23.0, 1.0, 9.0, 4.0, 2.0, 7.0, 6.0, 2.0], \"type\": \"scatter\", \"uid\": \"2265729f-fd67-11e8-8d18-b46bfca2d37e\", \"xaxis\": \"x14\", \"yaxis\": \"y14\"}, {\"legendgroup\": \"10.557\", \"marker\": {\"color\": \"lightskyblue\"}, \"name\": \"10.557\", \"showlegend\": false, \"x\": [\"2016-12-01\", \"2017-01-01\", \"2017-02-01\", \"2017-03-01\", \"2017-04-01\", \"2017-05-01\", \"2017-06-01\", \"2017-07-01\", \"2017-08-01\", \"2017-09-01\", \"2017-11-01\", \"2017-12-01\", \"2018-01-01\", \"2018-02-01\", \"2018-03-01\", \"2018-04-01\", \"2018-05-01\", \"2018-06-01\", \"2018-07-01\", \"2018-08-01\", \"2018-09-01\", \"2018-10-01\", \"2018-11-01\"], \"y\": [560909.0, 4766694.0, 39211599.0, 2728136335.0, 88273463.0, 5326283.0, 169543028.0, 2669344.0, 24972065.0, 9070784.0, 3358034.0, 14643710.0, 12040889.0, 49202652.0, 1020835011.0, 458682582.0, 611697.0, 352751162.0, 32692227.0, 8111890.0, 8097740.0, 1645106.0, 12261883.0], \"type\": \"scatter\", \"uid\": \"2267d518-fd67-11e8-86c2-b46bfca2d37e\", \"xaxis\": \"x13\", \"yaxis\": \"y13\"}, {\"legendgroup\": \"10.557\", \"marker\": {\"color\": \"lightskyblue\"}, \"name\": \"10.557\", \"showlegend\": false, \"x\": [\"2016-12-01\", \"2017-01-01\", \"2017-02-01\", \"2017-03-01\", \"2017-04-01\", \"2017-05-01\", \"2017-06-01\", \"2017-07-01\", \"2017-08-01\", \"2017-09-01\", \"2017-11-01\", \"2017-12-01\", \"2018-01-01\", \"2018-02-01\", \"2018-03-01\", \"2018-04-01\", \"2018-05-01\", \"2018-06-01\", \"2018-07-01\", \"2018-08-01\", \"2018-09-01\", \"2018-10-01\", \"2018-11-01\"], \"y\": [2.0, 11.0, 14.0, 49.0, 20.0, 5.6, 23.666666666666668, 2.0, 13.0, 25.846153846153847, 7.0, 3.0, 5.0, 3.0, 26.666666666666668, 13.0, 2.0, 24.0, 13.0, 5.0, 20.0, 3.0, 4.0], \"type\": \"scatter\", \"uid\": \"2267d519-fd67-11e8-b7bc-b46bfca2d37e\", \"xaxis\": \"x14\", \"yaxis\": \"y14\"}, {\"legendgroup\": \"10.558\", \"marker\": {\"color\": \"lightslategray\"}, \"name\": \"10.558\", \"showlegend\": false, \"x\": [\"2016-12-01\", \"2017-01-01\", \"2017-02-01\", \"2017-03-01\", \"2017-04-01\", \"2017-05-01\", \"2017-06-01\", \"2017-07-01\", \"2017-08-01\", \"2017-09-01\", \"2017-10-01\", \"2017-11-01\", \"2017-12-01\", \"2018-01-01\", \"2018-02-01\", \"2018-03-01\", \"2018-04-01\", \"2018-05-01\", \"2018-06-01\", \"2018-07-01\", \"2018-08-01\", \"2018-09-01\", \"2018-10-01\", \"2018-11-01\", \"2018-12-01\"], \"y\": [4743406.0, 20059341.0, 132052251.0, 913846505.0, 14130795.0, 16108040.0, 114829595.0, 17011165.0, 3734743.0, 19312104.0, 8982815.0, 8554089.0, 8033490.0, 34121403.0, 109809191.0, 853188582.0, 56719142.0, 2759729.0, 190889550.0, 14178595.0, 7592458.0, 22756534.0, 16289989.0, 5445571.0, 3559192.0], \"type\": \"scatter\", \"uid\": \"2267d51a-fd67-11e8-b0b6-b46bfca2d37e\", \"xaxis\": \"x13\", \"yaxis\": \"y13\"}, {\"legendgroup\": \"10.558\", \"marker\": {\"color\": \"lightslategray\"}, \"name\": \"10.558\", \"showlegend\": false, \"x\": [\"2016-12-01\", \"2017-01-01\", \"2017-02-01\", \"2017-03-01\", \"2017-04-01\", \"2017-05-01\", \"2017-06-01\", \"2017-07-01\", \"2017-08-01\", \"2017-09-01\", \"2017-10-01\", \"2017-11-01\", \"2017-12-01\", \"2018-01-01\", \"2018-02-01\", \"2018-03-01\", \"2018-04-01\", \"2018-05-01\", \"2018-06-01\", \"2018-07-01\", \"2018-08-01\", \"2018-09-01\", \"2018-10-01\", \"2018-11-01\", \"2018-12-01\"], \"y\": [4.0, 21.0, 13.0, 59.0, 8.0, 13.0, 35.0, 21.0, 16.0, 15.0, 2.666666666666667, 8.0, 12.0, 15.0, 13.6, 53.0, 7.0, 10.0, 29.0, 14.0, 12.0, 29.0, 16.0, 8.0, 4.0], \"type\": \"scatter\", \"uid\": \"226a389c-fd67-11e8-bc22-b46bfca2d37e\", \"xaxis\": \"x14\", \"yaxis\": \"y14\"}, {\"legendgroup\": \"10.559\", \"marker\": {\"color\": \"midnightblue\"}, \"name\": \"10.559\", \"showlegend\": false, \"x\": [\"2016-12-01\", \"2017-01-01\", \"2017-02-01\", \"2017-03-01\", \"2017-04-01\", \"2017-05-01\", \"2017-06-01\", \"2017-07-01\", \"2017-08-01\", \"2017-09-01\", \"2017-10-01\", \"2017-11-01\", \"2017-12-01\", \"2018-01-01\", \"2018-02-01\", \"2018-03-01\", \"2018-04-01\", \"2018-05-01\", \"2018-06-01\", \"2018-07-01\", \"2018-08-01\", \"2018-09-01\", \"2018-10-01\", \"2018-11-01\", \"2018-12-01\"], \"y\": [3586869.0, 4998614.0, 13586343.0, 151125700.0, 960875.0, 1825951.0, 20082456.0, 556945.0, 3918688.0, 1164046.0, 320439.0, 1276722.0, 70412832.0, 5459099.0, 12919049.0, 110947561.0, 25706430.0, 2706927.0, 26072201.0, 3586606.0, 594538.0, 318268.0, 1265688.0, 1426790.0, 904790.0], \"type\": \"scatter\", \"uid\": \"226a389d-fd67-11e8-b19c-b46bfca2d37e\", \"xaxis\": \"x13\", \"yaxis\": \"y13\"}, {\"legendgroup\": \"10.559\", \"marker\": {\"color\": \"midnightblue\"}, \"name\": \"10.559\", \"showlegend\": false, \"x\": [\"2016-12-01\", \"2017-01-01\", \"2017-02-01\", \"2017-03-01\", \"2017-04-01\", \"2017-05-01\", \"2017-06-01\", \"2017-07-01\", \"2017-08-01\", \"2017-09-01\", \"2017-10-01\", \"2017-11-01\", \"2017-12-01\", \"2018-01-01\", \"2018-02-01\", \"2018-03-01\", \"2018-04-01\", \"2018-05-01\", \"2018-06-01\", \"2018-07-01\", \"2018-08-01\", \"2018-09-01\", \"2018-10-01\", \"2018-11-01\", \"2018-12-01\"], \"y\": [33.0, 61.0, 34.0, 114.0, 9.0, 23.0, 13.0, 10.0, 25.0, 38.0, 23.0, 39.0, 63.0, 65.0, 25.0, 105.0, 17.0, 42.666666666666664, 33.6, 24.0, 16.0, 15.0, 55.55555555555556, 52.0, 11.0], \"type\": \"scatter\", \"uid\": \"226a389e-fd67-11e8-8d0e-b46bfca2d37e\", \"xaxis\": \"x14\", \"yaxis\": \"y14\"}, {\"legendgroup\": \"10.561\", \"marker\": {\"color\": \"mediumpurple\"}, \"name\": \"10.561\", \"showlegend\": false, \"x\": [\"2016-12-01\", \"2017-01-01\", \"2017-02-01\", \"2017-03-01\", \"2017-04-01\", \"2017-05-01\", \"2017-06-01\", \"2017-07-01\", \"2017-08-01\", \"2017-09-01\", \"2017-11-01\", \"2017-12-01\", \"2018-01-01\", \"2018-02-01\", \"2018-03-01\", \"2018-04-01\", \"2018-05-01\", \"2018-06-01\", \"2018-07-01\", \"2018-08-01\", \"2018-09-01\", \"2018-10-01\", \"2018-11-01\", \"2018-12-01\"], \"y\": [406617314.0, 10216793.0, 135749213.0, 1472113918.0, 27753399.0, 66864818.0, 330692167.0, 9455870.0, 847110.0, 15813175.0, 25290596.0, 18213104.0, 6354728.0, 110773965.0, 1891917636.0, 55975401.0, 599377.0, 303245215.0, 1759523.0, 883105.0, 7662369.0, 359734.0, 11115141.0, 871038.0], \"type\": \"scatter\", \"uid\": \"226a389f-fd67-11e8-ad21-b46bfca2d37e\", \"xaxis\": \"x13\", \"yaxis\": \"y13\"}, {\"legendgroup\": \"10.561\", \"marker\": {\"color\": \"mediumpurple\"}, \"name\": \"10.561\", \"showlegend\": false, \"x\": [\"2016-12-01\", \"2017-01-01\", \"2017-02-01\", \"2017-03-01\", \"2017-04-01\", \"2017-05-01\", \"2017-06-01\", \"2017-07-01\", \"2017-08-01\", \"2017-09-01\", \"2017-11-01\", \"2017-12-01\", \"2018-01-01\", \"2018-02-01\", \"2018-03-01\", \"2018-04-01\", \"2018-05-01\", \"2018-06-01\", \"2018-07-01\", \"2018-08-01\", \"2018-09-01\", \"2018-10-01\", \"2018-11-01\", \"2018-12-01\"], \"y\": [2.0, 7.0, 8.0, 66.0, 3.0, 2.0, 20.0, 5.0, 8.0, 32.333333333333336, 6.0, 4.0, 4.0, 4.0, 48.0, 9.0, 4.0, 30.6, 4.0, 5.0, 28.266666666666666, 2.0, 4.0, 1.0], \"type\": \"scatter\", \"uid\": \"226c99a2-fd67-11e8-a09d-b46bfca2d37e\", \"xaxis\": \"x14\", \"yaxis\": \"y14\"}, {\"legendgroup\": \"10.565\", \"marker\": {\"color\": \"red\"}, \"name\": \"10.565\", \"showlegend\": false, \"x\": [\"2016-12-01\", \"2017-01-01\", \"2017-02-01\", \"2017-03-01\", \"2017-05-01\", \"2017-06-01\", \"2017-08-01\", \"2017-09-01\", \"2017-10-01\", \"2017-11-01\", \"2017-12-01\", \"2018-01-01\", \"2018-02-01\", \"2018-03-01\", \"2018-06-01\", \"2018-07-01\", \"2018-09-01\", \"2018-10-01\", \"2018-11-01\", \"2018-12-01\"], \"y\": [8073916.0, 570752.0, 2197564.0, 1980643.0, 682134.0, 1568539.0, 422711.0, 160588.0, 5019005.0, 1264692.0, 1645955.0, 3440441.0, 1053710.0, 4547290.0, 20861336.0, 507427.0, 534874.0, 3159871.0, 268127.0, 190398.0], \"type\": \"scatter\", \"uid\": \"226c99a3-fd67-11e8-a94e-b46bfca2d37e\", \"xaxis\": \"x13\", \"yaxis\": \"y13\"}, {\"legendgroup\": \"10.565\", \"marker\": {\"color\": \"red\"}, \"name\": \"10.565\", \"showlegend\": false, \"x\": [\"2016-12-01\", \"2017-01-01\", \"2017-02-01\", \"2017-03-01\", \"2017-05-01\", \"2017-06-01\", \"2017-08-01\", \"2017-09-01\", \"2017-10-01\", \"2017-11-01\", \"2017-12-01\", \"2018-01-01\", \"2018-02-01\", \"2018-03-01\", \"2018-06-01\", \"2018-07-01\", \"2018-09-01\", \"2018-10-01\", \"2018-11-01\", \"2018-12-01\"], \"y\": [6.0, 2.0, 8.0, 7.0, 2.0, 2.0, 1.0, 1.0, 3.0, 2.0, 5.0, 4.0, 5.0, 9.0, 5.0, 2.0, 1.0, 5.0, 2.0, 1.0], \"type\": \"scatter\", \"uid\": \"226c99a4-fd67-11e8-b7ef-b46bfca2d37e\", \"xaxis\": \"x14\", \"yaxis\": \"y14\"}, {\"legendgroup\": \"10.568\", \"marker\": {\"color\": \"mediumturquoise\"}, \"name\": \"10.568\", \"showlegend\": false, \"x\": [\"2016-12-01\", \"2017-01-01\", \"2017-02-01\", \"2017-03-01\", \"2017-05-01\", \"2017-06-01\", \"2017-07-01\", \"2017-09-01\", \"2017-10-01\", \"2017-11-01\", \"2017-12-01\", \"2018-01-01\", \"2018-02-01\", \"2018-03-01\", \"2018-05-01\", \"2018-06-01\", \"2018-07-01\", \"2018-08-01\", \"2018-09-01\", \"2018-10-01\", \"2018-11-01\", \"2018-12-01\"], \"y\": [2200520.0, 550339.0, 452691.0, 729461.0, 1886743.0, 313123.0, 699867.0, 1033893.0, 299057.0, 1022362.0, 2983512.0, 1123460.0, 678639.0, 1603662.0, 343027.0, 5664738.0, 74271.0, 116196.0, 668907.0, 805782.0, 1806632.0, 112622.0], \"type\": \"scatter\", \"uid\": \"226efc34-fd67-11e8-928f-b46bfca2d37e\", \"xaxis\": \"x13\", \"yaxis\": \"y13\"}, {\"legendgroup\": \"10.568\", \"marker\": {\"color\": \"mediumturquoise\"}, \"name\": \"10.568\", \"showlegend\": false, \"x\": [\"2016-12-01\", \"2017-01-01\", \"2017-02-01\", \"2017-03-01\", \"2017-05-01\", \"2017-06-01\", \"2017-07-01\", \"2017-09-01\", \"2017-10-01\", \"2017-11-01\", \"2017-12-01\", \"2018-01-01\", \"2018-02-01\", \"2018-03-01\", \"2018-05-01\", \"2018-06-01\", \"2018-07-01\", \"2018-08-01\", \"2018-09-01\", \"2018-10-01\", \"2018-11-01\", \"2018-12-01\"], \"y\": [4.0, 4.0, 5.0, 8.0, 6.0, 2.0, 4.0, 4.0, 1.0, 7.0, 4.0, 6.0, 2.0, 9.0, 2.0, 5.0, 3.0, 2.0, 6.0, 5.0, 3.0, 1.0], \"type\": \"scatter\", \"uid\": \"226efc35-fd67-11e8-a035-b46bfca2d37e\", \"xaxis\": \"x14\", \"yaxis\": \"y14\"}, {\"legendgroup\": \"10.569\", \"marker\": {\"color\": \"olive\"}, \"name\": \"10.569\", \"showlegend\": false, \"x\": [\"2016-12-01\", \"2017-01-01\", \"2017-02-01\", \"2017-03-01\", \"2017-04-01\", \"2017-05-01\", \"2017-07-01\", \"2017-08-01\", \"2017-09-01\", \"2017-10-01\", \"2017-11-01\", \"2017-12-01\", \"2018-01-01\", \"2018-02-01\", \"2018-03-01\", \"2018-04-01\", \"2018-05-01\", \"2018-06-01\", \"2018-07-01\", \"2018-08-01\", \"2018-09-01\", \"2018-10-01\", \"2018-11-01\", \"2018-12-01\"], \"y\": [22740893.0, 8837071.0, 5583108.0, 8213048.0, 968334.0, 10662112.0, 19876642.0, 47154.0, 12000509.0, 863491.0, 14107854.0, 54342984.0, 18542272.0, 14624967.0, 35957174.0, 7612194.0, 6707513.0, 18247132.0, 4990846.0, 1616946.0, 9549447.0, 12763746.0, 24589094.0, 945592.0], \"type\": \"scatter\", \"uid\": \"226efc36-fd67-11e8-bc6a-b46bfca2d37e\", \"xaxis\": \"x13\", \"yaxis\": \"y13\"}, {\"legendgroup\": \"10.569\", \"marker\": {\"color\": \"olive\"}, \"name\": \"10.569\", \"showlegend\": false, \"x\": [\"2016-12-01\", \"2017-01-01\", \"2017-02-01\", \"2017-03-01\", \"2017-04-01\", \"2017-05-01\", \"2017-07-01\", \"2017-08-01\", \"2017-09-01\", \"2017-10-01\", \"2017-11-01\", \"2017-12-01\", \"2018-01-01\", \"2018-02-01\", \"2018-03-01\", \"2018-04-01\", \"2018-05-01\", \"2018-06-01\", \"2018-07-01\", \"2018-08-01\", \"2018-09-01\", \"2018-10-01\", \"2018-11-01\", \"2018-12-01\"], \"y\": [4.0, 8.0, 6.0, 7.0, 2.0, 8.0, 7.0, 1.0, 6.0, 1.0, 12.0, 5.0, 8.0, 6.0, 13.0, 5.0, 1.0, 5.0, 6.0, 4.0, 10.0, 9.0, 6.0, 1.0], \"type\": \"scatter\", \"uid\": \"226efc37-fd67-11e8-b1ba-b46bfca2d37e\", \"xaxis\": \"x14\", \"yaxis\": \"y14\"}, {\"legendgroup\": \"10.582\", \"marker\": {\"color\": \"burlywood\"}, \"name\": \"10.582\", \"showlegend\": false, \"x\": [\"2016-12-01\", \"2017-01-01\", \"2017-02-01\", \"2017-03-01\", \"2017-06-01\", \"2017-07-01\", \"2017-08-01\", \"2017-11-01\", \"2017-12-01\", \"2018-01-01\", \"2018-02-01\", \"2018-03-01\", \"2018-04-01\", \"2018-07-01\", \"2018-08-01\", \"2018-10-01\", \"2018-11-01\"], \"y\": [28806.0, 167207.0, 79407.0, 325167.0, 61555.0, 10389.0, 42191.0, 192353.0, 201336.0, 21477.0, 58884.0, 57282.0, 23779.0, 20744.0, 39272.0, 55992.0, 22256.0], \"type\": \"scatter\", \"uid\": \"22722a66-fd67-11e8-9fb9-b46bfca2d37e\", \"xaxis\": \"x13\", \"yaxis\": \"y13\"}, {\"legendgroup\": \"10.582\", \"marker\": {\"color\": \"burlywood\"}, \"name\": \"10.582\", \"showlegend\": false, \"x\": [\"2016-12-01\", \"2017-01-01\", \"2017-02-01\", \"2017-03-01\", \"2017-06-01\", \"2017-07-01\", \"2017-08-01\", \"2017-11-01\", \"2017-12-01\", \"2018-01-01\", \"2018-02-01\", \"2018-03-01\", \"2018-04-01\", \"2018-07-01\", \"2018-08-01\", \"2018-10-01\", \"2018-11-01\"], \"y\": [3.0, 6.0, 4.0, 6.0, 1.0, 1.0, 4.0, 3.0, 6.0, 4.0, 1.0, 10.0, 1.0, 11.0, 9.0, 4.0, 2.0], \"type\": \"scatter\", \"uid\": \"227314ec-fd67-11e8-8bd3-b46bfca2d37e\", \"xaxis\": \"x14\", \"yaxis\": \"y14\"}, {\"legendgroup\": \"10.574\", \"marker\": {\"color\": \"black\"}, \"name\": \"10.574\", \"showlegend\": false, \"x\": [\"2017-01-01\", \"2017-03-01\", \"2017-10-01\", \"2018-03-01\", \"2018-08-01\", \"2018-11-01\"], \"y\": [100.0, 647.0, 4424.0, 750.0, 950.0, 176676.0], \"type\": \"scatter\", \"uid\": \"2273ff64-fd67-11e8-9f32-b46bfca2d37e\", \"xaxis\": \"x13\", \"yaxis\": \"y13\"}, {\"legendgroup\": \"10.574\", \"marker\": {\"color\": \"black\"}, \"name\": \"10.574\", \"showlegend\": false, \"x\": [\"2017-01-01\", \"2017-03-01\", \"2017-10-01\", \"2018-03-01\", \"2018-08-01\", \"2018-11-01\"], \"y\": [1.0, 1.0, 1.0, 1.0, 2.0, 1.0], \"type\": \"scatter\", \"uid\": \"2274844a-fd67-11e8-a633-b46bfca2d37e\", \"xaxis\": \"x14\", \"yaxis\": \"y14\"}, {\"legendgroup\": \"10.579\", \"marker\": {\"color\": \"blueviolet\"}, \"name\": \"10.579\", \"showlegend\": false, \"x\": [\"2017-01-01\", \"2017-02-01\", \"2017-03-01\", \"2017-04-01\", \"2017-11-01\", \"2017-12-01\", \"2018-01-01\", \"2018-02-01\", \"2018-11-01\", \"2018-12-01\"], \"y\": [32360.0, 25330.0, 36538.0, 6472.0, 21805.0, 49532.0, 9431.0, 18498.0, 20604.0, 55000.0], \"type\": \"scatter\", \"uid\": \"2274844b-fd67-11e8-b715-b46bfca2d37e\", \"xaxis\": \"x13\", \"yaxis\": \"y13\"}, {\"legendgroup\": \"10.579\", \"marker\": {\"color\": \"blueviolet\"}, \"name\": \"10.579\", \"showlegend\": false, \"x\": [\"2017-01-01\", \"2017-02-01\", \"2017-03-01\", \"2017-04-01\", \"2017-11-01\", \"2017-12-01\", \"2018-01-01\", \"2018-02-01\", \"2018-11-01\", \"2018-12-01\"], \"y\": [4.0, 1.0, 1.0, 2.0, 3.0, 4.0, 1.0, 1.0, 1.0, 4.0], \"type\": \"scatter\", \"uid\": \"2274844c-fd67-11e8-adc2-b46bfca2d37e\", \"xaxis\": \"x14\", \"yaxis\": \"y14\"}, {\"legendgroup\": \"10.597\", \"marker\": {\"color\": \"crimson\"}, \"name\": \"10.597\", \"showlegend\": false, \"x\": [\"2017-02-01\", \"2017-11-01\", \"2018-03-01\"], \"y\": [356347.0, 13562.0, 656385.0], \"type\": \"scatter\", \"uid\": \"22779c66-fd67-11e8-9626-b46bfca2d37e\", \"xaxis\": \"x13\", \"yaxis\": \"y13\"}, {\"legendgroup\": \"10.597\", \"marker\": {\"color\": \"crimson\"}, \"name\": \"10.597\", \"showlegend\": false, \"x\": [\"2017-02-01\", \"2017-11-01\", \"2018-03-01\"], \"y\": [6.0, 2.0, 1.0], \"type\": \"scatter\", \"uid\": \"227838ae-fd67-11e8-bee6-b46bfca2d37e\", \"xaxis\": \"x14\", \"yaxis\": \"y14\"}, {\"legendgroup\": \"10.560\", \"marker\": {\"color\": \"lightsteelblue\"}, \"name\": \"10.560\", \"showlegend\": false, \"x\": [\"2017-03-01\", \"2018-03-01\"], \"y\": [43917485.0, 38198961.0], \"type\": \"scatter\", \"uid\": \"22794a2e-fd67-11e8-a368-b46bfca2d37e\", \"xaxis\": \"x13\", \"yaxis\": \"y13\"}, {\"legendgroup\": \"10.560\", \"marker\": {\"color\": \"lightsteelblue\"}, \"name\": \"10.560\", \"showlegend\": false, \"x\": [\"2017-03-01\", \"2018-03-01\"], \"y\": [5.0, 6.0], \"type\": \"scatter\", \"uid\": \"2279e662-fd67-11e8-b25b-b46bfca2d37e\", \"xaxis\": \"x14\", \"yaxis\": \"y14\"}, {\"legendgroup\": \"10.572\", \"marker\": {\"color\": \"bisque\"}, \"name\": \"10.572\", \"showlegend\": false, \"x\": [\"2017-03-01\"], \"y\": [667328.0], \"type\": \"scatter\", \"uid\": \"227a82a2-fd67-11e8-94a3-b46bfca2d37e\", \"xaxis\": \"x13\", \"yaxis\": \"y13\"}, {\"legendgroup\": \"10.572\", \"marker\": {\"color\": \"bisque\"}, \"name\": \"10.572\", \"showlegend\": false, \"x\": [\"2017-03-01\"], \"y\": [2.0], \"type\": \"scatter\", \"uid\": \"227b1efa-fd67-11e8-a8ca-b46bfca2d37e\", \"xaxis\": \"x14\", \"yaxis\": \"y14\"}, {\"legendgroup\": \"10.575\", \"marker\": {\"color\": \"rosybrown\"}, \"name\": \"10.575\", \"showlegend\": false, \"x\": [\"2017-03-01\", \"2018-03-01\", \"2018-08-01\"], \"y\": [8598.0, 11671.0, 7444.0], \"type\": \"scatter\", \"uid\": \"227bcec0-fd67-11e8-acfb-b46bfca2d37e\", \"xaxis\": \"x13\", \"yaxis\": \"y13\"}, {\"legendgroup\": \"10.575\", \"marker\": {\"color\": \"rosybrown\"}, \"name\": \"10.575\", \"showlegend\": false, \"x\": [\"2017-03-01\", \"2018-03-01\", \"2018-08-01\"], \"y\": [4.0, 1.0, 2.0], \"type\": \"scatter\", \"uid\": \"227c3086-fd67-11e8-b8fc-b46bfca2d37e\", \"xaxis\": \"x14\", \"yaxis\": \"y14\"}, {\"legendgroup\": \"10.576\", \"marker\": {\"color\": \"blue\"}, \"name\": \"10.576\", \"showlegend\": false, \"x\": [\"2017-03-01\"], \"y\": [904966.0], \"type\": \"scatter\", \"uid\": \"227c3087-fd67-11e8-91ac-b46bfca2d37e\", \"xaxis\": \"x13\", \"yaxis\": \"y13\"}, {\"legendgroup\": \"10.576\", \"marker\": {\"color\": \"blue\"}, \"name\": \"10.576\", \"showlegend\": false, \"x\": [\"2017-03-01\"], \"y\": [1.0], \"type\": \"scatter\", \"uid\": \"227c3088-fd67-11e8-9414-b46bfca2d37e\", \"xaxis\": \"x14\", \"yaxis\": \"y14\"}, {\"legendgroup\": \"10.580\", \"marker\": {\"color\": \"brown\"}, \"name\": \"10.580\", \"showlegend\": false, \"x\": [\"2017-03-01\", \"2017-07-01\", \"2018-03-01\"], \"y\": [5814.0, 87.0, 56467.0], \"type\": \"scatter\", \"uid\": \"227ee97e-fd67-11e8-aa9a-b46bfca2d37e\", \"xaxis\": \"x13\", \"yaxis\": \"y13\"}, {\"legendgroup\": \"10.580\", \"marker\": {\"color\": \"brown\"}, \"name\": \"10.580\", \"showlegend\": false, \"x\": [\"2017-03-01\", \"2017-07-01\", \"2018-03-01\"], \"y\": [2.0, 1.0, 1.0], \"type\": \"scatter\", \"uid\": \"227f85ca-fd67-11e8-9ea7-b46bfca2d37e\", \"xaxis\": \"x14\", \"yaxis\": \"y14\"}, {\"legendgroup\": \"10.585\", \"marker\": {\"color\": \"cadetblue\"}, \"name\": \"10.585\", \"showlegend\": false, \"x\": [\"2017-03-01\", \"2018-03-01\"], \"y\": [43926.0, 31993.0], \"type\": \"scatter\", \"uid\": \"22804934-fd67-11e8-bf1f-b46bfca2d37e\", \"xaxis\": \"x13\", \"yaxis\": \"y13\"}, {\"legendgroup\": \"10.585\", \"marker\": {\"color\": \"cadetblue\"}, \"name\": \"10.585\", \"showlegend\": false, \"x\": [\"2017-03-01\", \"2018-03-01\"], \"y\": [1.0, 1.0], \"type\": \"scatter\", \"uid\": \"2280e57a-fd67-11e8-9355-b46bfca2d37e\", \"xaxis\": \"x14\", \"yaxis\": \"y14\"}, {\"legendgroup\": \"10.596\", \"marker\": {\"color\": \"plum\"}, \"name\": \"10.596\", \"showlegend\": false, \"x\": [\"2017-03-01\", \"2017-11-01\", \"2018-03-01\", \"2018-08-01\", \"2018-11-01\"], \"y\": [3246159.0, 48624.0, 6179402.0, 233579.0, 64205.0], \"type\": \"scatter\", \"uid\": \"2281a8b6-fd67-11e8-83ce-b46bfca2d37e\", \"xaxis\": \"x13\", \"yaxis\": \"y13\"}, {\"legendgroup\": \"10.596\", \"marker\": {\"color\": \"plum\"}, \"name\": \"10.596\", \"showlegend\": false, \"x\": [\"2017-03-01\", \"2017-11-01\", \"2018-03-01\", \"2018-08-01\", \"2018-11-01\"], \"y\": [1.0, 2.0, 1.0, 2.0, 1.0], \"type\": \"scatter\", \"uid\": \"228244f4-fd67-11e8-b2ce-b46bfca2d37e\", \"xaxis\": \"x14\", \"yaxis\": \"y14\"}, {\"legendgroup\": \"10.566\", \"marker\": {\"color\": \"aqua\"}, \"name\": \"10.566\", \"showlegend\": false, \"x\": [\"2017-05-01\"], \"y\": [1974029526.0], \"type\": \"scatter\", \"uid\": \"22830824-fd67-11e8-9db4-b46bfca2d37e\", \"xaxis\": \"x13\", \"yaxis\": \"y13\"}, {\"legendgroup\": \"10.566\", \"marker\": {\"color\": \"aqua\"}, \"name\": \"10.566\", \"showlegend\": false, \"x\": [\"2017-05-01\"], \"y\": [5.0], \"type\": \"scatter\", \"uid\": \"2283a930-fd67-11e8-abff-b46bfca2d37e\", \"xaxis\": \"x14\", \"yaxis\": \"y14\"}, {\"legendgroup\": \"10.567\", \"marker\": {\"color\": \"aquamarine\"}, \"name\": \"10.567\", \"showlegend\": false, \"x\": [\"2017-06-01\", \"2017-09-01\", \"2017-12-01\", \"2018-02-01\", \"2018-04-01\", \"2018-06-01\", \"2018-07-01\", \"2018-10-01\", \"2018-11-01\"], \"y\": [9680759.0, 855140.0, 1604933.0, 198767.0, 327248.0, 9553796.0, 371808.0, 1043843.0, 867060.0], \"type\": \"scatter\", \"uid\": \"2283a931-fd67-11e8-b0db-b46bfca2d37e\", \"xaxis\": \"x13\", \"yaxis\": \"y13\"}, {\"legendgroup\": \"10.567\", \"marker\": {\"color\": \"aquamarine\"}, \"name\": \"10.567\", \"showlegend\": false, \"x\": [\"2017-06-01\", \"2017-09-01\", \"2017-12-01\", \"2018-02-01\", \"2018-04-01\", \"2018-06-01\", \"2018-07-01\", \"2018-10-01\", \"2018-11-01\"], \"y\": [4.0, 3.0, 1.0, 10.0, 10.0, 15.0, 11.0, 8.0, 4.0], \"type\": \"scatter\", \"uid\": \"2283a932-fd67-11e8-beec-b46bfca2d37e\", \"xaxis\": \"x14\", \"yaxis\": \"y14\"}, {\"legendgroup\": \"10.593\", \"marker\": {\"color\": \"cornflowerblue\"}, \"name\": \"10.593\", \"showlegend\": false, \"x\": [\"2017-06-01\", \"2018-03-01\"], \"y\": [2255083.0, 1733922.0], \"type\": \"scatter\", \"uid\": \"2283a933-fd67-11e8-b895-b46bfca2d37e\", \"xaxis\": \"x13\", \"yaxis\": \"y13\"}, {\"legendgroup\": \"10.593\", \"marker\": {\"color\": \"cornflowerblue\"}, \"name\": \"10.593\", \"showlegend\": false, \"x\": [\"2017-06-01\", \"2018-03-01\"], \"y\": [5.0, 2.0], \"type\": \"scatter\", \"uid\": \"22860bf6-fd67-11e8-b5d4-b46bfca2d37e\", \"xaxis\": \"x14\", \"yaxis\": \"y14\"}, {\"legendgroup\": \"10.533\", \"marker\": {\"color\": \"mediumvioletred\"}, \"name\": \"10.533\", \"showlegend\": false, \"x\": [\"2017-10-01\", \"2018-07-01\"], \"y\": [231872.0, 48723.0], \"type\": \"scatter\", \"uid\": \"22860bf7-fd67-11e8-a781-b46bfca2d37e\", \"xaxis\": \"x13\", \"yaxis\": \"y13\"}, {\"legendgroup\": \"10.533\", \"marker\": {\"color\": \"mediumvioletred\"}, \"name\": \"10.533\", \"showlegend\": false, \"x\": [\"2017-10-01\", \"2018-07-01\"], \"y\": [2.0, 3.0], \"type\": \"scatter\", \"uid\": \"22886e06-fd67-11e8-9d85-b46bfca2d37e\", \"xaxis\": \"x14\", \"yaxis\": \"y14\"}, {\"legendgroup\": \"10.592\", \"marker\": {\"color\": \"coral\"}, \"name\": \"10.592\", \"showlegend\": false, \"x\": [\"2018-03-01\"], \"y\": [234.0], \"type\": \"scatter\", \"uid\": \"22886e07-fd67-11e8-aeae-b46bfca2d37e\", \"xaxis\": \"x13\", \"yaxis\": \"y13\"}, {\"legendgroup\": \"10.592\", \"marker\": {\"color\": \"coral\"}, \"name\": \"10.592\", \"showlegend\": false, \"x\": [\"2018-03-01\"], \"y\": [1.0], \"type\": \"scatter\", \"uid\": \"22886e08-fd67-11e8-9e7d-b46bfca2d37e\", \"xaxis\": \"x14\", \"yaxis\": \"y14\"}, {\"legendgroup\": \"10.664\", \"marker\": {\"color\": \"darkorange\"}, \"name\": \"10.664\", \"showlegend\": false, \"x\": [\"2017-01-01\", \"2017-03-01\", \"2017-11-01\", \"2018-01-01\", \"2018-02-01\", \"2018-03-01\", \"2018-04-01\", \"2018-09-01\"], \"y\": [4266109.0, 2401656.0, 657287.0, 4140867.0, 1481.0, 203816.0, 786207.0, 1974.0], \"type\": \"scatter\", \"uid\": \"22886e09-fd67-11e8-8617-b46bfca2d37e\", \"xaxis\": \"x15\", \"yaxis\": \"y15\"}, {\"legendgroup\": \"10.664\", \"marker\": {\"color\": \"darkorange\"}, \"name\": \"10.664\", \"showlegend\": false, \"x\": [\"2017-01-01\", \"2017-03-01\", \"2017-11-01\", \"2018-01-01\", \"2018-02-01\", \"2018-03-01\", \"2018-04-01\", \"2018-09-01\"], \"y\": [3.0, 6.0, 3.0, 3.0, 2.0, 6.0, 1.0, 3.0], \"type\": \"scatter\", \"uid\": \"228ad0ee-fd67-11e8-8563-b46bfca2d37e\", \"xaxis\": \"x16\", \"yaxis\": \"y16\"}, {\"legendgroup\": \"10.665\", \"marker\": {\"color\": \"darkorchid\"}, \"name\": \"10.665\", \"showlegend\": false, \"x\": [\"2017-01-01\", \"2017-02-01\", \"2017-03-01\", \"2017-04-01\", \"2017-06-01\", \"2017-07-01\", \"2017-08-01\", \"2017-09-01\", \"2017-12-01\", \"2018-01-01\", \"2018-02-01\", \"2018-03-01\", \"2018-04-01\", \"2018-07-01\", \"2018-08-01\", \"2018-09-01\", \"2018-10-01\"], \"y\": [1320905.0, 787451.0, 4366559.0, 2588229.0, 1871980.0, 1080002.0, 7725.0, 1398178.0, 2453973.0, 20262.0, 232.0, 20476252.0, 749268.0, 535063.0, 2071260.0, 1600406.0, 2612859.0], \"type\": \"scatter\", \"uid\": \"228ad0ef-fd67-11e8-8beb-b46bfca2d37e\", \"xaxis\": \"x15\", \"yaxis\": \"y15\"}, {\"legendgroup\": \"10.665\", \"marker\": {\"color\": \"darkorchid\"}, \"name\": \"10.665\", \"showlegend\": false, \"x\": [\"2017-01-01\", \"2017-02-01\", \"2017-03-01\", \"2017-04-01\", \"2017-06-01\", \"2017-07-01\", \"2017-08-01\", \"2017-09-01\", \"2017-12-01\", \"2018-01-01\", \"2018-02-01\", \"2018-03-01\", \"2018-04-01\", \"2018-07-01\", \"2018-08-01\", \"2018-09-01\", \"2018-10-01\"], \"y\": [9.0, 4.0, 3.0, 1.0, 1.0, 8.0, 2.0, 7.0, 9.0, 3.0, 2.0, 4.0, 2.0, 1.0, 9.0, 7.0, 3.0], \"type\": \"scatter\", \"uid\": \"228ad0f0-fd67-11e8-96e6-b46bfca2d37e\", \"xaxis\": \"x16\", \"yaxis\": \"y16\"}, {\"legendgroup\": \"10.678\", \"marker\": {\"color\": \"darkslategray\"}, \"name\": \"10.678\", \"showlegend\": false, \"x\": [\"2017-01-01\", \"2017-03-01\", \"2018-01-01\", \"2018-02-01\", \"2018-03-01\"], \"y\": [50772.0, 213157.0, 24022.0, 6719.0, 209170.0], \"type\": \"scatter\", \"uid\": \"228d32b0-fd67-11e8-a6e7-b46bfca2d37e\", \"xaxis\": \"x15\", \"yaxis\": \"y15\"}, {\"legendgroup\": \"10.678\", \"marker\": {\"color\": \"darkslategray\"}, \"name\": \"10.678\", \"showlegend\": false, \"x\": [\"2017-01-01\", \"2017-03-01\", \"2018-01-01\", \"2018-02-01\", \"2018-03-01\"], \"y\": [2.0, 5.0, 3.0, 2.0, 5.0], \"type\": \"scatter\", \"uid\": \"228d32b1-fd67-11e8-949f-b46bfca2d37e\", \"xaxis\": \"x16\", \"yaxis\": \"y16\"}, {\"legendgroup\": \"10.679\", \"marker\": {\"color\": \"darkslategrey\"}, \"name\": \"10.679\", \"showlegend\": false, \"x\": [\"2017-01-01\", \"2017-02-01\", \"2018-01-01\", \"2018-02-01\"], \"y\": [21935.0, 59907.0, 40329.0, 30616.0], \"type\": \"scatter\", \"uid\": \"228d32b2-fd67-11e8-898e-b46bfca2d37e\", \"xaxis\": \"x15\", \"yaxis\": \"y15\"}, {\"legendgroup\": \"10.679\", \"marker\": {\"color\": \"darkslategrey\"}, \"name\": \"10.679\", \"showlegend\": false, \"x\": [\"2017-01-01\", \"2017-02-01\", \"2018-01-01\", \"2018-02-01\"], \"y\": [2.0, 1.0, 3.0, 1.0], \"type\": \"scatter\", \"uid\": \"228d32b3-fd67-11e8-843b-b46bfca2d37e\", \"xaxis\": \"x16\", \"yaxis\": \"y16\"}, {\"legendgroup\": \"10.680\", \"marker\": {\"color\": \"darkturquoise\"}, \"name\": \"10.680\", \"showlegend\": false, \"x\": [\"2017-01-01\", \"2017-02-01\", \"2017-03-01\", \"2018-01-01\", \"2018-03-01\", \"2018-04-01\"], \"y\": [95708.0, 44787.0, 5414237.0, 39118.0, 988844.0, 5816218.0], \"type\": \"scatter\", \"uid\": \"228fc3a8-fd67-11e8-b106-b46bfca2d37e\", \"xaxis\": \"x15\", \"yaxis\": \"y15\"}, {\"legendgroup\": \"10.680\", \"marker\": {\"color\": \"darkturquoise\"}, \"name\": \"10.680\", \"showlegend\": false, \"x\": [\"2017-01-01\", \"2017-02-01\", \"2017-03-01\", \"2018-01-01\", \"2018-03-01\", \"2018-04-01\"], \"y\": [2.0, 6.0, 6.0, 3.0, 7.0, 4.0], \"type\": \"scatter\", \"uid\": \"22905fe2-fd67-11e8-81e8-b46bfca2d37e\", \"xaxis\": \"x16\", \"yaxis\": \"y16\"}, {\"legendgroup\": \"10.682\", \"marker\": {\"color\": \"darkviolet\"}, \"name\": \"10.682\", \"showlegend\": false, \"x\": [\"2017-01-01\", \"2017-03-01\", \"2018-02-01\", \"2018-03-01\"], \"y\": [8277.0, 181729.0, 11736.0, 448059.0], \"type\": \"scatter\", \"uid\": \"2290d512-fd67-11e8-9af4-b46bfca2d37e\", \"xaxis\": \"x15\", \"yaxis\": \"y15\"}, {\"legendgroup\": \"10.682\", \"marker\": {\"color\": \"darkviolet\"}, \"name\": \"10.682\", \"showlegend\": false, \"x\": [\"2017-01-01\", \"2017-03-01\", \"2018-02-01\", \"2018-03-01\"], \"y\": [2.0, 1.0, 2.0, 1.0], \"type\": \"scatter\", \"uid\": \"2291715a-fd67-11e8-84ec-b46bfca2d37e\", \"xaxis\": \"x16\", \"yaxis\": \"y16\"}, {\"legendgroup\": \"10.683\", \"marker\": {\"color\": \"deeppink\"}, \"name\": \"10.683\", \"showlegend\": false, \"x\": [\"2017-01-01\", \"2018-01-01\", \"2018-02-01\"], \"y\": [329149.0, 212547.0, 474093.0], \"type\": \"scatter\", \"uid\": \"22920d98-fd67-11e8-8b0c-b46bfca2d37e\", \"xaxis\": \"x15\", \"yaxis\": \"y15\"}, {\"legendgroup\": \"10.683\", \"marker\": {\"color\": \"deeppink\"}, \"name\": \"10.683\", \"showlegend\": false, \"x\": [\"2017-01-01\", \"2018-01-01\", \"2018-02-01\"], \"y\": [2.0, 3.0, 2.0], \"type\": \"scatter\", \"uid\": \"229282cc-fd67-11e8-9114-b46bfca2d37e\", \"xaxis\": \"x16\", \"yaxis\": \"y16\"}, {\"legendgroup\": \"10.684\", \"marker\": {\"color\": \"deepskyblue\"}, \"name\": \"10.684\", \"showlegend\": false, \"x\": [\"2017-01-01\", \"2018-01-01\"], \"y\": [107161.0, 88148.0], \"type\": \"scatter\", \"uid\": \"2293230a-fd67-11e8-82ee-b46bfca2d37e\", \"xaxis\": \"x15\", \"yaxis\": \"y15\"}, {\"legendgroup\": \"10.684\", \"marker\": {\"color\": \"deepskyblue\"}, \"name\": \"10.684\", \"showlegend\": false, \"x\": [\"2017-01-01\", \"2018-01-01\"], \"y\": [2.0, 3.0], \"type\": \"scatter\", \"uid\": \"2293230b-fd67-11e8-942a-b46bfca2d37e\", \"xaxis\": \"x16\", \"yaxis\": \"y16\"}, {\"legendgroup\": \"10.693\", \"marker\": {\"color\": \"firebrick\"}, \"name\": \"10.693\", \"showlegend\": false, \"x\": [\"2017-01-01\"], \"y\": [49158.0], \"type\": \"scatter\", \"uid\": \"2293230c-fd67-11e8-a665-b46bfca2d37e\", \"xaxis\": \"x15\", \"yaxis\": \"y15\"}, {\"legendgroup\": \"10.693\", \"marker\": {\"color\": \"firebrick\"}, \"name\": \"10.693\", \"showlegend\": false, \"x\": [\"2017-01-01\"], \"y\": [2.0], \"type\": \"scatter\", \"uid\": \"2293230d-fd67-11e8-86be-b46bfca2d37e\", \"xaxis\": \"x16\", \"yaxis\": \"y16\"}, {\"legendgroup\": \"10.652\", \"marker\": {\"color\": \"darkolivegreen\"}, \"name\": \"10.652\", \"showlegend\": false, \"x\": [\"2017-02-01\", \"2017-03-01\", \"2017-12-01\", \"2018-02-01\", \"2018-03-01\", \"2018-05-01\"], \"y\": [1292.0, 249839.0, 27046.0, 583.0, 770941.0, 5492.0], \"type\": \"scatter\", \"uid\": \"229585b8-fd67-11e8-b92e-b46bfca2d37e\", \"xaxis\": \"x15\", \"yaxis\": \"y15\"}, {\"legendgroup\": \"10.652\", \"marker\": {\"color\": \"darkolivegreen\"}, \"name\": \"10.652\", \"showlegend\": false, \"x\": [\"2017-02-01\", \"2017-03-01\", \"2017-12-01\", \"2018-02-01\", \"2018-03-01\", \"2018-05-01\"], \"y\": [10.0, 7.0, 1.0, 3.0, 6.0, 5.0], \"type\": \"scatter\", \"uid\": \"229585b9-fd67-11e8-b346-b46bfca2d37e\", \"xaxis\": \"x16\", \"yaxis\": \"y16\"}, {\"legendgroup\": \"10.674\", \"marker\": {\"color\": \"darkseagreen\"}, \"name\": \"10.674\", \"showlegend\": false, \"x\": [\"2017-02-01\", \"2017-03-01\", \"2018-03-01\", \"2018-05-01\"], \"y\": [43606.0, 107928.0, 332622.0, 64953.0], \"type\": \"scatter\", \"uid\": \"229585ba-fd67-11e8-93fb-b46bfca2d37e\", \"xaxis\": \"x15\", \"yaxis\": \"y15\"}, {\"legendgroup\": \"10.674\", \"marker\": {\"color\": \"darkseagreen\"}, \"name\": \"10.674\", \"showlegend\": false, \"x\": [\"2017-02-01\", \"2017-03-01\", \"2018-03-01\", \"2018-05-01\"], \"y\": [6.0, 3.0, 6.0, 5.0], \"type\": \"scatter\", \"uid\": \"229585bb-fd67-11e8-8b8e-b46bfca2d37e\", \"xaxis\": \"x16\", \"yaxis\": \"y16\"}, {\"legendgroup\": \"10.675\", \"marker\": {\"color\": \"darkslateblue\"}, \"name\": \"10.675\", \"showlegend\": false, \"x\": [\"2017-02-01\", \"2017-03-01\", \"2017-04-01\", \"2017-11-01\", \"2018-03-01\", \"2018-05-01\", \"2018-09-01\"], \"y\": [631092.0, 465599.0, 9649.0, 14637.0, 558777.0, 284218.0, 201425.0], \"type\": \"scatter\", \"uid\": \"2297e7f6-fd67-11e8-82ee-b46bfca2d37e\", \"xaxis\": \"x15\", \"yaxis\": \"y15\"}, {\"legendgroup\": \"10.675\", \"marker\": {\"color\": \"darkslateblue\"}, \"name\": \"10.675\", \"showlegend\": false, \"x\": [\"2017-02-01\", \"2017-03-01\", \"2017-04-01\", \"2017-11-01\", \"2018-03-01\", \"2018-05-01\", \"2018-09-01\"], \"y\": [8.0, 9.0, 1.0, 2.0, 8.0, 1.0, 1.0], \"type\": \"scatter\", \"uid\": \"2297e7f7-fd67-11e8-8803-b46bfca2d37e\", \"xaxis\": \"x16\", \"yaxis\": \"y16\"}, {\"legendgroup\": \"10.672\", \"marker\": {\"color\": \"darkred\"}, \"name\": \"10.672\", \"showlegend\": false, \"x\": [\"2017-03-01\"], \"y\": [151642.0], \"type\": \"scatter\", \"uid\": \"2297e7f8-fd67-11e8-8749-b46bfca2d37e\", \"xaxis\": \"x15\", \"yaxis\": \"y15\"}, {\"legendgroup\": \"10.672\", \"marker\": {\"color\": \"darkred\"}, \"name\": \"10.672\", \"showlegend\": false, \"x\": [\"2017-03-01\"], \"y\": [1.0], \"type\": \"scatter\", \"uid\": \"2297e7f9-fd67-11e8-9db7-b46bfca2d37e\", \"xaxis\": \"x16\", \"yaxis\": \"y16\"}, {\"legendgroup\": \"10.690\", \"marker\": {\"color\": \"dimgrey\"}, \"name\": \"10.690\", \"showlegend\": false, \"x\": [\"2017-03-01\", \"2018-03-01\"], \"y\": [35528.0, 27735.0], \"type\": \"scatter\", \"uid\": \"229a4a76-fd67-11e8-9ec8-b46bfca2d37e\", \"xaxis\": \"x15\", \"yaxis\": \"y15\"}, {\"legendgroup\": \"10.690\", \"marker\": {\"color\": \"dimgrey\"}, \"name\": \"10.690\", \"showlegend\": false, \"x\": [\"2017-03-01\", \"2018-03-01\"], \"y\": [1.0, 1.0], \"type\": \"scatter\", \"uid\": \"229a4a77-fd67-11e8-9b74-b46bfca2d37e\", \"xaxis\": \"x16\", \"yaxis\": \"y16\"}, {\"legendgroup\": \"10.691\", \"marker\": {\"color\": \"dodgerblue\"}, \"name\": \"10.691\", \"showlegend\": false, \"x\": [\"2017-08-01\", \"2018-08-01\"], \"y\": [23619.0, 8011.0], \"type\": \"scatter\", \"uid\": \"229a4a78-fd67-11e8-8926-b46bfca2d37e\", \"xaxis\": \"x15\", \"yaxis\": \"y15\"}, {\"legendgroup\": \"10.691\", \"marker\": {\"color\": \"dodgerblue\"}, \"name\": \"10.691\", \"showlegend\": false, \"x\": [\"2017-08-01\", \"2018-08-01\"], \"y\": [2.0, 1.0], \"type\": \"scatter\", \"uid\": \"229a4a79-fd67-11e8-b12b-b46bfca2d37e\", \"xaxis\": \"x16\", \"yaxis\": \"y16\"}, {\"legendgroup\": \"10.699\", \"marker\": {\"color\": \"floralwhite\"}, \"name\": \"10.699\", \"showlegend\": false, \"x\": [\"2018-01-01\", \"2018-03-01\"], \"y\": [5315.0, 3638.0], \"type\": \"scatter\", \"uid\": \"229cadf8-fd67-11e8-8d4a-b46bfca2d37e\", \"xaxis\": \"x15\", \"yaxis\": \"y15\"}, {\"legendgroup\": \"10.699\", \"marker\": {\"color\": \"floralwhite\"}, \"name\": \"10.699\", \"showlegend\": false, \"x\": [\"2018-01-01\", \"2018-03-01\"], \"y\": [3.0, 4.0], \"type\": \"scatter\", \"uid\": \"229cadf9-fd67-11e8-8637-b46bfca2d37e\", \"xaxis\": \"x16\", \"yaxis\": \"y16\"}, {\"legendgroup\": \"10.406\", \"marker\": {\"color\": \"greenyellow\"}, \"name\": \"10.406\", \"showlegend\": false, \"x\": [\"2017-03-01\", \"2018-03-01\"], \"y\": [20242680.0, 30598.0], \"type\": \"scatter\", \"uid\": \"229cadfa-fd67-11e8-8d09-b46bfca2d37e\", \"xaxis\": \"x17\", \"yaxis\": \"y17\"}, {\"legendgroup\": \"10.406\", \"marker\": {\"color\": \"greenyellow\"}, \"name\": \"10.406\", \"showlegend\": false, \"x\": [\"2017-03-01\", \"2018-03-01\"], \"y\": [2.0, 1.0], \"type\": \"scatter\", \"uid\": \"229cadfb-fd67-11e8-998f-b46bfca2d37e\", \"xaxis\": \"x18\", \"yaxis\": \"y18\"}, {\"legendgroup\": \"10.113\", \"marker\": {\"color\": \"burlywood\"}, \"name\": \"10.113\", \"showlegend\": false, \"x\": [\"2017-12-01\"], \"y\": [842.0], \"type\": \"scatter\", \"uid\": \"229f1752-fd67-11e8-8df9-b46bfca2d37e\", \"xaxis\": \"x17\", \"yaxis\": \"y17\"}, {\"legendgroup\": \"10.113\", \"marker\": {\"color\": \"burlywood\"}, \"name\": \"10.113\", \"showlegend\": false, \"x\": [\"2017-12-01\"], \"y\": [1.0], \"type\": \"scatter\", \"uid\": \"229fb4b6-fd67-11e8-9f5e-b46bfca2d37e\", \"xaxis\": \"x18\", \"yaxis\": \"y18\"}, {\"legendgroup\": \"10.069\", \"marker\": {\"color\": \"bisque\"}, \"name\": \"10.069\", \"showlegend\": false, \"x\": [\"2018-12-01\"], \"y\": [272597.0], \"type\": \"scatter\", \"uid\": \"22a076dc-fd67-11e8-8f1e-b46bfca2d37e\", \"xaxis\": \"x17\", \"yaxis\": \"y17\"}, {\"legendgroup\": \"10.069\", \"marker\": {\"color\": \"bisque\"}, \"name\": \"10.069\", \"showlegend\": false, \"x\": [\"2018-12-01\"], \"y\": [1.0], \"type\": \"scatter\", \"uid\": \"22a1131c-fd67-11e8-b7b4-b46bfca2d37e\", \"xaxis\": \"x18\", \"yaxis\": \"y18\"}, {\"legendgroup\": \"10.475\", \"marker\": {\"color\": \"salmon\"}, \"name\": \"10.475\", \"showlegend\": false, \"x\": [\"2017-03-01\", \"2018-03-01\"], \"y\": [4804520.0, 5100992.0], \"type\": \"scatter\", \"uid\": \"22a1b0b6-fd67-11e8-8e5a-b46bfca2d37e\", \"xaxis\": \"x19\", \"yaxis\": \"y19\"}, {\"legendgroup\": \"10.475\", \"marker\": {\"color\": \"salmon\"}, \"name\": \"10.475\", \"showlegend\": false, \"x\": [\"2017-03-01\", \"2018-03-01\"], \"y\": [1.0, 1.0], \"type\": \"scatter\", \"uid\": \"22a24cdc-fd67-11e8-b745-b46bfca2d37e\", \"xaxis\": \"x20\", \"yaxis\": \"y20\"}, {\"legendgroup\": \"10.479\", \"marker\": {\"color\": \"lightblue\"}, \"name\": \"10.479\", \"showlegend\": false, \"x\": [\"2017-03-01\", \"2018-03-01\"], \"y\": [103443.0, 77569.0], \"type\": \"scatter\", \"uid\": \"22a2e7dc-fd67-11e8-9fb7-b46bfca2d37e\", \"xaxis\": \"x19\", \"yaxis\": \"y19\"}, {\"legendgroup\": \"10.479\", \"marker\": {\"color\": \"lightblue\"}, \"name\": \"10.479\", \"showlegend\": false, \"x\": [\"2017-03-01\", \"2018-03-01\"], \"y\": [3.0, 4.0], \"type\": \"scatter\", \"uid\": \"22a3844a-fd67-11e8-8b66-b46bfca2d37e\", \"xaxis\": \"x20\", \"yaxis\": \"y20\"}, {\"legendgroup\": \"10.950\", \"marker\": {\"color\": \"rosybrown\"}, \"name\": \"10.950\", \"showlegend\": false, \"x\": [\"2018-03-01\"], \"y\": [529820.0], \"type\": \"scatter\", \"uid\": \"22a4478a-fd67-11e8-b23d-b46bfca2d37e\", \"xaxis\": \"x21\", \"yaxis\": \"y21\"}, {\"legendgroup\": \"10.950\", \"marker\": {\"color\": \"rosybrown\"}, \"name\": \"10.950\", \"showlegend\": false, \"x\": [\"2018-03-01\"], \"y\": [1.0], \"type\": \"scatter\", \"uid\": \"22a4bcbe-fd67-11e8-81b0-b46bfca2d37e\", \"xaxis\": \"x22\", \"yaxis\": \"y22\"}, {\"legendgroup\": \"10.309\", \"marker\": {\"color\": \"dimgrey\"}, \"name\": \"10.309\", \"showlegend\": false, \"x\": [\"2016-12-01\", \"2017-02-01\", \"2017-03-01\", \"2017-12-01\", \"2018-03-01\", \"2018-05-01\"], \"y\": [208700.0, 332666.0, 1977506.0, 1176061.0, 2697224.0, 3600.0], \"type\": \"scatter\", \"uid\": \"22a515da-fd67-11e8-b37f-b46bfca2d37e\", \"xaxis\": \"x23\", \"yaxis\": \"y23\"}, {\"legendgroup\": \"10.309\", \"marker\": {\"color\": \"dimgrey\"}, \"name\": \"10.309\", \"showlegend\": false, \"x\": [\"2016-12-01\", \"2017-02-01\", \"2017-03-01\", \"2017-12-01\", \"2018-03-01\", \"2018-05-01\"], \"y\": [1.0, 7.0, 1.0, 1.0, 2.0, 5.0], \"type\": \"scatter\", \"uid\": \"22a515db-fd67-11e8-a943-b46bfca2d37e\", \"xaxis\": \"x24\", \"yaxis\": \"y24\"}, {\"legendgroup\": \"10.310\", \"marker\": {\"color\": \"dodgerblue\"}, \"name\": \"10.310\", \"showlegend\": false, \"x\": [\"2016-12-01\", \"2017-02-01\", \"2017-03-01\", \"2017-09-01\", \"2017-11-01\", \"2017-12-01\", \"2018-02-01\", \"2018-03-01\", \"2018-05-01\", \"2018-06-01\", \"2018-11-01\"], \"y\": [304646.0, 7059211.0, 18606130.0, 227952.0, 972191.0, 2476229.0, 652539.0, 18913592.0, 55418.0, 9670.0, 2732260.0], \"type\": \"scatter\", \"uid\": \"22a515dc-fd67-11e8-8670-b46bfca2d37e\", \"xaxis\": \"x23\", \"yaxis\": \"y23\"}, {\"legendgroup\": \"10.310\", \"marker\": {\"color\": \"dodgerblue\"}, \"name\": \"10.310\", \"showlegend\": false, \"x\": [\"2016-12-01\", \"2017-02-01\", \"2017-03-01\", \"2017-09-01\", \"2017-11-01\", \"2017-12-01\", \"2018-02-01\", \"2018-03-01\", \"2018-05-01\", \"2018-06-01\", \"2018-11-01\"], \"y\": [1.0, 12.0, 15.0, 8.0, 5.0, 3.0, 4.0, 9.0, 5.0, 4.0, 5.666666666666667], \"type\": \"scatter\", \"uid\": \"22a515dd-fd67-11e8-a27a-b46bfca2d37e\", \"xaxis\": \"x24\", \"yaxis\": \"y24\"}, {\"legendgroup\": \"10.212\", \"marker\": {\"color\": \"darkkhaki\"}, \"name\": \"10.212\", \"showlegend\": false, \"x\": [\"2017-01-01\", \"2017-03-01\", \"2018-03-01\"], \"y\": [20000.0, 145005.0, 81950.0], \"type\": \"scatter\", \"uid\": \"22a779de-fd67-11e8-b2c9-b46bfca2d37e\", \"xaxis\": \"x23\", \"yaxis\": \"y23\"}, {\"legendgroup\": \"10.212\", \"marker\": {\"color\": \"darkkhaki\"}, \"name\": \"10.212\", \"showlegend\": false, \"x\": [\"2017-01-01\", \"2017-03-01\", \"2018-03-01\"], \"y\": [1.0, 1.0, 1.0], \"type\": \"scatter\", \"uid\": \"22a779df-fd67-11e8-b2ae-b46bfca2d37e\", \"xaxis\": \"x24\", \"yaxis\": \"y24\"}, {\"legendgroup\": \"10.223\", \"marker\": {\"color\": \"darkred\"}, \"name\": \"10.223\", \"showlegend\": false, \"x\": [\"2017-01-01\", \"2018-03-01\", \"2018-05-01\"], \"y\": [225290.0, 3020.0, 1028911.0], \"type\": \"scatter\", \"uid\": \"22a779e0-fd67-11e8-9837-b46bfca2d37e\", \"xaxis\": \"x23\", \"yaxis\": \"y23\"}, {\"legendgroup\": \"10.223\", \"marker\": {\"color\": \"darkred\"}, \"name\": \"10.223\", \"showlegend\": false, \"x\": [\"2017-01-01\", \"2018-03-01\", \"2018-05-01\"], \"y\": [1.0, 1.0, 5.0], \"type\": \"scatter\", \"uid\": \"22a779e1-fd67-11e8-b007-b46bfca2d37e\", \"xaxis\": \"x24\", \"yaxis\": \"y24\"}, {\"legendgroup\": \"10.303\", \"marker\": {\"color\": \"darkturquoise\"}, \"name\": \"10.303\", \"showlegend\": false, \"x\": [\"2017-01-01\", \"2017-02-01\", \"2017-03-01\", \"2018-03-01\", \"2018-05-01\"], \"y\": [1679.0, 17748.0, 148397.0, 172759.0, 1510.0], \"type\": \"scatter\", \"uid\": \"22aa09a4-fd67-11e8-91fc-b46bfca2d37e\", \"xaxis\": \"x23\", \"yaxis\": \"y23\"}, {\"legendgroup\": \"10.303\", \"marker\": {\"color\": \"darkturquoise\"}, \"name\": \"10.303\", \"showlegend\": false, \"x\": [\"2017-01-01\", \"2017-02-01\", \"2017-03-01\", \"2018-03-01\", \"2018-05-01\"], \"y\": [2.0, 6.0, 5.0, 3.0, 5.0], \"type\": \"scatter\", \"uid\": \"22aa7ec6-fd67-11e8-81a2-b46bfca2d37e\", \"xaxis\": \"x24\", \"yaxis\": \"y24\"}, {\"legendgroup\": \"10.200\", \"marker\": {\"color\": \"cyan\"}, \"name\": \"10.200\", \"showlegend\": false, \"x\": [\"2017-02-01\", \"2017-03-01\", \"2018-03-01\", \"2018-04-01\", \"2018-05-01\"], \"y\": [1637896.0, 3787060.0, 3082651.0, 3760379.0, 19172.0], \"type\": \"scatter\", \"uid\": \"22ab1b02-fd67-11e8-a538-b46bfca2d37e\", \"xaxis\": \"x23\", \"yaxis\": \"y23\"}, {\"legendgroup\": \"10.200\", \"marker\": {\"color\": \"cyan\"}, \"name\": \"10.200\", \"showlegend\": false, \"x\": [\"2017-02-01\", \"2017-03-01\", \"2018-03-01\", \"2018-04-01\", \"2018-05-01\"], \"y\": [6.0, 9.0, 8.0, 1.0, 5.0], \"type\": \"scatter\", \"uid\": \"22abde3e-fd67-11e8-904c-b46bfca2d37e\", \"xaxis\": \"x24\", \"yaxis\": \"y24\"}, {\"legendgroup\": \"10.202\", \"marker\": {\"color\": \"darkblue\"}, \"name\": \"10.202\", \"showlegend\": false, \"x\": [\"2017-02-01\", \"2017-03-01\", \"2018-01-01\", \"2018-02-01\", \"2018-03-01\", \"2018-05-01\"], \"y\": [505352.0, 998811.0, 405430.0, 223079.0, 1906832.0, 57906.0], \"type\": \"scatter\", \"uid\": \"22ac7a7a-fd67-11e8-aa22-b46bfca2d37e\", \"xaxis\": \"x23\", \"yaxis\": \"y23\"}, {\"legendgroup\": \"10.202\", \"marker\": {\"color\": \"darkblue\"}, \"name\": \"10.202\", \"showlegend\": false, \"x\": [\"2017-02-01\", \"2017-03-01\", \"2018-01-01\", \"2018-02-01\", \"2018-03-01\", \"2018-05-01\"], \"y\": [10.0, 8.0, 1.0, 3.0, 8.0, 5.0], \"type\": \"scatter\", \"uid\": \"22acefa4-fd67-11e8-b4a8-b46bfca2d37e\", \"xaxis\": \"x24\", \"yaxis\": \"y24\"}, {\"legendgroup\": \"10.203\", \"marker\": {\"color\": \"darkcyan\"}, \"name\": \"10.203\", \"showlegend\": false, \"x\": [\"2017-02-01\", \"2017-03-01\", \"2018-01-01\", \"2018-03-01\", \"2018-05-01\", \"2018-11-01\"], \"y\": [7976447.0, 4457964.0, 2419210.0, 17133828.0, 4702436.0, 2809.0], \"type\": \"scatter\", \"uid\": \"22ad8be4-fd67-11e8-895d-b46bfca2d37e\", \"xaxis\": \"x23\", \"yaxis\": \"y23\"}, {\"legendgroup\": \"10.203\", \"marker\": {\"color\": \"darkcyan\"}, \"name\": \"10.203\", \"showlegend\": false, \"x\": [\"2017-02-01\", \"2017-03-01\", \"2018-01-01\", \"2018-03-01\", \"2018-05-01\", \"2018-11-01\"], \"y\": [6.0, 6.0, 1.0, 7.0, 5.0, 1.0], \"type\": \"scatter\", \"uid\": \"22ae4f3a-fd67-11e8-952b-b46bfca2d37e\", \"xaxis\": \"x24\", \"yaxis\": \"y24\"}, {\"legendgroup\": \"10.205\", \"marker\": {\"color\": \"darkgoldenrod\"}, \"name\": \"10.205\", \"showlegend\": false, \"x\": [\"2017-02-01\", \"2017-03-01\", \"2017-11-01\", \"2018-02-01\", \"2018-03-01\"], \"y\": [3105102.0, 4969378.0, 2295262.0, 2902711.0, 6375513.0], \"type\": \"scatter\", \"uid\": \"22aeeb7a-fd67-11e8-bc21-b46bfca2d37e\", \"xaxis\": \"x23\", \"yaxis\": \"y23\"}, {\"legendgroup\": \"10.205\", \"marker\": {\"color\": \"darkgoldenrod\"}, \"name\": \"10.205\", \"showlegend\": false, \"x\": [\"2017-02-01\", \"2017-03-01\", \"2017-11-01\", \"2018-02-01\", \"2018-03-01\"], \"y\": [4.0, 2.0, 1.0, 3.0, 6.0], \"type\": \"scatter\", \"uid\": \"22af87b6-fd67-11e8-8e27-b46bfca2d37e\", \"xaxis\": \"x24\", \"yaxis\": \"y24\"}, {\"legendgroup\": \"10.206\", \"marker\": {\"color\": \"darkgray\"}, \"name\": \"10.206\", \"showlegend\": false, \"x\": [\"2017-02-01\", \"2017-03-01\"], \"y\": [-3925.0, 320417.0], \"type\": \"scatter\", \"uid\": \"22b023f8-fd67-11e8-b462-b46bfca2d37e\", \"xaxis\": \"x23\", \"yaxis\": \"y23\"}, {\"legendgroup\": \"10.206\", \"marker\": {\"color\": \"darkgray\"}, \"name\": \"10.206\", \"showlegend\": false, \"x\": [\"2017-02-01\", \"2017-03-01\"], \"y\": [6.0, 5.0], \"type\": \"scatter\", \"uid\": \"22b0e75e-fd67-11e8-9f12-b46bfca2d37e\", \"xaxis\": \"x24\", \"yaxis\": \"y24\"}, {\"legendgroup\": \"10.207\", \"marker\": {\"color\": \"magenta\"}, \"name\": \"10.207\", \"showlegend\": false, \"x\": [\"2017-02-01\", \"2017-03-01\", \"2018-02-01\", \"2018-03-01\", \"2018-05-01\", \"2018-11-01\"], \"y\": [38859.0, 41397.0, 35939.0, 103497.0, 7070.0, 38234.0], \"type\": \"scatter\", \"uid\": \"22b184a6-fd67-11e8-87b7-b46bfca2d37e\", \"xaxis\": \"x23\", \"yaxis\": \"y23\"}, {\"legendgroup\": \"10.207\", \"marker\": {\"color\": \"magenta\"}, \"name\": \"10.207\", \"showlegend\": false, \"x\": [\"2017-02-01\", \"2017-03-01\", \"2018-02-01\", \"2018-03-01\", \"2018-05-01\", \"2018-11-01\"], \"y\": [7.0, 3.0, 4.0, 6.0, 5.0, 1.0], \"type\": \"scatter\", \"uid\": \"22b1da74-fd67-11e8-8177-b46bfca2d37e\", \"xaxis\": \"x24\", \"yaxis\": \"y24\"}, {\"legendgroup\": \"10.215\", \"marker\": {\"color\": \"darkmagenta\"}, \"name\": \"10.215\", \"showlegend\": false, \"x\": [\"2017-02-01\", \"2017-03-01\", \"2017-10-01\", \"2018-02-01\", \"2018-03-01\", \"2018-05-01\", \"2018-09-01\", \"2018-11-01\"], \"y\": [26101.0, 273946.0, 70799.0, 9491.0, 397191.0, 3415.0, 2983.0, 15980.0], \"type\": \"scatter\", \"uid\": \"22b1da75-fd67-11e8-819c-b46bfca2d37e\", \"xaxis\": \"x23\", \"yaxis\": \"y23\"}, {\"legendgroup\": \"10.215\", \"marker\": {\"color\": \"darkmagenta\"}, \"name\": \"10.215\", \"showlegend\": false, \"x\": [\"2017-02-01\", \"2017-03-01\", \"2017-10-01\", \"2018-02-01\", \"2018-03-01\", \"2018-05-01\", \"2018-09-01\", \"2018-11-01\"], \"y\": [10.0, 5.0, 1.0, 3.0, 7.0, 5.0, 1.0, 1.0], \"type\": \"scatter\", \"uid\": \"22b1da76-fd67-11e8-9fdc-b46bfca2d37e\", \"xaxis\": \"x24\", \"yaxis\": \"y24\"}, {\"legendgroup\": \"10.216\", \"marker\": {\"color\": \"darkolivegreen\"}, \"name\": \"10.216\", \"showlegend\": false, \"x\": [\"2017-02-01\", \"2017-03-01\", \"2017-11-01\", \"2018-02-01\", \"2018-03-01\", \"2018-11-01\"], \"y\": [604746.0, 2541862.0, 770984.0, 863371.0, 830863.0, 20634.0], \"type\": \"scatter\", \"uid\": \"22b1da77-fd67-11e8-bfd0-b46bfca2d37e\", \"xaxis\": \"x23\", \"yaxis\": \"y23\"}, {\"legendgroup\": \"10.216\", \"marker\": {\"color\": \"darkolivegreen\"}, \"name\": \"10.216\", \"showlegend\": false, \"x\": [\"2017-02-01\", \"2017-03-01\", \"2017-11-01\", \"2018-02-01\", \"2018-03-01\", \"2018-11-01\"], \"y\": [4.0, 5.0, 1.0, 3.0, 7.0, 1.0], \"type\": \"scatter\", \"uid\": \"22b43d7a-fd67-11e8-a0a5-b46bfca2d37e\", \"xaxis\": \"x24\", \"yaxis\": \"y24\"}, {\"legendgroup\": \"10.217\", \"marker\": {\"color\": \"darkorange\"}, \"name\": \"10.217\", \"showlegend\": false, \"x\": [\"2017-02-01\", \"2017-03-01\", \"2018-03-01\"], \"y\": [305044.0, 10801.0, 173807.0], \"type\": \"scatter\", \"uid\": \"22b43d7b-fd67-11e8-a9ee-b46bfca2d37e\", \"xaxis\": \"x23\", \"yaxis\": \"y23\"}, {\"legendgroup\": \"10.217\", \"marker\": {\"color\": \"darkorange\"}, \"name\": \"10.217\", \"showlegend\": false, \"x\": [\"2017-02-01\", \"2017-03-01\", \"2018-03-01\"], \"y\": [6.0, 1.0, 2.0], \"type\": \"scatter\", \"uid\": \"22b43d7c-fd67-11e8-823a-b46bfca2d37e\", \"xaxis\": \"x24\", \"yaxis\": \"y24\"}, {\"legendgroup\": \"10.219\", \"marker\": {\"color\": \"darkorchid\"}, \"name\": \"10.219\", \"showlegend\": false, \"x\": [\"2017-02-01\", \"2017-03-01\", \"2018-03-01\"], \"y\": [7416.0, 95126.0, 6870.0], \"type\": \"scatter\", \"uid\": \"22b43d7d-fd67-11e8-9990-b46bfca2d37e\", \"xaxis\": \"x23\", \"yaxis\": \"y23\"}, {\"legendgroup\": \"10.219\", \"marker\": {\"color\": \"darkorchid\"}, \"name\": \"10.219\", \"showlegend\": false, \"x\": [\"2017-02-01\", \"2017-03-01\", \"2018-03-01\"], \"y\": [6.0, 4.0, 1.0], \"type\": \"scatter\", \"uid\": \"22b69f88-fd67-11e8-8126-b46bfca2d37e\", \"xaxis\": \"x24\", \"yaxis\": \"y24\"}, {\"legendgroup\": \"10.304\", \"marker\": {\"color\": \"darkviolet\"}, \"name\": \"10.304\", \"showlegend\": false, \"x\": [\"2017-02-01\", \"2017-03-01\", \"2018-03-01\"], \"y\": [194421.0, 211477.0, 374140.0], \"type\": \"scatter\", \"uid\": \"22b69f89-fd67-11e8-880a-b46bfca2d37e\", \"xaxis\": \"x23\", \"yaxis\": \"y23\"}, {\"legendgroup\": \"10.304\", \"marker\": {\"color\": \"darkviolet\"}, \"name\": \"10.304\", \"showlegend\": false, \"x\": [\"2017-02-01\", \"2017-03-01\", \"2018-03-01\"], \"y\": [7.0, 1.0, 2.0], \"type\": \"scatter\", \"uid\": \"22b69f8a-fd67-11e8-a1cd-b46bfca2d37e\", \"xaxis\": \"x24\", \"yaxis\": \"y24\"}, {\"legendgroup\": \"10.307\", \"marker\": {\"color\": \"deepskyblue\"}, \"name\": \"10.307\", \"showlegend\": false, \"x\": [\"2017-02-01\", \"2017-03-01\", \"2018-01-01\", \"2018-02-01\", \"2018-03-01\"], \"y\": [215691.0, 103142.0, 12510.0, 39893.0, 320900.0], \"type\": \"scatter\", \"uid\": \"22b69f8b-fd67-11e8-b56f-b46bfca2d37e\", \"xaxis\": \"x23\", \"yaxis\": \"y23\"}, {\"legendgroup\": \"10.307\", \"marker\": {\"color\": \"deepskyblue\"}, \"name\": \"10.307\", \"showlegend\": false, \"x\": [\"2017-02-01\", \"2017-03-01\", \"2018-01-01\", \"2018-02-01\", \"2018-03-01\"], \"y\": [6.0, 1.0, 3.0, 3.0, 3.0], \"type\": \"scatter\", \"uid\": \"22b90194-fd67-11e8-bedd-b46bfca2d37e\", \"xaxis\": \"x24\", \"yaxis\": \"y24\"}, {\"legendgroup\": \"10.311\", \"marker\": {\"color\": \"firebrick\"}, \"name\": \"10.311\", \"showlegend\": false, \"x\": [\"2017-02-01\", \"2017-03-01\", \"2017-09-01\", \"2018-02-01\", \"2018-03-01\", \"2018-10-01\", \"2018-11-01\"], \"y\": [29869.0, -917.0, 142575.0, 34196.0, 15587.0, 26500.0, 198654.0], \"type\": \"scatter\", \"uid\": \"22b90195-fd67-11e8-9154-b46bfca2d37e\", \"xaxis\": \"x23\", \"yaxis\": \"y23\"}, {\"legendgroup\": \"10.311\", \"marker\": {\"color\": \"firebrick\"}, \"name\": \"10.311\", \"showlegend\": false, \"x\": [\"2017-02-01\", \"2017-03-01\", \"2017-09-01\", \"2018-02-01\", \"2018-03-01\", \"2018-10-01\", \"2018-11-01\"], \"y\": [4.0, 1.0, 8.0, 3.0, 1.0, 6.0, 1.0], \"type\": \"scatter\", \"uid\": \"22b90196-fd67-11e8-9334-b46bfca2d37e\", \"xaxis\": \"x24\", \"yaxis\": \"y24\"}, {\"legendgroup\": \"10.320\", \"marker\": {\"color\": \"fuchsia\"}, \"name\": \"10.320\", \"showlegend\": false, \"x\": [\"2017-02-01\", \"2017-11-01\", \"2018-03-01\", \"2018-11-01\"], \"y\": [321.0, 20488.0, 14889.0, 32272.0], \"type\": \"scatter\", \"uid\": \"22b90197-fd67-11e8-aa0c-b46bfca2d37e\", \"xaxis\": \"x23\", \"yaxis\": \"y23\"}, {\"legendgroup\": \"10.320\", \"marker\": {\"color\": \"fuchsia\"}, \"name\": \"10.320\", \"showlegend\": false, \"x\": [\"2017-02-01\", \"2017-11-01\", \"2018-03-01\", \"2018-11-01\"], \"y\": [6.0, 2.0, 3.0, 1.0], \"type\": \"scatter\", \"uid\": \"22bb6418-fd67-11e8-b2db-b46bfca2d37e\", \"xaxis\": \"x24\", \"yaxis\": \"y24\"}, {\"legendgroup\": \"10.326\", \"marker\": {\"color\": \"orchid\"}, \"name\": \"10.326\", \"showlegend\": false, \"x\": [\"2017-02-01\", \"2017-03-01\", \"2018-02-01\", \"2018-03-01\", \"2018-11-01\"], \"y\": [29874.0, 59849.0, 14130.0, 19239.0, 18323.0], \"type\": \"scatter\", \"uid\": \"22bb6419-fd67-11e8-b994-b46bfca2d37e\", \"xaxis\": \"x23\", \"yaxis\": \"y23\"}, {\"legendgroup\": \"10.326\", \"marker\": {\"color\": \"orchid\"}, \"name\": \"10.326\", \"showlegend\": false, \"x\": [\"2017-02-01\", \"2017-03-01\", \"2018-02-01\", \"2018-03-01\", \"2018-11-01\"], \"y\": [4.0, 3.0, 3.0, 5.0, 1.0], \"type\": \"scatter\", \"uid\": \"22bb641a-fd67-11e8-ac02-b46bfca2d37e\", \"xaxis\": \"x24\", \"yaxis\": \"y24\"}, {\"legendgroup\": \"10.500\", \"marker\": {\"color\": \"lightcoral\"}, \"name\": \"10.500\", \"showlegend\": false, \"x\": [\"2017-02-01\", \"2017-03-01\", \"2017-11-01\", \"2018-01-01\", \"2018-03-01\", \"2018-05-01\", \"2018-11-01\", \"2018-12-01\"], \"y\": [12177102.0, 16126364.0, 2108273.0, 2488771.0, 28806431.0, 8373763.0, 2019554.0, 3128363.0], \"type\": \"scatter\", \"uid\": \"22bb641b-fd67-11e8-9174-b46bfca2d37e\", \"xaxis\": \"x23\", \"yaxis\": \"y23\"}, {\"legendgroup\": \"10.500\", \"marker\": {\"color\": \"lightcoral\"}, \"name\": \"10.500\", \"showlegend\": false, \"x\": [\"2017-02-01\", \"2017-03-01\", \"2017-11-01\", \"2018-01-01\", \"2018-03-01\", \"2018-05-01\", \"2018-11-01\", \"2018-12-01\"], \"y\": [4.0, 5.0, 1.0, 1.0, 8.8, 2.0, 3.0, 1.0], \"type\": \"scatter\", \"uid\": \"22be0322-fd67-11e8-869e-b46bfca2d37e\", \"xaxis\": \"x24\", \"yaxis\": \"y24\"}, {\"legendgroup\": \"10.210\", \"marker\": {\"color\": \"darkgreen\"}, \"name\": \"10.210\", \"showlegend\": false, \"x\": [\"2017-03-01\", \"2018-03-01\"], \"y\": [4987.0, 742.0], \"type\": \"scatter\", \"uid\": \"22be9f4c-fd67-11e8-8e8a-b46bfca2d37e\", \"xaxis\": \"x23\", \"yaxis\": \"y23\"}, {\"legendgroup\": \"10.210\", \"marker\": {\"color\": \"darkgreen\"}, \"name\": \"10.210\", \"showlegend\": false, \"x\": [\"2017-03-01\", \"2018-03-01\"], \"y\": [4.0, 4.0], \"type\": \"scatter\", \"uid\": \"22bf3b9a-fd67-11e8-afe7-b46bfca2d37e\", \"xaxis\": \"x24\", \"yaxis\": \"y24\"}, {\"legendgroup\": \"10.308\", \"marker\": {\"color\": \"dimgray\"}, \"name\": \"10.308\", \"showlegend\": false, \"x\": [\"2017-03-01\", \"2018-03-01\", \"2018-05-01\"], \"y\": [816.0, 37661.0, 595843.0], \"type\": \"scatter\", \"uid\": \"22bfd7be-fd67-11e8-9df1-b46bfca2d37e\", \"xaxis\": \"x23\", \"yaxis\": \"y23\"}, {\"legendgroup\": \"10.308\", \"marker\": {\"color\": \"dimgray\"}, \"name\": \"10.308\", \"showlegend\": false, \"x\": [\"2017-03-01\", \"2018-03-01\", \"2018-05-01\"], \"y\": [1.0, 1.0, 5.0], \"type\": \"scatter\", \"uid\": \"22c07408-fd67-11e8-96c7-b46bfca2d37e\", \"xaxis\": \"x24\", \"yaxis\": \"y24\"}, {\"legendgroup\": \"10.312\", \"marker\": {\"color\": \"floralwhite\"}, \"name\": \"10.312\", \"showlegend\": false, \"x\": [\"2017-03-01\", \"2018-03-01\"], \"y\": [38687.0, 279602.0], \"type\": \"scatter\", \"uid\": \"22c0c734-fd67-11e8-bc5f-b46bfca2d37e\", \"xaxis\": \"x23\", \"yaxis\": \"y23\"}, {\"legendgroup\": \"10.312\", \"marker\": {\"color\": \"floralwhite\"}, \"name\": \"10.312\", \"showlegend\": false, \"x\": [\"2017-03-01\", \"2018-03-01\"], \"y\": [3.0, 6.0], \"type\": \"scatter\", \"uid\": \"22c0c735-fd67-11e8-a5e1-b46bfca2d37e\", \"xaxis\": \"x24\", \"yaxis\": \"y24\"}, {\"legendgroup\": \"10.328\", \"marker\": {\"color\": \"orangered\"}, \"name\": \"10.328\", \"showlegend\": false, \"x\": [\"2017-03-01\", \"2018-03-01\"], \"y\": [8045.0, 102132.0], \"type\": \"scatter\", \"uid\": \"22c0c736-fd67-11e8-9049-b46bfca2d37e\", \"xaxis\": \"x23\", \"yaxis\": \"y23\"}, {\"legendgroup\": \"10.328\", \"marker\": {\"color\": \"orangered\"}, \"name\": \"10.328\", \"showlegend\": false, \"x\": [\"2017-03-01\", \"2018-03-01\"], \"y\": [1.0, 2.0], \"type\": \"scatter\", \"uid\": \"22c0c737-fd67-11e8-8de9-b46bfca2d37e\", \"xaxis\": \"x24\", \"yaxis\": \"y24\"}, {\"legendgroup\": \"10.329\", \"marker\": {\"color\": \"gold\"}, \"name\": \"10.329\", \"showlegend\": false, \"x\": [\"2017-03-01\", \"2018-03-01\", \"2018-11-01\"], \"y\": [350305.0, 570131.0, 7109.0], \"type\": \"scatter\", \"uid\": \"22c329d8-fd67-11e8-83cd-b46bfca2d37e\", \"xaxis\": \"x23\", \"yaxis\": \"y23\"}, {\"legendgroup\": \"10.329\", \"marker\": {\"color\": \"gold\"}, \"name\": \"10.329\", \"showlegend\": false, \"x\": [\"2017-03-01\", \"2018-03-01\", \"2018-11-01\"], \"y\": [5.0, 6.0, 1.0], \"type\": \"scatter\", \"uid\": \"22c329d9-fd67-11e8-95fe-b46bfca2d37e\", \"xaxis\": \"x24\", \"yaxis\": \"y24\"}, {\"legendgroup\": \"10.330\", \"marker\": {\"color\": \"goldenrod\"}, \"name\": \"10.330\", \"showlegend\": false, \"x\": [\"2017-03-01\", \"2018-03-01\"], \"y\": [144.0, 85973.0], \"type\": \"scatter\", \"uid\": \"22c329da-fd67-11e8-a67b-b46bfca2d37e\", \"xaxis\": \"x23\", \"yaxis\": \"y23\"}, {\"legendgroup\": \"10.330\", \"marker\": {\"color\": \"goldenrod\"}, \"name\": \"10.330\", \"showlegend\": false, \"x\": [\"2017-03-01\", \"2018-03-01\"], \"y\": [1.0, 6.0], \"type\": \"scatter\", \"uid\": \"22c329db-fd67-11e8-bfe7-b46bfca2d37e\", \"xaxis\": \"x24\", \"yaxis\": \"y24\"}, {\"legendgroup\": \"10.225\", \"marker\": {\"color\": \"darksalmon\"}, \"name\": \"10.225\", \"showlegend\": false, \"x\": [\"2017-09-01\", \"2018-03-01\", \"2018-04-01\", \"2018-10-01\", \"2018-11-01\"], \"y\": [64595.0, 10014.0, 177659.0, 68727.0, 37165.0], \"type\": \"scatter\", \"uid\": \"22c58c40-fd67-11e8-a9ff-b46bfca2d37e\", \"xaxis\": \"x23\", \"yaxis\": \"y23\"}, {\"legendgroup\": \"10.225\", \"marker\": {\"color\": \"darksalmon\"}, \"name\": \"10.225\", \"showlegend\": false, \"x\": [\"2017-09-01\", \"2018-03-01\", \"2018-04-01\", \"2018-10-01\", \"2018-11-01\"], \"y\": [4.0, 1.0, 1.0, 6.0, 1.0], \"type\": \"scatter\", \"uid\": \"22c58c41-fd67-11e8-bef1-b46bfca2d37e\", \"xaxis\": \"x24\", \"yaxis\": \"y24\"}, {\"legendgroup\": \"10.331\", \"marker\": {\"color\": \"gray\"}, \"name\": \"10.331\", \"showlegend\": false, \"x\": [\"2017-09-01\", \"2017-11-01\", \"2018-11-01\"], \"y\": [2621133.0, 31867.0, 16110.0], \"type\": \"scatter\", \"uid\": \"22c58c42-fd67-11e8-a37e-b46bfca2d37e\", \"xaxis\": \"x23\", \"yaxis\": \"y23\"}, {\"legendgroup\": \"10.331\", \"marker\": {\"color\": \"gray\"}, \"name\": \"10.331\", \"showlegend\": false, \"x\": [\"2017-09-01\", \"2017-11-01\", \"2018-11-01\"], \"y\": [3.0, 2.0, 1.0], \"type\": \"scatter\", \"uid\": \"22c58c43-fd67-11e8-8d49-b46bfca2d37e\", \"xaxis\": \"x24\", \"yaxis\": \"y24\"}, {\"legendgroup\": \"10.226\", \"marker\": {\"color\": \"darkseagreen\"}, \"name\": \"10.226\", \"showlegend\": false, \"x\": [\"2018-03-01\"], \"y\": [16495.0], \"type\": \"scatter\", \"uid\": \"22c7ee8c-fd67-11e8-9667-b46bfca2d37e\", \"xaxis\": \"x23\", \"yaxis\": \"y23\"}, {\"legendgroup\": \"10.226\", \"marker\": {\"color\": \"darkseagreen\"}, \"name\": \"10.226\", \"showlegend\": false, \"x\": [\"2018-03-01\"], \"y\": [1.0], \"type\": \"scatter\", \"uid\": \"22c7ee8d-fd67-11e8-9ec7-b46bfca2d37e\", \"xaxis\": \"x24\", \"yaxis\": \"y24\"}, {\"legendgroup\": \"10.072\", \"marker\": {\"color\": \"black\"}, \"name\": \"10.072\", \"showlegend\": false, \"x\": [\"2017-01-01\", \"2017-03-01\", \"2018-01-01\", \"2018-04-01\"], \"y\": [1002348.0, 1492033.0, 417497.0, 724038.0], \"type\": \"scatter\", \"uid\": \"22c7ee8e-fd67-11e8-be8b-b46bfca2d37e\", \"xaxis\": \"x25\", \"yaxis\": \"y25\"}, {\"legendgroup\": \"10.072\", \"marker\": {\"color\": \"black\"}, \"name\": \"10.072\", \"showlegend\": false, \"x\": [\"2017-01-01\", \"2017-03-01\", \"2018-01-01\", \"2018-04-01\"], \"y\": [2.0, 2.0, 3.0, 2.0], \"type\": \"scatter\", \"uid\": \"22e90d64-fd67-11e8-8687-b46bfca2d37e\", \"xaxis\": \"x26\", \"yaxis\": \"y26\"}, {\"legendgroup\": \"10.902\", \"marker\": {\"color\": \"lightsalmon\"}, \"name\": \"10.902\", \"showlegend\": false, \"x\": [\"2017-01-01\", \"2017-02-01\", \"2017-03-01\", \"2017-04-01\", \"2017-05-01\", \"2017-07-01\", \"2017-09-01\", \"2018-01-01\", \"2018-02-01\", \"2018-03-01\", \"2018-05-01\", \"2018-09-01\", \"2018-12-01\"], \"y\": [558342.0, 47479.0, 44205.0, 75000.0, 313304.0, 1466503.0, 6457.0, 343308.0, 127581.0, 189219.0, 1060.0, 2400.0, 908654.0], \"type\": \"scatter\", \"uid\": \"22e90d65-fd67-11e8-9f23-b46bfca2d37e\", \"xaxis\": \"x25\", \"yaxis\": \"y25\"}, {\"legendgroup\": \"10.902\", \"marker\": {\"color\": \"lightsalmon\"}, \"name\": \"10.902\", \"showlegend\": false, \"x\": [\"2017-01-01\", \"2017-02-01\", \"2017-03-01\", \"2017-04-01\", \"2017-05-01\", \"2017-07-01\", \"2017-09-01\", \"2018-01-01\", \"2018-02-01\", \"2018-03-01\", \"2018-05-01\", \"2018-09-01\", \"2018-12-01\"], \"y\": [2.0, 6.0, 2.0, 1.0, 6.0, 2.0, 2.0, 3.0, 2.0, 3.0, 5.0, 1.0, 1.0], \"type\": \"scatter\", \"uid\": \"22e90d66-fd67-11e8-bb68-b46bfca2d37e\", \"xaxis\": \"x26\", \"yaxis\": \"y26\"}, {\"legendgroup\": \"10.912\", \"marker\": {\"color\": \"lightsteelblue\"}, \"name\": \"10.912\", \"showlegend\": false, \"x\": [\"2017-01-01\", \"2017-02-01\", \"2017-03-01\", \"2017-08-01\", \"2017-09-01\", \"2018-01-01\", \"2018-02-01\", \"2018-03-01\", \"2018-05-01\"], \"y\": [429633.0, 94007.0, 342052.0, 8756.0, 61.0, 505316.0, 165060.0, 898366.0, 15504.0], \"type\": \"scatter\", \"uid\": \"22ebeb50-fd67-11e8-a6d6-b46bfca2d37e\", \"xaxis\": \"x25\", \"yaxis\": \"y25\"}, {\"legendgroup\": \"10.912\", \"marker\": {\"color\": \"lightsteelblue\"}, \"name\": \"10.912\", \"showlegend\": false, \"x\": [\"2017-01-01\", \"2017-02-01\", \"2017-03-01\", \"2017-08-01\", \"2017-09-01\", \"2018-01-01\", \"2018-02-01\", \"2018-03-01\", \"2018-05-01\"], \"y\": [2.0, 6.0, 4.0, 2.0, 1.0, 3.0, 2.0, 8.0, 5.0], \"type\": \"scatter\", \"uid\": \"22ec87a4-fd67-11e8-87b3-b46bfca2d37e\", \"xaxis\": \"x26\", \"yaxis\": \"y26\"}, {\"legendgroup\": \"10.913\", \"marker\": {\"color\": \"mediumpurple\"}, \"name\": \"10.913\", \"showlegend\": false, \"x\": [\"2017-01-01\"], \"y\": [2460134.0], \"type\": \"scatter\", \"uid\": \"22ed23ba-fd67-11e8-b4cc-b46bfca2d37e\", \"xaxis\": \"x25\", \"yaxis\": \"y25\"}, {\"legendgroup\": \"10.913\", \"marker\": {\"color\": \"mediumpurple\"}, \"name\": \"10.913\", \"showlegend\": false, \"x\": [\"2017-01-01\"], \"y\": [2.0], \"type\": \"scatter\", \"uid\": \"22edc008-fd67-11e8-a231-b46bfca2d37e\", \"xaxis\": \"x26\", \"yaxis\": \"y26\"}, {\"legendgroup\": \"10.914\", \"marker\": {\"color\": \"red\"}, \"name\": \"10.914\", \"showlegend\": false, \"x\": [\"2017-01-01\", \"2018-02-01\"], \"y\": [63237.0, 66878.0], \"type\": \"scatter\", \"uid\": \"22ee5d68-fd67-11e8-a246-b46bfca2d37e\", \"xaxis\": \"x25\", \"yaxis\": \"y25\"}, {\"legendgroup\": \"10.914\", \"marker\": {\"color\": \"red\"}, \"name\": \"10.914\", \"showlegend\": false, \"x\": [\"2017-01-01\", \"2018-02-01\"], \"y\": [2.0, 2.0], \"type\": \"scatter\", \"uid\": \"22ef6e02-fd67-11e8-8a9a-b46bfca2d37e\", \"xaxis\": \"x26\", \"yaxis\": \"y26\"}, {\"legendgroup\": \"10.916\", \"marker\": {\"color\": \"aqua\"}, \"name\": \"10.916\", \"showlegend\": false, \"x\": [\"2017-01-01\", \"2017-03-01\"], \"y\": [856567.0, 10306249.0], \"type\": \"scatter\", \"uid\": \"22f0a624-fd67-11e8-8262-b46bfca2d37e\", \"xaxis\": \"x25\", \"yaxis\": \"y25\"}, {\"legendgroup\": \"10.916\", \"marker\": {\"color\": \"aqua\"}, \"name\": \"10.916\", \"showlegend\": false, \"x\": [\"2017-01-01\", \"2017-03-01\"], \"y\": [2.0, 1.0], \"type\": \"scatter\", \"uid\": \"22f171ae-fd67-11e8-bd15-b46bfca2d37e\", \"xaxis\": \"x26\", \"yaxis\": \"y26\"}, {\"legendgroup\": \"10.931\", \"marker\": {\"color\": \"bisque\"}, \"name\": \"10.931\", \"showlegend\": false, \"x\": [\"2017-01-01\", \"2017-04-01\", \"2018-01-01\"], \"y\": [1142978.0, 446036.0, 5993212.0], \"type\": \"scatter\", \"uid\": \"22f171af-fd67-11e8-877f-b46bfca2d37e\", \"xaxis\": \"x25\", \"yaxis\": \"y25\"}, {\"legendgroup\": \"10.931\", \"marker\": {\"color\": \"bisque\"}, \"name\": \"10.931\", \"showlegend\": false, \"x\": [\"2017-01-01\", \"2017-04-01\", \"2018-01-01\"], \"y\": [2.0, 1.0, 3.0], \"type\": \"scatter\", \"uid\": \"22f171b0-fd67-11e8-8c14-b46bfca2d37e\", \"xaxis\": \"x26\", \"yaxis\": \"y26\"}, {\"legendgroup\": \"10.932\", \"marker\": {\"color\": \"black\"}, \"name\": \"10.932\", \"showlegend\": false, \"x\": [\"2017-01-01\", \"2017-02-01\", \"2017-08-01\", \"2018-01-01\", \"2018-02-01\", \"2018-03-01\", \"2018-06-01\"], \"y\": [34958.0, 47530.0, 547448.0, 196445.0, 291608.0, 28599.0, 109013.0], \"type\": \"scatter\", \"uid\": \"22f171b1-fd67-11e8-aa58-b46bfca2d37e\", \"xaxis\": \"x25\", \"yaxis\": \"y25\"}, {\"legendgroup\": \"10.932\", \"marker\": {\"color\": \"black\"}, \"name\": \"10.932\", \"showlegend\": false, \"x\": [\"2017-01-01\", \"2017-02-01\", \"2017-08-01\", \"2018-01-01\", \"2018-02-01\", \"2018-03-01\", \"2018-06-01\"], \"y\": [2.0, 6.0, 2.0, 3.0, 2.0, 6.0, 1.0], \"type\": \"scatter\", \"uid\": \"22f3d582-fd67-11e8-b562-b46bfca2d37e\", \"xaxis\": \"x26\", \"yaxis\": \"y26\"}, {\"legendgroup\": \"10.904\", \"marker\": {\"color\": \"lightskyblue\"}, \"name\": \"10.904\", \"showlegend\": false, \"x\": [\"2017-03-01\", \"2018-02-01\", \"2018-03-01\"], \"y\": [16602311.0, 2761.0, 17935723.0], \"type\": \"scatter\", \"uid\": \"22f3d583-fd67-11e8-a23b-b46bfca2d37e\", \"xaxis\": \"x25\", \"yaxis\": \"y25\"}, {\"legendgroup\": \"10.904\", \"marker\": {\"color\": \"lightskyblue\"}, \"name\": \"10.904\", \"showlegend\": false, \"x\": [\"2017-03-01\", \"2018-02-01\", \"2018-03-01\"], \"y\": [2.0, 2.0, 1.0], \"type\": \"scatter\", \"uid\": \"22f3d584-fd67-11e8-a5aa-b46bfca2d37e\", \"xaxis\": \"x26\", \"yaxis\": \"y26\"}, {\"legendgroup\": \"10.923\", \"marker\": {\"color\": \"aquamarine\"}, \"name\": \"10.923\", \"showlegend\": false, \"x\": [\"2017-06-01\", \"2017-10-01\", \"2017-11-01\", \"2018-02-01\", \"2018-03-01\", \"2018-04-01\", \"2018-09-01\", \"2018-10-01\"], \"y\": [1457120.0, 294733.0, 1724716.0, 885700.0, 963988.0, 3545246.0, 2246800.0, 2246800.0], \"type\": \"scatter\", \"uid\": \"22f3d585-fd67-11e8-a428-b46bfca2d37e\", \"xaxis\": \"x25\", \"yaxis\": \"y25\"}, {\"legendgroup\": \"10.923\", \"marker\": {\"color\": \"aquamarine\"}, \"name\": \"10.923\", \"showlegend\": false, \"x\": [\"2017-06-01\", \"2017-10-01\", \"2017-11-01\", \"2018-02-01\", \"2018-03-01\", \"2018-04-01\", \"2018-09-01\", \"2018-10-01\"], \"y\": [2.0, 1.0, 6.0, 1.0, 1.0, 2.0, 1.0, 2.0], \"type\": \"scatter\", \"uid\": \"22f6b434-fd67-11e8-b7d1-b46bfca2d37e\", \"xaxis\": \"x26\", \"yaxis\": \"y26\"}, {\"legendgroup\": \"10.924\", \"marker\": {\"color\": \"mediumturquoise\"}, \"name\": \"10.924\", \"showlegend\": false, \"x\": [\"2017-06-01\", \"2017-09-01\", \"2018-01-01\", \"2018-02-01\"], \"y\": [1822918.0, 60863.0, 1921291.0, 66878.0], \"type\": \"scatter\", \"uid\": \"22f75188-fd67-11e8-8ca4-b46bfca2d37e\", \"xaxis\": \"x25\", \"yaxis\": \"y25\"}, {\"legendgroup\": \"10.924\", \"marker\": {\"color\": \"mediumturquoise\"}, \"name\": \"10.924\", \"showlegend\": false, \"x\": [\"2017-06-01\", \"2017-09-01\", \"2018-01-01\", \"2018-02-01\"], \"y\": [2.0, 1.0, 1.0, 2.0], \"type\": \"scatter\", \"uid\": \"22f7edd8-fd67-11e8-8767-b46bfca2d37e\", \"xaxis\": \"x26\", \"yaxis\": \"y26\"}, {\"legendgroup\": \"10.925\", \"marker\": {\"color\": \"olive\"}, \"name\": \"10.925\", \"showlegend\": false, \"x\": [\"2017-09-01\"], \"y\": [55307.0], \"type\": \"scatter\", \"uid\": \"22f8b11e-fd67-11e8-9fbb-b46bfca2d37e\", \"xaxis\": \"x25\", \"yaxis\": \"y25\"}, {\"legendgroup\": \"10.925\", \"marker\": {\"color\": \"olive\"}, \"name\": \"10.925\", \"showlegend\": false, \"x\": [\"2017-09-01\"], \"y\": [1.0], \"type\": \"scatter\", \"uid\": \"22f92658-fd67-11e8-b4b3-b46bfca2d37e\", \"xaxis\": \"x26\", \"yaxis\": \"y26\"}, {\"legendgroup\": \"10.907\", \"marker\": {\"color\": \"midnightblue\"}, \"name\": \"10.907\", \"showlegend\": false, \"x\": [\"2017-11-01\"], \"y\": [30788.0], \"type\": \"scatter\", \"uid\": \"22f9c2a4-fd67-11e8-8853-b46bfca2d37e\", \"xaxis\": \"x25\", \"yaxis\": \"y25\"}, {\"legendgroup\": \"10.907\", \"marker\": {\"color\": \"midnightblue\"}, \"name\": \"10.907\", \"showlegend\": false, \"x\": [\"2017-11-01\"], \"y\": [2.0], \"type\": \"scatter\", \"uid\": \"22fa5ee8-fd67-11e8-a520-b46bfca2d37e\", \"xaxis\": \"x26\", \"yaxis\": \"y26\"}, {\"legendgroup\": \"10.903\", \"marker\": {\"color\": \"lightseagreen\"}, \"name\": \"10.903\", \"showlegend\": false, \"x\": [\"2018-02-01\", \"2018-05-01\"], \"y\": [63372.0, 17373.0], \"type\": \"scatter\", \"uid\": \"22fb2106-fd67-11e8-8a97-b46bfca2d37e\", \"xaxis\": \"x25\", \"yaxis\": \"y25\"}, {\"legendgroup\": \"10.903\", \"marker\": {\"color\": \"lightseagreen\"}, \"name\": \"10.903\", \"showlegend\": false, \"x\": [\"2018-02-01\", \"2018-05-01\"], \"y\": [3.0, 5.0], \"type\": \"scatter\", \"uid\": \"22fbbd22-fd67-11e8-a24a-b46bfca2d37e\", \"xaxis\": \"x26\", \"yaxis\": \"y26\"}, {\"legendgroup\": \"10.905\", \"marker\": {\"color\": \"lightslategray\"}, \"name\": \"10.905\", \"showlegend\": false, \"x\": [\"2018-05-01\"], \"y\": [9709.0], \"type\": \"scatter\", \"uid\": \"22fc596e-fd67-11e8-80ca-b46bfca2d37e\", \"xaxis\": \"x25\", \"yaxis\": \"y25\"}, {\"legendgroup\": \"10.905\", \"marker\": {\"color\": \"lightslategray\"}, \"name\": \"10.905\", \"showlegend\": false, \"x\": [\"2018-05-01\"], \"y\": [5.0], \"type\": \"scatter\", \"uid\": \"22fccfb6-fd67-11e8-aebe-b46bfca2d37e\", \"xaxis\": \"x26\", \"yaxis\": \"y26\"}, {\"legendgroup\": \"10.290\", \"marker\": {\"color\": \"darkslategrey\"}, \"name\": \"10.290\", \"showlegend\": false, \"x\": [\"2017-02-01\", \"2017-03-01\", \"2018-03-01\"], \"y\": [27986.0, 185.0, 137710.0], \"type\": \"scatter\", \"uid\": \"22fd9328-fd67-11e8-a3f5-b46bfca2d37e\", \"xaxis\": \"x27\", \"yaxis\": \"y27\"}, {\"legendgroup\": \"10.290\", \"marker\": {\"color\": \"darkslategrey\"}, \"name\": \"10.290\", \"showlegend\": false, \"x\": [\"2017-02-01\", \"2017-03-01\", \"2018-03-01\"], \"y\": [6.0, 3.0, 6.0], \"type\": \"scatter\", \"uid\": \"22fe0864-fd67-11e8-bc2a-b46bfca2d37e\", \"xaxis\": \"x28\", \"yaxis\": \"y28\"}, {\"legendgroup\": \"10.767\", \"marker\": {\"color\": \"goldenrod\"}, \"name\": \"10.767\", \"showlegend\": false, \"x\": [\"2016-12-01\", \"2017-02-01\", \"2017-03-01\", \"2017-04-01\", \"2017-05-01\", \"2017-07-01\", \"2017-08-01\", \"2017-09-01\", \"2017-10-01\", \"2017-12-01\", \"2018-02-01\", \"2018-03-01\", \"2018-05-01\", \"2018-06-01\", \"2018-07-01\", \"2018-09-01\", \"2018-10-01\", \"2018-11-01\"], \"y\": [1682562.0, 458240.0, 1096139.0, 843564.0, 865321.0, 2241914.0, 965343.0, 1171243.0, 833927.0, 909736.0, 523529.0, 1398885.0, 2800634.0, 2058047.0, 802586.0, 6759015.0, 3599843.0, 1307227.0], \"type\": \"scatter\", \"uid\": \"22fe5c66-fd67-11e8-b0de-b46bfca2d37e\", \"xaxis\": \"x29\", \"yaxis\": \"y29\"}, {\"legendgroup\": \"10.767\", \"marker\": {\"color\": \"goldenrod\"}, \"name\": \"10.767\", \"showlegend\": false, \"x\": [\"2016-12-01\", \"2017-02-01\", \"2017-03-01\", \"2017-04-01\", \"2017-05-01\", \"2017-07-01\", \"2017-08-01\", \"2017-09-01\", \"2017-10-01\", \"2017-12-01\", \"2018-02-01\", \"2018-03-01\", \"2018-05-01\", \"2018-06-01\", \"2018-07-01\", \"2018-09-01\", \"2018-10-01\", \"2018-11-01\"], \"y\": [2.0, 1.0, 4.0, 1.0, 1.0, 1.0, 3.0, 2.0, 1.0, 1.0, 1.0, 2.0, 4.0, 1.0, 2.0, 2.0, 2.0, 1.0], \"type\": \"scatter\", \"uid\": \"22fe5c67-fd67-11e8-9298-b46bfca2d37e\", \"xaxis\": \"x30\", \"yaxis\": \"y30\"}, {\"legendgroup\": \"10.854\", \"marker\": {\"color\": \"lawngreen\"}, \"name\": \"10.854\", \"showlegend\": false, \"x\": [\"2016-12-01\", \"2018-06-01\", \"2018-09-01\"], \"y\": [2000000.0, 495961.0, 1000000.0], \"type\": \"scatter\", \"uid\": \"22fe5c68-fd67-11e8-b9df-b46bfca2d37e\", \"xaxis\": \"x29\", \"yaxis\": \"y29\"}, {\"legendgroup\": \"10.854\", \"marker\": {\"color\": \"lawngreen\"}, \"name\": \"10.854\", \"showlegend\": false, \"x\": [\"2016-12-01\", \"2018-06-01\", \"2018-09-01\"], \"y\": [4.0, 2.0, 2.0], \"type\": \"scatter\", \"uid\": \"22fe5c69-fd67-11e8-86cf-b46bfca2d37e\", \"xaxis\": \"x30\", \"yaxis\": \"y30\"}, {\"legendgroup\": \"10.773\", \"marker\": {\"color\": \"honeydew\"}, \"name\": \"10.773\", \"showlegend\": false, \"x\": [\"2017-01-01\"], \"y\": [42112.0], \"type\": \"scatter\", \"uid\": \"2300bf7a-fd67-11e8-82c7-b46bfca2d37e\", \"xaxis\": \"x29\", \"yaxis\": \"y29\"}, {\"legendgroup\": \"10.773\", \"marker\": {\"color\": \"honeydew\"}, \"name\": \"10.773\", \"showlegend\": false, \"x\": [\"2017-01-01\"], \"y\": [2.0], \"type\": \"scatter\", \"uid\": \"2300bf7b-fd67-11e8-8dec-b46bfca2d37e\", \"xaxis\": \"x30\", \"yaxis\": \"y30\"}, {\"legendgroup\": \"10.870\", \"marker\": {\"color\": \"lightgoldenrodyellow\"}, \"name\": \"10.870\", \"showlegend\": false, \"x\": [\"2017-01-01\", \"2017-02-01\", \"2017-03-01\", \"2017-05-01\", \"2017-09-01\", \"2018-02-01\", \"2018-05-01\", \"2018-10-01\", \"2018-11-01\"], \"y\": [146754.0, 408256.0, 0.0, 684845.0, 688097.0, 878742.0, 644021.0, 372370.0, 372370.0], \"type\": \"scatter\", \"uid\": \"2300bf7c-fd67-11e8-80cf-b46bfca2d37e\", \"xaxis\": \"x29\", \"yaxis\": \"y29\"}, {\"legendgroup\": \"10.870\", \"marker\": {\"color\": \"lightgoldenrodyellow\"}, \"name\": \"10.870\", \"showlegend\": false, \"x\": [\"2017-01-01\", \"2017-02-01\", \"2017-03-01\", \"2017-05-01\", \"2017-09-01\", \"2018-02-01\", \"2018-05-01\", \"2018-10-01\", \"2018-11-01\"], \"y\": [1.0, 1.0, 2.0, 1.0, 4.0, 2.0, 2.0, 1.0, 1.0], \"type\": \"scatter\", \"uid\": \"2300bf7d-fd67-11e8-9f7d-b46bfca2d37e\", \"xaxis\": \"x30\", \"yaxis\": \"y30\"}, {\"legendgroup\": \"10.768\", \"marker\": {\"color\": \"gray\"}, \"name\": \"10.768\", \"showlegend\": false, \"x\": [\"2017-03-01\", \"2017-06-01\", \"2018-02-01\", \"2018-07-01\"], \"y\": [3270493.0, 5317411.0, 3857792.0, 7998715.0], \"type\": \"scatter\", \"uid\": \"2300bf7e-fd67-11e8-8a3c-b46bfca2d37e\", \"xaxis\": \"x29\", \"yaxis\": \"y29\"}, {\"legendgroup\": \"10.768\", \"marker\": {\"color\": \"gray\"}, \"name\": \"10.768\", \"showlegend\": false, \"x\": [\"2017-03-01\", \"2017-06-01\", \"2018-02-01\", \"2018-07-01\"], \"y\": [1.0, 1.0, 1.0, 2.0], \"type\": \"scatter\", \"uid\": \"23032276-fd67-11e8-b523-b46bfca2d37e\", \"xaxis\": \"x30\", \"yaxis\": \"y30\"}, {\"legendgroup\": \"10.868\", \"marker\": {\"color\": \"mediumvioletred\"}, \"name\": \"10.868\", \"showlegend\": false, \"x\": [\"2017-03-01\"], \"y\": [17380.0], \"type\": \"scatter\", \"uid\": \"23032277-fd67-11e8-8275-b46bfca2d37e\", \"xaxis\": \"x29\", \"yaxis\": \"y29\"}, {\"legendgroup\": \"10.868\", \"marker\": {\"color\": \"mediumvioletred\"}, \"name\": \"10.868\", \"showlegend\": false, \"x\": [\"2017-03-01\"], \"y\": [1.0], \"type\": \"scatter\", \"uid\": \"23032278-fd67-11e8-a366-b46bfca2d37e\", \"xaxis\": \"x30\", \"yaxis\": \"y30\"}, {\"legendgroup\": \"10.874\", \"marker\": {\"color\": \"mediumaquamarine\"}, \"name\": \"10.874\", \"showlegend\": false, \"x\": [\"2017-03-01\", \"2018-03-01\"], \"y\": [65830.0, 301168.0], \"type\": \"scatter\", \"uid\": \"2305837e-fd67-11e8-b0a5-b46bfca2d37e\", \"xaxis\": \"x29\", \"yaxis\": \"y29\"}, {\"legendgroup\": \"10.874\", \"marker\": {\"color\": \"mediumaquamarine\"}, \"name\": \"10.874\", \"showlegend\": false, \"x\": [\"2017-03-01\", \"2018-03-01\"], \"y\": [3.0, 4.0], \"type\": \"scatter\", \"uid\": \"2305837f-fd67-11e8-8420-b46bfca2d37e\", \"xaxis\": \"x30\", \"yaxis\": \"y30\"}, {\"legendgroup\": \"10.351\", \"marker\": {\"color\": \"magenta\"}, \"name\": \"10.351\", \"showlegend\": false, \"x\": [\"2017-07-01\", \"2018-03-01\", \"2018-11-01\"], \"y\": [37774.0, 5299.0, 52004.0], \"type\": \"scatter\", \"uid\": \"23058380-fd67-11e8-a384-b46bfca2d37e\", \"xaxis\": \"x29\", \"yaxis\": \"y29\"}, {\"legendgroup\": \"10.351\", \"marker\": {\"color\": \"magenta\"}, \"name\": \"10.351\", \"showlegend\": false, \"x\": [\"2017-07-01\", \"2018-03-01\", \"2018-11-01\"], \"y\": [3.0, 4.0, 1.0], \"type\": \"scatter\", \"uid\": \"23058381-fd67-11e8-9f07-b46bfca2d37e\", \"xaxis\": \"x30\", \"yaxis\": \"y30\"}, {\"legendgroup\": \"10.771\", \"marker\": {\"color\": \"greenyellow\"}, \"name\": \"10.771\", \"showlegend\": false, \"x\": [\"2018-10-01\"], \"y\": [196303.0], \"type\": \"scatter\", \"uid\": \"23058382-fd67-11e8-aeb7-b46bfca2d37e\", \"xaxis\": \"x29\", \"yaxis\": \"y29\"}, {\"legendgroup\": \"10.771\", \"marker\": {\"color\": \"greenyellow\"}, \"name\": \"10.771\", \"showlegend\": false, \"x\": [\"2018-10-01\"], \"y\": [11.0], \"type\": \"scatter\", \"uid\": \"23084212-fd67-11e8-945e-b46bfca2d37e\", \"xaxis\": \"x30\", \"yaxis\": \"y30\"}, {\"legendgroup\": \"10.871\", \"marker\": {\"color\": \"paleturquoise\"}, \"name\": \"10.871\", \"showlegend\": false, \"x\": [\"2018-10-01\"], \"y\": [175000.0], \"type\": \"scatter\", \"uid\": \"2309054a-fd67-11e8-88e8-b46bfca2d37e\", \"xaxis\": \"x29\", \"yaxis\": \"y29\"}, {\"legendgroup\": \"10.871\", \"marker\": {\"color\": \"paleturquoise\"}, \"name\": \"10.871\", \"showlegend\": false, \"x\": [\"2018-10-01\"], \"y\": [7.0], \"type\": \"scatter\", \"uid\": \"23097a8a-fd67-11e8-96e9-b46bfca2d37e\", \"xaxis\": \"x30\", \"yaxis\": \"y30\"}, {\"legendgroup\": \"10.890\", \"marker\": {\"color\": \"lightgreen\"}, \"name\": \"10.890\", \"showlegend\": false, \"x\": [\"2018-11-01\"], \"y\": [112509.0], \"type\": \"scatter\", \"uid\": \"230a158c-fd67-11e8-b659-b46bfca2d37e\", \"xaxis\": \"x29\", \"yaxis\": \"y29\"}, {\"legendgroup\": \"10.890\", \"marker\": {\"color\": \"lightgreen\"}, \"name\": \"10.890\", \"showlegend\": false, \"x\": [\"2018-11-01\"], \"y\": [1.0], \"type\": \"scatter\", \"uid\": \"230a8ac8-fd67-11e8-8c51-b46bfca2d37e\", \"xaxis\": \"x30\", \"yaxis\": \"y30\"}, {\"legendgroup\": \"10.427\", \"marker\": {\"color\": \"indianred\"}, \"name\": \"10.427\", \"showlegend\": false, \"x\": [\"2016-12-01\", \"2017-01-01\", \"2017-02-01\", \"2017-03-01\", \"2017-04-01\", \"2017-05-01\", \"2017-07-01\", \"2017-09-01\", \"2017-11-01\", \"2017-12-01\", \"2018-01-01\", \"2018-03-01\", \"2018-04-01\", \"2018-05-01\", \"2018-06-01\", \"2018-07-01\", \"2018-08-01\", \"2018-09-01\"], \"y\": [227941.0, 347864.0, 607642.0, 337264.0, 204963.0, 306045.0, 155479.0, 187800.0, 92458.0, 378469.0, 50224.0, 555938.0, 127696.0, 360847.0, 107115.0, 431834.0, 31674.0, 85762.0], \"type\": \"scatter\", \"uid\": \"230b26e4-fd67-11e8-bf5b-b46bfca2d37e\", \"xaxis\": \"x31\", \"yaxis\": \"y31\"}, {\"legendgroup\": \"10.427\", \"marker\": {\"color\": \"indianred\"}, \"name\": \"10.427\", \"showlegend\": false, \"x\": [\"2016-12-01\", \"2017-01-01\", \"2017-02-01\", \"2017-03-01\", \"2017-04-01\", \"2017-05-01\", \"2017-07-01\", \"2017-09-01\", \"2017-11-01\", \"2017-12-01\", \"2018-01-01\", \"2018-03-01\", \"2018-04-01\", \"2018-05-01\", \"2018-06-01\", \"2018-07-01\", \"2018-08-01\", \"2018-09-01\"], \"y\": [1.0, 3.0, 1.0, 6.0, 2.0, 1.0, 3.0, 3.0, 4.0, 4.0, 2.0, 5.0, 2.0, 3.0, 1.0, 4.0, 2.0, 5.0], \"type\": \"scatter\", \"uid\": \"230bc474-fd67-11e8-b9c8-b46bfca2d37e\", \"xaxis\": \"x32\", \"yaxis\": \"y32\"}, {\"legendgroup\": \"10.405\", \"marker\": {\"color\": \"green\"}, \"name\": \"10.405\", \"showlegend\": false, \"x\": [\"2017-01-01\", \"2017-05-01\", \"2017-09-01\", \"2018-02-01\", \"2018-07-01\", \"2018-10-01\"], \"y\": [1082000.0, 559179.0, 1305063.0, 1007845.0, 2059811.0, 2344735.0], \"type\": \"scatter\", \"uid\": \"230c8686-fd67-11e8-a2af-b46bfca2d37e\", \"xaxis\": \"x31\", \"yaxis\": \"y31\"}, {\"legendgroup\": \"10.405\", \"marker\": {\"color\": \"green\"}, \"name\": \"10.405\", \"showlegend\": false, \"x\": [\"2017-01-01\", \"2017-05-01\", \"2017-09-01\", \"2018-02-01\", \"2018-07-01\", \"2018-10-01\"], \"y\": [2.0, 1.0, 1.0, 1.0, 1.0, 3.0], \"type\": \"scatter\", \"uid\": \"230cfffe-fd67-11e8-9efe-b46bfca2d37e\", \"xaxis\": \"x32\", \"yaxis\": \"y32\"}, {\"legendgroup\": \"10.415\", \"marker\": {\"color\": \"honeydew\"}, \"name\": \"10.415\", \"showlegend\": false, \"x\": [\"2017-01-01\", \"2017-02-01\", \"2017-03-01\", \"2017-04-01\", \"2017-05-01\", \"2017-06-01\", \"2017-07-01\", \"2017-08-01\", \"2017-09-01\", \"2017-10-01\", \"2017-11-01\", \"2017-12-01\", \"2018-01-01\", \"2018-02-01\", \"2018-03-01\", \"2018-04-01\", \"2018-05-01\", \"2018-06-01\", \"2018-07-01\", \"2018-08-01\", \"2018-09-01\", \"2018-10-01\", \"2018-11-01\"], \"y\": [8471204.0, 5985847.0, 6020744.0, 17379319.0, 3916696.0, 750439.0, 8148993.0, 4413877.0, 28349156.0, 1589881.0, 877730.0, 8567833.0, 7376311.0, 6763236.0, 19841944.0, 5003565.0, 6076436.0, 4654747.0, 1759147.0, 4248452.0, 15573823.0, 3571403.0, 1789748.0], \"type\": \"scatter\", \"uid\": \"230cffff-fd67-11e8-87b7-b46bfca2d37e\", \"xaxis\": \"x31\", \"yaxis\": \"y31\"}, {\"legendgroup\": \"10.415\", \"marker\": {\"color\": \"honeydew\"}, \"name\": \"10.415\", \"showlegend\": false, \"x\": [\"2017-01-01\", \"2017-02-01\", \"2017-03-01\", \"2017-04-01\", \"2017-05-01\", \"2017-06-01\", \"2017-07-01\", \"2017-08-01\", \"2017-09-01\", \"2017-10-01\", \"2017-11-01\", \"2017-12-01\", \"2018-01-01\", \"2018-02-01\", \"2018-03-01\", \"2018-04-01\", \"2018-05-01\", \"2018-06-01\", \"2018-07-01\", \"2018-08-01\", \"2018-09-01\", \"2018-10-01\", \"2018-11-01\"], \"y\": [5.0, 6.0, 6.0, 5.0, 6.0, 1.0, 8.0, 7.0, 20.0, 3.0, 4.0, 13.0, 7.0, 7.0, 16.0, 5.0, 7.0, 5.0, 2.0, 4.0, 13.0, 3.0, 1.0], \"type\": \"scatter\", \"uid\": \"230d0000-fd67-11e8-980b-b46bfca2d37e\", \"xaxis\": \"x32\", \"yaxis\": \"y32\"}, {\"legendgroup\": \"10.766\", \"marker\": {\"color\": \"gold\"}, \"name\": \"10.766\", \"showlegend\": false, \"x\": [\"2017-01-01\", \"2017-02-01\", \"2017-03-01\", \"2017-04-01\", \"2017-05-01\", \"2017-06-01\", \"2017-07-01\", \"2017-08-01\", \"2017-09-01\", \"2017-10-01\", \"2017-11-01\", \"2017-12-01\", \"2018-01-01\", \"2018-02-01\", \"2018-03-01\", \"2018-05-01\", \"2018-06-01\", \"2018-07-01\", \"2018-08-01\", \"2018-09-01\", \"2018-10-01\", \"2018-11-01\"], \"y\": [34905575.0, 14425500.0, 14019802.0, 20676823.0, 25880920.0, 9684969.0, 23746.0, 53510172.0, 12572312.0, 11629715.0, 29147292.0, 27537779.0, 31088061.0, 3927747.0, 36279846.0, 27355113.0, 1893783.0, 1667241.0, 42458000.0, 37235447.0, 21668738.0, 21270736.0], \"type\": \"scatter\", \"uid\": \"230d0001-fd67-11e8-9af6-b46bfca2d37e\", \"xaxis\": \"x31\", \"yaxis\": \"y31\"}, {\"legendgroup\": \"10.766\", \"marker\": {\"color\": \"gold\"}, \"name\": \"10.766\", \"showlegend\": false, \"x\": [\"2017-01-01\", \"2017-02-01\", \"2017-03-01\", \"2017-04-01\", \"2017-05-01\", \"2017-06-01\", \"2017-07-01\", \"2017-08-01\", \"2017-09-01\", \"2017-10-01\", \"2017-11-01\", \"2017-12-01\", \"2018-01-01\", \"2018-02-01\", \"2018-03-01\", \"2018-05-01\", \"2018-06-01\", \"2018-07-01\", \"2018-08-01\", \"2018-09-01\", \"2018-10-01\", \"2018-11-01\"], \"y\": [5.0, 10.0, 6.0, 3.0, 4.0, 3.0, 2.0, 7.0, 14.0, 1.0, 4.0, 8.0, 7.0, 3.0, 15.0, 13.0, 1.0, 2.0, 16.0, 11.0, 5.0, 15.0], \"type\": \"scatter\", \"uid\": \"230d0002-fd67-11e8-808d-b46bfca2d37e\", \"xaxis\": \"x32\", \"yaxis\": \"y32\"}, {\"legendgroup\": \"10.446\", \"marker\": {\"color\": \"sandybrown\"}, \"name\": \"10.446\", \"showlegend\": false, \"x\": [\"2017-02-01\", \"2017-06-01\", \"2018-02-01\"], \"y\": [145040.0, 808938.0, 143006.0], \"type\": \"scatter\", \"uid\": \"230f62c6-fd67-11e8-9579-b46bfca2d37e\", \"xaxis\": \"x31\", \"yaxis\": \"y31\"}, {\"legendgroup\": \"10.446\", \"marker\": {\"color\": \"sandybrown\"}, \"name\": \"10.446\", \"showlegend\": false, \"x\": [\"2017-02-01\", \"2017-06-01\", \"2018-02-01\"], \"y\": [1.0, 1.0, 1.0], \"type\": \"scatter\", \"uid\": \"230f62c7-fd67-11e8-b8e1-b46bfca2d37e\", \"xaxis\": \"x32\", \"yaxis\": \"y32\"}, {\"legendgroup\": \"10.438\", \"marker\": {\"color\": \"lime\"}, \"name\": \"10.438\", \"showlegend\": false, \"x\": [\"2017-09-01\", \"2018-09-01\"], \"y\": [489313.0, 480033.0], \"type\": \"scatter\", \"uid\": \"230f62c8-fd67-11e8-bd11-b46bfca2d37e\", \"xaxis\": \"x31\", \"yaxis\": \"y31\"}, {\"legendgroup\": \"10.438\", \"marker\": {\"color\": \"lime\"}, \"name\": \"10.438\", \"showlegend\": false, \"x\": [\"2017-09-01\", \"2018-09-01\"], \"y\": [2.0, 1.0], \"type\": \"scatter\", \"uid\": \"2311c634-fd67-11e8-9050-b46bfca2d37e\", \"xaxis\": \"x32\", \"yaxis\": \"y32\"}, {\"legendgroup\": \"10.447\", \"marker\": {\"color\": \"purple\"}, \"name\": \"10.447\", \"showlegend\": false, \"x\": [\"2017-09-01\", \"2017-12-01\", \"2018-01-01\", \"2018-04-01\", \"2018-06-01\", \"2018-11-01\"], \"y\": [1460045.0, 3169120.0, 4034155.0, 856782.0, 1460249.0, 1059252.0], \"type\": \"scatter\", \"uid\": \"2311c635-fd67-11e8-ad14-b46bfca2d37e\", \"xaxis\": \"x31\", \"yaxis\": \"y31\"}, {\"legendgroup\": \"10.447\", \"marker\": {\"color\": \"purple\"}, \"name\": \"10.447\", \"showlegend\": false, \"x\": [\"2017-09-01\", \"2017-12-01\", \"2018-01-01\", \"2018-04-01\", \"2018-06-01\", \"2018-11-01\"], \"y\": [1.0, 3.0, 6.0, 1.0, 1.0, 2.0], \"type\": \"scatter\", \"uid\": \"2311c636-fd67-11e8-ae99-b46bfca2d37e\", \"xaxis\": \"x32\", \"yaxis\": \"y32\"}, {\"legendgroup\": \"10.420\", \"marker\": {\"color\": \"hotpink\"}, \"name\": \"10.420\", \"showlegend\": false, \"x\": [\"2017-10-01\", \"2018-03-01\"], \"y\": [530638.0, 1204013.0], \"type\": \"scatter\", \"uid\": \"2311c637-fd67-11e8-8782-b46bfca2d37e\", \"xaxis\": \"x31\", \"yaxis\": \"y31\"}, {\"legendgroup\": \"10.420\", \"marker\": {\"color\": \"hotpink\"}, \"name\": \"10.420\", \"showlegend\": false, \"x\": [\"2017-10-01\", \"2018-03-01\"], \"y\": [3.0, 1.0], \"type\": \"scatter\", \"uid\": \"2311c638-fd67-11e8-aa2a-b46bfca2d37e\", \"xaxis\": \"x32\", \"yaxis\": \"y32\"}, {\"legendgroup\": \"10.433\", \"marker\": {\"color\": \"indigo\"}, \"name\": \"10.433\", \"showlegend\": false, \"x\": [\"2017-11-01\", \"2018-06-01\"], \"y\": [6768.0, 9539.0], \"type\": \"scatter\", \"uid\": \"2314274a-fd67-11e8-a8e2-b46bfca2d37e\", \"xaxis\": \"x31\", \"yaxis\": \"y31\"}, {\"legendgroup\": \"10.433\", \"marker\": {\"color\": \"indigo\"}, \"name\": \"10.433\", \"showlegend\": false, \"x\": [\"2017-11-01\", \"2018-06-01\"], \"y\": [2.0, 4.0], \"type\": \"scatter\", \"uid\": \"2314274b-fd67-11e8-9e84-b46bfca2d37e\", \"xaxis\": \"x32\", \"yaxis\": \"y32\"}, {\"legendgroup\": \"10.460\", \"marker\": {\"color\": \"lawngreen\"}, \"name\": \"10.460\", \"showlegend\": false, \"x\": [\"2017-03-01\", \"2018-03-01\"], \"y\": [26085.0, 20607.0], \"type\": \"scatter\", \"uid\": \"2314274c-fd67-11e8-a573-b46bfca2d37e\", \"xaxis\": \"x33\", \"yaxis\": \"y33\"}, {\"legendgroup\": \"10.460\", \"marker\": {\"color\": \"lawngreen\"}, \"name\": \"10.460\", \"showlegend\": false, \"x\": [\"2017-03-01\", \"2018-03-01\"], \"y\": [1.0, 1.0], \"type\": \"scatter\", \"uid\": \"2314274d-fd67-11e8-ab49-b46bfca2d37e\", \"xaxis\": \"x34\", \"yaxis\": \"y34\"}, {\"legendgroup\": \"10.760\", \"marker\": {\"color\": \"fuchsia\"}, \"name\": \"10.760\", \"showlegend\": false, \"x\": [\"2016-12-01\", \"2017-01-01\", \"2017-02-01\", \"2017-03-01\", \"2017-04-01\", \"2017-05-01\", \"2017-06-01\", \"2017-07-01\", \"2017-08-01\", \"2017-09-01\", \"2017-10-01\", \"2017-11-01\", \"2017-12-01\", \"2018-01-01\", \"2018-02-01\", \"2018-03-01\", \"2018-04-01\", \"2018-05-01\", \"2018-06-01\", \"2018-07-01\", \"2018-08-01\", \"2018-09-01\", \"2018-10-01\", \"2018-11-01\"], \"y\": [8826752.0, 5547464.0, 1814157.0, 11193920.0, 22397879.0, 20909874.0, 13626701.0, 15190152.0, 10794395.0, 22452674.0, 11912063.0, 4674634.0, 10963150.0, 5680505.0, 12620580.0, 12424997.0, 6882540.0, 7754603.0, 22747630.0, 9853283.0, 19656567.0, 47615778.0, 16383230.0, 24603328.0], \"type\": \"scatter\", \"uid\": \"231689f4-fd67-11e8-a721-b46bfca2d37e\", \"xaxis\": \"x35\", \"yaxis\": \"y35\"}, {\"legendgroup\": \"10.760\", \"marker\": {\"color\": \"fuchsia\"}, \"name\": \"10.760\", \"showlegend\": false, \"x\": [\"2016-12-01\", \"2017-01-01\", \"2017-02-01\", \"2017-03-01\", \"2017-04-01\", \"2017-05-01\", \"2017-06-01\", \"2017-07-01\", \"2017-08-01\", \"2017-09-01\", \"2017-10-01\", \"2017-11-01\", \"2017-12-01\", \"2018-01-01\", \"2018-02-01\", \"2018-03-01\", \"2018-04-01\", \"2018-05-01\", \"2018-06-01\", \"2018-07-01\", \"2018-08-01\", \"2018-09-01\", \"2018-10-01\", \"2018-11-01\"], \"y\": [8.0, 4.0, 3.0, 11.0, 10.0, 20.0, 13.0, 12.0, 10.0, 20.0, 4.0, 12.0, 12.0, 9.0, 8.0, 9.0, 2.0, 11.0, 12.0, 10.0, 21.0, 29.0, 15.0, 10.0], \"type\": \"scatter\", \"uid\": \"231689f5-fd67-11e8-92e4-b46bfca2d37e\", \"xaxis\": \"x36\", \"yaxis\": \"y36\"}, {\"legendgroup\": \"10.851\", \"marker\": {\"color\": \"purple\"}, \"name\": \"10.851\", \"showlegend\": false, \"x\": [\"2017-01-01\"], \"y\": [29941772.0], \"type\": \"scatter\", \"uid\": \"231689f6-fd67-11e8-83ad-b46bfca2d37e\", \"xaxis\": \"x35\", \"yaxis\": \"y35\"}, {\"legendgroup\": \"10.851\", \"marker\": {\"color\": \"purple\"}, \"name\": \"10.851\", \"showlegend\": false, \"x\": [\"2017-01-01\"], \"y\": [2.0], \"type\": \"scatter\", \"uid\": \"231689f7-fd67-11e8-ad53-b46bfca2d37e\", \"xaxis\": \"x36\", \"yaxis\": \"y36\"}, {\"legendgroup\": \"10.855\", \"marker\": {\"color\": \"salmon\"}, \"name\": \"10.855\", \"showlegend\": false, \"x\": [\"2017-01-01\", \"2017-12-01\", \"2018-03-01\"], \"y\": [94010.0, 441052.0, 153082.0], \"type\": \"scatter\", \"uid\": \"2318f4a4-fd67-11e8-9187-b46bfca2d37e\", \"xaxis\": \"x35\", \"yaxis\": \"y35\"}, {\"legendgroup\": \"10.855\", \"marker\": {\"color\": \"salmon\"}, \"name\": \"10.855\", \"showlegend\": false, \"x\": [\"2017-01-01\", \"2017-12-01\", \"2018-03-01\"], \"y\": [1.0, 2.0, 1.0], \"type\": \"scatter\", \"uid\": \"231990d4-fd67-11e8-82c0-b46bfca2d37e\", \"xaxis\": \"x36\", \"yaxis\": \"y36\"}, {\"legendgroup\": \"10.763\", \"marker\": {\"color\": \"orangered\"}, \"name\": \"10.763\", \"showlegend\": false, \"x\": [\"2017-03-01\", \"2018-02-01\"], \"y\": [876940.0, 297292.0], \"type\": \"scatter\", \"uid\": \"231a05fa-fd67-11e8-a429-b46bfca2d37e\", \"xaxis\": \"x35\", \"yaxis\": \"y35\"}, {\"legendgroup\": \"10.763\", \"marker\": {\"color\": \"orangered\"}, \"name\": \"10.763\", \"showlegend\": false, \"x\": [\"2017-03-01\", \"2018-02-01\"], \"y\": [1.0, 1.0], \"type\": \"scatter\", \"uid\": \"231aa236-fd67-11e8-a1db-b46bfca2d37e\", \"xaxis\": \"x36\", \"yaxis\": \"y36\"}, {\"legendgroup\": \"10.770\", \"marker\": {\"color\": \"green\"}, \"name\": \"10.770\", \"showlegend\": false, \"x\": [\"2017-05-01\", \"2017-08-01\", \"2017-12-01\"], \"y\": [445409.0, 1689000.0, 100000.0], \"type\": \"scatter\", \"uid\": \"231b3e6e-fd67-11e8-8f8e-b46bfca2d37e\", \"xaxis\": \"x35\", \"yaxis\": \"y35\"}, {\"legendgroup\": \"10.770\", \"marker\": {\"color\": \"green\"}, \"name\": \"10.770\", \"showlegend\": false, \"x\": [\"2017-05-01\", \"2017-08-01\", \"2017-12-01\"], \"y\": [1.0, 3.0, 1.0], \"type\": \"scatter\", \"uid\": \"231c0306-fd67-11e8-bca3-b46bfca2d37e\", \"xaxis\": \"x36\", \"yaxis\": \"y36\"}, {\"legendgroup\": \"10.859\", \"marker\": {\"color\": \"lightblue\"}, \"name\": \"10.859\", \"showlegend\": false, \"x\": [\"2017-05-01\", \"2018-03-01\"], \"y\": [93500.0, 77119.0], \"type\": \"scatter\", \"uid\": \"231c54e4-fd67-11e8-bd8e-b46bfca2d37e\", \"xaxis\": \"x35\", \"yaxis\": \"y35\"}, {\"legendgroup\": \"10.859\", \"marker\": {\"color\": \"lightblue\"}, \"name\": \"10.859\", \"showlegend\": false, \"x\": [\"2017-05-01\", \"2018-03-01\"], \"y\": [1.0, 1.0], \"type\": \"scatter\", \"uid\": \"231c54e5-fd67-11e8-8568-b46bfca2d37e\", \"xaxis\": \"x36\", \"yaxis\": \"y36\"}, {\"legendgroup\": \"10.759\", \"marker\": {\"color\": \"forestgreen\"}, \"name\": \"10.759\", \"showlegend\": false, \"x\": [\"2017-06-01\"], \"y\": [29400.0], \"type\": \"scatter\", \"uid\": \"231c54e6-fd67-11e8-a6a2-b46bfca2d37e\", \"xaxis\": \"x35\", \"yaxis\": \"y35\"}, {\"legendgroup\": \"10.759\", \"marker\": {\"color\": \"forestgreen\"}, \"name\": \"10.759\", \"showlegend\": false, \"x\": [\"2017-06-01\"], \"y\": [2.0], \"type\": \"scatter\", \"uid\": \"231c54e7-fd67-11e8-837f-b46bfca2d37e\", \"xaxis\": \"x36\", \"yaxis\": \"y36\"}, {\"legendgroup\": \"10.864\", \"marker\": {\"color\": \"lightcoral\"}, \"name\": \"10.864\", \"showlegend\": false, \"x\": [\"2017-12-01\", \"2018-09-01\"], \"y\": [2664343.0, 1027924.0], \"type\": \"scatter\", \"uid\": \"231eb79c-fd67-11e8-abfa-b46bfca2d37e\", \"xaxis\": \"x35\", \"yaxis\": \"y35\"}, {\"legendgroup\": \"10.864\", \"marker\": {\"color\": \"lightcoral\"}, \"name\": \"10.864\", \"showlegend\": false, \"x\": [\"2017-12-01\", \"2018-09-01\"], \"y\": [1.0, 1.0], \"type\": \"scatter\", \"uid\": \"231eb79d-fd67-11e8-8f64-b46bfca2d37e\", \"xaxis\": \"x36\", \"yaxis\": \"y36\"}, {\"legendgroup\": \"10.761\", \"marker\": {\"color\": \"orchid\"}, \"name\": \"10.761\", \"showlegend\": false, \"x\": [\"2018-07-01\"], \"y\": [115750.0], \"type\": \"scatter\", \"uid\": \"231eb79e-fd67-11e8-8ec8-b46bfca2d37e\", \"xaxis\": \"x35\", \"yaxis\": \"y35\"}, {\"legendgroup\": \"10.761\", \"marker\": {\"color\": \"orchid\"}, \"name\": \"10.761\", \"showlegend\": false, \"x\": [\"2018-07-01\"], \"y\": [1.0], \"type\": \"scatter\", \"uid\": \"231eb79f-fd67-11e8-ac5b-b46bfca2d37e\", \"xaxis\": \"x36\", \"yaxis\": \"y36\"}, {\"legendgroup\": \"10.EQIP200874611412216\", \"marker\": {\"color\": \"burlywood\"}, \"name\": \"10.EQIP200874611412216\", \"showlegend\": false, \"x\": [\"2016-12-01\"], \"y\": [8568.0], \"type\": \"scatter\", \"uid\": \"231eb7a0-fd67-11e8-adc4-b46bfca2d37e\", \"xaxis\": \"x37\", \"yaxis\": \"y37\"}, {\"legendgroup\": \"10.EQIP200874611412216\", \"marker\": {\"color\": \"burlywood\"}, \"name\": \"10.EQIP200874611412216\", \"showlegend\": false, \"x\": [\"2016-12-01\"], \"y\": [1.0], \"type\": \"scatter\", \"uid\": \"23211af6-fd67-11e8-9132-b46bfca2d37e\", \"xaxis\": \"x38\", \"yaxis\": \"y38\"}, {\"legendgroup\": \"10.076\", \"marker\": {\"color\": \"rosybrown\"}, \"name\": \"10.076\", \"showlegend\": false, \"x\": [\"2017-01-01\", \"2017-11-01\"], \"y\": [2500000.0, 2601000.0], \"type\": \"scatter\", \"uid\": \"23211af7-fd67-11e8-b5a1-b46bfca2d37e\", \"xaxis\": \"x37\", \"yaxis\": \"y37\"}, {\"legendgroup\": \"10.076\", \"marker\": {\"color\": \"rosybrown\"}, \"name\": \"10.076\", \"showlegend\": false, \"x\": [\"2017-01-01\", \"2017-11-01\"], \"y\": [1.0, 2.0], \"type\": \"scatter\", \"uid\": \"23211af8-fd67-11e8-9ebc-b46bfca2d37e\", \"xaxis\": \"x38\", \"yaxis\": \"y38\"}, {\"legendgroup\": \"10.U00\", \"marker\": {\"color\": \"chocolate\"}, \"name\": \"10.U00\", \"showlegend\": false, \"x\": [\"2017-01-01\", \"2017-03-01\", \"2018-01-01\", \"2018-03-01\"], \"y\": [3579.0, 16957771.0, 1246.0, 939907.0], \"type\": \"scatter\", \"uid\": \"23237c24-fd67-11e8-8148-b46bfca2d37e\", \"xaxis\": \"x37\", \"yaxis\": \"y37\"}, {\"legendgroup\": \"10.U00\", \"marker\": {\"color\": \"chocolate\"}, \"name\": \"10.U00\", \"showlegend\": false, \"x\": [\"2017-01-01\", \"2017-03-01\", \"2018-01-01\", \"2018-03-01\"], \"y\": [2.0, 4.0, 3.0, 8.0], \"type\": \"scatter\", \"uid\": \"23237c25-fd67-11e8-b8b7-b46bfca2d37e\", \"xaxis\": \"x38\", \"yaxis\": \"y38\"}, {\"legendgroup\": \"10.U01\", \"marker\": {\"color\": \"coral\"}, \"name\": \"10.U01\", \"showlegend\": false, \"x\": [\"2017-01-01\", \"2017-02-01\", \"2017-03-01\", \"2017-12-01\", \"2018-01-01\", \"2018-02-01\", \"2018-07-01\", \"2018-08-01\", \"2018-11-01\"], \"y\": [1284186.0, 10453.0, 28876.0, 803593.0, 1844555.0, 2590921.0, 1401493.0, 3750.0, 4536.0], \"type\": \"scatter\", \"uid\": \"23237c26-fd67-11e8-9e06-b46bfca2d37e\", \"xaxis\": \"x37\", \"yaxis\": \"y37\"}, {\"legendgroup\": \"10.U01\", \"marker\": {\"color\": \"coral\"}, \"name\": \"10.U01\", \"showlegend\": false, \"x\": [\"2017-01-01\", \"2017-02-01\", \"2017-03-01\", \"2017-12-01\", \"2018-01-01\", \"2018-02-01\", \"2018-07-01\", \"2018-08-01\", \"2018-11-01\"], \"y\": [2.0, 4.0, 1.0, 4.0, 3.0, 3.0, 2.0, 1.0, 1.0], \"type\": \"scatter\", \"uid\": \"23237c27-fd67-11e8-b2f1-b46bfca2d37e\", \"xaxis\": \"x38\", \"yaxis\": \"y38\"}, {\"legendgroup\": \"10.U02\", \"marker\": {\"color\": \"cornflowerblue\"}, \"name\": \"10.U02\", \"showlegend\": false, \"x\": [\"2017-01-01\", \"2018-01-01\"], \"y\": [68219.0, 10882.0], \"type\": \"scatter\", \"uid\": \"2325de74-fd67-11e8-b8ad-b46bfca2d37e\", \"xaxis\": \"x37\", \"yaxis\": \"y37\"}, {\"legendgroup\": \"10.U02\", \"marker\": {\"color\": \"cornflowerblue\"}, \"name\": \"10.U02\", \"showlegend\": false, \"x\": [\"2017-01-01\", \"2018-01-01\"], \"y\": [2.0, 3.0], \"type\": \"scatter\", \"uid\": \"2325de75-fd67-11e8-949d-b46bfca2d37e\", \"xaxis\": \"x38\", \"yaxis\": \"y38\"}, {\"legendgroup\": \"10.U03\", \"marker\": {\"color\": \"plum\"}, \"name\": \"10.U03\", \"showlegend\": false, \"x\": [\"2017-01-01\", \"2018-01-01\"], \"y\": [15528.0, -628.0], \"type\": \"scatter\", \"uid\": \"2325de76-fd67-11e8-bfb6-b46bfca2d37e\", \"xaxis\": \"x37\", \"yaxis\": \"y37\"}, {\"legendgroup\": \"10.U03\", \"marker\": {\"color\": \"plum\"}, \"name\": \"10.U03\", \"showlegend\": false, \"x\": [\"2017-01-01\", \"2018-01-01\"], \"y\": [2.0, 3.0], \"type\": \"scatter\", \"uid\": \"2325de77-fd67-11e8-937a-b46bfca2d37e\", \"xaxis\": \"x38\", \"yaxis\": \"y38\"}, {\"legendgroup\": \"10.U04\", \"marker\": {\"color\": \"crimson\"}, \"name\": \"10.U04\", \"showlegend\": false, \"x\": [\"2017-01-01\", \"2018-01-01\"], \"y\": [11782.0, 58000.0], \"type\": \"scatter\", \"uid\": \"23295ba8-fd67-11e8-a953-b46bfca2d37e\", \"xaxis\": \"x37\", \"yaxis\": \"y37\"}, {\"legendgroup\": \"10.U04\", \"marker\": {\"color\": \"crimson\"}, \"name\": \"10.U04\", \"showlegend\": false, \"x\": [\"2017-01-01\", \"2018-01-01\"], \"y\": [2.0, 3.0], \"type\": \"scatter\", \"uid\": \"2329f8f4-fd67-11e8-91ce-b46bfca2d37e\", \"xaxis\": \"x38\", \"yaxis\": \"y38\"}, {\"legendgroup\": \"10.U05\", \"marker\": {\"color\": \"cyan\"}, \"name\": \"10.U05\", \"showlegend\": false, \"x\": [\"2017-01-01\", \"2018-01-01\"], \"y\": [10028.0, 21806.0], \"type\": \"scatter\", \"uid\": \"232a9536-fd67-11e8-ac84-b46bfca2d37e\", \"xaxis\": \"x37\", \"yaxis\": \"y37\"}, {\"legendgroup\": \"10.U05\", \"marker\": {\"color\": \"cyan\"}, \"name\": \"10.U05\", \"showlegend\": false, \"x\": [\"2017-01-01\", \"2018-01-01\"], \"y\": [2.0, 3.0], \"type\": \"scatter\", \"uid\": \"232b317e-fd67-11e8-b25b-b46bfca2d37e\", \"xaxis\": \"x38\", \"yaxis\": \"y38\"}, {\"legendgroup\": \"10.U06\", \"marker\": {\"color\": \"darkblue\"}, \"name\": \"10.U06\", \"showlegend\": false, \"x\": [\"2017-01-01\", \"2018-01-01\"], \"y\": [7861.0, 5865.0], \"type\": \"scatter\", \"uid\": \"232bad92-fd67-11e8-8235-b46bfca2d37e\", \"xaxis\": \"x37\", \"yaxis\": \"y37\"}, {\"legendgroup\": \"10.U06\", \"marker\": {\"color\": \"darkblue\"}, \"name\": \"10.U06\", \"showlegend\": false, \"x\": [\"2017-01-01\", \"2018-01-01\"], \"y\": [2.0, 3.0], \"type\": \"scatter\", \"uid\": \"232bad93-fd67-11e8-a52c-b46bfca2d37e\", \"xaxis\": \"x38\", \"yaxis\": \"y38\"}, {\"legendgroup\": \"10.U07\", \"marker\": {\"color\": \"darkcyan\"}, \"name\": \"10.U07\", \"showlegend\": false, \"x\": [\"2017-01-01\", \"2018-01-01\"], \"y\": [30153.0, 16672.0], \"type\": \"scatter\", \"uid\": \"232bad94-fd67-11e8-9ce6-b46bfca2d37e\", \"xaxis\": \"x37\", \"yaxis\": \"y37\"}, {\"legendgroup\": \"10.U07\", \"marker\": {\"color\": \"darkcyan\"}, \"name\": \"10.U07\", \"showlegend\": false, \"x\": [\"2017-01-01\", \"2018-01-01\"], \"y\": [2.0, 3.0], \"type\": \"scatter\", \"uid\": \"232bad95-fd67-11e8-8c71-b46bfca2d37e\", \"xaxis\": \"x38\", \"yaxis\": \"y38\"}, {\"legendgroup\": \"10.U08\", \"marker\": {\"color\": \"darkgoldenrod\"}, \"name\": \"10.U08\", \"showlegend\": false, \"x\": [\"2017-01-01\", \"2018-01-01\", \"2018-07-01\"], \"y\": [20493.0, 18850.0, 9564687.0], \"type\": \"scatter\", \"uid\": \"232e1034-fd67-11e8-ac3e-b46bfca2d37e\", \"xaxis\": \"x37\", \"yaxis\": \"y37\"}, {\"legendgroup\": \"10.U08\", \"marker\": {\"color\": \"darkgoldenrod\"}, \"name\": \"10.U08\", \"showlegend\": false, \"x\": [\"2017-01-01\", \"2018-01-01\", \"2018-07-01\"], \"y\": [2.0, 3.0, 7.0], \"type\": \"scatter\", \"uid\": \"232e1035-fd67-11e8-94d9-b46bfca2d37e\", \"xaxis\": \"x38\", \"yaxis\": \"y38\"}, {\"legendgroup\": \"10.U09\", \"marker\": {\"color\": \"darkgray\"}, \"name\": \"10.U09\", \"showlegend\": false, \"x\": [\"2017-01-01\", \"2018-01-01\", \"2018-07-01\"], \"y\": [95141.0, 23919.0, 131754.0], \"type\": \"scatter\", \"uid\": \"232e1036-fd67-11e8-9388-b46bfca2d37e\", \"xaxis\": \"x37\", \"yaxis\": \"y37\"}, {\"legendgroup\": \"10.U09\", \"marker\": {\"color\": \"darkgray\"}, \"name\": \"10.U09\", \"showlegend\": false, \"x\": [\"2017-01-01\", \"2018-01-01\", \"2018-07-01\"], \"y\": [2.0, 3.0, 7.0], \"type\": \"scatter\", \"uid\": \"232e1037-fd67-11e8-bf5f-b46bfca2d37e\", \"xaxis\": \"x38\", \"yaxis\": \"y38\"}, {\"legendgroup\": \"10.U10\", \"marker\": {\"color\": \"magenta\"}, \"name\": \"10.U10\", \"showlegend\": false, \"x\": [\"2017-01-01\", \"2018-01-01\", \"2018-07-01\"], \"y\": [13595.0, 4397.0, 514896.0], \"type\": \"scatter\", \"uid\": \"233073ae-fd67-11e8-899d-b46bfca2d37e\", \"xaxis\": \"x37\", \"yaxis\": \"y37\"}, {\"legendgroup\": \"10.U10\", \"marker\": {\"color\": \"magenta\"}, \"name\": \"10.U10\", \"showlegend\": false, \"x\": [\"2017-01-01\", \"2018-01-01\", \"2018-07-01\"], \"y\": [2.0, 3.0, 4.0], \"type\": \"scatter\", \"uid\": \"233073af-fd67-11e8-9987-b46bfca2d37e\", \"xaxis\": \"x38\", \"yaxis\": \"y38\"}, {\"legendgroup\": \"10.U11\", \"marker\": {\"color\": \"darkgreen\"}, \"name\": \"10.U11\", \"showlegend\": false, \"x\": [\"2017-01-01\", \"2018-01-01\"], \"y\": [26344.0, 2476.0], \"type\": \"scatter\", \"uid\": \"233073b0-fd67-11e8-9c32-b46bfca2d37e\", \"xaxis\": \"x37\", \"yaxis\": \"y37\"}, {\"legendgroup\": \"10.U11\", \"marker\": {\"color\": \"darkgreen\"}, \"name\": \"10.U11\", \"showlegend\": false, \"x\": [\"2017-01-01\", \"2018-01-01\"], \"y\": [2.0, 3.0], \"type\": \"scatter\", \"uid\": \"2332d4c2-fd67-11e8-bedf-b46bfca2d37e\", \"xaxis\": \"x38\", \"yaxis\": \"y38\"}, {\"legendgroup\": \"10.U12\", \"marker\": {\"color\": \"darkkhaki\"}, \"name\": \"10.U12\", \"showlegend\": false, \"x\": [\"2017-01-01\", \"2018-01-01\"], \"y\": [7502.0, 13619.0], \"type\": \"scatter\", \"uid\": \"2332d4c3-fd67-11e8-b453-b46bfca2d37e\", \"xaxis\": \"x37\", \"yaxis\": \"y37\"}, {\"legendgroup\": \"10.U12\", \"marker\": {\"color\": \"darkkhaki\"}, \"name\": \"10.U12\", \"showlegend\": false, \"x\": [\"2017-01-01\", \"2018-01-01\"], \"y\": [2.0, 3.0], \"type\": \"scatter\", \"uid\": \"2332d4c4-fd67-11e8-848b-b46bfca2d37e\", \"xaxis\": \"x38\", \"yaxis\": \"y38\"}, {\"legendgroup\": \"10.U13\", \"marker\": {\"color\": \"darkmagenta\"}, \"name\": \"10.U13\", \"showlegend\": false, \"x\": [\"2017-01-01\", \"2018-01-01\"], \"y\": [3205.0, 104924.0], \"type\": \"scatter\", \"uid\": \"2332d4c5-fd67-11e8-8596-b46bfca2d37e\", \"xaxis\": \"x37\", \"yaxis\": \"y37\"}, {\"legendgroup\": \"10.U13\", \"marker\": {\"color\": \"darkmagenta\"}, \"name\": \"10.U13\", \"showlegend\": false, \"x\": [\"2017-01-01\", \"2018-01-01\"], \"y\": [2.0, 3.0], \"type\": \"scatter\", \"uid\": \"2332d4c6-fd67-11e8-90c8-b46bfca2d37e\", \"xaxis\": \"x38\", \"yaxis\": \"y38\"}, {\"legendgroup\": \"10.U14\", \"marker\": {\"color\": \"darkolivegreen\"}, \"name\": \"10.U14\", \"showlegend\": false, \"x\": [\"2017-01-01\", \"2018-01-01\"], \"y\": [64481.0, 8092.0], \"type\": \"scatter\", \"uid\": \"233536f6-fd67-11e8-a2ac-b46bfca2d37e\", \"xaxis\": \"x37\", \"yaxis\": \"y37\"}, {\"legendgroup\": \"10.U14\", \"marker\": {\"color\": \"darkolivegreen\"}, \"name\": \"10.U14\", \"showlegend\": false, \"x\": [\"2017-01-01\", \"2018-01-01\"], \"y\": [2.0, 3.0], \"type\": \"scatter\", \"uid\": \"233536f7-fd67-11e8-921f-b46bfca2d37e\", \"xaxis\": \"x38\", \"yaxis\": \"y38\"}, {\"legendgroup\": \"10.U15\", \"marker\": {\"color\": \"darkorange\"}, \"name\": \"10.U15\", \"showlegend\": false, \"x\": [\"2017-01-01\", \"2018-01-01\"], \"y\": [3617.0, 7883.0], \"type\": \"scatter\", \"uid\": \"233536f8-fd67-11e8-9186-b46bfca2d37e\", \"xaxis\": \"x37\", \"yaxis\": \"y37\"}, {\"legendgroup\": \"10.U15\", \"marker\": {\"color\": \"darkorange\"}, \"name\": \"10.U15\", \"showlegend\": false, \"x\": [\"2017-01-01\", \"2018-01-01\"], \"y\": [2.0, 3.0], \"type\": \"scatter\", \"uid\": \"233536f9-fd67-11e8-a458-b46bfca2d37e\", \"xaxis\": \"x38\", \"yaxis\": \"y38\"}, {\"legendgroup\": \"10.U16\", \"marker\": {\"color\": \"darkorchid\"}, \"name\": \"10.U16\", \"showlegend\": false, \"x\": [\"2017-01-01\", \"2018-01-01\"], \"y\": [25182.0, 102063.0], \"type\": \"scatter\", \"uid\": \"23386602-fd67-11e8-886b-b46bfca2d37e\", \"xaxis\": \"x37\", \"yaxis\": \"y37\"}, {\"legendgroup\": \"10.U16\", \"marker\": {\"color\": \"darkorchid\"}, \"name\": \"10.U16\", \"showlegend\": false, \"x\": [\"2017-01-01\", \"2018-01-01\"], \"y\": [2.0, 3.0], \"type\": \"scatter\", \"uid\": \"23390254-fd67-11e8-92c3-b46bfca2d37e\", \"xaxis\": \"x38\", \"yaxis\": \"y38\"}, {\"legendgroup\": \"10.U17\", \"marker\": {\"color\": \"darkred\"}, \"name\": \"10.U17\", \"showlegend\": false, \"x\": [\"2017-01-01\", \"2018-01-01\"], \"y\": [83685.0, 13476.0], \"type\": \"scatter\", \"uid\": \"23399e9c-fd67-11e8-8c2e-b46bfca2d37e\", \"xaxis\": \"x37\", \"yaxis\": \"y37\"}, {\"legendgroup\": \"10.U17\", \"marker\": {\"color\": \"darkred\"}, \"name\": \"10.U17\", \"showlegend\": false, \"x\": [\"2017-01-01\", \"2018-01-01\"], \"y\": [2.0, 3.0], \"type\": \"scatter\", \"uid\": \"233a3adc-fd67-11e8-845c-b46bfca2d37e\", \"xaxis\": \"x38\", \"yaxis\": \"y38\"}, {\"legendgroup\": \"10.U18\", \"marker\": {\"color\": \"darksalmon\"}, \"name\": \"10.U18\", \"showlegend\": false, \"x\": [\"2017-01-01\", \"2018-01-01\"], \"y\": [15862.0, 18257.0], \"type\": \"scatter\", \"uid\": \"233b0a1c-fd67-11e8-be55-b46bfca2d37e\", \"xaxis\": \"x37\", \"yaxis\": \"y37\"}, {\"legendgroup\": \"10.U18\", \"marker\": {\"color\": \"darksalmon\"}, \"name\": \"10.U18\", \"showlegend\": false, \"x\": [\"2017-01-01\", \"2018-01-01\"], \"y\": [2.0, 3.0], \"type\": \"scatter\", \"uid\": \"233ba64a-fd67-11e8-9612-b46bfca2d37e\", \"xaxis\": \"x38\", \"yaxis\": \"y38\"}, {\"legendgroup\": \"10.U19\", \"marker\": {\"color\": \"darkseagreen\"}, \"name\": \"10.U19\", \"showlegend\": false, \"x\": [\"2017-01-01\", \"2018-01-01\"], \"y\": [10278.0, 104193.0], \"type\": \"scatter\", \"uid\": \"233d541e-fd67-11e8-a8e1-b46bfca2d37e\", \"xaxis\": \"x37\", \"yaxis\": \"y37\"}, {\"legendgroup\": \"10.U19\", \"marker\": {\"color\": \"darkseagreen\"}, \"name\": \"10.U19\", \"showlegend\": false, \"x\": [\"2017-01-01\", \"2018-01-01\"], \"y\": [2.0, 3.0], \"type\": \"scatter\", \"uid\": \"233df61e-fd67-11e8-94d5-b46bfca2d37e\", \"xaxis\": \"x38\", \"yaxis\": \"y38\"}, {\"legendgroup\": \"10.U20\", \"marker\": {\"color\": \"darkslateblue\"}, \"name\": \"10.U20\", \"showlegend\": false, \"x\": [\"2017-01-01\", \"2018-01-01\"], \"y\": [38641.0, 14817.0], \"type\": \"scatter\", \"uid\": \"233df61f-fd67-11e8-a385-b46bfca2d37e\", \"xaxis\": \"x37\", \"yaxis\": \"y37\"}, {\"legendgroup\": \"10.U20\", \"marker\": {\"color\": \"darkslateblue\"}, \"name\": \"10.U20\", \"showlegend\": false, \"x\": [\"2017-01-01\", \"2018-01-01\"], \"y\": [2.0, 3.0], \"type\": \"scatter\", \"uid\": \"233df620-fd67-11e8-b336-b46bfca2d37e\", \"xaxis\": \"x38\", \"yaxis\": \"y38\"}, {\"legendgroup\": \"10.U21\", \"marker\": {\"color\": \"darkslategray\"}, \"name\": \"10.U21\", \"showlegend\": false, \"x\": [\"2017-01-01\", \"2018-01-01\"], \"y\": [26698.0, 76835.0], \"type\": \"scatter\", \"uid\": \"233df621-fd67-11e8-a37d-b46bfca2d37e\", \"xaxis\": \"x37\", \"yaxis\": \"y37\"}, {\"legendgroup\": \"10.U21\", \"marker\": {\"color\": \"darkslategray\"}, \"name\": \"10.U21\", \"showlegend\": false, \"x\": [\"2017-01-01\", \"2018-01-01\"], \"y\": [2.0, 3.0], \"type\": \"scatter\", \"uid\": \"23405a18-fd67-11e8-9e6a-b46bfca2d37e\", \"xaxis\": \"x38\", \"yaxis\": \"y38\"}, {\"legendgroup\": \"10.U22\", \"marker\": {\"color\": \"darkslategrey\"}, \"name\": \"10.U22\", \"showlegend\": false, \"x\": [\"2017-01-01\", \"2018-01-01\"], \"y\": [1921.0, 16457.0], \"type\": \"scatter\", \"uid\": \"23405a19-fd67-11e8-91d2-b46bfca2d37e\", \"xaxis\": \"x37\", \"yaxis\": \"y37\"}, {\"legendgroup\": \"10.U22\", \"marker\": {\"color\": \"darkslategrey\"}, \"name\": \"10.U22\", \"showlegend\": false, \"x\": [\"2017-01-01\", \"2018-01-01\"], \"y\": [2.0, 3.0], \"type\": \"scatter\", \"uid\": \"23405a1a-fd67-11e8-9bb2-b46bfca2d37e\", \"xaxis\": \"x38\", \"yaxis\": \"y38\"}, {\"legendgroup\": \"10.U23\", \"marker\": {\"color\": \"darkturquoise\"}, \"name\": \"10.U23\", \"showlegend\": false, \"x\": [\"2017-01-01\", \"2018-01-01\"], \"y\": [36324.0, 538071.0], \"type\": \"scatter\", \"uid\": \"23405a1b-fd67-11e8-86b5-b46bfca2d37e\", \"xaxis\": \"x37\", \"yaxis\": \"y37\"}, {\"legendgroup\": \"10.U23\", \"marker\": {\"color\": \"darkturquoise\"}, \"name\": \"10.U23\", \"showlegend\": false, \"x\": [\"2017-01-01\", \"2018-01-01\"], \"y\": [2.0, 3.0], \"type\": \"scatter\", \"uid\": \"23431314-fd67-11e8-9bf1-b46bfca2d37e\", \"xaxis\": \"x38\", \"yaxis\": \"y38\"}, {\"legendgroup\": \"10.U24\", \"marker\": {\"color\": \"darkviolet\"}, \"name\": \"10.U24\", \"showlegend\": false, \"x\": [\"2017-01-01\", \"2018-01-01\"], \"y\": [13669.0, 47549.0], \"type\": \"scatter\", \"uid\": \"2343d630-fd67-11e8-94c7-b46bfca2d37e\", \"xaxis\": \"x37\", \"yaxis\": \"y37\"}, {\"legendgroup\": \"10.U24\", \"marker\": {\"color\": \"darkviolet\"}, \"name\": \"10.U24\", \"showlegend\": false, \"x\": [\"2017-01-01\", \"2018-01-01\"], \"y\": [2.0, 3.0], \"type\": \"scatter\", \"uid\": \"234472a6-fd67-11e8-8dce-b46bfca2d37e\", \"xaxis\": \"x38\", \"yaxis\": \"y38\"}, {\"legendgroup\": \"10.U25\", \"marker\": {\"color\": \"deeppink\"}, \"name\": \"10.U25\", \"showlegend\": false, \"x\": [\"2017-01-01\", \"2018-01-01\"], \"y\": [51328.0, 4191.0], \"type\": \"scatter\", \"uid\": \"23450ecc-fd67-11e8-86d4-b46bfca2d37e\", \"xaxis\": \"x37\", \"yaxis\": \"y37\"}, {\"legendgroup\": \"10.U25\", \"marker\": {\"color\": \"deeppink\"}, \"name\": \"10.U25\", \"showlegend\": false, \"x\": [\"2017-01-01\", \"2018-01-01\"], \"y\": [2.0, 3.0], \"type\": \"scatter\", \"uid\": \"2345aaee-fd67-11e8-a3ba-b46bfca2d37e\", \"xaxis\": \"x38\", \"yaxis\": \"y38\"}, {\"legendgroup\": \"10.U26\", \"marker\": {\"color\": \"deepskyblue\"}, \"name\": \"10.U26\", \"showlegend\": false, \"x\": [\"2017-01-01\", \"2018-01-01\"], \"y\": [16864.0, 46283.0], \"type\": \"scatter\", \"uid\": \"23464776-fd67-11e8-a9fa-b46bfca2d37e\", \"xaxis\": \"x37\", \"yaxis\": \"y37\"}, {\"legendgroup\": \"10.U26\", \"marker\": {\"color\": \"deepskyblue\"}, \"name\": \"10.U26\", \"showlegend\": false, \"x\": [\"2017-01-01\", \"2018-01-01\"], \"y\": [2.0, 3.0], \"type\": \"scatter\", \"uid\": \"2347309c-fd67-11e8-969f-b46bfca2d37e\", \"xaxis\": \"x38\", \"yaxis\": \"y38\"}, {\"legendgroup\": \"10.U27\", \"marker\": {\"color\": \"dimgray\"}, \"name\": \"10.U27\", \"showlegend\": false, \"x\": [\"2017-01-01\", \"2018-01-01\"], \"y\": [71581.0, 107405.0], \"type\": \"scatter\", \"uid\": \"23489006-fd67-11e8-b8c7-b46bfca2d37e\", \"xaxis\": \"x37\", \"yaxis\": \"y37\"}, {\"legendgroup\": \"10.U27\", \"marker\": {\"color\": \"dimgray\"}, \"name\": \"10.U27\", \"showlegend\": false, \"x\": [\"2017-01-01\", \"2018-01-01\"], \"y\": [2.0, 3.0], \"type\": \"scatter\", \"uid\": \"23497a70-fd67-11e8-8fcd-b46bfca2d37e\", \"xaxis\": \"x38\", \"yaxis\": \"y38\"}, {\"legendgroup\": \"10.U28\", \"marker\": {\"color\": \"dimgrey\"}, \"name\": \"10.U28\", \"showlegend\": false, \"x\": [\"2017-01-01\", \"2018-01-01\"], \"y\": [285115.0, 16313.0], \"type\": \"scatter\", \"uid\": \"234a92c6-fd67-11e8-9be8-b46bfca2d37e\", \"xaxis\": \"x37\", \"yaxis\": \"y37\"}, {\"legendgroup\": \"10.U28\", \"marker\": {\"color\": \"dimgrey\"}, \"name\": \"10.U28\", \"showlegend\": false, \"x\": [\"2017-01-01\", \"2018-01-01\"], \"y\": [2.0, 3.0], \"type\": \"scatter\", \"uid\": \"234a92c7-fd67-11e8-89b7-b46bfca2d37e\", \"xaxis\": \"x38\", \"yaxis\": \"y38\"}, {\"legendgroup\": \"10.U29\", \"marker\": {\"color\": \"dodgerblue\"}, \"name\": \"10.U29\", \"showlegend\": false, \"x\": [\"2017-01-01\", \"2018-01-01\"], \"y\": [8398.0, 26150.0], \"type\": \"scatter\", \"uid\": \"234a92c8-fd67-11e8-89b4-b46bfca2d37e\", \"xaxis\": \"x37\", \"yaxis\": \"y37\"}, {\"legendgroup\": \"10.U29\", \"marker\": {\"color\": \"dodgerblue\"}, \"name\": \"10.U29\", \"showlegend\": false, \"x\": [\"2017-01-01\", \"2018-01-01\"], \"y\": [2.0, 3.0], \"type\": \"scatter\", \"uid\": \"234a92c9-fd67-11e8-aa48-b46bfca2d37e\", \"xaxis\": \"x38\", \"yaxis\": \"y38\"}, {\"legendgroup\": \"10.U30\", \"marker\": {\"color\": \"firebrick\"}, \"name\": \"10.U30\", \"showlegend\": false, \"x\": [\"2017-01-01\", \"2018-01-01\"], \"y\": [30616.0, 34824.0], \"type\": \"scatter\", \"uid\": \"234cf528-fd67-11e8-876e-b46bfca2d37e\", \"xaxis\": \"x37\", \"yaxis\": \"y37\"}, {\"legendgroup\": \"10.U30\", \"marker\": {\"color\": \"firebrick\"}, \"name\": \"10.U30\", \"showlegend\": false, \"x\": [\"2017-01-01\", \"2018-01-01\"], \"y\": [2.0, 3.0], \"type\": \"scatter\", \"uid\": \"234cf529-fd67-11e8-9cc7-b46bfca2d37e\", \"xaxis\": \"x38\", \"yaxis\": \"y38\"}, {\"legendgroup\": \"10.U31\", \"marker\": {\"color\": \"floralwhite\"}, \"name\": \"10.U31\", \"showlegend\": false, \"x\": [\"2017-01-01\", \"2018-01-01\"], \"y\": [4399.0, 15500.0], \"type\": \"scatter\", \"uid\": \"234cf52a-fd67-11e8-ad16-b46bfca2d37e\", \"xaxis\": \"x37\", \"yaxis\": \"y37\"}, {\"legendgroup\": \"10.U31\", \"marker\": {\"color\": \"floralwhite\"}, \"name\": \"10.U31\", \"showlegend\": false, \"x\": [\"2017-01-01\", \"2018-01-01\"], \"y\": [2.0, 3.0], \"type\": \"scatter\", \"uid\": \"234f578a-fd67-11e8-954f-b46bfca2d37e\", \"xaxis\": \"x38\", \"yaxis\": \"y38\"}, {\"legendgroup\": \"10.U32\", \"marker\": {\"color\": \"forestgreen\"}, \"name\": \"10.U32\", \"showlegend\": false, \"x\": [\"2017-01-01\", \"2018-01-01\"], \"y\": [35072.0, 88699.0], \"type\": \"scatter\", \"uid\": \"234f578b-fd67-11e8-93a3-b46bfca2d37e\", \"xaxis\": \"x37\", \"yaxis\": \"y37\"}, {\"legendgroup\": \"10.U32\", \"marker\": {\"color\": \"forestgreen\"}, \"name\": \"10.U32\", \"showlegend\": false, \"x\": [\"2017-01-01\", \"2018-01-01\"], \"y\": [2.0, 3.0], \"type\": \"scatter\", \"uid\": \"234f578c-fd67-11e8-b846-b46bfca2d37e\", \"xaxis\": \"x38\", \"yaxis\": \"y38\"}, {\"legendgroup\": \"10.U33\", \"marker\": {\"color\": \"fuchsia\"}, \"name\": \"10.U33\", \"showlegend\": false, \"x\": [\"2017-01-01\", \"2018-01-01\"], \"y\": [44121.0, 101478.0], \"type\": \"scatter\", \"uid\": \"2351b9dc-fd67-11e8-8d31-b46bfca2d37e\", \"xaxis\": \"x37\", \"yaxis\": \"y37\"}, {\"legendgroup\": \"10.U33\", \"marker\": {\"color\": \"fuchsia\"}, \"name\": \"10.U33\", \"showlegend\": false, \"x\": [\"2017-01-01\", \"2018-01-01\"], \"y\": [2.0, 3.0], \"type\": \"scatter\", \"uid\": \"2351b9dd-fd67-11e8-b6a8-b46bfca2d37e\", \"xaxis\": \"x38\", \"yaxis\": \"y38\"}, {\"legendgroup\": \"10.U34\", \"marker\": {\"color\": \"orchid\"}, \"name\": \"10.U34\", \"showlegend\": false, \"x\": [\"2017-01-01\", \"2018-01-01\"], \"y\": [24160.0, 96686.0], \"type\": \"scatter\", \"uid\": \"2351b9de-fd67-11e8-a584-b46bfca2d37e\", \"xaxis\": \"x37\", \"yaxis\": \"y37\"}, {\"legendgroup\": \"10.U34\", \"marker\": {\"color\": \"orchid\"}, \"name\": \"10.U34\", \"showlegend\": false, \"x\": [\"2017-01-01\", \"2018-01-01\"], \"y\": [2.0, 3.0], \"type\": \"scatter\", \"uid\": \"2351b9df-fd67-11e8-8518-b46bfca2d37e\", \"xaxis\": \"x38\", \"yaxis\": \"y38\"}, {\"legendgroup\": \"10.U35\", \"marker\": {\"color\": \"orangered\"}, \"name\": \"10.U35\", \"showlegend\": false, \"x\": [\"2017-01-01\", \"2018-01-01\"], \"y\": [50888.0, 7509.0], \"type\": \"scatter\", \"uid\": \"23541c9e-fd67-11e8-9efd-b46bfca2d37e\", \"xaxis\": \"x37\", \"yaxis\": \"y37\"}, {\"legendgroup\": \"10.U35\", \"marker\": {\"color\": \"orangered\"}, \"name\": \"10.U35\", \"showlegend\": false, \"x\": [\"2017-01-01\", \"2018-01-01\"], \"y\": [2.0, 3.0], \"type\": \"scatter\", \"uid\": \"23541c9f-fd67-11e8-bcad-b46bfca2d37e\", \"xaxis\": \"x38\", \"yaxis\": \"y38\"}, {\"legendgroup\": \"10.U36\", \"marker\": {\"color\": \"gold\"}, \"name\": \"10.U36\", \"showlegend\": false, \"x\": [\"2017-01-01\", \"2018-01-01\"], \"y\": [27008.0, 21479.0], \"type\": \"scatter\", \"uid\": \"23541ca0-fd67-11e8-a96b-b46bfca2d37e\", \"xaxis\": \"x37\", \"yaxis\": \"y37\"}, {\"legendgroup\": \"10.U36\", \"marker\": {\"color\": \"gold\"}, \"name\": \"10.U36\", \"showlegend\": false, \"x\": [\"2017-01-01\", \"2018-01-01\"], \"y\": [2.0, 3.0], \"type\": \"scatter\", \"uid\": \"23567ea4-fd67-11e8-a704-b46bfca2d37e\", \"xaxis\": \"x38\", \"yaxis\": \"y38\"}, {\"legendgroup\": \"10.U37\", \"marker\": {\"color\": \"goldenrod\"}, \"name\": \"10.U37\", \"showlegend\": false, \"x\": [\"2017-01-01\", \"2018-01-01\"], \"y\": [27651.0, 91802.0], \"type\": \"scatter\", \"uid\": \"2357e0e4-fd67-11e8-9f3e-b46bfca2d37e\", \"xaxis\": \"x37\", \"yaxis\": \"y37\"}, {\"legendgroup\": \"10.U37\", \"marker\": {\"color\": \"goldenrod\"}, \"name\": \"10.U37\", \"showlegend\": false, \"x\": [\"2017-01-01\", \"2018-01-01\"], \"y\": [2.0, 3.0], \"type\": \"scatter\", \"uid\": \"2358a442-fd67-11e8-ae83-b46bfca2d37e\", \"xaxis\": \"x38\", \"yaxis\": \"y38\"}, {\"legendgroup\": \"10.U38\", \"marker\": {\"color\": \"gray\"}, \"name\": \"10.U38\", \"showlegend\": false, \"x\": [\"2017-01-01\", \"2018-01-01\"], \"y\": [36931.0, 19423.0], \"type\": \"scatter\", \"uid\": \"23596b9a-fd67-11e8-a5c3-b46bfca2d37e\", \"xaxis\": \"x37\", \"yaxis\": \"y37\"}, {\"legendgroup\": \"10.U38\", \"marker\": {\"color\": \"gray\"}, \"name\": \"10.U38\", \"showlegend\": false, \"x\": [\"2017-01-01\", \"2018-01-01\"], \"y\": [2.0, 3.0], \"type\": \"scatter\", \"uid\": \"23596b9b-fd67-11e8-9844-b46bfca2d37e\", \"xaxis\": \"x38\", \"yaxis\": \"y38\"}, {\"legendgroup\": \"10.U39\", \"marker\": {\"color\": \"magenta\"}, \"name\": \"10.U39\", \"showlegend\": false, \"x\": [\"2017-01-01\", \"2018-01-01\"], \"y\": [300000.0, 12970.0], \"type\": \"scatter\", \"uid\": \"23596b9c-fd67-11e8-8e25-b46bfca2d37e\", \"xaxis\": \"x37\", \"yaxis\": \"y37\"}, {\"legendgroup\": \"10.U39\", \"marker\": {\"color\": \"magenta\"}, \"name\": \"10.U39\", \"showlegend\": false, \"x\": [\"2017-01-01\", \"2018-01-01\"], \"y\": [2.0, 3.0], \"type\": \"scatter\", \"uid\": \"23596b9d-fd67-11e8-ab1f-b46bfca2d37e\", \"xaxis\": \"x38\", \"yaxis\": \"y38\"}, {\"legendgroup\": \"10.U40\", \"marker\": {\"color\": \"green\"}, \"name\": \"10.U40\", \"showlegend\": false, \"x\": [\"2017-01-01\", \"2018-01-01\"], \"y\": [21955.0, 27634.0], \"type\": \"scatter\", \"uid\": \"235bce6e-fd67-11e8-81fa-b46bfca2d37e\", \"xaxis\": \"x37\", \"yaxis\": \"y37\"}, {\"legendgroup\": \"10.U40\", \"marker\": {\"color\": \"green\"}, \"name\": \"10.U40\", \"showlegend\": false, \"x\": [\"2017-01-01\", \"2018-01-01\"], \"y\": [2.0, 3.0], \"type\": \"scatter\", \"uid\": \"235bce6f-fd67-11e8-8e48-b46bfca2d37e\", \"xaxis\": \"x38\", \"yaxis\": \"y38\"}, {\"legendgroup\": \"10.U41\", \"marker\": {\"color\": \"greenyellow\"}, \"name\": \"10.U41\", \"showlegend\": false, \"x\": [\"2017-01-01\", \"2018-01-01\"], \"y\": [250.0, 19831.0], \"type\": \"scatter\", \"uid\": \"235e308a-fd67-11e8-a905-b46bfca2d37e\", \"xaxis\": \"x37\", \"yaxis\": \"y37\"}, {\"legendgroup\": \"10.U41\", \"marker\": {\"color\": \"greenyellow\"}, \"name\": \"10.U41\", \"showlegend\": false, \"x\": [\"2017-01-01\", \"2018-01-01\"], \"y\": [2.0, 3.0], \"type\": \"scatter\", \"uid\": \"235e308b-fd67-11e8-b8dd-b46bfca2d37e\", \"xaxis\": \"x38\", \"yaxis\": \"y38\"}, {\"legendgroup\": \"10.U42\", \"marker\": {\"color\": \"honeydew\"}, \"name\": \"10.U42\", \"showlegend\": false, \"x\": [\"2017-01-01\", \"2018-01-01\"], \"y\": [45566.0, 8900.0], \"type\": \"scatter\", \"uid\": \"235e308c-fd67-11e8-91b9-b46bfca2d37e\", \"xaxis\": \"x37\", \"yaxis\": \"y37\"}, {\"legendgroup\": \"10.U42\", \"marker\": {\"color\": \"honeydew\"}, \"name\": \"10.U42\", \"showlegend\": false, \"x\": [\"2017-01-01\", \"2018-01-01\"], \"y\": [2.0, 3.0], \"type\": \"scatter\", \"uid\": \"235e308d-fd67-11e8-8443-b46bfca2d37e\", \"xaxis\": \"x38\", \"yaxis\": \"y38\"}, {\"legendgroup\": \"10.U43\", \"marker\": {\"color\": \"hotpink\"}, \"name\": \"10.U43\", \"showlegend\": false, \"x\": [\"2017-01-01\", \"2018-01-01\"], \"y\": [107751.0, 26737.0], \"type\": \"scatter\", \"uid\": \"236092c6-fd67-11e8-8636-b46bfca2d37e\", \"xaxis\": \"x37\", \"yaxis\": \"y37\"}, {\"legendgroup\": \"10.U43\", \"marker\": {\"color\": \"hotpink\"}, \"name\": \"10.U43\", \"showlegend\": false, \"x\": [\"2017-01-01\", \"2018-01-01\"], \"y\": [2.0, 3.0], \"type\": \"scatter\", \"uid\": \"236092c7-fd67-11e8-9277-b46bfca2d37e\", \"xaxis\": \"x38\", \"yaxis\": \"y38\"}, {\"legendgroup\": \"10.U44\", \"marker\": {\"color\": \"indianred\"}, \"name\": \"10.U44\", \"showlegend\": false, \"x\": [\"2017-01-01\", \"2018-01-01\"], \"y\": [6780.0, 4963.0], \"type\": \"scatter\", \"uid\": \"236092c8-fd67-11e8-a3bc-b46bfca2d37e\", \"xaxis\": \"x37\", \"yaxis\": \"y37\"}, {\"legendgroup\": \"10.U44\", \"marker\": {\"color\": \"indianred\"}, \"name\": \"10.U44\", \"showlegend\": false, \"x\": [\"2017-01-01\", \"2018-01-01\"], \"y\": [2.0, 3.0], \"type\": \"scatter\", \"uid\": \"2362f69c-fd67-11e8-84cd-b46bfca2d37e\", \"xaxis\": \"x38\", \"yaxis\": \"y38\"}, {\"legendgroup\": \"10.U45\", \"marker\": {\"color\": \"indigo\"}, \"name\": \"10.U45\", \"showlegend\": false, \"x\": [\"2017-01-01\", \"2018-01-01\"], \"y\": [48093.0, 100898.0], \"type\": \"scatter\", \"uid\": \"2362f69d-fd67-11e8-b08f-b46bfca2d37e\", \"xaxis\": \"x37\", \"yaxis\": \"y37\"}, {\"legendgroup\": \"10.U45\", \"marker\": {\"color\": \"indigo\"}, \"name\": \"10.U45\", \"showlegend\": false, \"x\": [\"2017-01-01\", \"2018-01-01\"], \"y\": [2.0, 3.0], \"type\": \"scatter\", \"uid\": \"2362f69e-fd67-11e8-a8c3-b46bfca2d37e\", \"xaxis\": \"x38\", \"yaxis\": \"y38\"}, {\"legendgroup\": \"10.U46\", \"marker\": {\"color\": \"lime\"}, \"name\": \"10.U46\", \"showlegend\": false, \"x\": [\"2017-01-01\", \"2018-01-01\"], \"y\": [8007.0, 10812.0], \"type\": \"scatter\", \"uid\": \"23658c70-fd67-11e8-9b33-b46bfca2d37e\", \"xaxis\": \"x37\", \"yaxis\": \"y37\"}, {\"legendgroup\": \"10.U46\", \"marker\": {\"color\": \"lime\"}, \"name\": \"10.U46\", \"showlegend\": false, \"x\": [\"2017-01-01\", \"2018-01-01\"], \"y\": [2.0, 3.0], \"type\": \"scatter\", \"uid\": \"236675a8-fd67-11e8-8038-b46bfca2d37e\", \"xaxis\": \"x38\", \"yaxis\": \"y38\"}, {\"legendgroup\": \"10.U47\", \"marker\": {\"color\": \"khaki\"}, \"name\": \"10.U47\", \"showlegend\": false, \"x\": [\"2017-01-01\", \"2018-01-01\"], \"y\": [20738.0, 16428.0], \"type\": \"scatter\", \"uid\": \"236738f0-fd67-11e8-9c3d-b46bfca2d37e\", \"xaxis\": \"x37\", \"yaxis\": \"y37\"}, {\"legendgroup\": \"10.U47\", \"marker\": {\"color\": \"khaki\"}, \"name\": \"10.U47\", \"showlegend\": false, \"x\": [\"2017-01-01\", \"2018-01-01\"], \"y\": [2.0, 3.0], \"type\": \"scatter\", \"uid\": \"2367d528-fd67-11e8-9137-b46bfca2d37e\", \"xaxis\": \"x38\", \"yaxis\": \"y38\"}, {\"legendgroup\": \"10.U48\", \"marker\": {\"color\": \"sandybrown\"}, \"name\": \"10.U48\", \"showlegend\": false, \"x\": [\"2017-01-01\", \"2018-01-01\"], \"y\": [8163.0, 16148.0], \"type\": \"scatter\", \"uid\": \"2368a3f6-fd67-11e8-ae7f-b46bfca2d37e\", \"xaxis\": \"x37\", \"yaxis\": \"y37\"}, {\"legendgroup\": \"10.U48\", \"marker\": {\"color\": \"sandybrown\"}, \"name\": \"10.U48\", \"showlegend\": false, \"x\": [\"2017-01-01\", \"2018-01-01\"], \"y\": [2.0, 3.0], \"type\": \"scatter\", \"uid\": \"2368a3f7-fd67-11e8-9b39-b46bfca2d37e\", \"xaxis\": \"x38\", \"yaxis\": \"y38\"}, {\"legendgroup\": \"10.U90\", \"marker\": {\"color\": \"lightskyblue\"}, \"name\": \"10.U90\", \"showlegend\": false, \"x\": [\"2017-01-01\"], \"y\": [0.0], \"type\": \"scatter\", \"uid\": \"2368a3f8-fd67-11e8-93b6-b46bfca2d37e\", \"xaxis\": \"x37\", \"yaxis\": \"y37\"}, {\"legendgroup\": \"10.U90\", \"marker\": {\"color\": \"lightskyblue\"}, \"name\": \"10.U90\", \"showlegend\": false, \"x\": [\"2017-01-01\"], \"y\": [1.0], \"type\": \"scatter\", \"uid\": \"2368a3f9-fd67-11e8-a4b2-b46bfca2d37e\", \"xaxis\": \"x38\", \"yaxis\": \"y38\"}, {\"legendgroup\": \"10.10.025\", \"marker\": {\"color\": \"blue\"}, \"name\": \"10.10.025\", \"showlegend\": false, \"x\": [\"2017-02-01\"], \"y\": [388185.0], \"type\": \"scatter\", \"uid\": \"236b06ae-fd67-11e8-b1c5-b46bfca2d37e\", \"xaxis\": \"x37\", \"yaxis\": \"y37\"}, {\"legendgroup\": \"10.10.025\", \"marker\": {\"color\": \"blue\"}, \"name\": \"10.10.025\", \"showlegend\": false, \"x\": [\"2017-02-01\"], \"y\": [8.0], \"type\": \"scatter\", \"uid\": \"236b06af-fd67-11e8-8098-b46bfca2d37e\", \"xaxis\": \"x38\", \"yaxis\": \"y38\"}, {\"legendgroup\": \"10.10.162\", \"marker\": {\"color\": \"blueviolet\"}, \"name\": \"10.10.162\", \"showlegend\": false, \"x\": [\"2017-02-01\"], \"y\": [525054.0], \"type\": \"scatter\", \"uid\": \"236b06b0-fd67-11e8-a5be-b46bfca2d37e\", \"xaxis\": \"x37\", \"yaxis\": \"y37\"}, {\"legendgroup\": \"10.10.162\", \"marker\": {\"color\": \"blueviolet\"}, \"name\": \"10.10.162\", \"showlegend\": false, \"x\": [\"2017-02-01\"], \"y\": [4.0], \"type\": \"scatter\", \"uid\": \"236b06b1-fd67-11e8-9e09-b46bfca2d37e\", \"xaxis\": \"x38\", \"yaxis\": \"y38\"}, {\"legendgroup\": \"10.315\", \"marker\": {\"color\": \"forestgreen\"}, \"name\": \"10.315\", \"showlegend\": false, \"x\": [\"2017-02-01\", \"2018-02-01\"], \"y\": [30247.0, 168435.0], \"type\": \"scatter\", \"uid\": \"236d689e-fd67-11e8-9775-b46bfca2d37e\", \"xaxis\": \"x37\", \"yaxis\": \"y37\"}, {\"legendgroup\": \"10.315\", \"marker\": {\"color\": \"forestgreen\"}, \"name\": \"10.315\", \"showlegend\": false, \"x\": [\"2017-02-01\", \"2018-02-01\"], \"y\": [4.0, 3.0], \"type\": \"scatter\", \"uid\": \"236d689f-fd67-11e8-b0b2-b46bfca2d37e\", \"xaxis\": \"x38\", \"yaxis\": \"y38\"}, {\"legendgroup\": \"10.550\", \"marker\": {\"color\": \"paleturquoise\"}, \"name\": \"10.550\", \"showlegend\": false, \"x\": [\"2017-02-01\", \"2017-06-01\", \"2017-09-01\", \"2017-10-01\", \"2017-12-01\", \"2018-06-01\"], \"y\": [99086.0, 502364.0, 34570.0, 48570.0, 165783.0, 466586.0], \"type\": \"scatter\", \"uid\": \"236d68a0-fd67-11e8-8a19-b46bfca2d37e\", \"xaxis\": \"x37\", \"yaxis\": \"y37\"}, {\"legendgroup\": \"10.550\", \"marker\": {\"color\": \"paleturquoise\"}, \"name\": \"10.550\", \"showlegend\": false, \"x\": [\"2017-02-01\", \"2017-06-01\", \"2017-09-01\", \"2017-10-01\", \"2017-12-01\", \"2018-06-01\"], \"y\": [1.0, 2.0, 3.0, 2.0, 2.0, 1.0], \"type\": \"scatter\", \"uid\": \"236fcc5a-fd67-11e8-b2bb-b46bfca2d37e\", \"xaxis\": \"x38\", \"yaxis\": \"y38\"}, {\"legendgroup\": \"10.RD\", \"marker\": {\"color\": \"cadetblue\"}, \"name\": \"10.RD\", \"showlegend\": false, \"x\": [\"2017-02-01\", \"2017-03-01\", \"2017-11-01\", \"2018-02-01\", \"2018-03-01\", \"2018-11-01\"], \"y\": [161295.0, 55991266.0, 500237.0, 95949.0, 54746512.0, 1181724.0], \"type\": \"scatter\", \"uid\": \"236fcc5b-fd67-11e8-8633-b46bfca2d37e\", \"xaxis\": \"x37\", \"yaxis\": \"y37\"}, {\"legendgroup\": \"10.RD\", \"marker\": {\"color\": \"cadetblue\"}, \"name\": \"10.RD\", \"showlegend\": false, \"x\": [\"2017-02-01\", \"2017-03-01\", \"2017-11-01\", \"2018-02-01\", \"2018-03-01\", \"2018-11-01\"], \"y\": [65.0, 91.0, 4.0, 5.0, 117.0, 1.0], \"type\": \"scatter\", \"uid\": \"236fcc5c-fd67-11e8-87bc-b46bfca2d37e\", \"xaxis\": \"x38\", \"yaxis\": \"y38\"}, {\"legendgroup\": \"10.000\", \"marker\": {\"color\": \"mediumpurple\"}, \"name\": \"10.000\", \"showlegend\": false, \"x\": [\"2017-03-01\", \"2018-02-01\"], \"y\": [49397.0, 2867268.0], \"type\": \"scatter\", \"uid\": \"236fcc5d-fd67-11e8-b03f-b46bfca2d37e\", \"xaxis\": \"x37\", \"yaxis\": \"y37\"}, {\"legendgroup\": \"10.000\", \"marker\": {\"color\": \"mediumpurple\"}, \"name\": \"10.000\", \"showlegend\": false, \"x\": [\"2017-03-01\", \"2018-02-01\"], \"y\": [9.0, 140.0], \"type\": \"scatter\", \"uid\": \"23722ee6-fd67-11e8-a4e6-b46bfca2d37e\", \"xaxis\": \"x38\", \"yaxis\": \"y38\"}, {\"legendgroup\": \"10.10.760\", \"marker\": {\"color\": \"brown\"}, \"name\": \"10.10.760\", \"showlegend\": false, \"x\": [\"2017-03-01\", \"2017-10-01\"], \"y\": [1350000.0, 2808890.0], \"type\": \"scatter\", \"uid\": \"23722ee7-fd67-11e8-93a3-b46bfca2d37e\", \"xaxis\": \"x37\", \"yaxis\": \"y37\"}, {\"legendgroup\": \"10.10.760\", \"marker\": {\"color\": \"brown\"}, \"name\": \"10.10.760\", \"showlegend\": false, \"x\": [\"2017-03-01\", \"2017-10-01\"], \"y\": [6.0, 1.0], \"type\": \"scatter\", \"uid\": \"23722ee8-fd67-11e8-b78c-b46bfca2d37e\", \"xaxis\": \"x38\", \"yaxis\": \"y38\"}, {\"legendgroup\": \"10.173\", \"marker\": {\"color\": \"crimson\"}, \"name\": \"10.173\", \"showlegend\": false, \"x\": [\"2017-03-01\"], \"y\": [0.0], \"type\": \"scatter\", \"uid\": \"2375629e-fd67-11e8-a387-b46bfca2d37e\", \"xaxis\": \"x37\", \"yaxis\": \"y37\"}, {\"legendgroup\": \"10.173\", \"marker\": {\"color\": \"crimson\"}, \"name\": \"10.173\", \"showlegend\": false, \"x\": [\"2017-03-01\"], \"y\": [1.0], \"type\": \"scatter\", \"uid\": \"2375fe10-fd67-11e8-89c5-b46bfca2d37e\", \"xaxis\": \"x38\", \"yaxis\": \"y38\"}, {\"legendgroup\": \"10.305\", \"marker\": {\"color\": \"deeppink\"}, \"name\": \"10.305\", \"showlegend\": false, \"x\": [\"2017-03-01\", \"2018-03-01\"], \"y\": [14552.0, 674.0], \"type\": \"scatter\", \"uid\": \"23769a7a-fd67-11e8-914b-b46bfca2d37e\", \"xaxis\": \"x37\", \"yaxis\": \"y37\"}, {\"legendgroup\": \"10.305\", \"marker\": {\"color\": \"deeppink\"}, \"name\": \"10.305\", \"showlegend\": false, \"x\": [\"2017-03-01\", \"2018-03-01\"], \"y\": [3.0, 4.0], \"type\": \"scatter\", \"uid\": \"23773674-fd67-11e8-bedd-b46bfca2d37e\", \"xaxis\": \"x38\", \"yaxis\": \"y38\"}, {\"legendgroup\": \"10.553 / 555\", \"marker\": {\"color\": \"lightpink\"}, \"name\": \"10.553 / 555\", \"showlegend\": false, \"x\": [\"2017-03-01\"], \"y\": [1040924.0], \"type\": \"scatter\", \"uid\": \"23781fba-fd67-11e8-aaf4-b46bfca2d37e\", \"xaxis\": \"x37\", \"yaxis\": \"y37\"}, {\"legendgroup\": \"10.553 / 555\", \"marker\": {\"color\": \"lightpink\"}, \"name\": \"10.553 / 555\", \"showlegend\": false, \"x\": [\"2017-03-01\"], \"y\": [1.0], \"type\": \"scatter\", \"uid\": \"23793110-fd67-11e8-9800-b46bfca2d37e\", \"xaxis\": \"x38\", \"yaxis\": \"y38\"}, {\"legendgroup\": \"10.586\", \"marker\": {\"color\": \"chartreuse\"}, \"name\": \"10.586\", \"showlegend\": false, \"x\": [\"2017-03-01\", \"2018-03-01\"], \"y\": [153100.0, 126729.0], \"type\": \"scatter\", \"uid\": \"2379a640-fd67-11e8-9199-b46bfca2d37e\", \"xaxis\": \"x37\", \"yaxis\": \"y37\"}, {\"legendgroup\": \"10.586\", \"marker\": {\"color\": \"chartreuse\"}, \"name\": \"10.586\", \"showlegend\": false, \"x\": [\"2017-03-01\", \"2018-03-01\"], \"y\": [4.0, 1.0], \"type\": \"scatter\", \"uid\": \"237a6ada-fd67-11e8-8f86-b46bfca2d37e\", \"xaxis\": \"x38\", \"yaxis\": \"y38\"}, {\"legendgroup\": \"10.598\", \"marker\": {\"color\": \"cyan\"}, \"name\": \"10.598\", \"showlegend\": false, \"x\": [\"2017-03-01\", \"2018-03-01\"], \"y\": [842483.0, 532434.0], \"type\": \"scatter\", \"uid\": \"237aa60c-fd67-11e8-8e1e-b46bfca2d37e\", \"xaxis\": \"x37\", \"yaxis\": \"y37\"}, {\"legendgroup\": \"10.598\", \"marker\": {\"color\": \"cyan\"}, \"name\": \"10.598\", \"showlegend\": false, \"x\": [\"2017-03-01\", \"2018-03-01\"], \"y\": [1.0, 1.0], \"type\": \"scatter\", \"uid\": \"237aa60d-fd67-11e8-97bc-b46bfca2d37e\", \"xaxis\": \"x38\", \"yaxis\": \"y38\"}, {\"legendgroup\": \"10.673\", \"marker\": {\"color\": \"darksalmon\"}, \"name\": \"10.673\", \"showlegend\": false, \"x\": [\"2017-03-01\"], \"y\": [9199.0], \"type\": \"scatter\", \"uid\": \"237aa60e-fd67-11e8-a1de-b46bfca2d37e\", \"xaxis\": \"x37\", \"yaxis\": \"y37\"}, {\"legendgroup\": \"10.673\", \"marker\": {\"color\": \"darksalmon\"}, \"name\": \"10.673\", \"showlegend\": false, \"x\": [\"2017-03-01\"], \"y\": [1.0], \"type\": \"scatter\", \"uid\": \"237aa60f-fd67-11e8-b9f3-b46bfca2d37e\", \"xaxis\": \"x38\", \"yaxis\": \"y38\"}, {\"legendgroup\": \"10.688\", \"marker\": {\"color\": \"dimgray\"}, \"name\": \"10.688\", \"showlegend\": false, \"x\": [\"2017-03-01\", \"2017-08-01\", \"2018-02-01\"], \"y\": [21468.0, 507756.0, 3084976.0], \"type\": \"scatter\", \"uid\": \"238c9ffa-fd67-11e8-b087-b46bfca2d37e\", \"xaxis\": \"x37\", \"yaxis\": \"y37\"}, {\"legendgroup\": \"10.688\", \"marker\": {\"color\": \"dimgray\"}, \"name\": \"10.688\", \"showlegend\": false, \"x\": [\"2017-03-01\", \"2017-08-01\", \"2018-02-01\"], \"y\": [1.0, 1.0, 1.0], \"type\": \"scatter\", \"uid\": \"238c9ffb-fd67-11e8-acfc-b46bfca2d37e\", \"xaxis\": \"x38\", \"yaxis\": \"y38\"}, {\"legendgroup\": \"10.769\", \"marker\": {\"color\": \"magenta\"}, \"name\": \"10.769\", \"showlegend\": false, \"x\": [\"2017-03-01\", \"2017-04-01\", \"2018-10-01\"], \"y\": [547307.0, 49224.0, 113534.0], \"type\": \"scatter\", \"uid\": \"238f3086-fd67-11e8-a86c-b46bfca2d37e\", \"xaxis\": \"x37\", \"yaxis\": \"y37\"}, {\"legendgroup\": \"10.769\", \"marker\": {\"color\": \"magenta\"}, \"name\": \"10.769\", \"showlegend\": false, \"x\": [\"2017-03-01\", \"2017-04-01\", \"2018-10-01\"], \"y\": [5.0, 1.0, 1.0], \"type\": \"scatter\", \"uid\": \"238fccbe-fd67-11e8-8475-b46bfca2d37e\", \"xaxis\": \"x38\", \"yaxis\": \"y38\"}, {\"legendgroup\": \"10.Rural Development\", \"marker\": {\"color\": \"chartreuse\"}, \"name\": \"10.Rural Development\", \"showlegend\": false, \"x\": [\"2017-03-01\"], \"y\": [3993000.0], \"type\": \"scatter\", \"uid\": \"239068e6-fd67-11e8-a30f-b46bfca2d37e\", \"xaxis\": \"x37\", \"yaxis\": \"y37\"}, {\"legendgroup\": \"10.Rural Development\", \"marker\": {\"color\": \"chartreuse\"}, \"name\": \"10.Rural Development\", \"showlegend\": false, \"x\": [\"2017-03-01\"], \"y\": [4.0], \"type\": \"scatter\", \"uid\": \"23917a7a-fd67-11e8-9f01-b46bfca2d37e\", \"xaxis\": \"x38\", \"yaxis\": \"y38\"}, {\"legendgroup\": \"10.787\", \"marker\": {\"color\": \"khaki\"}, \"name\": \"10.787\", \"showlegend\": false, \"x\": [\"2017-04-01\", \"2017-06-01\", \"2018-01-01\", \"2018-07-01\", \"2018-08-01\"], \"y\": [5139351.0, 4806067.0, 300288.0, 4839166.0, 4805585.0], \"type\": \"scatter\", \"uid\": \"23923e12-fd67-11e8-8487-b46bfca2d37e\", \"xaxis\": \"x37\", \"yaxis\": \"y37\"}, {\"legendgroup\": \"10.787\", \"marker\": {\"color\": \"khaki\"}, \"name\": \"10.787\", \"showlegend\": false, \"x\": [\"2017-04-01\", \"2017-06-01\", \"2018-01-01\", \"2018-07-01\", \"2018-08-01\"], \"y\": [4.0, 3.0, 8.0, 4.0, 8.0], \"type\": \"scatter\", \"uid\": \"2393011e-fd67-11e8-ab58-b46bfca2d37e\", \"xaxis\": \"x38\", \"yaxis\": \"y38\"}, {\"legendgroup\": \"10.7CFR 225\", \"marker\": {\"color\": \"sandybrown\"}, \"name\": \"10.7CFR 225\", \"showlegend\": false, \"x\": [\"2017-04-01\"], \"y\": [919382.0], \"type\": \"scatter\", \"uid\": \"2393c452-fd67-11e8-939f-b46bfca2d37e\", \"xaxis\": \"x37\", \"yaxis\": \"y37\"}, {\"legendgroup\": \"10.7CFR 225\", \"marker\": {\"color\": \"sandybrown\"}, \"name\": \"10.7CFR 225\", \"showlegend\": false, \"x\": [\"2017-04-01\"], \"y\": [4.0], \"type\": \"scatter\", \"uid\": \"23946082-fd67-11e8-9e4f-b46bfca2d37e\", \"xaxis\": \"x38\", \"yaxis\": \"y38\"}, {\"legendgroup\": \"10.901\", \"marker\": {\"color\": \"lightpink\"}, \"name\": \"10.901\", \"showlegend\": false, \"x\": [\"2017-07-01\", \"2018-05-01\"], \"y\": [3473.0, 801.0], \"type\": \"scatter\", \"uid\": \"2394fe36-fd67-11e8-97a3-b46bfca2d37e\", \"xaxis\": \"x37\", \"yaxis\": \"y37\"}, {\"legendgroup\": \"10.901\", \"marker\": {\"color\": \"lightpink\"}, \"name\": \"10.901\", \"showlegend\": false, \"x\": [\"2017-07-01\", \"2018-05-01\"], \"y\": [2.0, 1.0], \"type\": \"scatter\", \"uid\": \"23959a62-fd67-11e8-af10-b46bfca2d37e\", \"xaxis\": \"x38\", \"yaxis\": \"y38\"}, {\"legendgroup\": \"10.052\", \"marker\": {\"color\": \"olive\"}, \"name\": \"10.052\", \"showlegend\": false, \"x\": [\"2017-09-01\", \"2018-10-01\"], \"y\": [3421083.0, 3310208.0], \"type\": \"scatter\", \"uid\": \"239684ba-fd67-11e8-8c67-b46bfca2d37e\", \"xaxis\": \"x37\", \"yaxis\": \"y37\"}, {\"legendgroup\": \"10.052\", \"marker\": {\"color\": \"olive\"}, \"name\": \"10.052\", \"showlegend\": false, \"x\": [\"2017-09-01\", \"2018-10-01\"], \"y\": [2.0, 2.0], \"type\": \"scatter\", \"uid\": \"2396de0a-fd67-11e8-9ef1-b46bfca2d37e\", \"xaxis\": \"x38\", \"yaxis\": \"y38\"}, {\"legendgroup\": \"10.588\", \"marker\": {\"color\": \"chocolate\"}, \"name\": \"10.588\", \"showlegend\": false, \"x\": [\"2017-09-01\", \"2017-11-01\", \"2018-09-01\"], \"y\": [1088956.0, 42501.0, 1330520.0], \"type\": \"scatter\", \"uid\": \"2396de0b-fd67-11e8-ad6d-b46bfca2d37e\", \"xaxis\": \"x37\", \"yaxis\": \"y37\"}, {\"legendgroup\": \"10.588\", \"marker\": {\"color\": \"chocolate\"}, \"name\": \"10.588\", \"showlegend\": false, \"x\": [\"2017-09-01\", \"2017-11-01\", \"2018-09-01\"], \"y\": [1.0, 1.0, 1.0], \"type\": \"scatter\", \"uid\": \"2396de0c-fd67-11e8-88c5-b46bfca2d37e\", \"xaxis\": \"x38\", \"yaxis\": \"y38\"}, {\"legendgroup\": \"10.781\", \"marker\": {\"color\": \"lime\"}, \"name\": \"10.781\", \"showlegend\": false, \"x\": [\"2018-01-01\", \"2018-07-01\"], \"y\": [3492019.0, 544878.0], \"type\": \"scatter\", \"uid\": \"2396de0d-fd67-11e8-8542-b46bfca2d37e\", \"xaxis\": \"x37\", \"yaxis\": \"y37\"}, {\"legendgroup\": \"10.781\", \"marker\": {\"color\": \"lime\"}, \"name\": \"10.781\", \"showlegend\": false, \"x\": [\"2018-01-01\", \"2018-07-01\"], \"y\": [5.0, 3.0], \"type\": \"scatter\", \"uid\": \"2399411a-fd67-11e8-ab0c-b46bfca2d37e\", \"xaxis\": \"x38\", \"yaxis\": \"y38\"}, {\"legendgroup\": \"10.U50\", \"marker\": {\"color\": \"purple\"}, \"name\": \"10.U50\", \"showlegend\": false, \"x\": [\"2018-01-01\"], \"y\": [56254.0], \"type\": \"scatter\", \"uid\": \"2399411b-fd67-11e8-8b27-b46bfca2d37e\", \"xaxis\": \"x37\", \"yaxis\": \"y37\"}, {\"legendgroup\": \"10.U50\", \"marker\": {\"color\": \"purple\"}, \"name\": \"10.U50\", \"showlegend\": false, \"x\": [\"2018-01-01\"], \"y\": [3.0], \"type\": \"scatter\", \"uid\": \"2399411c-fd67-11e8-a74a-b46bfca2d37e\", \"xaxis\": \"x38\", \"yaxis\": \"y38\"}, {\"legendgroup\": \"10.U51\", \"marker\": {\"color\": \"lawngreen\"}, \"name\": \"10.U51\", \"showlegend\": false, \"x\": [\"2018-01-01\"], \"y\": [9488.0], \"type\": \"scatter\", \"uid\": \"2399411d-fd67-11e8-9e6f-b46bfca2d37e\", \"xaxis\": \"x37\", \"yaxis\": \"y37\"}, {\"legendgroup\": \"10.U51\", \"marker\": {\"color\": \"lawngreen\"}, \"name\": \"10.U51\", \"showlegend\": false, \"x\": [\"2018-01-01\"], \"y\": [3.0], \"type\": \"scatter\", \"uid\": \"239ba428-fd67-11e8-b2ea-b46bfca2d37e\", \"xaxis\": \"x38\", \"yaxis\": \"y38\"}, {\"legendgroup\": \"10.U52\", \"marker\": {\"color\": \"salmon\"}, \"name\": \"10.U52\", \"showlegend\": false, \"x\": [\"2018-01-01\"], \"y\": [554.0], \"type\": \"scatter\", \"uid\": \"239ba429-fd67-11e8-a76e-b46bfca2d37e\", \"xaxis\": \"x37\", \"yaxis\": \"y37\"}, {\"legendgroup\": \"10.U52\", \"marker\": {\"color\": \"salmon\"}, \"name\": \"10.U52\", \"showlegend\": false, \"x\": [\"2018-01-01\"], \"y\": [3.0], \"type\": \"scatter\", \"uid\": \"239ba42a-fd67-11e8-b63c-b46bfca2d37e\", \"xaxis\": \"x38\", \"yaxis\": \"y38\"}, {\"legendgroup\": \"10.U53\", \"marker\": {\"color\": \"lightblue\"}, \"name\": \"10.U53\", \"showlegend\": false, \"x\": [\"2018-01-01\"], \"y\": [52017.0], \"type\": \"scatter\", \"uid\": \"239ba42b-fd67-11e8-a37a-b46bfca2d37e\", \"xaxis\": \"x37\", \"yaxis\": \"y37\"}, {\"legendgroup\": \"10.U53\", \"marker\": {\"color\": \"lightblue\"}, \"name\": \"10.U53\", \"showlegend\": false, \"x\": [\"2018-01-01\"], \"y\": [3.0], \"type\": \"scatter\", \"uid\": \"239e0652-fd67-11e8-b304-b46bfca2d37e\", \"xaxis\": \"x38\", \"yaxis\": \"y38\"}, {\"legendgroup\": \"10.U54\", \"marker\": {\"color\": \"lightcoral\"}, \"name\": \"10.U54\", \"showlegend\": false, \"x\": [\"2018-01-01\"], \"y\": [13221.0], \"type\": \"scatter\", \"uid\": \"239e0653-fd67-11e8-97a9-b46bfca2d37e\", \"xaxis\": \"x37\", \"yaxis\": \"y37\"}, {\"legendgroup\": \"10.U54\", \"marker\": {\"color\": \"lightcoral\"}, \"name\": \"10.U54\", \"showlegend\": false, \"x\": [\"2018-01-01\"], \"y\": [3.0], \"type\": \"scatter\", \"uid\": \"239e0654-fd67-11e8-a8d4-b46bfca2d37e\", \"xaxis\": \"x38\", \"yaxis\": \"y38\"}, {\"legendgroup\": \"10.U55\", \"marker\": {\"color\": \"mediumvioletred\"}, \"name\": \"10.U55\", \"showlegend\": false, \"x\": [\"2018-01-01\"], \"y\": [5290.0], \"type\": \"scatter\", \"uid\": \"239e0655-fd67-11e8-85cb-b46bfca2d37e\", \"xaxis\": \"x37\", \"yaxis\": \"y37\"}, {\"legendgroup\": \"10.U55\", \"marker\": {\"color\": \"mediumvioletred\"}, \"name\": \"10.U55\", \"showlegend\": false, \"x\": [\"2018-01-01\"], \"y\": [3.0], \"type\": \"scatter\", \"uid\": \"23a0677a-fd67-11e8-ab0d-b46bfca2d37e\", \"xaxis\": \"x38\", \"yaxis\": \"y38\"}, {\"legendgroup\": \"10.U56\", \"marker\": {\"color\": \"lightgoldenrodyellow\"}, \"name\": \"10.U56\", \"showlegend\": false, \"x\": [\"2018-01-01\"], \"y\": [29626.0], \"type\": \"scatter\", \"uid\": \"23a0677b-fd67-11e8-be8f-b46bfca2d37e\", \"xaxis\": \"x37\", \"yaxis\": \"y37\"}, {\"legendgroup\": \"10.U56\", \"marker\": {\"color\": \"lightgoldenrodyellow\"}, \"name\": \"10.U56\", \"showlegend\": false, \"x\": [\"2018-01-01\"], \"y\": [3.0], \"type\": \"scatter\", \"uid\": \"23a0677c-fd67-11e8-9ca5-b46bfca2d37e\", \"xaxis\": \"x38\", \"yaxis\": \"y38\"}, {\"legendgroup\": \"10.U57\", \"marker\": {\"color\": \"paleturquoise\"}, \"name\": \"10.U57\", \"showlegend\": false, \"x\": [\"2018-01-01\"], \"y\": [26086.0], \"type\": \"scatter\", \"uid\": \"23a0677d-fd67-11e8-bc97-b46bfca2d37e\", \"xaxis\": \"x37\", \"yaxis\": \"y37\"}, {\"legendgroup\": \"10.U57\", \"marker\": {\"color\": \"paleturquoise\"}, \"name\": \"10.U57\", \"showlegend\": false, \"x\": [\"2018-01-01\"], \"y\": [3.0], \"type\": \"scatter\", \"uid\": \"23a31eb0-fd67-11e8-8d84-b46bfca2d37e\", \"xaxis\": \"x38\", \"yaxis\": \"y38\"}, {\"legendgroup\": \"10.U58\", \"marker\": {\"color\": \"mediumaquamarine\"}, \"name\": \"10.U58\", \"showlegend\": false, \"x\": [\"2018-01-01\"], \"y\": [43789.0], \"type\": \"scatter\", \"uid\": \"23a3bae2-fd67-11e8-8c45-b46bfca2d37e\", \"xaxis\": \"x37\", \"yaxis\": \"y37\"}, {\"legendgroup\": \"10.U58\", \"marker\": {\"color\": \"mediumaquamarine\"}, \"name\": \"10.U58\", \"showlegend\": false, \"x\": [\"2018-01-01\"], \"y\": [3.0], \"type\": \"scatter\", \"uid\": \"23a47e0c-fd67-11e8-bcc8-b46bfca2d37e\", \"xaxis\": \"x38\", \"yaxis\": \"y38\"}, {\"legendgroup\": \"10.U59\", \"marker\": {\"color\": \"lightgreen\"}, \"name\": \"10.U59\", \"showlegend\": false, \"x\": [\"2018-01-01\"], \"y\": [4857.0], \"type\": \"scatter\", \"uid\": \"23a51ba4-fd67-11e8-bb2d-b46bfca2d37e\", \"xaxis\": \"x37\", \"yaxis\": \"y37\"}, {\"legendgroup\": \"10.U59\", \"marker\": {\"color\": \"lightgreen\"}, \"name\": \"10.U59\", \"showlegend\": false, \"x\": [\"2018-01-01\"], \"y\": [3.0], \"type\": \"scatter\", \"uid\": \"23a5be64-fd67-11e8-b4dd-b46bfca2d37e\", \"xaxis\": \"x38\", \"yaxis\": \"y38\"}, {\"legendgroup\": \"10.U60\", \"marker\": {\"color\": \"lightpink\"}, \"name\": \"10.U60\", \"showlegend\": false, \"x\": [\"2018-01-01\"], \"y\": [24000.0], \"type\": \"scatter\", \"uid\": \"23a5be65-fd67-11e8-b5e0-b46bfca2d37e\", \"xaxis\": \"x37\", \"yaxis\": \"y37\"}, {\"legendgroup\": \"10.U60\", \"marker\": {\"color\": \"lightpink\"}, \"name\": \"10.U60\", \"showlegend\": false, \"x\": [\"2018-01-01\"], \"y\": [3.0], \"type\": \"scatter\", \"uid\": \"23a5be66-fd67-11e8-91af-b46bfca2d37e\", \"xaxis\": \"x38\", \"yaxis\": \"y38\"}, {\"legendgroup\": \"10.U61\", \"marker\": {\"color\": \"lightsalmon\"}, \"name\": \"10.U61\", \"showlegend\": false, \"x\": [\"2018-01-01\"], \"y\": [24913.0], \"type\": \"scatter\", \"uid\": \"23a5be67-fd67-11e8-bb1e-b46bfca2d37e\", \"xaxis\": \"x37\", \"yaxis\": \"y37\"}, {\"legendgroup\": \"10.U61\", \"marker\": {\"color\": \"lightsalmon\"}, \"name\": \"10.U61\", \"showlegend\": false, \"x\": [\"2018-01-01\"], \"y\": [3.0], \"type\": \"scatter\", \"uid\": \"23a82218-fd67-11e8-a373-b46bfca2d37e\", \"xaxis\": \"x38\", \"yaxis\": \"y38\"}, {\"legendgroup\": \"10.U62\", \"marker\": {\"color\": \"lightseagreen\"}, \"name\": \"10.U62\", \"showlegend\": false, \"x\": [\"2018-01-01\"], \"y\": [29013.0], \"type\": \"scatter\", \"uid\": \"23a82219-fd67-11e8-a164-b46bfca2d37e\", \"xaxis\": \"x37\", \"yaxis\": \"y37\"}, {\"legendgroup\": \"10.U62\", \"marker\": {\"color\": \"lightseagreen\"}, \"name\": \"10.U62\", \"showlegend\": false, \"x\": [\"2018-01-01\"], \"y\": [3.0], \"type\": \"scatter\", \"uid\": \"23a8221a-fd67-11e8-a12c-b46bfca2d37e\", \"xaxis\": \"x38\", \"yaxis\": \"y38\"}, {\"legendgroup\": \"10.776\", \"marker\": {\"color\": \"hotpink\"}, \"name\": \"10.776\", \"showlegend\": false, \"x\": [\"2018-06-01\"], \"y\": [1095000.0], \"type\": \"scatter\", \"uid\": \"23aa8476-fd67-11e8-bf08-b46bfca2d37e\", \"xaxis\": \"x37\", \"yaxis\": \"y37\"}, {\"legendgroup\": \"10.776\", \"marker\": {\"color\": \"hotpink\"}, \"name\": \"10.776\", \"showlegend\": false, \"x\": [\"2018-06-01\"], \"y\": [1.0], \"type\": \"scatter\", \"uid\": \"23aa8477-fd67-11e8-874a-b46bfca2d37e\", \"xaxis\": \"x38\", \"yaxis\": \"y38\"}, {\"legendgroup\": \"10.u00\", \"marker\": {\"color\": \"midnightblue\"}, \"name\": \"10.u00\", \"showlegend\": false, \"x\": [\"2018-07-01\"], \"y\": [345202.0], \"type\": \"scatter\", \"uid\": \"23aa8478-fd67-11e8-80d8-b46bfca2d37e\", \"xaxis\": \"x37\", \"yaxis\": \"y37\"}, {\"legendgroup\": \"10.u00\", \"marker\": {\"color\": \"midnightblue\"}, \"name\": \"10.u00\", \"showlegend\": false, \"x\": [\"2018-07-01\"], \"y\": [1.0], \"type\": \"scatter\", \"uid\": \"23aa8479-fd67-11e8-85ee-b46bfca2d37e\", \"xaxis\": \"x38\", \"yaxis\": \"y38\"}, {\"legendgroup\": \"10.u01\", \"marker\": {\"color\": \"lightsteelblue\"}, \"name\": \"10.u01\", \"showlegend\": false, \"x\": [\"2018-08-01\"], \"y\": [920620.0], \"type\": \"scatter\", \"uid\": \"23ace71a-fd67-11e8-b7bf-b46bfca2d37e\", \"xaxis\": \"x37\", \"yaxis\": \"y37\"}, {\"legendgroup\": \"10.u01\", \"marker\": {\"color\": \"lightsteelblue\"}, \"name\": \"10.u01\", \"showlegend\": false, \"x\": [\"2018-08-01\"], \"y\": [1.0], \"type\": \"scatter\", \"uid\": \"23ace71b-fd67-11e8-a32c-b46bfca2d37e\", \"xaxis\": \"x38\", \"yaxis\": \"y38\"}, {\"legendgroup\": \"10.780\", \"marker\": {\"color\": \"indigo\"}, \"name\": \"10.780\", \"showlegend\": false, \"x\": [\"2018-09-01\"], \"y\": [4593630.0], \"type\": \"scatter\", \"uid\": \"23ace71c-fd67-11e8-a533-b46bfca2d37e\", \"xaxis\": \"x37\", \"yaxis\": \"y37\"}, {\"legendgroup\": \"10.780\", \"marker\": {\"color\": \"indigo\"}, \"name\": \"10.780\", \"showlegend\": false, \"x\": [\"2018-09-01\"], \"y\": [3.0], \"type\": \"scatter\", \"uid\": \"23ace71d-fd67-11e8-b452-b46bfca2d37e\", \"xaxis\": \"x38\", \"yaxis\": \"y38\"}, {\"legendgroup\": \"10.U99\", \"marker\": {\"color\": \"lightslategray\"}, \"name\": \"10.U99\", \"showlegend\": false, \"x\": [\"2018-09-01\"], \"y\": [604.0], \"type\": \"scatter\", \"uid\": \"23af4840-fd67-11e8-ac86-b46bfca2d37e\", \"xaxis\": \"x37\", \"yaxis\": \"y37\"}, {\"legendgroup\": \"10.U99\", \"marker\": {\"color\": \"lightslategray\"}, \"name\": \"10.U99\", \"showlegend\": false, \"x\": [\"2018-09-01\"], \"y\": [1.0], \"type\": \"scatter\", \"uid\": \"23af4841-fd67-11e8-85c7-b46bfca2d37e\", \"xaxis\": \"x38\", \"yaxis\": \"y38\"}], {\"annotations\": [{\"font\": {\"size\": 16}, \"showarrow\": false, \"text\": \"AMS\", \"x\": 0.225, \"xanchor\": \"center\", \"xref\": \"paper\", \"y\": 1.0000000000000002, \"yanchor\": \"bottom\", \"yref\": \"paper\"}, {\"font\": {\"size\": 16}, \"showarrow\": false, \"text\": \"AMS\", \"x\": 0.775, \"xanchor\": \"center\", \"xref\": \"paper\", \"y\": 1.0000000000000002, \"yanchor\": \"bottom\", \"yref\": \"paper\"}, {\"font\": {\"size\": 16}, \"showarrow\": false, \"text\": \"APHIS\", \"x\": 0.225, \"xanchor\": \"center\", \"xref\": \"paper\", \"y\": 0.9459833795013851, \"yanchor\": \"bottom\", \"yref\": \"paper\"}, {\"font\": {\"size\": 16}, \"showarrow\": false, \"text\": \"APHIS\", \"x\": 0.775, \"xanchor\": \"center\", \"xref\": \"paper\", \"y\": 0.9459833795013851, \"yanchor\": \"bottom\", \"yref\": \"paper\"}, {\"font\": {\"size\": 16}, \"showarrow\": false, \"text\": \"ARS\", \"x\": 0.225, \"xanchor\": \"center\", \"xref\": \"paper\", \"y\": 0.8919667590027702, \"yanchor\": \"bottom\", \"yref\": \"paper\"}, {\"font\": {\"size\": 16}, \"showarrow\": false, \"text\": \"ARS\", \"x\": 0.775, \"xanchor\": \"center\", \"xref\": \"paper\", \"y\": 0.8919667590027702, \"yanchor\": \"bottom\", \"yref\": \"paper\"}, {\"font\": {\"size\": 16}, \"showarrow\": false, \"text\": \"ASDM\", \"x\": 0.225, \"xanchor\": \"center\", \"xref\": \"paper\", \"y\": 0.8379501385041552, \"yanchor\": \"bottom\", \"yref\": \"paper\"}, {\"font\": {\"size\": 16}, \"showarrow\": false, \"text\": \"ASDM\", \"x\": 0.775, \"xanchor\": \"center\", \"xref\": \"paper\", \"y\": 0.8379501385041552, \"yanchor\": \"bottom\", \"yref\": \"paper\"}, {\"font\": {\"size\": 16}, \"showarrow\": false, \"text\": \"ERS\", \"x\": 0.225, \"xanchor\": \"center\", \"xref\": \"paper\", \"y\": 0.7839335180055402, \"yanchor\": \"bottom\", \"yref\": \"paper\"}, {\"font\": {\"size\": 16}, \"showarrow\": false, \"text\": \"ERS\", \"x\": 0.775, \"xanchor\": \"center\", \"xref\": \"paper\", \"y\": 0.7839335180055402, \"yanchor\": \"bottom\", \"yref\": \"paper\"}, {\"font\": {\"size\": 16}, \"showarrow\": false, \"text\": \"FAS\", \"x\": 0.225, \"xanchor\": \"center\", \"xref\": \"paper\", \"y\": 0.7299168975069252, \"yanchor\": \"bottom\", \"yref\": \"paper\"}, {\"font\": {\"size\": 16}, \"showarrow\": false, \"text\": \"FAS\", \"x\": 0.775, \"xanchor\": \"center\", \"xref\": \"paper\", \"y\": 0.7299168975069252, \"yanchor\": \"bottom\", \"yref\": \"paper\"}, {\"font\": {\"size\": 16}, \"showarrow\": false, \"text\": \"FNS\", \"x\": 0.225, \"xanchor\": \"center\", \"xref\": \"paper\", \"y\": 0.6759002770083102, \"yanchor\": \"bottom\", \"yref\": \"paper\"}, {\"font\": {\"size\": 16}, \"showarrow\": false, \"text\": \"FNS\", \"x\": 0.775, \"xanchor\": \"center\", \"xref\": \"paper\", \"y\": 0.6759002770083102, \"yanchor\": \"bottom\", \"yref\": \"paper\"}, {\"font\": {\"size\": 16}, \"showarrow\": false, \"text\": \"FS\", \"x\": 0.225, \"xanchor\": \"center\", \"xref\": \"paper\", \"y\": 0.6218836565096953, \"yanchor\": \"bottom\", \"yref\": \"paper\"}, {\"font\": {\"size\": 16}, \"showarrow\": false, \"text\": \"FS\", \"x\": 0.775, \"xanchor\": \"center\", \"xref\": \"paper\", \"y\": 0.6218836565096953, \"yanchor\": \"bottom\", \"yref\": \"paper\"}, {\"font\": {\"size\": 16}, \"showarrow\": false, \"text\": \"FSA\", \"x\": 0.225, \"xanchor\": \"center\", \"xref\": \"paper\", \"y\": 0.5678670360110804, \"yanchor\": \"bottom\", \"yref\": \"paper\"}, {\"font\": {\"size\": 16}, \"showarrow\": false, \"text\": \"FSA\", \"x\": 0.775, \"xanchor\": \"center\", \"xref\": \"paper\", \"y\": 0.5678670360110804, \"yanchor\": \"bottom\", \"yref\": \"paper\"}, {\"font\": {\"size\": 16}, \"showarrow\": false, \"text\": \"FSIS\", \"x\": 0.225, \"xanchor\": \"center\", \"xref\": \"paper\", \"y\": 0.5138504155124654, \"yanchor\": \"bottom\", \"yref\": \"paper\"}, {\"font\": {\"size\": 16}, \"showarrow\": false, \"text\": \"FSIS\", \"x\": 0.775, \"xanchor\": \"center\", \"xref\": \"paper\", \"y\": 0.5138504155124654, \"yanchor\": \"bottom\", \"yref\": \"paper\"}, {\"font\": {\"size\": 16}, \"showarrow\": false, \"text\": \"NASS\", \"x\": 0.225, \"xanchor\": \"center\", \"xref\": \"paper\", \"y\": 0.45983379501385047, \"yanchor\": \"bottom\", \"yref\": \"paper\"}, {\"font\": {\"size\": 16}, \"showarrow\": false, \"text\": \"NASS\", \"x\": 0.775, \"xanchor\": \"center\", \"xref\": \"paper\", \"y\": 0.45983379501385047, \"yanchor\": \"bottom\", \"yref\": \"paper\"}, {\"font\": {\"size\": 16}, \"showarrow\": false, \"text\": \"NIFA\", \"x\": 0.225, \"xanchor\": \"center\", \"xref\": \"paper\", \"y\": 0.4058171745152355, \"yanchor\": \"bottom\", \"yref\": \"paper\"}, {\"font\": {\"size\": 16}, \"showarrow\": false, \"text\": \"NIFA\", \"x\": 0.775, \"xanchor\": \"center\", \"xref\": \"paper\", \"y\": 0.4058171745152355, \"yanchor\": \"bottom\", \"yref\": \"paper\"}, {\"font\": {\"size\": 16}, \"showarrow\": false, \"text\": \"NRCS\", \"x\": 0.225, \"xanchor\": \"center\", \"xref\": \"paper\", \"y\": 0.3518005540166205, \"yanchor\": \"bottom\", \"yref\": \"paper\"}, {\"font\": {\"size\": 16}, \"showarrow\": false, \"text\": \"NRCS\", \"x\": 0.775, \"xanchor\": \"center\", \"xref\": \"paper\", \"y\": 0.3518005540166205, \"yanchor\": \"bottom\", \"yref\": \"paper\"}, {\"font\": {\"size\": 16}, \"showarrow\": false, \"text\": \"OCE\", \"x\": 0.225, \"xanchor\": \"center\", \"xref\": \"paper\", \"y\": 0.29778393351800553, \"yanchor\": \"bottom\", \"yref\": \"paper\"}, {\"font\": {\"size\": 16}, \"showarrow\": false, \"text\": \"OCE\", \"x\": 0.775, \"xanchor\": \"center\", \"xref\": \"paper\", \"y\": 0.29778393351800553, \"yanchor\": \"bottom\", \"yref\": \"paper\"}, {\"font\": {\"size\": 16}, \"showarrow\": false, \"text\": \"RBCS\", \"x\": 0.225, \"xanchor\": \"center\", \"xref\": \"paper\", \"y\": 0.24376731301939059, \"yanchor\": \"bottom\", \"yref\": \"paper\"}, {\"font\": {\"size\": 16}, \"showarrow\": false, \"text\": \"RBCS\", \"x\": 0.775, \"xanchor\": \"center\", \"xref\": \"paper\", \"y\": 0.24376731301939059, \"yanchor\": \"bottom\", \"yref\": \"paper\"}, {\"font\": {\"size\": 16}, \"showarrow\": false, \"text\": \"RHS\", \"x\": 0.225, \"xanchor\": \"center\", \"xref\": \"paper\", \"y\": 0.18975069252077564, \"yanchor\": \"bottom\", \"yref\": \"paper\"}, {\"font\": {\"size\": 16}, \"showarrow\": false, \"text\": \"RHS\", \"x\": 0.775, \"xanchor\": \"center\", \"xref\": \"paper\", \"y\": 0.18975069252077564, \"yanchor\": \"bottom\", \"yref\": \"paper\"}, {\"font\": {\"size\": 16}, \"showarrow\": false, \"text\": \"RMA\", \"x\": 0.225, \"xanchor\": \"center\", \"xref\": \"paper\", \"y\": 0.13573407202216067, \"yanchor\": \"bottom\", \"yref\": \"paper\"}, {\"font\": {\"size\": 16}, \"showarrow\": false, \"text\": \"RMA\", \"x\": 0.775, \"xanchor\": \"center\", \"xref\": \"paper\", \"y\": 0.13573407202216067, \"yanchor\": \"bottom\", \"yref\": \"paper\"}, {\"font\": {\"size\": 16}, \"showarrow\": false, \"text\": \"RUS\", \"x\": 0.225, \"xanchor\": \"center\", \"xref\": \"paper\", \"y\": 0.0817174515235457, \"yanchor\": \"bottom\", \"yref\": \"paper\"}, {\"font\": {\"size\": 16}, \"showarrow\": false, \"text\": \"RUS\", \"x\": 0.775, \"xanchor\": \"center\", \"xref\": \"paper\", \"y\": 0.0817174515235457, \"yanchor\": \"bottom\", \"yref\": \"paper\"}, {\"font\": {\"size\": 16}, \"showarrow\": false, \"text\": \"UNK\", \"x\": 0.225, \"xanchor\": \"center\", \"xref\": \"paper\", \"y\": 0.02770083102493075, \"yanchor\": \"bottom\", \"yref\": \"paper\"}, {\"font\": {\"size\": 16}, \"showarrow\": false, \"text\": \"UNK\", \"x\": 0.775, \"xanchor\": \"center\", \"xref\": \"paper\", \"y\": 0.02770083102493075, \"yanchor\": \"bottom\", \"yref\": \"paper\"}], \"xaxis\": {\"anchor\": \"y\", \"domain\": [0.0, 0.45]}, \"yaxis\": {\"anchor\": \"x\", \"domain\": [0.9722991689750694, 1.0], \"title\": \"Total Award ($)\"}, \"xaxis2\": {\"anchor\": \"y2\", \"domain\": [0.55, 1.0]}, \"yaxis2\": {\"anchor\": \"x2\", \"domain\": [0.9722991689750694, 1.0], \"title\": \"Number of Findings\"}, \"xaxis3\": {\"anchor\": \"y3\", \"domain\": [0.0, 0.45]}, \"yaxis3\": {\"anchor\": \"x3\", \"domain\": [0.9182825484764544, 0.9459833795013851], \"title\": \"Total Award ($)\"}, \"xaxis4\": {\"anchor\": \"y4\", \"domain\": [0.55, 1.0]}, \"yaxis4\": {\"anchor\": \"x4\", \"domain\": [0.9182825484764544, 0.9459833795013851], \"title\": \"Number of Findings\"}, \"xaxis5\": {\"anchor\": \"y5\", \"domain\": [0.0, 0.45]}, \"yaxis5\": {\"anchor\": \"x5\", \"domain\": [0.8642659279778395, 0.8919667590027702], \"title\": \"Total Award ($)\"}, \"xaxis6\": {\"anchor\": \"y6\", \"domain\": [0.55, 1.0]}, \"yaxis6\": {\"anchor\": \"x6\", \"domain\": [0.8642659279778395, 0.8919667590027702], \"title\": \"Number of Findings\"}, \"xaxis7\": {\"anchor\": \"y7\", \"domain\": [0.0, 0.45]}, \"yaxis7\": {\"anchor\": \"x7\", \"domain\": [0.8102493074792245, 0.8379501385041552], \"title\": \"Total Award ($)\"}, \"xaxis8\": {\"anchor\": \"y8\", \"domain\": [0.55, 1.0]}, \"yaxis8\": {\"anchor\": \"x8\", \"domain\": [0.8102493074792245, 0.8379501385041552], \"title\": \"Number of Findings\"}, \"xaxis9\": {\"anchor\": \"y9\", \"domain\": [0.0, 0.45]}, \"yaxis9\": {\"anchor\": \"x9\", \"domain\": [0.7562326869806095, 0.7839335180055402], \"title\": \"Total Award ($)\"}, \"xaxis10\": {\"anchor\": \"y10\", \"domain\": [0.55, 1.0]}, \"yaxis10\": {\"anchor\": \"x10\", \"domain\": [0.7562326869806095, 0.7839335180055402], \"title\": \"Number of Findings\"}, \"xaxis11\": {\"anchor\": \"y11\", \"domain\": [0.0, 0.45]}, \"yaxis11\": {\"anchor\": \"x11\", \"domain\": [0.7022160664819945, 0.7299168975069252], \"title\": \"Total Award ($)\"}, \"xaxis12\": {\"anchor\": \"y12\", \"domain\": [0.55, 1.0]}, \"yaxis12\": {\"anchor\": \"x12\", \"domain\": [0.7022160664819945, 0.7299168975069252], \"title\": \"Number of Findings\"}, \"xaxis13\": {\"anchor\": \"y13\", \"domain\": [0.0, 0.45]}, \"yaxis13\": {\"anchor\": \"x13\", \"domain\": [0.6481994459833795, 0.6759002770083102], \"title\": \"Total Award ($)\"}, \"xaxis14\": {\"anchor\": \"y14\", \"domain\": [0.55, 1.0]}, \"yaxis14\": {\"anchor\": \"x14\", \"domain\": [0.6481994459833795, 0.6759002770083102], \"title\": \"Number of Findings\"}, \"xaxis15\": {\"anchor\": \"y15\", \"domain\": [0.0, 0.45]}, \"yaxis15\": {\"anchor\": \"x15\", \"domain\": [0.5941828254847646, 0.6218836565096953], \"title\": \"Total Award ($)\"}, \"xaxis16\": {\"anchor\": \"y16\", \"domain\": [0.55, 1.0]}, \"yaxis16\": {\"anchor\": \"x16\", \"domain\": [0.5941828254847646, 0.6218836565096953], \"title\": \"Number of Findings\"}, \"xaxis17\": {\"anchor\": \"y17\", \"domain\": [0.0, 0.45]}, \"yaxis17\": {\"anchor\": \"x17\", \"domain\": [0.5401662049861496, 0.5678670360110804], \"title\": \"Total Award ($)\"}, \"xaxis18\": {\"anchor\": \"y18\", \"domain\": [0.55, 1.0]}, \"yaxis18\": {\"anchor\": \"x18\", \"domain\": [0.5401662049861496, 0.5678670360110804], \"title\": \"Number of Findings\"}, \"xaxis19\": {\"anchor\": \"y19\", \"domain\": [0.0, 0.45]}, \"yaxis19\": {\"anchor\": \"x19\", \"domain\": [0.48614958448753465, 0.5138504155124654], \"title\": \"Total Award ($)\"}, \"xaxis20\": {\"anchor\": \"y20\", \"domain\": [0.55, 1.0]}, \"yaxis20\": {\"anchor\": \"x20\", \"domain\": [0.48614958448753465, 0.5138504155124654], \"title\": \"Number of Findings\"}, \"xaxis21\": {\"anchor\": \"y21\", \"domain\": [0.0, 0.45]}, \"yaxis21\": {\"anchor\": \"x21\", \"domain\": [0.4321329639889197, 0.45983379501385047], \"title\": \"Total Award ($)\"}, \"xaxis22\": {\"anchor\": \"y22\", \"domain\": [0.55, 1.0]}, \"yaxis22\": {\"anchor\": \"x22\", \"domain\": [0.4321329639889197, 0.45983379501385047], \"title\": \"Number of Findings\"}, \"xaxis23\": {\"anchor\": \"y23\", \"domain\": [0.0, 0.45]}, \"yaxis23\": {\"anchor\": \"x23\", \"domain\": [0.37811634349030476, 0.4058171745152355], \"title\": \"Total Award ($)\"}, \"xaxis24\": {\"anchor\": \"y24\", \"domain\": [0.55, 1.0]}, \"yaxis24\": {\"anchor\": \"x24\", \"domain\": [0.37811634349030476, 0.4058171745152355], \"title\": \"Number of Findings\"}, \"xaxis25\": {\"anchor\": \"y25\", \"domain\": [0.0, 0.45]}, \"yaxis25\": {\"anchor\": \"x25\", \"domain\": [0.32409972299168976, 0.3518005540166205], \"title\": \"Total Award ($)\"}, \"xaxis26\": {\"anchor\": \"y26\", \"domain\": [0.55, 1.0]}, \"yaxis26\": {\"anchor\": \"x26\", \"domain\": [0.32409972299168976, 0.3518005540166205], \"title\": \"Number of Findings\"}, \"xaxis27\": {\"anchor\": \"y27\", \"domain\": [0.0, 0.45]}, \"yaxis27\": {\"anchor\": \"x27\", \"domain\": [0.27008310249307477, 0.29778393351800553], \"title\": \"Total Award ($)\"}, \"xaxis28\": {\"anchor\": \"y28\", \"domain\": [0.55, 1.0]}, \"yaxis28\": {\"anchor\": \"x28\", \"domain\": [0.27008310249307477, 0.29778393351800553], \"title\": \"Number of Findings\"}, \"xaxis29\": {\"anchor\": \"y29\", \"domain\": [0.0, 0.45]}, \"yaxis29\": {\"anchor\": \"x29\", \"domain\": [0.21606648199445982, 0.24376731301939059], \"title\": \"Total Award ($)\"}, \"xaxis30\": {\"anchor\": \"y30\", \"domain\": [0.55, 1.0]}, \"yaxis30\": {\"anchor\": \"x30\", \"domain\": [0.21606648199445982, 0.24376731301939059], \"title\": \"Number of Findings\"}, \"xaxis31\": {\"anchor\": \"y31\", \"domain\": [0.0, 0.45]}, \"yaxis31\": {\"anchor\": \"x31\", \"domain\": [0.16204986149584488, 0.18975069252077564], \"title\": \"Total Award ($)\"}, \"xaxis32\": {\"anchor\": \"y32\", \"domain\": [0.55, 1.0]}, \"yaxis32\": {\"anchor\": \"x32\", \"domain\": [0.16204986149584488, 0.18975069252077564], \"title\": \"Number of Findings\"}, \"xaxis33\": {\"anchor\": \"y33\", \"domain\": [0.0, 0.45]}, \"yaxis33\": {\"anchor\": \"x33\", \"domain\": [0.10803324099722991, 0.13573407202216067], \"title\": \"Total Award ($)\"}, \"xaxis34\": {\"anchor\": \"y34\", \"domain\": [0.55, 1.0]}, \"yaxis34\": {\"anchor\": \"x34\", \"domain\": [0.10803324099722991, 0.13573407202216067], \"title\": \"Number of Findings\"}, \"xaxis35\": {\"anchor\": \"y35\", \"domain\": [0.0, 0.45]}, \"yaxis35\": {\"anchor\": \"x35\", \"domain\": [0.054016620498614956, 0.0817174515235457], \"title\": \"Total Award ($)\"}, \"xaxis36\": {\"anchor\": \"y36\", \"domain\": [0.55, 1.0]}, \"yaxis36\": {\"anchor\": \"x36\", \"domain\": [0.054016620498614956, 0.0817174515235457], \"title\": \"Number of Findings\"}, \"xaxis37\": {\"anchor\": \"y37\", \"domain\": [0.0, 0.45]}, \"yaxis37\": {\"anchor\": \"x37\", \"domain\": [0.0, 0.02770083102493075], \"title\": \"Total Award ($)\"}, \"xaxis38\": {\"anchor\": \"y38\", \"domain\": [0.55, 1.0]}, \"yaxis38\": {\"anchor\": \"x38\", \"domain\": [0.0, 0.02770083102493075], \"title\": \"Number of Findings\"}, \"height\": 8000, \"title\": \"<b>USDA Single Audit with Findings</b> <b>12_11_2018</b>\"}, {\"showLink\": true, \"linkText\": \"Export to plot.ly\"})});</script>"
      ],
      "text/vnd.plotly.v1+html": [
       "<div id=\"aaa2ccfb-1fbc-4d06-88e6-6bdd56cacba3\" style=\"height: 8000px; width: 100%;\" class=\"plotly-graph-div\"></div><script type=\"text/javascript\">require([\"plotly\"], function(Plotly) { window.PLOTLYENV=window.PLOTLYENV || {};window.PLOTLYENV.BASE_URL=\"https://plot.ly\";Plotly.newPlot(\"aaa2ccfb-1fbc-4d06-88e6-6bdd56cacba3\", [{\"legendgroup\": \"10.170\", \"marker\": {\"color\": \"cornflowerblue\"}, \"name\": \"10.170\", \"showlegend\": false, \"x\": [\"2017-02-01\", \"2017-03-01\", \"2017-07-01\", \"2017-11-01\", \"2018-02-01\", \"2018-03-01\", \"2018-09-01\", \"2018-10-01\"], \"y\": [94519.0, 5084894.0, 78223.0, 57117.0, 1194048.0, 5780554.0, 46629.0, 10486.0], \"type\": \"scatter\", \"uid\": \"224109ec-fd67-11e8-81b7-b46bfca2d37e\", \"xaxis\": \"x\", \"yaxis\": \"y\"}, {\"legendgroup\": \"10.170\", \"marker\": {\"color\": \"cornflowerblue\"}, \"name\": \"10.170\", \"showlegend\": false, \"x\": [\"2017-02-01\", \"2017-03-01\", \"2017-07-01\", \"2017-11-01\", \"2018-02-01\", \"2018-03-01\", \"2018-09-01\", \"2018-10-01\"], \"y\": [6.0, 9.0, 3.0, 2.0, 1.0, 8.0, 1.0, 6.0], \"type\": \"scatter\", \"uid\": \"224420ee-fd67-11e8-a7f6-b46bfca2d37e\", \"xaxis\": \"x2\", \"yaxis\": \"y2\"}, {\"legendgroup\": \"10.156\", \"marker\": {\"color\": \"cadetblue\"}, \"name\": \"10.156\", \"showlegend\": false, \"x\": [\"2017-03-01\", \"2018-03-01\"], \"y\": [22718.0, 67888.0], \"type\": \"scatter\", \"uid\": \"2244e44a-fd67-11e8-b506-b46bfca2d37e\", \"xaxis\": \"x\", \"yaxis\": \"y\"}, {\"legendgroup\": \"10.156\", \"marker\": {\"color\": \"cadetblue\"}, \"name\": \"10.156\", \"showlegend\": false, \"x\": [\"2017-03-01\", \"2018-03-01\"], \"y\": [5.0, 6.0], \"type\": \"scatter\", \"uid\": \"22461cc8-fd67-11e8-9411-b46bfca2d37e\", \"xaxis\": \"x2\", \"yaxis\": \"y2\"}, {\"legendgroup\": \"10.162\", \"marker\": {\"color\": \"chartreuse\"}, \"name\": \"10.162\", \"showlegend\": false, \"x\": [\"2017-03-01\", \"2018-08-01\"], \"y\": [432101.0, 375577.0], \"type\": \"scatter\", \"uid\": \"2246e158-fd67-11e8-9115-b46bfca2d37e\", \"xaxis\": \"x\", \"yaxis\": \"y\"}, {\"legendgroup\": \"10.162\", \"marker\": {\"color\": \"chartreuse\"}, \"name\": \"10.162\", \"showlegend\": false, \"x\": [\"2017-03-01\", \"2018-08-01\"], \"y\": [3.0, 3.0], \"type\": \"scatter\", \"uid\": \"22477c48-fd67-11e8-8095-b46bfca2d37e\", \"xaxis\": \"x2\", \"yaxis\": \"y2\"}, {\"legendgroup\": \"10.168\", \"marker\": {\"color\": \"coral\"}, \"name\": \"10.168\", \"showlegend\": false, \"x\": [\"2017-03-01\", \"2017-09-01\"], \"y\": [13427.0, 28115.0], \"type\": \"scatter\", \"uid\": \"2247f16e-fd67-11e8-8ce9-b46bfca2d37e\", \"xaxis\": \"x\", \"yaxis\": \"y\"}, {\"legendgroup\": \"10.168\", \"marker\": {\"color\": \"coral\"}, \"name\": \"10.168\", \"showlegend\": false, \"x\": [\"2017-03-01\", \"2017-09-01\"], \"y\": [1.0, 1.0], \"type\": \"scatter\", \"uid\": \"22488da4-fd67-11e8-83ee-b46bfca2d37e\", \"xaxis\": \"x2\", \"yaxis\": \"y2\"}, {\"legendgroup\": \"10.172\", \"marker\": {\"color\": \"plum\"}, \"name\": \"10.172\", \"showlegend\": false, \"x\": [\"2017-03-01\"], \"y\": [747.0], \"type\": \"scatter\", \"uid\": \"224917e2-fd67-11e8-8280-b46bfca2d37e\", \"xaxis\": \"x\", \"yaxis\": \"y\"}, {\"legendgroup\": \"10.172\", \"marker\": {\"color\": \"plum\"}, \"name\": \"10.172\", \"showlegend\": false, \"x\": [\"2017-03-01\"], \"y\": [3.0], \"type\": \"scatter\", \"uid\": \"224917e3-fd67-11e8-b88d-b46bfca2d37e\", \"xaxis\": \"x2\", \"yaxis\": \"y2\"}, {\"legendgroup\": \"10.164\", \"marker\": {\"color\": \"chocolate\"}, \"name\": \"10.164\", \"showlegend\": false, \"x\": [\"2018-03-01\"], \"y\": [32430.0], \"type\": \"scatter\", \"uid\": \"224917e4-fd67-11e8-b296-b46bfca2d37e\", \"xaxis\": \"x\", \"yaxis\": \"y\"}, {\"legendgroup\": \"10.164\", \"marker\": {\"color\": \"chocolate\"}, \"name\": \"10.164\", \"showlegend\": false, \"x\": [\"2018-03-01\"], \"y\": [4.0], \"type\": \"scatter\", \"uid\": \"224917e5-fd67-11e8-9f84-b46bfca2d37e\", \"xaxis\": \"x2\", \"yaxis\": \"y2\"}, {\"legendgroup\": \"10.025\", \"marker\": {\"color\": \"aqua\"}, \"name\": \"10.025\", \"showlegend\": false, \"x\": [\"2017-01-01\", \"2017-02-01\", \"2017-03-01\", \"2017-07-01\", \"2017-11-01\", \"2017-12-01\", \"2018-01-01\", \"2018-02-01\", \"2018-03-01\", \"2018-09-01\"], \"y\": [194643.0, 1744775.0, 1517492.0, 839107.0, 255004.0, 644193.0, 201135.0, 273060.0, 3693867.0, 1108364.0], \"type\": \"scatter\", \"uid\": \"224917e6-fd67-11e8-aa0c-b46bfca2d37e\", \"xaxis\": \"x3\", \"yaxis\": \"y3\"}, {\"legendgroup\": \"10.025\", \"marker\": {\"color\": \"aqua\"}, \"name\": \"10.025\", \"showlegend\": false, \"x\": [\"2017-01-01\", \"2017-02-01\", \"2017-03-01\", \"2017-07-01\", \"2017-11-01\", \"2017-12-01\", \"2018-01-01\", \"2018-02-01\", \"2018-03-01\", \"2018-09-01\"], \"y\": [2.0, 12.0, 5.0, 1.0, 2.0, 2.0, 4.0, 4.0, 8.0, 1.0], \"type\": \"scatter\", \"uid\": \"224b7b9e-fd67-11e8-a30f-b46bfca2d37e\", \"xaxis\": \"x4\", \"yaxis\": \"y4\"}, {\"legendgroup\": \"10.028\", \"marker\": {\"color\": \"aquamarine\"}, \"name\": \"10.028\", \"showlegend\": false, \"x\": [\"2017-02-01\", \"2017-03-01\", \"2018-03-01\"], \"y\": [8616.0, 21890.0, 133970.0], \"type\": \"scatter\", \"uid\": \"224b7b9f-fd67-11e8-a6f1-b46bfca2d37e\", \"xaxis\": \"x3\", \"yaxis\": \"y3\"}, {\"legendgroup\": \"10.028\", \"marker\": {\"color\": \"aquamarine\"}, \"name\": \"10.028\", \"showlegend\": false, \"x\": [\"2017-02-01\", \"2017-03-01\", \"2018-03-01\"], \"y\": [6.0, 3.0, 7.0], \"type\": \"scatter\", \"uid\": \"224b7ba0-fd67-11e8-bc9a-b46bfca2d37e\", \"xaxis\": \"x4\", \"yaxis\": \"y4\"}, {\"legendgroup\": \"10.030\", \"marker\": {\"color\": \"mediumturquoise\"}, \"name\": \"10.030\", \"showlegend\": false, \"x\": [\"2017-02-01\"], \"y\": [55000.0], \"type\": \"scatter\", \"uid\": \"224b7ba1-fd67-11e8-a631-b46bfca2d37e\", \"xaxis\": \"x3\", \"yaxis\": \"y3\"}, {\"legendgroup\": \"10.030\", \"marker\": {\"color\": \"mediumturquoise\"}, \"name\": \"10.030\", \"showlegend\": false, \"x\": [\"2017-02-01\"], \"y\": [1.0], \"type\": \"scatter\", \"uid\": \"224dde1e-fd67-11e8-ac50-b46bfca2d37e\", \"xaxis\": \"x4\", \"yaxis\": \"y4\"}, {\"legendgroup\": \"10.001\", \"marker\": {\"color\": \"red\"}, \"name\": \"10.001\", \"showlegend\": false, \"x\": [\"2017-01-01\", \"2017-02-01\", \"2017-03-01\", \"2017-05-01\", \"2017-11-01\", \"2018-01-01\", \"2018-02-01\", \"2018-03-01\", \"2018-05-01\", \"2018-09-01\", \"2018-11-01\"], \"y\": [6701.0, 2119580.0, 8543318.0, 927068.0, 189585.0, 9841.0, 19775.0, 9074490.0, 314025.0, 40885.0, 5956702.0], \"type\": \"scatter\", \"uid\": \"224dde1f-fd67-11e8-bf7a-b46bfca2d37e\", \"xaxis\": \"x5\", \"yaxis\": \"y5\"}, {\"legendgroup\": \"10.001\", \"marker\": {\"color\": \"red\"}, \"name\": \"10.001\", \"showlegend\": false, \"x\": [\"2017-01-01\", \"2017-02-01\", \"2017-03-01\", \"2017-05-01\", \"2017-11-01\", \"2018-01-01\", \"2018-02-01\", \"2018-03-01\", \"2018-05-01\", \"2018-09-01\", \"2018-11-01\"], \"y\": [2.0, 6.0, 10.0, 1.0, 4.0, 3.0, 1.0, 9.0, 5.0, 1.0, 2.0], \"type\": \"scatter\", \"uid\": \"224dde20-fd67-11e8-bbf4-b46bfca2d37e\", \"xaxis\": \"x6\", \"yaxis\": \"y6\"}, {\"legendgroup\": \"10.443\", \"marker\": {\"color\": \"khaki\"}, \"name\": \"10.443\", \"showlegend\": false, \"x\": [\"2017-03-01\", \"2017-11-01\", \"2018-03-01\"], \"y\": [399242.0, 6250.0, 222493.0], \"type\": \"scatter\", \"uid\": \"224dde21-fd67-11e8-ae55-b46bfca2d37e\", \"xaxis\": \"x7\", \"yaxis\": \"y7\"}, {\"legendgroup\": \"10.443\", \"marker\": {\"color\": \"khaki\"}, \"name\": \"10.443\", \"showlegend\": false, \"x\": [\"2017-03-01\", \"2017-11-01\", \"2018-03-01\"], \"y\": [5.0, 1.0, 5.0], \"type\": \"scatter\", \"uid\": \"22503f4c-fd67-11e8-b2d8-b46bfca2d37e\", \"xaxis\": \"x8\", \"yaxis\": \"y8\"}, {\"legendgroup\": \"10.250\", \"marker\": {\"color\": \"darkslateblue\"}, \"name\": \"10.250\", \"showlegend\": false, \"x\": [\"2017-02-01\", \"2017-03-01\", \"2018-02-01\", \"2018-03-01\", \"2018-05-01\", \"2018-11-01\"], \"y\": [247334.0, 113857.0, 2763.0, 448126.0, 4240.0, 28306.0], \"type\": \"scatter\", \"uid\": \"22503f4d-fd67-11e8-b9b7-b46bfca2d37e\", \"xaxis\": \"x9\", \"yaxis\": \"y9\"}, {\"legendgroup\": \"10.250\", \"marker\": {\"color\": \"darkslateblue\"}, \"name\": \"10.250\", \"showlegend\": false, \"x\": [\"2017-02-01\", \"2017-03-01\", \"2018-02-01\", \"2018-03-01\", \"2018-05-01\", \"2018-11-01\"], \"y\": [7.0, 4.0, 1.0, 3.0, 5.0, 1.0], \"type\": \"scatter\", \"uid\": \"22503f4e-fd67-11e8-a789-b46bfca2d37e\", \"xaxis\": \"x10\", \"yaxis\": \"y10\"}, {\"legendgroup\": \"10.253\", \"marker\": {\"color\": \"darkslategray\"}, \"name\": \"10.253\", \"showlegend\": false, \"x\": [\"2017-02-01\", \"2017-03-01\", \"2017-11-01\", \"2018-03-01\", \"2018-11-01\"], \"y\": [40427.0, 29435.0, 14592.0, 152533.0, 263953.0], \"type\": \"scatter\", \"uid\": \"22503f4f-fd67-11e8-bb91-b46bfca2d37e\", \"xaxis\": \"x9\", \"yaxis\": \"y9\"}, {\"legendgroup\": \"10.253\", \"marker\": {\"color\": \"darkslategray\"}, \"name\": \"10.253\", \"showlegend\": false, \"x\": [\"2017-02-01\", \"2017-03-01\", \"2017-11-01\", \"2018-03-01\", \"2018-11-01\"], \"y\": [7.0, 1.0, 2.0, 7.0, 1.0], \"type\": \"scatter\", \"uid\": \"2252ae4c-fd67-11e8-b3ac-b46bfca2d37e\", \"xaxis\": \"x10\", \"yaxis\": \"y10\"}, {\"legendgroup\": \"10.601\", \"marker\": {\"color\": \"darkcyan\"}, \"name\": \"10.601\", \"showlegend\": false, \"x\": [\"2017-02-01\", \"2017-03-01\", \"2017-04-01\", \"2017-08-01\", \"2017-09-01\", \"2017-12-01\", \"2018-03-01\", \"2018-05-01\", \"2018-08-01\", \"2018-09-01\"], \"y\": [600895.0, 849552.0, 1217928.0, 5230681.0, 10088314.0, 754315.0, 362541.0, 1084408.0, 1183893.0, 6285158.0], \"type\": \"scatter\", \"uid\": \"22534bc6-fd67-11e8-b65b-b46bfca2d37e\", \"xaxis\": \"x11\", \"yaxis\": \"y11\"}, {\"legendgroup\": \"10.601\", \"marker\": {\"color\": \"darkcyan\"}, \"name\": \"10.601\", \"showlegend\": false, \"x\": [\"2017-02-01\", \"2017-03-01\", \"2017-04-01\", \"2017-08-01\", \"2017-09-01\", \"2017-12-01\", \"2018-03-01\", \"2018-05-01\", \"2018-08-01\", \"2018-09-01\"], \"y\": [3.0, 3.0, 1.0, 1.0, 2.0, 4.0, 3.0, 1.0, 2.0, 5.0], \"type\": \"scatter\", \"uid\": \"2253c0be-fd67-11e8-8184-b46bfca2d37e\", \"xaxis\": \"x12\", \"yaxis\": \"y12\"}, {\"legendgroup\": \"10.608\", \"marker\": {\"color\": \"darkkhaki\"}, \"name\": \"10.608\", \"showlegend\": false, \"x\": [\"2017-02-01\", \"2017-04-01\", \"2018-03-01\"], \"y\": [13232446.0, 32292192.0, 37297901.0], \"type\": \"scatter\", \"uid\": \"22545d34-fd67-11e8-8217-b46bfca2d37e\", \"xaxis\": \"x11\", \"yaxis\": \"y11\"}, {\"legendgroup\": \"10.608\", \"marker\": {\"color\": \"darkkhaki\"}, \"name\": \"10.608\", \"showlegend\": false, \"x\": [\"2017-02-01\", \"2017-04-01\", \"2018-03-01\"], \"y\": [1.0, 2.0, 2.0], \"type\": \"scatter\", \"uid\": \"22552080-fd67-11e8-b543-b46bfca2d37e\", \"xaxis\": \"x12\", \"yaxis\": \"y12\"}, {\"legendgroup\": \"10.777\", \"marker\": {\"color\": \"indianred\"}, \"name\": \"10.777\", \"showlegend\": false, \"x\": [\"2017-02-01\", \"2017-03-01\", \"2017-11-01\", \"2018-02-01\", \"2018-03-01\"], \"y\": [23781.0, 53400.0, 5775.0, 36235.0, 79842.0], \"type\": \"scatter\", \"uid\": \"2255bb9c-fd67-11e8-b065-b46bfca2d37e\", \"xaxis\": \"x11\", \"yaxis\": \"y11\"}, {\"legendgroup\": \"10.777\", \"marker\": {\"color\": \"indianred\"}, \"name\": \"10.777\", \"showlegend\": false, \"x\": [\"2017-02-01\", \"2017-03-01\", \"2017-11-01\", \"2018-02-01\", \"2018-03-01\"], \"y\": [4.0, 1.0, 1.0, 3.0, 2.0], \"type\": \"scatter\", \"uid\": \"225657de-fd67-11e8-b875-b46bfca2d37e\", \"xaxis\": \"x12\", \"yaxis\": \"y12\"}, {\"legendgroup\": \"10.960\", \"marker\": {\"color\": \"blue\"}, \"name\": \"10.960\", \"showlegend\": false, \"x\": [\"2017-02-01\", \"2017-03-01\", \"2018-02-01\", \"2018-03-01\", \"2018-11-01\"], \"y\": [9578.0, 466857.0, 19465.0, 6355.0, 68422.0], \"type\": \"scatter\", \"uid\": \"2256f418-fd67-11e8-966f-b46bfca2d37e\", \"xaxis\": \"x11\", \"yaxis\": \"y11\"}, {\"legendgroup\": \"10.960\", \"marker\": {\"color\": \"blue\"}, \"name\": \"10.960\", \"showlegend\": false, \"x\": [\"2017-02-01\", \"2017-03-01\", \"2018-02-01\", \"2018-03-01\", \"2018-11-01\"], \"y\": [6.0, 1.0, 3.0, 2.0, 1.0], \"type\": \"scatter\", \"uid\": \"22579030-fd67-11e8-80f1-b46bfca2d37e\", \"xaxis\": \"x12\", \"yaxis\": \"y12\"}, {\"legendgroup\": \"10.962\", \"marker\": {\"color\": \"brown\"}, \"name\": \"10.962\", \"showlegend\": false, \"x\": [\"2017-02-01\", \"2017-03-01\", \"2018-03-01\", \"2018-08-01\"], \"y\": [33038.0, 203950.0, 158822.0, 71120.0], \"type\": \"scatter\", \"uid\": \"22580562-fd67-11e8-9b0b-b46bfca2d37e\", \"xaxis\": \"x11\", \"yaxis\": \"y11\"}, {\"legendgroup\": \"10.962\", \"marker\": {\"color\": \"brown\"}, \"name\": \"10.962\", \"showlegend\": false, \"x\": [\"2017-02-01\", \"2017-03-01\", \"2018-03-01\", \"2018-08-01\"], \"y\": [4.0, 1.0, 1.0, 1.0], \"type\": \"scatter\", \"uid\": \"2258ab24-fd67-11e8-b04f-b46bfca2d37e\", \"xaxis\": \"x12\", \"yaxis\": \"y12\"}, {\"legendgroup\": \"10.604\", \"marker\": {\"color\": \"darkgray\"}, \"name\": \"10.604\", \"showlegend\": false, \"x\": [\"2017-03-01\", \"2017-05-01\", \"2018-03-01\"], \"y\": [388170.0, 526213.0, 540940.0], \"type\": \"scatter\", \"uid\": \"2258ab25-fd67-11e8-931f-b46bfca2d37e\", \"xaxis\": \"x11\", \"yaxis\": \"y11\"}, {\"legendgroup\": \"10.604\", \"marker\": {\"color\": \"darkgray\"}, \"name\": \"10.604\", \"showlegend\": false, \"x\": [\"2017-03-01\", \"2017-05-01\", \"2018-03-01\"], \"y\": [1.0, 2.0, 1.0], \"type\": \"scatter\", \"uid\": \"2258ab26-fd67-11e8-b7c1-b46bfca2d37e\", \"xaxis\": \"x12\", \"yaxis\": \"y12\"}, {\"legendgroup\": \"10.612\", \"marker\": {\"color\": \"darkmagenta\"}, \"name\": \"10.612\", \"showlegend\": false, \"x\": [\"2017-03-01\", \"2018-03-01\"], \"y\": [160442.0, 138449.0], \"type\": \"scatter\", \"uid\": \"2258ab27-fd67-11e8-8e2c-b46bfca2d37e\", \"xaxis\": \"x11\", \"yaxis\": \"y11\"}, {\"legendgroup\": \"10.612\", \"marker\": {\"color\": \"darkmagenta\"}, \"name\": \"10.612\", \"showlegend\": false, \"x\": [\"2017-03-01\", \"2018-03-01\"], \"y\": [1.0, 1.0], \"type\": \"scatter\", \"uid\": \"2258ab28-fd67-11e8-a8f3-b46bfca2d37e\", \"xaxis\": \"x12\", \"yaxis\": \"y12\"}, {\"legendgroup\": \"10.606\", \"marker\": {\"color\": \"darkgreen\"}, \"name\": \"10.606\", \"showlegend\": false, \"x\": [\"2017-04-01\", \"2017-07-01\", \"2017-09-01\", \"2018-01-01\", \"2018-03-01\", \"2018-09-01\"], \"y\": [10592897.0, 786409.0, 2256191.0, 12118804.0, 13493763.0, 19895826.0], \"type\": \"scatter\", \"uid\": \"225b0dc0-fd67-11e8-9e10-b46bfca2d37e\", \"xaxis\": \"x11\", \"yaxis\": \"y11\"}, {\"legendgroup\": \"10.606\", \"marker\": {\"color\": \"darkgreen\"}, \"name\": \"10.606\", \"showlegend\": false, \"x\": [\"2017-04-01\", \"2017-07-01\", \"2017-09-01\", \"2018-01-01\", \"2018-03-01\", \"2018-09-01\"], \"y\": [2.0, 1.0, 3.0, 4.0, 2.0, 2.0], \"type\": \"scatter\", \"uid\": \"225b0dc1-fd67-11e8-ad22-b46bfca2d37e\", \"xaxis\": \"x12\", \"yaxis\": \"y12\"}, {\"legendgroup\": \"10.600\", \"marker\": {\"color\": \"darkblue\"}, \"name\": \"10.600\", \"showlegend\": false, \"x\": [\"2017-09-01\", \"2018-03-01\", \"2018-08-01\"], \"y\": [118890.0, 2348.0, 547169.0], \"type\": \"scatter\", \"uid\": \"225b0dc2-fd67-11e8-ab98-b46bfca2d37e\", \"xaxis\": \"x11\", \"yaxis\": \"y11\"}, {\"legendgroup\": \"10.600\", \"marker\": {\"color\": \"darkblue\"}, \"name\": \"10.600\", \"showlegend\": false, \"x\": [\"2017-09-01\", \"2018-03-01\", \"2018-08-01\"], \"y\": [1.0, 1.0, 2.0], \"type\": \"scatter\", \"uid\": \"225b0dc3-fd67-11e8-8a81-b46bfca2d37e\", \"xaxis\": \"x12\", \"yaxis\": \"y12\"}, {\"legendgroup\": \"10.603\", \"marker\": {\"color\": \"darkgoldenrod\"}, \"name\": \"10.603\", \"showlegend\": false, \"x\": [\"2017-09-01\", \"2018-09-01\"], \"y\": [542509.0, 189533.0], \"type\": \"scatter\", \"uid\": \"225dc502-fd67-11e8-bf60-b46bfca2d37e\", \"xaxis\": \"x11\", \"yaxis\": \"y11\"}, {\"legendgroup\": \"10.603\", \"marker\": {\"color\": \"darkgoldenrod\"}, \"name\": \"10.603\", \"showlegend\": false, \"x\": [\"2017-09-01\", \"2018-09-01\"], \"y\": [1.0, 3.0], \"type\": \"scatter\", \"uid\": \"225e6146-fd67-11e8-b26b-b46bfca2d37e\", \"xaxis\": \"x12\", \"yaxis\": \"y12\"}, {\"legendgroup\": \"10.961\", \"marker\": {\"color\": \"blueviolet\"}, \"name\": \"10.961\", \"showlegend\": false, \"x\": [\"2018-03-01\"], \"y\": [22073.0], \"type\": \"scatter\", \"uid\": \"225ed670-fd67-11e8-81b1-b46bfca2d37e\", \"xaxis\": \"x11\", \"yaxis\": \"y11\"}, {\"legendgroup\": \"10.961\", \"marker\": {\"color\": \"blueviolet\"}, \"name\": \"10.961\", \"showlegend\": false, \"x\": [\"2018-03-01\"], \"y\": [2.0], \"type\": \"scatter\", \"uid\": \"225f73e4-fd67-11e8-a000-b46bfca2d37e\", \"xaxis\": \"x12\", \"yaxis\": \"y12\"}, {\"legendgroup\": \"10.605\", \"marker\": {\"color\": \"magenta\"}, \"name\": \"10.605\", \"showlegend\": false, \"x\": [\"2018-08-01\", \"2018-09-01\"], \"y\": [74952.0, 1310000.0], \"type\": \"scatter\", \"uid\": \"2260101e-fd67-11e8-9b6b-b46bfca2d37e\", \"xaxis\": \"x11\", \"yaxis\": \"y11\"}, {\"legendgroup\": \"10.605\", \"marker\": {\"color\": \"magenta\"}, \"name\": \"10.605\", \"showlegend\": false, \"x\": [\"2018-08-01\", \"2018-09-01\"], \"y\": [2.0, 3.0], \"type\": \"scatter\", \"uid\": \"22608552-fd67-11e8-871e-b46bfca2d37e\", \"xaxis\": \"x12\", \"yaxis\": \"y12\"}, {\"legendgroup\": \"10.543\", \"marker\": {\"color\": \"lightgoldenrodyellow\"}, \"name\": \"10.543\", \"showlegend\": false, \"x\": [\"2016-12-01\", \"2017-01-01\", \"2017-11-01\", \"2018-03-01\"], \"y\": [1500.0, 485.0, 36.0, 500.0], \"type\": \"scatter\", \"uid\": \"2261219a-fd67-11e8-8f9b-b46bfca2d37e\", \"xaxis\": \"x13\", \"yaxis\": \"y13\"}, {\"legendgroup\": \"10.543\", \"marker\": {\"color\": \"lightgoldenrodyellow\"}, \"name\": \"10.543\", \"showlegend\": false, \"x\": [\"2016-12-01\", \"2017-01-01\", \"2017-11-01\", \"2018-03-01\"], \"y\": [1.0, 2.0, 1.0, 2.0], \"type\": \"scatter\", \"uid\": \"2261e3b4-fd67-11e8-b0b6-b46bfca2d37e\", \"xaxis\": \"x14\", \"yaxis\": \"y14\"}, {\"legendgroup\": \"10.551\", \"marker\": {\"color\": \"mediumaquamarine\"}, \"name\": \"10.551\", \"showlegend\": false, \"x\": [\"2016-12-01\", \"2017-01-01\", \"2017-02-01\", \"2017-03-01\", \"2017-04-01\", \"2017-05-01\", \"2017-06-01\", \"2017-07-01\", \"2017-09-01\", \"2017-12-01\", \"2018-02-01\", \"2018-03-01\", \"2018-04-01\", \"2018-06-01\", \"2018-09-01\", \"2018-11-01\"], \"y\": [4964314000.0, 1797516.0, 3128518618.0, 21753163999.0, 848403954.0, 1833281412.0, 3899505872.0, 11479269.0, 172365015.0, 14970550.0, 2270618578.0, 22776727553.0, 1019934794.0, 5280583536.0, 15273334.0, 648861.0], \"type\": \"scatter\", \"uid\": \"2262a708-fd67-11e8-a10f-b46bfca2d37e\", \"xaxis\": \"x13\", \"yaxis\": \"y13\"}, {\"legendgroup\": \"10.551\", \"marker\": {\"color\": \"mediumaquamarine\"}, \"name\": \"10.551\", \"showlegend\": false, \"x\": [\"2016-12-01\", \"2017-01-01\", \"2017-02-01\", \"2017-03-01\", \"2017-04-01\", \"2017-05-01\", \"2017-06-01\", \"2017-07-01\", \"2017-09-01\", \"2017-12-01\", \"2018-02-01\", \"2018-03-01\", \"2018-04-01\", \"2018-06-01\", \"2018-09-01\", \"2018-11-01\"], \"y\": [1.0, 1.0, 8.0, 46.0, 1.0, 2.0, 15.0, 3.0, 4.0, 3.0, 2.0, 37.0, 8.0, 28.0, 1.0, 1.0], \"type\": \"scatter\", \"uid\": \"22636a54-fd67-11e8-8bf6-b46bfca2d37e\", \"xaxis\": \"x14\", \"yaxis\": \"y14\"}, {\"legendgroup\": \"10.553\", \"marker\": {\"color\": \"lightgreen\"}, \"name\": \"10.553\", \"showlegend\": false, \"x\": [\"2016-12-01\", \"2017-01-01\", \"2017-02-01\", \"2017-03-01\", \"2017-04-01\", \"2017-05-01\", \"2017-06-01\", \"2017-07-01\", \"2017-08-01\", \"2017-09-01\", \"2017-10-01\", \"2017-11-01\", \"2017-12-01\", \"2018-01-01\", \"2018-02-01\", \"2018-03-01\", \"2018-04-01\", \"2018-05-01\", \"2018-06-01\", \"2018-07-01\", \"2018-08-01\", \"2018-09-01\", \"2018-10-01\", \"2018-11-01\", \"2018-12-01\"], \"y\": [45393594.0, 61535970.0, 141633658.0, 1164425378.0, 7742285.0, 5042628.0, 216021972.0, 5098322.0, 25978900.0, 17910361.0, 7714098.0, 33094364.0, 80086563.0, 179744963.0, 166464559.0, 1022871976.0, 79401967.0, 17955733.0, 285093308.0, 11661840.0, 4467041.0, 4144036.0, 15129484.0, 17270222.0, 16831008.0], \"type\": \"scatter\", \"uid\": \"22642ed4-fd67-11e8-86db-b46bfca2d37e\", \"xaxis\": \"x13\", \"yaxis\": \"y13\"}, {\"legendgroup\": \"10.553\", \"marker\": {\"color\": \"lightgreen\"}, \"name\": \"10.553\", \"showlegend\": false, \"x\": [\"2016-12-01\", \"2017-01-01\", \"2017-02-01\", \"2017-03-01\", \"2017-04-01\", \"2017-05-01\", \"2017-06-01\", \"2017-07-01\", \"2017-08-01\", \"2017-09-01\", \"2017-10-01\", \"2017-11-01\", \"2017-12-01\", \"2018-01-01\", \"2018-02-01\", \"2018-03-01\", \"2018-04-01\", \"2018-05-01\", \"2018-06-01\", \"2018-07-01\", \"2018-08-01\", \"2018-09-01\", \"2018-10-01\", \"2018-11-01\", \"2018-12-01\"], \"y\": [68.0, 168.66666666666666, 80.0, 154.0, 23.0, 26.0, 23.0, 30.0, 53.0, 115.0, 65.0, 86.0, 139.0, 148.0, 63.0, 173.0, 55.0, 96.0, 70.12698412698413, 59.6, 51.0, 32.0, 103.7936507936508, 111.0, 29.0], \"type\": \"scatter\", \"uid\": \"2264f0f4-fd67-11e8-a7a1-b46bfca2d37e\", \"xaxis\": \"x14\", \"yaxis\": \"y14\"}, {\"legendgroup\": \"10.555\", \"marker\": {\"color\": \"lightsalmon\"}, \"name\": \"10.555\", \"showlegend\": false, \"x\": [\"2016-12-01\", \"2017-01-01\", \"2017-02-01\", \"2017-03-01\", \"2017-04-01\", \"2017-05-01\", \"2017-06-01\", \"2017-07-01\", \"2017-08-01\", \"2017-09-01\", \"2017-10-01\", \"2017-11-01\", \"2017-12-01\", \"2018-01-01\", \"2018-02-01\", \"2018-03-01\", \"2018-04-01\", \"2018-05-01\", \"2018-06-01\", \"2018-07-01\", \"2018-08-01\", \"2018-09-01\", \"2018-10-01\", \"2018-11-01\", \"2018-12-01\"], \"y\": [133574728.0, 253587014.0, 498410598.0, 3836383884.0, 19879128.0, 17819934.0, 697498654.0, 23135708.0, 84329757.0, 71985361.0, 25714226.0, 116207995.0, 1263516956.0, 459607779.0, 570664728.0, 3212558912.0, 231375101.0, 83287702.0, 973754982.0, 41599536.0, 15493424.0, 11770109.0, 54861663.0, 67521822.0, 55991205.0], \"type\": \"scatter\", \"uid\": \"2265729c-fd67-11e8-ad43-b46bfca2d37e\", \"xaxis\": \"x13\", \"yaxis\": \"y13\"}, {\"legendgroup\": \"10.555\", \"marker\": {\"color\": \"lightsalmon\"}, \"name\": \"10.555\", \"showlegend\": false, \"x\": [\"2016-12-01\", \"2017-01-01\", \"2017-02-01\", \"2017-03-01\", \"2017-04-01\", \"2017-05-01\", \"2017-06-01\", \"2017-07-01\", \"2017-08-01\", \"2017-09-01\", \"2017-10-01\", \"2017-11-01\", \"2017-12-01\", \"2018-01-01\", \"2018-02-01\", \"2018-03-01\", \"2018-04-01\", \"2018-05-01\", \"2018-06-01\", \"2018-07-01\", \"2018-08-01\", \"2018-09-01\", \"2018-10-01\", \"2018-11-01\", \"2018-12-01\"], \"y\": [80.8, 184.66666666666666, 88.0, 175.0, 26.0, 29.0, 34.0, 33.0, 61.66666666666667, 130.54545454545456, 70.33333333333333, 95.0, 158.0, 165.66666666666666, 79.57142857142857, 190.0, 59.0, 104.9047619047619, 75.12698412698413, 62.6, 55.0, 33.0, 112.72698412698414, 117.0, 33.0], \"type\": \"scatter\", \"uid\": \"2265729d-fd67-11e8-8520-b46bfca2d37e\", \"xaxis\": \"x14\", \"yaxis\": \"y14\"}, {\"legendgroup\": \"10.556\", \"marker\": {\"color\": \"lightseagreen\"}, \"name\": \"10.556\", \"showlegend\": false, \"x\": [\"2016-12-01\", \"2017-01-01\", \"2017-02-01\", \"2017-03-01\", \"2017-06-01\", \"2017-07-01\", \"2017-09-01\", \"2017-10-01\", \"2017-11-01\", \"2017-12-01\", \"2018-01-01\", \"2018-02-01\", \"2018-03-01\", \"2018-04-01\", \"2018-06-01\", \"2018-07-01\", \"2018-08-01\", \"2018-10-01\", \"2018-11-01\", \"2018-12-01\"], \"y\": [3127.0, 725667.0, 349740.0, 3773557.0, 327857.0, 3146.0, 5406.0, 22043.0, 1265.0, 452738.0, 60361.0, 459319.0, 700726.0, 3200.0, 2205337.0, 143.0, 55.0, 18631.0, 11891.0, 11447.0], \"type\": \"scatter\", \"uid\": \"2265729e-fd67-11e8-b152-b46bfca2d37e\", \"xaxis\": \"x13\", \"yaxis\": \"y13\"}, {\"legendgroup\": \"10.556\", \"marker\": {\"color\": \"lightseagreen\"}, \"name\": \"10.556\", \"showlegend\": false, \"x\": [\"2016-12-01\", \"2017-01-01\", \"2017-02-01\", \"2017-03-01\", \"2017-06-01\", \"2017-07-01\", \"2017-09-01\", \"2017-10-01\", \"2017-11-01\", \"2017-12-01\", \"2018-01-01\", \"2018-02-01\", \"2018-03-01\", \"2018-04-01\", \"2018-06-01\", \"2018-07-01\", \"2018-08-01\", \"2018-10-01\", \"2018-11-01\", \"2018-12-01\"], \"y\": [3.0, 15.0, 6.0, 30.0, 9.0, 1.0, 8.0, 11.0, 1.0, 21.0, 9.0, 3.0, 23.0, 1.0, 9.0, 4.0, 2.0, 7.0, 6.0, 2.0], \"type\": \"scatter\", \"uid\": \"2265729f-fd67-11e8-8d18-b46bfca2d37e\", \"xaxis\": \"x14\", \"yaxis\": \"y14\"}, {\"legendgroup\": \"10.557\", \"marker\": {\"color\": \"lightskyblue\"}, \"name\": \"10.557\", \"showlegend\": false, \"x\": [\"2016-12-01\", \"2017-01-01\", \"2017-02-01\", \"2017-03-01\", \"2017-04-01\", \"2017-05-01\", \"2017-06-01\", \"2017-07-01\", \"2017-08-01\", \"2017-09-01\", \"2017-11-01\", \"2017-12-01\", \"2018-01-01\", \"2018-02-01\", \"2018-03-01\", \"2018-04-01\", \"2018-05-01\", \"2018-06-01\", \"2018-07-01\", \"2018-08-01\", \"2018-09-01\", \"2018-10-01\", \"2018-11-01\"], \"y\": [560909.0, 4766694.0, 39211599.0, 2728136335.0, 88273463.0, 5326283.0, 169543028.0, 2669344.0, 24972065.0, 9070784.0, 3358034.0, 14643710.0, 12040889.0, 49202652.0, 1020835011.0, 458682582.0, 611697.0, 352751162.0, 32692227.0, 8111890.0, 8097740.0, 1645106.0, 12261883.0], \"type\": \"scatter\", \"uid\": \"2267d518-fd67-11e8-86c2-b46bfca2d37e\", \"xaxis\": \"x13\", \"yaxis\": \"y13\"}, {\"legendgroup\": \"10.557\", \"marker\": {\"color\": \"lightskyblue\"}, \"name\": \"10.557\", \"showlegend\": false, \"x\": [\"2016-12-01\", \"2017-01-01\", \"2017-02-01\", \"2017-03-01\", \"2017-04-01\", \"2017-05-01\", \"2017-06-01\", \"2017-07-01\", \"2017-08-01\", \"2017-09-01\", \"2017-11-01\", \"2017-12-01\", \"2018-01-01\", \"2018-02-01\", \"2018-03-01\", \"2018-04-01\", \"2018-05-01\", \"2018-06-01\", \"2018-07-01\", \"2018-08-01\", \"2018-09-01\", \"2018-10-01\", \"2018-11-01\"], \"y\": [2.0, 11.0, 14.0, 49.0, 20.0, 5.6, 23.666666666666668, 2.0, 13.0, 25.846153846153847, 7.0, 3.0, 5.0, 3.0, 26.666666666666668, 13.0, 2.0, 24.0, 13.0, 5.0, 20.0, 3.0, 4.0], \"type\": \"scatter\", \"uid\": \"2267d519-fd67-11e8-b7bc-b46bfca2d37e\", \"xaxis\": \"x14\", \"yaxis\": \"y14\"}, {\"legendgroup\": \"10.558\", \"marker\": {\"color\": \"lightslategray\"}, \"name\": \"10.558\", \"showlegend\": false, \"x\": [\"2016-12-01\", \"2017-01-01\", \"2017-02-01\", \"2017-03-01\", \"2017-04-01\", \"2017-05-01\", \"2017-06-01\", \"2017-07-01\", \"2017-08-01\", \"2017-09-01\", \"2017-10-01\", \"2017-11-01\", \"2017-12-01\", \"2018-01-01\", \"2018-02-01\", \"2018-03-01\", \"2018-04-01\", \"2018-05-01\", \"2018-06-01\", \"2018-07-01\", \"2018-08-01\", \"2018-09-01\", \"2018-10-01\", \"2018-11-01\", \"2018-12-01\"], \"y\": [4743406.0, 20059341.0, 132052251.0, 913846505.0, 14130795.0, 16108040.0, 114829595.0, 17011165.0, 3734743.0, 19312104.0, 8982815.0, 8554089.0, 8033490.0, 34121403.0, 109809191.0, 853188582.0, 56719142.0, 2759729.0, 190889550.0, 14178595.0, 7592458.0, 22756534.0, 16289989.0, 5445571.0, 3559192.0], \"type\": \"scatter\", \"uid\": \"2267d51a-fd67-11e8-b0b6-b46bfca2d37e\", \"xaxis\": \"x13\", \"yaxis\": \"y13\"}, {\"legendgroup\": \"10.558\", \"marker\": {\"color\": \"lightslategray\"}, \"name\": \"10.558\", \"showlegend\": false, \"x\": [\"2016-12-01\", \"2017-01-01\", \"2017-02-01\", \"2017-03-01\", \"2017-04-01\", \"2017-05-01\", \"2017-06-01\", \"2017-07-01\", \"2017-08-01\", \"2017-09-01\", \"2017-10-01\", \"2017-11-01\", \"2017-12-01\", \"2018-01-01\", \"2018-02-01\", \"2018-03-01\", \"2018-04-01\", \"2018-05-01\", \"2018-06-01\", \"2018-07-01\", \"2018-08-01\", \"2018-09-01\", \"2018-10-01\", \"2018-11-01\", \"2018-12-01\"], \"y\": [4.0, 21.0, 13.0, 59.0, 8.0, 13.0, 35.0, 21.0, 16.0, 15.0, 2.666666666666667, 8.0, 12.0, 15.0, 13.6, 53.0, 7.0, 10.0, 29.0, 14.0, 12.0, 29.0, 16.0, 8.0, 4.0], \"type\": \"scatter\", \"uid\": \"226a389c-fd67-11e8-bc22-b46bfca2d37e\", \"xaxis\": \"x14\", \"yaxis\": \"y14\"}, {\"legendgroup\": \"10.559\", \"marker\": {\"color\": \"midnightblue\"}, \"name\": \"10.559\", \"showlegend\": false, \"x\": [\"2016-12-01\", \"2017-01-01\", \"2017-02-01\", \"2017-03-01\", \"2017-04-01\", \"2017-05-01\", \"2017-06-01\", \"2017-07-01\", \"2017-08-01\", \"2017-09-01\", \"2017-10-01\", \"2017-11-01\", \"2017-12-01\", \"2018-01-01\", \"2018-02-01\", \"2018-03-01\", \"2018-04-01\", \"2018-05-01\", \"2018-06-01\", \"2018-07-01\", \"2018-08-01\", \"2018-09-01\", \"2018-10-01\", \"2018-11-01\", \"2018-12-01\"], \"y\": [3586869.0, 4998614.0, 13586343.0, 151125700.0, 960875.0, 1825951.0, 20082456.0, 556945.0, 3918688.0, 1164046.0, 320439.0, 1276722.0, 70412832.0, 5459099.0, 12919049.0, 110947561.0, 25706430.0, 2706927.0, 26072201.0, 3586606.0, 594538.0, 318268.0, 1265688.0, 1426790.0, 904790.0], \"type\": \"scatter\", \"uid\": \"226a389d-fd67-11e8-b19c-b46bfca2d37e\", \"xaxis\": \"x13\", \"yaxis\": \"y13\"}, {\"legendgroup\": \"10.559\", \"marker\": {\"color\": \"midnightblue\"}, \"name\": \"10.559\", \"showlegend\": false, \"x\": [\"2016-12-01\", \"2017-01-01\", \"2017-02-01\", \"2017-03-01\", \"2017-04-01\", \"2017-05-01\", \"2017-06-01\", \"2017-07-01\", \"2017-08-01\", \"2017-09-01\", \"2017-10-01\", \"2017-11-01\", \"2017-12-01\", \"2018-01-01\", \"2018-02-01\", \"2018-03-01\", \"2018-04-01\", \"2018-05-01\", \"2018-06-01\", \"2018-07-01\", \"2018-08-01\", \"2018-09-01\", \"2018-10-01\", \"2018-11-01\", \"2018-12-01\"], \"y\": [33.0, 61.0, 34.0, 114.0, 9.0, 23.0, 13.0, 10.0, 25.0, 38.0, 23.0, 39.0, 63.0, 65.0, 25.0, 105.0, 17.0, 42.666666666666664, 33.6, 24.0, 16.0, 15.0, 55.55555555555556, 52.0, 11.0], \"type\": \"scatter\", \"uid\": \"226a389e-fd67-11e8-8d0e-b46bfca2d37e\", \"xaxis\": \"x14\", \"yaxis\": \"y14\"}, {\"legendgroup\": \"10.561\", \"marker\": {\"color\": \"mediumpurple\"}, \"name\": \"10.561\", \"showlegend\": false, \"x\": [\"2016-12-01\", \"2017-01-01\", \"2017-02-01\", \"2017-03-01\", \"2017-04-01\", \"2017-05-01\", \"2017-06-01\", \"2017-07-01\", \"2017-08-01\", \"2017-09-01\", \"2017-11-01\", \"2017-12-01\", \"2018-01-01\", \"2018-02-01\", \"2018-03-01\", \"2018-04-01\", \"2018-05-01\", \"2018-06-01\", \"2018-07-01\", \"2018-08-01\", \"2018-09-01\", \"2018-10-01\", \"2018-11-01\", \"2018-12-01\"], \"y\": [406617314.0, 10216793.0, 135749213.0, 1472113918.0, 27753399.0, 66864818.0, 330692167.0, 9455870.0, 847110.0, 15813175.0, 25290596.0, 18213104.0, 6354728.0, 110773965.0, 1891917636.0, 55975401.0, 599377.0, 303245215.0, 1759523.0, 883105.0, 7662369.0, 359734.0, 11115141.0, 871038.0], \"type\": \"scatter\", \"uid\": \"226a389f-fd67-11e8-ad21-b46bfca2d37e\", \"xaxis\": \"x13\", \"yaxis\": \"y13\"}, {\"legendgroup\": \"10.561\", \"marker\": {\"color\": \"mediumpurple\"}, \"name\": \"10.561\", \"showlegend\": false, \"x\": [\"2016-12-01\", \"2017-01-01\", \"2017-02-01\", \"2017-03-01\", \"2017-04-01\", \"2017-05-01\", \"2017-06-01\", \"2017-07-01\", \"2017-08-01\", \"2017-09-01\", \"2017-11-01\", \"2017-12-01\", \"2018-01-01\", \"2018-02-01\", \"2018-03-01\", \"2018-04-01\", \"2018-05-01\", \"2018-06-01\", \"2018-07-01\", \"2018-08-01\", \"2018-09-01\", \"2018-10-01\", \"2018-11-01\", \"2018-12-01\"], \"y\": [2.0, 7.0, 8.0, 66.0, 3.0, 2.0, 20.0, 5.0, 8.0, 32.333333333333336, 6.0, 4.0, 4.0, 4.0, 48.0, 9.0, 4.0, 30.6, 4.0, 5.0, 28.266666666666666, 2.0, 4.0, 1.0], \"type\": \"scatter\", \"uid\": \"226c99a2-fd67-11e8-a09d-b46bfca2d37e\", \"xaxis\": \"x14\", \"yaxis\": \"y14\"}, {\"legendgroup\": \"10.565\", \"marker\": {\"color\": \"red\"}, \"name\": \"10.565\", \"showlegend\": false, \"x\": [\"2016-12-01\", \"2017-01-01\", \"2017-02-01\", \"2017-03-01\", \"2017-05-01\", \"2017-06-01\", \"2017-08-01\", \"2017-09-01\", \"2017-10-01\", \"2017-11-01\", \"2017-12-01\", \"2018-01-01\", \"2018-02-01\", \"2018-03-01\", \"2018-06-01\", \"2018-07-01\", \"2018-09-01\", \"2018-10-01\", \"2018-11-01\", \"2018-12-01\"], \"y\": [8073916.0, 570752.0, 2197564.0, 1980643.0, 682134.0, 1568539.0, 422711.0, 160588.0, 5019005.0, 1264692.0, 1645955.0, 3440441.0, 1053710.0, 4547290.0, 20861336.0, 507427.0, 534874.0, 3159871.0, 268127.0, 190398.0], \"type\": \"scatter\", \"uid\": \"226c99a3-fd67-11e8-a94e-b46bfca2d37e\", \"xaxis\": \"x13\", \"yaxis\": \"y13\"}, {\"legendgroup\": \"10.565\", \"marker\": {\"color\": \"red\"}, \"name\": \"10.565\", \"showlegend\": false, \"x\": [\"2016-12-01\", \"2017-01-01\", \"2017-02-01\", \"2017-03-01\", \"2017-05-01\", \"2017-06-01\", \"2017-08-01\", \"2017-09-01\", \"2017-10-01\", \"2017-11-01\", \"2017-12-01\", \"2018-01-01\", \"2018-02-01\", \"2018-03-01\", \"2018-06-01\", \"2018-07-01\", \"2018-09-01\", \"2018-10-01\", \"2018-11-01\", \"2018-12-01\"], \"y\": [6.0, 2.0, 8.0, 7.0, 2.0, 2.0, 1.0, 1.0, 3.0, 2.0, 5.0, 4.0, 5.0, 9.0, 5.0, 2.0, 1.0, 5.0, 2.0, 1.0], \"type\": \"scatter\", \"uid\": \"226c99a4-fd67-11e8-b7ef-b46bfca2d37e\", \"xaxis\": \"x14\", \"yaxis\": \"y14\"}, {\"legendgroup\": \"10.568\", \"marker\": {\"color\": \"mediumturquoise\"}, \"name\": \"10.568\", \"showlegend\": false, \"x\": [\"2016-12-01\", \"2017-01-01\", \"2017-02-01\", \"2017-03-01\", \"2017-05-01\", \"2017-06-01\", \"2017-07-01\", \"2017-09-01\", \"2017-10-01\", \"2017-11-01\", \"2017-12-01\", \"2018-01-01\", \"2018-02-01\", \"2018-03-01\", \"2018-05-01\", \"2018-06-01\", \"2018-07-01\", \"2018-08-01\", \"2018-09-01\", \"2018-10-01\", \"2018-11-01\", \"2018-12-01\"], \"y\": [2200520.0, 550339.0, 452691.0, 729461.0, 1886743.0, 313123.0, 699867.0, 1033893.0, 299057.0, 1022362.0, 2983512.0, 1123460.0, 678639.0, 1603662.0, 343027.0, 5664738.0, 74271.0, 116196.0, 668907.0, 805782.0, 1806632.0, 112622.0], \"type\": \"scatter\", \"uid\": \"226efc34-fd67-11e8-928f-b46bfca2d37e\", \"xaxis\": \"x13\", \"yaxis\": \"y13\"}, {\"legendgroup\": \"10.568\", \"marker\": {\"color\": \"mediumturquoise\"}, \"name\": \"10.568\", \"showlegend\": false, \"x\": [\"2016-12-01\", \"2017-01-01\", \"2017-02-01\", \"2017-03-01\", \"2017-05-01\", \"2017-06-01\", \"2017-07-01\", \"2017-09-01\", \"2017-10-01\", \"2017-11-01\", \"2017-12-01\", \"2018-01-01\", \"2018-02-01\", \"2018-03-01\", \"2018-05-01\", \"2018-06-01\", \"2018-07-01\", \"2018-08-01\", \"2018-09-01\", \"2018-10-01\", \"2018-11-01\", \"2018-12-01\"], \"y\": [4.0, 4.0, 5.0, 8.0, 6.0, 2.0, 4.0, 4.0, 1.0, 7.0, 4.0, 6.0, 2.0, 9.0, 2.0, 5.0, 3.0, 2.0, 6.0, 5.0, 3.0, 1.0], \"type\": \"scatter\", \"uid\": \"226efc35-fd67-11e8-a035-b46bfca2d37e\", \"xaxis\": \"x14\", \"yaxis\": \"y14\"}, {\"legendgroup\": \"10.569\", \"marker\": {\"color\": \"olive\"}, \"name\": \"10.569\", \"showlegend\": false, \"x\": [\"2016-12-01\", \"2017-01-01\", \"2017-02-01\", \"2017-03-01\", \"2017-04-01\", \"2017-05-01\", \"2017-07-01\", \"2017-08-01\", \"2017-09-01\", \"2017-10-01\", \"2017-11-01\", \"2017-12-01\", \"2018-01-01\", \"2018-02-01\", \"2018-03-01\", \"2018-04-01\", \"2018-05-01\", \"2018-06-01\", \"2018-07-01\", \"2018-08-01\", \"2018-09-01\", \"2018-10-01\", \"2018-11-01\", \"2018-12-01\"], \"y\": [22740893.0, 8837071.0, 5583108.0, 8213048.0, 968334.0, 10662112.0, 19876642.0, 47154.0, 12000509.0, 863491.0, 14107854.0, 54342984.0, 18542272.0, 14624967.0, 35957174.0, 7612194.0, 6707513.0, 18247132.0, 4990846.0, 1616946.0, 9549447.0, 12763746.0, 24589094.0, 945592.0], \"type\": \"scatter\", \"uid\": \"226efc36-fd67-11e8-bc6a-b46bfca2d37e\", \"xaxis\": \"x13\", \"yaxis\": \"y13\"}, {\"legendgroup\": \"10.569\", \"marker\": {\"color\": \"olive\"}, \"name\": \"10.569\", \"showlegend\": false, \"x\": [\"2016-12-01\", \"2017-01-01\", \"2017-02-01\", \"2017-03-01\", \"2017-04-01\", \"2017-05-01\", \"2017-07-01\", \"2017-08-01\", \"2017-09-01\", \"2017-10-01\", \"2017-11-01\", \"2017-12-01\", \"2018-01-01\", \"2018-02-01\", \"2018-03-01\", \"2018-04-01\", \"2018-05-01\", \"2018-06-01\", \"2018-07-01\", \"2018-08-01\", \"2018-09-01\", \"2018-10-01\", \"2018-11-01\", \"2018-12-01\"], \"y\": [4.0, 8.0, 6.0, 7.0, 2.0, 8.0, 7.0, 1.0, 6.0, 1.0, 12.0, 5.0, 8.0, 6.0, 13.0, 5.0, 1.0, 5.0, 6.0, 4.0, 10.0, 9.0, 6.0, 1.0], \"type\": \"scatter\", \"uid\": \"226efc37-fd67-11e8-b1ba-b46bfca2d37e\", \"xaxis\": \"x14\", \"yaxis\": \"y14\"}, {\"legendgroup\": \"10.582\", \"marker\": {\"color\": \"burlywood\"}, \"name\": \"10.582\", \"showlegend\": false, \"x\": [\"2016-12-01\", \"2017-01-01\", \"2017-02-01\", \"2017-03-01\", \"2017-06-01\", \"2017-07-01\", \"2017-08-01\", \"2017-11-01\", \"2017-12-01\", \"2018-01-01\", \"2018-02-01\", \"2018-03-01\", \"2018-04-01\", \"2018-07-01\", \"2018-08-01\", \"2018-10-01\", \"2018-11-01\"], \"y\": [28806.0, 167207.0, 79407.0, 325167.0, 61555.0, 10389.0, 42191.0, 192353.0, 201336.0, 21477.0, 58884.0, 57282.0, 23779.0, 20744.0, 39272.0, 55992.0, 22256.0], \"type\": \"scatter\", \"uid\": \"22722a66-fd67-11e8-9fb9-b46bfca2d37e\", \"xaxis\": \"x13\", \"yaxis\": \"y13\"}, {\"legendgroup\": \"10.582\", \"marker\": {\"color\": \"burlywood\"}, \"name\": \"10.582\", \"showlegend\": false, \"x\": [\"2016-12-01\", \"2017-01-01\", \"2017-02-01\", \"2017-03-01\", \"2017-06-01\", \"2017-07-01\", \"2017-08-01\", \"2017-11-01\", \"2017-12-01\", \"2018-01-01\", \"2018-02-01\", \"2018-03-01\", \"2018-04-01\", \"2018-07-01\", \"2018-08-01\", \"2018-10-01\", \"2018-11-01\"], \"y\": [3.0, 6.0, 4.0, 6.0, 1.0, 1.0, 4.0, 3.0, 6.0, 4.0, 1.0, 10.0, 1.0, 11.0, 9.0, 4.0, 2.0], \"type\": \"scatter\", \"uid\": \"227314ec-fd67-11e8-8bd3-b46bfca2d37e\", \"xaxis\": \"x14\", \"yaxis\": \"y14\"}, {\"legendgroup\": \"10.574\", \"marker\": {\"color\": \"black\"}, \"name\": \"10.574\", \"showlegend\": false, \"x\": [\"2017-01-01\", \"2017-03-01\", \"2017-10-01\", \"2018-03-01\", \"2018-08-01\", \"2018-11-01\"], \"y\": [100.0, 647.0, 4424.0, 750.0, 950.0, 176676.0], \"type\": \"scatter\", \"uid\": \"2273ff64-fd67-11e8-9f32-b46bfca2d37e\", \"xaxis\": \"x13\", \"yaxis\": \"y13\"}, {\"legendgroup\": \"10.574\", \"marker\": {\"color\": \"black\"}, \"name\": \"10.574\", \"showlegend\": false, \"x\": [\"2017-01-01\", \"2017-03-01\", \"2017-10-01\", \"2018-03-01\", \"2018-08-01\", \"2018-11-01\"], \"y\": [1.0, 1.0, 1.0, 1.0, 2.0, 1.0], \"type\": \"scatter\", \"uid\": \"2274844a-fd67-11e8-a633-b46bfca2d37e\", \"xaxis\": \"x14\", \"yaxis\": \"y14\"}, {\"legendgroup\": \"10.579\", \"marker\": {\"color\": \"blueviolet\"}, \"name\": \"10.579\", \"showlegend\": false, \"x\": [\"2017-01-01\", \"2017-02-01\", \"2017-03-01\", \"2017-04-01\", \"2017-11-01\", \"2017-12-01\", \"2018-01-01\", \"2018-02-01\", \"2018-11-01\", \"2018-12-01\"], \"y\": [32360.0, 25330.0, 36538.0, 6472.0, 21805.0, 49532.0, 9431.0, 18498.0, 20604.0, 55000.0], \"type\": \"scatter\", \"uid\": \"2274844b-fd67-11e8-b715-b46bfca2d37e\", \"xaxis\": \"x13\", \"yaxis\": \"y13\"}, {\"legendgroup\": \"10.579\", \"marker\": {\"color\": \"blueviolet\"}, \"name\": \"10.579\", \"showlegend\": false, \"x\": [\"2017-01-01\", \"2017-02-01\", \"2017-03-01\", \"2017-04-01\", \"2017-11-01\", \"2017-12-01\", \"2018-01-01\", \"2018-02-01\", \"2018-11-01\", \"2018-12-01\"], \"y\": [4.0, 1.0, 1.0, 2.0, 3.0, 4.0, 1.0, 1.0, 1.0, 4.0], \"type\": \"scatter\", \"uid\": \"2274844c-fd67-11e8-adc2-b46bfca2d37e\", \"xaxis\": \"x14\", \"yaxis\": \"y14\"}, {\"legendgroup\": \"10.597\", \"marker\": {\"color\": \"crimson\"}, \"name\": \"10.597\", \"showlegend\": false, \"x\": [\"2017-02-01\", \"2017-11-01\", \"2018-03-01\"], \"y\": [356347.0, 13562.0, 656385.0], \"type\": \"scatter\", \"uid\": \"22779c66-fd67-11e8-9626-b46bfca2d37e\", \"xaxis\": \"x13\", \"yaxis\": \"y13\"}, {\"legendgroup\": \"10.597\", \"marker\": {\"color\": \"crimson\"}, \"name\": \"10.597\", \"showlegend\": false, \"x\": [\"2017-02-01\", \"2017-11-01\", \"2018-03-01\"], \"y\": [6.0, 2.0, 1.0], \"type\": \"scatter\", \"uid\": \"227838ae-fd67-11e8-bee6-b46bfca2d37e\", \"xaxis\": \"x14\", \"yaxis\": \"y14\"}, {\"legendgroup\": \"10.560\", \"marker\": {\"color\": \"lightsteelblue\"}, \"name\": \"10.560\", \"showlegend\": false, \"x\": [\"2017-03-01\", \"2018-03-01\"], \"y\": [43917485.0, 38198961.0], \"type\": \"scatter\", \"uid\": \"22794a2e-fd67-11e8-a368-b46bfca2d37e\", \"xaxis\": \"x13\", \"yaxis\": \"y13\"}, {\"legendgroup\": \"10.560\", \"marker\": {\"color\": \"lightsteelblue\"}, \"name\": \"10.560\", \"showlegend\": false, \"x\": [\"2017-03-01\", \"2018-03-01\"], \"y\": [5.0, 6.0], \"type\": \"scatter\", \"uid\": \"2279e662-fd67-11e8-b25b-b46bfca2d37e\", \"xaxis\": \"x14\", \"yaxis\": \"y14\"}, {\"legendgroup\": \"10.572\", \"marker\": {\"color\": \"bisque\"}, \"name\": \"10.572\", \"showlegend\": false, \"x\": [\"2017-03-01\"], \"y\": [667328.0], \"type\": \"scatter\", \"uid\": \"227a82a2-fd67-11e8-94a3-b46bfca2d37e\", \"xaxis\": \"x13\", \"yaxis\": \"y13\"}, {\"legendgroup\": \"10.572\", \"marker\": {\"color\": \"bisque\"}, \"name\": \"10.572\", \"showlegend\": false, \"x\": [\"2017-03-01\"], \"y\": [2.0], \"type\": \"scatter\", \"uid\": \"227b1efa-fd67-11e8-a8ca-b46bfca2d37e\", \"xaxis\": \"x14\", \"yaxis\": \"y14\"}, {\"legendgroup\": \"10.575\", \"marker\": {\"color\": \"rosybrown\"}, \"name\": \"10.575\", \"showlegend\": false, \"x\": [\"2017-03-01\", \"2018-03-01\", \"2018-08-01\"], \"y\": [8598.0, 11671.0, 7444.0], \"type\": \"scatter\", \"uid\": \"227bcec0-fd67-11e8-acfb-b46bfca2d37e\", \"xaxis\": \"x13\", \"yaxis\": \"y13\"}, {\"legendgroup\": \"10.575\", \"marker\": {\"color\": \"rosybrown\"}, \"name\": \"10.575\", \"showlegend\": false, \"x\": [\"2017-03-01\", \"2018-03-01\", \"2018-08-01\"], \"y\": [4.0, 1.0, 2.0], \"type\": \"scatter\", \"uid\": \"227c3086-fd67-11e8-b8fc-b46bfca2d37e\", \"xaxis\": \"x14\", \"yaxis\": \"y14\"}, {\"legendgroup\": \"10.576\", \"marker\": {\"color\": \"blue\"}, \"name\": \"10.576\", \"showlegend\": false, \"x\": [\"2017-03-01\"], \"y\": [904966.0], \"type\": \"scatter\", \"uid\": \"227c3087-fd67-11e8-91ac-b46bfca2d37e\", \"xaxis\": \"x13\", \"yaxis\": \"y13\"}, {\"legendgroup\": \"10.576\", \"marker\": {\"color\": \"blue\"}, \"name\": \"10.576\", \"showlegend\": false, \"x\": [\"2017-03-01\"], \"y\": [1.0], \"type\": \"scatter\", \"uid\": \"227c3088-fd67-11e8-9414-b46bfca2d37e\", \"xaxis\": \"x14\", \"yaxis\": \"y14\"}, {\"legendgroup\": \"10.580\", \"marker\": {\"color\": \"brown\"}, \"name\": \"10.580\", \"showlegend\": false, \"x\": [\"2017-03-01\", \"2017-07-01\", \"2018-03-01\"], \"y\": [5814.0, 87.0, 56467.0], \"type\": \"scatter\", \"uid\": \"227ee97e-fd67-11e8-aa9a-b46bfca2d37e\", \"xaxis\": \"x13\", \"yaxis\": \"y13\"}, {\"legendgroup\": \"10.580\", \"marker\": {\"color\": \"brown\"}, \"name\": \"10.580\", \"showlegend\": false, \"x\": [\"2017-03-01\", \"2017-07-01\", \"2018-03-01\"], \"y\": [2.0, 1.0, 1.0], \"type\": \"scatter\", \"uid\": \"227f85ca-fd67-11e8-9ea7-b46bfca2d37e\", \"xaxis\": \"x14\", \"yaxis\": \"y14\"}, {\"legendgroup\": \"10.585\", \"marker\": {\"color\": \"cadetblue\"}, \"name\": \"10.585\", \"showlegend\": false, \"x\": [\"2017-03-01\", \"2018-03-01\"], \"y\": [43926.0, 31993.0], \"type\": \"scatter\", \"uid\": \"22804934-fd67-11e8-bf1f-b46bfca2d37e\", \"xaxis\": \"x13\", \"yaxis\": \"y13\"}, {\"legendgroup\": \"10.585\", \"marker\": {\"color\": \"cadetblue\"}, \"name\": \"10.585\", \"showlegend\": false, \"x\": [\"2017-03-01\", \"2018-03-01\"], \"y\": [1.0, 1.0], \"type\": \"scatter\", \"uid\": \"2280e57a-fd67-11e8-9355-b46bfca2d37e\", \"xaxis\": \"x14\", \"yaxis\": \"y14\"}, {\"legendgroup\": \"10.596\", \"marker\": {\"color\": \"plum\"}, \"name\": \"10.596\", \"showlegend\": false, \"x\": [\"2017-03-01\", \"2017-11-01\", \"2018-03-01\", \"2018-08-01\", \"2018-11-01\"], \"y\": [3246159.0, 48624.0, 6179402.0, 233579.0, 64205.0], \"type\": \"scatter\", \"uid\": \"2281a8b6-fd67-11e8-83ce-b46bfca2d37e\", \"xaxis\": \"x13\", \"yaxis\": \"y13\"}, {\"legendgroup\": \"10.596\", \"marker\": {\"color\": \"plum\"}, \"name\": \"10.596\", \"showlegend\": false, \"x\": [\"2017-03-01\", \"2017-11-01\", \"2018-03-01\", \"2018-08-01\", \"2018-11-01\"], \"y\": [1.0, 2.0, 1.0, 2.0, 1.0], \"type\": \"scatter\", \"uid\": \"228244f4-fd67-11e8-b2ce-b46bfca2d37e\", \"xaxis\": \"x14\", \"yaxis\": \"y14\"}, {\"legendgroup\": \"10.566\", \"marker\": {\"color\": \"aqua\"}, \"name\": \"10.566\", \"showlegend\": false, \"x\": [\"2017-05-01\"], \"y\": [1974029526.0], \"type\": \"scatter\", \"uid\": \"22830824-fd67-11e8-9db4-b46bfca2d37e\", \"xaxis\": \"x13\", \"yaxis\": \"y13\"}, {\"legendgroup\": \"10.566\", \"marker\": {\"color\": \"aqua\"}, \"name\": \"10.566\", \"showlegend\": false, \"x\": [\"2017-05-01\"], \"y\": [5.0], \"type\": \"scatter\", \"uid\": \"2283a930-fd67-11e8-abff-b46bfca2d37e\", \"xaxis\": \"x14\", \"yaxis\": \"y14\"}, {\"legendgroup\": \"10.567\", \"marker\": {\"color\": \"aquamarine\"}, \"name\": \"10.567\", \"showlegend\": false, \"x\": [\"2017-06-01\", \"2017-09-01\", \"2017-12-01\", \"2018-02-01\", \"2018-04-01\", \"2018-06-01\", \"2018-07-01\", \"2018-10-01\", \"2018-11-01\"], \"y\": [9680759.0, 855140.0, 1604933.0, 198767.0, 327248.0, 9553796.0, 371808.0, 1043843.0, 867060.0], \"type\": \"scatter\", \"uid\": \"2283a931-fd67-11e8-b0db-b46bfca2d37e\", \"xaxis\": \"x13\", \"yaxis\": \"y13\"}, {\"legendgroup\": \"10.567\", \"marker\": {\"color\": \"aquamarine\"}, \"name\": \"10.567\", \"showlegend\": false, \"x\": [\"2017-06-01\", \"2017-09-01\", \"2017-12-01\", \"2018-02-01\", \"2018-04-01\", \"2018-06-01\", \"2018-07-01\", \"2018-10-01\", \"2018-11-01\"], \"y\": [4.0, 3.0, 1.0, 10.0, 10.0, 15.0, 11.0, 8.0, 4.0], \"type\": \"scatter\", \"uid\": \"2283a932-fd67-11e8-beec-b46bfca2d37e\", \"xaxis\": \"x14\", \"yaxis\": \"y14\"}, {\"legendgroup\": \"10.593\", \"marker\": {\"color\": \"cornflowerblue\"}, \"name\": \"10.593\", \"showlegend\": false, \"x\": [\"2017-06-01\", \"2018-03-01\"], \"y\": [2255083.0, 1733922.0], \"type\": \"scatter\", \"uid\": \"2283a933-fd67-11e8-b895-b46bfca2d37e\", \"xaxis\": \"x13\", \"yaxis\": \"y13\"}, {\"legendgroup\": \"10.593\", \"marker\": {\"color\": \"cornflowerblue\"}, \"name\": \"10.593\", \"showlegend\": false, \"x\": [\"2017-06-01\", \"2018-03-01\"], \"y\": [5.0, 2.0], \"type\": \"scatter\", \"uid\": \"22860bf6-fd67-11e8-b5d4-b46bfca2d37e\", \"xaxis\": \"x14\", \"yaxis\": \"y14\"}, {\"legendgroup\": \"10.533\", \"marker\": {\"color\": \"mediumvioletred\"}, \"name\": \"10.533\", \"showlegend\": false, \"x\": [\"2017-10-01\", \"2018-07-01\"], \"y\": [231872.0, 48723.0], \"type\": \"scatter\", \"uid\": \"22860bf7-fd67-11e8-a781-b46bfca2d37e\", \"xaxis\": \"x13\", \"yaxis\": \"y13\"}, {\"legendgroup\": \"10.533\", \"marker\": {\"color\": \"mediumvioletred\"}, \"name\": \"10.533\", \"showlegend\": false, \"x\": [\"2017-10-01\", \"2018-07-01\"], \"y\": [2.0, 3.0], \"type\": \"scatter\", \"uid\": \"22886e06-fd67-11e8-9d85-b46bfca2d37e\", \"xaxis\": \"x14\", \"yaxis\": \"y14\"}, {\"legendgroup\": \"10.592\", \"marker\": {\"color\": \"coral\"}, \"name\": \"10.592\", \"showlegend\": false, \"x\": [\"2018-03-01\"], \"y\": [234.0], \"type\": \"scatter\", \"uid\": \"22886e07-fd67-11e8-aeae-b46bfca2d37e\", \"xaxis\": \"x13\", \"yaxis\": \"y13\"}, {\"legendgroup\": \"10.592\", \"marker\": {\"color\": \"coral\"}, \"name\": \"10.592\", \"showlegend\": false, \"x\": [\"2018-03-01\"], \"y\": [1.0], \"type\": \"scatter\", \"uid\": \"22886e08-fd67-11e8-9e7d-b46bfca2d37e\", \"xaxis\": \"x14\", \"yaxis\": \"y14\"}, {\"legendgroup\": \"10.664\", \"marker\": {\"color\": \"darkorange\"}, \"name\": \"10.664\", \"showlegend\": false, \"x\": [\"2017-01-01\", \"2017-03-01\", \"2017-11-01\", \"2018-01-01\", \"2018-02-01\", \"2018-03-01\", \"2018-04-01\", \"2018-09-01\"], \"y\": [4266109.0, 2401656.0, 657287.0, 4140867.0, 1481.0, 203816.0, 786207.0, 1974.0], \"type\": \"scatter\", \"uid\": \"22886e09-fd67-11e8-8617-b46bfca2d37e\", \"xaxis\": \"x15\", \"yaxis\": \"y15\"}, {\"legendgroup\": \"10.664\", \"marker\": {\"color\": \"darkorange\"}, \"name\": \"10.664\", \"showlegend\": false, \"x\": [\"2017-01-01\", \"2017-03-01\", \"2017-11-01\", \"2018-01-01\", \"2018-02-01\", \"2018-03-01\", \"2018-04-01\", \"2018-09-01\"], \"y\": [3.0, 6.0, 3.0, 3.0, 2.0, 6.0, 1.0, 3.0], \"type\": \"scatter\", \"uid\": \"228ad0ee-fd67-11e8-8563-b46bfca2d37e\", \"xaxis\": \"x16\", \"yaxis\": \"y16\"}, {\"legendgroup\": \"10.665\", \"marker\": {\"color\": \"darkorchid\"}, \"name\": \"10.665\", \"showlegend\": false, \"x\": [\"2017-01-01\", \"2017-02-01\", \"2017-03-01\", \"2017-04-01\", \"2017-06-01\", \"2017-07-01\", \"2017-08-01\", \"2017-09-01\", \"2017-12-01\", \"2018-01-01\", \"2018-02-01\", \"2018-03-01\", \"2018-04-01\", \"2018-07-01\", \"2018-08-01\", \"2018-09-01\", \"2018-10-01\"], \"y\": [1320905.0, 787451.0, 4366559.0, 2588229.0, 1871980.0, 1080002.0, 7725.0, 1398178.0, 2453973.0, 20262.0, 232.0, 20476252.0, 749268.0, 535063.0, 2071260.0, 1600406.0, 2612859.0], \"type\": \"scatter\", \"uid\": \"228ad0ef-fd67-11e8-8beb-b46bfca2d37e\", \"xaxis\": \"x15\", \"yaxis\": \"y15\"}, {\"legendgroup\": \"10.665\", \"marker\": {\"color\": \"darkorchid\"}, \"name\": \"10.665\", \"showlegend\": false, \"x\": [\"2017-01-01\", \"2017-02-01\", \"2017-03-01\", \"2017-04-01\", \"2017-06-01\", \"2017-07-01\", \"2017-08-01\", \"2017-09-01\", \"2017-12-01\", \"2018-01-01\", \"2018-02-01\", \"2018-03-01\", \"2018-04-01\", \"2018-07-01\", \"2018-08-01\", \"2018-09-01\", \"2018-10-01\"], \"y\": [9.0, 4.0, 3.0, 1.0, 1.0, 8.0, 2.0, 7.0, 9.0, 3.0, 2.0, 4.0, 2.0, 1.0, 9.0, 7.0, 3.0], \"type\": \"scatter\", \"uid\": \"228ad0f0-fd67-11e8-96e6-b46bfca2d37e\", \"xaxis\": \"x16\", \"yaxis\": \"y16\"}, {\"legendgroup\": \"10.678\", \"marker\": {\"color\": \"darkslategray\"}, \"name\": \"10.678\", \"showlegend\": false, \"x\": [\"2017-01-01\", \"2017-03-01\", \"2018-01-01\", \"2018-02-01\", \"2018-03-01\"], \"y\": [50772.0, 213157.0, 24022.0, 6719.0, 209170.0], \"type\": \"scatter\", \"uid\": \"228d32b0-fd67-11e8-a6e7-b46bfca2d37e\", \"xaxis\": \"x15\", \"yaxis\": \"y15\"}, {\"legendgroup\": \"10.678\", \"marker\": {\"color\": \"darkslategray\"}, \"name\": \"10.678\", \"showlegend\": false, \"x\": [\"2017-01-01\", \"2017-03-01\", \"2018-01-01\", \"2018-02-01\", \"2018-03-01\"], \"y\": [2.0, 5.0, 3.0, 2.0, 5.0], \"type\": \"scatter\", \"uid\": \"228d32b1-fd67-11e8-949f-b46bfca2d37e\", \"xaxis\": \"x16\", \"yaxis\": \"y16\"}, {\"legendgroup\": \"10.679\", \"marker\": {\"color\": \"darkslategrey\"}, \"name\": \"10.679\", \"showlegend\": false, \"x\": [\"2017-01-01\", \"2017-02-01\", \"2018-01-01\", \"2018-02-01\"], \"y\": [21935.0, 59907.0, 40329.0, 30616.0], \"type\": \"scatter\", \"uid\": \"228d32b2-fd67-11e8-898e-b46bfca2d37e\", \"xaxis\": \"x15\", \"yaxis\": \"y15\"}, {\"legendgroup\": \"10.679\", \"marker\": {\"color\": \"darkslategrey\"}, \"name\": \"10.679\", \"showlegend\": false, \"x\": [\"2017-01-01\", \"2017-02-01\", \"2018-01-01\", \"2018-02-01\"], \"y\": [2.0, 1.0, 3.0, 1.0], \"type\": \"scatter\", \"uid\": \"228d32b3-fd67-11e8-843b-b46bfca2d37e\", \"xaxis\": \"x16\", \"yaxis\": \"y16\"}, {\"legendgroup\": \"10.680\", \"marker\": {\"color\": \"darkturquoise\"}, \"name\": \"10.680\", \"showlegend\": false, \"x\": [\"2017-01-01\", \"2017-02-01\", \"2017-03-01\", \"2018-01-01\", \"2018-03-01\", \"2018-04-01\"], \"y\": [95708.0, 44787.0, 5414237.0, 39118.0, 988844.0, 5816218.0], \"type\": \"scatter\", \"uid\": \"228fc3a8-fd67-11e8-b106-b46bfca2d37e\", \"xaxis\": \"x15\", \"yaxis\": \"y15\"}, {\"legendgroup\": \"10.680\", \"marker\": {\"color\": \"darkturquoise\"}, \"name\": \"10.680\", \"showlegend\": false, \"x\": [\"2017-01-01\", \"2017-02-01\", \"2017-03-01\", \"2018-01-01\", \"2018-03-01\", \"2018-04-01\"], \"y\": [2.0, 6.0, 6.0, 3.0, 7.0, 4.0], \"type\": \"scatter\", \"uid\": \"22905fe2-fd67-11e8-81e8-b46bfca2d37e\", \"xaxis\": \"x16\", \"yaxis\": \"y16\"}, {\"legendgroup\": \"10.682\", \"marker\": {\"color\": \"darkviolet\"}, \"name\": \"10.682\", \"showlegend\": false, \"x\": [\"2017-01-01\", \"2017-03-01\", \"2018-02-01\", \"2018-03-01\"], \"y\": [8277.0, 181729.0, 11736.0, 448059.0], \"type\": \"scatter\", \"uid\": \"2290d512-fd67-11e8-9af4-b46bfca2d37e\", \"xaxis\": \"x15\", \"yaxis\": \"y15\"}, {\"legendgroup\": \"10.682\", \"marker\": {\"color\": \"darkviolet\"}, \"name\": \"10.682\", \"showlegend\": false, \"x\": [\"2017-01-01\", \"2017-03-01\", \"2018-02-01\", \"2018-03-01\"], \"y\": [2.0, 1.0, 2.0, 1.0], \"type\": \"scatter\", \"uid\": \"2291715a-fd67-11e8-84ec-b46bfca2d37e\", \"xaxis\": \"x16\", \"yaxis\": \"y16\"}, {\"legendgroup\": \"10.683\", \"marker\": {\"color\": \"deeppink\"}, \"name\": \"10.683\", \"showlegend\": false, \"x\": [\"2017-01-01\", \"2018-01-01\", \"2018-02-01\"], \"y\": [329149.0, 212547.0, 474093.0], \"type\": \"scatter\", \"uid\": \"22920d98-fd67-11e8-8b0c-b46bfca2d37e\", \"xaxis\": \"x15\", \"yaxis\": \"y15\"}, {\"legendgroup\": \"10.683\", \"marker\": {\"color\": \"deeppink\"}, \"name\": \"10.683\", \"showlegend\": false, \"x\": [\"2017-01-01\", \"2018-01-01\", \"2018-02-01\"], \"y\": [2.0, 3.0, 2.0], \"type\": \"scatter\", \"uid\": \"229282cc-fd67-11e8-9114-b46bfca2d37e\", \"xaxis\": \"x16\", \"yaxis\": \"y16\"}, {\"legendgroup\": \"10.684\", \"marker\": {\"color\": \"deepskyblue\"}, \"name\": \"10.684\", \"showlegend\": false, \"x\": [\"2017-01-01\", \"2018-01-01\"], \"y\": [107161.0, 88148.0], \"type\": \"scatter\", \"uid\": \"2293230a-fd67-11e8-82ee-b46bfca2d37e\", \"xaxis\": \"x15\", \"yaxis\": \"y15\"}, {\"legendgroup\": \"10.684\", \"marker\": {\"color\": \"deepskyblue\"}, \"name\": \"10.684\", \"showlegend\": false, \"x\": [\"2017-01-01\", \"2018-01-01\"], \"y\": [2.0, 3.0], \"type\": \"scatter\", \"uid\": \"2293230b-fd67-11e8-942a-b46bfca2d37e\", \"xaxis\": \"x16\", \"yaxis\": \"y16\"}, {\"legendgroup\": \"10.693\", \"marker\": {\"color\": \"firebrick\"}, \"name\": \"10.693\", \"showlegend\": false, \"x\": [\"2017-01-01\"], \"y\": [49158.0], \"type\": \"scatter\", \"uid\": \"2293230c-fd67-11e8-a665-b46bfca2d37e\", \"xaxis\": \"x15\", \"yaxis\": \"y15\"}, {\"legendgroup\": \"10.693\", \"marker\": {\"color\": \"firebrick\"}, \"name\": \"10.693\", \"showlegend\": false, \"x\": [\"2017-01-01\"], \"y\": [2.0], \"type\": \"scatter\", \"uid\": \"2293230d-fd67-11e8-86be-b46bfca2d37e\", \"xaxis\": \"x16\", \"yaxis\": \"y16\"}, {\"legendgroup\": \"10.652\", \"marker\": {\"color\": \"darkolivegreen\"}, \"name\": \"10.652\", \"showlegend\": false, \"x\": [\"2017-02-01\", \"2017-03-01\", \"2017-12-01\", \"2018-02-01\", \"2018-03-01\", \"2018-05-01\"], \"y\": [1292.0, 249839.0, 27046.0, 583.0, 770941.0, 5492.0], \"type\": \"scatter\", \"uid\": \"229585b8-fd67-11e8-b92e-b46bfca2d37e\", \"xaxis\": \"x15\", \"yaxis\": \"y15\"}, {\"legendgroup\": \"10.652\", \"marker\": {\"color\": \"darkolivegreen\"}, \"name\": \"10.652\", \"showlegend\": false, \"x\": [\"2017-02-01\", \"2017-03-01\", \"2017-12-01\", \"2018-02-01\", \"2018-03-01\", \"2018-05-01\"], \"y\": [10.0, 7.0, 1.0, 3.0, 6.0, 5.0], \"type\": \"scatter\", \"uid\": \"229585b9-fd67-11e8-b346-b46bfca2d37e\", \"xaxis\": \"x16\", \"yaxis\": \"y16\"}, {\"legendgroup\": \"10.674\", \"marker\": {\"color\": \"darkseagreen\"}, \"name\": \"10.674\", \"showlegend\": false, \"x\": [\"2017-02-01\", \"2017-03-01\", \"2018-03-01\", \"2018-05-01\"], \"y\": [43606.0, 107928.0, 332622.0, 64953.0], \"type\": \"scatter\", \"uid\": \"229585ba-fd67-11e8-93fb-b46bfca2d37e\", \"xaxis\": \"x15\", \"yaxis\": \"y15\"}, {\"legendgroup\": \"10.674\", \"marker\": {\"color\": \"darkseagreen\"}, \"name\": \"10.674\", \"showlegend\": false, \"x\": [\"2017-02-01\", \"2017-03-01\", \"2018-03-01\", \"2018-05-01\"], \"y\": [6.0, 3.0, 6.0, 5.0], \"type\": \"scatter\", \"uid\": \"229585bb-fd67-11e8-8b8e-b46bfca2d37e\", \"xaxis\": \"x16\", \"yaxis\": \"y16\"}, {\"legendgroup\": \"10.675\", \"marker\": {\"color\": \"darkslateblue\"}, \"name\": \"10.675\", \"showlegend\": false, \"x\": [\"2017-02-01\", \"2017-03-01\", \"2017-04-01\", \"2017-11-01\", \"2018-03-01\", \"2018-05-01\", \"2018-09-01\"], \"y\": [631092.0, 465599.0, 9649.0, 14637.0, 558777.0, 284218.0, 201425.0], \"type\": \"scatter\", \"uid\": \"2297e7f6-fd67-11e8-82ee-b46bfca2d37e\", \"xaxis\": \"x15\", \"yaxis\": \"y15\"}, {\"legendgroup\": \"10.675\", \"marker\": {\"color\": \"darkslateblue\"}, \"name\": \"10.675\", \"showlegend\": false, \"x\": [\"2017-02-01\", \"2017-03-01\", \"2017-04-01\", \"2017-11-01\", \"2018-03-01\", \"2018-05-01\", \"2018-09-01\"], \"y\": [8.0, 9.0, 1.0, 2.0, 8.0, 1.0, 1.0], \"type\": \"scatter\", \"uid\": \"2297e7f7-fd67-11e8-8803-b46bfca2d37e\", \"xaxis\": \"x16\", \"yaxis\": \"y16\"}, {\"legendgroup\": \"10.672\", \"marker\": {\"color\": \"darkred\"}, \"name\": \"10.672\", \"showlegend\": false, \"x\": [\"2017-03-01\"], \"y\": [151642.0], \"type\": \"scatter\", \"uid\": \"2297e7f8-fd67-11e8-8749-b46bfca2d37e\", \"xaxis\": \"x15\", \"yaxis\": \"y15\"}, {\"legendgroup\": \"10.672\", \"marker\": {\"color\": \"darkred\"}, \"name\": \"10.672\", \"showlegend\": false, \"x\": [\"2017-03-01\"], \"y\": [1.0], \"type\": \"scatter\", \"uid\": \"2297e7f9-fd67-11e8-9db7-b46bfca2d37e\", \"xaxis\": \"x16\", \"yaxis\": \"y16\"}, {\"legendgroup\": \"10.690\", \"marker\": {\"color\": \"dimgrey\"}, \"name\": \"10.690\", \"showlegend\": false, \"x\": [\"2017-03-01\", \"2018-03-01\"], \"y\": [35528.0, 27735.0], \"type\": \"scatter\", \"uid\": \"229a4a76-fd67-11e8-9ec8-b46bfca2d37e\", \"xaxis\": \"x15\", \"yaxis\": \"y15\"}, {\"legendgroup\": \"10.690\", \"marker\": {\"color\": \"dimgrey\"}, \"name\": \"10.690\", \"showlegend\": false, \"x\": [\"2017-03-01\", \"2018-03-01\"], \"y\": [1.0, 1.0], \"type\": \"scatter\", \"uid\": \"229a4a77-fd67-11e8-9b74-b46bfca2d37e\", \"xaxis\": \"x16\", \"yaxis\": \"y16\"}, {\"legendgroup\": \"10.691\", \"marker\": {\"color\": \"dodgerblue\"}, \"name\": \"10.691\", \"showlegend\": false, \"x\": [\"2017-08-01\", \"2018-08-01\"], \"y\": [23619.0, 8011.0], \"type\": \"scatter\", \"uid\": \"229a4a78-fd67-11e8-8926-b46bfca2d37e\", \"xaxis\": \"x15\", \"yaxis\": \"y15\"}, {\"legendgroup\": \"10.691\", \"marker\": {\"color\": \"dodgerblue\"}, \"name\": \"10.691\", \"showlegend\": false, \"x\": [\"2017-08-01\", \"2018-08-01\"], \"y\": [2.0, 1.0], \"type\": \"scatter\", \"uid\": \"229a4a79-fd67-11e8-b12b-b46bfca2d37e\", \"xaxis\": \"x16\", \"yaxis\": \"y16\"}, {\"legendgroup\": \"10.699\", \"marker\": {\"color\": \"floralwhite\"}, \"name\": \"10.699\", \"showlegend\": false, \"x\": [\"2018-01-01\", \"2018-03-01\"], \"y\": [5315.0, 3638.0], \"type\": \"scatter\", \"uid\": \"229cadf8-fd67-11e8-8d4a-b46bfca2d37e\", \"xaxis\": \"x15\", \"yaxis\": \"y15\"}, {\"legendgroup\": \"10.699\", \"marker\": {\"color\": \"floralwhite\"}, \"name\": \"10.699\", \"showlegend\": false, \"x\": [\"2018-01-01\", \"2018-03-01\"], \"y\": [3.0, 4.0], \"type\": \"scatter\", \"uid\": \"229cadf9-fd67-11e8-8637-b46bfca2d37e\", \"xaxis\": \"x16\", \"yaxis\": \"y16\"}, {\"legendgroup\": \"10.406\", \"marker\": {\"color\": \"greenyellow\"}, \"name\": \"10.406\", \"showlegend\": false, \"x\": [\"2017-03-01\", \"2018-03-01\"], \"y\": [20242680.0, 30598.0], \"type\": \"scatter\", \"uid\": \"229cadfa-fd67-11e8-8d09-b46bfca2d37e\", \"xaxis\": \"x17\", \"yaxis\": \"y17\"}, {\"legendgroup\": \"10.406\", \"marker\": {\"color\": \"greenyellow\"}, \"name\": \"10.406\", \"showlegend\": false, \"x\": [\"2017-03-01\", \"2018-03-01\"], \"y\": [2.0, 1.0], \"type\": \"scatter\", \"uid\": \"229cadfb-fd67-11e8-998f-b46bfca2d37e\", \"xaxis\": \"x18\", \"yaxis\": \"y18\"}, {\"legendgroup\": \"10.113\", \"marker\": {\"color\": \"burlywood\"}, \"name\": \"10.113\", \"showlegend\": false, \"x\": [\"2017-12-01\"], \"y\": [842.0], \"type\": \"scatter\", \"uid\": \"229f1752-fd67-11e8-8df9-b46bfca2d37e\", \"xaxis\": \"x17\", \"yaxis\": \"y17\"}, {\"legendgroup\": \"10.113\", \"marker\": {\"color\": \"burlywood\"}, \"name\": \"10.113\", \"showlegend\": false, \"x\": [\"2017-12-01\"], \"y\": [1.0], \"type\": \"scatter\", \"uid\": \"229fb4b6-fd67-11e8-9f5e-b46bfca2d37e\", \"xaxis\": \"x18\", \"yaxis\": \"y18\"}, {\"legendgroup\": \"10.069\", \"marker\": {\"color\": \"bisque\"}, \"name\": \"10.069\", \"showlegend\": false, \"x\": [\"2018-12-01\"], \"y\": [272597.0], \"type\": \"scatter\", \"uid\": \"22a076dc-fd67-11e8-8f1e-b46bfca2d37e\", \"xaxis\": \"x17\", \"yaxis\": \"y17\"}, {\"legendgroup\": \"10.069\", \"marker\": {\"color\": \"bisque\"}, \"name\": \"10.069\", \"showlegend\": false, \"x\": [\"2018-12-01\"], \"y\": [1.0], \"type\": \"scatter\", \"uid\": \"22a1131c-fd67-11e8-b7b4-b46bfca2d37e\", \"xaxis\": \"x18\", \"yaxis\": \"y18\"}, {\"legendgroup\": \"10.475\", \"marker\": {\"color\": \"salmon\"}, \"name\": \"10.475\", \"showlegend\": false, \"x\": [\"2017-03-01\", \"2018-03-01\"], \"y\": [4804520.0, 5100992.0], \"type\": \"scatter\", \"uid\": \"22a1b0b6-fd67-11e8-8e5a-b46bfca2d37e\", \"xaxis\": \"x19\", \"yaxis\": \"y19\"}, {\"legendgroup\": \"10.475\", \"marker\": {\"color\": \"salmon\"}, \"name\": \"10.475\", \"showlegend\": false, \"x\": [\"2017-03-01\", \"2018-03-01\"], \"y\": [1.0, 1.0], \"type\": \"scatter\", \"uid\": \"22a24cdc-fd67-11e8-b745-b46bfca2d37e\", \"xaxis\": \"x20\", \"yaxis\": \"y20\"}, {\"legendgroup\": \"10.479\", \"marker\": {\"color\": \"lightblue\"}, \"name\": \"10.479\", \"showlegend\": false, \"x\": [\"2017-03-01\", \"2018-03-01\"], \"y\": [103443.0, 77569.0], \"type\": \"scatter\", \"uid\": \"22a2e7dc-fd67-11e8-9fb7-b46bfca2d37e\", \"xaxis\": \"x19\", \"yaxis\": \"y19\"}, {\"legendgroup\": \"10.479\", \"marker\": {\"color\": \"lightblue\"}, \"name\": \"10.479\", \"showlegend\": false, \"x\": [\"2017-03-01\", \"2018-03-01\"], \"y\": [3.0, 4.0], \"type\": \"scatter\", \"uid\": \"22a3844a-fd67-11e8-8b66-b46bfca2d37e\", \"xaxis\": \"x20\", \"yaxis\": \"y20\"}, {\"legendgroup\": \"10.950\", \"marker\": {\"color\": \"rosybrown\"}, \"name\": \"10.950\", \"showlegend\": false, \"x\": [\"2018-03-01\"], \"y\": [529820.0], \"type\": \"scatter\", \"uid\": \"22a4478a-fd67-11e8-b23d-b46bfca2d37e\", \"xaxis\": \"x21\", \"yaxis\": \"y21\"}, {\"legendgroup\": \"10.950\", \"marker\": {\"color\": \"rosybrown\"}, \"name\": \"10.950\", \"showlegend\": false, \"x\": [\"2018-03-01\"], \"y\": [1.0], \"type\": \"scatter\", \"uid\": \"22a4bcbe-fd67-11e8-81b0-b46bfca2d37e\", \"xaxis\": \"x22\", \"yaxis\": \"y22\"}, {\"legendgroup\": \"10.309\", \"marker\": {\"color\": \"dimgrey\"}, \"name\": \"10.309\", \"showlegend\": false, \"x\": [\"2016-12-01\", \"2017-02-01\", \"2017-03-01\", \"2017-12-01\", \"2018-03-01\", \"2018-05-01\"], \"y\": [208700.0, 332666.0, 1977506.0, 1176061.0, 2697224.0, 3600.0], \"type\": \"scatter\", \"uid\": \"22a515da-fd67-11e8-b37f-b46bfca2d37e\", \"xaxis\": \"x23\", \"yaxis\": \"y23\"}, {\"legendgroup\": \"10.309\", \"marker\": {\"color\": \"dimgrey\"}, \"name\": \"10.309\", \"showlegend\": false, \"x\": [\"2016-12-01\", \"2017-02-01\", \"2017-03-01\", \"2017-12-01\", \"2018-03-01\", \"2018-05-01\"], \"y\": [1.0, 7.0, 1.0, 1.0, 2.0, 5.0], \"type\": \"scatter\", \"uid\": \"22a515db-fd67-11e8-a943-b46bfca2d37e\", \"xaxis\": \"x24\", \"yaxis\": \"y24\"}, {\"legendgroup\": \"10.310\", \"marker\": {\"color\": \"dodgerblue\"}, \"name\": \"10.310\", \"showlegend\": false, \"x\": [\"2016-12-01\", \"2017-02-01\", \"2017-03-01\", \"2017-09-01\", \"2017-11-01\", \"2017-12-01\", \"2018-02-01\", \"2018-03-01\", \"2018-05-01\", \"2018-06-01\", \"2018-11-01\"], \"y\": [304646.0, 7059211.0, 18606130.0, 227952.0, 972191.0, 2476229.0, 652539.0, 18913592.0, 55418.0, 9670.0, 2732260.0], \"type\": \"scatter\", \"uid\": \"22a515dc-fd67-11e8-8670-b46bfca2d37e\", \"xaxis\": \"x23\", \"yaxis\": \"y23\"}, {\"legendgroup\": \"10.310\", \"marker\": {\"color\": \"dodgerblue\"}, \"name\": \"10.310\", \"showlegend\": false, \"x\": [\"2016-12-01\", \"2017-02-01\", \"2017-03-01\", \"2017-09-01\", \"2017-11-01\", \"2017-12-01\", \"2018-02-01\", \"2018-03-01\", \"2018-05-01\", \"2018-06-01\", \"2018-11-01\"], \"y\": [1.0, 12.0, 15.0, 8.0, 5.0, 3.0, 4.0, 9.0, 5.0, 4.0, 5.666666666666667], \"type\": \"scatter\", \"uid\": \"22a515dd-fd67-11e8-a27a-b46bfca2d37e\", \"xaxis\": \"x24\", \"yaxis\": \"y24\"}, {\"legendgroup\": \"10.212\", \"marker\": {\"color\": \"darkkhaki\"}, \"name\": \"10.212\", \"showlegend\": false, \"x\": [\"2017-01-01\", \"2017-03-01\", \"2018-03-01\"], \"y\": [20000.0, 145005.0, 81950.0], \"type\": \"scatter\", \"uid\": \"22a779de-fd67-11e8-b2c9-b46bfca2d37e\", \"xaxis\": \"x23\", \"yaxis\": \"y23\"}, {\"legendgroup\": \"10.212\", \"marker\": {\"color\": \"darkkhaki\"}, \"name\": \"10.212\", \"showlegend\": false, \"x\": [\"2017-01-01\", \"2017-03-01\", \"2018-03-01\"], \"y\": [1.0, 1.0, 1.0], \"type\": \"scatter\", \"uid\": \"22a779df-fd67-11e8-b2ae-b46bfca2d37e\", \"xaxis\": \"x24\", \"yaxis\": \"y24\"}, {\"legendgroup\": \"10.223\", \"marker\": {\"color\": \"darkred\"}, \"name\": \"10.223\", \"showlegend\": false, \"x\": [\"2017-01-01\", \"2018-03-01\", \"2018-05-01\"], \"y\": [225290.0, 3020.0, 1028911.0], \"type\": \"scatter\", \"uid\": \"22a779e0-fd67-11e8-9837-b46bfca2d37e\", \"xaxis\": \"x23\", \"yaxis\": \"y23\"}, {\"legendgroup\": \"10.223\", \"marker\": {\"color\": \"darkred\"}, \"name\": \"10.223\", \"showlegend\": false, \"x\": [\"2017-01-01\", \"2018-03-01\", \"2018-05-01\"], \"y\": [1.0, 1.0, 5.0], \"type\": \"scatter\", \"uid\": \"22a779e1-fd67-11e8-b007-b46bfca2d37e\", \"xaxis\": \"x24\", \"yaxis\": \"y24\"}, {\"legendgroup\": \"10.303\", \"marker\": {\"color\": \"darkturquoise\"}, \"name\": \"10.303\", \"showlegend\": false, \"x\": [\"2017-01-01\", \"2017-02-01\", \"2017-03-01\", \"2018-03-01\", \"2018-05-01\"], \"y\": [1679.0, 17748.0, 148397.0, 172759.0, 1510.0], \"type\": \"scatter\", \"uid\": \"22aa09a4-fd67-11e8-91fc-b46bfca2d37e\", \"xaxis\": \"x23\", \"yaxis\": \"y23\"}, {\"legendgroup\": \"10.303\", \"marker\": {\"color\": \"darkturquoise\"}, \"name\": \"10.303\", \"showlegend\": false, \"x\": [\"2017-01-01\", \"2017-02-01\", \"2017-03-01\", \"2018-03-01\", \"2018-05-01\"], \"y\": [2.0, 6.0, 5.0, 3.0, 5.0], \"type\": \"scatter\", \"uid\": \"22aa7ec6-fd67-11e8-81a2-b46bfca2d37e\", \"xaxis\": \"x24\", \"yaxis\": \"y24\"}, {\"legendgroup\": \"10.200\", \"marker\": {\"color\": \"cyan\"}, \"name\": \"10.200\", \"showlegend\": false, \"x\": [\"2017-02-01\", \"2017-03-01\", \"2018-03-01\", \"2018-04-01\", \"2018-05-01\"], \"y\": [1637896.0, 3787060.0, 3082651.0, 3760379.0, 19172.0], \"type\": \"scatter\", \"uid\": \"22ab1b02-fd67-11e8-a538-b46bfca2d37e\", \"xaxis\": \"x23\", \"yaxis\": \"y23\"}, {\"legendgroup\": \"10.200\", \"marker\": {\"color\": \"cyan\"}, \"name\": \"10.200\", \"showlegend\": false, \"x\": [\"2017-02-01\", \"2017-03-01\", \"2018-03-01\", \"2018-04-01\", \"2018-05-01\"], \"y\": [6.0, 9.0, 8.0, 1.0, 5.0], \"type\": \"scatter\", \"uid\": \"22abde3e-fd67-11e8-904c-b46bfca2d37e\", \"xaxis\": \"x24\", \"yaxis\": \"y24\"}, {\"legendgroup\": \"10.202\", \"marker\": {\"color\": \"darkblue\"}, \"name\": \"10.202\", \"showlegend\": false, \"x\": [\"2017-02-01\", \"2017-03-01\", \"2018-01-01\", \"2018-02-01\", \"2018-03-01\", \"2018-05-01\"], \"y\": [505352.0, 998811.0, 405430.0, 223079.0, 1906832.0, 57906.0], \"type\": \"scatter\", \"uid\": \"22ac7a7a-fd67-11e8-aa22-b46bfca2d37e\", \"xaxis\": \"x23\", \"yaxis\": \"y23\"}, {\"legendgroup\": \"10.202\", \"marker\": {\"color\": \"darkblue\"}, \"name\": \"10.202\", \"showlegend\": false, \"x\": [\"2017-02-01\", \"2017-03-01\", \"2018-01-01\", \"2018-02-01\", \"2018-03-01\", \"2018-05-01\"], \"y\": [10.0, 8.0, 1.0, 3.0, 8.0, 5.0], \"type\": \"scatter\", \"uid\": \"22acefa4-fd67-11e8-b4a8-b46bfca2d37e\", \"xaxis\": \"x24\", \"yaxis\": \"y24\"}, {\"legendgroup\": \"10.203\", \"marker\": {\"color\": \"darkcyan\"}, \"name\": \"10.203\", \"showlegend\": false, \"x\": [\"2017-02-01\", \"2017-03-01\", \"2018-01-01\", \"2018-03-01\", \"2018-05-01\", \"2018-11-01\"], \"y\": [7976447.0, 4457964.0, 2419210.0, 17133828.0, 4702436.0, 2809.0], \"type\": \"scatter\", \"uid\": \"22ad8be4-fd67-11e8-895d-b46bfca2d37e\", \"xaxis\": \"x23\", \"yaxis\": \"y23\"}, {\"legendgroup\": \"10.203\", \"marker\": {\"color\": \"darkcyan\"}, \"name\": \"10.203\", \"showlegend\": false, \"x\": [\"2017-02-01\", \"2017-03-01\", \"2018-01-01\", \"2018-03-01\", \"2018-05-01\", \"2018-11-01\"], \"y\": [6.0, 6.0, 1.0, 7.0, 5.0, 1.0], \"type\": \"scatter\", \"uid\": \"22ae4f3a-fd67-11e8-952b-b46bfca2d37e\", \"xaxis\": \"x24\", \"yaxis\": \"y24\"}, {\"legendgroup\": \"10.205\", \"marker\": {\"color\": \"darkgoldenrod\"}, \"name\": \"10.205\", \"showlegend\": false, \"x\": [\"2017-02-01\", \"2017-03-01\", \"2017-11-01\", \"2018-02-01\", \"2018-03-01\"], \"y\": [3105102.0, 4969378.0, 2295262.0, 2902711.0, 6375513.0], \"type\": \"scatter\", \"uid\": \"22aeeb7a-fd67-11e8-bc21-b46bfca2d37e\", \"xaxis\": \"x23\", \"yaxis\": \"y23\"}, {\"legendgroup\": \"10.205\", \"marker\": {\"color\": \"darkgoldenrod\"}, \"name\": \"10.205\", \"showlegend\": false, \"x\": [\"2017-02-01\", \"2017-03-01\", \"2017-11-01\", \"2018-02-01\", \"2018-03-01\"], \"y\": [4.0, 2.0, 1.0, 3.0, 6.0], \"type\": \"scatter\", \"uid\": \"22af87b6-fd67-11e8-8e27-b46bfca2d37e\", \"xaxis\": \"x24\", \"yaxis\": \"y24\"}, {\"legendgroup\": \"10.206\", \"marker\": {\"color\": \"darkgray\"}, \"name\": \"10.206\", \"showlegend\": false, \"x\": [\"2017-02-01\", \"2017-03-01\"], \"y\": [-3925.0, 320417.0], \"type\": \"scatter\", \"uid\": \"22b023f8-fd67-11e8-b462-b46bfca2d37e\", \"xaxis\": \"x23\", \"yaxis\": \"y23\"}, {\"legendgroup\": \"10.206\", \"marker\": {\"color\": \"darkgray\"}, \"name\": \"10.206\", \"showlegend\": false, \"x\": [\"2017-02-01\", \"2017-03-01\"], \"y\": [6.0, 5.0], \"type\": \"scatter\", \"uid\": \"22b0e75e-fd67-11e8-9f12-b46bfca2d37e\", \"xaxis\": \"x24\", \"yaxis\": \"y24\"}, {\"legendgroup\": \"10.207\", \"marker\": {\"color\": \"magenta\"}, \"name\": \"10.207\", \"showlegend\": false, \"x\": [\"2017-02-01\", \"2017-03-01\", \"2018-02-01\", \"2018-03-01\", \"2018-05-01\", \"2018-11-01\"], \"y\": [38859.0, 41397.0, 35939.0, 103497.0, 7070.0, 38234.0], \"type\": \"scatter\", \"uid\": \"22b184a6-fd67-11e8-87b7-b46bfca2d37e\", \"xaxis\": \"x23\", \"yaxis\": \"y23\"}, {\"legendgroup\": \"10.207\", \"marker\": {\"color\": \"magenta\"}, \"name\": \"10.207\", \"showlegend\": false, \"x\": [\"2017-02-01\", \"2017-03-01\", \"2018-02-01\", \"2018-03-01\", \"2018-05-01\", \"2018-11-01\"], \"y\": [7.0, 3.0, 4.0, 6.0, 5.0, 1.0], \"type\": \"scatter\", \"uid\": \"22b1da74-fd67-11e8-8177-b46bfca2d37e\", \"xaxis\": \"x24\", \"yaxis\": \"y24\"}, {\"legendgroup\": \"10.215\", \"marker\": {\"color\": \"darkmagenta\"}, \"name\": \"10.215\", \"showlegend\": false, \"x\": [\"2017-02-01\", \"2017-03-01\", \"2017-10-01\", \"2018-02-01\", \"2018-03-01\", \"2018-05-01\", \"2018-09-01\", \"2018-11-01\"], \"y\": [26101.0, 273946.0, 70799.0, 9491.0, 397191.0, 3415.0, 2983.0, 15980.0], \"type\": \"scatter\", \"uid\": \"22b1da75-fd67-11e8-819c-b46bfca2d37e\", \"xaxis\": \"x23\", \"yaxis\": \"y23\"}, {\"legendgroup\": \"10.215\", \"marker\": {\"color\": \"darkmagenta\"}, \"name\": \"10.215\", \"showlegend\": false, \"x\": [\"2017-02-01\", \"2017-03-01\", \"2017-10-01\", \"2018-02-01\", \"2018-03-01\", \"2018-05-01\", \"2018-09-01\", \"2018-11-01\"], \"y\": [10.0, 5.0, 1.0, 3.0, 7.0, 5.0, 1.0, 1.0], \"type\": \"scatter\", \"uid\": \"22b1da76-fd67-11e8-9fdc-b46bfca2d37e\", \"xaxis\": \"x24\", \"yaxis\": \"y24\"}, {\"legendgroup\": \"10.216\", \"marker\": {\"color\": \"darkolivegreen\"}, \"name\": \"10.216\", \"showlegend\": false, \"x\": [\"2017-02-01\", \"2017-03-01\", \"2017-11-01\", \"2018-02-01\", \"2018-03-01\", \"2018-11-01\"], \"y\": [604746.0, 2541862.0, 770984.0, 863371.0, 830863.0, 20634.0], \"type\": \"scatter\", \"uid\": \"22b1da77-fd67-11e8-bfd0-b46bfca2d37e\", \"xaxis\": \"x23\", \"yaxis\": \"y23\"}, {\"legendgroup\": \"10.216\", \"marker\": {\"color\": \"darkolivegreen\"}, \"name\": \"10.216\", \"showlegend\": false, \"x\": [\"2017-02-01\", \"2017-03-01\", \"2017-11-01\", \"2018-02-01\", \"2018-03-01\", \"2018-11-01\"], \"y\": [4.0, 5.0, 1.0, 3.0, 7.0, 1.0], \"type\": \"scatter\", \"uid\": \"22b43d7a-fd67-11e8-a0a5-b46bfca2d37e\", \"xaxis\": \"x24\", \"yaxis\": \"y24\"}, {\"legendgroup\": \"10.217\", \"marker\": {\"color\": \"darkorange\"}, \"name\": \"10.217\", \"showlegend\": false, \"x\": [\"2017-02-01\", \"2017-03-01\", \"2018-03-01\"], \"y\": [305044.0, 10801.0, 173807.0], \"type\": \"scatter\", \"uid\": \"22b43d7b-fd67-11e8-a9ee-b46bfca2d37e\", \"xaxis\": \"x23\", \"yaxis\": \"y23\"}, {\"legendgroup\": \"10.217\", \"marker\": {\"color\": \"darkorange\"}, \"name\": \"10.217\", \"showlegend\": false, \"x\": [\"2017-02-01\", \"2017-03-01\", \"2018-03-01\"], \"y\": [6.0, 1.0, 2.0], \"type\": \"scatter\", \"uid\": \"22b43d7c-fd67-11e8-823a-b46bfca2d37e\", \"xaxis\": \"x24\", \"yaxis\": \"y24\"}, {\"legendgroup\": \"10.219\", \"marker\": {\"color\": \"darkorchid\"}, \"name\": \"10.219\", \"showlegend\": false, \"x\": [\"2017-02-01\", \"2017-03-01\", \"2018-03-01\"], \"y\": [7416.0, 95126.0, 6870.0], \"type\": \"scatter\", \"uid\": \"22b43d7d-fd67-11e8-9990-b46bfca2d37e\", \"xaxis\": \"x23\", \"yaxis\": \"y23\"}, {\"legendgroup\": \"10.219\", \"marker\": {\"color\": \"darkorchid\"}, \"name\": \"10.219\", \"showlegend\": false, \"x\": [\"2017-02-01\", \"2017-03-01\", \"2018-03-01\"], \"y\": [6.0, 4.0, 1.0], \"type\": \"scatter\", \"uid\": \"22b69f88-fd67-11e8-8126-b46bfca2d37e\", \"xaxis\": \"x24\", \"yaxis\": \"y24\"}, {\"legendgroup\": \"10.304\", \"marker\": {\"color\": \"darkviolet\"}, \"name\": \"10.304\", \"showlegend\": false, \"x\": [\"2017-02-01\", \"2017-03-01\", \"2018-03-01\"], \"y\": [194421.0, 211477.0, 374140.0], \"type\": \"scatter\", \"uid\": \"22b69f89-fd67-11e8-880a-b46bfca2d37e\", \"xaxis\": \"x23\", \"yaxis\": \"y23\"}, {\"legendgroup\": \"10.304\", \"marker\": {\"color\": \"darkviolet\"}, \"name\": \"10.304\", \"showlegend\": false, \"x\": [\"2017-02-01\", \"2017-03-01\", \"2018-03-01\"], \"y\": [7.0, 1.0, 2.0], \"type\": \"scatter\", \"uid\": \"22b69f8a-fd67-11e8-a1cd-b46bfca2d37e\", \"xaxis\": \"x24\", \"yaxis\": \"y24\"}, {\"legendgroup\": \"10.307\", \"marker\": {\"color\": \"deepskyblue\"}, \"name\": \"10.307\", \"showlegend\": false, \"x\": [\"2017-02-01\", \"2017-03-01\", \"2018-01-01\", \"2018-02-01\", \"2018-03-01\"], \"y\": [215691.0, 103142.0, 12510.0, 39893.0, 320900.0], \"type\": \"scatter\", \"uid\": \"22b69f8b-fd67-11e8-b56f-b46bfca2d37e\", \"xaxis\": \"x23\", \"yaxis\": \"y23\"}, {\"legendgroup\": \"10.307\", \"marker\": {\"color\": \"deepskyblue\"}, \"name\": \"10.307\", \"showlegend\": false, \"x\": [\"2017-02-01\", \"2017-03-01\", \"2018-01-01\", \"2018-02-01\", \"2018-03-01\"], \"y\": [6.0, 1.0, 3.0, 3.0, 3.0], \"type\": \"scatter\", \"uid\": \"22b90194-fd67-11e8-bedd-b46bfca2d37e\", \"xaxis\": \"x24\", \"yaxis\": \"y24\"}, {\"legendgroup\": \"10.311\", \"marker\": {\"color\": \"firebrick\"}, \"name\": \"10.311\", \"showlegend\": false, \"x\": [\"2017-02-01\", \"2017-03-01\", \"2017-09-01\", \"2018-02-01\", \"2018-03-01\", \"2018-10-01\", \"2018-11-01\"], \"y\": [29869.0, -917.0, 142575.0, 34196.0, 15587.0, 26500.0, 198654.0], \"type\": \"scatter\", \"uid\": \"22b90195-fd67-11e8-9154-b46bfca2d37e\", \"xaxis\": \"x23\", \"yaxis\": \"y23\"}, {\"legendgroup\": \"10.311\", \"marker\": {\"color\": \"firebrick\"}, \"name\": \"10.311\", \"showlegend\": false, \"x\": [\"2017-02-01\", \"2017-03-01\", \"2017-09-01\", \"2018-02-01\", \"2018-03-01\", \"2018-10-01\", \"2018-11-01\"], \"y\": [4.0, 1.0, 8.0, 3.0, 1.0, 6.0, 1.0], \"type\": \"scatter\", \"uid\": \"22b90196-fd67-11e8-9334-b46bfca2d37e\", \"xaxis\": \"x24\", \"yaxis\": \"y24\"}, {\"legendgroup\": \"10.320\", \"marker\": {\"color\": \"fuchsia\"}, \"name\": \"10.320\", \"showlegend\": false, \"x\": [\"2017-02-01\", \"2017-11-01\", \"2018-03-01\", \"2018-11-01\"], \"y\": [321.0, 20488.0, 14889.0, 32272.0], \"type\": \"scatter\", \"uid\": \"22b90197-fd67-11e8-aa0c-b46bfca2d37e\", \"xaxis\": \"x23\", \"yaxis\": \"y23\"}, {\"legendgroup\": \"10.320\", \"marker\": {\"color\": \"fuchsia\"}, \"name\": \"10.320\", \"showlegend\": false, \"x\": [\"2017-02-01\", \"2017-11-01\", \"2018-03-01\", \"2018-11-01\"], \"y\": [6.0, 2.0, 3.0, 1.0], \"type\": \"scatter\", \"uid\": \"22bb6418-fd67-11e8-b2db-b46bfca2d37e\", \"xaxis\": \"x24\", \"yaxis\": \"y24\"}, {\"legendgroup\": \"10.326\", \"marker\": {\"color\": \"orchid\"}, \"name\": \"10.326\", \"showlegend\": false, \"x\": [\"2017-02-01\", \"2017-03-01\", \"2018-02-01\", \"2018-03-01\", \"2018-11-01\"], \"y\": [29874.0, 59849.0, 14130.0, 19239.0, 18323.0], \"type\": \"scatter\", \"uid\": \"22bb6419-fd67-11e8-b994-b46bfca2d37e\", \"xaxis\": \"x23\", \"yaxis\": \"y23\"}, {\"legendgroup\": \"10.326\", \"marker\": {\"color\": \"orchid\"}, \"name\": \"10.326\", \"showlegend\": false, \"x\": [\"2017-02-01\", \"2017-03-01\", \"2018-02-01\", \"2018-03-01\", \"2018-11-01\"], \"y\": [4.0, 3.0, 3.0, 5.0, 1.0], \"type\": \"scatter\", \"uid\": \"22bb641a-fd67-11e8-ac02-b46bfca2d37e\", \"xaxis\": \"x24\", \"yaxis\": \"y24\"}, {\"legendgroup\": \"10.500\", \"marker\": {\"color\": \"lightcoral\"}, \"name\": \"10.500\", \"showlegend\": false, \"x\": [\"2017-02-01\", \"2017-03-01\", \"2017-11-01\", \"2018-01-01\", \"2018-03-01\", \"2018-05-01\", \"2018-11-01\", \"2018-12-01\"], \"y\": [12177102.0, 16126364.0, 2108273.0, 2488771.0, 28806431.0, 8373763.0, 2019554.0, 3128363.0], \"type\": \"scatter\", \"uid\": \"22bb641b-fd67-11e8-9174-b46bfca2d37e\", \"xaxis\": \"x23\", \"yaxis\": \"y23\"}, {\"legendgroup\": \"10.500\", \"marker\": {\"color\": \"lightcoral\"}, \"name\": \"10.500\", \"showlegend\": false, \"x\": [\"2017-02-01\", \"2017-03-01\", \"2017-11-01\", \"2018-01-01\", \"2018-03-01\", \"2018-05-01\", \"2018-11-01\", \"2018-12-01\"], \"y\": [4.0, 5.0, 1.0, 1.0, 8.8, 2.0, 3.0, 1.0], \"type\": \"scatter\", \"uid\": \"22be0322-fd67-11e8-869e-b46bfca2d37e\", \"xaxis\": \"x24\", \"yaxis\": \"y24\"}, {\"legendgroup\": \"10.210\", \"marker\": {\"color\": \"darkgreen\"}, \"name\": \"10.210\", \"showlegend\": false, \"x\": [\"2017-03-01\", \"2018-03-01\"], \"y\": [4987.0, 742.0], \"type\": \"scatter\", \"uid\": \"22be9f4c-fd67-11e8-8e8a-b46bfca2d37e\", \"xaxis\": \"x23\", \"yaxis\": \"y23\"}, {\"legendgroup\": \"10.210\", \"marker\": {\"color\": \"darkgreen\"}, \"name\": \"10.210\", \"showlegend\": false, \"x\": [\"2017-03-01\", \"2018-03-01\"], \"y\": [4.0, 4.0], \"type\": \"scatter\", \"uid\": \"22bf3b9a-fd67-11e8-afe7-b46bfca2d37e\", \"xaxis\": \"x24\", \"yaxis\": \"y24\"}, {\"legendgroup\": \"10.308\", \"marker\": {\"color\": \"dimgray\"}, \"name\": \"10.308\", \"showlegend\": false, \"x\": [\"2017-03-01\", \"2018-03-01\", \"2018-05-01\"], \"y\": [816.0, 37661.0, 595843.0], \"type\": \"scatter\", \"uid\": \"22bfd7be-fd67-11e8-9df1-b46bfca2d37e\", \"xaxis\": \"x23\", \"yaxis\": \"y23\"}, {\"legendgroup\": \"10.308\", \"marker\": {\"color\": \"dimgray\"}, \"name\": \"10.308\", \"showlegend\": false, \"x\": [\"2017-03-01\", \"2018-03-01\", \"2018-05-01\"], \"y\": [1.0, 1.0, 5.0], \"type\": \"scatter\", \"uid\": \"22c07408-fd67-11e8-96c7-b46bfca2d37e\", \"xaxis\": \"x24\", \"yaxis\": \"y24\"}, {\"legendgroup\": \"10.312\", \"marker\": {\"color\": \"floralwhite\"}, \"name\": \"10.312\", \"showlegend\": false, \"x\": [\"2017-03-01\", \"2018-03-01\"], \"y\": [38687.0, 279602.0], \"type\": \"scatter\", \"uid\": \"22c0c734-fd67-11e8-bc5f-b46bfca2d37e\", \"xaxis\": \"x23\", \"yaxis\": \"y23\"}, {\"legendgroup\": \"10.312\", \"marker\": {\"color\": \"floralwhite\"}, \"name\": \"10.312\", \"showlegend\": false, \"x\": [\"2017-03-01\", \"2018-03-01\"], \"y\": [3.0, 6.0], \"type\": \"scatter\", \"uid\": \"22c0c735-fd67-11e8-a5e1-b46bfca2d37e\", \"xaxis\": \"x24\", \"yaxis\": \"y24\"}, {\"legendgroup\": \"10.328\", \"marker\": {\"color\": \"orangered\"}, \"name\": \"10.328\", \"showlegend\": false, \"x\": [\"2017-03-01\", \"2018-03-01\"], \"y\": [8045.0, 102132.0], \"type\": \"scatter\", \"uid\": \"22c0c736-fd67-11e8-9049-b46bfca2d37e\", \"xaxis\": \"x23\", \"yaxis\": \"y23\"}, {\"legendgroup\": \"10.328\", \"marker\": {\"color\": \"orangered\"}, \"name\": \"10.328\", \"showlegend\": false, \"x\": [\"2017-03-01\", \"2018-03-01\"], \"y\": [1.0, 2.0], \"type\": \"scatter\", \"uid\": \"22c0c737-fd67-11e8-8de9-b46bfca2d37e\", \"xaxis\": \"x24\", \"yaxis\": \"y24\"}, {\"legendgroup\": \"10.329\", \"marker\": {\"color\": \"gold\"}, \"name\": \"10.329\", \"showlegend\": false, \"x\": [\"2017-03-01\", \"2018-03-01\", \"2018-11-01\"], \"y\": [350305.0, 570131.0, 7109.0], \"type\": \"scatter\", \"uid\": \"22c329d8-fd67-11e8-83cd-b46bfca2d37e\", \"xaxis\": \"x23\", \"yaxis\": \"y23\"}, {\"legendgroup\": \"10.329\", \"marker\": {\"color\": \"gold\"}, \"name\": \"10.329\", \"showlegend\": false, \"x\": [\"2017-03-01\", \"2018-03-01\", \"2018-11-01\"], \"y\": [5.0, 6.0, 1.0], \"type\": \"scatter\", \"uid\": \"22c329d9-fd67-11e8-95fe-b46bfca2d37e\", \"xaxis\": \"x24\", \"yaxis\": \"y24\"}, {\"legendgroup\": \"10.330\", \"marker\": {\"color\": \"goldenrod\"}, \"name\": \"10.330\", \"showlegend\": false, \"x\": [\"2017-03-01\", \"2018-03-01\"], \"y\": [144.0, 85973.0], \"type\": \"scatter\", \"uid\": \"22c329da-fd67-11e8-a67b-b46bfca2d37e\", \"xaxis\": \"x23\", \"yaxis\": \"y23\"}, {\"legendgroup\": \"10.330\", \"marker\": {\"color\": \"goldenrod\"}, \"name\": \"10.330\", \"showlegend\": false, \"x\": [\"2017-03-01\", \"2018-03-01\"], \"y\": [1.0, 6.0], \"type\": \"scatter\", \"uid\": \"22c329db-fd67-11e8-bfe7-b46bfca2d37e\", \"xaxis\": \"x24\", \"yaxis\": \"y24\"}, {\"legendgroup\": \"10.225\", \"marker\": {\"color\": \"darksalmon\"}, \"name\": \"10.225\", \"showlegend\": false, \"x\": [\"2017-09-01\", \"2018-03-01\", \"2018-04-01\", \"2018-10-01\", \"2018-11-01\"], \"y\": [64595.0, 10014.0, 177659.0, 68727.0, 37165.0], \"type\": \"scatter\", \"uid\": \"22c58c40-fd67-11e8-a9ff-b46bfca2d37e\", \"xaxis\": \"x23\", \"yaxis\": \"y23\"}, {\"legendgroup\": \"10.225\", \"marker\": {\"color\": \"darksalmon\"}, \"name\": \"10.225\", \"showlegend\": false, \"x\": [\"2017-09-01\", \"2018-03-01\", \"2018-04-01\", \"2018-10-01\", \"2018-11-01\"], \"y\": [4.0, 1.0, 1.0, 6.0, 1.0], \"type\": \"scatter\", \"uid\": \"22c58c41-fd67-11e8-bef1-b46bfca2d37e\", \"xaxis\": \"x24\", \"yaxis\": \"y24\"}, {\"legendgroup\": \"10.331\", \"marker\": {\"color\": \"gray\"}, \"name\": \"10.331\", \"showlegend\": false, \"x\": [\"2017-09-01\", \"2017-11-01\", \"2018-11-01\"], \"y\": [2621133.0, 31867.0, 16110.0], \"type\": \"scatter\", \"uid\": \"22c58c42-fd67-11e8-a37e-b46bfca2d37e\", \"xaxis\": \"x23\", \"yaxis\": \"y23\"}, {\"legendgroup\": \"10.331\", \"marker\": {\"color\": \"gray\"}, \"name\": \"10.331\", \"showlegend\": false, \"x\": [\"2017-09-01\", \"2017-11-01\", \"2018-11-01\"], \"y\": [3.0, 2.0, 1.0], \"type\": \"scatter\", \"uid\": \"22c58c43-fd67-11e8-8d49-b46bfca2d37e\", \"xaxis\": \"x24\", \"yaxis\": \"y24\"}, {\"legendgroup\": \"10.226\", \"marker\": {\"color\": \"darkseagreen\"}, \"name\": \"10.226\", \"showlegend\": false, \"x\": [\"2018-03-01\"], \"y\": [16495.0], \"type\": \"scatter\", \"uid\": \"22c7ee8c-fd67-11e8-9667-b46bfca2d37e\", \"xaxis\": \"x23\", \"yaxis\": \"y23\"}, {\"legendgroup\": \"10.226\", \"marker\": {\"color\": \"darkseagreen\"}, \"name\": \"10.226\", \"showlegend\": false, \"x\": [\"2018-03-01\"], \"y\": [1.0], \"type\": \"scatter\", \"uid\": \"22c7ee8d-fd67-11e8-9ec7-b46bfca2d37e\", \"xaxis\": \"x24\", \"yaxis\": \"y24\"}, {\"legendgroup\": \"10.072\", \"marker\": {\"color\": \"black\"}, \"name\": \"10.072\", \"showlegend\": false, \"x\": [\"2017-01-01\", \"2017-03-01\", \"2018-01-01\", \"2018-04-01\"], \"y\": [1002348.0, 1492033.0, 417497.0, 724038.0], \"type\": \"scatter\", \"uid\": \"22c7ee8e-fd67-11e8-be8b-b46bfca2d37e\", \"xaxis\": \"x25\", \"yaxis\": \"y25\"}, {\"legendgroup\": \"10.072\", \"marker\": {\"color\": \"black\"}, \"name\": \"10.072\", \"showlegend\": false, \"x\": [\"2017-01-01\", \"2017-03-01\", \"2018-01-01\", \"2018-04-01\"], \"y\": [2.0, 2.0, 3.0, 2.0], \"type\": \"scatter\", \"uid\": \"22e90d64-fd67-11e8-8687-b46bfca2d37e\", \"xaxis\": \"x26\", \"yaxis\": \"y26\"}, {\"legendgroup\": \"10.902\", \"marker\": {\"color\": \"lightsalmon\"}, \"name\": \"10.902\", \"showlegend\": false, \"x\": [\"2017-01-01\", \"2017-02-01\", \"2017-03-01\", \"2017-04-01\", \"2017-05-01\", \"2017-07-01\", \"2017-09-01\", \"2018-01-01\", \"2018-02-01\", \"2018-03-01\", \"2018-05-01\", \"2018-09-01\", \"2018-12-01\"], \"y\": [558342.0, 47479.0, 44205.0, 75000.0, 313304.0, 1466503.0, 6457.0, 343308.0, 127581.0, 189219.0, 1060.0, 2400.0, 908654.0], \"type\": \"scatter\", \"uid\": \"22e90d65-fd67-11e8-9f23-b46bfca2d37e\", \"xaxis\": \"x25\", \"yaxis\": \"y25\"}, {\"legendgroup\": \"10.902\", \"marker\": {\"color\": \"lightsalmon\"}, \"name\": \"10.902\", \"showlegend\": false, \"x\": [\"2017-01-01\", \"2017-02-01\", \"2017-03-01\", \"2017-04-01\", \"2017-05-01\", \"2017-07-01\", \"2017-09-01\", \"2018-01-01\", \"2018-02-01\", \"2018-03-01\", \"2018-05-01\", \"2018-09-01\", \"2018-12-01\"], \"y\": [2.0, 6.0, 2.0, 1.0, 6.0, 2.0, 2.0, 3.0, 2.0, 3.0, 5.0, 1.0, 1.0], \"type\": \"scatter\", \"uid\": \"22e90d66-fd67-11e8-bb68-b46bfca2d37e\", \"xaxis\": \"x26\", \"yaxis\": \"y26\"}, {\"legendgroup\": \"10.912\", \"marker\": {\"color\": \"lightsteelblue\"}, \"name\": \"10.912\", \"showlegend\": false, \"x\": [\"2017-01-01\", \"2017-02-01\", \"2017-03-01\", \"2017-08-01\", \"2017-09-01\", \"2018-01-01\", \"2018-02-01\", \"2018-03-01\", \"2018-05-01\"], \"y\": [429633.0, 94007.0, 342052.0, 8756.0, 61.0, 505316.0, 165060.0, 898366.0, 15504.0], \"type\": \"scatter\", \"uid\": \"22ebeb50-fd67-11e8-a6d6-b46bfca2d37e\", \"xaxis\": \"x25\", \"yaxis\": \"y25\"}, {\"legendgroup\": \"10.912\", \"marker\": {\"color\": \"lightsteelblue\"}, \"name\": \"10.912\", \"showlegend\": false, \"x\": [\"2017-01-01\", \"2017-02-01\", \"2017-03-01\", \"2017-08-01\", \"2017-09-01\", \"2018-01-01\", \"2018-02-01\", \"2018-03-01\", \"2018-05-01\"], \"y\": [2.0, 6.0, 4.0, 2.0, 1.0, 3.0, 2.0, 8.0, 5.0], \"type\": \"scatter\", \"uid\": \"22ec87a4-fd67-11e8-87b3-b46bfca2d37e\", \"xaxis\": \"x26\", \"yaxis\": \"y26\"}, {\"legendgroup\": \"10.913\", \"marker\": {\"color\": \"mediumpurple\"}, \"name\": \"10.913\", \"showlegend\": false, \"x\": [\"2017-01-01\"], \"y\": [2460134.0], \"type\": \"scatter\", \"uid\": \"22ed23ba-fd67-11e8-b4cc-b46bfca2d37e\", \"xaxis\": \"x25\", \"yaxis\": \"y25\"}, {\"legendgroup\": \"10.913\", \"marker\": {\"color\": \"mediumpurple\"}, \"name\": \"10.913\", \"showlegend\": false, \"x\": [\"2017-01-01\"], \"y\": [2.0], \"type\": \"scatter\", \"uid\": \"22edc008-fd67-11e8-a231-b46bfca2d37e\", \"xaxis\": \"x26\", \"yaxis\": \"y26\"}, {\"legendgroup\": \"10.914\", \"marker\": {\"color\": \"red\"}, \"name\": \"10.914\", \"showlegend\": false, \"x\": [\"2017-01-01\", \"2018-02-01\"], \"y\": [63237.0, 66878.0], \"type\": \"scatter\", \"uid\": \"22ee5d68-fd67-11e8-a246-b46bfca2d37e\", \"xaxis\": \"x25\", \"yaxis\": \"y25\"}, {\"legendgroup\": \"10.914\", \"marker\": {\"color\": \"red\"}, \"name\": \"10.914\", \"showlegend\": false, \"x\": [\"2017-01-01\", \"2018-02-01\"], \"y\": [2.0, 2.0], \"type\": \"scatter\", \"uid\": \"22ef6e02-fd67-11e8-8a9a-b46bfca2d37e\", \"xaxis\": \"x26\", \"yaxis\": \"y26\"}, {\"legendgroup\": \"10.916\", \"marker\": {\"color\": \"aqua\"}, \"name\": \"10.916\", \"showlegend\": false, \"x\": [\"2017-01-01\", \"2017-03-01\"], \"y\": [856567.0, 10306249.0], \"type\": \"scatter\", \"uid\": \"22f0a624-fd67-11e8-8262-b46bfca2d37e\", \"xaxis\": \"x25\", \"yaxis\": \"y25\"}, {\"legendgroup\": \"10.916\", \"marker\": {\"color\": \"aqua\"}, \"name\": \"10.916\", \"showlegend\": false, \"x\": [\"2017-01-01\", \"2017-03-01\"], \"y\": [2.0, 1.0], \"type\": \"scatter\", \"uid\": \"22f171ae-fd67-11e8-bd15-b46bfca2d37e\", \"xaxis\": \"x26\", \"yaxis\": \"y26\"}, {\"legendgroup\": \"10.931\", \"marker\": {\"color\": \"bisque\"}, \"name\": \"10.931\", \"showlegend\": false, \"x\": [\"2017-01-01\", \"2017-04-01\", \"2018-01-01\"], \"y\": [1142978.0, 446036.0, 5993212.0], \"type\": \"scatter\", \"uid\": \"22f171af-fd67-11e8-877f-b46bfca2d37e\", \"xaxis\": \"x25\", \"yaxis\": \"y25\"}, {\"legendgroup\": \"10.931\", \"marker\": {\"color\": \"bisque\"}, \"name\": \"10.931\", \"showlegend\": false, \"x\": [\"2017-01-01\", \"2017-04-01\", \"2018-01-01\"], \"y\": [2.0, 1.0, 3.0], \"type\": \"scatter\", \"uid\": \"22f171b0-fd67-11e8-8c14-b46bfca2d37e\", \"xaxis\": \"x26\", \"yaxis\": \"y26\"}, {\"legendgroup\": \"10.932\", \"marker\": {\"color\": \"black\"}, \"name\": \"10.932\", \"showlegend\": false, \"x\": [\"2017-01-01\", \"2017-02-01\", \"2017-08-01\", \"2018-01-01\", \"2018-02-01\", \"2018-03-01\", \"2018-06-01\"], \"y\": [34958.0, 47530.0, 547448.0, 196445.0, 291608.0, 28599.0, 109013.0], \"type\": \"scatter\", \"uid\": \"22f171b1-fd67-11e8-aa58-b46bfca2d37e\", \"xaxis\": \"x25\", \"yaxis\": \"y25\"}, {\"legendgroup\": \"10.932\", \"marker\": {\"color\": \"black\"}, \"name\": \"10.932\", \"showlegend\": false, \"x\": [\"2017-01-01\", \"2017-02-01\", \"2017-08-01\", \"2018-01-01\", \"2018-02-01\", \"2018-03-01\", \"2018-06-01\"], \"y\": [2.0, 6.0, 2.0, 3.0, 2.0, 6.0, 1.0], \"type\": \"scatter\", \"uid\": \"22f3d582-fd67-11e8-b562-b46bfca2d37e\", \"xaxis\": \"x26\", \"yaxis\": \"y26\"}, {\"legendgroup\": \"10.904\", \"marker\": {\"color\": \"lightskyblue\"}, \"name\": \"10.904\", \"showlegend\": false, \"x\": [\"2017-03-01\", \"2018-02-01\", \"2018-03-01\"], \"y\": [16602311.0, 2761.0, 17935723.0], \"type\": \"scatter\", \"uid\": \"22f3d583-fd67-11e8-a23b-b46bfca2d37e\", \"xaxis\": \"x25\", \"yaxis\": \"y25\"}, {\"legendgroup\": \"10.904\", \"marker\": {\"color\": \"lightskyblue\"}, \"name\": \"10.904\", \"showlegend\": false, \"x\": [\"2017-03-01\", \"2018-02-01\", \"2018-03-01\"], \"y\": [2.0, 2.0, 1.0], \"type\": \"scatter\", \"uid\": \"22f3d584-fd67-11e8-a5aa-b46bfca2d37e\", \"xaxis\": \"x26\", \"yaxis\": \"y26\"}, {\"legendgroup\": \"10.923\", \"marker\": {\"color\": \"aquamarine\"}, \"name\": \"10.923\", \"showlegend\": false, \"x\": [\"2017-06-01\", \"2017-10-01\", \"2017-11-01\", \"2018-02-01\", \"2018-03-01\", \"2018-04-01\", \"2018-09-01\", \"2018-10-01\"], \"y\": [1457120.0, 294733.0, 1724716.0, 885700.0, 963988.0, 3545246.0, 2246800.0, 2246800.0], \"type\": \"scatter\", \"uid\": \"22f3d585-fd67-11e8-a428-b46bfca2d37e\", \"xaxis\": \"x25\", \"yaxis\": \"y25\"}, {\"legendgroup\": \"10.923\", \"marker\": {\"color\": \"aquamarine\"}, \"name\": \"10.923\", \"showlegend\": false, \"x\": [\"2017-06-01\", \"2017-10-01\", \"2017-11-01\", \"2018-02-01\", \"2018-03-01\", \"2018-04-01\", \"2018-09-01\", \"2018-10-01\"], \"y\": [2.0, 1.0, 6.0, 1.0, 1.0, 2.0, 1.0, 2.0], \"type\": \"scatter\", \"uid\": \"22f6b434-fd67-11e8-b7d1-b46bfca2d37e\", \"xaxis\": \"x26\", \"yaxis\": \"y26\"}, {\"legendgroup\": \"10.924\", \"marker\": {\"color\": \"mediumturquoise\"}, \"name\": \"10.924\", \"showlegend\": false, \"x\": [\"2017-06-01\", \"2017-09-01\", \"2018-01-01\", \"2018-02-01\"], \"y\": [1822918.0, 60863.0, 1921291.0, 66878.0], \"type\": \"scatter\", \"uid\": \"22f75188-fd67-11e8-8ca4-b46bfca2d37e\", \"xaxis\": \"x25\", \"yaxis\": \"y25\"}, {\"legendgroup\": \"10.924\", \"marker\": {\"color\": \"mediumturquoise\"}, \"name\": \"10.924\", \"showlegend\": false, \"x\": [\"2017-06-01\", \"2017-09-01\", \"2018-01-01\", \"2018-02-01\"], \"y\": [2.0, 1.0, 1.0, 2.0], \"type\": \"scatter\", \"uid\": \"22f7edd8-fd67-11e8-8767-b46bfca2d37e\", \"xaxis\": \"x26\", \"yaxis\": \"y26\"}, {\"legendgroup\": \"10.925\", \"marker\": {\"color\": \"olive\"}, \"name\": \"10.925\", \"showlegend\": false, \"x\": [\"2017-09-01\"], \"y\": [55307.0], \"type\": \"scatter\", \"uid\": \"22f8b11e-fd67-11e8-9fbb-b46bfca2d37e\", \"xaxis\": \"x25\", \"yaxis\": \"y25\"}, {\"legendgroup\": \"10.925\", \"marker\": {\"color\": \"olive\"}, \"name\": \"10.925\", \"showlegend\": false, \"x\": [\"2017-09-01\"], \"y\": [1.0], \"type\": \"scatter\", \"uid\": \"22f92658-fd67-11e8-b4b3-b46bfca2d37e\", \"xaxis\": \"x26\", \"yaxis\": \"y26\"}, {\"legendgroup\": \"10.907\", \"marker\": {\"color\": \"midnightblue\"}, \"name\": \"10.907\", \"showlegend\": false, \"x\": [\"2017-11-01\"], \"y\": [30788.0], \"type\": \"scatter\", \"uid\": \"22f9c2a4-fd67-11e8-8853-b46bfca2d37e\", \"xaxis\": \"x25\", \"yaxis\": \"y25\"}, {\"legendgroup\": \"10.907\", \"marker\": {\"color\": \"midnightblue\"}, \"name\": \"10.907\", \"showlegend\": false, \"x\": [\"2017-11-01\"], \"y\": [2.0], \"type\": \"scatter\", \"uid\": \"22fa5ee8-fd67-11e8-a520-b46bfca2d37e\", \"xaxis\": \"x26\", \"yaxis\": \"y26\"}, {\"legendgroup\": \"10.903\", \"marker\": {\"color\": \"lightseagreen\"}, \"name\": \"10.903\", \"showlegend\": false, \"x\": [\"2018-02-01\", \"2018-05-01\"], \"y\": [63372.0, 17373.0], \"type\": \"scatter\", \"uid\": \"22fb2106-fd67-11e8-8a97-b46bfca2d37e\", \"xaxis\": \"x25\", \"yaxis\": \"y25\"}, {\"legendgroup\": \"10.903\", \"marker\": {\"color\": \"lightseagreen\"}, \"name\": \"10.903\", \"showlegend\": false, \"x\": [\"2018-02-01\", \"2018-05-01\"], \"y\": [3.0, 5.0], \"type\": \"scatter\", \"uid\": \"22fbbd22-fd67-11e8-a24a-b46bfca2d37e\", \"xaxis\": \"x26\", \"yaxis\": \"y26\"}, {\"legendgroup\": \"10.905\", \"marker\": {\"color\": \"lightslategray\"}, \"name\": \"10.905\", \"showlegend\": false, \"x\": [\"2018-05-01\"], \"y\": [9709.0], \"type\": \"scatter\", \"uid\": \"22fc596e-fd67-11e8-80ca-b46bfca2d37e\", \"xaxis\": \"x25\", \"yaxis\": \"y25\"}, {\"legendgroup\": \"10.905\", \"marker\": {\"color\": \"lightslategray\"}, \"name\": \"10.905\", \"showlegend\": false, \"x\": [\"2018-05-01\"], \"y\": [5.0], \"type\": \"scatter\", \"uid\": \"22fccfb6-fd67-11e8-aebe-b46bfca2d37e\", \"xaxis\": \"x26\", \"yaxis\": \"y26\"}, {\"legendgroup\": \"10.290\", \"marker\": {\"color\": \"darkslategrey\"}, \"name\": \"10.290\", \"showlegend\": false, \"x\": [\"2017-02-01\", \"2017-03-01\", \"2018-03-01\"], \"y\": [27986.0, 185.0, 137710.0], \"type\": \"scatter\", \"uid\": \"22fd9328-fd67-11e8-a3f5-b46bfca2d37e\", \"xaxis\": \"x27\", \"yaxis\": \"y27\"}, {\"legendgroup\": \"10.290\", \"marker\": {\"color\": \"darkslategrey\"}, \"name\": \"10.290\", \"showlegend\": false, \"x\": [\"2017-02-01\", \"2017-03-01\", \"2018-03-01\"], \"y\": [6.0, 3.0, 6.0], \"type\": \"scatter\", \"uid\": \"22fe0864-fd67-11e8-bc2a-b46bfca2d37e\", \"xaxis\": \"x28\", \"yaxis\": \"y28\"}, {\"legendgroup\": \"10.767\", \"marker\": {\"color\": \"goldenrod\"}, \"name\": \"10.767\", \"showlegend\": false, \"x\": [\"2016-12-01\", \"2017-02-01\", \"2017-03-01\", \"2017-04-01\", \"2017-05-01\", \"2017-07-01\", \"2017-08-01\", \"2017-09-01\", \"2017-10-01\", \"2017-12-01\", \"2018-02-01\", \"2018-03-01\", \"2018-05-01\", \"2018-06-01\", \"2018-07-01\", \"2018-09-01\", \"2018-10-01\", \"2018-11-01\"], \"y\": [1682562.0, 458240.0, 1096139.0, 843564.0, 865321.0, 2241914.0, 965343.0, 1171243.0, 833927.0, 909736.0, 523529.0, 1398885.0, 2800634.0, 2058047.0, 802586.0, 6759015.0, 3599843.0, 1307227.0], \"type\": \"scatter\", \"uid\": \"22fe5c66-fd67-11e8-b0de-b46bfca2d37e\", \"xaxis\": \"x29\", \"yaxis\": \"y29\"}, {\"legendgroup\": \"10.767\", \"marker\": {\"color\": \"goldenrod\"}, \"name\": \"10.767\", \"showlegend\": false, \"x\": [\"2016-12-01\", \"2017-02-01\", \"2017-03-01\", \"2017-04-01\", \"2017-05-01\", \"2017-07-01\", \"2017-08-01\", \"2017-09-01\", \"2017-10-01\", \"2017-12-01\", \"2018-02-01\", \"2018-03-01\", \"2018-05-01\", \"2018-06-01\", \"2018-07-01\", \"2018-09-01\", \"2018-10-01\", \"2018-11-01\"], \"y\": [2.0, 1.0, 4.0, 1.0, 1.0, 1.0, 3.0, 2.0, 1.0, 1.0, 1.0, 2.0, 4.0, 1.0, 2.0, 2.0, 2.0, 1.0], \"type\": \"scatter\", \"uid\": \"22fe5c67-fd67-11e8-9298-b46bfca2d37e\", \"xaxis\": \"x30\", \"yaxis\": \"y30\"}, {\"legendgroup\": \"10.854\", \"marker\": {\"color\": \"lawngreen\"}, \"name\": \"10.854\", \"showlegend\": false, \"x\": [\"2016-12-01\", \"2018-06-01\", \"2018-09-01\"], \"y\": [2000000.0, 495961.0, 1000000.0], \"type\": \"scatter\", \"uid\": \"22fe5c68-fd67-11e8-b9df-b46bfca2d37e\", \"xaxis\": \"x29\", \"yaxis\": \"y29\"}, {\"legendgroup\": \"10.854\", \"marker\": {\"color\": \"lawngreen\"}, \"name\": \"10.854\", \"showlegend\": false, \"x\": [\"2016-12-01\", \"2018-06-01\", \"2018-09-01\"], \"y\": [4.0, 2.0, 2.0], \"type\": \"scatter\", \"uid\": \"22fe5c69-fd67-11e8-86cf-b46bfca2d37e\", \"xaxis\": \"x30\", \"yaxis\": \"y30\"}, {\"legendgroup\": \"10.773\", \"marker\": {\"color\": \"honeydew\"}, \"name\": \"10.773\", \"showlegend\": false, \"x\": [\"2017-01-01\"], \"y\": [42112.0], \"type\": \"scatter\", \"uid\": \"2300bf7a-fd67-11e8-82c7-b46bfca2d37e\", \"xaxis\": \"x29\", \"yaxis\": \"y29\"}, {\"legendgroup\": \"10.773\", \"marker\": {\"color\": \"honeydew\"}, \"name\": \"10.773\", \"showlegend\": false, \"x\": [\"2017-01-01\"], \"y\": [2.0], \"type\": \"scatter\", \"uid\": \"2300bf7b-fd67-11e8-8dec-b46bfca2d37e\", \"xaxis\": \"x30\", \"yaxis\": \"y30\"}, {\"legendgroup\": \"10.870\", \"marker\": {\"color\": \"lightgoldenrodyellow\"}, \"name\": \"10.870\", \"showlegend\": false, \"x\": [\"2017-01-01\", \"2017-02-01\", \"2017-03-01\", \"2017-05-01\", \"2017-09-01\", \"2018-02-01\", \"2018-05-01\", \"2018-10-01\", \"2018-11-01\"], \"y\": [146754.0, 408256.0, 0.0, 684845.0, 688097.0, 878742.0, 644021.0, 372370.0, 372370.0], \"type\": \"scatter\", \"uid\": \"2300bf7c-fd67-11e8-80cf-b46bfca2d37e\", \"xaxis\": \"x29\", \"yaxis\": \"y29\"}, {\"legendgroup\": \"10.870\", \"marker\": {\"color\": \"lightgoldenrodyellow\"}, \"name\": \"10.870\", \"showlegend\": false, \"x\": [\"2017-01-01\", \"2017-02-01\", \"2017-03-01\", \"2017-05-01\", \"2017-09-01\", \"2018-02-01\", \"2018-05-01\", \"2018-10-01\", \"2018-11-01\"], \"y\": [1.0, 1.0, 2.0, 1.0, 4.0, 2.0, 2.0, 1.0, 1.0], \"type\": \"scatter\", \"uid\": \"2300bf7d-fd67-11e8-9f7d-b46bfca2d37e\", \"xaxis\": \"x30\", \"yaxis\": \"y30\"}, {\"legendgroup\": \"10.768\", \"marker\": {\"color\": \"gray\"}, \"name\": \"10.768\", \"showlegend\": false, \"x\": [\"2017-03-01\", \"2017-06-01\", \"2018-02-01\", \"2018-07-01\"], \"y\": [3270493.0, 5317411.0, 3857792.0, 7998715.0], \"type\": \"scatter\", \"uid\": \"2300bf7e-fd67-11e8-8a3c-b46bfca2d37e\", \"xaxis\": \"x29\", \"yaxis\": \"y29\"}, {\"legendgroup\": \"10.768\", \"marker\": {\"color\": \"gray\"}, \"name\": \"10.768\", \"showlegend\": false, \"x\": [\"2017-03-01\", \"2017-06-01\", \"2018-02-01\", \"2018-07-01\"], \"y\": [1.0, 1.0, 1.0, 2.0], \"type\": \"scatter\", \"uid\": \"23032276-fd67-11e8-b523-b46bfca2d37e\", \"xaxis\": \"x30\", \"yaxis\": \"y30\"}, {\"legendgroup\": \"10.868\", \"marker\": {\"color\": \"mediumvioletred\"}, \"name\": \"10.868\", \"showlegend\": false, \"x\": [\"2017-03-01\"], \"y\": [17380.0], \"type\": \"scatter\", \"uid\": \"23032277-fd67-11e8-8275-b46bfca2d37e\", \"xaxis\": \"x29\", \"yaxis\": \"y29\"}, {\"legendgroup\": \"10.868\", \"marker\": {\"color\": \"mediumvioletred\"}, \"name\": \"10.868\", \"showlegend\": false, \"x\": [\"2017-03-01\"], \"y\": [1.0], \"type\": \"scatter\", \"uid\": \"23032278-fd67-11e8-a366-b46bfca2d37e\", \"xaxis\": \"x30\", \"yaxis\": \"y30\"}, {\"legendgroup\": \"10.874\", \"marker\": {\"color\": \"mediumaquamarine\"}, \"name\": \"10.874\", \"showlegend\": false, \"x\": [\"2017-03-01\", \"2018-03-01\"], \"y\": [65830.0, 301168.0], \"type\": \"scatter\", \"uid\": \"2305837e-fd67-11e8-b0a5-b46bfca2d37e\", \"xaxis\": \"x29\", \"yaxis\": \"y29\"}, {\"legendgroup\": \"10.874\", \"marker\": {\"color\": \"mediumaquamarine\"}, \"name\": \"10.874\", \"showlegend\": false, \"x\": [\"2017-03-01\", \"2018-03-01\"], \"y\": [3.0, 4.0], \"type\": \"scatter\", \"uid\": \"2305837f-fd67-11e8-8420-b46bfca2d37e\", \"xaxis\": \"x30\", \"yaxis\": \"y30\"}, {\"legendgroup\": \"10.351\", \"marker\": {\"color\": \"magenta\"}, \"name\": \"10.351\", \"showlegend\": false, \"x\": [\"2017-07-01\", \"2018-03-01\", \"2018-11-01\"], \"y\": [37774.0, 5299.0, 52004.0], \"type\": \"scatter\", \"uid\": \"23058380-fd67-11e8-a384-b46bfca2d37e\", \"xaxis\": \"x29\", \"yaxis\": \"y29\"}, {\"legendgroup\": \"10.351\", \"marker\": {\"color\": \"magenta\"}, \"name\": \"10.351\", \"showlegend\": false, \"x\": [\"2017-07-01\", \"2018-03-01\", \"2018-11-01\"], \"y\": [3.0, 4.0, 1.0], \"type\": \"scatter\", \"uid\": \"23058381-fd67-11e8-9f07-b46bfca2d37e\", \"xaxis\": \"x30\", \"yaxis\": \"y30\"}, {\"legendgroup\": \"10.771\", \"marker\": {\"color\": \"greenyellow\"}, \"name\": \"10.771\", \"showlegend\": false, \"x\": [\"2018-10-01\"], \"y\": [196303.0], \"type\": \"scatter\", \"uid\": \"23058382-fd67-11e8-aeb7-b46bfca2d37e\", \"xaxis\": \"x29\", \"yaxis\": \"y29\"}, {\"legendgroup\": \"10.771\", \"marker\": {\"color\": \"greenyellow\"}, \"name\": \"10.771\", \"showlegend\": false, \"x\": [\"2018-10-01\"], \"y\": [11.0], \"type\": \"scatter\", \"uid\": \"23084212-fd67-11e8-945e-b46bfca2d37e\", \"xaxis\": \"x30\", \"yaxis\": \"y30\"}, {\"legendgroup\": \"10.871\", \"marker\": {\"color\": \"paleturquoise\"}, \"name\": \"10.871\", \"showlegend\": false, \"x\": [\"2018-10-01\"], \"y\": [175000.0], \"type\": \"scatter\", \"uid\": \"2309054a-fd67-11e8-88e8-b46bfca2d37e\", \"xaxis\": \"x29\", \"yaxis\": \"y29\"}, {\"legendgroup\": \"10.871\", \"marker\": {\"color\": \"paleturquoise\"}, \"name\": \"10.871\", \"showlegend\": false, \"x\": [\"2018-10-01\"], \"y\": [7.0], \"type\": \"scatter\", \"uid\": \"23097a8a-fd67-11e8-96e9-b46bfca2d37e\", \"xaxis\": \"x30\", \"yaxis\": \"y30\"}, {\"legendgroup\": \"10.890\", \"marker\": {\"color\": \"lightgreen\"}, \"name\": \"10.890\", \"showlegend\": false, \"x\": [\"2018-11-01\"], \"y\": [112509.0], \"type\": \"scatter\", \"uid\": \"230a158c-fd67-11e8-b659-b46bfca2d37e\", \"xaxis\": \"x29\", \"yaxis\": \"y29\"}, {\"legendgroup\": \"10.890\", \"marker\": {\"color\": \"lightgreen\"}, \"name\": \"10.890\", \"showlegend\": false, \"x\": [\"2018-11-01\"], \"y\": [1.0], \"type\": \"scatter\", \"uid\": \"230a8ac8-fd67-11e8-8c51-b46bfca2d37e\", \"xaxis\": \"x30\", \"yaxis\": \"y30\"}, {\"legendgroup\": \"10.427\", \"marker\": {\"color\": \"indianred\"}, \"name\": \"10.427\", \"showlegend\": false, \"x\": [\"2016-12-01\", \"2017-01-01\", \"2017-02-01\", \"2017-03-01\", \"2017-04-01\", \"2017-05-01\", \"2017-07-01\", \"2017-09-01\", \"2017-11-01\", \"2017-12-01\", \"2018-01-01\", \"2018-03-01\", \"2018-04-01\", \"2018-05-01\", \"2018-06-01\", \"2018-07-01\", \"2018-08-01\", \"2018-09-01\"], \"y\": [227941.0, 347864.0, 607642.0, 337264.0, 204963.0, 306045.0, 155479.0, 187800.0, 92458.0, 378469.0, 50224.0, 555938.0, 127696.0, 360847.0, 107115.0, 431834.0, 31674.0, 85762.0], \"type\": \"scatter\", \"uid\": \"230b26e4-fd67-11e8-bf5b-b46bfca2d37e\", \"xaxis\": \"x31\", \"yaxis\": \"y31\"}, {\"legendgroup\": \"10.427\", \"marker\": {\"color\": \"indianred\"}, \"name\": \"10.427\", \"showlegend\": false, \"x\": [\"2016-12-01\", \"2017-01-01\", \"2017-02-01\", \"2017-03-01\", \"2017-04-01\", \"2017-05-01\", \"2017-07-01\", \"2017-09-01\", \"2017-11-01\", \"2017-12-01\", \"2018-01-01\", \"2018-03-01\", \"2018-04-01\", \"2018-05-01\", \"2018-06-01\", \"2018-07-01\", \"2018-08-01\", \"2018-09-01\"], \"y\": [1.0, 3.0, 1.0, 6.0, 2.0, 1.0, 3.0, 3.0, 4.0, 4.0, 2.0, 5.0, 2.0, 3.0, 1.0, 4.0, 2.0, 5.0], \"type\": \"scatter\", \"uid\": \"230bc474-fd67-11e8-b9c8-b46bfca2d37e\", \"xaxis\": \"x32\", \"yaxis\": \"y32\"}, {\"legendgroup\": \"10.405\", \"marker\": {\"color\": \"green\"}, \"name\": \"10.405\", \"showlegend\": false, \"x\": [\"2017-01-01\", \"2017-05-01\", \"2017-09-01\", \"2018-02-01\", \"2018-07-01\", \"2018-10-01\"], \"y\": [1082000.0, 559179.0, 1305063.0, 1007845.0, 2059811.0, 2344735.0], \"type\": \"scatter\", \"uid\": \"230c8686-fd67-11e8-a2af-b46bfca2d37e\", \"xaxis\": \"x31\", \"yaxis\": \"y31\"}, {\"legendgroup\": \"10.405\", \"marker\": {\"color\": \"green\"}, \"name\": \"10.405\", \"showlegend\": false, \"x\": [\"2017-01-01\", \"2017-05-01\", \"2017-09-01\", \"2018-02-01\", \"2018-07-01\", \"2018-10-01\"], \"y\": [2.0, 1.0, 1.0, 1.0, 1.0, 3.0], \"type\": \"scatter\", \"uid\": \"230cfffe-fd67-11e8-9efe-b46bfca2d37e\", \"xaxis\": \"x32\", \"yaxis\": \"y32\"}, {\"legendgroup\": \"10.415\", \"marker\": {\"color\": \"honeydew\"}, \"name\": \"10.415\", \"showlegend\": false, \"x\": [\"2017-01-01\", \"2017-02-01\", \"2017-03-01\", \"2017-04-01\", \"2017-05-01\", \"2017-06-01\", \"2017-07-01\", \"2017-08-01\", \"2017-09-01\", \"2017-10-01\", \"2017-11-01\", \"2017-12-01\", \"2018-01-01\", \"2018-02-01\", \"2018-03-01\", \"2018-04-01\", \"2018-05-01\", \"2018-06-01\", \"2018-07-01\", \"2018-08-01\", \"2018-09-01\", \"2018-10-01\", \"2018-11-01\"], \"y\": [8471204.0, 5985847.0, 6020744.0, 17379319.0, 3916696.0, 750439.0, 8148993.0, 4413877.0, 28349156.0, 1589881.0, 877730.0, 8567833.0, 7376311.0, 6763236.0, 19841944.0, 5003565.0, 6076436.0, 4654747.0, 1759147.0, 4248452.0, 15573823.0, 3571403.0, 1789748.0], \"type\": \"scatter\", \"uid\": \"230cffff-fd67-11e8-87b7-b46bfca2d37e\", \"xaxis\": \"x31\", \"yaxis\": \"y31\"}, {\"legendgroup\": \"10.415\", \"marker\": {\"color\": \"honeydew\"}, \"name\": \"10.415\", \"showlegend\": false, \"x\": [\"2017-01-01\", \"2017-02-01\", \"2017-03-01\", \"2017-04-01\", \"2017-05-01\", \"2017-06-01\", \"2017-07-01\", \"2017-08-01\", \"2017-09-01\", \"2017-10-01\", \"2017-11-01\", \"2017-12-01\", \"2018-01-01\", \"2018-02-01\", \"2018-03-01\", \"2018-04-01\", \"2018-05-01\", \"2018-06-01\", \"2018-07-01\", \"2018-08-01\", \"2018-09-01\", \"2018-10-01\", \"2018-11-01\"], \"y\": [5.0, 6.0, 6.0, 5.0, 6.0, 1.0, 8.0, 7.0, 20.0, 3.0, 4.0, 13.0, 7.0, 7.0, 16.0, 5.0, 7.0, 5.0, 2.0, 4.0, 13.0, 3.0, 1.0], \"type\": \"scatter\", \"uid\": \"230d0000-fd67-11e8-980b-b46bfca2d37e\", \"xaxis\": \"x32\", \"yaxis\": \"y32\"}, {\"legendgroup\": \"10.766\", \"marker\": {\"color\": \"gold\"}, \"name\": \"10.766\", \"showlegend\": false, \"x\": [\"2017-01-01\", \"2017-02-01\", \"2017-03-01\", \"2017-04-01\", \"2017-05-01\", \"2017-06-01\", \"2017-07-01\", \"2017-08-01\", \"2017-09-01\", \"2017-10-01\", \"2017-11-01\", \"2017-12-01\", \"2018-01-01\", \"2018-02-01\", \"2018-03-01\", \"2018-05-01\", \"2018-06-01\", \"2018-07-01\", \"2018-08-01\", \"2018-09-01\", \"2018-10-01\", \"2018-11-01\"], \"y\": [34905575.0, 14425500.0, 14019802.0, 20676823.0, 25880920.0, 9684969.0, 23746.0, 53510172.0, 12572312.0, 11629715.0, 29147292.0, 27537779.0, 31088061.0, 3927747.0, 36279846.0, 27355113.0, 1893783.0, 1667241.0, 42458000.0, 37235447.0, 21668738.0, 21270736.0], \"type\": \"scatter\", \"uid\": \"230d0001-fd67-11e8-9af6-b46bfca2d37e\", \"xaxis\": \"x31\", \"yaxis\": \"y31\"}, {\"legendgroup\": \"10.766\", \"marker\": {\"color\": \"gold\"}, \"name\": \"10.766\", \"showlegend\": false, \"x\": [\"2017-01-01\", \"2017-02-01\", \"2017-03-01\", \"2017-04-01\", \"2017-05-01\", \"2017-06-01\", \"2017-07-01\", \"2017-08-01\", \"2017-09-01\", \"2017-10-01\", \"2017-11-01\", \"2017-12-01\", \"2018-01-01\", \"2018-02-01\", \"2018-03-01\", \"2018-05-01\", \"2018-06-01\", \"2018-07-01\", \"2018-08-01\", \"2018-09-01\", \"2018-10-01\", \"2018-11-01\"], \"y\": [5.0, 10.0, 6.0, 3.0, 4.0, 3.0, 2.0, 7.0, 14.0, 1.0, 4.0, 8.0, 7.0, 3.0, 15.0, 13.0, 1.0, 2.0, 16.0, 11.0, 5.0, 15.0], \"type\": \"scatter\", \"uid\": \"230d0002-fd67-11e8-808d-b46bfca2d37e\", \"xaxis\": \"x32\", \"yaxis\": \"y32\"}, {\"legendgroup\": \"10.446\", \"marker\": {\"color\": \"sandybrown\"}, \"name\": \"10.446\", \"showlegend\": false, \"x\": [\"2017-02-01\", \"2017-06-01\", \"2018-02-01\"], \"y\": [145040.0, 808938.0, 143006.0], \"type\": \"scatter\", \"uid\": \"230f62c6-fd67-11e8-9579-b46bfca2d37e\", \"xaxis\": \"x31\", \"yaxis\": \"y31\"}, {\"legendgroup\": \"10.446\", \"marker\": {\"color\": \"sandybrown\"}, \"name\": \"10.446\", \"showlegend\": false, \"x\": [\"2017-02-01\", \"2017-06-01\", \"2018-02-01\"], \"y\": [1.0, 1.0, 1.0], \"type\": \"scatter\", \"uid\": \"230f62c7-fd67-11e8-b8e1-b46bfca2d37e\", \"xaxis\": \"x32\", \"yaxis\": \"y32\"}, {\"legendgroup\": \"10.438\", \"marker\": {\"color\": \"lime\"}, \"name\": \"10.438\", \"showlegend\": false, \"x\": [\"2017-09-01\", \"2018-09-01\"], \"y\": [489313.0, 480033.0], \"type\": \"scatter\", \"uid\": \"230f62c8-fd67-11e8-bd11-b46bfca2d37e\", \"xaxis\": \"x31\", \"yaxis\": \"y31\"}, {\"legendgroup\": \"10.438\", \"marker\": {\"color\": \"lime\"}, \"name\": \"10.438\", \"showlegend\": false, \"x\": [\"2017-09-01\", \"2018-09-01\"], \"y\": [2.0, 1.0], \"type\": \"scatter\", \"uid\": \"2311c634-fd67-11e8-9050-b46bfca2d37e\", \"xaxis\": \"x32\", \"yaxis\": \"y32\"}, {\"legendgroup\": \"10.447\", \"marker\": {\"color\": \"purple\"}, \"name\": \"10.447\", \"showlegend\": false, \"x\": [\"2017-09-01\", \"2017-12-01\", \"2018-01-01\", \"2018-04-01\", \"2018-06-01\", \"2018-11-01\"], \"y\": [1460045.0, 3169120.0, 4034155.0, 856782.0, 1460249.0, 1059252.0], \"type\": \"scatter\", \"uid\": \"2311c635-fd67-11e8-ad14-b46bfca2d37e\", \"xaxis\": \"x31\", \"yaxis\": \"y31\"}, {\"legendgroup\": \"10.447\", \"marker\": {\"color\": \"purple\"}, \"name\": \"10.447\", \"showlegend\": false, \"x\": [\"2017-09-01\", \"2017-12-01\", \"2018-01-01\", \"2018-04-01\", \"2018-06-01\", \"2018-11-01\"], \"y\": [1.0, 3.0, 6.0, 1.0, 1.0, 2.0], \"type\": \"scatter\", \"uid\": \"2311c636-fd67-11e8-ae99-b46bfca2d37e\", \"xaxis\": \"x32\", \"yaxis\": \"y32\"}, {\"legendgroup\": \"10.420\", \"marker\": {\"color\": \"hotpink\"}, \"name\": \"10.420\", \"showlegend\": false, \"x\": [\"2017-10-01\", \"2018-03-01\"], \"y\": [530638.0, 1204013.0], \"type\": \"scatter\", \"uid\": \"2311c637-fd67-11e8-8782-b46bfca2d37e\", \"xaxis\": \"x31\", \"yaxis\": \"y31\"}, {\"legendgroup\": \"10.420\", \"marker\": {\"color\": \"hotpink\"}, \"name\": \"10.420\", \"showlegend\": false, \"x\": [\"2017-10-01\", \"2018-03-01\"], \"y\": [3.0, 1.0], \"type\": \"scatter\", \"uid\": \"2311c638-fd67-11e8-aa2a-b46bfca2d37e\", \"xaxis\": \"x32\", \"yaxis\": \"y32\"}, {\"legendgroup\": \"10.433\", \"marker\": {\"color\": \"indigo\"}, \"name\": \"10.433\", \"showlegend\": false, \"x\": [\"2017-11-01\", \"2018-06-01\"], \"y\": [6768.0, 9539.0], \"type\": \"scatter\", \"uid\": \"2314274a-fd67-11e8-a8e2-b46bfca2d37e\", \"xaxis\": \"x31\", \"yaxis\": \"y31\"}, {\"legendgroup\": \"10.433\", \"marker\": {\"color\": \"indigo\"}, \"name\": \"10.433\", \"showlegend\": false, \"x\": [\"2017-11-01\", \"2018-06-01\"], \"y\": [2.0, 4.0], \"type\": \"scatter\", \"uid\": \"2314274b-fd67-11e8-9e84-b46bfca2d37e\", \"xaxis\": \"x32\", \"yaxis\": \"y32\"}, {\"legendgroup\": \"10.460\", \"marker\": {\"color\": \"lawngreen\"}, \"name\": \"10.460\", \"showlegend\": false, \"x\": [\"2017-03-01\", \"2018-03-01\"], \"y\": [26085.0, 20607.0], \"type\": \"scatter\", \"uid\": \"2314274c-fd67-11e8-a573-b46bfca2d37e\", \"xaxis\": \"x33\", \"yaxis\": \"y33\"}, {\"legendgroup\": \"10.460\", \"marker\": {\"color\": \"lawngreen\"}, \"name\": \"10.460\", \"showlegend\": false, \"x\": [\"2017-03-01\", \"2018-03-01\"], \"y\": [1.0, 1.0], \"type\": \"scatter\", \"uid\": \"2314274d-fd67-11e8-ab49-b46bfca2d37e\", \"xaxis\": \"x34\", \"yaxis\": \"y34\"}, {\"legendgroup\": \"10.760\", \"marker\": {\"color\": \"fuchsia\"}, \"name\": \"10.760\", \"showlegend\": false, \"x\": [\"2016-12-01\", \"2017-01-01\", \"2017-02-01\", \"2017-03-01\", \"2017-04-01\", \"2017-05-01\", \"2017-06-01\", \"2017-07-01\", \"2017-08-01\", \"2017-09-01\", \"2017-10-01\", \"2017-11-01\", \"2017-12-01\", \"2018-01-01\", \"2018-02-01\", \"2018-03-01\", \"2018-04-01\", \"2018-05-01\", \"2018-06-01\", \"2018-07-01\", \"2018-08-01\", \"2018-09-01\", \"2018-10-01\", \"2018-11-01\"], \"y\": [8826752.0, 5547464.0, 1814157.0, 11193920.0, 22397879.0, 20909874.0, 13626701.0, 15190152.0, 10794395.0, 22452674.0, 11912063.0, 4674634.0, 10963150.0, 5680505.0, 12620580.0, 12424997.0, 6882540.0, 7754603.0, 22747630.0, 9853283.0, 19656567.0, 47615778.0, 16383230.0, 24603328.0], \"type\": \"scatter\", \"uid\": \"231689f4-fd67-11e8-a721-b46bfca2d37e\", \"xaxis\": \"x35\", \"yaxis\": \"y35\"}, {\"legendgroup\": \"10.760\", \"marker\": {\"color\": \"fuchsia\"}, \"name\": \"10.760\", \"showlegend\": false, \"x\": [\"2016-12-01\", \"2017-01-01\", \"2017-02-01\", \"2017-03-01\", \"2017-04-01\", \"2017-05-01\", \"2017-06-01\", \"2017-07-01\", \"2017-08-01\", \"2017-09-01\", \"2017-10-01\", \"2017-11-01\", \"2017-12-01\", \"2018-01-01\", \"2018-02-01\", \"2018-03-01\", \"2018-04-01\", \"2018-05-01\", \"2018-06-01\", \"2018-07-01\", \"2018-08-01\", \"2018-09-01\", \"2018-10-01\", \"2018-11-01\"], \"y\": [8.0, 4.0, 3.0, 11.0, 10.0, 20.0, 13.0, 12.0, 10.0, 20.0, 4.0, 12.0, 12.0, 9.0, 8.0, 9.0, 2.0, 11.0, 12.0, 10.0, 21.0, 29.0, 15.0, 10.0], \"type\": \"scatter\", \"uid\": \"231689f5-fd67-11e8-92e4-b46bfca2d37e\", \"xaxis\": \"x36\", \"yaxis\": \"y36\"}, {\"legendgroup\": \"10.851\", \"marker\": {\"color\": \"purple\"}, \"name\": \"10.851\", \"showlegend\": false, \"x\": [\"2017-01-01\"], \"y\": [29941772.0], \"type\": \"scatter\", \"uid\": \"231689f6-fd67-11e8-83ad-b46bfca2d37e\", \"xaxis\": \"x35\", \"yaxis\": \"y35\"}, {\"legendgroup\": \"10.851\", \"marker\": {\"color\": \"purple\"}, \"name\": \"10.851\", \"showlegend\": false, \"x\": [\"2017-01-01\"], \"y\": [2.0], \"type\": \"scatter\", \"uid\": \"231689f7-fd67-11e8-ad53-b46bfca2d37e\", \"xaxis\": \"x36\", \"yaxis\": \"y36\"}, {\"legendgroup\": \"10.855\", \"marker\": {\"color\": \"salmon\"}, \"name\": \"10.855\", \"showlegend\": false, \"x\": [\"2017-01-01\", \"2017-12-01\", \"2018-03-01\"], \"y\": [94010.0, 441052.0, 153082.0], \"type\": \"scatter\", \"uid\": \"2318f4a4-fd67-11e8-9187-b46bfca2d37e\", \"xaxis\": \"x35\", \"yaxis\": \"y35\"}, {\"legendgroup\": \"10.855\", \"marker\": {\"color\": \"salmon\"}, \"name\": \"10.855\", \"showlegend\": false, \"x\": [\"2017-01-01\", \"2017-12-01\", \"2018-03-01\"], \"y\": [1.0, 2.0, 1.0], \"type\": \"scatter\", \"uid\": \"231990d4-fd67-11e8-82c0-b46bfca2d37e\", \"xaxis\": \"x36\", \"yaxis\": \"y36\"}, {\"legendgroup\": \"10.763\", \"marker\": {\"color\": \"orangered\"}, \"name\": \"10.763\", \"showlegend\": false, \"x\": [\"2017-03-01\", \"2018-02-01\"], \"y\": [876940.0, 297292.0], \"type\": \"scatter\", \"uid\": \"231a05fa-fd67-11e8-a429-b46bfca2d37e\", \"xaxis\": \"x35\", \"yaxis\": \"y35\"}, {\"legendgroup\": \"10.763\", \"marker\": {\"color\": \"orangered\"}, \"name\": \"10.763\", \"showlegend\": false, \"x\": [\"2017-03-01\", \"2018-02-01\"], \"y\": [1.0, 1.0], \"type\": \"scatter\", \"uid\": \"231aa236-fd67-11e8-a1db-b46bfca2d37e\", \"xaxis\": \"x36\", \"yaxis\": \"y36\"}, {\"legendgroup\": \"10.770\", \"marker\": {\"color\": \"green\"}, \"name\": \"10.770\", \"showlegend\": false, \"x\": [\"2017-05-01\", \"2017-08-01\", \"2017-12-01\"], \"y\": [445409.0, 1689000.0, 100000.0], \"type\": \"scatter\", \"uid\": \"231b3e6e-fd67-11e8-8f8e-b46bfca2d37e\", \"xaxis\": \"x35\", \"yaxis\": \"y35\"}, {\"legendgroup\": \"10.770\", \"marker\": {\"color\": \"green\"}, \"name\": \"10.770\", \"showlegend\": false, \"x\": [\"2017-05-01\", \"2017-08-01\", \"2017-12-01\"], \"y\": [1.0, 3.0, 1.0], \"type\": \"scatter\", \"uid\": \"231c0306-fd67-11e8-bca3-b46bfca2d37e\", \"xaxis\": \"x36\", \"yaxis\": \"y36\"}, {\"legendgroup\": \"10.859\", \"marker\": {\"color\": \"lightblue\"}, \"name\": \"10.859\", \"showlegend\": false, \"x\": [\"2017-05-01\", \"2018-03-01\"], \"y\": [93500.0, 77119.0], \"type\": \"scatter\", \"uid\": \"231c54e4-fd67-11e8-bd8e-b46bfca2d37e\", \"xaxis\": \"x35\", \"yaxis\": \"y35\"}, {\"legendgroup\": \"10.859\", \"marker\": {\"color\": \"lightblue\"}, \"name\": \"10.859\", \"showlegend\": false, \"x\": [\"2017-05-01\", \"2018-03-01\"], \"y\": [1.0, 1.0], \"type\": \"scatter\", \"uid\": \"231c54e5-fd67-11e8-8568-b46bfca2d37e\", \"xaxis\": \"x36\", \"yaxis\": \"y36\"}, {\"legendgroup\": \"10.759\", \"marker\": {\"color\": \"forestgreen\"}, \"name\": \"10.759\", \"showlegend\": false, \"x\": [\"2017-06-01\"], \"y\": [29400.0], \"type\": \"scatter\", \"uid\": \"231c54e6-fd67-11e8-a6a2-b46bfca2d37e\", \"xaxis\": \"x35\", \"yaxis\": \"y35\"}, {\"legendgroup\": \"10.759\", \"marker\": {\"color\": \"forestgreen\"}, \"name\": \"10.759\", \"showlegend\": false, \"x\": [\"2017-06-01\"], \"y\": [2.0], \"type\": \"scatter\", \"uid\": \"231c54e7-fd67-11e8-837f-b46bfca2d37e\", \"xaxis\": \"x36\", \"yaxis\": \"y36\"}, {\"legendgroup\": \"10.864\", \"marker\": {\"color\": \"lightcoral\"}, \"name\": \"10.864\", \"showlegend\": false, \"x\": [\"2017-12-01\", \"2018-09-01\"], \"y\": [2664343.0, 1027924.0], \"type\": \"scatter\", \"uid\": \"231eb79c-fd67-11e8-abfa-b46bfca2d37e\", \"xaxis\": \"x35\", \"yaxis\": \"y35\"}, {\"legendgroup\": \"10.864\", \"marker\": {\"color\": \"lightcoral\"}, \"name\": \"10.864\", \"showlegend\": false, \"x\": [\"2017-12-01\", \"2018-09-01\"], \"y\": [1.0, 1.0], \"type\": \"scatter\", \"uid\": \"231eb79d-fd67-11e8-8f64-b46bfca2d37e\", \"xaxis\": \"x36\", \"yaxis\": \"y36\"}, {\"legendgroup\": \"10.761\", \"marker\": {\"color\": \"orchid\"}, \"name\": \"10.761\", \"showlegend\": false, \"x\": [\"2018-07-01\"], \"y\": [115750.0], \"type\": \"scatter\", \"uid\": \"231eb79e-fd67-11e8-8ec8-b46bfca2d37e\", \"xaxis\": \"x35\", \"yaxis\": \"y35\"}, {\"legendgroup\": \"10.761\", \"marker\": {\"color\": \"orchid\"}, \"name\": \"10.761\", \"showlegend\": false, \"x\": [\"2018-07-01\"], \"y\": [1.0], \"type\": \"scatter\", \"uid\": \"231eb79f-fd67-11e8-ac5b-b46bfca2d37e\", \"xaxis\": \"x36\", \"yaxis\": \"y36\"}, {\"legendgroup\": \"10.EQIP200874611412216\", \"marker\": {\"color\": \"burlywood\"}, \"name\": \"10.EQIP200874611412216\", \"showlegend\": false, \"x\": [\"2016-12-01\"], \"y\": [8568.0], \"type\": \"scatter\", \"uid\": \"231eb7a0-fd67-11e8-adc4-b46bfca2d37e\", \"xaxis\": \"x37\", \"yaxis\": \"y37\"}, {\"legendgroup\": \"10.EQIP200874611412216\", \"marker\": {\"color\": \"burlywood\"}, \"name\": \"10.EQIP200874611412216\", \"showlegend\": false, \"x\": [\"2016-12-01\"], \"y\": [1.0], \"type\": \"scatter\", \"uid\": \"23211af6-fd67-11e8-9132-b46bfca2d37e\", \"xaxis\": \"x38\", \"yaxis\": \"y38\"}, {\"legendgroup\": \"10.076\", \"marker\": {\"color\": \"rosybrown\"}, \"name\": \"10.076\", \"showlegend\": false, \"x\": [\"2017-01-01\", \"2017-11-01\"], \"y\": [2500000.0, 2601000.0], \"type\": \"scatter\", \"uid\": \"23211af7-fd67-11e8-b5a1-b46bfca2d37e\", \"xaxis\": \"x37\", \"yaxis\": \"y37\"}, {\"legendgroup\": \"10.076\", \"marker\": {\"color\": \"rosybrown\"}, \"name\": \"10.076\", \"showlegend\": false, \"x\": [\"2017-01-01\", \"2017-11-01\"], \"y\": [1.0, 2.0], \"type\": \"scatter\", \"uid\": \"23211af8-fd67-11e8-9ebc-b46bfca2d37e\", \"xaxis\": \"x38\", \"yaxis\": \"y38\"}, {\"legendgroup\": \"10.U00\", \"marker\": {\"color\": \"chocolate\"}, \"name\": \"10.U00\", \"showlegend\": false, \"x\": [\"2017-01-01\", \"2017-03-01\", \"2018-01-01\", \"2018-03-01\"], \"y\": [3579.0, 16957771.0, 1246.0, 939907.0], \"type\": \"scatter\", \"uid\": \"23237c24-fd67-11e8-8148-b46bfca2d37e\", \"xaxis\": \"x37\", \"yaxis\": \"y37\"}, {\"legendgroup\": \"10.U00\", \"marker\": {\"color\": \"chocolate\"}, \"name\": \"10.U00\", \"showlegend\": false, \"x\": [\"2017-01-01\", \"2017-03-01\", \"2018-01-01\", \"2018-03-01\"], \"y\": [2.0, 4.0, 3.0, 8.0], \"type\": \"scatter\", \"uid\": \"23237c25-fd67-11e8-b8b7-b46bfca2d37e\", \"xaxis\": \"x38\", \"yaxis\": \"y38\"}, {\"legendgroup\": \"10.U01\", \"marker\": {\"color\": \"coral\"}, \"name\": \"10.U01\", \"showlegend\": false, \"x\": [\"2017-01-01\", \"2017-02-01\", \"2017-03-01\", \"2017-12-01\", \"2018-01-01\", \"2018-02-01\", \"2018-07-01\", \"2018-08-01\", \"2018-11-01\"], \"y\": [1284186.0, 10453.0, 28876.0, 803593.0, 1844555.0, 2590921.0, 1401493.0, 3750.0, 4536.0], \"type\": \"scatter\", \"uid\": \"23237c26-fd67-11e8-9e06-b46bfca2d37e\", \"xaxis\": \"x37\", \"yaxis\": \"y37\"}, {\"legendgroup\": \"10.U01\", \"marker\": {\"color\": \"coral\"}, \"name\": \"10.U01\", \"showlegend\": false, \"x\": [\"2017-01-01\", \"2017-02-01\", \"2017-03-01\", \"2017-12-01\", \"2018-01-01\", \"2018-02-01\", \"2018-07-01\", \"2018-08-01\", \"2018-11-01\"], \"y\": [2.0, 4.0, 1.0, 4.0, 3.0, 3.0, 2.0, 1.0, 1.0], \"type\": \"scatter\", \"uid\": \"23237c27-fd67-11e8-b2f1-b46bfca2d37e\", \"xaxis\": \"x38\", \"yaxis\": \"y38\"}, {\"legendgroup\": \"10.U02\", \"marker\": {\"color\": \"cornflowerblue\"}, \"name\": \"10.U02\", \"showlegend\": false, \"x\": [\"2017-01-01\", \"2018-01-01\"], \"y\": [68219.0, 10882.0], \"type\": \"scatter\", \"uid\": \"2325de74-fd67-11e8-b8ad-b46bfca2d37e\", \"xaxis\": \"x37\", \"yaxis\": \"y37\"}, {\"legendgroup\": \"10.U02\", \"marker\": {\"color\": \"cornflowerblue\"}, \"name\": \"10.U02\", \"showlegend\": false, \"x\": [\"2017-01-01\", \"2018-01-01\"], \"y\": [2.0, 3.0], \"type\": \"scatter\", \"uid\": \"2325de75-fd67-11e8-949d-b46bfca2d37e\", \"xaxis\": \"x38\", \"yaxis\": \"y38\"}, {\"legendgroup\": \"10.U03\", \"marker\": {\"color\": \"plum\"}, \"name\": \"10.U03\", \"showlegend\": false, \"x\": [\"2017-01-01\", \"2018-01-01\"], \"y\": [15528.0, -628.0], \"type\": \"scatter\", \"uid\": \"2325de76-fd67-11e8-bfb6-b46bfca2d37e\", \"xaxis\": \"x37\", \"yaxis\": \"y37\"}, {\"legendgroup\": \"10.U03\", \"marker\": {\"color\": \"plum\"}, \"name\": \"10.U03\", \"showlegend\": false, \"x\": [\"2017-01-01\", \"2018-01-01\"], \"y\": [2.0, 3.0], \"type\": \"scatter\", \"uid\": \"2325de77-fd67-11e8-937a-b46bfca2d37e\", \"xaxis\": \"x38\", \"yaxis\": \"y38\"}, {\"legendgroup\": \"10.U04\", \"marker\": {\"color\": \"crimson\"}, \"name\": \"10.U04\", \"showlegend\": false, \"x\": [\"2017-01-01\", \"2018-01-01\"], \"y\": [11782.0, 58000.0], \"type\": \"scatter\", \"uid\": \"23295ba8-fd67-11e8-a953-b46bfca2d37e\", \"xaxis\": \"x37\", \"yaxis\": \"y37\"}, {\"legendgroup\": \"10.U04\", \"marker\": {\"color\": \"crimson\"}, \"name\": \"10.U04\", \"showlegend\": false, \"x\": [\"2017-01-01\", \"2018-01-01\"], \"y\": [2.0, 3.0], \"type\": \"scatter\", \"uid\": \"2329f8f4-fd67-11e8-91ce-b46bfca2d37e\", \"xaxis\": \"x38\", \"yaxis\": \"y38\"}, {\"legendgroup\": \"10.U05\", \"marker\": {\"color\": \"cyan\"}, \"name\": \"10.U05\", \"showlegend\": false, \"x\": [\"2017-01-01\", \"2018-01-01\"], \"y\": [10028.0, 21806.0], \"type\": \"scatter\", \"uid\": \"232a9536-fd67-11e8-ac84-b46bfca2d37e\", \"xaxis\": \"x37\", \"yaxis\": \"y37\"}, {\"legendgroup\": \"10.U05\", \"marker\": {\"color\": \"cyan\"}, \"name\": \"10.U05\", \"showlegend\": false, \"x\": [\"2017-01-01\", \"2018-01-01\"], \"y\": [2.0, 3.0], \"type\": \"scatter\", \"uid\": \"232b317e-fd67-11e8-b25b-b46bfca2d37e\", \"xaxis\": \"x38\", \"yaxis\": \"y38\"}, {\"legendgroup\": \"10.U06\", \"marker\": {\"color\": \"darkblue\"}, \"name\": \"10.U06\", \"showlegend\": false, \"x\": [\"2017-01-01\", \"2018-01-01\"], \"y\": [7861.0, 5865.0], \"type\": \"scatter\", \"uid\": \"232bad92-fd67-11e8-8235-b46bfca2d37e\", \"xaxis\": \"x37\", \"yaxis\": \"y37\"}, {\"legendgroup\": \"10.U06\", \"marker\": {\"color\": \"darkblue\"}, \"name\": \"10.U06\", \"showlegend\": false, \"x\": [\"2017-01-01\", \"2018-01-01\"], \"y\": [2.0, 3.0], \"type\": \"scatter\", \"uid\": \"232bad93-fd67-11e8-a52c-b46bfca2d37e\", \"xaxis\": \"x38\", \"yaxis\": \"y38\"}, {\"legendgroup\": \"10.U07\", \"marker\": {\"color\": \"darkcyan\"}, \"name\": \"10.U07\", \"showlegend\": false, \"x\": [\"2017-01-01\", \"2018-01-01\"], \"y\": [30153.0, 16672.0], \"type\": \"scatter\", \"uid\": \"232bad94-fd67-11e8-9ce6-b46bfca2d37e\", \"xaxis\": \"x37\", \"yaxis\": \"y37\"}, {\"legendgroup\": \"10.U07\", \"marker\": {\"color\": \"darkcyan\"}, \"name\": \"10.U07\", \"showlegend\": false, \"x\": [\"2017-01-01\", \"2018-01-01\"], \"y\": [2.0, 3.0], \"type\": \"scatter\", \"uid\": \"232bad95-fd67-11e8-8c71-b46bfca2d37e\", \"xaxis\": \"x38\", \"yaxis\": \"y38\"}, {\"legendgroup\": \"10.U08\", \"marker\": {\"color\": \"darkgoldenrod\"}, \"name\": \"10.U08\", \"showlegend\": false, \"x\": [\"2017-01-01\", \"2018-01-01\", \"2018-07-01\"], \"y\": [20493.0, 18850.0, 9564687.0], \"type\": \"scatter\", \"uid\": \"232e1034-fd67-11e8-ac3e-b46bfca2d37e\", \"xaxis\": \"x37\", \"yaxis\": \"y37\"}, {\"legendgroup\": \"10.U08\", \"marker\": {\"color\": \"darkgoldenrod\"}, \"name\": \"10.U08\", \"showlegend\": false, \"x\": [\"2017-01-01\", \"2018-01-01\", \"2018-07-01\"], \"y\": [2.0, 3.0, 7.0], \"type\": \"scatter\", \"uid\": \"232e1035-fd67-11e8-94d9-b46bfca2d37e\", \"xaxis\": \"x38\", \"yaxis\": \"y38\"}, {\"legendgroup\": \"10.U09\", \"marker\": {\"color\": \"darkgray\"}, \"name\": \"10.U09\", \"showlegend\": false, \"x\": [\"2017-01-01\", \"2018-01-01\", \"2018-07-01\"], \"y\": [95141.0, 23919.0, 131754.0], \"type\": \"scatter\", \"uid\": \"232e1036-fd67-11e8-9388-b46bfca2d37e\", \"xaxis\": \"x37\", \"yaxis\": \"y37\"}, {\"legendgroup\": \"10.U09\", \"marker\": {\"color\": \"darkgray\"}, \"name\": \"10.U09\", \"showlegend\": false, \"x\": [\"2017-01-01\", \"2018-01-01\", \"2018-07-01\"], \"y\": [2.0, 3.0, 7.0], \"type\": \"scatter\", \"uid\": \"232e1037-fd67-11e8-bf5f-b46bfca2d37e\", \"xaxis\": \"x38\", \"yaxis\": \"y38\"}, {\"legendgroup\": \"10.U10\", \"marker\": {\"color\": \"magenta\"}, \"name\": \"10.U10\", \"showlegend\": false, \"x\": [\"2017-01-01\", \"2018-01-01\", \"2018-07-01\"], \"y\": [13595.0, 4397.0, 514896.0], \"type\": \"scatter\", \"uid\": \"233073ae-fd67-11e8-899d-b46bfca2d37e\", \"xaxis\": \"x37\", \"yaxis\": \"y37\"}, {\"legendgroup\": \"10.U10\", \"marker\": {\"color\": \"magenta\"}, \"name\": \"10.U10\", \"showlegend\": false, \"x\": [\"2017-01-01\", \"2018-01-01\", \"2018-07-01\"], \"y\": [2.0, 3.0, 4.0], \"type\": \"scatter\", \"uid\": \"233073af-fd67-11e8-9987-b46bfca2d37e\", \"xaxis\": \"x38\", \"yaxis\": \"y38\"}, {\"legendgroup\": \"10.U11\", \"marker\": {\"color\": \"darkgreen\"}, \"name\": \"10.U11\", \"showlegend\": false, \"x\": [\"2017-01-01\", \"2018-01-01\"], \"y\": [26344.0, 2476.0], \"type\": \"scatter\", \"uid\": \"233073b0-fd67-11e8-9c32-b46bfca2d37e\", \"xaxis\": \"x37\", \"yaxis\": \"y37\"}, {\"legendgroup\": \"10.U11\", \"marker\": {\"color\": \"darkgreen\"}, \"name\": \"10.U11\", \"showlegend\": false, \"x\": [\"2017-01-01\", \"2018-01-01\"], \"y\": [2.0, 3.0], \"type\": \"scatter\", \"uid\": \"2332d4c2-fd67-11e8-bedf-b46bfca2d37e\", \"xaxis\": \"x38\", \"yaxis\": \"y38\"}, {\"legendgroup\": \"10.U12\", \"marker\": {\"color\": \"darkkhaki\"}, \"name\": \"10.U12\", \"showlegend\": false, \"x\": [\"2017-01-01\", \"2018-01-01\"], \"y\": [7502.0, 13619.0], \"type\": \"scatter\", \"uid\": \"2332d4c3-fd67-11e8-b453-b46bfca2d37e\", \"xaxis\": \"x37\", \"yaxis\": \"y37\"}, {\"legendgroup\": \"10.U12\", \"marker\": {\"color\": \"darkkhaki\"}, \"name\": \"10.U12\", \"showlegend\": false, \"x\": [\"2017-01-01\", \"2018-01-01\"], \"y\": [2.0, 3.0], \"type\": \"scatter\", \"uid\": \"2332d4c4-fd67-11e8-848b-b46bfca2d37e\", \"xaxis\": \"x38\", \"yaxis\": \"y38\"}, {\"legendgroup\": \"10.U13\", \"marker\": {\"color\": \"darkmagenta\"}, \"name\": \"10.U13\", \"showlegend\": false, \"x\": [\"2017-01-01\", \"2018-01-01\"], \"y\": [3205.0, 104924.0], \"type\": \"scatter\", \"uid\": \"2332d4c5-fd67-11e8-8596-b46bfca2d37e\", \"xaxis\": \"x37\", \"yaxis\": \"y37\"}, {\"legendgroup\": \"10.U13\", \"marker\": {\"color\": \"darkmagenta\"}, \"name\": \"10.U13\", \"showlegend\": false, \"x\": [\"2017-01-01\", \"2018-01-01\"], \"y\": [2.0, 3.0], \"type\": \"scatter\", \"uid\": \"2332d4c6-fd67-11e8-90c8-b46bfca2d37e\", \"xaxis\": \"x38\", \"yaxis\": \"y38\"}, {\"legendgroup\": \"10.U14\", \"marker\": {\"color\": \"darkolivegreen\"}, \"name\": \"10.U14\", \"showlegend\": false, \"x\": [\"2017-01-01\", \"2018-01-01\"], \"y\": [64481.0, 8092.0], \"type\": \"scatter\", \"uid\": \"233536f6-fd67-11e8-a2ac-b46bfca2d37e\", \"xaxis\": \"x37\", \"yaxis\": \"y37\"}, {\"legendgroup\": \"10.U14\", \"marker\": {\"color\": \"darkolivegreen\"}, \"name\": \"10.U14\", \"showlegend\": false, \"x\": [\"2017-01-01\", \"2018-01-01\"], \"y\": [2.0, 3.0], \"type\": \"scatter\", \"uid\": \"233536f7-fd67-11e8-921f-b46bfca2d37e\", \"xaxis\": \"x38\", \"yaxis\": \"y38\"}, {\"legendgroup\": \"10.U15\", \"marker\": {\"color\": \"darkorange\"}, \"name\": \"10.U15\", \"showlegend\": false, \"x\": [\"2017-01-01\", \"2018-01-01\"], \"y\": [3617.0, 7883.0], \"type\": \"scatter\", \"uid\": \"233536f8-fd67-11e8-9186-b46bfca2d37e\", \"xaxis\": \"x37\", \"yaxis\": \"y37\"}, {\"legendgroup\": \"10.U15\", \"marker\": {\"color\": \"darkorange\"}, \"name\": \"10.U15\", \"showlegend\": false, \"x\": [\"2017-01-01\", \"2018-01-01\"], \"y\": [2.0, 3.0], \"type\": \"scatter\", \"uid\": \"233536f9-fd67-11e8-a458-b46bfca2d37e\", \"xaxis\": \"x38\", \"yaxis\": \"y38\"}, {\"legendgroup\": \"10.U16\", \"marker\": {\"color\": \"darkorchid\"}, \"name\": \"10.U16\", \"showlegend\": false, \"x\": [\"2017-01-01\", \"2018-01-01\"], \"y\": [25182.0, 102063.0], \"type\": \"scatter\", \"uid\": \"23386602-fd67-11e8-886b-b46bfca2d37e\", \"xaxis\": \"x37\", \"yaxis\": \"y37\"}, {\"legendgroup\": \"10.U16\", \"marker\": {\"color\": \"darkorchid\"}, \"name\": \"10.U16\", \"showlegend\": false, \"x\": [\"2017-01-01\", \"2018-01-01\"], \"y\": [2.0, 3.0], \"type\": \"scatter\", \"uid\": \"23390254-fd67-11e8-92c3-b46bfca2d37e\", \"xaxis\": \"x38\", \"yaxis\": \"y38\"}, {\"legendgroup\": \"10.U17\", \"marker\": {\"color\": \"darkred\"}, \"name\": \"10.U17\", \"showlegend\": false, \"x\": [\"2017-01-01\", \"2018-01-01\"], \"y\": [83685.0, 13476.0], \"type\": \"scatter\", \"uid\": \"23399e9c-fd67-11e8-8c2e-b46bfca2d37e\", \"xaxis\": \"x37\", \"yaxis\": \"y37\"}, {\"legendgroup\": \"10.U17\", \"marker\": {\"color\": \"darkred\"}, \"name\": \"10.U17\", \"showlegend\": false, \"x\": [\"2017-01-01\", \"2018-01-01\"], \"y\": [2.0, 3.0], \"type\": \"scatter\", \"uid\": \"233a3adc-fd67-11e8-845c-b46bfca2d37e\", \"xaxis\": \"x38\", \"yaxis\": \"y38\"}, {\"legendgroup\": \"10.U18\", \"marker\": {\"color\": \"darksalmon\"}, \"name\": \"10.U18\", \"showlegend\": false, \"x\": [\"2017-01-01\", \"2018-01-01\"], \"y\": [15862.0, 18257.0], \"type\": \"scatter\", \"uid\": \"233b0a1c-fd67-11e8-be55-b46bfca2d37e\", \"xaxis\": \"x37\", \"yaxis\": \"y37\"}, {\"legendgroup\": \"10.U18\", \"marker\": {\"color\": \"darksalmon\"}, \"name\": \"10.U18\", \"showlegend\": false, \"x\": [\"2017-01-01\", \"2018-01-01\"], \"y\": [2.0, 3.0], \"type\": \"scatter\", \"uid\": \"233ba64a-fd67-11e8-9612-b46bfca2d37e\", \"xaxis\": \"x38\", \"yaxis\": \"y38\"}, {\"legendgroup\": \"10.U19\", \"marker\": {\"color\": \"darkseagreen\"}, \"name\": \"10.U19\", \"showlegend\": false, \"x\": [\"2017-01-01\", \"2018-01-01\"], \"y\": [10278.0, 104193.0], \"type\": \"scatter\", \"uid\": \"233d541e-fd67-11e8-a8e1-b46bfca2d37e\", \"xaxis\": \"x37\", \"yaxis\": \"y37\"}, {\"legendgroup\": \"10.U19\", \"marker\": {\"color\": \"darkseagreen\"}, \"name\": \"10.U19\", \"showlegend\": false, \"x\": [\"2017-01-01\", \"2018-01-01\"], \"y\": [2.0, 3.0], \"type\": \"scatter\", \"uid\": \"233df61e-fd67-11e8-94d5-b46bfca2d37e\", \"xaxis\": \"x38\", \"yaxis\": \"y38\"}, {\"legendgroup\": \"10.U20\", \"marker\": {\"color\": \"darkslateblue\"}, \"name\": \"10.U20\", \"showlegend\": false, \"x\": [\"2017-01-01\", \"2018-01-01\"], \"y\": [38641.0, 14817.0], \"type\": \"scatter\", \"uid\": \"233df61f-fd67-11e8-a385-b46bfca2d37e\", \"xaxis\": \"x37\", \"yaxis\": \"y37\"}, {\"legendgroup\": \"10.U20\", \"marker\": {\"color\": \"darkslateblue\"}, \"name\": \"10.U20\", \"showlegend\": false, \"x\": [\"2017-01-01\", \"2018-01-01\"], \"y\": [2.0, 3.0], \"type\": \"scatter\", \"uid\": \"233df620-fd67-11e8-b336-b46bfca2d37e\", \"xaxis\": \"x38\", \"yaxis\": \"y38\"}, {\"legendgroup\": \"10.U21\", \"marker\": {\"color\": \"darkslategray\"}, \"name\": \"10.U21\", \"showlegend\": false, \"x\": [\"2017-01-01\", \"2018-01-01\"], \"y\": [26698.0, 76835.0], \"type\": \"scatter\", \"uid\": \"233df621-fd67-11e8-a37d-b46bfca2d37e\", \"xaxis\": \"x37\", \"yaxis\": \"y37\"}, {\"legendgroup\": \"10.U21\", \"marker\": {\"color\": \"darkslategray\"}, \"name\": \"10.U21\", \"showlegend\": false, \"x\": [\"2017-01-01\", \"2018-01-01\"], \"y\": [2.0, 3.0], \"type\": \"scatter\", \"uid\": \"23405a18-fd67-11e8-9e6a-b46bfca2d37e\", \"xaxis\": \"x38\", \"yaxis\": \"y38\"}, {\"legendgroup\": \"10.U22\", \"marker\": {\"color\": \"darkslategrey\"}, \"name\": \"10.U22\", \"showlegend\": false, \"x\": [\"2017-01-01\", \"2018-01-01\"], \"y\": [1921.0, 16457.0], \"type\": \"scatter\", \"uid\": \"23405a19-fd67-11e8-91d2-b46bfca2d37e\", \"xaxis\": \"x37\", \"yaxis\": \"y37\"}, {\"legendgroup\": \"10.U22\", \"marker\": {\"color\": \"darkslategrey\"}, \"name\": \"10.U22\", \"showlegend\": false, \"x\": [\"2017-01-01\", \"2018-01-01\"], \"y\": [2.0, 3.0], \"type\": \"scatter\", \"uid\": \"23405a1a-fd67-11e8-9bb2-b46bfca2d37e\", \"xaxis\": \"x38\", \"yaxis\": \"y38\"}, {\"legendgroup\": \"10.U23\", \"marker\": {\"color\": \"darkturquoise\"}, \"name\": \"10.U23\", \"showlegend\": false, \"x\": [\"2017-01-01\", \"2018-01-01\"], \"y\": [36324.0, 538071.0], \"type\": \"scatter\", \"uid\": \"23405a1b-fd67-11e8-86b5-b46bfca2d37e\", \"xaxis\": \"x37\", \"yaxis\": \"y37\"}, {\"legendgroup\": \"10.U23\", \"marker\": {\"color\": \"darkturquoise\"}, \"name\": \"10.U23\", \"showlegend\": false, \"x\": [\"2017-01-01\", \"2018-01-01\"], \"y\": [2.0, 3.0], \"type\": \"scatter\", \"uid\": \"23431314-fd67-11e8-9bf1-b46bfca2d37e\", \"xaxis\": \"x38\", \"yaxis\": \"y38\"}, {\"legendgroup\": \"10.U24\", \"marker\": {\"color\": \"darkviolet\"}, \"name\": \"10.U24\", \"showlegend\": false, \"x\": [\"2017-01-01\", \"2018-01-01\"], \"y\": [13669.0, 47549.0], \"type\": \"scatter\", \"uid\": \"2343d630-fd67-11e8-94c7-b46bfca2d37e\", \"xaxis\": \"x37\", \"yaxis\": \"y37\"}, {\"legendgroup\": \"10.U24\", \"marker\": {\"color\": \"darkviolet\"}, \"name\": \"10.U24\", \"showlegend\": false, \"x\": [\"2017-01-01\", \"2018-01-01\"], \"y\": [2.0, 3.0], \"type\": \"scatter\", \"uid\": \"234472a6-fd67-11e8-8dce-b46bfca2d37e\", \"xaxis\": \"x38\", \"yaxis\": \"y38\"}, {\"legendgroup\": \"10.U25\", \"marker\": {\"color\": \"deeppink\"}, \"name\": \"10.U25\", \"showlegend\": false, \"x\": [\"2017-01-01\", \"2018-01-01\"], \"y\": [51328.0, 4191.0], \"type\": \"scatter\", \"uid\": \"23450ecc-fd67-11e8-86d4-b46bfca2d37e\", \"xaxis\": \"x37\", \"yaxis\": \"y37\"}, {\"legendgroup\": \"10.U25\", \"marker\": {\"color\": \"deeppink\"}, \"name\": \"10.U25\", \"showlegend\": false, \"x\": [\"2017-01-01\", \"2018-01-01\"], \"y\": [2.0, 3.0], \"type\": \"scatter\", \"uid\": \"2345aaee-fd67-11e8-a3ba-b46bfca2d37e\", \"xaxis\": \"x38\", \"yaxis\": \"y38\"}, {\"legendgroup\": \"10.U26\", \"marker\": {\"color\": \"deepskyblue\"}, \"name\": \"10.U26\", \"showlegend\": false, \"x\": [\"2017-01-01\", \"2018-01-01\"], \"y\": [16864.0, 46283.0], \"type\": \"scatter\", \"uid\": \"23464776-fd67-11e8-a9fa-b46bfca2d37e\", \"xaxis\": \"x37\", \"yaxis\": \"y37\"}, {\"legendgroup\": \"10.U26\", \"marker\": {\"color\": \"deepskyblue\"}, \"name\": \"10.U26\", \"showlegend\": false, \"x\": [\"2017-01-01\", \"2018-01-01\"], \"y\": [2.0, 3.0], \"type\": \"scatter\", \"uid\": \"2347309c-fd67-11e8-969f-b46bfca2d37e\", \"xaxis\": \"x38\", \"yaxis\": \"y38\"}, {\"legendgroup\": \"10.U27\", \"marker\": {\"color\": \"dimgray\"}, \"name\": \"10.U27\", \"showlegend\": false, \"x\": [\"2017-01-01\", \"2018-01-01\"], \"y\": [71581.0, 107405.0], \"type\": \"scatter\", \"uid\": \"23489006-fd67-11e8-b8c7-b46bfca2d37e\", \"xaxis\": \"x37\", \"yaxis\": \"y37\"}, {\"legendgroup\": \"10.U27\", \"marker\": {\"color\": \"dimgray\"}, \"name\": \"10.U27\", \"showlegend\": false, \"x\": [\"2017-01-01\", \"2018-01-01\"], \"y\": [2.0, 3.0], \"type\": \"scatter\", \"uid\": \"23497a70-fd67-11e8-8fcd-b46bfca2d37e\", \"xaxis\": \"x38\", \"yaxis\": \"y38\"}, {\"legendgroup\": \"10.U28\", \"marker\": {\"color\": \"dimgrey\"}, \"name\": \"10.U28\", \"showlegend\": false, \"x\": [\"2017-01-01\", \"2018-01-01\"], \"y\": [285115.0, 16313.0], \"type\": \"scatter\", \"uid\": \"234a92c6-fd67-11e8-9be8-b46bfca2d37e\", \"xaxis\": \"x37\", \"yaxis\": \"y37\"}, {\"legendgroup\": \"10.U28\", \"marker\": {\"color\": \"dimgrey\"}, \"name\": \"10.U28\", \"showlegend\": false, \"x\": [\"2017-01-01\", \"2018-01-01\"], \"y\": [2.0, 3.0], \"type\": \"scatter\", \"uid\": \"234a92c7-fd67-11e8-89b7-b46bfca2d37e\", \"xaxis\": \"x38\", \"yaxis\": \"y38\"}, {\"legendgroup\": \"10.U29\", \"marker\": {\"color\": \"dodgerblue\"}, \"name\": \"10.U29\", \"showlegend\": false, \"x\": [\"2017-01-01\", \"2018-01-01\"], \"y\": [8398.0, 26150.0], \"type\": \"scatter\", \"uid\": \"234a92c8-fd67-11e8-89b4-b46bfca2d37e\", \"xaxis\": \"x37\", \"yaxis\": \"y37\"}, {\"legendgroup\": \"10.U29\", \"marker\": {\"color\": \"dodgerblue\"}, \"name\": \"10.U29\", \"showlegend\": false, \"x\": [\"2017-01-01\", \"2018-01-01\"], \"y\": [2.0, 3.0], \"type\": \"scatter\", \"uid\": \"234a92c9-fd67-11e8-aa48-b46bfca2d37e\", \"xaxis\": \"x38\", \"yaxis\": \"y38\"}, {\"legendgroup\": \"10.U30\", \"marker\": {\"color\": \"firebrick\"}, \"name\": \"10.U30\", \"showlegend\": false, \"x\": [\"2017-01-01\", \"2018-01-01\"], \"y\": [30616.0, 34824.0], \"type\": \"scatter\", \"uid\": \"234cf528-fd67-11e8-876e-b46bfca2d37e\", \"xaxis\": \"x37\", \"yaxis\": \"y37\"}, {\"legendgroup\": \"10.U30\", \"marker\": {\"color\": \"firebrick\"}, \"name\": \"10.U30\", \"showlegend\": false, \"x\": [\"2017-01-01\", \"2018-01-01\"], \"y\": [2.0, 3.0], \"type\": \"scatter\", \"uid\": \"234cf529-fd67-11e8-9cc7-b46bfca2d37e\", \"xaxis\": \"x38\", \"yaxis\": \"y38\"}, {\"legendgroup\": \"10.U31\", \"marker\": {\"color\": \"floralwhite\"}, \"name\": \"10.U31\", \"showlegend\": false, \"x\": [\"2017-01-01\", \"2018-01-01\"], \"y\": [4399.0, 15500.0], \"type\": \"scatter\", \"uid\": \"234cf52a-fd67-11e8-ad16-b46bfca2d37e\", \"xaxis\": \"x37\", \"yaxis\": \"y37\"}, {\"legendgroup\": \"10.U31\", \"marker\": {\"color\": \"floralwhite\"}, \"name\": \"10.U31\", \"showlegend\": false, \"x\": [\"2017-01-01\", \"2018-01-01\"], \"y\": [2.0, 3.0], \"type\": \"scatter\", \"uid\": \"234f578a-fd67-11e8-954f-b46bfca2d37e\", \"xaxis\": \"x38\", \"yaxis\": \"y38\"}, {\"legendgroup\": \"10.U32\", \"marker\": {\"color\": \"forestgreen\"}, \"name\": \"10.U32\", \"showlegend\": false, \"x\": [\"2017-01-01\", \"2018-01-01\"], \"y\": [35072.0, 88699.0], \"type\": \"scatter\", \"uid\": \"234f578b-fd67-11e8-93a3-b46bfca2d37e\", \"xaxis\": \"x37\", \"yaxis\": \"y37\"}, {\"legendgroup\": \"10.U32\", \"marker\": {\"color\": \"forestgreen\"}, \"name\": \"10.U32\", \"showlegend\": false, \"x\": [\"2017-01-01\", \"2018-01-01\"], \"y\": [2.0, 3.0], \"type\": \"scatter\", \"uid\": \"234f578c-fd67-11e8-b846-b46bfca2d37e\", \"xaxis\": \"x38\", \"yaxis\": \"y38\"}, {\"legendgroup\": \"10.U33\", \"marker\": {\"color\": \"fuchsia\"}, \"name\": \"10.U33\", \"showlegend\": false, \"x\": [\"2017-01-01\", \"2018-01-01\"], \"y\": [44121.0, 101478.0], \"type\": \"scatter\", \"uid\": \"2351b9dc-fd67-11e8-8d31-b46bfca2d37e\", \"xaxis\": \"x37\", \"yaxis\": \"y37\"}, {\"legendgroup\": \"10.U33\", \"marker\": {\"color\": \"fuchsia\"}, \"name\": \"10.U33\", \"showlegend\": false, \"x\": [\"2017-01-01\", \"2018-01-01\"], \"y\": [2.0, 3.0], \"type\": \"scatter\", \"uid\": \"2351b9dd-fd67-11e8-b6a8-b46bfca2d37e\", \"xaxis\": \"x38\", \"yaxis\": \"y38\"}, {\"legendgroup\": \"10.U34\", \"marker\": {\"color\": \"orchid\"}, \"name\": \"10.U34\", \"showlegend\": false, \"x\": [\"2017-01-01\", \"2018-01-01\"], \"y\": [24160.0, 96686.0], \"type\": \"scatter\", \"uid\": \"2351b9de-fd67-11e8-a584-b46bfca2d37e\", \"xaxis\": \"x37\", \"yaxis\": \"y37\"}, {\"legendgroup\": \"10.U34\", \"marker\": {\"color\": \"orchid\"}, \"name\": \"10.U34\", \"showlegend\": false, \"x\": [\"2017-01-01\", \"2018-01-01\"], \"y\": [2.0, 3.0], \"type\": \"scatter\", \"uid\": \"2351b9df-fd67-11e8-8518-b46bfca2d37e\", \"xaxis\": \"x38\", \"yaxis\": \"y38\"}, {\"legendgroup\": \"10.U35\", \"marker\": {\"color\": \"orangered\"}, \"name\": \"10.U35\", \"showlegend\": false, \"x\": [\"2017-01-01\", \"2018-01-01\"], \"y\": [50888.0, 7509.0], \"type\": \"scatter\", \"uid\": \"23541c9e-fd67-11e8-9efd-b46bfca2d37e\", \"xaxis\": \"x37\", \"yaxis\": \"y37\"}, {\"legendgroup\": \"10.U35\", \"marker\": {\"color\": \"orangered\"}, \"name\": \"10.U35\", \"showlegend\": false, \"x\": [\"2017-01-01\", \"2018-01-01\"], \"y\": [2.0, 3.0], \"type\": \"scatter\", \"uid\": \"23541c9f-fd67-11e8-bcad-b46bfca2d37e\", \"xaxis\": \"x38\", \"yaxis\": \"y38\"}, {\"legendgroup\": \"10.U36\", \"marker\": {\"color\": \"gold\"}, \"name\": \"10.U36\", \"showlegend\": false, \"x\": [\"2017-01-01\", \"2018-01-01\"], \"y\": [27008.0, 21479.0], \"type\": \"scatter\", \"uid\": \"23541ca0-fd67-11e8-a96b-b46bfca2d37e\", \"xaxis\": \"x37\", \"yaxis\": \"y37\"}, {\"legendgroup\": \"10.U36\", \"marker\": {\"color\": \"gold\"}, \"name\": \"10.U36\", \"showlegend\": false, \"x\": [\"2017-01-01\", \"2018-01-01\"], \"y\": [2.0, 3.0], \"type\": \"scatter\", \"uid\": \"23567ea4-fd67-11e8-a704-b46bfca2d37e\", \"xaxis\": \"x38\", \"yaxis\": \"y38\"}, {\"legendgroup\": \"10.U37\", \"marker\": {\"color\": \"goldenrod\"}, \"name\": \"10.U37\", \"showlegend\": false, \"x\": [\"2017-01-01\", \"2018-01-01\"], \"y\": [27651.0, 91802.0], \"type\": \"scatter\", \"uid\": \"2357e0e4-fd67-11e8-9f3e-b46bfca2d37e\", \"xaxis\": \"x37\", \"yaxis\": \"y37\"}, {\"legendgroup\": \"10.U37\", \"marker\": {\"color\": \"goldenrod\"}, \"name\": \"10.U37\", \"showlegend\": false, \"x\": [\"2017-01-01\", \"2018-01-01\"], \"y\": [2.0, 3.0], \"type\": \"scatter\", \"uid\": \"2358a442-fd67-11e8-ae83-b46bfca2d37e\", \"xaxis\": \"x38\", \"yaxis\": \"y38\"}, {\"legendgroup\": \"10.U38\", \"marker\": {\"color\": \"gray\"}, \"name\": \"10.U38\", \"showlegend\": false, \"x\": [\"2017-01-01\", \"2018-01-01\"], \"y\": [36931.0, 19423.0], \"type\": \"scatter\", \"uid\": \"23596b9a-fd67-11e8-a5c3-b46bfca2d37e\", \"xaxis\": \"x37\", \"yaxis\": \"y37\"}, {\"legendgroup\": \"10.U38\", \"marker\": {\"color\": \"gray\"}, \"name\": \"10.U38\", \"showlegend\": false, \"x\": [\"2017-01-01\", \"2018-01-01\"], \"y\": [2.0, 3.0], \"type\": \"scatter\", \"uid\": \"23596b9b-fd67-11e8-9844-b46bfca2d37e\", \"xaxis\": \"x38\", \"yaxis\": \"y38\"}, {\"legendgroup\": \"10.U39\", \"marker\": {\"color\": \"magenta\"}, \"name\": \"10.U39\", \"showlegend\": false, \"x\": [\"2017-01-01\", \"2018-01-01\"], \"y\": [300000.0, 12970.0], \"type\": \"scatter\", \"uid\": \"23596b9c-fd67-11e8-8e25-b46bfca2d37e\", \"xaxis\": \"x37\", \"yaxis\": \"y37\"}, {\"legendgroup\": \"10.U39\", \"marker\": {\"color\": \"magenta\"}, \"name\": \"10.U39\", \"showlegend\": false, \"x\": [\"2017-01-01\", \"2018-01-01\"], \"y\": [2.0, 3.0], \"type\": \"scatter\", \"uid\": \"23596b9d-fd67-11e8-ab1f-b46bfca2d37e\", \"xaxis\": \"x38\", \"yaxis\": \"y38\"}, {\"legendgroup\": \"10.U40\", \"marker\": {\"color\": \"green\"}, \"name\": \"10.U40\", \"showlegend\": false, \"x\": [\"2017-01-01\", \"2018-01-01\"], \"y\": [21955.0, 27634.0], \"type\": \"scatter\", \"uid\": \"235bce6e-fd67-11e8-81fa-b46bfca2d37e\", \"xaxis\": \"x37\", \"yaxis\": \"y37\"}, {\"legendgroup\": \"10.U40\", \"marker\": {\"color\": \"green\"}, \"name\": \"10.U40\", \"showlegend\": false, \"x\": [\"2017-01-01\", \"2018-01-01\"], \"y\": [2.0, 3.0], \"type\": \"scatter\", \"uid\": \"235bce6f-fd67-11e8-8e48-b46bfca2d37e\", \"xaxis\": \"x38\", \"yaxis\": \"y38\"}, {\"legendgroup\": \"10.U41\", \"marker\": {\"color\": \"greenyellow\"}, \"name\": \"10.U41\", \"showlegend\": false, \"x\": [\"2017-01-01\", \"2018-01-01\"], \"y\": [250.0, 19831.0], \"type\": \"scatter\", \"uid\": \"235e308a-fd67-11e8-a905-b46bfca2d37e\", \"xaxis\": \"x37\", \"yaxis\": \"y37\"}, {\"legendgroup\": \"10.U41\", \"marker\": {\"color\": \"greenyellow\"}, \"name\": \"10.U41\", \"showlegend\": false, \"x\": [\"2017-01-01\", \"2018-01-01\"], \"y\": [2.0, 3.0], \"type\": \"scatter\", \"uid\": \"235e308b-fd67-11e8-b8dd-b46bfca2d37e\", \"xaxis\": \"x38\", \"yaxis\": \"y38\"}, {\"legendgroup\": \"10.U42\", \"marker\": {\"color\": \"honeydew\"}, \"name\": \"10.U42\", \"showlegend\": false, \"x\": [\"2017-01-01\", \"2018-01-01\"], \"y\": [45566.0, 8900.0], \"type\": \"scatter\", \"uid\": \"235e308c-fd67-11e8-91b9-b46bfca2d37e\", \"xaxis\": \"x37\", \"yaxis\": \"y37\"}, {\"legendgroup\": \"10.U42\", \"marker\": {\"color\": \"honeydew\"}, \"name\": \"10.U42\", \"showlegend\": false, \"x\": [\"2017-01-01\", \"2018-01-01\"], \"y\": [2.0, 3.0], \"type\": \"scatter\", \"uid\": \"235e308d-fd67-11e8-8443-b46bfca2d37e\", \"xaxis\": \"x38\", \"yaxis\": \"y38\"}, {\"legendgroup\": \"10.U43\", \"marker\": {\"color\": \"hotpink\"}, \"name\": \"10.U43\", \"showlegend\": false, \"x\": [\"2017-01-01\", \"2018-01-01\"], \"y\": [107751.0, 26737.0], \"type\": \"scatter\", \"uid\": \"236092c6-fd67-11e8-8636-b46bfca2d37e\", \"xaxis\": \"x37\", \"yaxis\": \"y37\"}, {\"legendgroup\": \"10.U43\", \"marker\": {\"color\": \"hotpink\"}, \"name\": \"10.U43\", \"showlegend\": false, \"x\": [\"2017-01-01\", \"2018-01-01\"], \"y\": [2.0, 3.0], \"type\": \"scatter\", \"uid\": \"236092c7-fd67-11e8-9277-b46bfca2d37e\", \"xaxis\": \"x38\", \"yaxis\": \"y38\"}, {\"legendgroup\": \"10.U44\", \"marker\": {\"color\": \"indianred\"}, \"name\": \"10.U44\", \"showlegend\": false, \"x\": [\"2017-01-01\", \"2018-01-01\"], \"y\": [6780.0, 4963.0], \"type\": \"scatter\", \"uid\": \"236092c8-fd67-11e8-a3bc-b46bfca2d37e\", \"xaxis\": \"x37\", \"yaxis\": \"y37\"}, {\"legendgroup\": \"10.U44\", \"marker\": {\"color\": \"indianred\"}, \"name\": \"10.U44\", \"showlegend\": false, \"x\": [\"2017-01-01\", \"2018-01-01\"], \"y\": [2.0, 3.0], \"type\": \"scatter\", \"uid\": \"2362f69c-fd67-11e8-84cd-b46bfca2d37e\", \"xaxis\": \"x38\", \"yaxis\": \"y38\"}, {\"legendgroup\": \"10.U45\", \"marker\": {\"color\": \"indigo\"}, \"name\": \"10.U45\", \"showlegend\": false, \"x\": [\"2017-01-01\", \"2018-01-01\"], \"y\": [48093.0, 100898.0], \"type\": \"scatter\", \"uid\": \"2362f69d-fd67-11e8-b08f-b46bfca2d37e\", \"xaxis\": \"x37\", \"yaxis\": \"y37\"}, {\"legendgroup\": \"10.U45\", \"marker\": {\"color\": \"indigo\"}, \"name\": \"10.U45\", \"showlegend\": false, \"x\": [\"2017-01-01\", \"2018-01-01\"], \"y\": [2.0, 3.0], \"type\": \"scatter\", \"uid\": \"2362f69e-fd67-11e8-a8c3-b46bfca2d37e\", \"xaxis\": \"x38\", \"yaxis\": \"y38\"}, {\"legendgroup\": \"10.U46\", \"marker\": {\"color\": \"lime\"}, \"name\": \"10.U46\", \"showlegend\": false, \"x\": [\"2017-01-01\", \"2018-01-01\"], \"y\": [8007.0, 10812.0], \"type\": \"scatter\", \"uid\": \"23658c70-fd67-11e8-9b33-b46bfca2d37e\", \"xaxis\": \"x37\", \"yaxis\": \"y37\"}, {\"legendgroup\": \"10.U46\", \"marker\": {\"color\": \"lime\"}, \"name\": \"10.U46\", \"showlegend\": false, \"x\": [\"2017-01-01\", \"2018-01-01\"], \"y\": [2.0, 3.0], \"type\": \"scatter\", \"uid\": \"236675a8-fd67-11e8-8038-b46bfca2d37e\", \"xaxis\": \"x38\", \"yaxis\": \"y38\"}, {\"legendgroup\": \"10.U47\", \"marker\": {\"color\": \"khaki\"}, \"name\": \"10.U47\", \"showlegend\": false, \"x\": [\"2017-01-01\", \"2018-01-01\"], \"y\": [20738.0, 16428.0], \"type\": \"scatter\", \"uid\": \"236738f0-fd67-11e8-9c3d-b46bfca2d37e\", \"xaxis\": \"x37\", \"yaxis\": \"y37\"}, {\"legendgroup\": \"10.U47\", \"marker\": {\"color\": \"khaki\"}, \"name\": \"10.U47\", \"showlegend\": false, \"x\": [\"2017-01-01\", \"2018-01-01\"], \"y\": [2.0, 3.0], \"type\": \"scatter\", \"uid\": \"2367d528-fd67-11e8-9137-b46bfca2d37e\", \"xaxis\": \"x38\", \"yaxis\": \"y38\"}, {\"legendgroup\": \"10.U48\", \"marker\": {\"color\": \"sandybrown\"}, \"name\": \"10.U48\", \"showlegend\": false, \"x\": [\"2017-01-01\", \"2018-01-01\"], \"y\": [8163.0, 16148.0], \"type\": \"scatter\", \"uid\": \"2368a3f6-fd67-11e8-ae7f-b46bfca2d37e\", \"xaxis\": \"x37\", \"yaxis\": \"y37\"}, {\"legendgroup\": \"10.U48\", \"marker\": {\"color\": \"sandybrown\"}, \"name\": \"10.U48\", \"showlegend\": false, \"x\": [\"2017-01-01\", \"2018-01-01\"], \"y\": [2.0, 3.0], \"type\": \"scatter\", \"uid\": \"2368a3f7-fd67-11e8-9b39-b46bfca2d37e\", \"xaxis\": \"x38\", \"yaxis\": \"y38\"}, {\"legendgroup\": \"10.U90\", \"marker\": {\"color\": \"lightskyblue\"}, \"name\": \"10.U90\", \"showlegend\": false, \"x\": [\"2017-01-01\"], \"y\": [0.0], \"type\": \"scatter\", \"uid\": \"2368a3f8-fd67-11e8-93b6-b46bfca2d37e\", \"xaxis\": \"x37\", \"yaxis\": \"y37\"}, {\"legendgroup\": \"10.U90\", \"marker\": {\"color\": \"lightskyblue\"}, \"name\": \"10.U90\", \"showlegend\": false, \"x\": [\"2017-01-01\"], \"y\": [1.0], \"type\": \"scatter\", \"uid\": \"2368a3f9-fd67-11e8-a4b2-b46bfca2d37e\", \"xaxis\": \"x38\", \"yaxis\": \"y38\"}, {\"legendgroup\": \"10.10.025\", \"marker\": {\"color\": \"blue\"}, \"name\": \"10.10.025\", \"showlegend\": false, \"x\": [\"2017-02-01\"], \"y\": [388185.0], \"type\": \"scatter\", \"uid\": \"236b06ae-fd67-11e8-b1c5-b46bfca2d37e\", \"xaxis\": \"x37\", \"yaxis\": \"y37\"}, {\"legendgroup\": \"10.10.025\", \"marker\": {\"color\": \"blue\"}, \"name\": \"10.10.025\", \"showlegend\": false, \"x\": [\"2017-02-01\"], \"y\": [8.0], \"type\": \"scatter\", \"uid\": \"236b06af-fd67-11e8-8098-b46bfca2d37e\", \"xaxis\": \"x38\", \"yaxis\": \"y38\"}, {\"legendgroup\": \"10.10.162\", \"marker\": {\"color\": \"blueviolet\"}, \"name\": \"10.10.162\", \"showlegend\": false, \"x\": [\"2017-02-01\"], \"y\": [525054.0], \"type\": \"scatter\", \"uid\": \"236b06b0-fd67-11e8-a5be-b46bfca2d37e\", \"xaxis\": \"x37\", \"yaxis\": \"y37\"}, {\"legendgroup\": \"10.10.162\", \"marker\": {\"color\": \"blueviolet\"}, \"name\": \"10.10.162\", \"showlegend\": false, \"x\": [\"2017-02-01\"], \"y\": [4.0], \"type\": \"scatter\", \"uid\": \"236b06b1-fd67-11e8-9e09-b46bfca2d37e\", \"xaxis\": \"x38\", \"yaxis\": \"y38\"}, {\"legendgroup\": \"10.315\", \"marker\": {\"color\": \"forestgreen\"}, \"name\": \"10.315\", \"showlegend\": false, \"x\": [\"2017-02-01\", \"2018-02-01\"], \"y\": [30247.0, 168435.0], \"type\": \"scatter\", \"uid\": \"236d689e-fd67-11e8-9775-b46bfca2d37e\", \"xaxis\": \"x37\", \"yaxis\": \"y37\"}, {\"legendgroup\": \"10.315\", \"marker\": {\"color\": \"forestgreen\"}, \"name\": \"10.315\", \"showlegend\": false, \"x\": [\"2017-02-01\", \"2018-02-01\"], \"y\": [4.0, 3.0], \"type\": \"scatter\", \"uid\": \"236d689f-fd67-11e8-b0b2-b46bfca2d37e\", \"xaxis\": \"x38\", \"yaxis\": \"y38\"}, {\"legendgroup\": \"10.550\", \"marker\": {\"color\": \"paleturquoise\"}, \"name\": \"10.550\", \"showlegend\": false, \"x\": [\"2017-02-01\", \"2017-06-01\", \"2017-09-01\", \"2017-10-01\", \"2017-12-01\", \"2018-06-01\"], \"y\": [99086.0, 502364.0, 34570.0, 48570.0, 165783.0, 466586.0], \"type\": \"scatter\", \"uid\": \"236d68a0-fd67-11e8-8a19-b46bfca2d37e\", \"xaxis\": \"x37\", \"yaxis\": \"y37\"}, {\"legendgroup\": \"10.550\", \"marker\": {\"color\": \"paleturquoise\"}, \"name\": \"10.550\", \"showlegend\": false, \"x\": [\"2017-02-01\", \"2017-06-01\", \"2017-09-01\", \"2017-10-01\", \"2017-12-01\", \"2018-06-01\"], \"y\": [1.0, 2.0, 3.0, 2.0, 2.0, 1.0], \"type\": \"scatter\", \"uid\": \"236fcc5a-fd67-11e8-b2bb-b46bfca2d37e\", \"xaxis\": \"x38\", \"yaxis\": \"y38\"}, {\"legendgroup\": \"10.RD\", \"marker\": {\"color\": \"cadetblue\"}, \"name\": \"10.RD\", \"showlegend\": false, \"x\": [\"2017-02-01\", \"2017-03-01\", \"2017-11-01\", \"2018-02-01\", \"2018-03-01\", \"2018-11-01\"], \"y\": [161295.0, 55991266.0, 500237.0, 95949.0, 54746512.0, 1181724.0], \"type\": \"scatter\", \"uid\": \"236fcc5b-fd67-11e8-8633-b46bfca2d37e\", \"xaxis\": \"x37\", \"yaxis\": \"y37\"}, {\"legendgroup\": \"10.RD\", \"marker\": {\"color\": \"cadetblue\"}, \"name\": \"10.RD\", \"showlegend\": false, \"x\": [\"2017-02-01\", \"2017-03-01\", \"2017-11-01\", \"2018-02-01\", \"2018-03-01\", \"2018-11-01\"], \"y\": [65.0, 91.0, 4.0, 5.0, 117.0, 1.0], \"type\": \"scatter\", \"uid\": \"236fcc5c-fd67-11e8-87bc-b46bfca2d37e\", \"xaxis\": \"x38\", \"yaxis\": \"y38\"}, {\"legendgroup\": \"10.000\", \"marker\": {\"color\": \"mediumpurple\"}, \"name\": \"10.000\", \"showlegend\": false, \"x\": [\"2017-03-01\", \"2018-02-01\"], \"y\": [49397.0, 2867268.0], \"type\": \"scatter\", \"uid\": \"236fcc5d-fd67-11e8-b03f-b46bfca2d37e\", \"xaxis\": \"x37\", \"yaxis\": \"y37\"}, {\"legendgroup\": \"10.000\", \"marker\": {\"color\": \"mediumpurple\"}, \"name\": \"10.000\", \"showlegend\": false, \"x\": [\"2017-03-01\", \"2018-02-01\"], \"y\": [9.0, 140.0], \"type\": \"scatter\", \"uid\": \"23722ee6-fd67-11e8-a4e6-b46bfca2d37e\", \"xaxis\": \"x38\", \"yaxis\": \"y38\"}, {\"legendgroup\": \"10.10.760\", \"marker\": {\"color\": \"brown\"}, \"name\": \"10.10.760\", \"showlegend\": false, \"x\": [\"2017-03-01\", \"2017-10-01\"], \"y\": [1350000.0, 2808890.0], \"type\": \"scatter\", \"uid\": \"23722ee7-fd67-11e8-93a3-b46bfca2d37e\", \"xaxis\": \"x37\", \"yaxis\": \"y37\"}, {\"legendgroup\": \"10.10.760\", \"marker\": {\"color\": \"brown\"}, \"name\": \"10.10.760\", \"showlegend\": false, \"x\": [\"2017-03-01\", \"2017-10-01\"], \"y\": [6.0, 1.0], \"type\": \"scatter\", \"uid\": \"23722ee8-fd67-11e8-b78c-b46bfca2d37e\", \"xaxis\": \"x38\", \"yaxis\": \"y38\"}, {\"legendgroup\": \"10.173\", \"marker\": {\"color\": \"crimson\"}, \"name\": \"10.173\", \"showlegend\": false, \"x\": [\"2017-03-01\"], \"y\": [0.0], \"type\": \"scatter\", \"uid\": \"2375629e-fd67-11e8-a387-b46bfca2d37e\", \"xaxis\": \"x37\", \"yaxis\": \"y37\"}, {\"legendgroup\": \"10.173\", \"marker\": {\"color\": \"crimson\"}, \"name\": \"10.173\", \"showlegend\": false, \"x\": [\"2017-03-01\"], \"y\": [1.0], \"type\": \"scatter\", \"uid\": \"2375fe10-fd67-11e8-89c5-b46bfca2d37e\", \"xaxis\": \"x38\", \"yaxis\": \"y38\"}, {\"legendgroup\": \"10.305\", \"marker\": {\"color\": \"deeppink\"}, \"name\": \"10.305\", \"showlegend\": false, \"x\": [\"2017-03-01\", \"2018-03-01\"], \"y\": [14552.0, 674.0], \"type\": \"scatter\", \"uid\": \"23769a7a-fd67-11e8-914b-b46bfca2d37e\", \"xaxis\": \"x37\", \"yaxis\": \"y37\"}, {\"legendgroup\": \"10.305\", \"marker\": {\"color\": \"deeppink\"}, \"name\": \"10.305\", \"showlegend\": false, \"x\": [\"2017-03-01\", \"2018-03-01\"], \"y\": [3.0, 4.0], \"type\": \"scatter\", \"uid\": \"23773674-fd67-11e8-bedd-b46bfca2d37e\", \"xaxis\": \"x38\", \"yaxis\": \"y38\"}, {\"legendgroup\": \"10.553 / 555\", \"marker\": {\"color\": \"lightpink\"}, \"name\": \"10.553 / 555\", \"showlegend\": false, \"x\": [\"2017-03-01\"], \"y\": [1040924.0], \"type\": \"scatter\", \"uid\": \"23781fba-fd67-11e8-aaf4-b46bfca2d37e\", \"xaxis\": \"x37\", \"yaxis\": \"y37\"}, {\"legendgroup\": \"10.553 / 555\", \"marker\": {\"color\": \"lightpink\"}, \"name\": \"10.553 / 555\", \"showlegend\": false, \"x\": [\"2017-03-01\"], \"y\": [1.0], \"type\": \"scatter\", \"uid\": \"23793110-fd67-11e8-9800-b46bfca2d37e\", \"xaxis\": \"x38\", \"yaxis\": \"y38\"}, {\"legendgroup\": \"10.586\", \"marker\": {\"color\": \"chartreuse\"}, \"name\": \"10.586\", \"showlegend\": false, \"x\": [\"2017-03-01\", \"2018-03-01\"], \"y\": [153100.0, 126729.0], \"type\": \"scatter\", \"uid\": \"2379a640-fd67-11e8-9199-b46bfca2d37e\", \"xaxis\": \"x37\", \"yaxis\": \"y37\"}, {\"legendgroup\": \"10.586\", \"marker\": {\"color\": \"chartreuse\"}, \"name\": \"10.586\", \"showlegend\": false, \"x\": [\"2017-03-01\", \"2018-03-01\"], \"y\": [4.0, 1.0], \"type\": \"scatter\", \"uid\": \"237a6ada-fd67-11e8-8f86-b46bfca2d37e\", \"xaxis\": \"x38\", \"yaxis\": \"y38\"}, {\"legendgroup\": \"10.598\", \"marker\": {\"color\": \"cyan\"}, \"name\": \"10.598\", \"showlegend\": false, \"x\": [\"2017-03-01\", \"2018-03-01\"], \"y\": [842483.0, 532434.0], \"type\": \"scatter\", \"uid\": \"237aa60c-fd67-11e8-8e1e-b46bfca2d37e\", \"xaxis\": \"x37\", \"yaxis\": \"y37\"}, {\"legendgroup\": \"10.598\", \"marker\": {\"color\": \"cyan\"}, \"name\": \"10.598\", \"showlegend\": false, \"x\": [\"2017-03-01\", \"2018-03-01\"], \"y\": [1.0, 1.0], \"type\": \"scatter\", \"uid\": \"237aa60d-fd67-11e8-97bc-b46bfca2d37e\", \"xaxis\": \"x38\", \"yaxis\": \"y38\"}, {\"legendgroup\": \"10.673\", \"marker\": {\"color\": \"darksalmon\"}, \"name\": \"10.673\", \"showlegend\": false, \"x\": [\"2017-03-01\"], \"y\": [9199.0], \"type\": \"scatter\", \"uid\": \"237aa60e-fd67-11e8-a1de-b46bfca2d37e\", \"xaxis\": \"x37\", \"yaxis\": \"y37\"}, {\"legendgroup\": \"10.673\", \"marker\": {\"color\": \"darksalmon\"}, \"name\": \"10.673\", \"showlegend\": false, \"x\": [\"2017-03-01\"], \"y\": [1.0], \"type\": \"scatter\", \"uid\": \"237aa60f-fd67-11e8-b9f3-b46bfca2d37e\", \"xaxis\": \"x38\", \"yaxis\": \"y38\"}, {\"legendgroup\": \"10.688\", \"marker\": {\"color\": \"dimgray\"}, \"name\": \"10.688\", \"showlegend\": false, \"x\": [\"2017-03-01\", \"2017-08-01\", \"2018-02-01\"], \"y\": [21468.0, 507756.0, 3084976.0], \"type\": \"scatter\", \"uid\": \"238c9ffa-fd67-11e8-b087-b46bfca2d37e\", \"xaxis\": \"x37\", \"yaxis\": \"y37\"}, {\"legendgroup\": \"10.688\", \"marker\": {\"color\": \"dimgray\"}, \"name\": \"10.688\", \"showlegend\": false, \"x\": [\"2017-03-01\", \"2017-08-01\", \"2018-02-01\"], \"y\": [1.0, 1.0, 1.0], \"type\": \"scatter\", \"uid\": \"238c9ffb-fd67-11e8-acfc-b46bfca2d37e\", \"xaxis\": \"x38\", \"yaxis\": \"y38\"}, {\"legendgroup\": \"10.769\", \"marker\": {\"color\": \"magenta\"}, \"name\": \"10.769\", \"showlegend\": false, \"x\": [\"2017-03-01\", \"2017-04-01\", \"2018-10-01\"], \"y\": [547307.0, 49224.0, 113534.0], \"type\": \"scatter\", \"uid\": \"238f3086-fd67-11e8-a86c-b46bfca2d37e\", \"xaxis\": \"x37\", \"yaxis\": \"y37\"}, {\"legendgroup\": \"10.769\", \"marker\": {\"color\": \"magenta\"}, \"name\": \"10.769\", \"showlegend\": false, \"x\": [\"2017-03-01\", \"2017-04-01\", \"2018-10-01\"], \"y\": [5.0, 1.0, 1.0], \"type\": \"scatter\", \"uid\": \"238fccbe-fd67-11e8-8475-b46bfca2d37e\", \"xaxis\": \"x38\", \"yaxis\": \"y38\"}, {\"legendgroup\": \"10.Rural Development\", \"marker\": {\"color\": \"chartreuse\"}, \"name\": \"10.Rural Development\", \"showlegend\": false, \"x\": [\"2017-03-01\"], \"y\": [3993000.0], \"type\": \"scatter\", \"uid\": \"239068e6-fd67-11e8-a30f-b46bfca2d37e\", \"xaxis\": \"x37\", \"yaxis\": \"y37\"}, {\"legendgroup\": \"10.Rural Development\", \"marker\": {\"color\": \"chartreuse\"}, \"name\": \"10.Rural Development\", \"showlegend\": false, \"x\": [\"2017-03-01\"], \"y\": [4.0], \"type\": \"scatter\", \"uid\": \"23917a7a-fd67-11e8-9f01-b46bfca2d37e\", \"xaxis\": \"x38\", \"yaxis\": \"y38\"}, {\"legendgroup\": \"10.787\", \"marker\": {\"color\": \"khaki\"}, \"name\": \"10.787\", \"showlegend\": false, \"x\": [\"2017-04-01\", \"2017-06-01\", \"2018-01-01\", \"2018-07-01\", \"2018-08-01\"], \"y\": [5139351.0, 4806067.0, 300288.0, 4839166.0, 4805585.0], \"type\": \"scatter\", \"uid\": \"23923e12-fd67-11e8-8487-b46bfca2d37e\", \"xaxis\": \"x37\", \"yaxis\": \"y37\"}, {\"legendgroup\": \"10.787\", \"marker\": {\"color\": \"khaki\"}, \"name\": \"10.787\", \"showlegend\": false, \"x\": [\"2017-04-01\", \"2017-06-01\", \"2018-01-01\", \"2018-07-01\", \"2018-08-01\"], \"y\": [4.0, 3.0, 8.0, 4.0, 8.0], \"type\": \"scatter\", \"uid\": \"2393011e-fd67-11e8-ab58-b46bfca2d37e\", \"xaxis\": \"x38\", \"yaxis\": \"y38\"}, {\"legendgroup\": \"10.7CFR 225\", \"marker\": {\"color\": \"sandybrown\"}, \"name\": \"10.7CFR 225\", \"showlegend\": false, \"x\": [\"2017-04-01\"], \"y\": [919382.0], \"type\": \"scatter\", \"uid\": \"2393c452-fd67-11e8-939f-b46bfca2d37e\", \"xaxis\": \"x37\", \"yaxis\": \"y37\"}, {\"legendgroup\": \"10.7CFR 225\", \"marker\": {\"color\": \"sandybrown\"}, \"name\": \"10.7CFR 225\", \"showlegend\": false, \"x\": [\"2017-04-01\"], \"y\": [4.0], \"type\": \"scatter\", \"uid\": \"23946082-fd67-11e8-9e4f-b46bfca2d37e\", \"xaxis\": \"x38\", \"yaxis\": \"y38\"}, {\"legendgroup\": \"10.901\", \"marker\": {\"color\": \"lightpink\"}, \"name\": \"10.901\", \"showlegend\": false, \"x\": [\"2017-07-01\", \"2018-05-01\"], \"y\": [3473.0, 801.0], \"type\": \"scatter\", \"uid\": \"2394fe36-fd67-11e8-97a3-b46bfca2d37e\", \"xaxis\": \"x37\", \"yaxis\": \"y37\"}, {\"legendgroup\": \"10.901\", \"marker\": {\"color\": \"lightpink\"}, \"name\": \"10.901\", \"showlegend\": false, \"x\": [\"2017-07-01\", \"2018-05-01\"], \"y\": [2.0, 1.0], \"type\": \"scatter\", \"uid\": \"23959a62-fd67-11e8-af10-b46bfca2d37e\", \"xaxis\": \"x38\", \"yaxis\": \"y38\"}, {\"legendgroup\": \"10.052\", \"marker\": {\"color\": \"olive\"}, \"name\": \"10.052\", \"showlegend\": false, \"x\": [\"2017-09-01\", \"2018-10-01\"], \"y\": [3421083.0, 3310208.0], \"type\": \"scatter\", \"uid\": \"239684ba-fd67-11e8-8c67-b46bfca2d37e\", \"xaxis\": \"x37\", \"yaxis\": \"y37\"}, {\"legendgroup\": \"10.052\", \"marker\": {\"color\": \"olive\"}, \"name\": \"10.052\", \"showlegend\": false, \"x\": [\"2017-09-01\", \"2018-10-01\"], \"y\": [2.0, 2.0], \"type\": \"scatter\", \"uid\": \"2396de0a-fd67-11e8-9ef1-b46bfca2d37e\", \"xaxis\": \"x38\", \"yaxis\": \"y38\"}, {\"legendgroup\": \"10.588\", \"marker\": {\"color\": \"chocolate\"}, \"name\": \"10.588\", \"showlegend\": false, \"x\": [\"2017-09-01\", \"2017-11-01\", \"2018-09-01\"], \"y\": [1088956.0, 42501.0, 1330520.0], \"type\": \"scatter\", \"uid\": \"2396de0b-fd67-11e8-ad6d-b46bfca2d37e\", \"xaxis\": \"x37\", \"yaxis\": \"y37\"}, {\"legendgroup\": \"10.588\", \"marker\": {\"color\": \"chocolate\"}, \"name\": \"10.588\", \"showlegend\": false, \"x\": [\"2017-09-01\", \"2017-11-01\", \"2018-09-01\"], \"y\": [1.0, 1.0, 1.0], \"type\": \"scatter\", \"uid\": \"2396de0c-fd67-11e8-88c5-b46bfca2d37e\", \"xaxis\": \"x38\", \"yaxis\": \"y38\"}, {\"legendgroup\": \"10.781\", \"marker\": {\"color\": \"lime\"}, \"name\": \"10.781\", \"showlegend\": false, \"x\": [\"2018-01-01\", \"2018-07-01\"], \"y\": [3492019.0, 544878.0], \"type\": \"scatter\", \"uid\": \"2396de0d-fd67-11e8-8542-b46bfca2d37e\", \"xaxis\": \"x37\", \"yaxis\": \"y37\"}, {\"legendgroup\": \"10.781\", \"marker\": {\"color\": \"lime\"}, \"name\": \"10.781\", \"showlegend\": false, \"x\": [\"2018-01-01\", \"2018-07-01\"], \"y\": [5.0, 3.0], \"type\": \"scatter\", \"uid\": \"2399411a-fd67-11e8-ab0c-b46bfca2d37e\", \"xaxis\": \"x38\", \"yaxis\": \"y38\"}, {\"legendgroup\": \"10.U50\", \"marker\": {\"color\": \"purple\"}, \"name\": \"10.U50\", \"showlegend\": false, \"x\": [\"2018-01-01\"], \"y\": [56254.0], \"type\": \"scatter\", \"uid\": \"2399411b-fd67-11e8-8b27-b46bfca2d37e\", \"xaxis\": \"x37\", \"yaxis\": \"y37\"}, {\"legendgroup\": \"10.U50\", \"marker\": {\"color\": \"purple\"}, \"name\": \"10.U50\", \"showlegend\": false, \"x\": [\"2018-01-01\"], \"y\": [3.0], \"type\": \"scatter\", \"uid\": \"2399411c-fd67-11e8-a74a-b46bfca2d37e\", \"xaxis\": \"x38\", \"yaxis\": \"y38\"}, {\"legendgroup\": \"10.U51\", \"marker\": {\"color\": \"lawngreen\"}, \"name\": \"10.U51\", \"showlegend\": false, \"x\": [\"2018-01-01\"], \"y\": [9488.0], \"type\": \"scatter\", \"uid\": \"2399411d-fd67-11e8-9e6f-b46bfca2d37e\", \"xaxis\": \"x37\", \"yaxis\": \"y37\"}, {\"legendgroup\": \"10.U51\", \"marker\": {\"color\": \"lawngreen\"}, \"name\": \"10.U51\", \"showlegend\": false, \"x\": [\"2018-01-01\"], \"y\": [3.0], \"type\": \"scatter\", \"uid\": \"239ba428-fd67-11e8-b2ea-b46bfca2d37e\", \"xaxis\": \"x38\", \"yaxis\": \"y38\"}, {\"legendgroup\": \"10.U52\", \"marker\": {\"color\": \"salmon\"}, \"name\": \"10.U52\", \"showlegend\": false, \"x\": [\"2018-01-01\"], \"y\": [554.0], \"type\": \"scatter\", \"uid\": \"239ba429-fd67-11e8-a76e-b46bfca2d37e\", \"xaxis\": \"x37\", \"yaxis\": \"y37\"}, {\"legendgroup\": \"10.U52\", \"marker\": {\"color\": \"salmon\"}, \"name\": \"10.U52\", \"showlegend\": false, \"x\": [\"2018-01-01\"], \"y\": [3.0], \"type\": \"scatter\", \"uid\": \"239ba42a-fd67-11e8-b63c-b46bfca2d37e\", \"xaxis\": \"x38\", \"yaxis\": \"y38\"}, {\"legendgroup\": \"10.U53\", \"marker\": {\"color\": \"lightblue\"}, \"name\": \"10.U53\", \"showlegend\": false, \"x\": [\"2018-01-01\"], \"y\": [52017.0], \"type\": \"scatter\", \"uid\": \"239ba42b-fd67-11e8-a37a-b46bfca2d37e\", \"xaxis\": \"x37\", \"yaxis\": \"y37\"}, {\"legendgroup\": \"10.U53\", \"marker\": {\"color\": \"lightblue\"}, \"name\": \"10.U53\", \"showlegend\": false, \"x\": [\"2018-01-01\"], \"y\": [3.0], \"type\": \"scatter\", \"uid\": \"239e0652-fd67-11e8-b304-b46bfca2d37e\", \"xaxis\": \"x38\", \"yaxis\": \"y38\"}, {\"legendgroup\": \"10.U54\", \"marker\": {\"color\": \"lightcoral\"}, \"name\": \"10.U54\", \"showlegend\": false, \"x\": [\"2018-01-01\"], \"y\": [13221.0], \"type\": \"scatter\", \"uid\": \"239e0653-fd67-11e8-97a9-b46bfca2d37e\", \"xaxis\": \"x37\", \"yaxis\": \"y37\"}, {\"legendgroup\": \"10.U54\", \"marker\": {\"color\": \"lightcoral\"}, \"name\": \"10.U54\", \"showlegend\": false, \"x\": [\"2018-01-01\"], \"y\": [3.0], \"type\": \"scatter\", \"uid\": \"239e0654-fd67-11e8-a8d4-b46bfca2d37e\", \"xaxis\": \"x38\", \"yaxis\": \"y38\"}, {\"legendgroup\": \"10.U55\", \"marker\": {\"color\": \"mediumvioletred\"}, \"name\": \"10.U55\", \"showlegend\": false, \"x\": [\"2018-01-01\"], \"y\": [5290.0], \"type\": \"scatter\", \"uid\": \"239e0655-fd67-11e8-85cb-b46bfca2d37e\", \"xaxis\": \"x37\", \"yaxis\": \"y37\"}, {\"legendgroup\": \"10.U55\", \"marker\": {\"color\": \"mediumvioletred\"}, \"name\": \"10.U55\", \"showlegend\": false, \"x\": [\"2018-01-01\"], \"y\": [3.0], \"type\": \"scatter\", \"uid\": \"23a0677a-fd67-11e8-ab0d-b46bfca2d37e\", \"xaxis\": \"x38\", \"yaxis\": \"y38\"}, {\"legendgroup\": \"10.U56\", \"marker\": {\"color\": \"lightgoldenrodyellow\"}, \"name\": \"10.U56\", \"showlegend\": false, \"x\": [\"2018-01-01\"], \"y\": [29626.0], \"type\": \"scatter\", \"uid\": \"23a0677b-fd67-11e8-be8f-b46bfca2d37e\", \"xaxis\": \"x37\", \"yaxis\": \"y37\"}, {\"legendgroup\": \"10.U56\", \"marker\": {\"color\": \"lightgoldenrodyellow\"}, \"name\": \"10.U56\", \"showlegend\": false, \"x\": [\"2018-01-01\"], \"y\": [3.0], \"type\": \"scatter\", \"uid\": \"23a0677c-fd67-11e8-9ca5-b46bfca2d37e\", \"xaxis\": \"x38\", \"yaxis\": \"y38\"}, {\"legendgroup\": \"10.U57\", \"marker\": {\"color\": \"paleturquoise\"}, \"name\": \"10.U57\", \"showlegend\": false, \"x\": [\"2018-01-01\"], \"y\": [26086.0], \"type\": \"scatter\", \"uid\": \"23a0677d-fd67-11e8-bc97-b46bfca2d37e\", \"xaxis\": \"x37\", \"yaxis\": \"y37\"}, {\"legendgroup\": \"10.U57\", \"marker\": {\"color\": \"paleturquoise\"}, \"name\": \"10.U57\", \"showlegend\": false, \"x\": [\"2018-01-01\"], \"y\": [3.0], \"type\": \"scatter\", \"uid\": \"23a31eb0-fd67-11e8-8d84-b46bfca2d37e\", \"xaxis\": \"x38\", \"yaxis\": \"y38\"}, {\"legendgroup\": \"10.U58\", \"marker\": {\"color\": \"mediumaquamarine\"}, \"name\": \"10.U58\", \"showlegend\": false, \"x\": [\"2018-01-01\"], \"y\": [43789.0], \"type\": \"scatter\", \"uid\": \"23a3bae2-fd67-11e8-8c45-b46bfca2d37e\", \"xaxis\": \"x37\", \"yaxis\": \"y37\"}, {\"legendgroup\": \"10.U58\", \"marker\": {\"color\": \"mediumaquamarine\"}, \"name\": \"10.U58\", \"showlegend\": false, \"x\": [\"2018-01-01\"], \"y\": [3.0], \"type\": \"scatter\", \"uid\": \"23a47e0c-fd67-11e8-bcc8-b46bfca2d37e\", \"xaxis\": \"x38\", \"yaxis\": \"y38\"}, {\"legendgroup\": \"10.U59\", \"marker\": {\"color\": \"lightgreen\"}, \"name\": \"10.U59\", \"showlegend\": false, \"x\": [\"2018-01-01\"], \"y\": [4857.0], \"type\": \"scatter\", \"uid\": \"23a51ba4-fd67-11e8-bb2d-b46bfca2d37e\", \"xaxis\": \"x37\", \"yaxis\": \"y37\"}, {\"legendgroup\": \"10.U59\", \"marker\": {\"color\": \"lightgreen\"}, \"name\": \"10.U59\", \"showlegend\": false, \"x\": [\"2018-01-01\"], \"y\": [3.0], \"type\": \"scatter\", \"uid\": \"23a5be64-fd67-11e8-b4dd-b46bfca2d37e\", \"xaxis\": \"x38\", \"yaxis\": \"y38\"}, {\"legendgroup\": \"10.U60\", \"marker\": {\"color\": \"lightpink\"}, \"name\": \"10.U60\", \"showlegend\": false, \"x\": [\"2018-01-01\"], \"y\": [24000.0], \"type\": \"scatter\", \"uid\": \"23a5be65-fd67-11e8-b5e0-b46bfca2d37e\", \"xaxis\": \"x37\", \"yaxis\": \"y37\"}, {\"legendgroup\": \"10.U60\", \"marker\": {\"color\": \"lightpink\"}, \"name\": \"10.U60\", \"showlegend\": false, \"x\": [\"2018-01-01\"], \"y\": [3.0], \"type\": \"scatter\", \"uid\": \"23a5be66-fd67-11e8-91af-b46bfca2d37e\", \"xaxis\": \"x38\", \"yaxis\": \"y38\"}, {\"legendgroup\": \"10.U61\", \"marker\": {\"color\": \"lightsalmon\"}, \"name\": \"10.U61\", \"showlegend\": false, \"x\": [\"2018-01-01\"], \"y\": [24913.0], \"type\": \"scatter\", \"uid\": \"23a5be67-fd67-11e8-bb1e-b46bfca2d37e\", \"xaxis\": \"x37\", \"yaxis\": \"y37\"}, {\"legendgroup\": \"10.U61\", \"marker\": {\"color\": \"lightsalmon\"}, \"name\": \"10.U61\", \"showlegend\": false, \"x\": [\"2018-01-01\"], \"y\": [3.0], \"type\": \"scatter\", \"uid\": \"23a82218-fd67-11e8-a373-b46bfca2d37e\", \"xaxis\": \"x38\", \"yaxis\": \"y38\"}, {\"legendgroup\": \"10.U62\", \"marker\": {\"color\": \"lightseagreen\"}, \"name\": \"10.U62\", \"showlegend\": false, \"x\": [\"2018-01-01\"], \"y\": [29013.0], \"type\": \"scatter\", \"uid\": \"23a82219-fd67-11e8-a164-b46bfca2d37e\", \"xaxis\": \"x37\", \"yaxis\": \"y37\"}, {\"legendgroup\": \"10.U62\", \"marker\": {\"color\": \"lightseagreen\"}, \"name\": \"10.U62\", \"showlegend\": false, \"x\": [\"2018-01-01\"], \"y\": [3.0], \"type\": \"scatter\", \"uid\": \"23a8221a-fd67-11e8-a12c-b46bfca2d37e\", \"xaxis\": \"x38\", \"yaxis\": \"y38\"}, {\"legendgroup\": \"10.776\", \"marker\": {\"color\": \"hotpink\"}, \"name\": \"10.776\", \"showlegend\": false, \"x\": [\"2018-06-01\"], \"y\": [1095000.0], \"type\": \"scatter\", \"uid\": \"23aa8476-fd67-11e8-bf08-b46bfca2d37e\", \"xaxis\": \"x37\", \"yaxis\": \"y37\"}, {\"legendgroup\": \"10.776\", \"marker\": {\"color\": \"hotpink\"}, \"name\": \"10.776\", \"showlegend\": false, \"x\": [\"2018-06-01\"], \"y\": [1.0], \"type\": \"scatter\", \"uid\": \"23aa8477-fd67-11e8-874a-b46bfca2d37e\", \"xaxis\": \"x38\", \"yaxis\": \"y38\"}, {\"legendgroup\": \"10.u00\", \"marker\": {\"color\": \"midnightblue\"}, \"name\": \"10.u00\", \"showlegend\": false, \"x\": [\"2018-07-01\"], \"y\": [345202.0], \"type\": \"scatter\", \"uid\": \"23aa8478-fd67-11e8-80d8-b46bfca2d37e\", \"xaxis\": \"x37\", \"yaxis\": \"y37\"}, {\"legendgroup\": \"10.u00\", \"marker\": {\"color\": \"midnightblue\"}, \"name\": \"10.u00\", \"showlegend\": false, \"x\": [\"2018-07-01\"], \"y\": [1.0], \"type\": \"scatter\", \"uid\": \"23aa8479-fd67-11e8-85ee-b46bfca2d37e\", \"xaxis\": \"x38\", \"yaxis\": \"y38\"}, {\"legendgroup\": \"10.u01\", \"marker\": {\"color\": \"lightsteelblue\"}, \"name\": \"10.u01\", \"showlegend\": false, \"x\": [\"2018-08-01\"], \"y\": [920620.0], \"type\": \"scatter\", \"uid\": \"23ace71a-fd67-11e8-b7bf-b46bfca2d37e\", \"xaxis\": \"x37\", \"yaxis\": \"y37\"}, {\"legendgroup\": \"10.u01\", \"marker\": {\"color\": \"lightsteelblue\"}, \"name\": \"10.u01\", \"showlegend\": false, \"x\": [\"2018-08-01\"], \"y\": [1.0], \"type\": \"scatter\", \"uid\": \"23ace71b-fd67-11e8-a32c-b46bfca2d37e\", \"xaxis\": \"x38\", \"yaxis\": \"y38\"}, {\"legendgroup\": \"10.780\", \"marker\": {\"color\": \"indigo\"}, \"name\": \"10.780\", \"showlegend\": false, \"x\": [\"2018-09-01\"], \"y\": [4593630.0], \"type\": \"scatter\", \"uid\": \"23ace71c-fd67-11e8-a533-b46bfca2d37e\", \"xaxis\": \"x37\", \"yaxis\": \"y37\"}, {\"legendgroup\": \"10.780\", \"marker\": {\"color\": \"indigo\"}, \"name\": \"10.780\", \"showlegend\": false, \"x\": [\"2018-09-01\"], \"y\": [3.0], \"type\": \"scatter\", \"uid\": \"23ace71d-fd67-11e8-b452-b46bfca2d37e\", \"xaxis\": \"x38\", \"yaxis\": \"y38\"}, {\"legendgroup\": \"10.U99\", \"marker\": {\"color\": \"lightslategray\"}, \"name\": \"10.U99\", \"showlegend\": false, \"x\": [\"2018-09-01\"], \"y\": [604.0], \"type\": \"scatter\", \"uid\": \"23af4840-fd67-11e8-ac86-b46bfca2d37e\", \"xaxis\": \"x37\", \"yaxis\": \"y37\"}, {\"legendgroup\": \"10.U99\", \"marker\": {\"color\": \"lightslategray\"}, \"name\": \"10.U99\", \"showlegend\": false, \"x\": [\"2018-09-01\"], \"y\": [1.0], \"type\": \"scatter\", \"uid\": \"23af4841-fd67-11e8-85c7-b46bfca2d37e\", \"xaxis\": \"x38\", \"yaxis\": \"y38\"}], {\"annotations\": [{\"font\": {\"size\": 16}, \"showarrow\": false, \"text\": \"AMS\", \"x\": 0.225, \"xanchor\": \"center\", \"xref\": \"paper\", \"y\": 1.0000000000000002, \"yanchor\": \"bottom\", \"yref\": \"paper\"}, {\"font\": {\"size\": 16}, \"showarrow\": false, \"text\": \"AMS\", \"x\": 0.775, \"xanchor\": \"center\", \"xref\": \"paper\", \"y\": 1.0000000000000002, \"yanchor\": \"bottom\", \"yref\": \"paper\"}, {\"font\": {\"size\": 16}, \"showarrow\": false, \"text\": \"APHIS\", \"x\": 0.225, \"xanchor\": \"center\", \"xref\": \"paper\", \"y\": 0.9459833795013851, \"yanchor\": \"bottom\", \"yref\": \"paper\"}, {\"font\": {\"size\": 16}, \"showarrow\": false, \"text\": \"APHIS\", \"x\": 0.775, \"xanchor\": \"center\", \"xref\": \"paper\", \"y\": 0.9459833795013851, \"yanchor\": \"bottom\", \"yref\": \"paper\"}, {\"font\": {\"size\": 16}, \"showarrow\": false, \"text\": \"ARS\", \"x\": 0.225, \"xanchor\": \"center\", \"xref\": \"paper\", \"y\": 0.8919667590027702, \"yanchor\": \"bottom\", \"yref\": \"paper\"}, {\"font\": {\"size\": 16}, \"showarrow\": false, \"text\": \"ARS\", \"x\": 0.775, \"xanchor\": \"center\", \"xref\": \"paper\", \"y\": 0.8919667590027702, \"yanchor\": \"bottom\", \"yref\": \"paper\"}, {\"font\": {\"size\": 16}, \"showarrow\": false, \"text\": \"ASDM\", \"x\": 0.225, \"xanchor\": \"center\", \"xref\": \"paper\", \"y\": 0.8379501385041552, \"yanchor\": \"bottom\", \"yref\": \"paper\"}, {\"font\": {\"size\": 16}, \"showarrow\": false, \"text\": \"ASDM\", \"x\": 0.775, \"xanchor\": \"center\", \"xref\": \"paper\", \"y\": 0.8379501385041552, \"yanchor\": \"bottom\", \"yref\": \"paper\"}, {\"font\": {\"size\": 16}, \"showarrow\": false, \"text\": \"ERS\", \"x\": 0.225, \"xanchor\": \"center\", \"xref\": \"paper\", \"y\": 0.7839335180055402, \"yanchor\": \"bottom\", \"yref\": \"paper\"}, {\"font\": {\"size\": 16}, \"showarrow\": false, \"text\": \"ERS\", \"x\": 0.775, \"xanchor\": \"center\", \"xref\": \"paper\", \"y\": 0.7839335180055402, \"yanchor\": \"bottom\", \"yref\": \"paper\"}, {\"font\": {\"size\": 16}, \"showarrow\": false, \"text\": \"FAS\", \"x\": 0.225, \"xanchor\": \"center\", \"xref\": \"paper\", \"y\": 0.7299168975069252, \"yanchor\": \"bottom\", \"yref\": \"paper\"}, {\"font\": {\"size\": 16}, \"showarrow\": false, \"text\": \"FAS\", \"x\": 0.775, \"xanchor\": \"center\", \"xref\": \"paper\", \"y\": 0.7299168975069252, \"yanchor\": \"bottom\", \"yref\": \"paper\"}, {\"font\": {\"size\": 16}, \"showarrow\": false, \"text\": \"FNS\", \"x\": 0.225, \"xanchor\": \"center\", \"xref\": \"paper\", \"y\": 0.6759002770083102, \"yanchor\": \"bottom\", \"yref\": \"paper\"}, {\"font\": {\"size\": 16}, \"showarrow\": false, \"text\": \"FNS\", \"x\": 0.775, \"xanchor\": \"center\", \"xref\": \"paper\", \"y\": 0.6759002770083102, \"yanchor\": \"bottom\", \"yref\": \"paper\"}, {\"font\": {\"size\": 16}, \"showarrow\": false, \"text\": \"FS\", \"x\": 0.225, \"xanchor\": \"center\", \"xref\": \"paper\", \"y\": 0.6218836565096953, \"yanchor\": \"bottom\", \"yref\": \"paper\"}, {\"font\": {\"size\": 16}, \"showarrow\": false, \"text\": \"FS\", \"x\": 0.775, \"xanchor\": \"center\", \"xref\": \"paper\", \"y\": 0.6218836565096953, \"yanchor\": \"bottom\", \"yref\": \"paper\"}, {\"font\": {\"size\": 16}, \"showarrow\": false, \"text\": \"FSA\", \"x\": 0.225, \"xanchor\": \"center\", \"xref\": \"paper\", \"y\": 0.5678670360110804, \"yanchor\": \"bottom\", \"yref\": \"paper\"}, {\"font\": {\"size\": 16}, \"showarrow\": false, \"text\": \"FSA\", \"x\": 0.775, \"xanchor\": \"center\", \"xref\": \"paper\", \"y\": 0.5678670360110804, \"yanchor\": \"bottom\", \"yref\": \"paper\"}, {\"font\": {\"size\": 16}, \"showarrow\": false, \"text\": \"FSIS\", \"x\": 0.225, \"xanchor\": \"center\", \"xref\": \"paper\", \"y\": 0.5138504155124654, \"yanchor\": \"bottom\", \"yref\": \"paper\"}, {\"font\": {\"size\": 16}, \"showarrow\": false, \"text\": \"FSIS\", \"x\": 0.775, \"xanchor\": \"center\", \"xref\": \"paper\", \"y\": 0.5138504155124654, \"yanchor\": \"bottom\", \"yref\": \"paper\"}, {\"font\": {\"size\": 16}, \"showarrow\": false, \"text\": \"NASS\", \"x\": 0.225, \"xanchor\": \"center\", \"xref\": \"paper\", \"y\": 0.45983379501385047, \"yanchor\": \"bottom\", \"yref\": \"paper\"}, {\"font\": {\"size\": 16}, \"showarrow\": false, \"text\": \"NASS\", \"x\": 0.775, \"xanchor\": \"center\", \"xref\": \"paper\", \"y\": 0.45983379501385047, \"yanchor\": \"bottom\", \"yref\": \"paper\"}, {\"font\": {\"size\": 16}, \"showarrow\": false, \"text\": \"NIFA\", \"x\": 0.225, \"xanchor\": \"center\", \"xref\": \"paper\", \"y\": 0.4058171745152355, \"yanchor\": \"bottom\", \"yref\": \"paper\"}, {\"font\": {\"size\": 16}, \"showarrow\": false, \"text\": \"NIFA\", \"x\": 0.775, \"xanchor\": \"center\", \"xref\": \"paper\", \"y\": 0.4058171745152355, \"yanchor\": \"bottom\", \"yref\": \"paper\"}, {\"font\": {\"size\": 16}, \"showarrow\": false, \"text\": \"NRCS\", \"x\": 0.225, \"xanchor\": \"center\", \"xref\": \"paper\", \"y\": 0.3518005540166205, \"yanchor\": \"bottom\", \"yref\": \"paper\"}, {\"font\": {\"size\": 16}, \"showarrow\": false, \"text\": \"NRCS\", \"x\": 0.775, \"xanchor\": \"center\", \"xref\": \"paper\", \"y\": 0.3518005540166205, \"yanchor\": \"bottom\", \"yref\": \"paper\"}, {\"font\": {\"size\": 16}, \"showarrow\": false, \"text\": \"OCE\", \"x\": 0.225, \"xanchor\": \"center\", \"xref\": \"paper\", \"y\": 0.29778393351800553, \"yanchor\": \"bottom\", \"yref\": \"paper\"}, {\"font\": {\"size\": 16}, \"showarrow\": false, \"text\": \"OCE\", \"x\": 0.775, \"xanchor\": \"center\", \"xref\": \"paper\", \"y\": 0.29778393351800553, \"yanchor\": \"bottom\", \"yref\": \"paper\"}, {\"font\": {\"size\": 16}, \"showarrow\": false, \"text\": \"RBCS\", \"x\": 0.225, \"xanchor\": \"center\", \"xref\": \"paper\", \"y\": 0.24376731301939059, \"yanchor\": \"bottom\", \"yref\": \"paper\"}, {\"font\": {\"size\": 16}, \"showarrow\": false, \"text\": \"RBCS\", \"x\": 0.775, \"xanchor\": \"center\", \"xref\": \"paper\", \"y\": 0.24376731301939059, \"yanchor\": \"bottom\", \"yref\": \"paper\"}, {\"font\": {\"size\": 16}, \"showarrow\": false, \"text\": \"RHS\", \"x\": 0.225, \"xanchor\": \"center\", \"xref\": \"paper\", \"y\": 0.18975069252077564, \"yanchor\": \"bottom\", \"yref\": \"paper\"}, {\"font\": {\"size\": 16}, \"showarrow\": false, \"text\": \"RHS\", \"x\": 0.775, \"xanchor\": \"center\", \"xref\": \"paper\", \"y\": 0.18975069252077564, \"yanchor\": \"bottom\", \"yref\": \"paper\"}, {\"font\": {\"size\": 16}, \"showarrow\": false, \"text\": \"RMA\", \"x\": 0.225, \"xanchor\": \"center\", \"xref\": \"paper\", \"y\": 0.13573407202216067, \"yanchor\": \"bottom\", \"yref\": \"paper\"}, {\"font\": {\"size\": 16}, \"showarrow\": false, \"text\": \"RMA\", \"x\": 0.775, \"xanchor\": \"center\", \"xref\": \"paper\", \"y\": 0.13573407202216067, \"yanchor\": \"bottom\", \"yref\": \"paper\"}, {\"font\": {\"size\": 16}, \"showarrow\": false, \"text\": \"RUS\", \"x\": 0.225, \"xanchor\": \"center\", \"xref\": \"paper\", \"y\": 0.0817174515235457, \"yanchor\": \"bottom\", \"yref\": \"paper\"}, {\"font\": {\"size\": 16}, \"showarrow\": false, \"text\": \"RUS\", \"x\": 0.775, \"xanchor\": \"center\", \"xref\": \"paper\", \"y\": 0.0817174515235457, \"yanchor\": \"bottom\", \"yref\": \"paper\"}, {\"font\": {\"size\": 16}, \"showarrow\": false, \"text\": \"UNK\", \"x\": 0.225, \"xanchor\": \"center\", \"xref\": \"paper\", \"y\": 0.02770083102493075, \"yanchor\": \"bottom\", \"yref\": \"paper\"}, {\"font\": {\"size\": 16}, \"showarrow\": false, \"text\": \"UNK\", \"x\": 0.775, \"xanchor\": \"center\", \"xref\": \"paper\", \"y\": 0.02770083102493075, \"yanchor\": \"bottom\", \"yref\": \"paper\"}], \"xaxis\": {\"anchor\": \"y\", \"domain\": [0.0, 0.45]}, \"yaxis\": {\"anchor\": \"x\", \"domain\": [0.9722991689750694, 1.0], \"title\": \"Total Award ($)\"}, \"xaxis2\": {\"anchor\": \"y2\", \"domain\": [0.55, 1.0]}, \"yaxis2\": {\"anchor\": \"x2\", \"domain\": [0.9722991689750694, 1.0], \"title\": \"Number of Findings\"}, \"xaxis3\": {\"anchor\": \"y3\", \"domain\": [0.0, 0.45]}, \"yaxis3\": {\"anchor\": \"x3\", \"domain\": [0.9182825484764544, 0.9459833795013851], \"title\": \"Total Award ($)\"}, \"xaxis4\": {\"anchor\": \"y4\", \"domain\": [0.55, 1.0]}, \"yaxis4\": {\"anchor\": \"x4\", \"domain\": [0.9182825484764544, 0.9459833795013851], \"title\": \"Number of Findings\"}, \"xaxis5\": {\"anchor\": \"y5\", \"domain\": [0.0, 0.45]}, \"yaxis5\": {\"anchor\": \"x5\", \"domain\": [0.8642659279778395, 0.8919667590027702], \"title\": \"Total Award ($)\"}, \"xaxis6\": {\"anchor\": \"y6\", \"domain\": [0.55, 1.0]}, \"yaxis6\": {\"anchor\": \"x6\", \"domain\": [0.8642659279778395, 0.8919667590027702], \"title\": \"Number of Findings\"}, \"xaxis7\": {\"anchor\": \"y7\", \"domain\": [0.0, 0.45]}, \"yaxis7\": {\"anchor\": \"x7\", \"domain\": [0.8102493074792245, 0.8379501385041552], \"title\": \"Total Award ($)\"}, \"xaxis8\": {\"anchor\": \"y8\", \"domain\": [0.55, 1.0]}, \"yaxis8\": {\"anchor\": \"x8\", \"domain\": [0.8102493074792245, 0.8379501385041552], \"title\": \"Number of Findings\"}, \"xaxis9\": {\"anchor\": \"y9\", \"domain\": [0.0, 0.45]}, \"yaxis9\": {\"anchor\": \"x9\", \"domain\": [0.7562326869806095, 0.7839335180055402], \"title\": \"Total Award ($)\"}, \"xaxis10\": {\"anchor\": \"y10\", \"domain\": [0.55, 1.0]}, \"yaxis10\": {\"anchor\": \"x10\", \"domain\": [0.7562326869806095, 0.7839335180055402], \"title\": \"Number of Findings\"}, \"xaxis11\": {\"anchor\": \"y11\", \"domain\": [0.0, 0.45]}, \"yaxis11\": {\"anchor\": \"x11\", \"domain\": [0.7022160664819945, 0.7299168975069252], \"title\": \"Total Award ($)\"}, \"xaxis12\": {\"anchor\": \"y12\", \"domain\": [0.55, 1.0]}, \"yaxis12\": {\"anchor\": \"x12\", \"domain\": [0.7022160664819945, 0.7299168975069252], \"title\": \"Number of Findings\"}, \"xaxis13\": {\"anchor\": \"y13\", \"domain\": [0.0, 0.45]}, \"yaxis13\": {\"anchor\": \"x13\", \"domain\": [0.6481994459833795, 0.6759002770083102], \"title\": \"Total Award ($)\"}, \"xaxis14\": {\"anchor\": \"y14\", \"domain\": [0.55, 1.0]}, \"yaxis14\": {\"anchor\": \"x14\", \"domain\": [0.6481994459833795, 0.6759002770083102], \"title\": \"Number of Findings\"}, \"xaxis15\": {\"anchor\": \"y15\", \"domain\": [0.0, 0.45]}, \"yaxis15\": {\"anchor\": \"x15\", \"domain\": [0.5941828254847646, 0.6218836565096953], \"title\": \"Total Award ($)\"}, \"xaxis16\": {\"anchor\": \"y16\", \"domain\": [0.55, 1.0]}, \"yaxis16\": {\"anchor\": \"x16\", \"domain\": [0.5941828254847646, 0.6218836565096953], \"title\": \"Number of Findings\"}, \"xaxis17\": {\"anchor\": \"y17\", \"domain\": [0.0, 0.45]}, \"yaxis17\": {\"anchor\": \"x17\", \"domain\": [0.5401662049861496, 0.5678670360110804], \"title\": \"Total Award ($)\"}, \"xaxis18\": {\"anchor\": \"y18\", \"domain\": [0.55, 1.0]}, \"yaxis18\": {\"anchor\": \"x18\", \"domain\": [0.5401662049861496, 0.5678670360110804], \"title\": \"Number of Findings\"}, \"xaxis19\": {\"anchor\": \"y19\", \"domain\": [0.0, 0.45]}, \"yaxis19\": {\"anchor\": \"x19\", \"domain\": [0.48614958448753465, 0.5138504155124654], \"title\": \"Total Award ($)\"}, \"xaxis20\": {\"anchor\": \"y20\", \"domain\": [0.55, 1.0]}, \"yaxis20\": {\"anchor\": \"x20\", \"domain\": [0.48614958448753465, 0.5138504155124654], \"title\": \"Number of Findings\"}, \"xaxis21\": {\"anchor\": \"y21\", \"domain\": [0.0, 0.45]}, \"yaxis21\": {\"anchor\": \"x21\", \"domain\": [0.4321329639889197, 0.45983379501385047], \"title\": \"Total Award ($)\"}, \"xaxis22\": {\"anchor\": \"y22\", \"domain\": [0.55, 1.0]}, \"yaxis22\": {\"anchor\": \"x22\", \"domain\": [0.4321329639889197, 0.45983379501385047], \"title\": \"Number of Findings\"}, \"xaxis23\": {\"anchor\": \"y23\", \"domain\": [0.0, 0.45]}, \"yaxis23\": {\"anchor\": \"x23\", \"domain\": [0.37811634349030476, 0.4058171745152355], \"title\": \"Total Award ($)\"}, \"xaxis24\": {\"anchor\": \"y24\", \"domain\": [0.55, 1.0]}, \"yaxis24\": {\"anchor\": \"x24\", \"domain\": [0.37811634349030476, 0.4058171745152355], \"title\": \"Number of Findings\"}, \"xaxis25\": {\"anchor\": \"y25\", \"domain\": [0.0, 0.45]}, \"yaxis25\": {\"anchor\": \"x25\", \"domain\": [0.32409972299168976, 0.3518005540166205], \"title\": \"Total Award ($)\"}, \"xaxis26\": {\"anchor\": \"y26\", \"domain\": [0.55, 1.0]}, \"yaxis26\": {\"anchor\": \"x26\", \"domain\": [0.32409972299168976, 0.3518005540166205], \"title\": \"Number of Findings\"}, \"xaxis27\": {\"anchor\": \"y27\", \"domain\": [0.0, 0.45]}, \"yaxis27\": {\"anchor\": \"x27\", \"domain\": [0.27008310249307477, 0.29778393351800553], \"title\": \"Total Award ($)\"}, \"xaxis28\": {\"anchor\": \"y28\", \"domain\": [0.55, 1.0]}, \"yaxis28\": {\"anchor\": \"x28\", \"domain\": [0.27008310249307477, 0.29778393351800553], \"title\": \"Number of Findings\"}, \"xaxis29\": {\"anchor\": \"y29\", \"domain\": [0.0, 0.45]}, \"yaxis29\": {\"anchor\": \"x29\", \"domain\": [0.21606648199445982, 0.24376731301939059], \"title\": \"Total Award ($)\"}, \"xaxis30\": {\"anchor\": \"y30\", \"domain\": [0.55, 1.0]}, \"yaxis30\": {\"anchor\": \"x30\", \"domain\": [0.21606648199445982, 0.24376731301939059], \"title\": \"Number of Findings\"}, \"xaxis31\": {\"anchor\": \"y31\", \"domain\": [0.0, 0.45]}, \"yaxis31\": {\"anchor\": \"x31\", \"domain\": [0.16204986149584488, 0.18975069252077564], \"title\": \"Total Award ($)\"}, \"xaxis32\": {\"anchor\": \"y32\", \"domain\": [0.55, 1.0]}, \"yaxis32\": {\"anchor\": \"x32\", \"domain\": [0.16204986149584488, 0.18975069252077564], \"title\": \"Number of Findings\"}, \"xaxis33\": {\"anchor\": \"y33\", \"domain\": [0.0, 0.45]}, \"yaxis33\": {\"anchor\": \"x33\", \"domain\": [0.10803324099722991, 0.13573407202216067], \"title\": \"Total Award ($)\"}, \"xaxis34\": {\"anchor\": \"y34\", \"domain\": [0.55, 1.0]}, \"yaxis34\": {\"anchor\": \"x34\", \"domain\": [0.10803324099722991, 0.13573407202216067], \"title\": \"Number of Findings\"}, \"xaxis35\": {\"anchor\": \"y35\", \"domain\": [0.0, 0.45]}, \"yaxis35\": {\"anchor\": \"x35\", \"domain\": [0.054016620498614956, 0.0817174515235457], \"title\": \"Total Award ($)\"}, \"xaxis36\": {\"anchor\": \"y36\", \"domain\": [0.55, 1.0]}, \"yaxis36\": {\"anchor\": \"x36\", \"domain\": [0.054016620498614956, 0.0817174515235457], \"title\": \"Number of Findings\"}, \"xaxis37\": {\"anchor\": \"y37\", \"domain\": [0.0, 0.45]}, \"yaxis37\": {\"anchor\": \"x37\", \"domain\": [0.0, 0.02770083102493075], \"title\": \"Total Award ($)\"}, \"xaxis38\": {\"anchor\": \"y38\", \"domain\": [0.55, 1.0]}, \"yaxis38\": {\"anchor\": \"x38\", \"domain\": [0.0, 0.02770083102493075], \"title\": \"Number of Findings\"}, \"height\": 8000, \"title\": \"<b>USDA Single Audit with Findings</b> <b>12_11_2018</b>\"}, {\"showLink\": true, \"linkText\": \"Export to plot.ly\"})});</script>"
      ]
     },
     "metadata": {},
     "output_type": "display_data"
    }
   ],
   "source": [
    "# Set figure with subplots.\n",
    "fig = tools.make_subplots(rows=len(agencies), cols=2, subplot_titles=([x for x in agencies for num in range(2)]))\n",
    "# Set list holder for program numbers.\n",
    "num_aw = []\n",
    "# Loop through each agency.\n",
    "for index, agency in enumerate(agencies):\n",
    "    # Loop through each agency's program numbers.\n",
    "    for num in df_plot[agency]['program_number'].unique():\n",
    "        # Set x and y parameters for total award subplots.\n",
    "        fig.append_trace({'x':df_plot[agency]['month_year'][df_plot[agency]['program_number']==num],\n",
    "                          'y':df_plot[agency]['total_award'][df_plot[agency]['program_number']==num],\n",
    "                          'name':num,\n",
    "                          'legendgroup':num,\n",
    "                          'showlegend':False,\n",
    "                          'marker':{'color':color_plot[num]},\n",
    "                          'type':'scatter'},row=index+1,col=1)\n",
    "        # Append program number to list holder.\n",
    "        num_aw.append(num)\n",
    "        # Set x and y parameters for findings subplots.\n",
    "        fig.append_trace({'x':df_plot[agency]['month_year'][df_plot[agency]['program_number']==num],\n",
    "                          'y':df_plot[agency]['findings_count'][df_plot[agency]['program_number']==num],\n",
    "                          'name':num,\n",
    "                          'legendgroup':num,\n",
    "                          # If showing legend, check num_aw list. The number shouldn't re-appear in the legend if \n",
    "                          # it exists in num_aw. Syntax: False if num in num_aw else True\n",
    "                          'showlegend':False,\n",
    "                          'marker':{'color':color_plot[num]},\n",
    "                          'type':'scatter'},row=index+1,col=2)\n",
    "        \n",
    "# Set the y axis title for each subplot.\n",
    "# The number of subplots is twice the number of agencies.\n",
    "for i in range(len(agencies)*2): \n",
    "    # Left column subplots.\n",
    "    if i%2 ==0:\n",
    "        fig['layout']['yaxis'+str(i+1)].update(title='Total Award ($)')\n",
    "    # Right column subplots.\n",
    "    else:\n",
    "        fig['layout']['yaxis'+str(i+1)].update(title='Number of Findings')\n",
    "\n",
    "# Set title with timestamp.\n",
    "fig['layout'].update(height=8000,title='<b>USDA Single Audit with Findings</b> '+'<b>'+timestr+'</b>')\n",
    "# Show plots.\n",
    "init_notebook_mode(connected=True)\n",
    "pyo.iplot(fig, filename='Single Audit Findings Report.html')"
   ]
  },
  {
   "cell_type": "markdown",
   "metadata": {},
   "source": [
    "### 7. Upload to SharePoint\n",
    "Upload the spreadsheet and html files to SharePoint."
   ]
  },
  {
   "cell_type": "code",
   "execution_count": null,
   "metadata": {},
   "outputs": [],
   "source": [
    "from office365.runtime.auth.authentication_context import AuthenticationContext\n",
    "from office365.sharepoint.client_context import ClientContext\n",
    "from office365.sharepoint.file import File \n",
    "\n",
    "url = 'https://usdagcc.sharepoint.com/sites/OCFO/TARD/'\n",
    "username = ''\n",
    "password=''\n",
    "\n",
    "ctx_auth = AuthenticationContext(url)\n",
    "if ctx_auth.acquire_token_for_user(username,password):\n",
    "    ctx = ClientContext(url, ctx_auth)\n",
    "    web = ctx.web\n",
    "    ctx.load(web)\n",
    "    ctx.execute_query()\n",
    "    print(\"Web title: {0}\".format(web.properties['Title']))\n",
    "else:\n",
    "    print(ctx_auth.get_last_error())"
   ]
  }
 ],
 "metadata": {
  "kernelspec": {
   "display_name": "Python 3",
   "language": "python",
   "name": "python3"
  },
  "language_info": {
   "codemirror_mode": {
    "name": "ipython",
    "version": 3
   },
   "file_extension": ".py",
   "mimetype": "text/x-python",
   "name": "python",
   "nbconvert_exporter": "python",
   "pygments_lexer": "ipython3",
   "version": "3.6.5"
  }
 },
 "nbformat": 4,
 "nbformat_minor": 2
}
