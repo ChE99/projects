{
 "cells": [
  {
   "cell_type": "markdown",
   "metadata": {},
   "source": [
    "## SQL Queries on Bay Area Bikeshare Dataset\n",
    "\n",
    "Bikeshare database from September 2015 - August 2016 with four tables: trips, stations, status, and weather. Source in csv form, along with explanatory metadata, at http://www.bayareabikeshare.com/open-data."
   ]
  },
  {
   "cell_type": "markdown",
   "metadata": {},
   "source": [
    "### The ID's and durations for all trips of duration greater than 500, ordered by duration.\n",
    "\n",
    "SELECT\n",
    "\n",
    "    trip_id,\n",
    "    CAST(duration as INTEGER) duration\n",
    "FROM\n",
    "\n",
    "    trips\n",
    "WHERE\n",
    "    \n",
    "    duration > 500\n",
    "ORDER BY 2 DESC"
   ]
  },
  {
   "cell_type": "markdown",
   "metadata": {},
   "source": [
    "### Every column of the stations table for station id 84.\n",
    "\n",
    "SELECT    \n",
    "    \n",
    "    *\n",
    "FROM    \n",
    "    \n",
    "    stations\n",
    "WHERE    \n",
    "\n",
    "    station_id = 84"
   ]
  },
  {
   "cell_type": "markdown",
   "metadata": {},
   "source": [
    "### The min temperatures of all the occurrences of rain in zip 94301.\n",
    "\n",
    "SELECT   \n",
    "    \n",
    "    MinTemperatureF    \n",
    "FROM\n",
    "\n",
    "    weather    \n",
    "WHERE\n",
    "\n",
    "    ZIP = 94301 AND\n",
    "    Events like 'Rain'"
   ]
  },
  {
   "cell_type": "markdown",
   "metadata": {},
   "source": [
    "### What was the hottest day in our data set? Where was that?\n",
    "\n",
    "SELECT\n",
    "    \n",
    "    ZIP,\n",
    "    MAX(MaxTemperatureF) as max_temp    \n",
    "FROM\n",
    "\n",
    "    weather"
   ]
  },
  {
   "cell_type": "markdown",
   "metadata": {},
   "source": [
    "### How many trips started at each station?\n",
    "\n",
    "SELECT\n",
    "    \n",
    "    start_station,\n",
    "    COUNT(*) as station_count    \n",
    "FROM\n",
    "    \n",
    "    trips    \n",
    "GROUP by 1"
   ]
  },
  {
   "cell_type": "markdown",
   "metadata": {},
   "source": [
    "### What's the shortest trip that happened?\n",
    "\n",
    "SELECT\n",
    "\n",
    "    trip_id,\n",
    "    MIN(CAST(duration as INTEGER)) min_duration    \n",
    "FROM\n",
    "\n",
    "    trips"
   ]
  },
  {
   "cell_type": "markdown",
   "metadata": {},
   "source": [
    "### What is the average trip duration, by end station?\n",
    "\n",
    "SELECT\n",
    "    \n",
    "    end_station,\n",
    "    AVG(CAST(duration as INTEGER)) avg_duration\n",
    "FROM\n",
    "    \n",
    "    trips    \n",
    "GROUP BY 1"
   ]
  },
  {
   "cell_type": "markdown",
   "metadata": {},
   "source": [
    "### What are the three longest trips on rainy days?\n",
    "\n",
    "WITH\n",
    "\n",
    "    trip_rain    \n",
    "AS (\n",
    "    \n",
    "    SELECT\n",
    "        date\n",
    "    FROM\n",
    "        weather\n",
    "    WHERE\n",
    "        events like 'rain'   \n",
    "\tGROUP BY 1\n",
    ")\n",
    "\n",
    "SELECT\n",
    "    \n",
    "    trip_id,\n",
    "    CAST(duration as INTEGER) duration,\n",
    "    DATE(start_date) trip_date\n",
    "FROM\n",
    "    \n",
    "    trips\n",
    "JOIN\n",
    "    \n",
    "    trip_rain\n",
    "ON\n",
    "    \n",
    "    trip_rain.date = trip_date\n",
    "ORDER BY 2 DESC\n",
    "\n",
    "LIMIT 3"
   ]
  },
  {
   "cell_type": "markdown",
   "metadata": {},
   "source": [
    "### Which station is empty most often?\n",
    "\n",
    "SELECT\n",
    "    \n",
    "    status.station_id,\n",
    "    stations.name,\n",
    "    COUNT(CASE WHEN bikes_available = 0 THEN 1 END) as empty_count\n",
    "FROM\n",
    "\n",
    "    status\n",
    "JOIN\n",
    "\n",
    "    stations\n",
    "ON\n",
    "\n",
    "    status.station_id = stations.station_id    \n",
    "GROUP BY 1\n",
    "\n",
    "ORDER BY 3 DESC"
   ]
  },
  {
   "cell_type": "markdown",
   "metadata": {},
   "source": [
    "### Return a list of stations with a count of number of trips starting at that station but ordered by dock count.\n",
    "\n",
    "SELECT\n",
    "\n",
    "    trips.start_station,\n",
    "    COUNT(start_station) trip_count,\n",
    "    stations.dockcount    \n",
    "FROM\n",
    "\n",
    "    trips    \n",
    "JOIN\n",
    "\n",
    "    stations    \n",
    "ON\n",
    "\n",
    "    trips.start_station = stations.name    \n",
    "GROUP BY 1\n",
    "\n",
    "ORDER BY 3 DESC"
   ]
  },
  {
   "cell_type": "markdown",
   "metadata": {},
   "source": [
    "### What's the length of the longest trip for each day it rains anywhere?\n",
    "\n",
    "WITH\n",
    "\n",
    "\tevent_rain     \n",
    "AS(\n",
    "\n",
    "\tSELECT \n",
    "\t\tdate\n",
    "\tFROM \n",
    "\t\tweather\n",
    "\tWHERE events like 'Rain'\n",
    "\tGROUP BY 1    \n",
    "),\n",
    "\t\n",
    "    rainy_trips \n",
    "AS(\n",
    "\n",
    "\tSELECT\n",
    "\t\ttrip_id,\n",
    "\t\tCAST(duration as INTEGER) duration,\n",
    "\t\tDATE(start_date) trip_date\n",
    "\tFROM \n",
    "\t\ttrips\n",
    "\tJOIN \n",
    "\t\tevent_rain\n",
    "\tON \n",
    "\t\tevent_rain.date = trip_date\n",
    ")\n",
    "\n",
    "SELECT \n",
    "\n",
    "\ttrip_id,\n",
    "\ttrip_date,\n",
    "\tmax(duration)\n",
    "FROM \n",
    "\t\n",
    "    rainy_trips    \n",
    "GROUP BY 2\n",
    "\n",
    "#### Alternative:\n",
    "\n",
    "WITH\n",
    "\n",
    "\tevent_rain     \n",
    "AS(\n",
    "\n",
    "\tSELECT \n",
    "\t\tdate\n",
    "\tFROM \n",
    "\t\tweather\n",
    "\tWHERE events like 'Rain'\n",
    "\tGROUP BY 1    \n",
    ")\n",
    "\n",
    "SELECT\n",
    "\n",
    "\ttrip_id,\n",
    "\tDATE(start_date) trip_date,\n",
    "\tMAX(CAST(duration as INTEGER)) duration    \n",
    "FROM\n",
    "\n",
    "\ttrips    \n",
    "JOIN\n",
    "\n",
    "\tevent_rain    \n",
    "ON\n",
    "\n",
    "\tevent_rain.date = trip_date    \n",
    "GROUP BY 2"
   ]
  },
  {
   "cell_type": "code",
   "execution_count": null,
   "metadata": {
    "collapsed": true
   },
   "outputs": [],
   "source": []
  }
 ],
 "metadata": {
  "kernelspec": {
   "display_name": "Python 3",
   "language": "python",
   "name": "python3"
  },
  "language_info": {
   "codemirror_mode": {
    "name": "ipython",
    "version": 3
   },
   "file_extension": ".py",
   "mimetype": "text/x-python",
   "name": "python",
   "nbconvert_exporter": "python",
   "pygments_lexer": "ipython3",
   "version": "3.6.3"
  }
 },
 "nbformat": 4,
 "nbformat_minor": 2
}
