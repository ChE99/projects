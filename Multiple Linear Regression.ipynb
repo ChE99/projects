{
 "cells": [
  {
   "cell_type": "markdown",
   "metadata": {},
   "source": [
    "## Multiple Linear Regression\n",
    "\n",
    "Multiple linear regression attempts to model the relationship between two or more explanatory variables and a response variable by fitting a linear equation to observed data. Every value of the independent variable x is associated with a value of the dependent variable y.`\n",
    "\n",
    "In this exercise, a linear regression model on U.S. crime data will be built and tested. Specifically, the model will be trained on New York (NY) 2013 data, and tested on Alabama (AL) 2013 and NY 2014. The datasets were taken from https://ucr.fbi.gov/crime-in-the-u.s.\n",
    "\n",
    "NY 2013:<br> \n",
    "https://ucr.fbi.gov/crime-in-the-u.s/2013/crime-in-the-u.s.-2013/tables/table-8/table-8-state-cuts/table_8_offenses_known_to_law_enforcement_new_york_by_city_2013.xls\n",
    "\n",
    "AL 2013:<br> \n",
    "https://ucr.fbi.gov/crime-in-the-u.s/2013/crime-in-the-u.s.-2013/tables/table-8/table-8-state-cuts/table_8_offenses_known_to_law_enforcement_alabama_by_city_2013.xls\n",
    "\n",
    "NY 2014:<br> \n",
    "https://ucr.fbi.gov/crime-in-the-u.s/2014/crime-in-the-u.s.-2014/tables/table-8/table-8-by-state/Table_8_Offenses_Known_to_Law_Enforcement_by_New_York_by_City_2014.xls"
   ]
  },
  {
   "cell_type": "markdown",
   "metadata": {},
   "source": [
    "### A. Data Exploration and Cleaning"
   ]
  },
  {
   "cell_type": "code",
   "execution_count": 1,
   "metadata": {
    "collapsed": true
   },
   "outputs": [],
   "source": [
    "import numpy as np\n",
    "import pandas as pd\n",
    "import seaborn as sns\n",
    "from matplotlib import pyplot as plt\n",
    "from sklearn import linear_model\n",
    "%matplotlib inline"
   ]
  },
  {
   "cell_type": "code",
   "execution_count": 2,
   "metadata": {},
   "outputs": [
    {
     "data": {
      "text/plain": [
       "(351, 13)"
      ]
     },
     "execution_count": 2,
     "metadata": {},
     "output_type": "execute_result"
    }
   ],
   "source": [
    "# Open the NY 2013 dataset (skip first four rows).\n",
    "df_ny13 = pd.read_csv('https://raw.githubusercontent.com/Thinkful-Ed/data-201-resources/master/New_York_offenses/NEW_YORK-Offenses_Known_to_Law_Enforcement_by_City_2013%20-%2013tbl8ny.csv', skiprows=4)\n",
    "df_ny13.shape"
   ]
  },
  {
   "cell_type": "code",
   "execution_count": 3,
   "metadata": {},
   "outputs": [
    {
     "data": {
      "text/html": [
       "<div>\n",
       "<style>\n",
       "    .dataframe thead tr:only-child th {\n",
       "        text-align: right;\n",
       "    }\n",
       "\n",
       "    .dataframe thead th {\n",
       "        text-align: left;\n",
       "    }\n",
       "\n",
       "    .dataframe tbody tr th {\n",
       "        vertical-align: top;\n",
       "    }\n",
       "</style>\n",
       "<table border=\"1\" class=\"dataframe\">\n",
       "  <thead>\n",
       "    <tr style=\"text-align: right;\">\n",
       "      <th></th>\n",
       "      <th>City</th>\n",
       "      <th>Population</th>\n",
       "      <th>Violent\n",
       "crime</th>\n",
       "      <th>Murder and\n",
       "nonnegligent\n",
       "manslaughter</th>\n",
       "      <th>Rape\n",
       "(revised\n",
       "definition)1</th>\n",
       "      <th>Rape\n",
       "(legacy\n",
       "definition)2</th>\n",
       "      <th>Robbery</th>\n",
       "      <th>Aggravated\n",
       "assault</th>\n",
       "      <th>Property\n",
       "crime</th>\n",
       "      <th>Burglary</th>\n",
       "      <th>Larceny-\n",
       "theft</th>\n",
       "      <th>Motor\n",
       "vehicle\n",
       "theft</th>\n",
       "      <th>Arson3</th>\n",
       "    </tr>\n",
       "  </thead>\n",
       "  <tbody>\n",
       "    <tr>\n",
       "      <th>0</th>\n",
       "      <td>Adams Village</td>\n",
       "      <td>1,861</td>\n",
       "      <td>0</td>\n",
       "      <td>0.0</td>\n",
       "      <td>NaN</td>\n",
       "      <td>0</td>\n",
       "      <td>0</td>\n",
       "      <td>0</td>\n",
       "      <td>12</td>\n",
       "      <td>2</td>\n",
       "      <td>10</td>\n",
       "      <td>0</td>\n",
       "      <td>0.0</td>\n",
       "    </tr>\n",
       "    <tr>\n",
       "      <th>1</th>\n",
       "      <td>Addison Town and Village</td>\n",
       "      <td>2,577</td>\n",
       "      <td>3</td>\n",
       "      <td>0.0</td>\n",
       "      <td>NaN</td>\n",
       "      <td>0</td>\n",
       "      <td>0</td>\n",
       "      <td>3</td>\n",
       "      <td>24</td>\n",
       "      <td>3</td>\n",
       "      <td>20</td>\n",
       "      <td>1</td>\n",
       "      <td>0.0</td>\n",
       "    </tr>\n",
       "    <tr>\n",
       "      <th>2</th>\n",
       "      <td>Akron Village</td>\n",
       "      <td>2,846</td>\n",
       "      <td>3</td>\n",
       "      <td>0.0</td>\n",
       "      <td>NaN</td>\n",
       "      <td>0</td>\n",
       "      <td>0</td>\n",
       "      <td>3</td>\n",
       "      <td>16</td>\n",
       "      <td>1</td>\n",
       "      <td>15</td>\n",
       "      <td>0</td>\n",
       "      <td>0.0</td>\n",
       "    </tr>\n",
       "    <tr>\n",
       "      <th>3</th>\n",
       "      <td>Albany</td>\n",
       "      <td>97,956</td>\n",
       "      <td>791</td>\n",
       "      <td>8.0</td>\n",
       "      <td>NaN</td>\n",
       "      <td>30</td>\n",
       "      <td>227</td>\n",
       "      <td>526</td>\n",
       "      <td>4,090</td>\n",
       "      <td>705</td>\n",
       "      <td>3,243</td>\n",
       "      <td>142</td>\n",
       "      <td>NaN</td>\n",
       "    </tr>\n",
       "    <tr>\n",
       "      <th>4</th>\n",
       "      <td>Albion Village</td>\n",
       "      <td>6,388</td>\n",
       "      <td>23</td>\n",
       "      <td>0.0</td>\n",
       "      <td>NaN</td>\n",
       "      <td>3</td>\n",
       "      <td>4</td>\n",
       "      <td>16</td>\n",
       "      <td>223</td>\n",
       "      <td>53</td>\n",
       "      <td>165</td>\n",
       "      <td>5</td>\n",
       "      <td>NaN</td>\n",
       "    </tr>\n",
       "  </tbody>\n",
       "</table>\n",
       "</div>"
      ],
      "text/plain": [
       "                       City Population Violent\\ncrime  \\\n",
       "0             Adams Village      1,861              0   \n",
       "1  Addison Town and Village      2,577              3   \n",
       "2             Akron Village      2,846              3   \n",
       "3                    Albany     97,956            791   \n",
       "4            Albion Village      6,388             23   \n",
       "\n",
       "   Murder and\\nnonnegligent\\nmanslaughter  Rape\\n(revised\\ndefinition)1  \\\n",
       "0                                     0.0                           NaN   \n",
       "1                                     0.0                           NaN   \n",
       "2                                     0.0                           NaN   \n",
       "3                                     8.0                           NaN   \n",
       "4                                     0.0                           NaN   \n",
       "\n",
       "  Rape\\n(legacy\\ndefinition)2 Robbery Aggravated\\nassault Property\\ncrime  \\\n",
       "0                           0       0                   0              12   \n",
       "1                           0       0                   3              24   \n",
       "2                           0       0                   3              16   \n",
       "3                          30     227                 526           4,090   \n",
       "4                           3       4                  16             223   \n",
       "\n",
       "  Burglary Larceny-\\ntheft Motor\\nvehicle\\ntheft  Arson3  \n",
       "0        2              10                     0     0.0  \n",
       "1        3              20                     1     0.0  \n",
       "2        1              15                     0     0.0  \n",
       "3      705           3,243                   142     NaN  \n",
       "4       53             165                     5     NaN  "
      ]
     },
     "execution_count": 3,
     "metadata": {},
     "output_type": "execute_result"
    }
   ],
   "source": [
    "# View the first five rows.\n",
    "df_ny13.head()"
   ]
  },
  {
   "cell_type": "code",
   "execution_count": 4,
   "metadata": {},
   "outputs": [
    {
     "data": {
      "text/plain": [
       "City                                       object\n",
       "Population                                 object\n",
       "Violent\\ncrime                             object\n",
       "Murder and\\nnonnegligent\\nmanslaughter    float64\n",
       "Rape\\n(revised\\ndefinition)1              float64\n",
       "Rape\\n(legacy\\ndefinition)2                object\n",
       "Robbery                                    object\n",
       "Aggravated\\nassault                        object\n",
       "Property\\ncrime                            object\n",
       "Burglary                                   object\n",
       "Larceny-\\ntheft                            object\n",
       "Motor\\nvehicle\\ntheft                      object\n",
       "Arson3                                    float64\n",
       "dtype: object"
      ]
     },
     "execution_count": 4,
     "metadata": {},
     "output_type": "execute_result"
    }
   ],
   "source": [
    "# Check variable types.\n",
    "df_ny13.dtypes"
   ]
  },
  {
   "cell_type": "code",
   "execution_count": 5,
   "metadata": {},
   "outputs": [
    {
     "data": {
      "text/plain": [
       "city                              0\n",
       "population                        3\n",
       "violent_crime                     3\n",
       "murder                            3\n",
       "Rape\\n(revised\\ndefinition)1    351\n",
       "rape                              3\n",
       "robbery                           3\n",
       "aggravated_assault                3\n",
       "property_crime                    3\n",
       "burglary                          3\n",
       "larceny_theft                     3\n",
       "motor_vehicle_theft               3\n",
       "arson                           164\n",
       "dtype: int64"
      ]
     },
     "execution_count": 5,
     "metadata": {},
     "output_type": "execute_result"
    }
   ],
   "source": [
    "# Rename columns.\n",
    "df_ny13.rename(columns={'City': 'city','Population': 'population', 'Violent\\ncrime': 'violent_crime', 'Murder and\\nnonnegligent\\nmanslaughter': 'murder', 'Rape\\n(legacy\\ndefinition)2': 'rape','Robbery': 'robbery', 'Aggravated\\nassault': 'aggravated_assault', 'Property\\ncrime': 'property_crime', 'Burglary': 'burglary', 'Larceny-\\ntheft': 'larceny_theft', 'Motor\\nvehicle\\ntheft': 'motor_vehicle_theft', 'Arson3': 'arson'}, inplace=True)\n",
    "\n",
    "# Show null count for each column.\n",
    "df_ny13.isnull().sum()"
   ]
  },
  {
   "cell_type": "code",
   "execution_count": 6,
   "metadata": {},
   "outputs": [
    {
     "data": {
      "text/html": [
       "<div>\n",
       "<style>\n",
       "    .dataframe thead tr:only-child th {\n",
       "        text-align: right;\n",
       "    }\n",
       "\n",
       "    .dataframe thead th {\n",
       "        text-align: left;\n",
       "    }\n",
       "\n",
       "    .dataframe tbody tr th {\n",
       "        vertical-align: top;\n",
       "    }\n",
       "</style>\n",
       "<table border=\"1\" class=\"dataframe\">\n",
       "  <thead>\n",
       "    <tr style=\"text-align: right;\">\n",
       "      <th></th>\n",
       "      <th>city</th>\n",
       "      <th>population</th>\n",
       "      <th>violent_crime</th>\n",
       "      <th>murder</th>\n",
       "      <th>Rape\n",
       "(revised\n",
       "definition)1</th>\n",
       "      <th>rape</th>\n",
       "      <th>robbery</th>\n",
       "      <th>aggravated_assault</th>\n",
       "      <th>property_crime</th>\n",
       "      <th>burglary</th>\n",
       "      <th>larceny_theft</th>\n",
       "      <th>motor_vehicle_theft</th>\n",
       "      <th>arson</th>\n",
       "    </tr>\n",
       "  </thead>\n",
       "  <tbody>\n",
       "    <tr>\n",
       "      <th>346</th>\n",
       "      <td>Yonkers</td>\n",
       "      <td>199,134</td>\n",
       "      <td>1,036</td>\n",
       "      <td>6.0</td>\n",
       "      <td>NaN</td>\n",
       "      <td>25</td>\n",
       "      <td>390</td>\n",
       "      <td>615</td>\n",
       "      <td>2,368</td>\n",
       "      <td>470</td>\n",
       "      <td>1,662</td>\n",
       "      <td>236</td>\n",
       "      <td>10.0</td>\n",
       "    </tr>\n",
       "    <tr>\n",
       "      <th>347</th>\n",
       "      <td>Yorktown Town</td>\n",
       "      <td>36,643</td>\n",
       "      <td>15</td>\n",
       "      <td>0.0</td>\n",
       "      <td>NaN</td>\n",
       "      <td>0</td>\n",
       "      <td>2</td>\n",
       "      <td>13</td>\n",
       "      <td>334</td>\n",
       "      <td>45</td>\n",
       "      <td>287</td>\n",
       "      <td>2</td>\n",
       "      <td>NaN</td>\n",
       "    </tr>\n",
       "    <tr>\n",
       "      <th>348</th>\n",
       "      <td>1 The figures shown in this column for the off...</td>\n",
       "      <td>NaN</td>\n",
       "      <td>NaN</td>\n",
       "      <td>NaN</td>\n",
       "      <td>NaN</td>\n",
       "      <td>NaN</td>\n",
       "      <td>NaN</td>\n",
       "      <td>NaN</td>\n",
       "      <td>NaN</td>\n",
       "      <td>NaN</td>\n",
       "      <td>NaN</td>\n",
       "      <td>NaN</td>\n",
       "      <td>NaN</td>\n",
       "    </tr>\n",
       "    <tr>\n",
       "      <th>349</th>\n",
       "      <td>2 The figures shown in this column for the off...</td>\n",
       "      <td>NaN</td>\n",
       "      <td>NaN</td>\n",
       "      <td>NaN</td>\n",
       "      <td>NaN</td>\n",
       "      <td>NaN</td>\n",
       "      <td>NaN</td>\n",
       "      <td>NaN</td>\n",
       "      <td>NaN</td>\n",
       "      <td>NaN</td>\n",
       "      <td>NaN</td>\n",
       "      <td>NaN</td>\n",
       "      <td>NaN</td>\n",
       "    </tr>\n",
       "    <tr>\n",
       "      <th>350</th>\n",
       "      <td>3 The FBI does not publish arson data unless i...</td>\n",
       "      <td>NaN</td>\n",
       "      <td>NaN</td>\n",
       "      <td>NaN</td>\n",
       "      <td>NaN</td>\n",
       "      <td>NaN</td>\n",
       "      <td>NaN</td>\n",
       "      <td>NaN</td>\n",
       "      <td>NaN</td>\n",
       "      <td>NaN</td>\n",
       "      <td>NaN</td>\n",
       "      <td>NaN</td>\n",
       "      <td>NaN</td>\n",
       "    </tr>\n",
       "  </tbody>\n",
       "</table>\n",
       "</div>"
      ],
      "text/plain": [
       "                                                  city population  \\\n",
       "346                                            Yonkers    199,134   \n",
       "347                                      Yorktown Town     36,643   \n",
       "348  1 The figures shown in this column for the off...        NaN   \n",
       "349  2 The figures shown in this column for the off...        NaN   \n",
       "350  3 The FBI does not publish arson data unless i...        NaN   \n",
       "\n",
       "    violent_crime  murder  Rape\\n(revised\\ndefinition)1 rape robbery  \\\n",
       "346         1,036     6.0                           NaN   25     390   \n",
       "347            15     0.0                           NaN    0       2   \n",
       "348           NaN     NaN                           NaN  NaN     NaN   \n",
       "349           NaN     NaN                           NaN  NaN     NaN   \n",
       "350           NaN     NaN                           NaN  NaN     NaN   \n",
       "\n",
       "    aggravated_assault property_crime burglary larceny_theft  \\\n",
       "346                615          2,368      470         1,662   \n",
       "347                 13            334       45           287   \n",
       "348                NaN            NaN      NaN           NaN   \n",
       "349                NaN            NaN      NaN           NaN   \n",
       "350                NaN            NaN      NaN           NaN   \n",
       "\n",
       "    motor_vehicle_theft  arson  \n",
       "346                 236   10.0  \n",
       "347                   2    NaN  \n",
       "348                 NaN    NaN  \n",
       "349                 NaN    NaN  \n",
       "350                 NaN    NaN  "
      ]
     },
     "execution_count": 6,
     "metadata": {},
     "output_type": "execute_result"
    }
   ],
   "source": [
    "# Check null rows.\n",
    "df_ny13.tail()"
   ]
  },
  {
   "cell_type": "code",
   "execution_count": 7,
   "metadata": {
    "collapsed": true
   },
   "outputs": [],
   "source": [
    "# Drop unnecessary variables.\n",
    "df_ny13_final = df_ny13.drop(['city', 'Rape\\n(revised\\ndefinition)1'], axis=1)\n",
    "\n",
    "# Drop last three rows with nulls.\n",
    "df_ny13_final = df_ny13_final[:-3]\n",
    "\n",
    "# Convert arson nulls to 0.\n",
    "df_ny13_final['arson'] = df_ny13_final['arson'].fillna(0)\n",
    "\n",
    "# Create function to remove commas and convert object type columns to numeric.\n",
    "cols_ny13 = df_ny13_final.columns[df_ny13_final.dtypes.eq('object')]\n",
    "convert_col = lambda col_obj: pd.to_numeric(col_obj.replace(',',''))\n",
    "df_ny13_final[cols_ny13] = df_ny13_final[cols_ny13].applymap(convert_col)"
   ]
  },
  {
   "cell_type": "markdown",
   "metadata": {},
   "source": [
    "### B. Build the Model\n",
    "\n",
    "Feature selection is the process of automatically selecting those features in the data that contribute most to the prediction variable or output of interest. Feature selection is particularly important because irrelevant features in the data can decrease the accuracy of many models, especially linear algorithms like linear and logistic regression.\n",
    "\n",
    "A number of feature selection techniques exist. For demonstration purposes, two techniques will be utilized and compared with feature engineering to select the variables and set the regression coefficients."
   ]
  },
  {
   "cell_type": "markdown",
   "metadata": {},
   "source": [
    "#### 1. Feature Selection"
   ]
  },
  {
   "cell_type": "markdown",
   "metadata": {},
   "source": [
    "##### a. Univariate Selection\n",
    "The scikit-learn library provides the SelectKBest class that can be used with a suite of different statistical tests to select a specific number of features."
   ]
  },
  {
   "cell_type": "code",
   "execution_count": 8,
   "metadata": {},
   "outputs": [
    {
     "name": "stdout",
     "output_type": "stream",
     "text": [
      "[  1.755e+09   1.364e+07   7.423e+04   2.160e+05   5.060e+06   8.330e+06\n",
      "   2.480e+06   2.194e+07   1.573e+06   2.143e+04]\n"
     ]
    }
   ],
   "source": [
    "from sklearn.feature_selection import SelectKBest\n",
    "from sklearn.feature_selection import chi2\n",
    "\n",
    "y_ny13 = df_ny13_final['property_crime']\n",
    "X_ny13 = df_ny13_final.drop('property_crime', axis=1)\n",
    "skb_ny13 = SelectKBest(score_func=chi2, k=4)\n",
    "fit_ny13 = skb_ny13.fit(X_ny13, y_ny13)\n",
    "np.set_printoptions(precision=3)\n",
    "print(fit_ny13.scores_)"
   ]
  },
  {
   "cell_type": "markdown",
   "metadata": {},
   "source": [
    "The following features have the highest scores and will be selected to build the model:\n",
    "\n",
    "population = 1.755e+09<br>\n",
    "violent_crime = 1.364e+07<br>\n",
    "aggravated_assault = 8.330e+06<br>\n",
    "larceny_theft = 2.194e+07<br>"
   ]
  },
  {
   "cell_type": "code",
   "execution_count": 9,
   "metadata": {},
   "outputs": [
    {
     "data": {
      "text/html": [
       "<table class=\"simpletable\">\n",
       "<caption>OLS Regression Results</caption>\n",
       "<tr>\n",
       "  <th>Dep. Variable:</th>     <td>property_crime</td>  <th>  R-squared:         </th> <td>   1.000</td> \n",
       "</tr>\n",
       "<tr>\n",
       "  <th>Model:</th>                   <td>OLS</td>       <th>  Adj. R-squared:    </th> <td>   1.000</td> \n",
       "</tr>\n",
       "<tr>\n",
       "  <th>Method:</th>             <td>Least Squares</td>  <th>  F-statistic:       </th> <td>9.504e+05</td>\n",
       "</tr>\n",
       "<tr>\n",
       "  <th>Date:</th>             <td>Mon, 15 Jan 2018</td> <th>  Prob (F-statistic):</th>  <td>  0.00</td>  \n",
       "</tr>\n",
       "<tr>\n",
       "  <th>Time:</th>                 <td>17:36:22</td>     <th>  Log-Likelihood:    </th> <td> -1985.2</td> \n",
       "</tr>\n",
       "<tr>\n",
       "  <th>No. Observations:</th>      <td>   348</td>      <th>  AIC:               </th> <td>   3980.</td> \n",
       "</tr>\n",
       "<tr>\n",
       "  <th>Df Residuals:</th>          <td>   343</td>      <th>  BIC:               </th> <td>   4000.</td> \n",
       "</tr>\n",
       "<tr>\n",
       "  <th>Df Model:</th>              <td>     4</td>      <th>                     </th>     <td> </td>    \n",
       "</tr>\n",
       "<tr>\n",
       "  <th>Covariance Type:</th>      <td>nonrobust</td>    <th>                     </th>     <td> </td>    \n",
       "</tr>\n",
       "</table>\n",
       "<table class=\"simpletable\">\n",
       "<tr>\n",
       "           <td></td>             <th>coef</th>     <th>std err</th>      <th>t</th>      <th>P>|t|</th>  <th>[0.025</th>    <th>0.975]</th>  \n",
       "</tr>\n",
       "<tr>\n",
       "  <th>Intercept</th>          <td>   30.8124</td> <td>    4.717</td> <td>    6.532</td> <td> 0.000</td> <td>   21.534</td> <td>   40.090</td>\n",
       "</tr>\n",
       "<tr>\n",
       "  <th>population</th>         <td>   -0.0050</td> <td>    0.000</td> <td>  -18.592</td> <td> 0.000</td> <td>   -0.006</td> <td>   -0.004</td>\n",
       "</tr>\n",
       "<tr>\n",
       "  <th>violent_crime</th>      <td>    3.2517</td> <td>    0.185</td> <td>   17.578</td> <td> 0.000</td> <td>    2.888</td> <td>    3.616</td>\n",
       "</tr>\n",
       "<tr>\n",
       "  <th>aggravated_assault</th> <td>   -4.6277</td> <td>    0.325</td> <td>  -14.255</td> <td> 0.000</td> <td>   -5.266</td> <td>   -3.989</td>\n",
       "</tr>\n",
       "<tr>\n",
       "  <th>larceny_theft</th>      <td>    1.3614</td> <td>    0.014</td> <td>   94.982</td> <td> 0.000</td> <td>    1.333</td> <td>    1.390</td>\n",
       "</tr>\n",
       "</table>\n",
       "<table class=\"simpletable\">\n",
       "<tr>\n",
       "  <th>Omnibus:</th>       <td>343.551</td> <th>  Durbin-Watson:     </th> <td>   1.966</td> \n",
       "</tr>\n",
       "<tr>\n",
       "  <th>Prob(Omnibus):</th> <td> 0.000</td>  <th>  Jarque-Bera (JB):  </th> <td>13771.495</td>\n",
       "</tr>\n",
       "<tr>\n",
       "  <th>Skew:</th>          <td> 4.102</td>  <th>  Prob(JB):          </th> <td>    0.00</td> \n",
       "</tr>\n",
       "<tr>\n",
       "  <th>Kurtosis:</th>      <td>32.706</td>  <th>  Cond. No.          </th> <td>5.43e+05</td> \n",
       "</tr>\n",
       "</table>"
      ],
      "text/plain": [
       "<class 'statsmodels.iolib.summary.Summary'>\n",
       "\"\"\"\n",
       "                            OLS Regression Results                            \n",
       "==============================================================================\n",
       "Dep. Variable:         property_crime   R-squared:                       1.000\n",
       "Model:                            OLS   Adj. R-squared:                  1.000\n",
       "Method:                 Least Squares   F-statistic:                 9.504e+05\n",
       "Date:                Mon, 15 Jan 2018   Prob (F-statistic):               0.00\n",
       "Time:                        17:36:22   Log-Likelihood:                -1985.2\n",
       "No. Observations:                 348   AIC:                             3980.\n",
       "Df Residuals:                     343   BIC:                             4000.\n",
       "Df Model:                           4                                         \n",
       "Covariance Type:            nonrobust                                         \n",
       "======================================================================================\n",
       "                         coef    std err          t      P>|t|      [0.025      0.975]\n",
       "--------------------------------------------------------------------------------------\n",
       "Intercept             30.8124      4.717      6.532      0.000      21.534      40.090\n",
       "population            -0.0050      0.000    -18.592      0.000      -0.006      -0.004\n",
       "violent_crime          3.2517      0.185     17.578      0.000       2.888       3.616\n",
       "aggravated_assault    -4.6277      0.325    -14.255      0.000      -5.266      -3.989\n",
       "larceny_theft          1.3614      0.014     94.982      0.000       1.333       1.390\n",
       "==============================================================================\n",
       "Omnibus:                      343.551   Durbin-Watson:                   1.966\n",
       "Prob(Omnibus):                  0.000   Jarque-Bera (JB):            13771.495\n",
       "Skew:                           4.102   Prob(JB):                         0.00\n",
       "Kurtosis:                      32.706   Cond. No.                     5.43e+05\n",
       "==============================================================================\n",
       "\n",
       "Warnings:\n",
       "[1] Standard Errors assume that the covariance matrix of the errors is correctly specified.\n",
       "[2] The condition number is large, 5.43e+05. This might indicate that there are\n",
       "strong multicollinearity or other numerical problems.\n",
       "\"\"\""
      ]
     },
     "execution_count": 9,
     "metadata": {},
     "output_type": "execute_result"
    }
   ],
   "source": [
    "# Create the model with the selected features.\n",
    "import statsmodels.formula.api as smf\n",
    "rc_ny13_pval = smf.ols(formula='property_crime ~ population + violent_crime + aggravated_assault + larceny_theft', data=df_ny13_final).fit()\n",
    "\n",
    "# Print the summary table.\n",
    "rc_ny13_pval.summary()"
   ]
  },
  {
   "cell_type": "markdown",
   "metadata": {},
   "source": [
    "##### b. Feature Importance\n",
    "\n",
    "Bagged decision trees like Random Forest and Extra Trees can be used to estimate the importance of features. Construct a ExtraTreesClassifier classifier for this example."
   ]
  },
  {
   "cell_type": "code",
   "execution_count": 10,
   "metadata": {},
   "outputs": [
    {
     "name": "stdout",
     "output_type": "stream",
     "text": [
      "[ 0.167  0.1    0.016  0.06   0.073  0.097  0.142  0.197  0.106  0.042]\n"
     ]
    }
   ],
   "source": [
    "from sklearn.ensemble import ExtraTreesClassifier\n",
    "etc = ExtraTreesClassifier()\n",
    "etc.fit(X_ny13, y_ny13)\n",
    "print(etc.feature_importances_)"
   ]
  },
  {
   "cell_type": "markdown",
   "metadata": {},
   "source": [
    "The following features have the highest scores and will be selected to build the model: population, violent_crime, burglary, larceny_theft. The results are similar to univariate selection except for one feature."
   ]
  },
  {
   "cell_type": "code",
   "execution_count": 11,
   "metadata": {},
   "outputs": [
    {
     "data": {
      "text/html": [
       "<table class=\"simpletable\">\n",
       "<caption>OLS Regression Results</caption>\n",
       "<tr>\n",
       "  <th>Dep. Variable:</th>     <td>property_crime</td>  <th>  R-squared:         </th> <td>   1.000</td> \n",
       "</tr>\n",
       "<tr>\n",
       "  <th>Model:</th>                   <td>OLS</td>       <th>  Adj. R-squared:    </th> <td>   1.000</td> \n",
       "</tr>\n",
       "<tr>\n",
       "  <th>Method:</th>             <td>Least Squares</td>  <th>  F-statistic:       </th> <td>4.704e+07</td>\n",
       "</tr>\n",
       "<tr>\n",
       "  <th>Date:</th>             <td>Mon, 15 Jan 2018</td> <th>  Prob (F-statistic):</th>  <td>  0.00</td>  \n",
       "</tr>\n",
       "<tr>\n",
       "  <th>Time:</th>                 <td>17:36:22</td>     <th>  Log-Likelihood:    </th> <td> -1306.3</td> \n",
       "</tr>\n",
       "<tr>\n",
       "  <th>No. Observations:</th>      <td>   348</td>      <th>  AIC:               </th> <td>   2623.</td> \n",
       "</tr>\n",
       "<tr>\n",
       "  <th>Df Residuals:</th>          <td>   343</td>      <th>  BIC:               </th> <td>   2642.</td> \n",
       "</tr>\n",
       "<tr>\n",
       "  <th>Df Model:</th>              <td>     4</td>      <th>                     </th>     <td> </td>    \n",
       "</tr>\n",
       "<tr>\n",
       "  <th>Covariance Type:</th>      <td>nonrobust</td>    <th>                     </th>     <td> </td>    \n",
       "</tr>\n",
       "</table>\n",
       "<table class=\"simpletable\">\n",
       "<tr>\n",
       "        <td></td>           <th>coef</th>     <th>std err</th>      <th>t</th>      <th>P>|t|</th>  <th>[0.025</th>    <th>0.975]</th>  \n",
       "</tr>\n",
       "<tr>\n",
       "  <th>Intercept</th>     <td>   -1.2855</td> <td>    0.710</td> <td>   -1.812</td> <td> 0.071</td> <td>   -2.681</td> <td>    0.110</td>\n",
       "</tr>\n",
       "<tr>\n",
       "  <th>population</th>    <td>    0.0002</td> <td> 5.54e-05</td> <td>    3.758</td> <td> 0.000</td> <td> 9.93e-05</td> <td>    0.000</td>\n",
       "</tr>\n",
       "<tr>\n",
       "  <th>violent_crime</th> <td>    0.1005</td> <td>    0.006</td> <td>   15.647</td> <td> 0.000</td> <td>    0.088</td> <td>    0.113</td>\n",
       "</tr>\n",
       "<tr>\n",
       "  <th>burglary</th>      <td>    1.2100</td> <td>    0.007</td> <td>  163.368</td> <td> 0.000</td> <td>    1.195</td> <td>    1.225</td>\n",
       "</tr>\n",
       "<tr>\n",
       "  <th>larceny_theft</th> <td>    0.9740</td> <td>    0.003</td> <td>  280.824</td> <td> 0.000</td> <td>    0.967</td> <td>    0.981</td>\n",
       "</tr>\n",
       "</table>\n",
       "<table class=\"simpletable\">\n",
       "<tr>\n",
       "  <th>Omnibus:</th>       <td>90.276</td> <th>  Durbin-Watson:     </th> <td>   2.134</td>\n",
       "</tr>\n",
       "<tr>\n",
       "  <th>Prob(Omnibus):</th> <td> 0.000</td> <th>  Jarque-Bera (JB):  </th> <td>2296.037</td>\n",
       "</tr>\n",
       "<tr>\n",
       "  <th>Skew:</th>          <td>-0.363</td> <th>  Prob(JB):          </th> <td>    0.00</td>\n",
       "</tr>\n",
       "<tr>\n",
       "  <th>Kurtosis:</th>      <td>15.563</td> <th>  Cond. No.          </th> <td>5.74e+05</td>\n",
       "</tr>\n",
       "</table>"
      ],
      "text/plain": [
       "<class 'statsmodels.iolib.summary.Summary'>\n",
       "\"\"\"\n",
       "                            OLS Regression Results                            \n",
       "==============================================================================\n",
       "Dep. Variable:         property_crime   R-squared:                       1.000\n",
       "Model:                            OLS   Adj. R-squared:                  1.000\n",
       "Method:                 Least Squares   F-statistic:                 4.704e+07\n",
       "Date:                Mon, 15 Jan 2018   Prob (F-statistic):               0.00\n",
       "Time:                        17:36:22   Log-Likelihood:                -1306.3\n",
       "No. Observations:                 348   AIC:                             2623.\n",
       "Df Residuals:                     343   BIC:                             2642.\n",
       "Df Model:                           4                                         \n",
       "Covariance Type:            nonrobust                                         \n",
       "=================================================================================\n",
       "                    coef    std err          t      P>|t|      [0.025      0.975]\n",
       "---------------------------------------------------------------------------------\n",
       "Intercept        -1.2855      0.710     -1.812      0.071      -2.681       0.110\n",
       "population        0.0002   5.54e-05      3.758      0.000    9.93e-05       0.000\n",
       "violent_crime     0.1005      0.006     15.647      0.000       0.088       0.113\n",
       "burglary          1.2100      0.007    163.368      0.000       1.195       1.225\n",
       "larceny_theft     0.9740      0.003    280.824      0.000       0.967       0.981\n",
       "==============================================================================\n",
       "Omnibus:                       90.276   Durbin-Watson:                   2.134\n",
       "Prob(Omnibus):                  0.000   Jarque-Bera (JB):             2296.037\n",
       "Skew:                          -0.363   Prob(JB):                         0.00\n",
       "Kurtosis:                      15.563   Cond. No.                     5.74e+05\n",
       "==============================================================================\n",
       "\n",
       "Warnings:\n",
       "[1] Standard Errors assume that the covariance matrix of the errors is correctly specified.\n",
       "[2] The condition number is large, 5.74e+05. This might indicate that there are\n",
       "strong multicollinearity or other numerical problems.\n",
       "\"\"\""
      ]
     },
     "execution_count": 11,
     "metadata": {},
     "output_type": "execute_result"
    }
   ],
   "source": [
    "# Create the model on the selected features.\n",
    "rc_ny13_pvbl = smf.ols(formula='property_crime ~ population + violent_crime + burglary + larceny_theft', data=df_ny13_final).fit()\n",
    "\n",
    "# Print the summary table.\n",
    "rc_ny13_pvbl.summary()"
   ]
  },
  {
   "cell_type": "markdown",
   "metadata": {},
   "source": [
    "#### 2. Feature Engineering\n",
    "\n",
    "There's practically no limit to the techniques that can be utilized in feature engineering. Anything that transforms potential predictor variables into features that make them best-suited to work within the model to explain variance in the outcome of interest can be tried and tested. In this example, the effect of population will be enhanced by creating a population squared feature. In addition, since all the independent variables are continuous, the effect of categorical variables will be incorporated by creating and including them in the model; in this case, from murder and robbery."
   ]
  },
  {
   "cell_type": "code",
   "execution_count": 12,
   "metadata": {},
   "outputs": [
    {
     "data": {
      "text/html": [
       "<table class=\"simpletable\">\n",
       "<caption>OLS Regression Results</caption>\n",
       "<tr>\n",
       "  <th>Dep. Variable:</th>     <td>property_crime</td>  <th>  R-squared:         </th> <td>   0.996</td> \n",
       "</tr>\n",
       "<tr>\n",
       "  <th>Model:</th>                   <td>OLS</td>       <th>  Adj. R-squared:    </th> <td>   0.996</td> \n",
       "</tr>\n",
       "<tr>\n",
       "  <th>Method:</th>             <td>Least Squares</td>  <th>  F-statistic:       </th> <td>2.204e+04</td>\n",
       "</tr>\n",
       "<tr>\n",
       "  <th>Date:</th>             <td>Mon, 15 Jan 2018</td> <th>  Prob (F-statistic):</th>  <td>  0.00</td>  \n",
       "</tr>\n",
       "<tr>\n",
       "  <th>Time:</th>                 <td>17:36:22</td>     <th>  Log-Likelihood:    </th> <td> -2639.5</td> \n",
       "</tr>\n",
       "<tr>\n",
       "  <th>No. Observations:</th>      <td>   348</td>      <th>  AIC:               </th> <td>   5289.</td> \n",
       "</tr>\n",
       "<tr>\n",
       "  <th>Df Residuals:</th>          <td>   343</td>      <th>  BIC:               </th> <td>   5308.</td> \n",
       "</tr>\n",
       "<tr>\n",
       "  <th>Df Model:</th>              <td>     4</td>      <th>                     </th>     <td> </td>    \n",
       "</tr>\n",
       "<tr>\n",
       "  <th>Covariance Type:</th>      <td>nonrobust</td>    <th>                     </th>     <td> </td>    \n",
       "</tr>\n",
       "</table>\n",
       "<table class=\"simpletable\">\n",
       "<tr>\n",
       "           <td></td>             <th>coef</th>     <th>std err</th>      <th>t</th>      <th>P>|t|</th>  <th>[0.025</th>    <th>0.975]</th>  \n",
       "</tr>\n",
       "<tr>\n",
       "  <th>Intercept</th>          <td> -109.5753</td> <td>   40.989</td> <td>   -2.673</td> <td> 0.008</td> <td> -190.197</td> <td>  -28.954</td>\n",
       "</tr>\n",
       "<tr>\n",
       "  <th>population</th>         <td>    0.0347</td> <td>    0.001</td> <td>   29.955</td> <td> 0.000</td> <td>    0.032</td> <td>    0.037</td>\n",
       "</tr>\n",
       "<tr>\n",
       "  <th>population_squared</th> <td>-2.111e-09</td> <td> 1.37e-10</td> <td>  -15.390</td> <td> 0.000</td> <td>-2.38e-09</td> <td>-1.84e-09</td>\n",
       "</tr>\n",
       "<tr>\n",
       "  <th>murder_category</th>    <td>   15.1867</td> <td>   87.625</td> <td>    0.173</td> <td> 0.863</td> <td> -157.163</td> <td>  187.536</td>\n",
       "</tr>\n",
       "<tr>\n",
       "  <th>robbery_category</th>   <td>  -96.2774</td> <td>   56.836</td> <td>   -1.694</td> <td> 0.091</td> <td> -208.068</td> <td>   15.513</td>\n",
       "</tr>\n",
       "</table>\n",
       "<table class=\"simpletable\">\n",
       "<tr>\n",
       "  <th>Omnibus:</th>       <td>129.816</td> <th>  Durbin-Watson:     </th> <td>   1.921</td> \n",
       "</tr>\n",
       "<tr>\n",
       "  <th>Prob(Omnibus):</th> <td> 0.000</td>  <th>  Jarque-Bera (JB):  </th> <td>18476.109</td>\n",
       "</tr>\n",
       "<tr>\n",
       "  <th>Skew:</th>          <td>-0.223</td>  <th>  Prob(JB):          </th> <td>    0.00</td> \n",
       "</tr>\n",
       "<tr>\n",
       "  <th>Kurtosis:</th>      <td>38.693</td>  <th>  Cond. No.          </th> <td>1.30e+13</td> \n",
       "</tr>\n",
       "</table>"
      ],
      "text/plain": [
       "<class 'statsmodels.iolib.summary.Summary'>\n",
       "\"\"\"\n",
       "                            OLS Regression Results                            \n",
       "==============================================================================\n",
       "Dep. Variable:         property_crime   R-squared:                       0.996\n",
       "Model:                            OLS   Adj. R-squared:                  0.996\n",
       "Method:                 Least Squares   F-statistic:                 2.204e+04\n",
       "Date:                Mon, 15 Jan 2018   Prob (F-statistic):               0.00\n",
       "Time:                        17:36:22   Log-Likelihood:                -2639.5\n",
       "No. Observations:                 348   AIC:                             5289.\n",
       "Df Residuals:                     343   BIC:                             5308.\n",
       "Df Model:                           4                                         \n",
       "Covariance Type:            nonrobust                                         \n",
       "======================================================================================\n",
       "                         coef    std err          t      P>|t|      [0.025      0.975]\n",
       "--------------------------------------------------------------------------------------\n",
       "Intercept           -109.5753     40.989     -2.673      0.008    -190.197     -28.954\n",
       "population             0.0347      0.001     29.955      0.000       0.032       0.037\n",
       "population_squared -2.111e-09   1.37e-10    -15.390      0.000   -2.38e-09   -1.84e-09\n",
       "murder_category       15.1867     87.625      0.173      0.863    -157.163     187.536\n",
       "robbery_category     -96.2774     56.836     -1.694      0.091    -208.068      15.513\n",
       "==============================================================================\n",
       "Omnibus:                      129.816   Durbin-Watson:                   1.921\n",
       "Prob(Omnibus):                  0.000   Jarque-Bera (JB):            18476.109\n",
       "Skew:                          -0.223   Prob(JB):                         0.00\n",
       "Kurtosis:                      38.693   Cond. No.                     1.30e+13\n",
       "==============================================================================\n",
       "\n",
       "Warnings:\n",
       "[1] Standard Errors assume that the covariance matrix of the errors is correctly specified.\n",
       "[2] The condition number is large, 1.3e+13. This might indicate that there are\n",
       "strong multicollinearity or other numerical problems.\n",
       "\"\"\""
      ]
     },
     "execution_count": 12,
     "metadata": {},
     "output_type": "execute_result"
    }
   ],
   "source": [
    "# Create features. Non-zero values of murder and robbery will be coded as 1. \n",
    "df_ny13_final['population_squared'] = df_ny13_final['population'] * df_ny13_final['population']\n",
    "df_ny13_final['murder_category'] = np.where(df_ny13_final['murder']>0, 1, 0)\n",
    "df_ny13_final['robbery_category'] = np.where(df_ny13_final['robbery']>0, 1, 0)\n",
    "\n",
    "# Create the model based on these features.\n",
    "rc_ny13_ppmr = smf.ols(formula='property_crime ~ population + population_squared + murder_category + robbery_category', data=df_ny13_final).fit()\n",
    "\n",
    "# Print the summary table.\n",
    "rc_ny13_ppmr.summary()"
   ]
  },
  {
   "cell_type": "markdown",
   "metadata": {},
   "source": [
    "### C. Linear Regression Assumptions\n",
    "\n",
    "The three models exhibit possible overfitting since each R-squared value, which is a measure the model's accuracy, is exactly or close to 1.0. Overfitting can be caused by a failure in one or more of the four linear regression assumptions:\n",
    "\n",
    "1. Linear relationship - If the relationship is non-linear, the regression model will try to find any hint of a linear relationship, and only explain that – with predictable consequences for the validity of the model.\n",
    "\n",
    "2. Multivariate normality - The error from the model (calculated by subtracting the model-predicted values from the real outcome values) should be normally distributed. Since ordinary least squares regression models are fitted by choosing the parameters that best minimize error, skewness or outliers in the error can result in serious miss-estimations.\n",
    "\n",
    "3. Homoscedasticity - The distribution of the error terms (its \"scedasticity\"), should be consistent for all predicted values, or homoscedastic. For example, if the error terms aren't consistently distributed and there are more variance in the error for large outcome values than for small ones, the confidence interval for large predicted values will be too small because it will be based on the average error variance. This leads to overconfidence in the accuracy of the model's predictions.\n",
    "\n",
    "4. Low multicollinearity - Correlations among features should be low or nonexistent. When features are correlated, they may both explain the same pattern of variance in the outcome. The model will attempt to find a solution, potentially by attributing half the explanatory power to one feature and half to the other. \n",
    "\n",
    "The models will be tested on multivariate normality and homoscedasticity as these explain overfitting the most."
   ]
  },
  {
   "cell_type": "markdown",
   "metadata": {},
   "source": [
    "#### 1. Multivariate Normality\n",
    "\n",
    "##### a. Feature Engineering-Derived Model"
   ]
  },
  {
   "cell_type": "code",
   "execution_count": 13,
   "metadata": {},
   "outputs": [
    {
     "data": {
      "image/png": "[encoded data removed]",
      "text/plain": [
       "<matplotlib.figure.Figure at 0x288523f82b0>"
      ]
     },
     "metadata": {},
     "output_type": "display_data"
    }
   ],
   "source": [
    "# Extract the appopriate variables.\n",
    "y_ny13_ppmr = df_ny13_final['property_crime']\n",
    "X_ny13_ppmr = df_ny13_final[['population','population_squared','murder_category','robbery_category']]\n",
    "\n",
    "# Fit the model.\n",
    "regr_ny13_ppmr = linear_model.LinearRegression()\n",
    "regr_ny13_ppmr.fit(X_ny13_ppmr, y_ny13_ppmr)\n",
    "\n",
    "# Plot the residuals, or difference between actual and predicted values.\n",
    "predicted_ny13_ppmr = regr_ny13_ppmr.predict(X_ny13_ppmr)\n",
    "actual_ny13_ppmr = y_ny13_ppmr\n",
    "residual_ny13_ppmr = actual_ny13_ppmr - predicted_ny13_ppmr\n",
    "plt.hist(residual_ny13_ppmr)\n",
    "plt.title('Residual counts')\n",
    "plt.xlabel('Residual')\n",
    "plt.ylabel('Count')\n",
    "plt.show()"
   ]
  },
  {
   "cell_type": "code",
   "execution_count": 14,
   "metadata": {},
   "outputs": [
    {
     "data": {
      "image/png": "[encoded data removed]",
      "text/plain": [
       "<matplotlib.figure.Figure at 0x288523e7898>"
      ]
     },
     "metadata": {},
     "output_type": "display_data"
    }
   ],
   "source": [
    "# Confirm with QQ plot.\n",
    "import pylab \n",
    "import scipy.stats as stats\n",
    "\n",
    "stats.probplot(residual_ny13_ppmr, plot=pylab)\n",
    "plt.show()"
   ]
  },
  {
   "cell_type": "markdown",
   "metadata": {},
   "source": [
    "The outliers shown in the residual plot and the curved QQ plot confirm that the residuals are not normally distributed. These are most likely caused by outliers in the data, and can be fixed with non-linear transformations in either dependent or independent variables, or both."
   ]
  },
  {
   "cell_type": "code",
   "execution_count": 15,
   "metadata": {},
   "outputs": [
    {
     "data": {
      "image/png": "[encoded data removed]",
      "text/plain": [
       "<matplotlib.figure.Figure at 0x28852631470>"
      ]
     },
     "metadata": {},
     "output_type": "display_data"
    }
   ],
   "source": [
    "# Check for outliers in the dependent and principal independent variables.\n",
    "fig = plt.figure(figsize=(20, 15))\n",
    "ax1 = fig.add_subplot(221)\n",
    "ax2 = fig.add_subplot(222)\n",
    "ax3 = fig.add_subplot(223)\n",
    "ax4 = fig.add_subplot(224)\n",
    "\n",
    "sns.violinplot(y='property_crime', palette='muted', data=df_ny13_final, ax=ax1)\n",
    "sns.violinplot(y='population', palette='muted', data=df_ny13_final, ax=ax2)\n",
    "sns.violinplot(y='murder', palette='muted', data=df_ny13_final, ax=ax3)\n",
    "sns.violinplot(y='robbery', palette='muted', data=df_ny13_final, ax=ax4)\n",
    "plt.show()"
   ]
  },
  {
   "cell_type": "code",
   "execution_count": 16,
   "metadata": {},
   "outputs": [
    {
     "data": {
      "image/png": "[encoded data removed]",
      "text/plain": [
       "<matplotlib.figure.Figure at 0x2884fba68d0>"
      ]
     },
     "metadata": {},
     "output_type": "display_data"
    }
   ],
   "source": [
    "# Verify with a pair plot.\n",
    "g = sns.PairGrid(df_ny13_final[['property_crime', 'population', 'murder', 'robbery']])\n",
    "g = g.map(plt.scatter)"
   ]
  },
  {
   "cell_type": "code",
   "execution_count": 17,
   "metadata": {},
   "outputs": [
    {
     "name": "stdout",
     "output_type": "stream",
     "text": [
      "216    141971\n",
      "35      12491\n",
      "272     10051\n",
      "310      6473\n",
      "3        4090\n",
      "218      2807\n",
      "285      2800\n",
      "53       2689\n",
      "321      2528\n",
      "346      2368\n",
      "Name: property_crime, dtype: int64\n",
      "\n",
      "\n",
      "216    8396126\n",
      "35      258789\n",
      "272     210562\n",
      "346     199134\n",
      "310     143834\n",
      "7       118296\n",
      "3        97956\n",
      "126      96667\n",
      "267      87204\n",
      "57       80705\n",
      "Name: population, dtype: int64\n",
      "\n",
      "\n",
      "216    335.0\n",
      "35      47.0\n",
      "272     42.0\n",
      "310     21.0\n",
      "140     10.0\n",
      "3        8.0\n",
      "285      8.0\n",
      "321      7.0\n",
      "262      7.0\n",
      "346      6.0\n",
      "Name: murder, dtype: float64\n",
      "\n",
      "\n",
      "216    19170\n",
      "35      1322\n",
      "272      918\n",
      "310      400\n",
      "346      390\n",
      "206      228\n",
      "3        227\n",
      "140      204\n",
      "285      203\n",
      "218      166\n",
      "Name: robbery, dtype: int64\n"
     ]
    }
   ],
   "source": [
    "# Show outliers.\n",
    "print(df_ny13_final['property_crime'].sort_values(ascending=False).head(10))\n",
    "print('\\n')\n",
    "print(df_ny13_final['population'].sort_values(ascending=False).head(10))\n",
    "print('\\n')\n",
    "print(df_ny13_final['murder'].sort_values(ascending=False).head(10))\n",
    "print('\\n')\n",
    "print(df_ny13_final['robbery'].sort_values(ascending=False).head(10))"
   ]
  },
  {
   "cell_type": "code",
   "execution_count": 18,
   "metadata": {},
   "outputs": [
    {
     "data": {
      "text/html": [
       "<div>\n",
       "<style>\n",
       "    .dataframe thead tr:only-child th {\n",
       "        text-align: right;\n",
       "    }\n",
       "\n",
       "    .dataframe thead th {\n",
       "        text-align: left;\n",
       "    }\n",
       "\n",
       "    .dataframe tbody tr th {\n",
       "        vertical-align: top;\n",
       "    }\n",
       "</style>\n",
       "<table border=\"1\" class=\"dataframe\">\n",
       "  <thead>\n",
       "    <tr style=\"text-align: right;\">\n",
       "      <th></th>\n",
       "      <th>population</th>\n",
       "      <th>violent_crime</th>\n",
       "      <th>murder</th>\n",
       "      <th>rape</th>\n",
       "      <th>robbery</th>\n",
       "      <th>aggravated_assault</th>\n",
       "      <th>property_crime</th>\n",
       "      <th>burglary</th>\n",
       "      <th>larceny_theft</th>\n",
       "      <th>motor_vehicle_theft</th>\n",
       "      <th>arson</th>\n",
       "      <th>population_squared</th>\n",
       "      <th>murder_category</th>\n",
       "      <th>robbery_category</th>\n",
       "    </tr>\n",
       "  </thead>\n",
       "  <tbody>\n",
       "    <tr>\n",
       "      <th>186</th>\n",
       "      <td>1688</td>\n",
       "      <td>0</td>\n",
       "      <td>0.0</td>\n",
       "      <td>0</td>\n",
       "      <td>0</td>\n",
       "      <td>0</td>\n",
       "      <td>0</td>\n",
       "      <td>0</td>\n",
       "      <td>0</td>\n",
       "      <td>0</td>\n",
       "      <td>0.0</td>\n",
       "      <td>2849344</td>\n",
       "      <td>0</td>\n",
       "      <td>0</td>\n",
       "    </tr>\n",
       "    <tr>\n",
       "      <th>208</th>\n",
       "      <td>1622</td>\n",
       "      <td>0</td>\n",
       "      <td>0.0</td>\n",
       "      <td>0</td>\n",
       "      <td>0</td>\n",
       "      <td>0</td>\n",
       "      <td>0</td>\n",
       "      <td>0</td>\n",
       "      <td>0</td>\n",
       "      <td>0</td>\n",
       "      <td>0.0</td>\n",
       "      <td>2630884</td>\n",
       "      <td>0</td>\n",
       "      <td>0</td>\n",
       "    </tr>\n",
       "    <tr>\n",
       "      <th>256</th>\n",
       "      <td>1274</td>\n",
       "      <td>0</td>\n",
       "      <td>0.0</td>\n",
       "      <td>0</td>\n",
       "      <td>0</td>\n",
       "      <td>0</td>\n",
       "      <td>0</td>\n",
       "      <td>0</td>\n",
       "      <td>0</td>\n",
       "      <td>0</td>\n",
       "      <td>0.0</td>\n",
       "      <td>1623076</td>\n",
       "      <td>0</td>\n",
       "      <td>0</td>\n",
       "    </tr>\n",
       "    <tr>\n",
       "      <th>287</th>\n",
       "      <td>872</td>\n",
       "      <td>0</td>\n",
       "      <td>0.0</td>\n",
       "      <td>0</td>\n",
       "      <td>0</td>\n",
       "      <td>0</td>\n",
       "      <td>0</td>\n",
       "      <td>0</td>\n",
       "      <td>0</td>\n",
       "      <td>0</td>\n",
       "      <td>0.0</td>\n",
       "      <td>760384</td>\n",
       "      <td>0</td>\n",
       "      <td>0</td>\n",
       "    </tr>\n",
       "    <tr>\n",
       "      <th>295</th>\n",
       "      <td>1437</td>\n",
       "      <td>0</td>\n",
       "      <td>0.0</td>\n",
       "      <td>0</td>\n",
       "      <td>0</td>\n",
       "      <td>0</td>\n",
       "      <td>0</td>\n",
       "      <td>0</td>\n",
       "      <td>0</td>\n",
       "      <td>0</td>\n",
       "      <td>0.0</td>\n",
       "      <td>2064969</td>\n",
       "      <td>0</td>\n",
       "      <td>0</td>\n",
       "    </tr>\n",
       "    <tr>\n",
       "      <th>319</th>\n",
       "      <td>615</td>\n",
       "      <td>0</td>\n",
       "      <td>0.0</td>\n",
       "      <td>0</td>\n",
       "      <td>0</td>\n",
       "      <td>0</td>\n",
       "      <td>0</td>\n",
       "      <td>0</td>\n",
       "      <td>0</td>\n",
       "      <td>0</td>\n",
       "      <td>0.0</td>\n",
       "      <td>378225</td>\n",
       "      <td>0</td>\n",
       "      <td>0</td>\n",
       "    </tr>\n",
       "  </tbody>\n",
       "</table>\n",
       "</div>"
      ],
      "text/plain": [
       "     population  violent_crime  murder  rape  robbery  aggravated_assault  \\\n",
       "186        1688              0     0.0     0        0                   0   \n",
       "208        1622              0     0.0     0        0                   0   \n",
       "256        1274              0     0.0     0        0                   0   \n",
       "287         872              0     0.0     0        0                   0   \n",
       "295        1437              0     0.0     0        0                   0   \n",
       "319         615              0     0.0     0        0                   0   \n",
       "\n",
       "     property_crime  burglary  larceny_theft  motor_vehicle_theft  arson  \\\n",
       "186               0         0              0                    0    0.0   \n",
       "208               0         0              0                    0    0.0   \n",
       "256               0         0              0                    0    0.0   \n",
       "287               0         0              0                    0    0.0   \n",
       "295               0         0              0                    0    0.0   \n",
       "319               0         0              0                    0    0.0   \n",
       "\n",
       "     population_squared  murder_category  robbery_category  \n",
       "186             2849344                0                 0  \n",
       "208             2630884                0                 0  \n",
       "256             1623076                0                 0  \n",
       "287              760384                0                 0  \n",
       "295             2064969                0                 0  \n",
       "319              378225                0                 0  "
      ]
     },
     "execution_count": 18,
     "metadata": {},
     "output_type": "execute_result"
    }
   ],
   "source": [
    "# Transformation causes error. Check for zeroes in property_crime (dependent variable).\n",
    "df_ny13_final[df_ny13_final['property_crime'] == 0]"
   ]
  },
  {
   "cell_type": "code",
   "execution_count": 19,
   "metadata": {
    "collapsed": true
   },
   "outputs": [],
   "source": [
    "# Drop rows with zeroes.\n",
    "df_ny13_final_nzpc = df_ny13_final[df_ny13_final['property_crime'] != 0]"
   ]
  },
  {
   "cell_type": "markdown",
   "metadata": {},
   "source": [
    "Removing rows with zeroes in the dependent variable should not adversely impact the model since they don't add to the model's predictive value. The same can't be said for independent variables. Rows with zero independent variables will not be dropped, therefore, transformation will be limited to the dependent variable. Log transformation will be conducted since it is best suited for dealing with outliers, which causes residual non-normality."
   ]
  },
  {
   "cell_type": "code",
   "execution_count": 20,
   "metadata": {},
   "outputs": [
    {
     "name": "stdout",
     "output_type": "stream",
     "text": [
      "\n",
      "Coefficients: \n",
      " [  2.533e-05  -2.926e-12   4.946e-01   1.631e+00]\n",
      "\n",
      "Intercept: \n",
      " 3.29309526531\n",
      "\n",
      "R-squared:\n",
      "0.690682085308\n"
     ]
    }
   ],
   "source": [
    "# Run the model with log transformation on the dependent variable.\n",
    "# Set the appropriate variables.\n",
    "y_ny13_ppmr_nzpc = np.log(df_ny13_final_nzpc['property_crime'])\n",
    "X_ny13_ppmr_nzpc = df_ny13_final_nzpc[['population','population_squared','murder_category','robbery_category']]\n",
    "\n",
    "# Fit the model.\n",
    "regr_ny13_ppmr_nzpc = linear_model.LinearRegression()\n",
    "regr_ny13_ppmr_nzpc.fit(X_ny13_ppmr_nzpc, y_ny13_ppmr_nzpc)\n",
    "\n",
    "print('\\nCoefficients: \\n', regr_ny13_ppmr_nzpc.coef_)\n",
    "print('\\nIntercept: \\n', regr_ny13_ppmr_nzpc.intercept_)\n",
    "print('\\nR-squared:')\n",
    "print(regr_ny13_ppmr_nzpc.score(X_ny13_ppmr_nzpc, y_ny13_ppmr_nzpc))"
   ]
  },
  {
   "cell_type": "markdown",
   "metadata": {},
   "source": [
    "R-squared dropped from 0.996 to 0.691."
   ]
  },
  {
   "cell_type": "code",
   "execution_count": 21,
   "metadata": {},
   "outputs": [
    {
     "data": {
      "image/png": "[encoded data removed]",
      "text/plain": [
       "<matplotlib.figure.Figure at 0x28852644080>"
      ]
     },
     "metadata": {},
     "output_type": "display_data"
    }
   ],
   "source": [
    "# Verify residual distribution.\n",
    "predicted_ny13_ppmr_nzpc = regr_ny13_ppmr_nzpc.predict(X_ny13_ppmr_nzpc)\n",
    "actual_ny13_ppmr_nzpc = y_ny13_ppmr_nzpc\n",
    "residual_ny13_ppmr_nzpc = actual_ny13_ppmr_nzpc - predicted_ny13_ppmr_nzpc\n",
    "plt.hist(residual_ny13_ppmr_nzpc)\n",
    "plt.title('Residual counts')\n",
    "plt.xlabel('Residual')\n",
    "plt.ylabel('Count')\n",
    "plt.show()"
   ]
  },
  {
   "cell_type": "code",
   "execution_count": 22,
   "metadata": {},
   "outputs": [
    {
     "data": {
      "image/png": "[encoded data removed]",
      "text/plain": [
       "<matplotlib.figure.Figure at 0x2885327eb70>"
      ]
     },
     "metadata": {},
     "output_type": "display_data"
    }
   ],
   "source": [
    "# Check with QQ plot.\n",
    "stats.probplot(residual_ny13_ppmr_nzpc, plot=pylab)\n",
    "plt.show()"
   ]
  },
  {
   "cell_type": "markdown",
   "metadata": {},
   "source": [
    "Both plots improved, which confirms the log transform's effect on the dependent variable. Check if R-squared can be improved by removing outliers in the log-transformed data."
   ]
  },
  {
   "cell_type": "code",
   "execution_count": 23,
   "metadata": {},
   "outputs": [
    {
     "name": "stdout",
     "output_type": "stream",
     "text": [
      "\n",
      "Coefficients: \n",
      " [  9.633e-05  -6.955e-10   1.421e-01   1.165e+00]\n",
      "\n",
      "Intercept: \n",
      " 2.9921533517\n",
      "\n",
      "R-squared:\n",
      "0.732091721047\n"
     ]
    }
   ],
   "source": [
    "# Drop the rows containing the population outliers.\n",
    "df_ny13_or = df_ny13_final_nzpc[df_ny13_final_nzpc['population']<100000]\n",
    "\n",
    "# Set the variables.\n",
    "y_ny13_ppmr_orlt = np.log(df_ny13_or['property_crime'])\n",
    "X_ny13_ppmr_orlt = df_ny13_or[['population','population_squared','murder_category','robbery_category']]\n",
    "\n",
    "# Fit the model.\n",
    "regr_ny13_ppmr_orlt = linear_model.LinearRegression()\n",
    "regr_ny13_ppmr_orlt.fit(X_ny13_ppmr_orlt, y_ny13_ppmr_orlt)\n",
    "\n",
    "print('\\nCoefficients: \\n', regr_ny13_ppmr_orlt.coef_)\n",
    "print('\\nIntercept: \\n', regr_ny13_ppmr_orlt.intercept_)\n",
    "print('\\nR-squared:')\n",
    "print(regr_ny13_ppmr_orlt.score(X_ny13_ppmr_orlt, y_ny13_ppmr_orlt))"
   ]
  },
  {
   "cell_type": "markdown",
   "metadata": {},
   "source": [
    "R-squared improved from 0.691 to 0.732. Optimum outlier removal appears to be at population over 100,000."
   ]
  },
  {
   "cell_type": "code",
   "execution_count": 24,
   "metadata": {},
   "outputs": [
    {
     "data": {
      "text/html": [
       "<table class=\"simpletable\">\n",
       "<caption>OLS Regression Results</caption>\n",
       "<tr>\n",
       "  <th>Dep. Variable:</th>    <td>np.log(property_crime)</td> <th>  R-squared:         </th> <td>   0.732</td>\n",
       "</tr>\n",
       "<tr>\n",
       "  <th>Model:</th>                      <td>OLS</td>          <th>  Adj. R-squared:    </th> <td>   0.729</td>\n",
       "</tr>\n",
       "<tr>\n",
       "  <th>Method:</th>                <td>Least Squares</td>     <th>  F-statistic:       </th> <td>   226.1</td>\n",
       "</tr>\n",
       "<tr>\n",
       "  <th>Date:</th>                <td>Mon, 15 Jan 2018</td>    <th>  Prob (F-statistic):</th> <td>2.62e-93</td>\n",
       "</tr>\n",
       "<tr>\n",
       "  <th>Time:</th>                    <td>17:36:28</td>        <th>  Log-Likelihood:    </th> <td> -396.86</td>\n",
       "</tr>\n",
       "<tr>\n",
       "  <th>No. Observations:</th>         <td>   336</td>         <th>  AIC:               </th> <td>   803.7</td>\n",
       "</tr>\n",
       "<tr>\n",
       "  <th>Df Residuals:</th>             <td>   331</td>         <th>  BIC:               </th> <td>   822.8</td>\n",
       "</tr>\n",
       "<tr>\n",
       "  <th>Df Model:</th>                 <td>     4</td>         <th>                     </th>     <td> </td>   \n",
       "</tr>\n",
       "<tr>\n",
       "  <th>Covariance Type:</th>         <td>nonrobust</td>       <th>                     </th>     <td> </td>   \n",
       "</tr>\n",
       "</table>\n",
       "<table class=\"simpletable\">\n",
       "<tr>\n",
       "           <td></td>             <th>coef</th>     <th>std err</th>      <th>t</th>      <th>P>|t|</th>  <th>[0.025</th>    <th>0.975]</th>  \n",
       "</tr>\n",
       "<tr>\n",
       "  <th>Intercept</th>          <td>    2.9922</td> <td>    0.076</td> <td>   39.116</td> <td> 0.000</td> <td>    2.842</td> <td>    3.143</td>\n",
       "</tr>\n",
       "<tr>\n",
       "  <th>population</th>         <td> 9.633e-05</td> <td> 7.99e-06</td> <td>   12.060</td> <td> 0.000</td> <td> 8.06e-05</td> <td>    0.000</td>\n",
       "</tr>\n",
       "<tr>\n",
       "  <th>population_squared</th> <td>-6.955e-10</td> <td> 9.89e-11</td> <td>   -7.031</td> <td> 0.000</td> <td> -8.9e-10</td> <td>-5.01e-10</td>\n",
       "</tr>\n",
       "<tr>\n",
       "  <th>murder_category</th>    <td>    0.1421</td> <td>    0.149</td> <td>    0.951</td> <td> 0.342</td> <td>   -0.152</td> <td>    0.436</td>\n",
       "</tr>\n",
       "<tr>\n",
       "  <th>robbery_category</th>   <td>    1.1651</td> <td>    0.105</td> <td>   11.066</td> <td> 0.000</td> <td>    0.958</td> <td>    1.372</td>\n",
       "</tr>\n",
       "</table>\n",
       "<table class=\"simpletable\">\n",
       "<tr>\n",
       "  <th>Omnibus:</th>       <td>58.340</td> <th>  Durbin-Watson:     </th> <td>   1.945</td>\n",
       "</tr>\n",
       "<tr>\n",
       "  <th>Prob(Omnibus):</th> <td> 0.000</td> <th>  Jarque-Bera (JB):  </th> <td> 112.501</td>\n",
       "</tr>\n",
       "<tr>\n",
       "  <th>Skew:</th>          <td>-0.934</td> <th>  Prob(JB):          </th> <td>3.72e-25</td>\n",
       "</tr>\n",
       "<tr>\n",
       "  <th>Kurtosis:</th>      <td> 5.131</td> <th>  Cond. No.          </th> <td>4.53e+09</td>\n",
       "</tr>\n",
       "</table>"
      ],
      "text/plain": [
       "<class 'statsmodels.iolib.summary.Summary'>\n",
       "\"\"\"\n",
       "                              OLS Regression Results                              \n",
       "==================================================================================\n",
       "Dep. Variable:     np.log(property_crime)   R-squared:                       0.732\n",
       "Model:                                OLS   Adj. R-squared:                  0.729\n",
       "Method:                     Least Squares   F-statistic:                     226.1\n",
       "Date:                    Mon, 15 Jan 2018   Prob (F-statistic):           2.62e-93\n",
       "Time:                            17:36:28   Log-Likelihood:                -396.86\n",
       "No. Observations:                     336   AIC:                             803.7\n",
       "Df Residuals:                         331   BIC:                             822.8\n",
       "Df Model:                               4                                         \n",
       "Covariance Type:                nonrobust                                         \n",
       "======================================================================================\n",
       "                         coef    std err          t      P>|t|      [0.025      0.975]\n",
       "--------------------------------------------------------------------------------------\n",
       "Intercept              2.9922      0.076     39.116      0.000       2.842       3.143\n",
       "population          9.633e-05   7.99e-06     12.060      0.000    8.06e-05       0.000\n",
       "population_squared -6.955e-10   9.89e-11     -7.031      0.000    -8.9e-10   -5.01e-10\n",
       "murder_category        0.1421      0.149      0.951      0.342      -0.152       0.436\n",
       "robbery_category       1.1651      0.105     11.066      0.000       0.958       1.372\n",
       "==============================================================================\n",
       "Omnibus:                       58.340   Durbin-Watson:                   1.945\n",
       "Prob(Omnibus):                  0.000   Jarque-Bera (JB):              112.501\n",
       "Skew:                          -0.934   Prob(JB):                     3.72e-25\n",
       "Kurtosis:                       5.131   Cond. No.                     4.53e+09\n",
       "==============================================================================\n",
       "\n",
       "Warnings:\n",
       "[1] Standard Errors assume that the covariance matrix of the errors is correctly specified.\n",
       "[2] The condition number is large, 4.53e+09. This might indicate that there are\n",
       "strong multicollinearity or other numerical problems.\n",
       "\"\"\""
      ]
     },
     "execution_count": 24,
     "metadata": {},
     "output_type": "execute_result"
    }
   ],
   "source": [
    "# Verify with an OLS regression table.\n",
    "rc_ny13_ppmr_orlt = smf.ols(formula='np.log(property_crime) ~ population + population_squared + murder_category + robbery_category', data=df_ny13_or).fit()\n",
    "\n",
    "# Print the summary table.\n",
    "rc_ny13_ppmr_orlt.summary()"
   ]
  },
  {
   "cell_type": "markdown",
   "metadata": {},
   "source": [
    "After a log transform, only the murder_category feature has an insignificant p value (> 0.05), and can be discarded from the model. The rest are significant (< 0.05), which means the null hypothesis that they don't have an effect on the dependent variable can be rejected; as such, they can be kept in the model."
   ]
  },
  {
   "cell_type": "code",
   "execution_count": 25,
   "metadata": {},
   "outputs": [
    {
     "data": {
      "text/html": [
       "<table class=\"simpletable\">\n",
       "<caption>OLS Regression Results</caption>\n",
       "<tr>\n",
       "  <th>Dep. Variable:</th>    <td>np.log(property_crime)</td> <th>  R-squared:         </th> <td>   0.731</td>\n",
       "</tr>\n",
       "<tr>\n",
       "  <th>Model:</th>                      <td>OLS</td>          <th>  Adj. R-squared:    </th> <td>   0.729</td>\n",
       "</tr>\n",
       "<tr>\n",
       "  <th>Method:</th>                <td>Least Squares</td>     <th>  F-statistic:       </th> <td>   301.3</td>\n",
       "</tr>\n",
       "<tr>\n",
       "  <th>Date:</th>                <td>Mon, 15 Jan 2018</td>    <th>  Prob (F-statistic):</th> <td>2.18e-94</td>\n",
       "</tr>\n",
       "<tr>\n",
       "  <th>Time:</th>                    <td>17:36:28</td>        <th>  Log-Likelihood:    </th> <td> -397.32</td>\n",
       "</tr>\n",
       "<tr>\n",
       "  <th>No. Observations:</th>         <td>   336</td>         <th>  AIC:               </th> <td>   802.6</td>\n",
       "</tr>\n",
       "<tr>\n",
       "  <th>Df Residuals:</th>             <td>   332</td>         <th>  BIC:               </th> <td>   817.9</td>\n",
       "</tr>\n",
       "<tr>\n",
       "  <th>Df Model:</th>                 <td>     3</td>         <th>                     </th>     <td> </td>   \n",
       "</tr>\n",
       "<tr>\n",
       "  <th>Covariance Type:</th>         <td>nonrobust</td>       <th>                     </th>     <td> </td>   \n",
       "</tr>\n",
       "</table>\n",
       "<table class=\"simpletable\">\n",
       "<tr>\n",
       "           <td></td>             <th>coef</th>     <th>std err</th>      <th>t</th>      <th>P>|t|</th>  <th>[0.025</th>    <th>0.975]</th>  \n",
       "</tr>\n",
       "<tr>\n",
       "  <th>Intercept</th>          <td>    2.9834</td> <td>    0.076</td> <td>   39.292</td> <td> 0.000</td> <td>    2.834</td> <td>    3.133</td>\n",
       "</tr>\n",
       "<tr>\n",
       "  <th>population</th>         <td> 9.855e-05</td> <td> 7.64e-06</td> <td>   12.900</td> <td> 0.000</td> <td> 8.35e-05</td> <td>    0.000</td>\n",
       "</tr>\n",
       "<tr>\n",
       "  <th>population_squared</th> <td>-7.096e-10</td> <td> 9.78e-11</td> <td>   -7.257</td> <td> 0.000</td> <td>-9.02e-10</td> <td>-5.17e-10</td>\n",
       "</tr>\n",
       "<tr>\n",
       "  <th>robbery_category</th>   <td>    1.1703</td> <td>    0.105</td> <td>   11.132</td> <td> 0.000</td> <td>    0.964</td> <td>    1.377</td>\n",
       "</tr>\n",
       "</table>\n",
       "<table class=\"simpletable\">\n",
       "<tr>\n",
       "  <th>Omnibus:</th>       <td>57.965</td> <th>  Durbin-Watson:     </th> <td>   1.939</td>\n",
       "</tr>\n",
       "<tr>\n",
       "  <th>Prob(Omnibus):</th> <td> 0.000</td> <th>  Jarque-Bera (JB):  </th> <td> 110.749</td>\n",
       "</tr>\n",
       "<tr>\n",
       "  <th>Skew:</th>          <td>-0.933</td> <th>  Prob(JB):          </th> <td>8.94e-25</td>\n",
       "</tr>\n",
       "<tr>\n",
       "  <th>Kurtosis:</th>      <td> 5.105</td> <th>  Cond. No.          </th> <td>3.37e+09</td>\n",
       "</tr>\n",
       "</table>"
      ],
      "text/plain": [
       "<class 'statsmodels.iolib.summary.Summary'>\n",
       "\"\"\"\n",
       "                              OLS Regression Results                              \n",
       "==================================================================================\n",
       "Dep. Variable:     np.log(property_crime)   R-squared:                       0.731\n",
       "Model:                                OLS   Adj. R-squared:                  0.729\n",
       "Method:                     Least Squares   F-statistic:                     301.3\n",
       "Date:                    Mon, 15 Jan 2018   Prob (F-statistic):           2.18e-94\n",
       "Time:                            17:36:28   Log-Likelihood:                -397.32\n",
       "No. Observations:                     336   AIC:                             802.6\n",
       "Df Residuals:                         332   BIC:                             817.9\n",
       "Df Model:                               3                                         \n",
       "Covariance Type:                nonrobust                                         \n",
       "======================================================================================\n",
       "                         coef    std err          t      P>|t|      [0.025      0.975]\n",
       "--------------------------------------------------------------------------------------\n",
       "Intercept              2.9834      0.076     39.292      0.000       2.834       3.133\n",
       "population          9.855e-05   7.64e-06     12.900      0.000    8.35e-05       0.000\n",
       "population_squared -7.096e-10   9.78e-11     -7.257      0.000   -9.02e-10   -5.17e-10\n",
       "robbery_category       1.1703      0.105     11.132      0.000       0.964       1.377\n",
       "==============================================================================\n",
       "Omnibus:                       57.965   Durbin-Watson:                   1.939\n",
       "Prob(Omnibus):                  0.000   Jarque-Bera (JB):              110.749\n",
       "Skew:                          -0.933   Prob(JB):                     8.94e-25\n",
       "Kurtosis:                       5.105   Cond. No.                     3.37e+09\n",
       "==============================================================================\n",
       "\n",
       "Warnings:\n",
       "[1] Standard Errors assume that the covariance matrix of the errors is correctly specified.\n",
       "[2] The condition number is large, 3.37e+09. This might indicate that there are\n",
       "strong multicollinearity or other numerical problems.\n",
       "\"\"\""
      ]
     },
     "execution_count": 25,
     "metadata": {},
     "output_type": "execute_result"
    }
   ],
   "source": [
    "# Check the new parameters.\n",
    "rc_ny13_ppr_orlt = smf.ols(formula='np.log(property_crime) ~ population + population_squared + robbery_category', data=df_ny13_or).fit()\n",
    "\n",
    "# Print the summary table.\n",
    "rc_ny13_ppr_orlt.summary()"
   ]
  },
  {
   "cell_type": "markdown",
   "metadata": {},
   "source": [
    "There was an insignificant decrease in R-squared after removing murder_category. The final Feature Engineering-derived model will therefore consist of the remaining three features."
   ]
  },
  {
   "cell_type": "markdown",
   "metadata": {},
   "source": [
    "##### b. Feature Selection-Derived Models"
   ]
  },
  {
   "cell_type": "code",
   "execution_count": 26,
   "metadata": {},
   "outputs": [
    {
     "name": "stdout",
     "output_type": "stream",
     "text": [
      "\n",
      "Coefficients: \n",
      " [  3.089e-05   4.366e-03  -1.119e-02   2.111e-03]\n",
      "\n",
      "Intercept: \n",
      " 3.8548861166\n",
      "\n",
      "R-squared:\n",
      "0.569651626528\n"
     ]
    }
   ],
   "source": [
    "# Conduct log transformation on the Univariate Selection model.\n",
    "# Set the variables.\n",
    "y_ny13_pval_orlt = y_ny13_ppmr_orlt\n",
    "X_ny13_pval_orlt = df_ny13_or[['population', 'violent_crime', 'aggravated_assault', 'larceny_theft']]\n",
    "\n",
    "# Fit the model.\n",
    "regr_ny13_pval_orlt = linear_model.LinearRegression()\n",
    "regr_ny13_pval_orlt.fit(X_ny13_pval_orlt, y_ny13_pval_orlt)\n",
    "\n",
    "print('\\nCoefficients: \\n', regr_ny13_pval_orlt.coef_)\n",
    "print('\\nIntercept: \\n', regr_ny13_pval_orlt.intercept_)\n",
    "print('\\nR-squared:')\n",
    "print(regr_ny13_pval_orlt.score(X_ny13_pval_orlt, y_ny13_pval_orlt))"
   ]
  },
  {
   "cell_type": "code",
   "execution_count": 27,
   "metadata": {},
   "outputs": [
    {
     "name": "stdout",
     "output_type": "stream",
     "text": [
      "\n",
      "Coefficients: \n",
      " [  3.541e-05  -4.756e-03   3.793e-03   1.488e-03]\n",
      "\n",
      "Intercept: \n",
      " 3.82165769733\n",
      "\n",
      "R-squared:\n",
      "0.573887514317\n"
     ]
    }
   ],
   "source": [
    "# Conduct log transformation on the Feature Importance model.\n",
    "# Set the variables.\n",
    "y_ny13_pvbl_orlt = y_ny13_ppmr_orlt\n",
    "X_ny13_pvbl_orlt = df_ny13_or[['population', 'violent_crime', 'burglary', 'larceny_theft']]\n",
    "\n",
    "# Fit the model.\n",
    "regr_ny13_pvbl_orlt = linear_model.LinearRegression()\n",
    "regr_ny13_pvbl_orlt.fit(X_ny13_pvbl_orlt, y_ny13_pvbl_orlt)\n",
    "\n",
    "print('\\nCoefficients: \\n', regr_ny13_pvbl_orlt.coef_)\n",
    "print('\\nIntercept: \\n', regr_ny13_pvbl_orlt.intercept_)\n",
    "print('\\nR-squared:')\n",
    "print(regr_ny13_pvbl_orlt.score(X_ny13_pvbl_orlt, y_ny13_pvbl_orlt))"
   ]
  },
  {
   "cell_type": "markdown",
   "metadata": {},
   "source": [
    "The Feature Engineering-derived model's R-squared is higher than both the Feature Selection models after a log transform on the outlier-removed data; therefore, the Feature Engineering-derived model will be selected and used for training and testing."
   ]
  },
  {
   "cell_type": "markdown",
   "metadata": {},
   "source": [
    "#### 2. Homoscedasticity"
   ]
  },
  {
   "cell_type": "code",
   "execution_count": 28,
   "metadata": {},
   "outputs": [
    {
     "data": {
      "image/png": "[encoded data removed]",
      "text/plain": [
       "<matplotlib.figure.Figure at 0x2884fba60b8>"
      ]
     },
     "metadata": {},
     "output_type": "display_data"
    }
   ],
   "source": [
    "# Check for heteroscedasticity.\n",
    "# Set the variables.\n",
    "y_ny13_ppr = y_ny13_ppmr\n",
    "X_ny13_ppr = df_ny13_final[['population','population_squared', 'robbery_category']]\n",
    "\n",
    "# Fit the model.\n",
    "regr_ny13_ppr = linear_model.LinearRegression()\n",
    "regr_ny13_ppr.fit(X_ny13_ppr, y_ny13_ppr)\n",
    "\n",
    "# Plot the predicted vs. the residual values.\n",
    "predicted_ny13_ppr = regr_ny13_ppr.predict(X_ny13_ppr)\n",
    "actual_ny13_ppr = y_ny13_ppr\n",
    "residual_ny13_ppr = actual_ny13_ppr - predicted_ny13_ppr\n",
    "plt.scatter(predicted_ny13_ppmr, residual_ny13_ppmr)\n",
    "plt.title('Residual vs. Predicted')\n",
    "plt.xlabel('Predicted')\n",
    "plt.ylabel('Residual')\n",
    "plt.show()"
   ]
  },
  {
   "cell_type": "markdown",
   "metadata": {},
   "source": [
    "Variable transformation can also address heteroscedasticity issues. The following plots show the corresponding effects."
   ]
  },
  {
   "cell_type": "markdown",
   "metadata": {},
   "source": [
    "##### a. Log-Transformed with Outliers"
   ]
  },
  {
   "cell_type": "code",
   "execution_count": 29,
   "metadata": {},
   "outputs": [
    {
     "data": {
      "image/png": "[encoded data removed]",
      "text/plain": [
       "<matplotlib.figure.Figure at 0x28853564048>"
      ]
     },
     "metadata": {},
     "output_type": "display_data"
    }
   ],
   "source": [
    "# Set the variables.\n",
    "y_ny13_ppr_nzpc = y_ny13_ppmr_nzpc\n",
    "X_ny13_ppr_nzpc = df_ny13_final_nzpc[['population','population_squared','robbery_category']]\n",
    "\n",
    "# Fit the model.\n",
    "regr_ny13_ppr_nzpc = linear_model.LinearRegression()\n",
    "regr_ny13_ppr_nzpc.fit(X_ny13_ppr_nzpc, y_ny13_ppr_nzpc)\n",
    "\n",
    "# Plot predicted vs. residual values.\n",
    "predicted_ny13_ppr_nzpc = regr_ny13_ppr_nzpc.predict(X_ny13_ppr_nzpc)\n",
    "actual_ny13_ppr_nzpc = y_ny13_ppr_nzpc\n",
    "residual_ny13_ppr_nzpc = actual_ny13_ppr_nzpc - predicted_ny13_ppr_nzpc\n",
    "plt.scatter(predicted_ny13_ppr_nzpc, residual_ny13_ppr_nzpc)\n",
    "plt.title('Residual vs. Predicted')\n",
    "plt.xlabel('Predicted')\n",
    "plt.ylabel('Residual')\n",
    "plt.show()"
   ]
  },
  {
   "cell_type": "markdown",
   "metadata": {},
   "source": [
    "##### b. Outliers Removed, No Transformation"
   ]
  },
  {
   "cell_type": "code",
   "execution_count": 30,
   "metadata": {},
   "outputs": [
    {
     "data": {
      "image/png": "[encoded data removed]",
      "text/plain": [
       "<matplotlib.figure.Figure at 0x2885353d4a8>"
      ]
     },
     "metadata": {},
     "output_type": "display_data"
    }
   ],
   "source": [
    "# Set the variables.\n",
    "y_ny13_ppr_or = df_ny13_or['property_crime']\n",
    "X_ny13_ppr_or = df_ny13_or[['population','population_squared', 'robbery_category']]\n",
    "\n",
    "# Fit the model.\n",
    "regr_ny13_ppr_or = linear_model.LinearRegression()\n",
    "regr_ny13_ppr_or.fit(X_ny13_ppr_or, y_ny13_ppr_or)\n",
    "\n",
    "# Plot predicted vs. residual values.\n",
    "predicted_ny13_ppr_or = regr_ny13_ppr_or.predict(X_ny13_ppr_or)\n",
    "actual_ny13_ppr_or = y_ny13_ppr_or\n",
    "residual_ny13_ppr_or = actual_ny13_ppr_or - predicted_ny13_ppr_or\n",
    "plt.scatter(predicted_ny13_ppr_or, residual_ny13_ppr_or)\n",
    "plt.title('Residual vs. Predicted')\n",
    "plt.xlabel('Predicted')\n",
    "plt.ylabel('Residual')\n",
    "plt.show()"
   ]
  },
  {
   "cell_type": "markdown",
   "metadata": {},
   "source": [
    "##### c. Log-Transformed, Outliers Removed"
   ]
  },
  {
   "cell_type": "code",
   "execution_count": 31,
   "metadata": {},
   "outputs": [
    {
     "data": {
      "image/png": "[encoded data removed]",
      "text/plain": [
       "<matplotlib.figure.Figure at 0x288535a6128>"
      ]
     },
     "metadata": {},
     "output_type": "display_data"
    }
   ],
   "source": [
    "# Set the variables.\n",
    "y_ny13_ppr_orlt = y_ny13_ppmr_orlt\n",
    "X_ny13_ppr_orlt = X_ny13_ppr_or\n",
    "\n",
    "# Fit the model.\n",
    "regr_ny13_ppr_orlt = linear_model.LinearRegression()\n",
    "regr_ny13_ppr_orlt.fit(X_ny13_ppr_orlt, y_ny13_ppr_orlt)\n",
    "\n",
    "# Plot predicted vs. residual values.\n",
    "predicted_ny13_ppr_orlt = regr_ny13_ppr_orlt.predict(X_ny13_ppr_orlt)\n",
    "actual_ny13_ppr_orlt = y_ny13_ppr_orlt\n",
    "residual_ny13_ppr_orlt = actual_ny13_ppr_orlt - predicted_ny13_ppr_orlt\n",
    "plt.scatter(predicted_ny13_ppr_orlt, residual_ny13_ppr_orlt)\n",
    "plt.title('Residual vs. Predicted')\n",
    "plt.xlabel('Predicted')\n",
    "plt.ylabel('Residual')\n",
    "plt.show()"
   ]
  },
  {
   "cell_type": "markdown",
   "metadata": {},
   "source": [
    "As with multivariate non-normality, log transformation on the dependent variable where the outliers have been removed appear to have the most effect on heteroscedasticity."
   ]
  },
  {
   "cell_type": "markdown",
   "metadata": {},
   "source": [
    "### D. Train and Test the Model\n",
    "\n",
    "#### 1. Train the Current Dataset\n",
    "\n",
    "The current dataset, NY 2013, will be trained and tested using two methods - train/test split and K-folds cross validation.\n",
    "\n",
    "##### a. Train/Test Split"
   ]
  },
  {
   "cell_type": "code",
   "execution_count": 32,
   "metadata": {},
   "outputs": [
    {
     "name": "stdout",
     "output_type": "stream",
     "text": [
      "Predicted: [ 4.535  6.47   4.694  5.38   5.045]\n",
      "\n",
      "\n",
      "Actual:\n",
      "144    3.637586\n",
      "257    6.349139\n",
      "329    5.267858\n",
      "115    5.837730\n",
      "181    4.110874\n",
      "Name: property_crime, dtype: float64\n"
     ]
    }
   ],
   "source": [
    "# Split the data into train and test samples. Use the outlier-removed, log-transformed dataset.\n",
    "from sklearn.model_selection import train_test_split\n",
    "X_train_tts_ny13, X_test_tts_ny13, y_train_tts_ny13, y_test_tts_ny13 = train_test_split(X_ny13_ppr_orlt, y_ny13_ppr_orlt, test_size=0.3)\n",
    "\n",
    "# Train the model.\n",
    "regr_tts_ny13 = linear_model.LinearRegression()\n",
    "lm_tts_ny13 = regr_tts_ny13.fit(X_train_tts_ny13, y_train_tts_ny13)\n",
    "\n",
    "# Make predictions on the test sample.\n",
    "predictions_tts_ny13 = regr_tts_ny13.predict(X_test_tts_ny13)\n",
    "\n",
    "# Compare predicted vs. actual.\n",
    "print('Predicted:', predictions_tts_ny13[0:5])\n",
    "print('\\n')\n",
    "print('Actual:')\n",
    "print(y_test_tts_ny13[0:5])"
   ]
  },
  {
   "cell_type": "code",
   "execution_count": 33,
   "metadata": {
    "scrolled": true
   },
   "outputs": [
    {
     "data": {
      "image/png": "[encoded data removed]",
      "text/plain": [
       "<matplotlib.figure.Figure at 0x28853517a58>"
      ]
     },
     "metadata": {},
     "output_type": "display_data"
    }
   ],
   "source": [
    "# Show scatterplot of predicted vs. actual.\n",
    "plt.scatter(y_test_tts_ny13, predictions_tts_ny13)\n",
    "plt.xlabel('Actual')\n",
    "plt.ylabel('Predicted')\n",
    "plt.show()"
   ]
  },
  {
   "cell_type": "code",
   "execution_count": 34,
   "metadata": {},
   "outputs": [
    {
     "name": "stdout",
     "output_type": "stream",
     "text": [
      "Score: 0.73050872704\n"
     ]
    }
   ],
   "source": [
    "# Model score.\n",
    "print('Score:', lm_tts_ny13.score(X_test_tts_ny13, y_test_tts_ny13))"
   ]
  },
  {
   "cell_type": "markdown",
   "metadata": {},
   "source": [
    "##### b. K-Folds Cross Validation"
   ]
  },
  {
   "cell_type": "code",
   "execution_count": 35,
   "metadata": {},
   "outputs": [
    {
     "name": "stdout",
     "output_type": "stream",
     "text": [
      "Cross validated scores: [ 0.712  0.702  0.708]\n",
      "Average score: 0.707356052874\n"
     ]
    },
    {
     "name": "stderr",
     "output_type": "stream",
     "text": [
      "C:\\Users\\James\\Anaconda3\\lib\\site-packages\\sklearn\\cross_validation.py:41: DeprecationWarning: This module was deprecated in version 0.18 in favor of the model_selection module into which all the refactored classes and functions are moved. Also note that the interface of the new CV iterators are different from that of this module. This module will be removed in 0.20.\n",
      "  \"This module will be removed in 0.20.\", DeprecationWarning)\n"
     ]
    }
   ],
   "source": [
    "# Run the default three subsets, or folds, for cross validation.\n",
    "from sklearn.cross_validation import cross_val_score, cross_val_predict\n",
    "scores_cv_ny13 = cross_val_score(lm_tts_ny13, X_ny13_ppmr_orlt, y_ny13_ppmr_orlt)\n",
    "\n",
    "# The score for each fold.\n",
    "print('Cross validated scores:', scores_cv_ny13)\n",
    "\n",
    "# Mean score.\n",
    "print('Average score:', scores_cv_ny13.mean())"
   ]
  },
  {
   "cell_type": "markdown",
   "metadata": {},
   "source": [
    "The cross validation average score - equivalent to the R-squared, or model accuracy - is slightly lower than the train/test split score."
   ]
  },
  {
   "cell_type": "code",
   "execution_count": 36,
   "metadata": {},
   "outputs": [
    {
     "data": {
      "image/png": "[encoded data removed]",
      "text/plain": [
       "<matplotlib.figure.Figure at 0x2885476b438>"
      ]
     },
     "metadata": {},
     "output_type": "display_data"
    }
   ],
   "source": [
    "# Show scatterplot of predicted vs. actual.\n",
    "predictions_cv_ny13 = cross_val_predict(lm_tts_ny13, X_ny13_ppmr_orlt, y_ny13_ppmr_orlt)\n",
    "plt.scatter(y_ny13_ppmr_orlt, predictions_cv_ny13)\n",
    "plt.xlabel('Actual')\n",
    "plt.ylabel('Predicted')\n",
    "plt.show()"
   ]
  },
  {
   "cell_type": "markdown",
   "metadata": {},
   "source": [
    "There are three times as many datapoints as train/test split since testing is performed over three folds."
   ]
  },
  {
   "cell_type": "markdown",
   "metadata": {},
   "source": [
    "#### 2. Test on New Datasets\n",
    "\n",
    "The model will be tested on different datasets, one will be the same state but different year, while the other will be a different state in the same year. The datasets will be transformed so they have similar features as the NY 2013 training data. Note that when the new datasets (i.e., tests) are not similar to the training data, the model returns erroneous results.\n",
    "\n",
    "##### a. Same State, Different Year"
   ]
  },
  {
   "cell_type": "code",
   "execution_count": 37,
   "metadata": {},
   "outputs": [
    {
     "data": {
      "text/plain": [
       "City                                       object\n",
       "Population                                float64\n",
       "Violent\\ncrime                            float64\n",
       "Murder and\\nnonnegligent\\nmanslaughter    float64\n",
       "Rape\\n(revised\\ndefinition)1              float64\n",
       "Rape\\n(legacy\\ndefinition)2               float64\n",
       "Robbery                                   float64\n",
       "Aggravated\\nassault                       float64\n",
       "Property\\ncrime                           float64\n",
       "Burglary                                  float64\n",
       "Larceny-\\ntheft                           float64\n",
       "Motor\\nvehicle\\ntheft                     float64\n",
       "Arson3                                    float64\n",
       "dtype: object"
      ]
     },
     "execution_count": 37,
     "metadata": {},
     "output_type": "execute_result"
    }
   ],
   "source": [
    "# Open the NY 2014 data.\n",
    "df_ny14 = pd.read_excel('Table_8_Offenses_Known_to_Law_Enforcement_by_New_York_by_City_2014.xls', skiprows=4)\n",
    "df_ny14.dtypes"
   ]
  },
  {
   "cell_type": "code",
   "execution_count": 38,
   "metadata": {},
   "outputs": [
    {
     "data": {
      "text/plain": [
       "population        7\n",
       "robbery           7\n",
       "property_crime    8\n",
       "dtype: int64"
      ]
     },
     "execution_count": 38,
     "metadata": {},
     "output_type": "execute_result"
    }
   ],
   "source": [
    "# Rename applicable columns.\n",
    "df_ny14.rename(columns={'Population': 'population', 'Robbery': 'robbery', 'Property\\ncrime': 'property_crime'}, inplace=True)\n",
    "df_ny14_ppr = df_ny14[['population', 'robbery', 'property_crime']]\n",
    "\n",
    "# Show null count.\n",
    "df_ny14_ppr.isnull().sum()"
   ]
  },
  {
   "cell_type": "code",
   "execution_count": 39,
   "metadata": {
    "scrolled": true
   },
   "outputs": [
    {
     "data": {
      "text/html": [
       "<div>\n",
       "<style>\n",
       "    .dataframe thead tr:only-child th {\n",
       "        text-align: right;\n",
       "    }\n",
       "\n",
       "    .dataframe thead th {\n",
       "        text-align: left;\n",
       "    }\n",
       "\n",
       "    .dataframe tbody tr th {\n",
       "        vertical-align: top;\n",
       "    }\n",
       "</style>\n",
       "<table border=\"1\" class=\"dataframe\">\n",
       "  <thead>\n",
       "    <tr style=\"text-align: right;\">\n",
       "      <th></th>\n",
       "      <th>population</th>\n",
       "      <th>robbery</th>\n",
       "      <th>property_crime</th>\n",
       "    </tr>\n",
       "  </thead>\n",
       "  <tbody>\n",
       "    <tr>\n",
       "      <th>364</th>\n",
       "      <td>10739.0</td>\n",
       "      <td>1.0</td>\n",
       "      <td>NaN</td>\n",
       "    </tr>\n",
       "    <tr>\n",
       "      <th>369</th>\n",
       "      <td>NaN</td>\n",
       "      <td>NaN</td>\n",
       "      <td>NaN</td>\n",
       "    </tr>\n",
       "    <tr>\n",
       "      <th>370</th>\n",
       "      <td>NaN</td>\n",
       "      <td>NaN</td>\n",
       "      <td>NaN</td>\n",
       "    </tr>\n",
       "    <tr>\n",
       "      <th>371</th>\n",
       "      <td>NaN</td>\n",
       "      <td>NaN</td>\n",
       "      <td>NaN</td>\n",
       "    </tr>\n",
       "    <tr>\n",
       "      <th>372</th>\n",
       "      <td>NaN</td>\n",
       "      <td>NaN</td>\n",
       "      <td>NaN</td>\n",
       "    </tr>\n",
       "    <tr>\n",
       "      <th>373</th>\n",
       "      <td>NaN</td>\n",
       "      <td>NaN</td>\n",
       "      <td>NaN</td>\n",
       "    </tr>\n",
       "    <tr>\n",
       "      <th>374</th>\n",
       "      <td>NaN</td>\n",
       "      <td>NaN</td>\n",
       "      <td>NaN</td>\n",
       "    </tr>\n",
       "    <tr>\n",
       "      <th>375</th>\n",
       "      <td>NaN</td>\n",
       "      <td>NaN</td>\n",
       "      <td>NaN</td>\n",
       "    </tr>\n",
       "  </tbody>\n",
       "</table>\n",
       "</div>"
      ],
      "text/plain": [
       "     population  robbery  property_crime\n",
       "364     10739.0      1.0             NaN\n",
       "369         NaN      NaN             NaN\n",
       "370         NaN      NaN             NaN\n",
       "371         NaN      NaN             NaN\n",
       "372         NaN      NaN             NaN\n",
       "373         NaN      NaN             NaN\n",
       "374         NaN      NaN             NaN\n",
       "375         NaN      NaN             NaN"
      ]
     },
     "execution_count": 39,
     "metadata": {},
     "output_type": "execute_result"
    }
   ],
   "source": [
    "# Check the null rows.\n",
    "df_ny14_ppr[df_ny14_ppr.isnull().any(axis=1)]"
   ]
  },
  {
   "cell_type": "code",
   "execution_count": 40,
   "metadata": {},
   "outputs": [
    {
     "data": {
      "text/html": [
       "<div>\n",
       "<style>\n",
       "    .dataframe thead tr:only-child th {\n",
       "        text-align: right;\n",
       "    }\n",
       "\n",
       "    .dataframe thead th {\n",
       "        text-align: left;\n",
       "    }\n",
       "\n",
       "    .dataframe tbody tr th {\n",
       "        vertical-align: top;\n",
       "    }\n",
       "</style>\n",
       "<table border=\"1\" class=\"dataframe\">\n",
       "  <thead>\n",
       "    <tr style=\"text-align: right;\">\n",
       "      <th></th>\n",
       "      <th>population</th>\n",
       "      <th>robbery</th>\n",
       "      <th>property_crime</th>\n",
       "    </tr>\n",
       "  </thead>\n",
       "  <tbody>\n",
       "    <tr>\n",
       "      <th>10</th>\n",
       "      <td>2250.0</td>\n",
       "      <td>0.0</td>\n",
       "      <td>0.0</td>\n",
       "    </tr>\n",
       "    <tr>\n",
       "      <th>169</th>\n",
       "      <td>1178.0</td>\n",
       "      <td>0.0</td>\n",
       "      <td>0.0</td>\n",
       "    </tr>\n",
       "    <tr>\n",
       "      <th>238</th>\n",
       "      <td>1084.0</td>\n",
       "      <td>0.0</td>\n",
       "      <td>0.0</td>\n",
       "    </tr>\n",
       "    <tr>\n",
       "      <th>301</th>\n",
       "      <td>857.0</td>\n",
       "      <td>0.0</td>\n",
       "      <td>0.0</td>\n",
       "    </tr>\n",
       "    <tr>\n",
       "      <th>308</th>\n",
       "      <td>1429.0</td>\n",
       "      <td>0.0</td>\n",
       "      <td>0.0</td>\n",
       "    </tr>\n",
       "    <tr>\n",
       "      <th>335</th>\n",
       "      <td>612.0</td>\n",
       "      <td>0.0</td>\n",
       "      <td>0.0</td>\n",
       "    </tr>\n",
       "  </tbody>\n",
       "</table>\n",
       "</div>"
      ],
      "text/plain": [
       "     population  robbery  property_crime\n",
       "10       2250.0      0.0             0.0\n",
       "169      1178.0      0.0             0.0\n",
       "238      1084.0      0.0             0.0\n",
       "301       857.0      0.0             0.0\n",
       "308      1429.0      0.0             0.0\n",
       "335       612.0      0.0             0.0"
      ]
     },
     "execution_count": 40,
     "metadata": {},
     "output_type": "execute_result"
    }
   ],
   "source": [
    "# Remove rows with nulls to prevent errors with log transformation.\n",
    "df_ny14_ppr = df_ny14_ppr.dropna()\n",
    "\n",
    "# Check for zeroes in property_crime.\n",
    "df_ny14_ppr[df_ny14_ppr['property_crime'] == 0]"
   ]
  },
  {
   "cell_type": "code",
   "execution_count": 41,
   "metadata": {
    "collapsed": true
   },
   "outputs": [],
   "source": [
    "# Remove rows with zeroes in property_crime to prevent errors with log transformation.\n",
    "df_ny14_ppr_nzpc = df_ny14_ppr[df_ny14_ppr['property_crime'] != 0]"
   ]
  },
  {
   "cell_type": "code",
   "execution_count": 42,
   "metadata": {},
   "outputs": [
    {
     "data": {
      "image/png": "[encoded data removed]",
      "text/plain": [
       "<matplotlib.figure.Figure at 0x288548e9fd0>"
      ]
     },
     "metadata": {},
     "output_type": "display_data"
    }
   ],
   "source": [
    "# Check for outliers.\n",
    "fig = plt.figure(figsize=(20, 15))\n",
    "ax1 = fig.add_subplot(221)\n",
    "ax2 = fig.add_subplot(222)\n",
    "ax3 = fig.add_subplot(223)\n",
    "\n",
    "sns.violinplot(y='property_crime', palette='muted', data=df_ny14_ppr_nzpc, ax=ax1)\n",
    "sns.violinplot(y='population', palette='muted', data=df_ny14_ppr_nzpc, ax=ax2)\n",
    "sns.violinplot(y='robbery', palette='muted', data=df_ny14_ppr_nzpc, ax=ax3)\n",
    "plt.show()"
   ]
  },
  {
   "cell_type": "code",
   "execution_count": 43,
   "metadata": {},
   "outputs": [
    {
     "name": "stdout",
     "output_type": "stream",
     "text": [
      "227    135747.0\n",
      "38      12449.0\n",
      "283      8856.0\n",
      "326      5755.0\n",
      "4        3888.0\n",
      "57       2699.0\n",
      "229      2641.0\n",
      "299      2518.0\n",
      "130      2430.0\n",
      "338      2366.0\n",
      "Name: property_crime, dtype: float64\n",
      "\n",
      "\n",
      "227    8473938.0\n",
      "38      258419.0\n",
      "283     210347.0\n",
      "366     200624.0\n",
      "326     144534.0\n",
      "9       118860.0\n",
      "4        98595.0\n",
      "130      97144.0\n",
      "279      88881.0\n",
      "62       81435.0\n",
      "Name: population, dtype: float64\n",
      "\n",
      "\n",
      "227    16581.0\n",
      "38      1277.0\n",
      "283      698.0\n",
      "326      406.0\n",
      "366      358.0\n",
      "147      248.0\n",
      "4        237.0\n",
      "218      195.0\n",
      "229      161.0\n",
      "299      158.0\n",
      "Name: robbery, dtype: float64\n"
     ]
    }
   ],
   "source": [
    "# Show top outliers.\n",
    "print(df_ny14_ppr_nzpc['property_crime'].sort_values(ascending=False).head(10))\n",
    "print('\\n')\n",
    "print(df_ny14_ppr_nzpc['population'].sort_values(ascending=False).head(10))\n",
    "print('\\n')\n",
    "print(df_ny14_ppr_nzpc['robbery'].sort_values(ascending=False).head(10))"
   ]
  },
  {
   "cell_type": "code",
   "execution_count": 44,
   "metadata": {},
   "outputs": [
    {
     "name": "stderr",
     "output_type": "stream",
     "text": [
      "C:\\Users\\James\\Anaconda3\\lib\\site-packages\\ipykernel_launcher.py:5: SettingWithCopyWarning: \n",
      "A value is trying to be set on a copy of a slice from a DataFrame.\n",
      "Try using .loc[row_indexer,col_indexer] = value instead\n",
      "\n",
      "See the caveats in the documentation: http://pandas.pydata.org/pandas-docs/stable/indexing.html#indexing-view-versus-copy\n",
      "  \"\"\"\n",
      "C:\\Users\\James\\Anaconda3\\lib\\site-packages\\ipykernel_launcher.py:6: SettingWithCopyWarning: \n",
      "A value is trying to be set on a copy of a slice from a DataFrame.\n",
      "Try using .loc[row_indexer,col_indexer] = value instead\n",
      "\n",
      "See the caveats in the documentation: http://pandas.pydata.org/pandas-docs/stable/indexing.html#indexing-view-versus-copy\n",
      "  \n"
     ]
    }
   ],
   "source": [
    "# Remove outliers.\n",
    "df_ny14_ppr_or = df_ny14_ppr_nzpc[df_ny14_ppr_nzpc['population']<100000]\n",
    "\n",
    "# Create the same features as NY 2013 and create the NY 2014 dataframe based on these features.\n",
    "df_ny14_ppr_or['population_squared'] = df_ny14_ppr_or['population'] * df_ny14_ppr_or['population']\n",
    "df_ny14_ppr_or['robbery_category'] = np.where(df_ny14_ppr_or['robbery']>0, 1, 0)\n",
    "\n",
    "# Set the variables.\n",
    "y_ny14_ppr_orlt = np.log(df_ny14_ppr_or.loc[:,'property_crime'])\n",
    "X_ny14_ppr_orlt = df_ny14_ppr_or.loc[:, ['population','population_squared', 'robbery_category']]"
   ]
  },
  {
   "cell_type": "code",
   "execution_count": 45,
   "metadata": {},
   "outputs": [
    {
     "name": "stdout",
     "output_type": "stream",
     "text": [
      "Predicted: [ 3.202  4.45   3.102  3.297  6.715]\n",
      "\n",
      "\n",
      "Actual:\n",
      "0    2.397895\n",
      "1    3.891820\n",
      "2    0.000000\n",
      "3    2.833213\n",
      "4    8.265650\n",
      "Name: property_crime, dtype: float64\n"
     ]
    }
   ],
   "source": [
    "# Test the NY 2013 train/test split model on the NY 2014 data.\n",
    "predictions_ny14_ppr_orlt = regr_tts_ny13.predict(X_ny14_ppr_orlt)\n",
    "\n",
    "# Show the predicted vs. actual values.\n",
    "print('Predicted:', predictions_ny14_ppr_orlt[0:5])\n",
    "print('\\n')\n",
    "print('Actual:')\n",
    "print(y_ny14_ppr_orlt[0:5])"
   ]
  },
  {
   "cell_type": "code",
   "execution_count": 46,
   "metadata": {},
   "outputs": [
    {
     "data": {
      "image/png": "[encoded data removed]",
      "text/plain": [
       "<matplotlib.figure.Figure at 0x288548e9080>"
      ]
     },
     "metadata": {},
     "output_type": "display_data"
    }
   ],
   "source": [
    "# Plot the comparison.\n",
    "plt.scatter(y_ny14_ppr_orlt, predictions_ny14_ppr_orlt)\n",
    "plt.xlabel('Actual')\n",
    "plt.ylabel('Predicted')\n",
    "plt.show()"
   ]
  },
  {
   "cell_type": "code",
   "execution_count": 47,
   "metadata": {},
   "outputs": [
    {
     "name": "stdout",
     "output_type": "stream",
     "text": [
      "Score: 0.668085601175\n"
     ]
    }
   ],
   "source": [
    "# The NY 2013 model's score on the NY 2014 data. \n",
    "print('Score:', lm_tts_ny13.score(X_ny14_ppr_orlt, y_ny14_ppr_orlt))"
   ]
  },
  {
   "cell_type": "code",
   "execution_count": 48,
   "metadata": {},
   "outputs": [
    {
     "name": "stdout",
     "output_type": "stream",
     "text": [
      "Cross validated scores: [ 0.699  0.679  0.648]\n",
      "Average score: 0.675283782445\n"
     ]
    }
   ],
   "source": [
    "# Cross validate NY 2014 data with NY 2013 model.\n",
    "scores_cv_ny14 = cross_val_score(lm_tts_ny13, X_ny14_ppr_orlt, y_ny14_ppr_orlt)\n",
    "\n",
    "# The score for each fold.\n",
    "print('Cross validated scores:', scores_cv_ny14)\n",
    "\n",
    "# Mean score.\n",
    "print('Average score:', scores_cv_ny14.mean())"
   ]
  },
  {
   "cell_type": "markdown",
   "metadata": {},
   "source": [
    "##### b. Different State, Same Year"
   ]
  },
  {
   "cell_type": "code",
   "execution_count": 49,
   "metadata": {},
   "outputs": [
    {
     "data": {
      "text/plain": [
       "City                                       object\n",
       "Population                                float64\n",
       "Violent\\ncrime                            float64\n",
       "Murder and\\nnonnegligent\\nmanslaughter    float64\n",
       "Rape\\n(revised\\ndefinition)1              float64\n",
       "Rape\\n(legacy\\ndefinition)2               float64\n",
       "Robbery                                   float64\n",
       "Aggravated\\nassault                       float64\n",
       "Property\\ncrime                           float64\n",
       "Burglary                                  float64\n",
       "Larceny-\\ntheft                           float64\n",
       "Motor\\nvehicle\\ntheft                     float64\n",
       "Arson3                                    float64\n",
       "Unnamed: 13                               float64\n",
       "Unnamed: 14                               float64\n",
       "Unnamed: 15                                object\n",
       "dtype: object"
      ]
     },
     "execution_count": 49,
     "metadata": {},
     "output_type": "execute_result"
    }
   ],
   "source": [
    "# Open the AL 2013 data.\n",
    "df_al13 = pd.read_excel('table_8_offenses_known_to_law_enforcement_alabama_by_city_2013.xls', skiprows=4)\n",
    "df_al13.dtypes"
   ]
  },
  {
   "cell_type": "code",
   "execution_count": 50,
   "metadata": {},
   "outputs": [
    {
     "data": {
      "text/plain": [
       "population        5\n",
       "robbery           5\n",
       "property_crime    5\n",
       "dtype: int64"
      ]
     },
     "execution_count": 50,
     "metadata": {},
     "output_type": "execute_result"
    }
   ],
   "source": [
    "# Rename applicable columns.\n",
    "df_al13.rename(columns={'Population': 'population', 'Robbery': 'robbery', 'Property\\ncrime': 'property_crime'}, inplace=True)\n",
    "df_al13_ppr = df_al13[['population', 'robbery', 'property_crime']]\n",
    "\n",
    "# Show null count.\n",
    "df_al13_ppr.isnull().sum()"
   ]
  },
  {
   "cell_type": "code",
   "execution_count": 51,
   "metadata": {},
   "outputs": [
    {
     "data": {
      "text/html": [
       "<div>\n",
       "<style>\n",
       "    .dataframe thead tr:only-child th {\n",
       "        text-align: right;\n",
       "    }\n",
       "\n",
       "    .dataframe thead th {\n",
       "        text-align: left;\n",
       "    }\n",
       "\n",
       "    .dataframe tbody tr th {\n",
       "        vertical-align: top;\n",
       "    }\n",
       "</style>\n",
       "<table border=\"1\" class=\"dataframe\">\n",
       "  <thead>\n",
       "    <tr style=\"text-align: right;\">\n",
       "      <th></th>\n",
       "      <th>population</th>\n",
       "      <th>robbery</th>\n",
       "      <th>property_crime</th>\n",
       "    </tr>\n",
       "  </thead>\n",
       "  <tbody>\n",
       "    <tr>\n",
       "      <th>196</th>\n",
       "      <td>NaN</td>\n",
       "      <td>NaN</td>\n",
       "      <td>NaN</td>\n",
       "    </tr>\n",
       "    <tr>\n",
       "      <th>197</th>\n",
       "      <td>NaN</td>\n",
       "      <td>NaN</td>\n",
       "      <td>NaN</td>\n",
       "    </tr>\n",
       "    <tr>\n",
       "      <th>198</th>\n",
       "      <td>NaN</td>\n",
       "      <td>NaN</td>\n",
       "      <td>NaN</td>\n",
       "    </tr>\n",
       "    <tr>\n",
       "      <th>199</th>\n",
       "      <td>NaN</td>\n",
       "      <td>NaN</td>\n",
       "      <td>NaN</td>\n",
       "    </tr>\n",
       "    <tr>\n",
       "      <th>200</th>\n",
       "      <td>NaN</td>\n",
       "      <td>NaN</td>\n",
       "      <td>NaN</td>\n",
       "    </tr>\n",
       "  </tbody>\n",
       "</table>\n",
       "</div>"
      ],
      "text/plain": [
       "     population  robbery  property_crime\n",
       "196         NaN      NaN             NaN\n",
       "197         NaN      NaN             NaN\n",
       "198         NaN      NaN             NaN\n",
       "199         NaN      NaN             NaN\n",
       "200         NaN      NaN             NaN"
      ]
     },
     "execution_count": 51,
     "metadata": {},
     "output_type": "execute_result"
    }
   ],
   "source": [
    "# Check the null rows.\n",
    "df_al13_ppr[df_al13_ppr.isnull().any(axis=1)]"
   ]
  },
  {
   "cell_type": "code",
   "execution_count": 52,
   "metadata": {},
   "outputs": [
    {
     "data": {
      "text/html": [
       "<div>\n",
       "<style>\n",
       "    .dataframe thead tr:only-child th {\n",
       "        text-align: right;\n",
       "    }\n",
       "\n",
       "    .dataframe thead th {\n",
       "        text-align: left;\n",
       "    }\n",
       "\n",
       "    .dataframe tbody tr th {\n",
       "        vertical-align: top;\n",
       "    }\n",
       "</style>\n",
       "<table border=\"1\" class=\"dataframe\">\n",
       "  <thead>\n",
       "    <tr style=\"text-align: right;\">\n",
       "      <th></th>\n",
       "      <th>population</th>\n",
       "      <th>robbery</th>\n",
       "      <th>property_crime</th>\n",
       "    </tr>\n",
       "  </thead>\n",
       "  <tbody>\n",
       "    <tr>\n",
       "      <th>74</th>\n",
       "      <td>7820.0</td>\n",
       "      <td>0.0</td>\n",
       "      <td>0.0</td>\n",
       "    </tr>\n",
       "  </tbody>\n",
       "</table>\n",
       "</div>"
      ],
      "text/plain": [
       "    population  robbery  property_crime\n",
       "74      7820.0      0.0             0.0"
      ]
     },
     "execution_count": 52,
     "metadata": {},
     "output_type": "execute_result"
    }
   ],
   "source": [
    "# Remove rows with nulls to prevent errors with log transformation.\n",
    "df_al13_ppr = df_al13_ppr.dropna()\n",
    "\n",
    "# Check for zeroes in property_crime.\n",
    "df_al13_ppr[df_al13_ppr['property_crime'] == 0]"
   ]
  },
  {
   "cell_type": "code",
   "execution_count": 53,
   "metadata": {
    "collapsed": true
   },
   "outputs": [],
   "source": [
    "# Remove rows with zeroes in property_crime to prevent errors with log transformation.\n",
    "df_al13_ppr_nzpc = df_al13_ppr[df_al13_ppr['property_crime'] != 0]"
   ]
  },
  {
   "cell_type": "code",
   "execution_count": 54,
   "metadata": {},
   "outputs": [
    {
     "data": {
      "image/png": "[encoded data removed]",
      "text/plain": [
       "<matplotlib.figure.Figure at 0x2885362c208>"
      ]
     },
     "metadata": {},
     "output_type": "display_data"
    }
   ],
   "source": [
    "# Check for outliers.\n",
    "fig = plt.figure(figsize=(20, 15))\n",
    "ax1 = fig.add_subplot(221)\n",
    "ax2 = fig.add_subplot(222)\n",
    "ax3 = fig.add_subplot(223)\n",
    "\n",
    "sns.violinplot(y='property_crime', palette='muted', data=df_al13_ppr_nzpc, ax=ax1)\n",
    "sns.violinplot(y='population', palette='muted', data=df_al13_ppr_nzpc, ax=ax2)\n",
    "sns.violinplot(y='robbery', palette='muted', data=df_al13_ppr_nzpc, ax=ax3)\n",
    "plt.show()"
   ]
  },
  {
   "cell_type": "code",
   "execution_count": 55,
   "metadata": {},
   "outputs": [
    {
     "name": "stdout",
     "output_type": "stream",
     "text": [
      "20     14157.0\n",
      "117    13011.0\n",
      "90      9216.0\n",
      "182     4512.0\n",
      "19      3199.0\n",
      "68      2934.0\n",
      "88      2596.0\n",
      "47      2553.0\n",
      "50      2502.0\n",
      "141     2404.0\n",
      "Name: property_crime, dtype: float64\n",
      "\n",
      "\n",
      "117    250557.0\n",
      "20     212001.0\n",
      "90     184738.0\n",
      "182     94126.0\n",
      "88      84139.0\n",
      "50      67811.0\n",
      "16      57970.0\n",
      "47      56091.0\n",
      "110     45540.0\n",
      "65      39481.0\n",
      "Name: population, dtype: float64\n",
      "\n",
      "\n",
      "20     969.0\n",
      "117    459.0\n",
      "90     391.0\n",
      "182    161.0\n",
      "19     161.0\n",
      "148    134.0\n",
      "68     104.0\n",
      "7       78.0\n",
      "50      78.0\n",
      "60      67.0\n",
      "Name: robbery, dtype: float64\n"
     ]
    }
   ],
   "source": [
    "# Show top outliers.\n",
    "print(df_al13_ppr_nzpc['property_crime'].sort_values(ascending=False).head(10))\n",
    "print('\\n')\n",
    "print(df_al13_ppr_nzpc['population'].sort_values(ascending=False).head(10))\n",
    "print('\\n')\n",
    "print(df_al13_ppr_nzpc['robbery'].sort_values(ascending=False).head(10))"
   ]
  },
  {
   "cell_type": "code",
   "execution_count": 56,
   "metadata": {},
   "outputs": [
    {
     "name": "stderr",
     "output_type": "stream",
     "text": [
      "C:\\Users\\James\\Anaconda3\\lib\\site-packages\\ipykernel_launcher.py:5: SettingWithCopyWarning: \n",
      "A value is trying to be set on a copy of a slice from a DataFrame.\n",
      "Try using .loc[row_indexer,col_indexer] = value instead\n",
      "\n",
      "See the caveats in the documentation: http://pandas.pydata.org/pandas-docs/stable/indexing.html#indexing-view-versus-copy\n",
      "  \"\"\"\n",
      "C:\\Users\\James\\Anaconda3\\lib\\site-packages\\ipykernel_launcher.py:6: SettingWithCopyWarning: \n",
      "A value is trying to be set on a copy of a slice from a DataFrame.\n",
      "Try using .loc[row_indexer,col_indexer] = value instead\n",
      "\n",
      "See the caveats in the documentation: http://pandas.pydata.org/pandas-docs/stable/indexing.html#indexing-view-versus-copy\n",
      "  \n"
     ]
    }
   ],
   "source": [
    "# Remove outliers.\n",
    "df_al13_ppr_or = df_al13_ppr_nzpc[df_al13_ppr_nzpc['population']<100000]\n",
    "\n",
    "# Create the same features as NY 2013 and create the AL 2013 dataframe based on these features.\n",
    "df_al13_ppr_or['population_squared'] = df_al13_ppr_or['population'] * df_al13_ppr_or['population']\n",
    "df_al13_ppr_or['robbery_category'] = np.where(df_al13_ppr_or['robbery']>0, 1, 0)\n",
    "\n",
    "# Set the variables.\n",
    "y_al13_ppr_orlt = np.log(df_al13_ppr_or['property_crime'])\n",
    "X_al13_ppr_orlt = df_al13_ppr_or[['population','population_squared', 'robbery_category']]"
   ]
  },
  {
   "cell_type": "code",
   "execution_count": 57,
   "metadata": {},
   "outputs": [
    {
     "name": "stdout",
     "output_type": "stream",
     "text": [
      "Predicted: [ 4.457  4.63   3.094  6.569  5.498]\n",
      "\n",
      "\n",
      "Actual:\n",
      "0    4.143135\n",
      "1    5.771441\n",
      "2    3.218876\n",
      "3    6.461468\n",
      "4    6.493754\n",
      "Name: property_crime, dtype: float64\n"
     ]
    }
   ],
   "source": [
    "# Test the NY 2013 train/test split model on the AL 2013 data.\n",
    "predictions_al13_ppr_orlt = regr_tts_ny13.predict(X_al13_ppr_orlt)\n",
    "\n",
    "# Show the predicted vs. actual values.\n",
    "print('Predicted:', predictions_al13_ppr_orlt[0:5])\n",
    "print('\\n')\n",
    "print('Actual:')\n",
    "print(y_al13_ppr_orlt[0:5])"
   ]
  },
  {
   "cell_type": "code",
   "execution_count": 58,
   "metadata": {
    "scrolled": true
   },
   "outputs": [
    {
     "data": {
      "image/png": "[encoded data removed]",
      "text/plain": [
       "<matplotlib.figure.Figure at 0x2885362c588>"
      ]
     },
     "metadata": {},
     "output_type": "display_data"
    }
   ],
   "source": [
    "# Plot the comparison.\n",
    "plt.scatter(y_al13_ppr_orlt, predictions_al13_ppr_orlt)\n",
    "plt.xlabel('Actual')\n",
    "plt.ylabel('Predicted')\n",
    "plt.show()"
   ]
  },
  {
   "cell_type": "code",
   "execution_count": 59,
   "metadata": {},
   "outputs": [
    {
     "name": "stdout",
     "output_type": "stream",
     "text": [
      "Score: 0.660421304149\n"
     ]
    }
   ],
   "source": [
    "# The NY 2013 model's score on AL 2013 data. \n",
    "print('Score:', lm_tts_ny13.score(X_al13_ppr_orlt, y_al13_ppr_orlt))"
   ]
  },
  {
   "cell_type": "code",
   "execution_count": 60,
   "metadata": {},
   "outputs": [
    {
     "name": "stdout",
     "output_type": "stream",
     "text": [
      "Cross validated scores: [ 0.757  0.805  0.749]\n",
      "Average score: 0.77054364969\n"
     ]
    }
   ],
   "source": [
    "# Cross validate AL 2013 data with NY 2013 model.\n",
    "scores_cv_al13 = cross_val_score(lm_tts_ny13, X_al13_ppr_orlt, y_al13_ppr_orlt)\n",
    "\n",
    "# The score for each fold.\n",
    "print('Cross validated scores:', scores_cv_al13)\n",
    "\n",
    "# Mean score.\n",
    "print('Average score:', scores_cv_al13.mean())"
   ]
  },
  {
   "cell_type": "markdown",
   "metadata": {},
   "source": [
    "A summary of the NY 2013 model test scores is shown below:\n",
    "\n",
    "Method|NY 2013|NY 2014|AL 2013\n",
    "------|-------|-------|-------\n",
    "TTS   |  0.731|  0.668|  0.660\n",
    "CV    |  0.707|  0.675|  0.771\n",
    "\n",
    "All scores are roughly within the same range, which indicates the model is somewhat consistent in predicting property crime for different datasets. Also, cross validation generally improves the accuracy of the model."
   ]
  },
  {
   "cell_type": "code",
   "execution_count": null,
   "metadata": {
    "collapsed": true
   },
   "outputs": [],
   "source": []
  }
 ],
 "metadata": {
  "kernelspec": {
   "display_name": "Python 3",
   "language": "python",
   "name": "python3"
  },
  "language_info": {
   "codemirror_mode": {
    "name": "ipython",
    "version": 3
   },
   "file_extension": ".py",
   "mimetype": "text/x-python",
   "name": "python",
   "nbconvert_exporter": "python",
   "pygments_lexer": "ipython3",
   "version": "3.6.3"
  }
 },
 "nbformat": 4,
 "nbformat_minor": 2
}
